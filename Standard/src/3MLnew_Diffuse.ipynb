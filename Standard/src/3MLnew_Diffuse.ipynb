{
 "cells": [
  {
   "cell_type": "code",
   "execution_count": null,
   "metadata": {},
   "outputs": [],
   "source": [
    "import matplotlib, sys,  os\n",
    "os.environ['OPENBLAS_NUM_THREADS'] = '1'\n",
    "os.environ['OMP_NUM_THREADS'] = '1'\n",
    "os.environ['MKL_NUM_THREADS'] = '1'\n",
    "os.environ['NUMEXPR_NUM_THREADS'] = '1'\n",
    "os.environ[\"KMP_DUPLICATE_LIB_OK\"]=\"TRUE\"\n",
    "sys.path.append(\"./mylib/\")\n",
    "\n",
    "import numpy as np\n",
    "matplotlib.use('Agg')\n",
    "import matplotlib.pyplot as plt\n",
    "\n",
    "from threeML import *\n",
    "from WCDA_hal import HAL, HealpixConeROI, HealpixMapROI\n",
    "import traceback\n",
    "import warnings\n",
    "# warnings.simplefilter(\"ignore\")\n",
    "silence_warnings()\n",
    "from threeML import silence_progress_bars, activate_progress_bars, toggle_progress_bars\n",
    "from threeML.utils.progress_bar import trange\n",
    "\n",
    "from astropy.io import fits\n",
    "from astropy.wcs import WCS\n",
    "from astropy.coordinates import SkyCoord\n",
    "from astropy import units as u\n",
    "# from astropy.visualization import astropy_mpl_style, imshAow_norm\n",
    "from astropy.coordinates import Angle\n",
    "\n",
    "import healpy as hp\n",
    "\n",
    "from tqdm import tqdm\n",
    "\n",
    "# from mylib import *\n",
    "import mylib as my\n",
    "from importlib import reload"
   ]
  },
  {
   "cell_type": "code",
   "execution_count": 60,
   "metadata": {},
   "outputs": [
    {
     "name": "stderr",
     "output_type": "stream",
     "text": [
      "Load sub from Myspeedup: 100%|██████████| 37/37 [00:13<00:00, 107.08it/s]"
     ]
    },
    {
     "data": {
      "text/html": [
       "<pre style=\"white-space:pre;overflow-x:auto;line-height:normal;font-family:Menlo,'DejaVu Sans Mono',consolas,'Courier New',monospace\"><span style=\"color: #00ff00; text-decoration-color: #00ff00\">17:40:27 </span><span style=\"color: #00ffaf; text-decoration-color: #00ffaf\">INFO    </span> <span style=\"color: #c6c6c6; text-decoration-color: #c6c6c6; font-weight: bold\"> Region of Interest:                                                                   </span><a href=\"file:///data/home/cwy/.mylib/miniconda3/envs/3ML/lib/python3.9/site-packages/WCDA_hal/HAL.py\" target=\"_blank\"><span style=\"color: #7f7f7f; text-decoration-color: #7f7f7f\">HAL.py</span></a><span style=\"color: #7f7f7f; text-decoration-color: #7f7f7f\">:</span><a href=\"file:///data/home/cwy/.mylib/miniconda3/envs/3ML/lib/python3.9/site-packages/WCDA_hal/HAL.py#292\" target=\"_blank\"><span style=\"color: #7f7f7f; text-decoration-color: #7f7f7f\">292</span></a>\n",
       "</pre>\n"
      ],
      "text/plain": [
       "\u001b[38;5;46m17:40:27\u001b[0m\u001b[38;5;46m \u001b[0m\u001b[38;5;49mINFO    \u001b[0m \u001b[1;38;5;251m Region of Interest:                                                                  \u001b[0m\u001b[1;38;5;251m \u001b[0m\u001b]8;id=708049;file:///data/home/cwy/.mylib/miniconda3/envs/3ML/lib/python3.9/site-packages/WCDA_hal/HAL.py\u001b\\\u001b[2mHAL.py\u001b[0m\u001b]8;;\u001b\\\u001b[2m:\u001b[0m\u001b]8;id=864808;file:///data/home/cwy/.mylib/miniconda3/envs/3ML/lib/python3.9/site-packages/WCDA_hal/HAL.py#292\u001b\\\u001b[2m292\u001b[0m\u001b]8;;\u001b\\\n"
      ]
     },
     "metadata": {},
     "output_type": "display_data"
    },
    {
     "data": {
      "text/html": [
       "<pre style=\"white-space:pre;overflow-x:auto;line-height:normal;font-family:Menlo,'DejaVu Sans Mono',consolas,'Courier New',monospace\"><span style=\"color: #00ff00; text-decoration-color: #00ff00\">         </span><span style=\"color: #00ffaf; text-decoration-color: #00ffaf\">INFO    </span> <span style=\"color: #c6c6c6; text-decoration-color: #c6c6c6; font-weight: bold\"> -------------------                                                                   </span><a href=\"file:///data/home/cwy/.mylib/miniconda3/envs/3ML/lib/python3.9/site-packages/WCDA_hal/HAL.py\" target=\"_blank\"><span style=\"color: #7f7f7f; text-decoration-color: #7f7f7f\">HAL.py</span></a><span style=\"color: #7f7f7f; text-decoration-color: #7f7f7f\">:</span><a href=\"file:///data/home/cwy/.mylib/miniconda3/envs/3ML/lib/python3.9/site-packages/WCDA_hal/HAL.py#293\" target=\"_blank\"><span style=\"color: #7f7f7f; text-decoration-color: #7f7f7f\">293</span></a>\n",
       "</pre>\n"
      ],
      "text/plain": [
       "\u001b[38;5;46m        \u001b[0m\u001b[38;5;46m \u001b[0m\u001b[38;5;49mINFO    \u001b[0m \u001b[1;38;5;251m -------------------                                                                  \u001b[0m\u001b[1;38;5;251m \u001b[0m\u001b]8;id=731382;file:///data/home/cwy/.mylib/miniconda3/envs/3ML/lib/python3.9/site-packages/WCDA_hal/HAL.py\u001b\\\u001b[2mHAL.py\u001b[0m\u001b]8;;\u001b\\\u001b[2m:\u001b[0m\u001b]8;id=123447;file:///data/home/cwy/.mylib/miniconda3/envs/3ML/lib/python3.9/site-packages/WCDA_hal/HAL.py#293\u001b\\\u001b[2m293\u001b[0m\u001b]8;;\u001b\\\n"
      ]
     },
     "metadata": {},
     "output_type": "display_data"
    },
    {
     "data": {
      "text/html": [
       "<pre style=\"white-space:pre;overflow-x:auto;line-height:normal;font-family:Menlo,'DejaVu Sans Mono',consolas,'Courier New',monospace\"><span style=\"color: #00ff00; text-decoration-color: #00ff00\">         </span><span style=\"color: #00ffaf; text-decoration-color: #00ffaf\">INFO    </span> <span style=\"color: #c6c6c6; text-decoration-color: #c6c6c6; font-weight: bold\"> HealpixMapROI: Center (R.A., Dec) = (</span><span style=\"color: #c0c0c0; text-decoration-color: #c0c0c0; font-weight: bold\">276.882</span><span style=\"color: #c6c6c6; text-decoration-color: #c6c6c6; font-weight: bold\">, </span><span style=\"color: #c0c0c0; text-decoration-color: #c0c0c0; font-weight: bold\">-11.489</span><span style=\"color: #c6c6c6; text-decoration-color: #c6c6c6; font-weight: bold\">), model radius:     </span><a href=\"file:///data/home/cwy/.mylib/miniconda3/envs/3ML/lib/python3.9/site-packages/WCDA_hal/region_of_interest/healpix_map_roi.py\" target=\"_blank\"><span style=\"color: #7f7f7f; text-decoration-color: #7f7f7f\">healpix_map_roi.py</span></a><span style=\"color: #7f7f7f; text-decoration-color: #7f7f7f\">:</span><a href=\"file:///data/home/cwy/.mylib/miniconda3/envs/3ML/lib/python3.9/site-packages/WCDA_hal/region_of_interest/healpix_map_roi.py#134\" target=\"_blank\"><span style=\"color: #7f7f7f; text-decoration-color: #7f7f7f\">134</span></a>\n",
       "<span style=\"color: #00ff00; text-decoration-color: #00ff00\">         </span>         <span style=\"color: #c0c0c0; text-decoration-color: #c0c0c0; font-weight: bold\">7.500</span><span style=\"color: #c6c6c6; text-decoration-color: #c6c6c6; font-weight: bold\"> deg, display radius: </span><span style=\"color: #c0c0c0; text-decoration-color: #c0c0c0; font-weight: bold\">7.000</span><span style=\"color: #c6c6c6; text-decoration-color: #c6c6c6; font-weight: bold\"> deg, threshold = </span><span style=\"color: #c0c0c0; text-decoration-color: #c0c0c0; font-weight: bold\">0.50</span><span style=\"color: #c6c6c6; text-decoration-color: #c6c6c6; font-weight: bold\">                     </span><span style=\"color: #7f7f7f; text-decoration-color: #7f7f7f\">                      </span>\n",
       "</pre>\n"
      ],
      "text/plain": [
       "\u001b[38;5;46m        \u001b[0m\u001b[38;5;46m \u001b[0m\u001b[38;5;49mINFO    \u001b[0m \u001b[1;38;5;251m HealpixMapROI: Center \u001b[0m\u001b[1;38;5;251m(\u001b[0m\u001b[1;38;5;251mR.A., Dec\u001b[0m\u001b[1;38;5;251m)\u001b[0m\u001b[1;38;5;251m = \u001b[0m\u001b[1;38;5;251m(\u001b[0m\u001b[1;37m276.882\u001b[0m\u001b[1;38;5;251m, \u001b[0m\u001b[1;37m-11.489\u001b[0m\u001b[1;38;5;251m)\u001b[0m\u001b[1;38;5;251m, model radius:    \u001b[0m\u001b[1;38;5;251m \u001b[0m\u001b]8;id=913457;file:///data/home/cwy/.mylib/miniconda3/envs/3ML/lib/python3.9/site-packages/WCDA_hal/region_of_interest/healpix_map_roi.py\u001b\\\u001b[2mhealpix_map_roi.py\u001b[0m\u001b]8;;\u001b\\\u001b[2m:\u001b[0m\u001b]8;id=709952;file:///data/home/cwy/.mylib/miniconda3/envs/3ML/lib/python3.9/site-packages/WCDA_hal/region_of_interest/healpix_map_roi.py#134\u001b\\\u001b[2m134\u001b[0m\u001b]8;;\u001b\\\n",
       "\u001b[38;5;46m         \u001b[0m         \u001b[1;37m7.500\u001b[0m\u001b[1;38;5;251m deg, display radius: \u001b[0m\u001b[1;37m7.000\u001b[0m\u001b[1;38;5;251m deg, threshold = \u001b[0m\u001b[1;37m0.50\u001b[0m\u001b[1;38;5;251m                    \u001b[0m\u001b[1;38;5;251m \u001b[0m\u001b[2m                      \u001b[0m\n"
      ]
     },
     "metadata": {},
     "output_type": "display_data"
    },
    {
     "data": {
      "text/html": [
       "<pre style=\"white-space:pre;overflow-x:auto;line-height:normal;font-family:Menlo,'DejaVu Sans Mono',consolas,'Courier New',monospace\"><span style=\"color: #00ff00; text-decoration-color: #00ff00\">         </span><span style=\"color: #00ffaf; text-decoration-color: #00ffaf\">INFO    </span> <span style=\"color: #c6c6c6; text-decoration-color: #c6c6c6; font-weight: bold\">                                                                                       </span><a href=\"file:///data/home/cwy/.mylib/miniconda3/envs/3ML/lib/python3.9/site-packages/WCDA_hal/HAL.py\" target=\"_blank\"><span style=\"color: #7f7f7f; text-decoration-color: #7f7f7f\">HAL.py</span></a><span style=\"color: #7f7f7f; text-decoration-color: #7f7f7f\">:</span><a href=\"file:///data/home/cwy/.mylib/miniconda3/envs/3ML/lib/python3.9/site-packages/WCDA_hal/HAL.py#296\" target=\"_blank\"><span style=\"color: #7f7f7f; text-decoration-color: #7f7f7f\">296</span></a>\n",
       "</pre>\n"
      ],
      "text/plain": [
       "\u001b[38;5;46m        \u001b[0m\u001b[38;5;46m \u001b[0m\u001b[38;5;49mINFO    \u001b[0m \u001b[1;38;5;251m                                                                                      \u001b[0m\u001b[1;38;5;251m \u001b[0m\u001b]8;id=754239;file:///data/home/cwy/.mylib/miniconda3/envs/3ML/lib/python3.9/site-packages/WCDA_hal/HAL.py\u001b\\\u001b[2mHAL.py\u001b[0m\u001b]8;;\u001b\\\u001b[2m:\u001b[0m\u001b]8;id=461649;file:///data/home/cwy/.mylib/miniconda3/envs/3ML/lib/python3.9/site-packages/WCDA_hal/HAL.py#296\u001b\\\u001b[2m296\u001b[0m\u001b]8;;\u001b\\\n"
      ]
     },
     "metadata": {},
     "output_type": "display_data"
    },
    {
     "data": {
      "text/html": [
       "<pre style=\"white-space:pre;overflow-x:auto;line-height:normal;font-family:Menlo,'DejaVu Sans Mono',consolas,'Courier New',monospace\"><span style=\"color: #00ff00; text-decoration-color: #00ff00\">         </span><span style=\"color: #00ffaf; text-decoration-color: #00ffaf\">INFO    </span> <span style=\"color: #c6c6c6; text-decoration-color: #c6c6c6; font-weight: bold\"> Flat sky projection:                                                                  </span><a href=\"file:///data/home/cwy/.mylib/miniconda3/envs/3ML/lib/python3.9/site-packages/WCDA_hal/HAL.py\" target=\"_blank\"><span style=\"color: #7f7f7f; text-decoration-color: #7f7f7f\">HAL.py</span></a><span style=\"color: #7f7f7f; text-decoration-color: #7f7f7f\">:</span><a href=\"file:///data/home/cwy/.mylib/miniconda3/envs/3ML/lib/python3.9/site-packages/WCDA_hal/HAL.py#297\" target=\"_blank\"><span style=\"color: #7f7f7f; text-decoration-color: #7f7f7f\">297</span></a>\n",
       "</pre>\n"
      ],
      "text/plain": [
       "\u001b[38;5;46m        \u001b[0m\u001b[38;5;46m \u001b[0m\u001b[38;5;49mINFO    \u001b[0m \u001b[1;38;5;251m Flat sky projection:                                                                 \u001b[0m\u001b[1;38;5;251m \u001b[0m\u001b]8;id=89921;file:///data/home/cwy/.mylib/miniconda3/envs/3ML/lib/python3.9/site-packages/WCDA_hal/HAL.py\u001b\\\u001b[2mHAL.py\u001b[0m\u001b]8;;\u001b\\\u001b[2m:\u001b[0m\u001b]8;id=612582;file:///data/home/cwy/.mylib/miniconda3/envs/3ML/lib/python3.9/site-packages/WCDA_hal/HAL.py#297\u001b\\\u001b[2m297\u001b[0m\u001b]8;;\u001b\\\n"
      ]
     },
     "metadata": {},
     "output_type": "display_data"
    },
    {
     "data": {
      "text/html": [
       "<pre style=\"white-space:pre;overflow-x:auto;line-height:normal;font-family:Menlo,'DejaVu Sans Mono',consolas,'Courier New',monospace\"><span style=\"color: #00ff00; text-decoration-color: #00ff00\">         </span><span style=\"color: #00ffaf; text-decoration-color: #00ffaf\">INFO    </span> <span style=\"color: #c6c6c6; text-decoration-color: #c6c6c6; font-weight: bold\"> --------------------                                                                  </span><a href=\"file:///data/home/cwy/.mylib/miniconda3/envs/3ML/lib/python3.9/site-packages/WCDA_hal/HAL.py\" target=\"_blank\"><span style=\"color: #7f7f7f; text-decoration-color: #7f7f7f\">HAL.py</span></a><span style=\"color: #7f7f7f; text-decoration-color: #7f7f7f\">:</span><a href=\"file:///data/home/cwy/.mylib/miniconda3/envs/3ML/lib/python3.9/site-packages/WCDA_hal/HAL.py#298\" target=\"_blank\"><span style=\"color: #7f7f7f; text-decoration-color: #7f7f7f\">298</span></a>\n",
       "</pre>\n"
      ],
      "text/plain": [
       "\u001b[38;5;46m        \u001b[0m\u001b[38;5;46m \u001b[0m\u001b[38;5;49mINFO    \u001b[0m \u001b[1;38;5;251m --------------------                                                                 \u001b[0m\u001b[1;38;5;251m \u001b[0m\u001b]8;id=737921;file:///data/home/cwy/.mylib/miniconda3/envs/3ML/lib/python3.9/site-packages/WCDA_hal/HAL.py\u001b\\\u001b[2mHAL.py\u001b[0m\u001b]8;;\u001b\\\u001b[2m:\u001b[0m\u001b]8;id=776296;file:///data/home/cwy/.mylib/miniconda3/envs/3ML/lib/python3.9/site-packages/WCDA_hal/HAL.py#298\u001b\\\u001b[2m298\u001b[0m\u001b]8;;\u001b\\\n"
      ]
     },
     "metadata": {},
     "output_type": "display_data"
    },
    {
     "data": {
      "text/html": [
       "<pre style=\"white-space:pre;overflow-x:auto;line-height:normal;font-family:Menlo,'DejaVu Sans Mono',consolas,'Courier New',monospace\"><span style=\"color: #00ff00; text-decoration-color: #00ff00\">         </span><span style=\"color: #00ffaf; text-decoration-color: #00ffaf\">INFO    </span> <span style=\"color: #c6c6c6; text-decoration-color: #c6c6c6; font-weight: bold\"> Width x height </span><span style=\"color: #c0c0c0; text-decoration-color: #c0c0c0; font-weight: bold\">90</span><span style=\"color: #c6c6c6; text-decoration-color: #c6c6c6; font-weight: bold\"> x </span><span style=\"color: #c0c0c0; text-decoration-color: #c0c0c0; font-weight: bold\">90</span><span style=\"color: #c6c6c6; text-decoration-color: #c6c6c6; font-weight: bold\"> px                                                             </span><a href=\"file:///data/home/cwy/.mylib/miniconda3/envs/3ML/lib/python3.9/site-packages/WCDA_hal/HAL.py\" target=\"_blank\"><span style=\"color: #7f7f7f; text-decoration-color: #7f7f7f\">HAL.py</span></a><span style=\"color: #7f7f7f; text-decoration-color: #7f7f7f\">:</span><a href=\"file:///data/home/cwy/.mylib/miniconda3/envs/3ML/lib/python3.9/site-packages/WCDA_hal/HAL.py#300\" target=\"_blank\"><span style=\"color: #7f7f7f; text-decoration-color: #7f7f7f\">300</span></a>\n",
       "</pre>\n"
      ],
      "text/plain": [
       "\u001b[38;5;46m        \u001b[0m\u001b[38;5;46m \u001b[0m\u001b[38;5;49mINFO    \u001b[0m \u001b[1;38;5;251m Width x height \u001b[0m\u001b[1;37m90\u001b[0m\u001b[1;38;5;251m x \u001b[0m\u001b[1;37m90\u001b[0m\u001b[1;38;5;251m px                                                            \u001b[0m\u001b[1;38;5;251m \u001b[0m\u001b]8;id=418839;file:///data/home/cwy/.mylib/miniconda3/envs/3ML/lib/python3.9/site-packages/WCDA_hal/HAL.py\u001b\\\u001b[2mHAL.py\u001b[0m\u001b]8;;\u001b\\\u001b[2m:\u001b[0m\u001b]8;id=42188;file:///data/home/cwy/.mylib/miniconda3/envs/3ML/lib/python3.9/site-packages/WCDA_hal/HAL.py#300\u001b\\\u001b[2m300\u001b[0m\u001b]8;;\u001b\\\n"
      ]
     },
     "metadata": {},
     "output_type": "display_data"
    },
    {
     "data": {
      "text/html": [
       "<pre style=\"white-space:pre;overflow-x:auto;line-height:normal;font-family:Menlo,'DejaVu Sans Mono',consolas,'Courier New',monospace\"><span style=\"color: #00ff00; text-decoration-color: #00ff00\">         </span><span style=\"color: #00ffaf; text-decoration-color: #00ffaf\">INFO    </span> <span style=\"color: #c6c6c6; text-decoration-color: #c6c6c6; font-weight: bold\"> Pixel sizes: </span><span style=\"color: #c0c0c0; text-decoration-color: #c0c0c0; font-weight: bold\">0.17</span><span style=\"color: #c6c6c6; text-decoration-color: #c6c6c6; font-weight: bold\"> deg                                                                 </span><a href=\"file:///data/home/cwy/.mylib/miniconda3/envs/3ML/lib/python3.9/site-packages/WCDA_hal/HAL.py\" target=\"_blank\"><span style=\"color: #7f7f7f; text-decoration-color: #7f7f7f\">HAL.py</span></a><span style=\"color: #7f7f7f; text-decoration-color: #7f7f7f\">:</span><a href=\"file:///data/home/cwy/.mylib/miniconda3/envs/3ML/lib/python3.9/site-packages/WCDA_hal/HAL.py#305\" target=\"_blank\"><span style=\"color: #7f7f7f; text-decoration-color: #7f7f7f\">305</span></a>\n",
       "</pre>\n"
      ],
      "text/plain": [
       "\u001b[38;5;46m        \u001b[0m\u001b[38;5;46m \u001b[0m\u001b[38;5;49mINFO    \u001b[0m \u001b[1;38;5;251m Pixel sizes: \u001b[0m\u001b[1;37m0.17\u001b[0m\u001b[1;38;5;251m deg                                                                \u001b[0m\u001b[1;38;5;251m \u001b[0m\u001b]8;id=337685;file:///data/home/cwy/.mylib/miniconda3/envs/3ML/lib/python3.9/site-packages/WCDA_hal/HAL.py\u001b\\\u001b[2mHAL.py\u001b[0m\u001b]8;;\u001b\\\u001b[2m:\u001b[0m\u001b]8;id=473915;file:///data/home/cwy/.mylib/miniconda3/envs/3ML/lib/python3.9/site-packages/WCDA_hal/HAL.py#305\u001b\\\u001b[2m305\u001b[0m\u001b]8;;\u001b\\\n"
      ]
     },
     "metadata": {},
     "output_type": "display_data"
    },
    {
     "data": {
      "text/html": [
       "<pre style=\"white-space:pre;overflow-x:auto;line-height:normal;font-family:Menlo,'DejaVu Sans Mono',consolas,'Courier New',monospace\"><span style=\"color: #00ff00; text-decoration-color: #00ff00\">         </span><span style=\"color: #00ffaf; text-decoration-color: #00ffaf\">INFO    </span> <span style=\"color: #c6c6c6; text-decoration-color: #c6c6c6; font-weight: bold\">                                                                                       </span><a href=\"file:///data/home/cwy/.mylib/miniconda3/envs/3ML/lib/python3.9/site-packages/WCDA_hal/HAL.py\" target=\"_blank\"><span style=\"color: #7f7f7f; text-decoration-color: #7f7f7f\">HAL.py</span></a><span style=\"color: #7f7f7f; text-decoration-color: #7f7f7f\">:</span><a href=\"file:///data/home/cwy/.mylib/miniconda3/envs/3ML/lib/python3.9/site-packages/WCDA_hal/HAL.py#308\" target=\"_blank\"><span style=\"color: #7f7f7f; text-decoration-color: #7f7f7f\">308</span></a>\n",
       "</pre>\n"
      ],
      "text/plain": [
       "\u001b[38;5;46m        \u001b[0m\u001b[38;5;46m \u001b[0m\u001b[38;5;49mINFO    \u001b[0m \u001b[1;38;5;251m                                                                                      \u001b[0m\u001b[1;38;5;251m \u001b[0m\u001b]8;id=132869;file:///data/home/cwy/.mylib/miniconda3/envs/3ML/lib/python3.9/site-packages/WCDA_hal/HAL.py\u001b\\\u001b[2mHAL.py\u001b[0m\u001b]8;;\u001b\\\u001b[2m:\u001b[0m\u001b]8;id=600487;file:///data/home/cwy/.mylib/miniconda3/envs/3ML/lib/python3.9/site-packages/WCDA_hal/HAL.py#308\u001b\\\u001b[2m308\u001b[0m\u001b]8;;\u001b\\\n"
      ]
     },
     "metadata": {},
     "output_type": "display_data"
    },
    {
     "data": {
      "text/html": [
       "<pre style=\"white-space:pre;overflow-x:auto;line-height:normal;font-family:Menlo,'DejaVu Sans Mono',consolas,'Courier New',monospace\"><span style=\"color: #00ff00; text-decoration-color: #00ff00\">         </span><span style=\"color: #00ffaf; text-decoration-color: #00ffaf\">INFO    </span> <span style=\"color: #c6c6c6; text-decoration-color: #c6c6c6; font-weight: bold\"> Response:                                                                             </span><a href=\"file:///data/home/cwy/.mylib/miniconda3/envs/3ML/lib/python3.9/site-packages/WCDA_hal/HAL.py\" target=\"_blank\"><span style=\"color: #7f7f7f; text-decoration-color: #7f7f7f\">HAL.py</span></a><span style=\"color: #7f7f7f; text-decoration-color: #7f7f7f\">:</span><a href=\"file:///data/home/cwy/.mylib/miniconda3/envs/3ML/lib/python3.9/site-packages/WCDA_hal/HAL.py#309\" target=\"_blank\"><span style=\"color: #7f7f7f; text-decoration-color: #7f7f7f\">309</span></a>\n",
       "</pre>\n"
      ],
      "text/plain": [
       "\u001b[38;5;46m        \u001b[0m\u001b[38;5;46m \u001b[0m\u001b[38;5;49mINFO    \u001b[0m \u001b[1;38;5;251m Response:                                                                            \u001b[0m\u001b[1;38;5;251m \u001b[0m\u001b]8;id=516035;file:///data/home/cwy/.mylib/miniconda3/envs/3ML/lib/python3.9/site-packages/WCDA_hal/HAL.py\u001b\\\u001b[2mHAL.py\u001b[0m\u001b]8;;\u001b\\\u001b[2m:\u001b[0m\u001b]8;id=275445;file:///data/home/cwy/.mylib/miniconda3/envs/3ML/lib/python3.9/site-packages/WCDA_hal/HAL.py#309\u001b\\\u001b[2m309\u001b[0m\u001b]8;;\u001b\\\n"
      ]
     },
     "metadata": {},
     "output_type": "display_data"
    },
    {
     "data": {
      "text/html": [
       "<pre style=\"white-space:pre;overflow-x:auto;line-height:normal;font-family:Menlo,'DejaVu Sans Mono',consolas,'Courier New',monospace\"><span style=\"color: #00ff00; text-decoration-color: #00ff00\">         </span><span style=\"color: #00ffaf; text-decoration-color: #00ffaf\">INFO    </span> <span style=\"color: #c6c6c6; text-decoration-color: #c6c6c6; font-weight: bold\"> ---------                                                                             </span><a href=\"file:///data/home/cwy/.mylib/miniconda3/envs/3ML/lib/python3.9/site-packages/WCDA_hal/HAL.py\" target=\"_blank\"><span style=\"color: #7f7f7f; text-decoration-color: #7f7f7f\">HAL.py</span></a><span style=\"color: #7f7f7f; text-decoration-color: #7f7f7f\">:</span><a href=\"file:///data/home/cwy/.mylib/miniconda3/envs/3ML/lib/python3.9/site-packages/WCDA_hal/HAL.py#310\" target=\"_blank\"><span style=\"color: #7f7f7f; text-decoration-color: #7f7f7f\">310</span></a>\n",
       "</pre>\n"
      ],
      "text/plain": [
       "\u001b[38;5;46m        \u001b[0m\u001b[38;5;46m \u001b[0m\u001b[38;5;49mINFO    \u001b[0m \u001b[1;38;5;251m ---------                                                                            \u001b[0m\u001b[1;38;5;251m \u001b[0m\u001b]8;id=266559;file:///data/home/cwy/.mylib/miniconda3/envs/3ML/lib/python3.9/site-packages/WCDA_hal/HAL.py\u001b\\\u001b[2mHAL.py\u001b[0m\u001b]8;;\u001b\\\u001b[2m:\u001b[0m\u001b]8;id=744251;file:///data/home/cwy/.mylib/miniconda3/envs/3ML/lib/python3.9/site-packages/WCDA_hal/HAL.py#310\u001b\\\u001b[2m310\u001b[0m\u001b]8;;\u001b\\\n"
      ]
     },
     "metadata": {},
     "output_type": "display_data"
    },
    {
     "data": {
      "text/html": [
       "<pre style=\"white-space:pre;overflow-x:auto;line-height:normal;font-family:Menlo,'DejaVu Sans Mono',consolas,'Courier New',monospace\"><span style=\"color: #00ff00; text-decoration-color: #00ff00\">         </span><span style=\"color: #00ffaf; text-decoration-color: #00ffaf\">INFO    </span> <span style=\"color: #c6c6c6; text-decoration-color: #c6c6c6; font-weight: bold\"> Response file:                                                                   </span><a href=\"file:///data/home/cwy/.mylib/miniconda3/envs/3ML/lib/python3.9/site-packages/WCDA_hal/response/response.py\" target=\"_blank\"><span style=\"color: #7f7f7f; text-decoration-color: #7f7f7f\">response.py</span></a><span style=\"color: #7f7f7f; text-decoration-color: #7f7f7f\">:</span><a href=\"file:///data/home/cwy/.mylib/miniconda3/envs/3ML/lib/python3.9/site-packages/WCDA_hal/response/response.py#340\" target=\"_blank\"><span style=\"color: #7f7f7f; text-decoration-color: #7f7f7f\">340</span></a>\n",
       "<span style=\"color: #00ff00; text-decoration-color: #00ff00\">         </span>         <span style=\"color: #5f5f5f; text-decoration-color: #5f5f5f; font-weight: bold\">/data/home/cwy/Science/3MLWCDA/Standard/src/../../data/</span><span style=\"color: #000080; text-decoration-color: #000080; font-weight: bold\">DR_ihep_MK2_newoldDRpsf.ro</span><span style=\"color: #c6c6c6; text-decoration-color: #c6c6c6; font-weight: bold\"> </span><span style=\"color: #7f7f7f; text-decoration-color: #7f7f7f\">               </span>\n",
       "<span style=\"color: #00ff00; text-decoration-color: #00ff00\">         </span>         <span style=\"color: #000080; text-decoration-color: #000080; font-weight: bold\">ot</span><span style=\"color: #c6c6c6; text-decoration-color: #c6c6c6; font-weight: bold\">                                                                                </span><span style=\"color: #7f7f7f; text-decoration-color: #7f7f7f\">               </span>\n",
       "</pre>\n"
      ],
      "text/plain": [
       "\u001b[38;5;46m        \u001b[0m\u001b[38;5;46m \u001b[0m\u001b[38;5;49mINFO    \u001b[0m \u001b[1;38;5;251m Response file:                                                                  \u001b[0m\u001b[1;38;5;251m \u001b[0m\u001b]8;id=340380;file:///data/home/cwy/.mylib/miniconda3/envs/3ML/lib/python3.9/site-packages/WCDA_hal/response/response.py\u001b\\\u001b[2mresponse.py\u001b[0m\u001b]8;;\u001b\\\u001b[2m:\u001b[0m\u001b]8;id=931792;file:///data/home/cwy/.mylib/miniconda3/envs/3ML/lib/python3.9/site-packages/WCDA_hal/response/response.py#340\u001b\\\u001b[2m340\u001b[0m\u001b]8;;\u001b\\\n",
       "\u001b[38;5;46m         \u001b[0m         \u001b[1;38;5;59m/data/home/cwy/Science/3MLWCDA/Standard/src/../../data/\u001b[0m\u001b[1;34mDR_ihep_MK2_newoldDRpsf.ro\u001b[0m\u001b[1;38;5;251m \u001b[0m\u001b[2m               \u001b[0m\n",
       "\u001b[38;5;46m         \u001b[0m         \u001b[1;34mot\u001b[0m\u001b[1;38;5;251m                                                                               \u001b[0m\u001b[1;38;5;251m \u001b[0m\u001b[2m               \u001b[0m\n"
      ]
     },
     "metadata": {},
     "output_type": "display_data"
    },
    {
     "data": {
      "text/html": [
       "<pre style=\"white-space:pre;overflow-x:auto;line-height:normal;font-family:Menlo,'DejaVu Sans Mono',consolas,'Courier New',monospace\"><span style=\"color: #00ff00; text-decoration-color: #00ff00\">         </span><span style=\"color: #00ffaf; text-decoration-color: #00ffaf\">INFO    </span> <span style=\"color: #c6c6c6; text-decoration-color: #c6c6c6; font-weight: bold\"> Number of dec bins: </span><span style=\"color: #c0c0c0; text-decoration-color: #c0c0c0; font-weight: bold\">110</span><span style=\"color: #c6c6c6; text-decoration-color: #c6c6c6; font-weight: bold\">                                                          </span><a href=\"file:///data/home/cwy/.mylib/miniconda3/envs/3ML/lib/python3.9/site-packages/WCDA_hal/response/response.py\" target=\"_blank\"><span style=\"color: #7f7f7f; text-decoration-color: #7f7f7f\">response.py</span></a><span style=\"color: #7f7f7f; text-decoration-color: #7f7f7f\">:</span><a href=\"file:///data/home/cwy/.mylib/miniconda3/envs/3ML/lib/python3.9/site-packages/WCDA_hal/response/response.py#341\" target=\"_blank\"><span style=\"color: #7f7f7f; text-decoration-color: #7f7f7f\">341</span></a>\n",
       "</pre>\n"
      ],
      "text/plain": [
       "\u001b[38;5;46m        \u001b[0m\u001b[38;5;46m \u001b[0m\u001b[38;5;49mINFO    \u001b[0m \u001b[1;38;5;251m Number of dec bins: \u001b[0m\u001b[1;37m110\u001b[0m\u001b[1;38;5;251m                                                         \u001b[0m\u001b[1;38;5;251m \u001b[0m\u001b]8;id=847035;file:///data/home/cwy/.mylib/miniconda3/envs/3ML/lib/python3.9/site-packages/WCDA_hal/response/response.py\u001b\\\u001b[2mresponse.py\u001b[0m\u001b]8;;\u001b\\\u001b[2m:\u001b[0m\u001b]8;id=465483;file:///data/home/cwy/.mylib/miniconda3/envs/3ML/lib/python3.9/site-packages/WCDA_hal/response/response.py#341\u001b\\\u001b[2m341\u001b[0m\u001b]8;;\u001b\\\n"
      ]
     },
     "metadata": {},
     "output_type": "display_data"
    },
    {
     "data": {
      "text/html": [
       "<pre style=\"white-space:pre;overflow-x:auto;line-height:normal;font-family:Menlo,'DejaVu Sans Mono',consolas,'Courier New',monospace\"><span style=\"color: #00ff00; text-decoration-color: #00ff00\">         </span><span style=\"color: #00ffaf; text-decoration-color: #00ffaf\">INFO    </span> <span style=\"color: #c6c6c6; text-decoration-color: #c6c6c6; font-weight: bold\"> Number of energy/nHit planes per dec bin_name: </span><span style=\"color: #c0c0c0; text-decoration-color: #c0c0c0; font-weight: bold\">6</span><span style=\"color: #c6c6c6; text-decoration-color: #c6c6c6; font-weight: bold\">                                 </span><a href=\"file:///data/home/cwy/.mylib/miniconda3/envs/3ML/lib/python3.9/site-packages/WCDA_hal/response/response.py\" target=\"_blank\"><span style=\"color: #7f7f7f; text-decoration-color: #7f7f7f\">response.py</span></a><span style=\"color: #7f7f7f; text-decoration-color: #7f7f7f\">:</span><a href=\"file:///data/home/cwy/.mylib/miniconda3/envs/3ML/lib/python3.9/site-packages/WCDA_hal/response/response.py#344\" target=\"_blank\"><span style=\"color: #7f7f7f; text-decoration-color: #7f7f7f\">344</span></a>\n",
       "</pre>\n"
      ],
      "text/plain": [
       "\u001b[38;5;46m        \u001b[0m\u001b[38;5;46m \u001b[0m\u001b[38;5;49mINFO    \u001b[0m \u001b[1;38;5;251m Number of energy/nHit planes per dec bin_name: \u001b[0m\u001b[1;37m6\u001b[0m\u001b[1;38;5;251m                                \u001b[0m\u001b[1;38;5;251m \u001b[0m\u001b]8;id=216196;file:///data/home/cwy/.mylib/miniconda3/envs/3ML/lib/python3.9/site-packages/WCDA_hal/response/response.py\u001b\\\u001b[2mresponse.py\u001b[0m\u001b]8;;\u001b\\\u001b[2m:\u001b[0m\u001b]8;id=588400;file:///data/home/cwy/.mylib/miniconda3/envs/3ML/lib/python3.9/site-packages/WCDA_hal/response/response.py#344\u001b\\\u001b[2m344\u001b[0m\u001b]8;;\u001b\\\n"
      ]
     },
     "metadata": {},
     "output_type": "display_data"
    },
    {
     "data": {
      "text/html": [
       "<pre style=\"white-space:pre;overflow-x:auto;line-height:normal;font-family:Menlo,'DejaVu Sans Mono',consolas,'Courier New',monospace\"><span style=\"color: #00ff00; text-decoration-color: #00ff00\">         </span><span style=\"color: #00ffaf; text-decoration-color: #00ffaf\">INFO    </span> <span style=\"color: #c6c6c6; text-decoration-color: #c6c6c6; font-weight: bold\">                                                                                       </span><a href=\"file:///data/home/cwy/.mylib/miniconda3/envs/3ML/lib/python3.9/site-packages/WCDA_hal/HAL.py\" target=\"_blank\"><span style=\"color: #7f7f7f; text-decoration-color: #7f7f7f\">HAL.py</span></a><span style=\"color: #7f7f7f; text-decoration-color: #7f7f7f\">:</span><a href=\"file:///data/home/cwy/.mylib/miniconda3/envs/3ML/lib/python3.9/site-packages/WCDA_hal/HAL.py#314\" target=\"_blank\"><span style=\"color: #7f7f7f; text-decoration-color: #7f7f7f\">314</span></a>\n",
       "</pre>\n"
      ],
      "text/plain": [
       "\u001b[38;5;46m        \u001b[0m\u001b[38;5;46m \u001b[0m\u001b[38;5;49mINFO    \u001b[0m \u001b[1;38;5;251m                                                                                      \u001b[0m\u001b[1;38;5;251m \u001b[0m\u001b]8;id=874503;file:///data/home/cwy/.mylib/miniconda3/envs/3ML/lib/python3.9/site-packages/WCDA_hal/HAL.py\u001b\\\u001b[2mHAL.py\u001b[0m\u001b]8;;\u001b\\\u001b[2m:\u001b[0m\u001b]8;id=535226;file:///data/home/cwy/.mylib/miniconda3/envs/3ML/lib/python3.9/site-packages/WCDA_hal/HAL.py#314\u001b\\\u001b[2m314\u001b[0m\u001b]8;;\u001b\\\n"
      ]
     },
     "metadata": {},
     "output_type": "display_data"
    },
    {
     "data": {
      "text/html": [
       "<pre style=\"white-space:pre;overflow-x:auto;line-height:normal;font-family:Menlo,'DejaVu Sans Mono',consolas,'Courier New',monospace\"><span style=\"color: #00ff00; text-decoration-color: #00ff00\">         </span><span style=\"color: #00ffaf; text-decoration-color: #00ffaf\">INFO    </span> <span style=\"color: #c6c6c6; text-decoration-color: #c6c6c6; font-weight: bold\"> Map Tree:                                                                             </span><a href=\"file:///data/home/cwy/.mylib/miniconda3/envs/3ML/lib/python3.9/site-packages/WCDA_hal/HAL.py\" target=\"_blank\"><span style=\"color: #7f7f7f; text-decoration-color: #7f7f7f\">HAL.py</span></a><span style=\"color: #7f7f7f; text-decoration-color: #7f7f7f\">:</span><a href=\"file:///data/home/cwy/.mylib/miniconda3/envs/3ML/lib/python3.9/site-packages/WCDA_hal/HAL.py#315\" target=\"_blank\"><span style=\"color: #7f7f7f; text-decoration-color: #7f7f7f\">315</span></a>\n",
       "</pre>\n"
      ],
      "text/plain": [
       "\u001b[38;5;46m        \u001b[0m\u001b[38;5;46m \u001b[0m\u001b[38;5;49mINFO    \u001b[0m \u001b[1;38;5;251m Map Tree:                                                                            \u001b[0m\u001b[1;38;5;251m \u001b[0m\u001b]8;id=696967;file:///data/home/cwy/.mylib/miniconda3/envs/3ML/lib/python3.9/site-packages/WCDA_hal/HAL.py\u001b\\\u001b[2mHAL.py\u001b[0m\u001b]8;;\u001b\\\u001b[2m:\u001b[0m\u001b]8;id=184397;file:///data/home/cwy/.mylib/miniconda3/envs/3ML/lib/python3.9/site-packages/WCDA_hal/HAL.py#315\u001b\\\u001b[2m315\u001b[0m\u001b]8;;\u001b\\\n"
      ]
     },
     "metadata": {},
     "output_type": "display_data"
    },
    {
     "data": {
      "text/html": [
       "<pre style=\"white-space:pre;overflow-x:auto;line-height:normal;font-family:Menlo,'DejaVu Sans Mono',consolas,'Courier New',monospace\"><span style=\"color: #00ff00; text-decoration-color: #00ff00\">         </span><span style=\"color: #00ffaf; text-decoration-color: #00ffaf\">INFO    </span> <span style=\"color: #c6c6c6; text-decoration-color: #c6c6c6; font-weight: bold\"> ----------                                                                            </span><a href=\"file:///data/home/cwy/.mylib/miniconda3/envs/3ML/lib/python3.9/site-packages/WCDA_hal/HAL.py\" target=\"_blank\"><span style=\"color: #7f7f7f; text-decoration-color: #7f7f7f\">HAL.py</span></a><span style=\"color: #7f7f7f; text-decoration-color: #7f7f7f\">:</span><a href=\"file:///data/home/cwy/.mylib/miniconda3/envs/3ML/lib/python3.9/site-packages/WCDA_hal/HAL.py#316\" target=\"_blank\"><span style=\"color: #7f7f7f; text-decoration-color: #7f7f7f\">316</span></a>\n",
       "</pre>\n"
      ],
      "text/plain": [
       "\u001b[38;5;46m        \u001b[0m\u001b[38;5;46m \u001b[0m\u001b[38;5;49mINFO    \u001b[0m \u001b[1;38;5;251m ----------                                                                           \u001b[0m\u001b[1;38;5;251m \u001b[0m\u001b]8;id=113843;file:///data/home/cwy/.mylib/miniconda3/envs/3ML/lib/python3.9/site-packages/WCDA_hal/HAL.py\u001b\\\u001b[2mHAL.py\u001b[0m\u001b]8;;\u001b\\\u001b[2m:\u001b[0m\u001b]8;id=262296;file:///data/home/cwy/.mylib/miniconda3/envs/3ML/lib/python3.9/site-packages/WCDA_hal/HAL.py#316\u001b\\\u001b[2m316\u001b[0m\u001b]8;;\u001b\\\n"
      ]
     },
     "metadata": {},
     "output_type": "display_data"
    },
    {
     "data": {
      "text/html": [
       "<div>\n",
       "<style scoped>\n",
       "    .dataframe tbody tr th:only-of-type {\n",
       "        vertical-align: middle;\n",
       "    }\n",
       "\n",
       "    .dataframe tbody tr th {\n",
       "        vertical-align: top;\n",
       "    }\n",
       "\n",
       "    .dataframe thead th {\n",
       "        text-align: right;\n",
       "    }\n",
       "</style>\n",
       "<table border=\"1\" class=\"dataframe\">\n",
       "  <thead>\n",
       "    <tr style=\"text-align: right;\">\n",
       "      <th></th>\n",
       "      <th>Bin</th>\n",
       "      <th>Nside</th>\n",
       "      <th>Scheme</th>\n",
       "      <th>Obs counts</th>\n",
       "      <th>Bkg counts</th>\n",
       "      <th>obs/bkg</th>\n",
       "      <th>Pixels in ROI</th>\n",
       "      <th>Area (deg^2)</th>\n",
       "    </tr>\n",
       "  </thead>\n",
       "  <tbody>\n",
       "    <tr>\n",
       "      <th>0</th>\n",
       "      <td>0</td>\n",
       "      <td>1024</td>\n",
       "      <td>RING</td>\n",
       "      <td>1.912300e+06</td>\n",
       "      <td>1.890370e+06</td>\n",
       "      <td>1.011601</td>\n",
       "      <td>30460</td>\n",
       "      <td>99.86283</td>\n",
       "    </tr>\n",
       "    <tr>\n",
       "      <th>1</th>\n",
       "      <td>1</td>\n",
       "      <td>1024</td>\n",
       "      <td>RING</td>\n",
       "      <td>1.068157e+06</td>\n",
       "      <td>1.046597e+06</td>\n",
       "      <td>1.020600</td>\n",
       "      <td>30460</td>\n",
       "      <td>99.86283</td>\n",
       "    </tr>\n",
       "    <tr>\n",
       "      <th>2</th>\n",
       "      <td>2</td>\n",
       "      <td>1024</td>\n",
       "      <td>RING</td>\n",
       "      <td>1.897779e+05</td>\n",
       "      <td>1.829351e+05</td>\n",
       "      <td>1.037405</td>\n",
       "      <td>30460</td>\n",
       "      <td>99.86283</td>\n",
       "    </tr>\n",
       "    <tr>\n",
       "      <th>3</th>\n",
       "      <td>3</td>\n",
       "      <td>1024</td>\n",
       "      <td>RING</td>\n",
       "      <td>7.547907e+04</td>\n",
       "      <td>7.138014e+04</td>\n",
       "      <td>1.057424</td>\n",
       "      <td>30460</td>\n",
       "      <td>99.86283</td>\n",
       "    </tr>\n",
       "    <tr>\n",
       "      <th>4</th>\n",
       "      <td>4</td>\n",
       "      <td>1024</td>\n",
       "      <td>RING</td>\n",
       "      <td>1.752258e+04</td>\n",
       "      <td>1.629416e+04</td>\n",
       "      <td>1.075390</td>\n",
       "      <td>30460</td>\n",
       "      <td>99.86283</td>\n",
       "    </tr>\n",
       "    <tr>\n",
       "      <th>5</th>\n",
       "      <td>5</td>\n",
       "      <td>1024</td>\n",
       "      <td>RING</td>\n",
       "      <td>5.342905e+03</td>\n",
       "      <td>4.608799e+03</td>\n",
       "      <td>1.159284</td>\n",
       "      <td>30460</td>\n",
       "      <td>99.86283</td>\n",
       "    </tr>\n",
       "  </tbody>\n",
       "</table>\n",
       "</div>"
      ],
      "text/plain": [
       "  Bin  Nside Scheme    Obs counts    Bkg counts   obs/bkg  Pixels in ROI   \n",
       "0   0   1024   RING  1.912300e+06  1.890370e+06  1.011601          30460  \\\n",
       "1   1   1024   RING  1.068157e+06  1.046597e+06  1.020600          30460   \n",
       "2   2   1024   RING  1.897779e+05  1.829351e+05  1.037405          30460   \n",
       "3   3   1024   RING  7.547907e+04  7.138014e+04  1.057424          30460   \n",
       "4   4   1024   RING  1.752258e+04  1.629416e+04  1.075390          30460   \n",
       "5   5   1024   RING  5.342905e+03  4.608799e+03  1.159284          30460   \n",
       "\n",
       "   Area (deg^2)  \n",
       "0      99.86283  \n",
       "1      99.86283  \n",
       "2      99.86283  \n",
       "3      99.86283  \n",
       "4      99.86283  \n",
       "5      99.86283  "
      ]
     },
     "metadata": {},
     "output_type": "display_data"
    },
    {
     "data": {
      "text/html": [
       "<pre style=\"white-space:pre;overflow-x:auto;line-height:normal;font-family:Menlo,'DejaVu Sans Mono',consolas,'Courier New',monospace\"><span style=\"color: #00ff00; text-decoration-color: #00ff00\">         </span><span style=\"color: #00ffaf; text-decoration-color: #00ffaf\">INFO    </span> <span style=\"color: #c6c6c6; text-decoration-color: #c6c6c6; font-weight: bold\"> This Map Tree contains </span><span style=\"color: #c0c0c0; text-decoration-color: #c0c0c0; font-weight: bold\">795.961</span><span style=\"color: #c6c6c6; text-decoration-color: #c6c6c6; font-weight: bold\"> transits in the first bin                         </span><a href=\"file:///data/home/cwy/.mylib/miniconda3/envs/3ML/lib/python3.9/site-packages/WCDA_hal/maptree/map_tree.py\" target=\"_blank\"><span style=\"color: #7f7f7f; text-decoration-color: #7f7f7f\">map_tree.py</span></a><span style=\"color: #7f7f7f; text-decoration-color: #7f7f7f\">:</span><a href=\"file:///data/home/cwy/.mylib/miniconda3/envs/3ML/lib/python3.9/site-packages/WCDA_hal/maptree/map_tree.py#149\" target=\"_blank\"><span style=\"color: #7f7f7f; text-decoration-color: #7f7f7f\">149</span></a>\n",
       "</pre>\n"
      ],
      "text/plain": [
       "\u001b[38;5;46m        \u001b[0m\u001b[38;5;46m \u001b[0m\u001b[38;5;49mINFO    \u001b[0m \u001b[1;38;5;251m This Map Tree contains \u001b[0m\u001b[1;37m795.961\u001b[0m\u001b[1;38;5;251m transits in the first bin                        \u001b[0m\u001b[1;38;5;251m \u001b[0m\u001b]8;id=575334;file:///data/home/cwy/.mylib/miniconda3/envs/3ML/lib/python3.9/site-packages/WCDA_hal/maptree/map_tree.py\u001b\\\u001b[2mmap_tree.py\u001b[0m\u001b]8;;\u001b\\\u001b[2m:\u001b[0m\u001b]8;id=373865;file:///data/home/cwy/.mylib/miniconda3/envs/3ML/lib/python3.9/site-packages/WCDA_hal/maptree/map_tree.py#149\u001b\\\u001b[2m149\u001b[0m\u001b]8;;\u001b\\\n"
      ]
     },
     "metadata": {},
     "output_type": "display_data"
    },
    {
     "data": {
      "text/html": [
       "<pre style=\"white-space:pre;overflow-x:auto;line-height:normal;font-family:Menlo,'DejaVu Sans Mono',consolas,'Courier New',monospace\"><span style=\"color: #00ff00; text-decoration-color: #00ff00\">         </span><span style=\"color: #00ffaf; text-decoration-color: #00ffaf\">INFO    </span> <span style=\"color: #c6c6c6; text-decoration-color: #c6c6c6; font-weight: bold\"> Total data size: </span><span style=\"color: #c0c0c0; text-decoration-color: #c0c0c0; font-weight: bold\">2.92</span><span style=\"color: #c6c6c6; text-decoration-color: #c6c6c6; font-weight: bold\"> Mb                                                         </span><a href=\"file:///data/home/cwy/.mylib/miniconda3/envs/3ML/lib/python3.9/site-packages/WCDA_hal/maptree/map_tree.py\" target=\"_blank\"><span style=\"color: #7f7f7f; text-decoration-color: #7f7f7f\">map_tree.py</span></a><span style=\"color: #7f7f7f; text-decoration-color: #7f7f7f\">:</span><a href=\"file:///data/home/cwy/.mylib/miniconda3/envs/3ML/lib/python3.9/site-packages/WCDA_hal/maptree/map_tree.py#151\" target=\"_blank\"><span style=\"color: #7f7f7f; text-decoration-color: #7f7f7f\">151</span></a>\n",
       "</pre>\n"
      ],
      "text/plain": [
       "\u001b[38;5;46m        \u001b[0m\u001b[38;5;46m \u001b[0m\u001b[38;5;49mINFO    \u001b[0m \u001b[1;38;5;251m Total data size: \u001b[0m\u001b[1;37m2.92\u001b[0m\u001b[1;38;5;251m Mb                                                        \u001b[0m\u001b[1;38;5;251m \u001b[0m\u001b]8;id=235116;file:///data/home/cwy/.mylib/miniconda3/envs/3ML/lib/python3.9/site-packages/WCDA_hal/maptree/map_tree.py\u001b\\\u001b[2mmap_tree.py\u001b[0m\u001b]8;;\u001b\\\u001b[2m:\u001b[0m\u001b]8;id=304455;file:///data/home/cwy/.mylib/miniconda3/envs/3ML/lib/python3.9/site-packages/WCDA_hal/maptree/map_tree.py#151\u001b\\\u001b[2m151\u001b[0m\u001b]8;;\u001b\\\n"
      ]
     },
     "metadata": {},
     "output_type": "display_data"
    },
    {
     "data": {
      "text/html": [
       "<pre style=\"white-space:pre;overflow-x:auto;line-height:normal;font-family:Menlo,'DejaVu Sans Mono',consolas,'Courier New',monospace\"><span style=\"color: #00ff00; text-decoration-color: #00ff00\">         </span><span style=\"color: #00ffaf; text-decoration-color: #00ffaf\">INFO    </span> <span style=\"color: #c6c6c6; text-decoration-color: #c6c6c6; font-weight: bold\">                                                                                       </span><a href=\"file:///data/home/cwy/.mylib/miniconda3/envs/3ML/lib/python3.9/site-packages/WCDA_hal/HAL.py\" target=\"_blank\"><span style=\"color: #7f7f7f; text-decoration-color: #7f7f7f\">HAL.py</span></a><span style=\"color: #7f7f7f; text-decoration-color: #7f7f7f\">:</span><a href=\"file:///data/home/cwy/.mylib/miniconda3/envs/3ML/lib/python3.9/site-packages/WCDA_hal/HAL.py#320\" target=\"_blank\"><span style=\"color: #7f7f7f; text-decoration-color: #7f7f7f\">320</span></a>\n",
       "</pre>\n"
      ],
      "text/plain": [
       "\u001b[38;5;46m        \u001b[0m\u001b[38;5;46m \u001b[0m\u001b[38;5;49mINFO    \u001b[0m \u001b[1;38;5;251m                                                                                      \u001b[0m\u001b[1;38;5;251m \u001b[0m\u001b]8;id=543757;file:///data/home/cwy/.mylib/miniconda3/envs/3ML/lib/python3.9/site-packages/WCDA_hal/HAL.py\u001b\\\u001b[2mHAL.py\u001b[0m\u001b]8;;\u001b\\\u001b[2m:\u001b[0m\u001b]8;id=867301;file:///data/home/cwy/.mylib/miniconda3/envs/3ML/lib/python3.9/site-packages/WCDA_hal/HAL.py#320\u001b\\\u001b[2m320\u001b[0m\u001b]8;;\u001b\\\n"
      ]
     },
     "metadata": {},
     "output_type": "display_data"
    },
    {
     "data": {
      "text/html": [
       "<pre style=\"white-space:pre;overflow-x:auto;line-height:normal;font-family:Menlo,'DejaVu Sans Mono',consolas,'Courier New',monospace\"><span style=\"color: #00ff00; text-decoration-color: #00ff00\">         </span><span style=\"color: #00ffaf; text-decoration-color: #00ffaf\">INFO    </span> <span style=\"color: #c6c6c6; text-decoration-color: #c6c6c6; font-weight: bold\"> Active energy/nHit planes (</span><span style=\"color: #c0c0c0; text-decoration-color: #c0c0c0; font-weight: bold\">6</span><span style=\"color: #c6c6c6; text-decoration-color: #c6c6c6; font-weight: bold\">):                                                        </span><a href=\"file:///data/home/cwy/.mylib/miniconda3/envs/3ML/lib/python3.9/site-packages/WCDA_hal/HAL.py\" target=\"_blank\"><span style=\"color: #7f7f7f; text-decoration-color: #7f7f7f\">HAL.py</span></a><span style=\"color: #7f7f7f; text-decoration-color: #7f7f7f\">:</span><a href=\"file:///data/home/cwy/.mylib/miniconda3/envs/3ML/lib/python3.9/site-packages/WCDA_hal/HAL.py#322\" target=\"_blank\"><span style=\"color: #7f7f7f; text-decoration-color: #7f7f7f\">322</span></a>\n",
       "</pre>\n"
      ],
      "text/plain": [
       "\u001b[38;5;46m        \u001b[0m\u001b[38;5;46m \u001b[0m\u001b[38;5;49mINFO    \u001b[0m \u001b[1;38;5;251m Active energy/nHit planes \u001b[0m\u001b[1;38;5;251m(\u001b[0m\u001b[1;37m6\u001b[0m\u001b[1;38;5;251m)\u001b[0m\u001b[1;38;5;251m:                                                       \u001b[0m\u001b[1;38;5;251m \u001b[0m\u001b]8;id=818531;file:///data/home/cwy/.mylib/miniconda3/envs/3ML/lib/python3.9/site-packages/WCDA_hal/HAL.py\u001b\\\u001b[2mHAL.py\u001b[0m\u001b]8;;\u001b\\\u001b[2m:\u001b[0m\u001b]8;id=113606;file:///data/home/cwy/.mylib/miniconda3/envs/3ML/lib/python3.9/site-packages/WCDA_hal/HAL.py#322\u001b\\\u001b[2m322\u001b[0m\u001b]8;;\u001b\\\n"
      ]
     },
     "metadata": {},
     "output_type": "display_data"
    },
    {
     "data": {
      "text/html": [
       "<pre style=\"white-space:pre;overflow-x:auto;line-height:normal;font-family:Menlo,'DejaVu Sans Mono',consolas,'Courier New',monospace\"><span style=\"color: #00ff00; text-decoration-color: #00ff00\">         </span><span style=\"color: #00ffaf; text-decoration-color: #00ffaf\">INFO    </span> <span style=\"color: #c6c6c6; text-decoration-color: #c6c6c6; font-weight: bold\"> -------------------------------                                                       </span><a href=\"file:///data/home/cwy/.mylib/miniconda3/envs/3ML/lib/python3.9/site-packages/WCDA_hal/HAL.py\" target=\"_blank\"><span style=\"color: #7f7f7f; text-decoration-color: #7f7f7f\">HAL.py</span></a><span style=\"color: #7f7f7f; text-decoration-color: #7f7f7f\">:</span><a href=\"file:///data/home/cwy/.mylib/miniconda3/envs/3ML/lib/python3.9/site-packages/WCDA_hal/HAL.py#323\" target=\"_blank\"><span style=\"color: #7f7f7f; text-decoration-color: #7f7f7f\">323</span></a>\n",
       "</pre>\n"
      ],
      "text/plain": [
       "\u001b[38;5;46m        \u001b[0m\u001b[38;5;46m \u001b[0m\u001b[38;5;49mINFO    \u001b[0m \u001b[1;38;5;251m -------------------------------                                                      \u001b[0m\u001b[1;38;5;251m \u001b[0m\u001b]8;id=962772;file:///data/home/cwy/.mylib/miniconda3/envs/3ML/lib/python3.9/site-packages/WCDA_hal/HAL.py\u001b\\\u001b[2mHAL.py\u001b[0m\u001b]8;;\u001b\\\u001b[2m:\u001b[0m\u001b]8;id=100273;file:///data/home/cwy/.mylib/miniconda3/envs/3ML/lib/python3.9/site-packages/WCDA_hal/HAL.py#323\u001b\\\u001b[2m323\u001b[0m\u001b]8;;\u001b\\\n"
      ]
     },
     "metadata": {},
     "output_type": "display_data"
    },
    {
     "data": {
      "text/html": [
       "<pre style=\"white-space:pre;overflow-x:auto;line-height:normal;font-family:Menlo,'DejaVu Sans Mono',consolas,'Courier New',monospace\"><span style=\"color: #00ff00; text-decoration-color: #00ff00\">         </span><span style=\"color: #00ffaf; text-decoration-color: #00ffaf\">INFO    </span> <span style=\"color: #c6c6c6; text-decoration-color: #c6c6c6; font-weight: bold\"> [</span><span style=\"color: #5f5f5f; text-decoration-color: #5f5f5f; font-weight: bold\">'0'</span><span style=\"color: #c6c6c6; text-decoration-color: #c6c6c6; font-weight: bold\">, </span><span style=\"color: #5f5f5f; text-decoration-color: #5f5f5f; font-weight: bold\">'1'</span><span style=\"color: #c6c6c6; text-decoration-color: #c6c6c6; font-weight: bold\">, </span><span style=\"color: #5f5f5f; text-decoration-color: #5f5f5f; font-weight: bold\">'2'</span><span style=\"color: #c6c6c6; text-decoration-color: #c6c6c6; font-weight: bold\">, </span><span style=\"color: #5f5f5f; text-decoration-color: #5f5f5f; font-weight: bold\">'3'</span><span style=\"color: #c6c6c6; text-decoration-color: #c6c6c6; font-weight: bold\">, </span><span style=\"color: #5f5f5f; text-decoration-color: #5f5f5f; font-weight: bold\">'4'</span><span style=\"color: #c6c6c6; text-decoration-color: #c6c6c6; font-weight: bold\">, </span><span style=\"color: #5f5f5f; text-decoration-color: #5f5f5f; font-weight: bold\">'5'</span><span style=\"color: #c6c6c6; text-decoration-color: #c6c6c6; font-weight: bold\">]                                                        </span><a href=\"file:///data/home/cwy/.mylib/miniconda3/envs/3ML/lib/python3.9/site-packages/WCDA_hal/HAL.py\" target=\"_blank\"><span style=\"color: #7f7f7f; text-decoration-color: #7f7f7f\">HAL.py</span></a><span style=\"color: #7f7f7f; text-decoration-color: #7f7f7f\">:</span><a href=\"file:///data/home/cwy/.mylib/miniconda3/envs/3ML/lib/python3.9/site-packages/WCDA_hal/HAL.py#324\" target=\"_blank\"><span style=\"color: #7f7f7f; text-decoration-color: #7f7f7f\">324</span></a>\n",
       "</pre>\n"
      ],
      "text/plain": [
       "\u001b[38;5;46m        \u001b[0m\u001b[38;5;46m \u001b[0m\u001b[38;5;49mINFO    \u001b[0m \u001b[1;38;5;251m \u001b[0m\u001b[1;38;5;251m[\u001b[0m\u001b[1;38;5;59m'0'\u001b[0m\u001b[1;38;5;251m, \u001b[0m\u001b[1;38;5;59m'1'\u001b[0m\u001b[1;38;5;251m, \u001b[0m\u001b[1;38;5;59m'2'\u001b[0m\u001b[1;38;5;251m, \u001b[0m\u001b[1;38;5;59m'3'\u001b[0m\u001b[1;38;5;251m, \u001b[0m\u001b[1;38;5;59m'4'\u001b[0m\u001b[1;38;5;251m, \u001b[0m\u001b[1;38;5;59m'5'\u001b[0m\u001b[1;38;5;251m]\u001b[0m\u001b[1;38;5;251m                                                       \u001b[0m\u001b[1;38;5;251m \u001b[0m\u001b]8;id=764285;file:///data/home/cwy/.mylib/miniconda3/envs/3ML/lib/python3.9/site-packages/WCDA_hal/HAL.py\u001b\\\u001b[2mHAL.py\u001b[0m\u001b]8;;\u001b\\\u001b[2m:\u001b[0m\u001b]8;id=824309;file:///data/home/cwy/.mylib/miniconda3/envs/3ML/lib/python3.9/site-packages/WCDA_hal/HAL.py#324\u001b\\\u001b[2m324\u001b[0m\u001b]8;;\u001b\\\n"
      ]
     },
     "metadata": {},
     "output_type": "display_data"
    },
    {
     "data": {
      "text/html": [
       "<pre style=\"white-space:pre;overflow-x:auto;line-height:normal;font-family:Menlo,'DejaVu Sans Mono',consolas,'Courier New',monospace\"><span style=\"color: #00ff00; text-decoration-color: #00ff00\">17:40:28 </span><span style=\"color: #00ffaf; text-decoration-color: #00ffaf\">INFO    </span> <span style=\"color: #c6c6c6; text-decoration-color: #c6c6c6; font-weight: bold\"> Set WCDA tansit from: </span><span style=\"color: #c0c0c0; text-decoration-color: #c0c0c0; font-weight: bold\">795.9613310185185</span><span style=\"color: #c6c6c6; text-decoration-color: #c6c6c6; font-weight: bold\"> to </span><span style=\"color: #c0c0c0; text-decoration-color: #c0c0c0; font-weight: bold\">796.2928263888889</span><span style=\"color: #c6c6c6; text-decoration-color: #c6c6c6; font-weight: bold\">                         </span><a href=\"file:///data/home/cwy/Science/3MLWCDA/Standard/src/./mylib/Mymap.py\" target=\"_blank\"><span style=\"color: #7f7f7f; text-decoration-color: #7f7f7f\">Mymap.py</span></a><span style=\"color: #7f7f7f; text-decoration-color: #7f7f7f\">:</span><a href=\"file:///data/home/cwy/Science/3MLWCDA/Standard/src/./mylib/Mymap.py#41\" target=\"_blank\"><span style=\"color: #7f7f7f; text-decoration-color: #7f7f7f\">41</span></a>\n",
       "</pre>\n"
      ],
      "text/plain": [
       "\u001b[38;5;46m17:40:28\u001b[0m\u001b[38;5;46m \u001b[0m\u001b[38;5;49mINFO    \u001b[0m \u001b[1;38;5;251m Set WCDA tansit from: \u001b[0m\u001b[1;37m795.9613310185185\u001b[0m\u001b[1;38;5;251m to \u001b[0m\u001b[1;37m796.2928263888889\u001b[0m\u001b[1;38;5;251m                        \u001b[0m\u001b[1;38;5;251m \u001b[0m\u001b]8;id=342587;file:///data/home/cwy/Science/3MLWCDA/Standard/src/./mylib/Mymap.py\u001b\\\u001b[2mMymap.py\u001b[0m\u001b]8;;\u001b\\\u001b[2m:\u001b[0m\u001b]8;id=120689;file:///data/home/cwy/Science/3MLWCDA/Standard/src/./mylib/Mymap.py#41\u001b\\\u001b[2m41\u001b[0m\u001b]8;;\u001b\\\n"
      ]
     },
     "metadata": {},
     "output_type": "display_data"
    },
    {
     "data": {
      "text/html": [
       "<pre style=\"white-space:pre;overflow-x:auto;line-height:normal;font-family:Menlo,'DejaVu Sans Mono',consolas,'Courier New',monospace\"><span style=\"color: #00ff00; text-decoration-color: #00ff00\">17:40:29 </span><span style=\"color: #00ffaf; text-decoration-color: #00ffaf\">INFO    </span> <span style=\"color: #c6c6c6; text-decoration-color: #c6c6c6; font-weight: bold\"> J1813M1245 in roi: </span><span style=\"color: #c0c0c0; text-decoration-color: #c0c0c0; font-weight: bold\">7</span><span style=\"color: #c6c6c6; text-decoration-color: #c6c6c6; font-weight: bold\"> s</span><span style=\"color: #00ff00; text-decoration-color: #00ff00; font-weight: bold\">f:Fa</span><span style=\"color: #c6c6c6; text-decoration-color: #c6c6c6; font-weight: bold\">lse p</span><span style=\"color: #00ff00; text-decoration-color: #00ff00; font-weight: bold\">f:Fa</span><span style=\"color: #c6c6c6; text-decoration-color: #c6c6c6; font-weight: bold\">lse k</span><span style=\"color: #00ff00; text-decoration-color: #00ff00; font-weight: bold\">f:Fa</span><span style=\"color: #c6c6c6; text-decoration-color: #c6c6c6; font-weight: bold\">lse index</span><span style=\"color: #00ff00; text-decoration-color: #00ff00; font-weight: bold\">f:Fa</span><span style=\"color: #c6c6c6; text-decoration-color: #c6c6c6; font-weight: bold\">lse                        </span><a href=\"file:///data/home/cwy/Science/3MLWCDA/Standard/src/./mylib/Myfit.py\" target=\"_blank\"><span style=\"color: #7f7f7f; text-decoration-color: #7f7f7f\">Myfit.py</span></a><span style=\"color: #7f7f7f; text-decoration-color: #7f7f7f\">:</span><a href=\"file:///data/home/cwy/Science/3MLWCDA/Standard/src/./mylib/Myfit.py#320\" target=\"_blank\"><span style=\"color: #7f7f7f; text-decoration-color: #7f7f7f\">320</span></a>\n",
       "</pre>\n"
      ],
      "text/plain": [
       "\u001b[38;5;46m17:40:29\u001b[0m\u001b[38;5;46m \u001b[0m\u001b[38;5;49mINFO    \u001b[0m \u001b[1;38;5;251m J1813M1245 in roi: \u001b[0m\u001b[1;37m7\u001b[0m\u001b[1;38;5;251m s\u001b[0m\u001b[1;92mf:Fa\u001b[0m\u001b[1;38;5;251mlse p\u001b[0m\u001b[1;92mf:Fa\u001b[0m\u001b[1;38;5;251mlse k\u001b[0m\u001b[1;92mf:Fa\u001b[0m\u001b[1;38;5;251mlse index\u001b[0m\u001b[1;92mf:Fa\u001b[0m\u001b[1;38;5;251mlse                       \u001b[0m\u001b[1;38;5;251m \u001b[0m\u001b]8;id=7355;file:///data/home/cwy/Science/3MLWCDA/Standard/src/./mylib/Myfit.py\u001b\\\u001b[2mMyfit.py\u001b[0m\u001b]8;;\u001b\\\u001b[2m:\u001b[0m\u001b]8;id=591637;file:///data/home/cwy/Science/3MLWCDA/Standard/src/./mylib/Myfit.py#320\u001b\\\u001b[2m320\u001b[0m\u001b]8;;\u001b\\\n"
      ]
     },
     "metadata": {},
     "output_type": "display_data"
    },
    {
     "data": {
      "text/html": [
       "<pre style=\"white-space:pre;overflow-x:auto;line-height:normal;font-family:Menlo,'DejaVu Sans Mono',consolas,'Courier New',monospace\"><span style=\"color: #00ff00; text-decoration-color: #00ff00\">         </span><span style=\"color: #00ffaf; text-decoration-color: #00ffaf\">INFO    </span> <span style=\"color: #c6c6c6; text-decoration-color: #c6c6c6; font-weight: bold\"> Spec:                                                                               </span><a href=\"file:///data/home/cwy/Science/3MLWCDA/Standard/src/./mylib/Myfit.py\" target=\"_blank\"><span style=\"color: #7f7f7f; text-decoration-color: #7f7f7f\">Myfit.py</span></a><span style=\"color: #7f7f7f; text-decoration-color: #7f7f7f\">:</span><a href=\"file:///data/home/cwy/Science/3MLWCDA/Standard/src/./mylib/Myfit.py#348\" target=\"_blank\"><span style=\"color: #7f7f7f; text-decoration-color: #7f7f7f\">348</span></a>\n",
       "<span style=\"color: #00ff00; text-decoration-color: #00ff00\">         </span>         <span style=\"color: #c6c6c6; text-decoration-color: #c6c6c6; font-weight: bold\"> </span><span style=\"color: #808000; text-decoration-color: #808000; font-weight: bold\">K</span><span style=\"color: #c6c6c6; text-decoration-color: #c6c6c6; font-weight: bold\">=</span><span style=\"color: #c0c0c0; text-decoration-color: #c0c0c0; font-weight: bold\">2</span><span style=\"color: #c0c0c0; text-decoration-color: #c0c0c0; font-weight: bold\">.44e-13</span><span style=\"color: #c6c6c6; text-decoration-color: #c6c6c6; font-weight: bold\"> </span><span style=\"color: #808000; text-decoration-color: #808000; font-weight: bold\">kb</span><span style=\"color: #c6c6c6; text-decoration-color: #c6c6c6; font-weight: bold\">=(</span><span style=\"color: #c0c0c0; text-decoration-color: #c0c0c0; font-weight: bold\">2.44e-15</span><span style=\"color: #c6c6c6; text-decoration-color: #c6c6c6; font-weight: bold\">, </span><span style=\"color: #c0c0c0; text-decoration-color: #c0c0c0; font-weight: bold\">1.12e-12</span><span style=\"color: #c6c6c6; text-decoration-color: #c6c6c6; font-weight: bold\">) </span><span style=\"color: #808000; text-decoration-color: #808000; font-weight: bold\">index</span><span style=\"color: #c6c6c6; text-decoration-color: #c6c6c6; font-weight: bold\">=</span><span style=\"color: #c0c0c0; text-decoration-color: #c0c0c0; font-weight: bold\">-2.61</span><span style=\"color: #c6c6c6; text-decoration-color: #c6c6c6; font-weight: bold\"> </span><span style=\"color: #808000; text-decoration-color: #808000; font-weight: bold\">indexb</span><span style=\"color: #c6c6c6; text-decoration-color: #c6c6c6; font-weight: bold\">=(</span><span style=\"color: #c0c0c0; text-decoration-color: #c0c0c0; font-weight: bold\">-3.41</span><span style=\"color: #c6c6c6; text-decoration-color: #c6c6c6; font-weight: bold\">,</span><span style=\"color: #c0c0c0; text-decoration-color: #c0c0c0; font-weight: bold\">-1.81</span><span style=\"color: #c6c6c6; text-decoration-color: #c6c6c6; font-weight: bold\">)                 </span><span style=\"color: #7f7f7f; text-decoration-color: #7f7f7f\">            </span>\n",
       "</pre>\n"
      ],
      "text/plain": [
       "\u001b[38;5;46m        \u001b[0m\u001b[38;5;46m \u001b[0m\u001b[38;5;49mINFO    \u001b[0m \u001b[1;38;5;251m Spec:                                                                              \u001b[0m\u001b[1;38;5;251m \u001b[0m\u001b]8;id=878114;file:///data/home/cwy/Science/3MLWCDA/Standard/src/./mylib/Myfit.py\u001b\\\u001b[2mMyfit.py\u001b[0m\u001b]8;;\u001b\\\u001b[2m:\u001b[0m\u001b]8;id=955108;file:///data/home/cwy/Science/3MLWCDA/Standard/src/./mylib/Myfit.py#348\u001b\\\u001b[2m348\u001b[0m\u001b]8;;\u001b\\\n",
       "\u001b[38;5;46m         \u001b[0m         \u001b[1;38;5;251m \u001b[0m\u001b[1;33mK\u001b[0m\u001b[1;38;5;251m=\u001b[0m\u001b[1;37m2\u001b[0m\u001b[1;37m.44e-13\u001b[0m\u001b[1;38;5;251m \u001b[0m\u001b[1;33mkb\u001b[0m\u001b[1;38;5;251m=\u001b[0m\u001b[1;38;5;251m(\u001b[0m\u001b[1;37m2.44e-15\u001b[0m\u001b[1;38;5;251m, \u001b[0m\u001b[1;37m1.12e-12\u001b[0m\u001b[1;38;5;251m)\u001b[0m\u001b[1;38;5;251m \u001b[0m\u001b[1;33mindex\u001b[0m\u001b[1;38;5;251m=\u001b[0m\u001b[1;37m-2.61\u001b[0m\u001b[1;38;5;251m \u001b[0m\u001b[1;33mindexb\u001b[0m\u001b[1;38;5;251m=\u001b[0m\u001b[1;38;5;251m(\u001b[0m\u001b[1;37m-3.41\u001b[0m\u001b[1;38;5;251m,\u001b[0m\u001b[1;37m-1.81\u001b[0m\u001b[1;38;5;251m)\u001b[0m\u001b[1;38;5;251m                \u001b[0m\u001b[1;38;5;251m \u001b[0m\u001b[2m            \u001b[0m\n"
      ]
     },
     "metadata": {},
     "output_type": "display_data"
    },
    {
     "data": {
      "text/html": [
       "<pre style=\"white-space:pre;overflow-x:auto;line-height:normal;font-family:Menlo,'DejaVu Sans Mono',consolas,'Courier New',monospace\"><span style=\"color: #00ff00; text-decoration-color: #00ff00\">         </span><span style=\"color: #00ffaf; text-decoration-color: #00ffaf\">INFO    </span> <span style=\"color: #c6c6c6; text-decoration-color: #c6c6c6; font-weight: bold\"> Mor: </span><span style=\"color: #808000; text-decoration-color: #808000; font-weight: bold\">fitrange</span><span style=\"color: #c6c6c6; text-decoration-color: #c6c6c6; font-weight: bold\">=</span><span style=\"color: #c0c0c0; text-decoration-color: #c0c0c0; font-weight: bold\">1</span><span style=\"color: #c0c0c0; text-decoration-color: #c0c0c0; font-weight: bold\">.68</span><span style=\"color: #c6c6c6; text-decoration-color: #c6c6c6; font-weight: bold\">                                                                  </span><a href=\"file:///data/home/cwy/Science/3MLWCDA/Standard/src/./mylib/Myfit.py\" target=\"_blank\"><span style=\"color: #7f7f7f; text-decoration-color: #7f7f7f\">Myfit.py</span></a><span style=\"color: #7f7f7f; text-decoration-color: #7f7f7f\">:</span><a href=\"file:///data/home/cwy/Science/3MLWCDA/Standard/src/./mylib/Myfit.py#358\" target=\"_blank\"><span style=\"color: #7f7f7f; text-decoration-color: #7f7f7f\">358</span></a>\n",
       "</pre>\n"
      ],
      "text/plain": [
       "\u001b[38;5;46m        \u001b[0m\u001b[38;5;46m \u001b[0m\u001b[38;5;49mINFO    \u001b[0m \u001b[1;38;5;251m Mor: \u001b[0m\u001b[1;33mfitrange\u001b[0m\u001b[1;38;5;251m=\u001b[0m\u001b[1;37m1\u001b[0m\u001b[1;37m.68\u001b[0m\u001b[1;38;5;251m                                                                 \u001b[0m\u001b[1;38;5;251m \u001b[0m\u001b]8;id=441363;file:///data/home/cwy/Science/3MLWCDA/Standard/src/./mylib/Myfit.py\u001b\\\u001b[2mMyfit.py\u001b[0m\u001b]8;;\u001b\\\u001b[2m:\u001b[0m\u001b]8;id=567461;file:///data/home/cwy/Science/3MLWCDA/Standard/src/./mylib/Myfit.py#358\u001b\\\u001b[2m358\u001b[0m\u001b]8;;\u001b\\\n"
      ]
     },
     "metadata": {},
     "output_type": "display_data"
    },
    {
     "data": {
      "text/html": [
       "<pre style=\"white-space:pre;overflow-x:auto;line-height:normal;font-family:Menlo,'DejaVu Sans Mono',consolas,'Courier New',monospace\"><span style=\"color: #00ff00; text-decoration-color: #00ff00\">         </span><span style=\"color: #00ffaf; text-decoration-color: #00ffaf\">INFO    </span> <span style=\"color: #c6c6c6; text-decoration-color: #c6c6c6; font-weight: bold\"> J1814M1719u in model_radius: </span><span style=\"color: #c0c0c0; text-decoration-color: #c0c0c0; font-weight: bold\">7.5</span><span style=\"color: #c6c6c6; text-decoration-color: #c6c6c6; font-weight: bold\"> sf:</span><span style=\"color: #00ff00; text-decoration-color: #00ff00; font-weight: bold; font-style: italic\">True</span><span style=\"color: #c6c6c6; text-decoration-color: #c6c6c6; font-weight: bold\"> pf:</span><span style=\"color: #00ff00; text-decoration-color: #00ff00; font-weight: bold; font-style: italic\">True</span><span style=\"color: #c6c6c6; text-decoration-color: #c6c6c6; font-weight: bold\"> k</span><span style=\"color: #00ff00; text-decoration-color: #00ff00; font-weight: bold\">f:Fa</span><span style=\"color: #c6c6c6; text-decoration-color: #c6c6c6; font-weight: bold\">lse index</span><span style=\"color: #00ff00; text-decoration-color: #00ff00; font-weight: bold\">f:Fa</span><span style=\"color: #c6c6c6; text-decoration-color: #c6c6c6; font-weight: bold\">lse              </span><a href=\"file:///data/home/cwy/Science/3MLWCDA/Standard/src/./mylib/Myfit.py\" target=\"_blank\"><span style=\"color: #7f7f7f; text-decoration-color: #7f7f7f\">Myfit.py</span></a><span style=\"color: #7f7f7f; text-decoration-color: #7f7f7f\">:</span><a href=\"file:///data/home/cwy/Science/3MLWCDA/Standard/src/./mylib/Myfit.py#327\" target=\"_blank\"><span style=\"color: #7f7f7f; text-decoration-color: #7f7f7f\">327</span></a>\n",
       "</pre>\n"
      ],
      "text/plain": [
       "\u001b[38;5;46m        \u001b[0m\u001b[38;5;46m \u001b[0m\u001b[38;5;49mINFO    \u001b[0m \u001b[1;38;5;251m J1814M1719u in model_radius: \u001b[0m\u001b[1;37m7.5\u001b[0m\u001b[1;38;5;251m sf:\u001b[0m\u001b[1;3;92mTrue\u001b[0m\u001b[1;38;5;251m pf:\u001b[0m\u001b[1;3;92mTrue\u001b[0m\u001b[1;38;5;251m k\u001b[0m\u001b[1;92mf:Fa\u001b[0m\u001b[1;38;5;251mlse index\u001b[0m\u001b[1;92mf:Fa\u001b[0m\u001b[1;38;5;251mlse             \u001b[0m\u001b[1;38;5;251m \u001b[0m\u001b]8;id=897629;file:///data/home/cwy/Science/3MLWCDA/Standard/src/./mylib/Myfit.py\u001b\\\u001b[2mMyfit.py\u001b[0m\u001b]8;;\u001b\\\u001b[2m:\u001b[0m\u001b]8;id=20451;file:///data/home/cwy/Science/3MLWCDA/Standard/src/./mylib/Myfit.py#327\u001b\\\u001b[2m327\u001b[0m\u001b]8;;\u001b\\\n"
      ]
     },
     "metadata": {},
     "output_type": "display_data"
    },
    {
     "data": {
      "text/html": [
       "<pre style=\"white-space:pre;overflow-x:auto;line-height:normal;font-family:Menlo,'DejaVu Sans Mono',consolas,'Courier New',monospace\"><span style=\"color: #00ff00; text-decoration-color: #00ff00\">         </span><span style=\"color: #00ffaf; text-decoration-color: #00ffaf\">INFO    </span> <span style=\"color: #c6c6c6; text-decoration-color: #c6c6c6; font-weight: bold\"> Spec:                                                                               </span><a href=\"file:///data/home/cwy/Science/3MLWCDA/Standard/src/./mylib/Myfit.py\" target=\"_blank\"><span style=\"color: #7f7f7f; text-decoration-color: #7f7f7f\">Myfit.py</span></a><span style=\"color: #7f7f7f; text-decoration-color: #7f7f7f\">:</span><a href=\"file:///data/home/cwy/Science/3MLWCDA/Standard/src/./mylib/Myfit.py#348\" target=\"_blank\"><span style=\"color: #7f7f7f; text-decoration-color: #7f7f7f\">348</span></a>\n",
       "<span style=\"color: #00ff00; text-decoration-color: #00ff00\">         </span>         <span style=\"color: #c6c6c6; text-decoration-color: #c6c6c6; font-weight: bold\"> </span><span style=\"color: #808000; text-decoration-color: #808000; font-weight: bold\">K</span><span style=\"color: #c6c6c6; text-decoration-color: #c6c6c6; font-weight: bold\">=</span><span style=\"color: #c0c0c0; text-decoration-color: #c0c0c0; font-weight: bold\">2</span><span style=\"color: #c0c0c0; text-decoration-color: #c0c0c0; font-weight: bold\">.65e-12</span><span style=\"color: #c6c6c6; text-decoration-color: #c6c6c6; font-weight: bold\"> </span><span style=\"color: #808000; text-decoration-color: #808000; font-weight: bold\">kb</span><span style=\"color: #c6c6c6; text-decoration-color: #c6c6c6; font-weight: bold\">=(</span><span style=\"color: #c0c0c0; text-decoration-color: #c0c0c0; font-weight: bold\">2.65e-14</span><span style=\"color: #c6c6c6; text-decoration-color: #c6c6c6; font-weight: bold\">, </span><span style=\"color: #c0c0c0; text-decoration-color: #c0c0c0; font-weight: bold\">7.57e-12</span><span style=\"color: #c6c6c6; text-decoration-color: #c6c6c6; font-weight: bold\">) </span><span style=\"color: #808000; text-decoration-color: #808000; font-weight: bold\">index</span><span style=\"color: #c6c6c6; text-decoration-color: #c6c6c6; font-weight: bold\">=</span><span style=\"color: #c0c0c0; text-decoration-color: #c0c0c0; font-weight: bold\">-2.83</span><span style=\"color: #c6c6c6; text-decoration-color: #c6c6c6; font-weight: bold\"> </span><span style=\"color: #808000; text-decoration-color: #808000; font-weight: bold\">indexb</span><span style=\"color: #c6c6c6; text-decoration-color: #c6c6c6; font-weight: bold\">=(</span><span style=\"color: #c0c0c0; text-decoration-color: #c0c0c0; font-weight: bold\">-3.43</span><span style=\"color: #c6c6c6; text-decoration-color: #c6c6c6; font-weight: bold\">,</span><span style=\"color: #c0c0c0; text-decoration-color: #c0c0c0; font-weight: bold\">-2.23</span><span style=\"color: #c6c6c6; text-decoration-color: #c6c6c6; font-weight: bold\">)                 </span><span style=\"color: #7f7f7f; text-decoration-color: #7f7f7f\">            </span>\n",
       "</pre>\n"
      ],
      "text/plain": [
       "\u001b[38;5;46m        \u001b[0m\u001b[38;5;46m \u001b[0m\u001b[38;5;49mINFO    \u001b[0m \u001b[1;38;5;251m Spec:                                                                              \u001b[0m\u001b[1;38;5;251m \u001b[0m\u001b]8;id=417617;file:///data/home/cwy/Science/3MLWCDA/Standard/src/./mylib/Myfit.py\u001b\\\u001b[2mMyfit.py\u001b[0m\u001b]8;;\u001b\\\u001b[2m:\u001b[0m\u001b]8;id=862831;file:///data/home/cwy/Science/3MLWCDA/Standard/src/./mylib/Myfit.py#348\u001b\\\u001b[2m348\u001b[0m\u001b]8;;\u001b\\\n",
       "\u001b[38;5;46m         \u001b[0m         \u001b[1;38;5;251m \u001b[0m\u001b[1;33mK\u001b[0m\u001b[1;38;5;251m=\u001b[0m\u001b[1;37m2\u001b[0m\u001b[1;37m.65e-12\u001b[0m\u001b[1;38;5;251m \u001b[0m\u001b[1;33mkb\u001b[0m\u001b[1;38;5;251m=\u001b[0m\u001b[1;38;5;251m(\u001b[0m\u001b[1;37m2.65e-14\u001b[0m\u001b[1;38;5;251m, \u001b[0m\u001b[1;37m7.57e-12\u001b[0m\u001b[1;38;5;251m)\u001b[0m\u001b[1;38;5;251m \u001b[0m\u001b[1;33mindex\u001b[0m\u001b[1;38;5;251m=\u001b[0m\u001b[1;37m-2.83\u001b[0m\u001b[1;38;5;251m \u001b[0m\u001b[1;33mindexb\u001b[0m\u001b[1;38;5;251m=\u001b[0m\u001b[1;38;5;251m(\u001b[0m\u001b[1;37m-3.43\u001b[0m\u001b[1;38;5;251m,\u001b[0m\u001b[1;37m-2.23\u001b[0m\u001b[1;38;5;251m)\u001b[0m\u001b[1;38;5;251m                \u001b[0m\u001b[1;38;5;251m \u001b[0m\u001b[2m            \u001b[0m\n"
      ]
     },
     "metadata": {},
     "output_type": "display_data"
    },
    {
     "data": {
      "text/html": [
       "<pre style=\"white-space:pre;overflow-x:auto;line-height:normal;font-family:Menlo,'DejaVu Sans Mono',consolas,'Courier New',monospace\"><span style=\"color: #00ff00; text-decoration-color: #00ff00\">         </span><span style=\"color: #00ffaf; text-decoration-color: #00ffaf\">INFO    </span> <span style=\"color: #c6c6c6; text-decoration-color: #c6c6c6; font-weight: bold\"> Mor:                                                                                </span><a href=\"file:///data/home/cwy/Science/3MLWCDA/Standard/src/./mylib/Myfit.py\" target=\"_blank\"><span style=\"color: #7f7f7f; text-decoration-color: #7f7f7f\">Myfit.py</span></a><span style=\"color: #7f7f7f; text-decoration-color: #7f7f7f\">:</span><a href=\"file:///data/home/cwy/Science/3MLWCDA/Standard/src/./mylib/Myfit.py#350\" target=\"_blank\"><span style=\"color: #7f7f7f; text-decoration-color: #7f7f7f\">350</span></a>\n",
       "<span style=\"color: #00ff00; text-decoration-color: #00ff00\">         </span>         <span style=\"color: #c6c6c6; text-decoration-color: #c6c6c6; font-weight: bold\"> </span><span style=\"color: #808000; text-decoration-color: #808000; font-weight: bold\">sigma</span><span style=\"color: #c6c6c6; text-decoration-color: #c6c6c6; font-weight: bold\">=</span><span style=\"color: #c0c0c0; text-decoration-color: #c0c0c0; font-weight: bold\">0</span><span style=\"color: #c0c0c0; text-decoration-color: #c0c0c0; font-weight: bold\">.71</span><span style=\"color: #c6c6c6; text-decoration-color: #c6c6c6; font-weight: bold\"> </span><span style=\"color: #808000; text-decoration-color: #808000; font-weight: bold\">sb</span><span style=\"color: #c6c6c6; text-decoration-color: #c6c6c6; font-weight: bold\">=(</span><span style=\"color: #c0c0c0; text-decoration-color: #c0c0c0; font-weight: bold\">0.15</span><span style=\"color: #c6c6c6; text-decoration-color: #c6c6c6; font-weight: bold\">,</span><span style=\"color: #c0c0c0; text-decoration-color: #c0c0c0; font-weight: bold\">1.27</span><span style=\"color: #c6c6c6; text-decoration-color: #c6c6c6; font-weight: bold\">) </span><span style=\"color: #808000; text-decoration-color: #808000; font-weight: bold\">fitrange</span><span style=\"color: #c6c6c6; text-decoration-color: #c6c6c6; font-weight: bold\">=</span><span style=\"color: #c0c0c0; text-decoration-color: #c0c0c0; font-weight: bold\">2</span><span style=\"color: #c0c0c0; text-decoration-color: #c0c0c0; font-weight: bold\">.16</span><span style=\"color: #c6c6c6; text-decoration-color: #c6c6c6; font-weight: bold\">                                             </span><span style=\"color: #7f7f7f; text-decoration-color: #7f7f7f\">            </span>\n",
       "</pre>\n"
      ],
      "text/plain": [
       "\u001b[38;5;46m        \u001b[0m\u001b[38;5;46m \u001b[0m\u001b[38;5;49mINFO    \u001b[0m \u001b[1;38;5;251m Mor:                                                                               \u001b[0m\u001b[1;38;5;251m \u001b[0m\u001b]8;id=382006;file:///data/home/cwy/Science/3MLWCDA/Standard/src/./mylib/Myfit.py\u001b\\\u001b[2mMyfit.py\u001b[0m\u001b]8;;\u001b\\\u001b[2m:\u001b[0m\u001b]8;id=855105;file:///data/home/cwy/Science/3MLWCDA/Standard/src/./mylib/Myfit.py#350\u001b\\\u001b[2m350\u001b[0m\u001b]8;;\u001b\\\n",
       "\u001b[38;5;46m         \u001b[0m         \u001b[1;38;5;251m \u001b[0m\u001b[1;33msigma\u001b[0m\u001b[1;38;5;251m=\u001b[0m\u001b[1;37m0\u001b[0m\u001b[1;37m.71\u001b[0m\u001b[1;38;5;251m \u001b[0m\u001b[1;33msb\u001b[0m\u001b[1;38;5;251m=\u001b[0m\u001b[1;38;5;251m(\u001b[0m\u001b[1;37m0.15\u001b[0m\u001b[1;38;5;251m,\u001b[0m\u001b[1;37m1.27\u001b[0m\u001b[1;38;5;251m)\u001b[0m\u001b[1;38;5;251m \u001b[0m\u001b[1;33mfitrange\u001b[0m\u001b[1;38;5;251m=\u001b[0m\u001b[1;37m2\u001b[0m\u001b[1;37m.16\u001b[0m\u001b[1;38;5;251m                                            \u001b[0m\u001b[1;38;5;251m \u001b[0m\u001b[2m            \u001b[0m\n"
      ]
     },
     "metadata": {},
     "output_type": "display_data"
    },
    {
     "data": {
      "text/html": [
       "<pre style=\"white-space:pre;overflow-x:auto;line-height:normal;font-family:Menlo,'DejaVu Sans Mono',consolas,'Courier New',monospace\"><span style=\"color: #00ff00; text-decoration-color: #00ff00\">         </span><span style=\"color: #00ffaf; text-decoration-color: #00ffaf\">INFO    </span> <span style=\"color: #c6c6c6; text-decoration-color: #c6c6c6; font-weight: bold\"> J1825M1418 in roi: </span><span style=\"color: #c0c0c0; text-decoration-color: #c0c0c0; font-weight: bold\">7</span><span style=\"color: #c6c6c6; text-decoration-color: #c6c6c6; font-weight: bold\"> s</span><span style=\"color: #00ff00; text-decoration-color: #00ff00; font-weight: bold\">f:Fa</span><span style=\"color: #c6c6c6; text-decoration-color: #c6c6c6; font-weight: bold\">lse p</span><span style=\"color: #00ff00; text-decoration-color: #00ff00; font-weight: bold\">f:Fa</span><span style=\"color: #c6c6c6; text-decoration-color: #c6c6c6; font-weight: bold\">lse k</span><span style=\"color: #00ff00; text-decoration-color: #00ff00; font-weight: bold\">f:Fa</span><span style=\"color: #c6c6c6; text-decoration-color: #c6c6c6; font-weight: bold\">lse index</span><span style=\"color: #00ff00; text-decoration-color: #00ff00; font-weight: bold\">f:Fa</span><span style=\"color: #c6c6c6; text-decoration-color: #c6c6c6; font-weight: bold\">lse                        </span><a href=\"file:///data/home/cwy/Science/3MLWCDA/Standard/src/./mylib/Myfit.py\" target=\"_blank\"><span style=\"color: #7f7f7f; text-decoration-color: #7f7f7f\">Myfit.py</span></a><span style=\"color: #7f7f7f; text-decoration-color: #7f7f7f\">:</span><a href=\"file:///data/home/cwy/Science/3MLWCDA/Standard/src/./mylib/Myfit.py#320\" target=\"_blank\"><span style=\"color: #7f7f7f; text-decoration-color: #7f7f7f\">320</span></a>\n",
       "</pre>\n"
      ],
      "text/plain": [
       "\u001b[38;5;46m        \u001b[0m\u001b[38;5;46m \u001b[0m\u001b[38;5;49mINFO    \u001b[0m \u001b[1;38;5;251m J1825M1418 in roi: \u001b[0m\u001b[1;37m7\u001b[0m\u001b[1;38;5;251m s\u001b[0m\u001b[1;92mf:Fa\u001b[0m\u001b[1;38;5;251mlse p\u001b[0m\u001b[1;92mf:Fa\u001b[0m\u001b[1;38;5;251mlse k\u001b[0m\u001b[1;92mf:Fa\u001b[0m\u001b[1;38;5;251mlse index\u001b[0m\u001b[1;92mf:Fa\u001b[0m\u001b[1;38;5;251mlse                       \u001b[0m\u001b[1;38;5;251m \u001b[0m\u001b]8;id=708056;file:///data/home/cwy/Science/3MLWCDA/Standard/src/./mylib/Myfit.py\u001b\\\u001b[2mMyfit.py\u001b[0m\u001b]8;;\u001b\\\u001b[2m:\u001b[0m\u001b]8;id=684172;file:///data/home/cwy/Science/3MLWCDA/Standard/src/./mylib/Myfit.py#320\u001b\\\u001b[2m320\u001b[0m\u001b]8;;\u001b\\\n"
      ]
     },
     "metadata": {},
     "output_type": "display_data"
    },
    {
     "data": {
      "text/html": [
       "<pre style=\"white-space:pre;overflow-x:auto;line-height:normal;font-family:Menlo,'DejaVu Sans Mono',consolas,'Courier New',monospace\"><span style=\"color: #00ff00; text-decoration-color: #00ff00\">         </span><span style=\"color: #00ffaf; text-decoration-color: #00ffaf\">INFO    </span> <span style=\"color: #c6c6c6; text-decoration-color: #c6c6c6; font-weight: bold\"> Spec:                                                                               </span><a href=\"file:///data/home/cwy/Science/3MLWCDA/Standard/src/./mylib/Myfit.py\" target=\"_blank\"><span style=\"color: #7f7f7f; text-decoration-color: #7f7f7f\">Myfit.py</span></a><span style=\"color: #7f7f7f; text-decoration-color: #7f7f7f\">:</span><a href=\"file:///data/home/cwy/Science/3MLWCDA/Standard/src/./mylib/Myfit.py#348\" target=\"_blank\"><span style=\"color: #7f7f7f; text-decoration-color: #7f7f7f\">348</span></a>\n",
       "<span style=\"color: #00ff00; text-decoration-color: #00ff00\">         </span>         <span style=\"color: #c6c6c6; text-decoration-color: #c6c6c6; font-weight: bold\"> </span><span style=\"color: #808000; text-decoration-color: #808000; font-weight: bold\">K</span><span style=\"color: #c6c6c6; text-decoration-color: #c6c6c6; font-weight: bold\">=</span><span style=\"color: #c0c0c0; text-decoration-color: #c0c0c0; font-weight: bold\">3</span><span style=\"color: #c0c0c0; text-decoration-color: #c0c0c0; font-weight: bold\">.92e-12</span><span style=\"color: #c6c6c6; text-decoration-color: #c6c6c6; font-weight: bold\"> </span><span style=\"color: #808000; text-decoration-color: #808000; font-weight: bold\">kb</span><span style=\"color: #c6c6c6; text-decoration-color: #c6c6c6; font-weight: bold\">=(</span><span style=\"color: #c0c0c0; text-decoration-color: #c0c0c0; font-weight: bold\">3.92e-14</span><span style=\"color: #c6c6c6; text-decoration-color: #c6c6c6; font-weight: bold\">, </span><span style=\"color: #c0c0c0; text-decoration-color: #c0c0c0; font-weight: bold\">8.52e-12</span><span style=\"color: #c6c6c6; text-decoration-color: #c6c6c6; font-weight: bold\">) </span><span style=\"color: #808000; text-decoration-color: #808000; font-weight: bold\">index</span><span style=\"color: #c6c6c6; text-decoration-color: #c6c6c6; font-weight: bold\">=</span><span style=\"color: #c0c0c0; text-decoration-color: #c0c0c0; font-weight: bold\">-2.98</span><span style=\"color: #c6c6c6; text-decoration-color: #c6c6c6; font-weight: bold\"> </span><span style=\"color: #808000; text-decoration-color: #808000; font-weight: bold\">indexb</span><span style=\"color: #c6c6c6; text-decoration-color: #c6c6c6; font-weight: bold\">=(</span><span style=\"color: #c0c0c0; text-decoration-color: #c0c0c0; font-weight: bold\">-3.48</span><span style=\"color: #c6c6c6; text-decoration-color: #c6c6c6; font-weight: bold\">,</span><span style=\"color: #c0c0c0; text-decoration-color: #c0c0c0; font-weight: bold\">-2.48</span><span style=\"color: #c6c6c6; text-decoration-color: #c6c6c6; font-weight: bold\">)                 </span><span style=\"color: #7f7f7f; text-decoration-color: #7f7f7f\">            </span>\n",
       "</pre>\n"
      ],
      "text/plain": [
       "\u001b[38;5;46m        \u001b[0m\u001b[38;5;46m \u001b[0m\u001b[38;5;49mINFO    \u001b[0m \u001b[1;38;5;251m Spec:                                                                              \u001b[0m\u001b[1;38;5;251m \u001b[0m\u001b]8;id=146933;file:///data/home/cwy/Science/3MLWCDA/Standard/src/./mylib/Myfit.py\u001b\\\u001b[2mMyfit.py\u001b[0m\u001b]8;;\u001b\\\u001b[2m:\u001b[0m\u001b]8;id=219650;file:///data/home/cwy/Science/3MLWCDA/Standard/src/./mylib/Myfit.py#348\u001b\\\u001b[2m348\u001b[0m\u001b]8;;\u001b\\\n",
       "\u001b[38;5;46m         \u001b[0m         \u001b[1;38;5;251m \u001b[0m\u001b[1;33mK\u001b[0m\u001b[1;38;5;251m=\u001b[0m\u001b[1;37m3\u001b[0m\u001b[1;37m.92e-12\u001b[0m\u001b[1;38;5;251m \u001b[0m\u001b[1;33mkb\u001b[0m\u001b[1;38;5;251m=\u001b[0m\u001b[1;38;5;251m(\u001b[0m\u001b[1;37m3.92e-14\u001b[0m\u001b[1;38;5;251m, \u001b[0m\u001b[1;37m8.52e-12\u001b[0m\u001b[1;38;5;251m)\u001b[0m\u001b[1;38;5;251m \u001b[0m\u001b[1;33mindex\u001b[0m\u001b[1;38;5;251m=\u001b[0m\u001b[1;37m-2.98\u001b[0m\u001b[1;38;5;251m \u001b[0m\u001b[1;33mindexb\u001b[0m\u001b[1;38;5;251m=\u001b[0m\u001b[1;38;5;251m(\u001b[0m\u001b[1;37m-3.48\u001b[0m\u001b[1;38;5;251m,\u001b[0m\u001b[1;37m-2.48\u001b[0m\u001b[1;38;5;251m)\u001b[0m\u001b[1;38;5;251m                \u001b[0m\u001b[1;38;5;251m \u001b[0m\u001b[2m            \u001b[0m\n"
      ]
     },
     "metadata": {},
     "output_type": "display_data"
    },
    {
     "data": {
      "text/html": [
       "<pre style=\"white-space:pre;overflow-x:auto;line-height:normal;font-family:Menlo,'DejaVu Sans Mono',consolas,'Courier New',monospace\"><span style=\"color: #00ff00; text-decoration-color: #00ff00\">         </span><span style=\"color: #00ffaf; text-decoration-color: #00ffaf\">INFO    </span> <span style=\"color: #c6c6c6; text-decoration-color: #c6c6c6; font-weight: bold\"> Mor:                                                                                </span><a href=\"file:///data/home/cwy/Science/3MLWCDA/Standard/src/./mylib/Myfit.py\" target=\"_blank\"><span style=\"color: #7f7f7f; text-decoration-color: #7f7f7f\">Myfit.py</span></a><span style=\"color: #7f7f7f; text-decoration-color: #7f7f7f\">:</span><a href=\"file:///data/home/cwy/Science/3MLWCDA/Standard/src/./mylib/Myfit.py#350\" target=\"_blank\"><span style=\"color: #7f7f7f; text-decoration-color: #7f7f7f\">350</span></a>\n",
       "<span style=\"color: #00ff00; text-decoration-color: #00ff00\">         </span>         <span style=\"color: #c6c6c6; text-decoration-color: #c6c6c6; font-weight: bold\"> </span><span style=\"color: #808000; text-decoration-color: #808000; font-weight: bold\">sigma</span><span style=\"color: #c6c6c6; text-decoration-color: #c6c6c6; font-weight: bold\">=</span><span style=\"color: #c0c0c0; text-decoration-color: #c0c0c0; font-weight: bold\">0</span><span style=\"color: #c0c0c0; text-decoration-color: #c0c0c0; font-weight: bold\">.81</span><span style=\"color: #c6c6c6; text-decoration-color: #c6c6c6; font-weight: bold\"> </span><span style=\"color: #808000; text-decoration-color: #808000; font-weight: bold\">sb</span><span style=\"color: #c6c6c6; text-decoration-color: #c6c6c6; font-weight: bold\">=(</span><span style=\"color: #c0c0c0; text-decoration-color: #c0c0c0; font-weight: bold\">0.41</span><span style=\"color: #c6c6c6; text-decoration-color: #c6c6c6; font-weight: bold\">,</span><span style=\"color: #c0c0c0; text-decoration-color: #c0c0c0; font-weight: bold\">1.21</span><span style=\"color: #c6c6c6; text-decoration-color: #c6c6c6; font-weight: bold\">) </span><span style=\"color: #808000; text-decoration-color: #808000; font-weight: bold\">fitrange</span><span style=\"color: #c6c6c6; text-decoration-color: #c6c6c6; font-weight: bold\">=</span><span style=\"color: #c0c0c0; text-decoration-color: #c0c0c0; font-weight: bold\">1</span><span style=\"color: #c0c0c0; text-decoration-color: #c0c0c0; font-weight: bold\">.52</span><span style=\"color: #c6c6c6; text-decoration-color: #c6c6c6; font-weight: bold\">                                             </span><span style=\"color: #7f7f7f; text-decoration-color: #7f7f7f\">            </span>\n",
       "</pre>\n"
      ],
      "text/plain": [
       "\u001b[38;5;46m        \u001b[0m\u001b[38;5;46m \u001b[0m\u001b[38;5;49mINFO    \u001b[0m \u001b[1;38;5;251m Mor:                                                                               \u001b[0m\u001b[1;38;5;251m \u001b[0m\u001b]8;id=458851;file:///data/home/cwy/Science/3MLWCDA/Standard/src/./mylib/Myfit.py\u001b\\\u001b[2mMyfit.py\u001b[0m\u001b]8;;\u001b\\\u001b[2m:\u001b[0m\u001b]8;id=393359;file:///data/home/cwy/Science/3MLWCDA/Standard/src/./mylib/Myfit.py#350\u001b\\\u001b[2m350\u001b[0m\u001b]8;;\u001b\\\n",
       "\u001b[38;5;46m         \u001b[0m         \u001b[1;38;5;251m \u001b[0m\u001b[1;33msigma\u001b[0m\u001b[1;38;5;251m=\u001b[0m\u001b[1;37m0\u001b[0m\u001b[1;37m.81\u001b[0m\u001b[1;38;5;251m \u001b[0m\u001b[1;33msb\u001b[0m\u001b[1;38;5;251m=\u001b[0m\u001b[1;38;5;251m(\u001b[0m\u001b[1;37m0.41\u001b[0m\u001b[1;38;5;251m,\u001b[0m\u001b[1;37m1.21\u001b[0m\u001b[1;38;5;251m)\u001b[0m\u001b[1;38;5;251m \u001b[0m\u001b[1;33mfitrange\u001b[0m\u001b[1;38;5;251m=\u001b[0m\u001b[1;37m1\u001b[0m\u001b[1;37m.52\u001b[0m\u001b[1;38;5;251m                                            \u001b[0m\u001b[1;38;5;251m \u001b[0m\u001b[2m            \u001b[0m\n"
      ]
     },
     "metadata": {},
     "output_type": "display_data"
    },
    {
     "data": {
      "text/html": [
       "<pre style=\"white-space:pre;overflow-x:auto;line-height:normal;font-family:Menlo,'DejaVu Sans Mono',consolas,'Courier New',monospace\"><span style=\"color: #00ff00; text-decoration-color: #00ff00\">         </span><span style=\"color: #00ffaf; text-decoration-color: #00ffaf\">INFO    </span> <span style=\"color: #c6c6c6; text-decoration-color: #c6c6c6; font-weight: bold\"> J1825M1256u in roi: </span><span style=\"color: #c0c0c0; text-decoration-color: #c0c0c0; font-weight: bold\">7</span><span style=\"color: #c6c6c6; text-decoration-color: #c6c6c6; font-weight: bold\"> s</span><span style=\"color: #00ff00; text-decoration-color: #00ff00; font-weight: bold\">f:Fa</span><span style=\"color: #c6c6c6; text-decoration-color: #c6c6c6; font-weight: bold\">lse p</span><span style=\"color: #00ff00; text-decoration-color: #00ff00; font-weight: bold\">f:Fa</span><span style=\"color: #c6c6c6; text-decoration-color: #c6c6c6; font-weight: bold\">lse k</span><span style=\"color: #00ff00; text-decoration-color: #00ff00; font-weight: bold\">f:Fa</span><span style=\"color: #c6c6c6; text-decoration-color: #c6c6c6; font-weight: bold\">lse index</span><span style=\"color: #00ff00; text-decoration-color: #00ff00; font-weight: bold\">f:Fa</span><span style=\"color: #c6c6c6; text-decoration-color: #c6c6c6; font-weight: bold\">lse                       </span><a href=\"file:///data/home/cwy/Science/3MLWCDA/Standard/src/./mylib/Myfit.py\" target=\"_blank\"><span style=\"color: #7f7f7f; text-decoration-color: #7f7f7f\">Myfit.py</span></a><span style=\"color: #7f7f7f; text-decoration-color: #7f7f7f\">:</span><a href=\"file:///data/home/cwy/Science/3MLWCDA/Standard/src/./mylib/Myfit.py#320\" target=\"_blank\"><span style=\"color: #7f7f7f; text-decoration-color: #7f7f7f\">320</span></a>\n",
       "</pre>\n"
      ],
      "text/plain": [
       "\u001b[38;5;46m        \u001b[0m\u001b[38;5;46m \u001b[0m\u001b[38;5;49mINFO    \u001b[0m \u001b[1;38;5;251m J1825M1256u in roi: \u001b[0m\u001b[1;37m7\u001b[0m\u001b[1;38;5;251m s\u001b[0m\u001b[1;92mf:Fa\u001b[0m\u001b[1;38;5;251mlse p\u001b[0m\u001b[1;92mf:Fa\u001b[0m\u001b[1;38;5;251mlse k\u001b[0m\u001b[1;92mf:Fa\u001b[0m\u001b[1;38;5;251mlse index\u001b[0m\u001b[1;92mf:Fa\u001b[0m\u001b[1;38;5;251mlse                      \u001b[0m\u001b[1;38;5;251m \u001b[0m\u001b]8;id=858085;file:///data/home/cwy/Science/3MLWCDA/Standard/src/./mylib/Myfit.py\u001b\\\u001b[2mMyfit.py\u001b[0m\u001b]8;;\u001b\\\u001b[2m:\u001b[0m\u001b]8;id=205000;file:///data/home/cwy/Science/3MLWCDA/Standard/src/./mylib/Myfit.py#320\u001b\\\u001b[2m320\u001b[0m\u001b]8;;\u001b\\\n"
      ]
     },
     "metadata": {},
     "output_type": "display_data"
    },
    {
     "data": {
      "text/html": [
       "<pre style=\"white-space:pre;overflow-x:auto;line-height:normal;font-family:Menlo,'DejaVu Sans Mono',consolas,'Courier New',monospace\"><span style=\"color: #00ff00; text-decoration-color: #00ff00\">         </span><span style=\"color: #00ffaf; text-decoration-color: #00ffaf\">INFO    </span> <span style=\"color: #c6c6c6; text-decoration-color: #c6c6c6; font-weight: bold\"> Spec:                                                                               </span><a href=\"file:///data/home/cwy/Science/3MLWCDA/Standard/src/./mylib/Myfit.py\" target=\"_blank\"><span style=\"color: #7f7f7f; text-decoration-color: #7f7f7f\">Myfit.py</span></a><span style=\"color: #7f7f7f; text-decoration-color: #7f7f7f\">:</span><a href=\"file:///data/home/cwy/Science/3MLWCDA/Standard/src/./mylib/Myfit.py#348\" target=\"_blank\"><span style=\"color: #7f7f7f; text-decoration-color: #7f7f7f\">348</span></a>\n",
       "<span style=\"color: #00ff00; text-decoration-color: #00ff00\">         </span>         <span style=\"color: #c6c6c6; text-decoration-color: #c6c6c6; font-weight: bold\"> </span><span style=\"color: #808000; text-decoration-color: #808000; font-weight: bold\">K</span><span style=\"color: #c6c6c6; text-decoration-color: #c6c6c6; font-weight: bold\">=</span><span style=\"color: #c0c0c0; text-decoration-color: #c0c0c0; font-weight: bold\">8</span><span style=\"color: #c0c0c0; text-decoration-color: #c0c0c0; font-weight: bold\">.27e-13</span><span style=\"color: #c6c6c6; text-decoration-color: #c6c6c6; font-weight: bold\"> </span><span style=\"color: #808000; text-decoration-color: #808000; font-weight: bold\">kb</span><span style=\"color: #c6c6c6; text-decoration-color: #c6c6c6; font-weight: bold\">=(</span><span style=\"color: #c0c0c0; text-decoration-color: #c0c0c0; font-weight: bold\">8.27e-15</span><span style=\"color: #c6c6c6; text-decoration-color: #c6c6c6; font-weight: bold\">, </span><span style=\"color: #c0c0c0; text-decoration-color: #c0c0c0; font-weight: bold\">1.91e-12</span><span style=\"color: #c6c6c6; text-decoration-color: #c6c6c6; font-weight: bold\">) </span><span style=\"color: #808000; text-decoration-color: #808000; font-weight: bold\">index</span><span style=\"color: #c6c6c6; text-decoration-color: #c6c6c6; font-weight: bold\">=</span><span style=\"color: #c0c0c0; text-decoration-color: #c0c0c0; font-weight: bold\">-2.61</span><span style=\"color: #c6c6c6; text-decoration-color: #c6c6c6; font-weight: bold\"> </span><span style=\"color: #808000; text-decoration-color: #808000; font-weight: bold\">indexb</span><span style=\"color: #c6c6c6; text-decoration-color: #c6c6c6; font-weight: bold\">=(</span><span style=\"color: #c0c0c0; text-decoration-color: #c0c0c0; font-weight: bold\">-2.91</span><span style=\"color: #c6c6c6; text-decoration-color: #c6c6c6; font-weight: bold\">,</span><span style=\"color: #c0c0c0; text-decoration-color: #c0c0c0; font-weight: bold\">-2.31</span><span style=\"color: #c6c6c6; text-decoration-color: #c6c6c6; font-weight: bold\">)                 </span><span style=\"color: #7f7f7f; text-decoration-color: #7f7f7f\">            </span>\n",
       "</pre>\n"
      ],
      "text/plain": [
       "\u001b[38;5;46m        \u001b[0m\u001b[38;5;46m \u001b[0m\u001b[38;5;49mINFO    \u001b[0m \u001b[1;38;5;251m Spec:                                                                              \u001b[0m\u001b[1;38;5;251m \u001b[0m\u001b]8;id=89028;file:///data/home/cwy/Science/3MLWCDA/Standard/src/./mylib/Myfit.py\u001b\\\u001b[2mMyfit.py\u001b[0m\u001b]8;;\u001b\\\u001b[2m:\u001b[0m\u001b]8;id=602677;file:///data/home/cwy/Science/3MLWCDA/Standard/src/./mylib/Myfit.py#348\u001b\\\u001b[2m348\u001b[0m\u001b]8;;\u001b\\\n",
       "\u001b[38;5;46m         \u001b[0m         \u001b[1;38;5;251m \u001b[0m\u001b[1;33mK\u001b[0m\u001b[1;38;5;251m=\u001b[0m\u001b[1;37m8\u001b[0m\u001b[1;37m.27e-13\u001b[0m\u001b[1;38;5;251m \u001b[0m\u001b[1;33mkb\u001b[0m\u001b[1;38;5;251m=\u001b[0m\u001b[1;38;5;251m(\u001b[0m\u001b[1;37m8.27e-15\u001b[0m\u001b[1;38;5;251m, \u001b[0m\u001b[1;37m1.91e-12\u001b[0m\u001b[1;38;5;251m)\u001b[0m\u001b[1;38;5;251m \u001b[0m\u001b[1;33mindex\u001b[0m\u001b[1;38;5;251m=\u001b[0m\u001b[1;37m-2.61\u001b[0m\u001b[1;38;5;251m \u001b[0m\u001b[1;33mindexb\u001b[0m\u001b[1;38;5;251m=\u001b[0m\u001b[1;38;5;251m(\u001b[0m\u001b[1;37m-2.91\u001b[0m\u001b[1;38;5;251m,\u001b[0m\u001b[1;37m-2.31\u001b[0m\u001b[1;38;5;251m)\u001b[0m\u001b[1;38;5;251m                \u001b[0m\u001b[1;38;5;251m \u001b[0m\u001b[2m            \u001b[0m\n"
      ]
     },
     "metadata": {},
     "output_type": "display_data"
    },
    {
     "data": {
      "text/html": [
       "<pre style=\"white-space:pre;overflow-x:auto;line-height:normal;font-family:Menlo,'DejaVu Sans Mono',consolas,'Courier New',monospace\"><span style=\"color: #00ff00; text-decoration-color: #00ff00\">         </span><span style=\"color: #00ffaf; text-decoration-color: #00ffaf\">INFO    </span> <span style=\"color: #c6c6c6; text-decoration-color: #c6c6c6; font-weight: bold\"> Mor:                                                                                </span><a href=\"file:///data/home/cwy/Science/3MLWCDA/Standard/src/./mylib/Myfit.py\" target=\"_blank\"><span style=\"color: #7f7f7f; text-decoration-color: #7f7f7f\">Myfit.py</span></a><span style=\"color: #7f7f7f; text-decoration-color: #7f7f7f\">:</span><a href=\"file:///data/home/cwy/Science/3MLWCDA/Standard/src/./mylib/Myfit.py#350\" target=\"_blank\"><span style=\"color: #7f7f7f; text-decoration-color: #7f7f7f\">350</span></a>\n",
       "<span style=\"color: #00ff00; text-decoration-color: #00ff00\">         </span>         <span style=\"color: #c6c6c6; text-decoration-color: #c6c6c6; font-weight: bold\"> </span><span style=\"color: #808000; text-decoration-color: #808000; font-weight: bold\">sigma</span><span style=\"color: #c6c6c6; text-decoration-color: #c6c6c6; font-weight: bold\">=</span><span style=\"color: #c0c0c0; text-decoration-color: #c0c0c0; font-weight: bold\">0</span><span style=\"color: #c0c0c0; text-decoration-color: #c0c0c0; font-weight: bold\">.24</span><span style=\"color: #c6c6c6; text-decoration-color: #c6c6c6; font-weight: bold\"> </span><span style=\"color: #808000; text-decoration-color: #808000; font-weight: bold\">sb</span><span style=\"color: #c6c6c6; text-decoration-color: #c6c6c6; font-weight: bold\">=(</span><span style=\"color: #c0c0c0; text-decoration-color: #c0c0c0; font-weight: bold\">0.00</span><span style=\"color: #c6c6c6; text-decoration-color: #c6c6c6; font-weight: bold\">,</span><span style=\"color: #c0c0c0; text-decoration-color: #c0c0c0; font-weight: bold\">0.48</span><span style=\"color: #c6c6c6; text-decoration-color: #c6c6c6; font-weight: bold\">) </span><span style=\"color: #808000; text-decoration-color: #808000; font-weight: bold\">fitrange</span><span style=\"color: #c6c6c6; text-decoration-color: #c6c6c6; font-weight: bold\">=</span><span style=\"color: #c0c0c0; text-decoration-color: #c0c0c0; font-weight: bold\">0</span><span style=\"color: #c0c0c0; text-decoration-color: #c0c0c0; font-weight: bold\">.64</span><span style=\"color: #c6c6c6; text-decoration-color: #c6c6c6; font-weight: bold\">                                             </span><span style=\"color: #7f7f7f; text-decoration-color: #7f7f7f\">            </span>\n",
       "</pre>\n"
      ],
      "text/plain": [
       "\u001b[38;5;46m        \u001b[0m\u001b[38;5;46m \u001b[0m\u001b[38;5;49mINFO    \u001b[0m \u001b[1;38;5;251m Mor:                                                                               \u001b[0m\u001b[1;38;5;251m \u001b[0m\u001b]8;id=828497;file:///data/home/cwy/Science/3MLWCDA/Standard/src/./mylib/Myfit.py\u001b\\\u001b[2mMyfit.py\u001b[0m\u001b]8;;\u001b\\\u001b[2m:\u001b[0m\u001b]8;id=622973;file:///data/home/cwy/Science/3MLWCDA/Standard/src/./mylib/Myfit.py#350\u001b\\\u001b[2m350\u001b[0m\u001b]8;;\u001b\\\n",
       "\u001b[38;5;46m         \u001b[0m         \u001b[1;38;5;251m \u001b[0m\u001b[1;33msigma\u001b[0m\u001b[1;38;5;251m=\u001b[0m\u001b[1;37m0\u001b[0m\u001b[1;37m.24\u001b[0m\u001b[1;38;5;251m \u001b[0m\u001b[1;33msb\u001b[0m\u001b[1;38;5;251m=\u001b[0m\u001b[1;38;5;251m(\u001b[0m\u001b[1;37m0.00\u001b[0m\u001b[1;38;5;251m,\u001b[0m\u001b[1;37m0.48\u001b[0m\u001b[1;38;5;251m)\u001b[0m\u001b[1;38;5;251m \u001b[0m\u001b[1;33mfitrange\u001b[0m\u001b[1;38;5;251m=\u001b[0m\u001b[1;37m0\u001b[0m\u001b[1;37m.64\u001b[0m\u001b[1;38;5;251m                                            \u001b[0m\u001b[1;38;5;251m \u001b[0m\u001b[2m            \u001b[0m\n"
      ]
     },
     "metadata": {},
     "output_type": "display_data"
    },
    {
     "data": {
      "text/html": [
       "<pre style=\"white-space:pre;overflow-x:auto;line-height:normal;font-family:Menlo,'DejaVu Sans Mono',consolas,'Courier New',monospace\"><span style=\"color: #00ff00; text-decoration-color: #00ff00\">         </span><span style=\"color: #00ffaf; text-decoration-color: #00ffaf\">INFO    </span> <span style=\"color: #c6c6c6; text-decoration-color: #c6c6c6; font-weight: bold\"> J1825M1337u in roi: </span><span style=\"color: #c0c0c0; text-decoration-color: #c0c0c0; font-weight: bold\">7</span><span style=\"color: #c6c6c6; text-decoration-color: #c6c6c6; font-weight: bold\"> s</span><span style=\"color: #00ff00; text-decoration-color: #00ff00; font-weight: bold\">f:Fa</span><span style=\"color: #c6c6c6; text-decoration-color: #c6c6c6; font-weight: bold\">lse p</span><span style=\"color: #00ff00; text-decoration-color: #00ff00; font-weight: bold\">f:Fa</span><span style=\"color: #c6c6c6; text-decoration-color: #c6c6c6; font-weight: bold\">lse k</span><span style=\"color: #00ff00; text-decoration-color: #00ff00; font-weight: bold\">f:Fa</span><span style=\"color: #c6c6c6; text-decoration-color: #c6c6c6; font-weight: bold\">lse index</span><span style=\"color: #00ff00; text-decoration-color: #00ff00; font-weight: bold\">f:Fa</span><span style=\"color: #c6c6c6; text-decoration-color: #c6c6c6; font-weight: bold\">lse                       </span><a href=\"file:///data/home/cwy/Science/3MLWCDA/Standard/src/./mylib/Myfit.py\" target=\"_blank\"><span style=\"color: #7f7f7f; text-decoration-color: #7f7f7f\">Myfit.py</span></a><span style=\"color: #7f7f7f; text-decoration-color: #7f7f7f\">:</span><a href=\"file:///data/home/cwy/Science/3MLWCDA/Standard/src/./mylib/Myfit.py#320\" target=\"_blank\"><span style=\"color: #7f7f7f; text-decoration-color: #7f7f7f\">320</span></a>\n",
       "</pre>\n"
      ],
      "text/plain": [
       "\u001b[38;5;46m        \u001b[0m\u001b[38;5;46m \u001b[0m\u001b[38;5;49mINFO    \u001b[0m \u001b[1;38;5;251m J1825M1337u in roi: \u001b[0m\u001b[1;37m7\u001b[0m\u001b[1;38;5;251m s\u001b[0m\u001b[1;92mf:Fa\u001b[0m\u001b[1;38;5;251mlse p\u001b[0m\u001b[1;92mf:Fa\u001b[0m\u001b[1;38;5;251mlse k\u001b[0m\u001b[1;92mf:Fa\u001b[0m\u001b[1;38;5;251mlse index\u001b[0m\u001b[1;92mf:Fa\u001b[0m\u001b[1;38;5;251mlse                      \u001b[0m\u001b[1;38;5;251m \u001b[0m\u001b]8;id=146171;file:///data/home/cwy/Science/3MLWCDA/Standard/src/./mylib/Myfit.py\u001b\\\u001b[2mMyfit.py\u001b[0m\u001b]8;;\u001b\\\u001b[2m:\u001b[0m\u001b]8;id=696578;file:///data/home/cwy/Science/3MLWCDA/Standard/src/./mylib/Myfit.py#320\u001b\\\u001b[2m320\u001b[0m\u001b]8;;\u001b\\\n"
      ]
     },
     "metadata": {},
     "output_type": "display_data"
    },
    {
     "data": {
      "text/html": [
       "<pre style=\"white-space:pre;overflow-x:auto;line-height:normal;font-family:Menlo,'DejaVu Sans Mono',consolas,'Courier New',monospace\"><span style=\"color: #00ff00; text-decoration-color: #00ff00\">         </span><span style=\"color: #00ffaf; text-decoration-color: #00ffaf\">INFO    </span> <span style=\"color: #c6c6c6; text-decoration-color: #c6c6c6; font-weight: bold\"> Spec:                                                                               </span><a href=\"file:///data/home/cwy/Science/3MLWCDA/Standard/src/./mylib/Myfit.py\" target=\"_blank\"><span style=\"color: #7f7f7f; text-decoration-color: #7f7f7f\">Myfit.py</span></a><span style=\"color: #7f7f7f; text-decoration-color: #7f7f7f\">:</span><a href=\"file:///data/home/cwy/Science/3MLWCDA/Standard/src/./mylib/Myfit.py#348\" target=\"_blank\"><span style=\"color: #7f7f7f; text-decoration-color: #7f7f7f\">348</span></a>\n",
       "<span style=\"color: #00ff00; text-decoration-color: #00ff00\">         </span>         <span style=\"color: #c6c6c6; text-decoration-color: #c6c6c6; font-weight: bold\"> </span><span style=\"color: #808000; text-decoration-color: #808000; font-weight: bold\">K</span><span style=\"color: #c6c6c6; text-decoration-color: #c6c6c6; font-weight: bold\">=</span><span style=\"color: #c0c0c0; text-decoration-color: #c0c0c0; font-weight: bold\">1</span><span style=\"color: #c0c0c0; text-decoration-color: #c0c0c0; font-weight: bold\">.04e-12</span><span style=\"color: #c6c6c6; text-decoration-color: #c6c6c6; font-weight: bold\"> </span><span style=\"color: #808000; text-decoration-color: #808000; font-weight: bold\">kb</span><span style=\"color: #c6c6c6; text-decoration-color: #c6c6c6; font-weight: bold\">=(</span><span style=\"color: #c0c0c0; text-decoration-color: #c0c0c0; font-weight: bold\">1.04e-14</span><span style=\"color: #c6c6c6; text-decoration-color: #c6c6c6; font-weight: bold\">, </span><span style=\"color: #c0c0c0; text-decoration-color: #c0c0c0; font-weight: bold\">2.16e-12</span><span style=\"color: #c6c6c6; text-decoration-color: #c6c6c6; font-weight: bold\">) </span><span style=\"color: #808000; text-decoration-color: #808000; font-weight: bold\">index</span><span style=\"color: #c6c6c6; text-decoration-color: #c6c6c6; font-weight: bold\">=</span><span style=\"color: #c0c0c0; text-decoration-color: #c0c0c0; font-weight: bold\">-2.55</span><span style=\"color: #c6c6c6; text-decoration-color: #c6c6c6; font-weight: bold\"> </span><span style=\"color: #808000; text-decoration-color: #808000; font-weight: bold\">indexb</span><span style=\"color: #c6c6c6; text-decoration-color: #c6c6c6; font-weight: bold\">=(</span><span style=\"color: #c0c0c0; text-decoration-color: #c0c0c0; font-weight: bold\">-2.85</span><span style=\"color: #c6c6c6; text-decoration-color: #c6c6c6; font-weight: bold\">,</span><span style=\"color: #c0c0c0; text-decoration-color: #c0c0c0; font-weight: bold\">-2.25</span><span style=\"color: #c6c6c6; text-decoration-color: #c6c6c6; font-weight: bold\">)                 </span><span style=\"color: #7f7f7f; text-decoration-color: #7f7f7f\">            </span>\n",
       "</pre>\n"
      ],
      "text/plain": [
       "\u001b[38;5;46m        \u001b[0m\u001b[38;5;46m \u001b[0m\u001b[38;5;49mINFO    \u001b[0m \u001b[1;38;5;251m Spec:                                                                              \u001b[0m\u001b[1;38;5;251m \u001b[0m\u001b]8;id=780393;file:///data/home/cwy/Science/3MLWCDA/Standard/src/./mylib/Myfit.py\u001b\\\u001b[2mMyfit.py\u001b[0m\u001b]8;;\u001b\\\u001b[2m:\u001b[0m\u001b]8;id=175543;file:///data/home/cwy/Science/3MLWCDA/Standard/src/./mylib/Myfit.py#348\u001b\\\u001b[2m348\u001b[0m\u001b]8;;\u001b\\\n",
       "\u001b[38;5;46m         \u001b[0m         \u001b[1;38;5;251m \u001b[0m\u001b[1;33mK\u001b[0m\u001b[1;38;5;251m=\u001b[0m\u001b[1;37m1\u001b[0m\u001b[1;37m.04e-12\u001b[0m\u001b[1;38;5;251m \u001b[0m\u001b[1;33mkb\u001b[0m\u001b[1;38;5;251m=\u001b[0m\u001b[1;38;5;251m(\u001b[0m\u001b[1;37m1.04e-14\u001b[0m\u001b[1;38;5;251m, \u001b[0m\u001b[1;37m2.16e-12\u001b[0m\u001b[1;38;5;251m)\u001b[0m\u001b[1;38;5;251m \u001b[0m\u001b[1;33mindex\u001b[0m\u001b[1;38;5;251m=\u001b[0m\u001b[1;37m-2.55\u001b[0m\u001b[1;38;5;251m \u001b[0m\u001b[1;33mindexb\u001b[0m\u001b[1;38;5;251m=\u001b[0m\u001b[1;38;5;251m(\u001b[0m\u001b[1;37m-2.85\u001b[0m\u001b[1;38;5;251m,\u001b[0m\u001b[1;37m-2.25\u001b[0m\u001b[1;38;5;251m)\u001b[0m\u001b[1;38;5;251m                \u001b[0m\u001b[1;38;5;251m \u001b[0m\u001b[2m            \u001b[0m\n"
      ]
     },
     "metadata": {},
     "output_type": "display_data"
    },
    {
     "data": {
      "text/html": [
       "<pre style=\"white-space:pre;overflow-x:auto;line-height:normal;font-family:Menlo,'DejaVu Sans Mono',consolas,'Courier New',monospace\"><span style=\"color: #00ff00; text-decoration-color: #00ff00\">         </span><span style=\"color: #00ffaf; text-decoration-color: #00ffaf\">INFO    </span> <span style=\"color: #c6c6c6; text-decoration-color: #c6c6c6; font-weight: bold\"> Mor:                                                                                </span><a href=\"file:///data/home/cwy/Science/3MLWCDA/Standard/src/./mylib/Myfit.py\" target=\"_blank\"><span style=\"color: #7f7f7f; text-decoration-color: #7f7f7f\">Myfit.py</span></a><span style=\"color: #7f7f7f; text-decoration-color: #7f7f7f\">:</span><a href=\"file:///data/home/cwy/Science/3MLWCDA/Standard/src/./mylib/Myfit.py#350\" target=\"_blank\"><span style=\"color: #7f7f7f; text-decoration-color: #7f7f7f\">350</span></a>\n",
       "<span style=\"color: #00ff00; text-decoration-color: #00ff00\">         </span>         <span style=\"color: #c6c6c6; text-decoration-color: #c6c6c6; font-weight: bold\"> </span><span style=\"color: #808000; text-decoration-color: #808000; font-weight: bold\">sigma</span><span style=\"color: #c6c6c6; text-decoration-color: #c6c6c6; font-weight: bold\">=</span><span style=\"color: #c0c0c0; text-decoration-color: #c0c0c0; font-weight: bold\">0</span><span style=\"color: #c0c0c0; text-decoration-color: #c0c0c0; font-weight: bold\">.17</span><span style=\"color: #c6c6c6; text-decoration-color: #c6c6c6; font-weight: bold\"> </span><span style=\"color: #808000; text-decoration-color: #808000; font-weight: bold\">sb</span><span style=\"color: #c6c6c6; text-decoration-color: #c6c6c6; font-weight: bold\">=(</span><span style=\"color: #c0c0c0; text-decoration-color: #c0c0c0; font-weight: bold\">0.01</span><span style=\"color: #c6c6c6; text-decoration-color: #c6c6c6; font-weight: bold\">,</span><span style=\"color: #c0c0c0; text-decoration-color: #c0c0c0; font-weight: bold\">0.33</span><span style=\"color: #c6c6c6; text-decoration-color: #c6c6c6; font-weight: bold\">) </span><span style=\"color: #808000; text-decoration-color: #808000; font-weight: bold\">fitrange</span><span style=\"color: #c6c6c6; text-decoration-color: #c6c6c6; font-weight: bold\">=</span><span style=\"color: #c0c0c0; text-decoration-color: #c0c0c0; font-weight: bold\">0</span><span style=\"color: #c0c0c0; text-decoration-color: #c0c0c0; font-weight: bold\">.40</span><span style=\"color: #c6c6c6; text-decoration-color: #c6c6c6; font-weight: bold\">                                             </span><span style=\"color: #7f7f7f; text-decoration-color: #7f7f7f\">            </span>\n",
       "</pre>\n"
      ],
      "text/plain": [
       "\u001b[38;5;46m        \u001b[0m\u001b[38;5;46m \u001b[0m\u001b[38;5;49mINFO    \u001b[0m \u001b[1;38;5;251m Mor:                                                                               \u001b[0m\u001b[1;38;5;251m \u001b[0m\u001b]8;id=302434;file:///data/home/cwy/Science/3MLWCDA/Standard/src/./mylib/Myfit.py\u001b\\\u001b[2mMyfit.py\u001b[0m\u001b]8;;\u001b\\\u001b[2m:\u001b[0m\u001b]8;id=720851;file:///data/home/cwy/Science/3MLWCDA/Standard/src/./mylib/Myfit.py#350\u001b\\\u001b[2m350\u001b[0m\u001b]8;;\u001b\\\n",
       "\u001b[38;5;46m         \u001b[0m         \u001b[1;38;5;251m \u001b[0m\u001b[1;33msigma\u001b[0m\u001b[1;38;5;251m=\u001b[0m\u001b[1;37m0\u001b[0m\u001b[1;37m.17\u001b[0m\u001b[1;38;5;251m \u001b[0m\u001b[1;33msb\u001b[0m\u001b[1;38;5;251m=\u001b[0m\u001b[1;38;5;251m(\u001b[0m\u001b[1;37m0.01\u001b[0m\u001b[1;38;5;251m,\u001b[0m\u001b[1;37m0.33\u001b[0m\u001b[1;38;5;251m)\u001b[0m\u001b[1;38;5;251m \u001b[0m\u001b[1;33mfitrange\u001b[0m\u001b[1;38;5;251m=\u001b[0m\u001b[1;37m0\u001b[0m\u001b[1;37m.40\u001b[0m\u001b[1;38;5;251m                                            \u001b[0m\u001b[1;38;5;251m \u001b[0m\u001b[2m            \u001b[0m\n"
      ]
     },
     "metadata": {},
     "output_type": "display_data"
    },
    {
     "data": {
      "text/html": [
       "<pre style=\"white-space:pre;overflow-x:auto;line-height:normal;font-family:Menlo,'DejaVu Sans Mono',consolas,'Courier New',monospace\"><span style=\"color: #00ff00; text-decoration-color: #00ff00\">         </span><span style=\"color: #00ffaf; text-decoration-color: #00ffaf\">INFO    </span> <span style=\"color: #c6c6c6; text-decoration-color: #c6c6c6; font-weight: bold\"> J1831M1007u in roi: </span><span style=\"color: #c0c0c0; text-decoration-color: #c0c0c0; font-weight: bold\">7</span><span style=\"color: #c6c6c6; text-decoration-color: #c6c6c6; font-weight: bold\"> s</span><span style=\"color: #00ff00; text-decoration-color: #00ff00; font-weight: bold\">f:Fa</span><span style=\"color: #c6c6c6; text-decoration-color: #c6c6c6; font-weight: bold\">lse p</span><span style=\"color: #00ff00; text-decoration-color: #00ff00; font-weight: bold\">f:Fa</span><span style=\"color: #c6c6c6; text-decoration-color: #c6c6c6; font-weight: bold\">lse k</span><span style=\"color: #00ff00; text-decoration-color: #00ff00; font-weight: bold\">f:Fa</span><span style=\"color: #c6c6c6; text-decoration-color: #c6c6c6; font-weight: bold\">lse index</span><span style=\"color: #00ff00; text-decoration-color: #00ff00; font-weight: bold\">f:Fa</span><span style=\"color: #c6c6c6; text-decoration-color: #c6c6c6; font-weight: bold\">lse                       </span><a href=\"file:///data/home/cwy/Science/3MLWCDA/Standard/src/./mylib/Myfit.py\" target=\"_blank\"><span style=\"color: #7f7f7f; text-decoration-color: #7f7f7f\">Myfit.py</span></a><span style=\"color: #7f7f7f; text-decoration-color: #7f7f7f\">:</span><a href=\"file:///data/home/cwy/Science/3MLWCDA/Standard/src/./mylib/Myfit.py#320\" target=\"_blank\"><span style=\"color: #7f7f7f; text-decoration-color: #7f7f7f\">320</span></a>\n",
       "</pre>\n"
      ],
      "text/plain": [
       "\u001b[38;5;46m        \u001b[0m\u001b[38;5;46m \u001b[0m\u001b[38;5;49mINFO    \u001b[0m \u001b[1;38;5;251m J1831M1007u in roi: \u001b[0m\u001b[1;37m7\u001b[0m\u001b[1;38;5;251m s\u001b[0m\u001b[1;92mf:Fa\u001b[0m\u001b[1;38;5;251mlse p\u001b[0m\u001b[1;92mf:Fa\u001b[0m\u001b[1;38;5;251mlse k\u001b[0m\u001b[1;92mf:Fa\u001b[0m\u001b[1;38;5;251mlse index\u001b[0m\u001b[1;92mf:Fa\u001b[0m\u001b[1;38;5;251mlse                      \u001b[0m\u001b[1;38;5;251m \u001b[0m\u001b]8;id=377726;file:///data/home/cwy/Science/3MLWCDA/Standard/src/./mylib/Myfit.py\u001b\\\u001b[2mMyfit.py\u001b[0m\u001b]8;;\u001b\\\u001b[2m:\u001b[0m\u001b]8;id=27543;file:///data/home/cwy/Science/3MLWCDA/Standard/src/./mylib/Myfit.py#320\u001b\\\u001b[2m320\u001b[0m\u001b]8;;\u001b\\\n"
      ]
     },
     "metadata": {},
     "output_type": "display_data"
    },
    {
     "data": {
      "text/html": [
       "<pre style=\"white-space:pre;overflow-x:auto;line-height:normal;font-family:Menlo,'DejaVu Sans Mono',consolas,'Courier New',monospace\"><span style=\"color: #00ff00; text-decoration-color: #00ff00\">         </span><span style=\"color: #00ffaf; text-decoration-color: #00ffaf\">INFO    </span> <span style=\"color: #c6c6c6; text-decoration-color: #c6c6c6; font-weight: bold\"> Spec:                                                                               </span><a href=\"file:///data/home/cwy/Science/3MLWCDA/Standard/src/./mylib/Myfit.py\" target=\"_blank\"><span style=\"color: #7f7f7f; text-decoration-color: #7f7f7f\">Myfit.py</span></a><span style=\"color: #7f7f7f; text-decoration-color: #7f7f7f\">:</span><a href=\"file:///data/home/cwy/Science/3MLWCDA/Standard/src/./mylib/Myfit.py#348\" target=\"_blank\"><span style=\"color: #7f7f7f; text-decoration-color: #7f7f7f\">348</span></a>\n",
       "<span style=\"color: #00ff00; text-decoration-color: #00ff00\">         </span>         <span style=\"color: #c6c6c6; text-decoration-color: #c6c6c6; font-weight: bold\"> </span><span style=\"color: #808000; text-decoration-color: #808000; font-weight: bold\">K</span><span style=\"color: #c6c6c6; text-decoration-color: #c6c6c6; font-weight: bold\">=</span><span style=\"color: #c0c0c0; text-decoration-color: #c0c0c0; font-weight: bold\">1</span><span style=\"color: #c0c0c0; text-decoration-color: #c0c0c0; font-weight: bold\">.78e-12</span><span style=\"color: #c6c6c6; text-decoration-color: #c6c6c6; font-weight: bold\"> </span><span style=\"color: #808000; text-decoration-color: #808000; font-weight: bold\">kb</span><span style=\"color: #c6c6c6; text-decoration-color: #c6c6c6; font-weight: bold\">=(</span><span style=\"color: #c0c0c0; text-decoration-color: #c0c0c0; font-weight: bold\">1.78e-14</span><span style=\"color: #c6c6c6; text-decoration-color: #c6c6c6; font-weight: bold\">, </span><span style=\"color: #c0c0c0; text-decoration-color: #c0c0c0; font-weight: bold\">3.90e-12</span><span style=\"color: #c6c6c6; text-decoration-color: #c6c6c6; font-weight: bold\">) </span><span style=\"color: #808000; text-decoration-color: #808000; font-weight: bold\">index</span><span style=\"color: #c6c6c6; text-decoration-color: #c6c6c6; font-weight: bold\">=</span><span style=\"color: #c0c0c0; text-decoration-color: #c0c0c0; font-weight: bold\">-2.71</span><span style=\"color: #c6c6c6; text-decoration-color: #c6c6c6; font-weight: bold\"> </span><span style=\"color: #808000; text-decoration-color: #808000; font-weight: bold\">indexb</span><span style=\"color: #c6c6c6; text-decoration-color: #c6c6c6; font-weight: bold\">=(</span><span style=\"color: #c0c0c0; text-decoration-color: #c0c0c0; font-weight: bold\">-3.11</span><span style=\"color: #c6c6c6; text-decoration-color: #c6c6c6; font-weight: bold\">,</span><span style=\"color: #c0c0c0; text-decoration-color: #c0c0c0; font-weight: bold\">-2.31</span><span style=\"color: #c6c6c6; text-decoration-color: #c6c6c6; font-weight: bold\">)                 </span><span style=\"color: #7f7f7f; text-decoration-color: #7f7f7f\">            </span>\n",
       "</pre>\n"
      ],
      "text/plain": [
       "\u001b[38;5;46m        \u001b[0m\u001b[38;5;46m \u001b[0m\u001b[38;5;49mINFO    \u001b[0m \u001b[1;38;5;251m Spec:                                                                              \u001b[0m\u001b[1;38;5;251m \u001b[0m\u001b]8;id=243151;file:///data/home/cwy/Science/3MLWCDA/Standard/src/./mylib/Myfit.py\u001b\\\u001b[2mMyfit.py\u001b[0m\u001b]8;;\u001b\\\u001b[2m:\u001b[0m\u001b]8;id=804392;file:///data/home/cwy/Science/3MLWCDA/Standard/src/./mylib/Myfit.py#348\u001b\\\u001b[2m348\u001b[0m\u001b]8;;\u001b\\\n",
       "\u001b[38;5;46m         \u001b[0m         \u001b[1;38;5;251m \u001b[0m\u001b[1;33mK\u001b[0m\u001b[1;38;5;251m=\u001b[0m\u001b[1;37m1\u001b[0m\u001b[1;37m.78e-12\u001b[0m\u001b[1;38;5;251m \u001b[0m\u001b[1;33mkb\u001b[0m\u001b[1;38;5;251m=\u001b[0m\u001b[1;38;5;251m(\u001b[0m\u001b[1;37m1.78e-14\u001b[0m\u001b[1;38;5;251m, \u001b[0m\u001b[1;37m3.90e-12\u001b[0m\u001b[1;38;5;251m)\u001b[0m\u001b[1;38;5;251m \u001b[0m\u001b[1;33mindex\u001b[0m\u001b[1;38;5;251m=\u001b[0m\u001b[1;37m-2.71\u001b[0m\u001b[1;38;5;251m \u001b[0m\u001b[1;33mindexb\u001b[0m\u001b[1;38;5;251m=\u001b[0m\u001b[1;38;5;251m(\u001b[0m\u001b[1;37m-3.11\u001b[0m\u001b[1;38;5;251m,\u001b[0m\u001b[1;37m-2.31\u001b[0m\u001b[1;38;5;251m)\u001b[0m\u001b[1;38;5;251m                \u001b[0m\u001b[1;38;5;251m \u001b[0m\u001b[2m            \u001b[0m\n"
      ]
     },
     "metadata": {},
     "output_type": "display_data"
    },
    {
     "data": {
      "text/html": [
       "<pre style=\"white-space:pre;overflow-x:auto;line-height:normal;font-family:Menlo,'DejaVu Sans Mono',consolas,'Courier New',monospace\"><span style=\"color: #00ff00; text-decoration-color: #00ff00\">         </span><span style=\"color: #00ffaf; text-decoration-color: #00ffaf\">INFO    </span> <span style=\"color: #c6c6c6; text-decoration-color: #c6c6c6; font-weight: bold\"> Mor:                                                                                </span><a href=\"file:///data/home/cwy/Science/3MLWCDA/Standard/src/./mylib/Myfit.py\" target=\"_blank\"><span style=\"color: #7f7f7f; text-decoration-color: #7f7f7f\">Myfit.py</span></a><span style=\"color: #7f7f7f; text-decoration-color: #7f7f7f\">:</span><a href=\"file:///data/home/cwy/Science/3MLWCDA/Standard/src/./mylib/Myfit.py#350\" target=\"_blank\"><span style=\"color: #7f7f7f; text-decoration-color: #7f7f7f\">350</span></a>\n",
       "<span style=\"color: #00ff00; text-decoration-color: #00ff00\">         </span>         <span style=\"color: #c6c6c6; text-decoration-color: #c6c6c6; font-weight: bold\"> </span><span style=\"color: #808000; text-decoration-color: #808000; font-weight: bold\">sigma</span><span style=\"color: #c6c6c6; text-decoration-color: #c6c6c6; font-weight: bold\">=</span><span style=\"color: #c0c0c0; text-decoration-color: #c0c0c0; font-weight: bold\">0</span><span style=\"color: #c0c0c0; text-decoration-color: #c0c0c0; font-weight: bold\">.78</span><span style=\"color: #c6c6c6; text-decoration-color: #c6c6c6; font-weight: bold\"> </span><span style=\"color: #808000; text-decoration-color: #808000; font-weight: bold\">sb</span><span style=\"color: #c6c6c6; text-decoration-color: #c6c6c6; font-weight: bold\">=(</span><span style=\"color: #c0c0c0; text-decoration-color: #c0c0c0; font-weight: bold\">0.46</span><span style=\"color: #c6c6c6; text-decoration-color: #c6c6c6; font-weight: bold\">,</span><span style=\"color: #c0c0c0; text-decoration-color: #c0c0c0; font-weight: bold\">1.10</span><span style=\"color: #c6c6c6; text-decoration-color: #c6c6c6; font-weight: bold\">) </span><span style=\"color: #808000; text-decoration-color: #808000; font-weight: bold\">fitrange</span><span style=\"color: #c6c6c6; text-decoration-color: #c6c6c6; font-weight: bold\">=</span><span style=\"color: #c0c0c0; text-decoration-color: #c0c0c0; font-weight: bold\">1</span><span style=\"color: #c0c0c0; text-decoration-color: #c0c0c0; font-weight: bold\">.28</span><span style=\"color: #c6c6c6; text-decoration-color: #c6c6c6; font-weight: bold\">                                             </span><span style=\"color: #7f7f7f; text-decoration-color: #7f7f7f\">            </span>\n",
       "</pre>\n"
      ],
      "text/plain": [
       "\u001b[38;5;46m        \u001b[0m\u001b[38;5;46m \u001b[0m\u001b[38;5;49mINFO    \u001b[0m \u001b[1;38;5;251m Mor:                                                                               \u001b[0m\u001b[1;38;5;251m \u001b[0m\u001b]8;id=192388;file:///data/home/cwy/Science/3MLWCDA/Standard/src/./mylib/Myfit.py\u001b\\\u001b[2mMyfit.py\u001b[0m\u001b]8;;\u001b\\\u001b[2m:\u001b[0m\u001b]8;id=131938;file:///data/home/cwy/Science/3MLWCDA/Standard/src/./mylib/Myfit.py#350\u001b\\\u001b[2m350\u001b[0m\u001b]8;;\u001b\\\n",
       "\u001b[38;5;46m         \u001b[0m         \u001b[1;38;5;251m \u001b[0m\u001b[1;33msigma\u001b[0m\u001b[1;38;5;251m=\u001b[0m\u001b[1;37m0\u001b[0m\u001b[1;37m.78\u001b[0m\u001b[1;38;5;251m \u001b[0m\u001b[1;33msb\u001b[0m\u001b[1;38;5;251m=\u001b[0m\u001b[1;38;5;251m(\u001b[0m\u001b[1;37m0.46\u001b[0m\u001b[1;38;5;251m,\u001b[0m\u001b[1;37m1.10\u001b[0m\u001b[1;38;5;251m)\u001b[0m\u001b[1;38;5;251m \u001b[0m\u001b[1;33mfitrange\u001b[0m\u001b[1;38;5;251m=\u001b[0m\u001b[1;37m1\u001b[0m\u001b[1;37m.28\u001b[0m\u001b[1;38;5;251m                                            \u001b[0m\u001b[1;38;5;251m \u001b[0m\u001b[2m            \u001b[0m\n"
      ]
     },
     "metadata": {},
     "output_type": "display_data"
    },
    {
     "data": {
      "text/html": [
       "<pre style=\"white-space:pre;overflow-x:auto;line-height:normal;font-family:Menlo,'DejaVu Sans Mono',consolas,'Courier New',monospace\"><span style=\"color: #00ff00; text-decoration-color: #00ff00\">         </span><span style=\"color: #00ffaf; text-decoration-color: #00ffaf\">INFO    </span> <span style=\"color: #c6c6c6; text-decoration-color: #c6c6c6; font-weight: bold\"> J1834M0831 in roi: </span><span style=\"color: #c0c0c0; text-decoration-color: #c0c0c0; font-weight: bold\">7</span><span style=\"color: #c6c6c6; text-decoration-color: #c6c6c6; font-weight: bold\"> s</span><span style=\"color: #00ff00; text-decoration-color: #00ff00; font-weight: bold\">f:Fa</span><span style=\"color: #c6c6c6; text-decoration-color: #c6c6c6; font-weight: bold\">lse p</span><span style=\"color: #00ff00; text-decoration-color: #00ff00; font-weight: bold\">f:Fa</span><span style=\"color: #c6c6c6; text-decoration-color: #c6c6c6; font-weight: bold\">lse k</span><span style=\"color: #00ff00; text-decoration-color: #00ff00; font-weight: bold\">f:Fa</span><span style=\"color: #c6c6c6; text-decoration-color: #c6c6c6; font-weight: bold\">lse index</span><span style=\"color: #00ff00; text-decoration-color: #00ff00; font-weight: bold\">f:Fa</span><span style=\"color: #c6c6c6; text-decoration-color: #c6c6c6; font-weight: bold\">lse                        </span><a href=\"file:///data/home/cwy/Science/3MLWCDA/Standard/src/./mylib/Myfit.py\" target=\"_blank\"><span style=\"color: #7f7f7f; text-decoration-color: #7f7f7f\">Myfit.py</span></a><span style=\"color: #7f7f7f; text-decoration-color: #7f7f7f\">:</span><a href=\"file:///data/home/cwy/Science/3MLWCDA/Standard/src/./mylib/Myfit.py#320\" target=\"_blank\"><span style=\"color: #7f7f7f; text-decoration-color: #7f7f7f\">320</span></a>\n",
       "</pre>\n"
      ],
      "text/plain": [
       "\u001b[38;5;46m        \u001b[0m\u001b[38;5;46m \u001b[0m\u001b[38;5;49mINFO    \u001b[0m \u001b[1;38;5;251m J1834M0831 in roi: \u001b[0m\u001b[1;37m7\u001b[0m\u001b[1;38;5;251m s\u001b[0m\u001b[1;92mf:Fa\u001b[0m\u001b[1;38;5;251mlse p\u001b[0m\u001b[1;92mf:Fa\u001b[0m\u001b[1;38;5;251mlse k\u001b[0m\u001b[1;92mf:Fa\u001b[0m\u001b[1;38;5;251mlse index\u001b[0m\u001b[1;92mf:Fa\u001b[0m\u001b[1;38;5;251mlse                       \u001b[0m\u001b[1;38;5;251m \u001b[0m\u001b]8;id=638011;file:///data/home/cwy/Science/3MLWCDA/Standard/src/./mylib/Myfit.py\u001b\\\u001b[2mMyfit.py\u001b[0m\u001b]8;;\u001b\\\u001b[2m:\u001b[0m\u001b]8;id=524825;file:///data/home/cwy/Science/3MLWCDA/Standard/src/./mylib/Myfit.py#320\u001b\\\u001b[2m320\u001b[0m\u001b]8;;\u001b\\\n"
      ]
     },
     "metadata": {},
     "output_type": "display_data"
    },
    {
     "data": {
      "text/html": [
       "<pre style=\"white-space:pre;overflow-x:auto;line-height:normal;font-family:Menlo,'DejaVu Sans Mono',consolas,'Courier New',monospace\"><span style=\"color: #00ff00; text-decoration-color: #00ff00\">         </span><span style=\"color: #00ffaf; text-decoration-color: #00ffaf\">INFO    </span> <span style=\"color: #c6c6c6; text-decoration-color: #c6c6c6; font-weight: bold\"> Spec:                                                                               </span><a href=\"file:///data/home/cwy/Science/3MLWCDA/Standard/src/./mylib/Myfit.py\" target=\"_blank\"><span style=\"color: #7f7f7f; text-decoration-color: #7f7f7f\">Myfit.py</span></a><span style=\"color: #7f7f7f; text-decoration-color: #7f7f7f\">:</span><a href=\"file:///data/home/cwy/Science/3MLWCDA/Standard/src/./mylib/Myfit.py#348\" target=\"_blank\"><span style=\"color: #7f7f7f; text-decoration-color: #7f7f7f\">348</span></a>\n",
       "<span style=\"color: #00ff00; text-decoration-color: #00ff00\">         </span>         <span style=\"color: #c6c6c6; text-decoration-color: #c6c6c6; font-weight: bold\"> </span><span style=\"color: #808000; text-decoration-color: #808000; font-weight: bold\">K</span><span style=\"color: #c6c6c6; text-decoration-color: #c6c6c6; font-weight: bold\">=</span><span style=\"color: #c0c0c0; text-decoration-color: #c0c0c0; font-weight: bold\">5</span><span style=\"color: #c0c0c0; text-decoration-color: #c0c0c0; font-weight: bold\">.99e-13</span><span style=\"color: #c6c6c6; text-decoration-color: #c6c6c6; font-weight: bold\"> </span><span style=\"color: #808000; text-decoration-color: #808000; font-weight: bold\">kb</span><span style=\"color: #c6c6c6; text-decoration-color: #c6c6c6; font-weight: bold\">=(</span><span style=\"color: #c0c0c0; text-decoration-color: #c0c0c0; font-weight: bold\">5.99e-15</span><span style=\"color: #c6c6c6; text-decoration-color: #c6c6c6; font-weight: bold\">, </span><span style=\"color: #c0c0c0; text-decoration-color: #c0c0c0; font-weight: bold\">2.78e-12</span><span style=\"color: #c6c6c6; text-decoration-color: #c6c6c6; font-weight: bold\">) </span><span style=\"color: #808000; text-decoration-color: #808000; font-weight: bold\">index</span><span style=\"color: #c6c6c6; text-decoration-color: #c6c6c6; font-weight: bold\">=</span><span style=\"color: #c0c0c0; text-decoration-color: #c0c0c0; font-weight: bold\">-3.08</span><span style=\"color: #c6c6c6; text-decoration-color: #c6c6c6; font-weight: bold\"> </span><span style=\"color: #808000; text-decoration-color: #808000; font-weight: bold\">indexb</span><span style=\"color: #c6c6c6; text-decoration-color: #c6c6c6; font-weight: bold\">=(</span><span style=\"color: #c0c0c0; text-decoration-color: #c0c0c0; font-weight: bold\">-4.00</span><span style=\"color: #c6c6c6; text-decoration-color: #c6c6c6; font-weight: bold\">,</span><span style=\"color: #c0c0c0; text-decoration-color: #c0c0c0; font-weight: bold\">-1.78</span><span style=\"color: #c6c6c6; text-decoration-color: #c6c6c6; font-weight: bold\">)                 </span><span style=\"color: #7f7f7f; text-decoration-color: #7f7f7f\">            </span>\n",
       "</pre>\n"
      ],
      "text/plain": [
       "\u001b[38;5;46m        \u001b[0m\u001b[38;5;46m \u001b[0m\u001b[38;5;49mINFO    \u001b[0m \u001b[1;38;5;251m Spec:                                                                              \u001b[0m\u001b[1;38;5;251m \u001b[0m\u001b]8;id=286073;file:///data/home/cwy/Science/3MLWCDA/Standard/src/./mylib/Myfit.py\u001b\\\u001b[2mMyfit.py\u001b[0m\u001b]8;;\u001b\\\u001b[2m:\u001b[0m\u001b]8;id=701413;file:///data/home/cwy/Science/3MLWCDA/Standard/src/./mylib/Myfit.py#348\u001b\\\u001b[2m348\u001b[0m\u001b]8;;\u001b\\\n",
       "\u001b[38;5;46m         \u001b[0m         \u001b[1;38;5;251m \u001b[0m\u001b[1;33mK\u001b[0m\u001b[1;38;5;251m=\u001b[0m\u001b[1;37m5\u001b[0m\u001b[1;37m.99e-13\u001b[0m\u001b[1;38;5;251m \u001b[0m\u001b[1;33mkb\u001b[0m\u001b[1;38;5;251m=\u001b[0m\u001b[1;38;5;251m(\u001b[0m\u001b[1;37m5.99e-15\u001b[0m\u001b[1;38;5;251m, \u001b[0m\u001b[1;37m2.78e-12\u001b[0m\u001b[1;38;5;251m)\u001b[0m\u001b[1;38;5;251m \u001b[0m\u001b[1;33mindex\u001b[0m\u001b[1;38;5;251m=\u001b[0m\u001b[1;37m-3.08\u001b[0m\u001b[1;38;5;251m \u001b[0m\u001b[1;33mindexb\u001b[0m\u001b[1;38;5;251m=\u001b[0m\u001b[1;38;5;251m(\u001b[0m\u001b[1;37m-4.00\u001b[0m\u001b[1;38;5;251m,\u001b[0m\u001b[1;37m-1.78\u001b[0m\u001b[1;38;5;251m)\u001b[0m\u001b[1;38;5;251m                \u001b[0m\u001b[1;38;5;251m \u001b[0m\u001b[2m            \u001b[0m\n"
      ]
     },
     "metadata": {},
     "output_type": "display_data"
    },
    {
     "data": {
      "text/html": [
       "<pre style=\"white-space:pre;overflow-x:auto;line-height:normal;font-family:Menlo,'DejaVu Sans Mono',consolas,'Courier New',monospace\"><span style=\"color: #00ff00; text-decoration-color: #00ff00\">         </span><span style=\"color: #00ffaf; text-decoration-color: #00ffaf\">INFO    </span> <span style=\"color: #c6c6c6; text-decoration-color: #c6c6c6; font-weight: bold\"> Mor:                                                                                </span><a href=\"file:///data/home/cwy/Science/3MLWCDA/Standard/src/./mylib/Myfit.py\" target=\"_blank\"><span style=\"color: #7f7f7f; text-decoration-color: #7f7f7f\">Myfit.py</span></a><span style=\"color: #7f7f7f; text-decoration-color: #7f7f7f\">:</span><a href=\"file:///data/home/cwy/Science/3MLWCDA/Standard/src/./mylib/Myfit.py#350\" target=\"_blank\"><span style=\"color: #7f7f7f; text-decoration-color: #7f7f7f\">350</span></a>\n",
       "<span style=\"color: #00ff00; text-decoration-color: #00ff00\">         </span>         <span style=\"color: #c6c6c6; text-decoration-color: #c6c6c6; font-weight: bold\"> </span><span style=\"color: #808000; text-decoration-color: #808000; font-weight: bold\">sigma</span><span style=\"color: #c6c6c6; text-decoration-color: #c6c6c6; font-weight: bold\">=</span><span style=\"color: #c0c0c0; text-decoration-color: #c0c0c0; font-weight: bold\">0</span><span style=\"color: #c0c0c0; text-decoration-color: #c0c0c0; font-weight: bold\">.40</span><span style=\"color: #c6c6c6; text-decoration-color: #c6c6c6; font-weight: bold\"> </span><span style=\"color: #808000; text-decoration-color: #808000; font-weight: bold\">sb</span><span style=\"color: #c6c6c6; text-decoration-color: #c6c6c6; font-weight: bold\">=(</span><span style=\"color: #c0c0c0; text-decoration-color: #c0c0c0; font-weight: bold\">0.00</span><span style=\"color: #c6c6c6; text-decoration-color: #c6c6c6; font-weight: bold\">,</span><span style=\"color: #c0c0c0; text-decoration-color: #c0c0c0; font-weight: bold\">0.96</span><span style=\"color: #c6c6c6; text-decoration-color: #c6c6c6; font-weight: bold\">) </span><span style=\"color: #808000; text-decoration-color: #808000; font-weight: bold\">fitrange</span><span style=\"color: #c6c6c6; text-decoration-color: #c6c6c6; font-weight: bold\">=</span><span style=\"color: #c0c0c0; text-decoration-color: #c0c0c0; font-weight: bold\">1</span><span style=\"color: #c0c0c0; text-decoration-color: #c0c0c0; font-weight: bold\">.76</span><span style=\"color: #c6c6c6; text-decoration-color: #c6c6c6; font-weight: bold\">                                             </span><span style=\"color: #7f7f7f; text-decoration-color: #7f7f7f\">            </span>\n",
       "</pre>\n"
      ],
      "text/plain": [
       "\u001b[38;5;46m        \u001b[0m\u001b[38;5;46m \u001b[0m\u001b[38;5;49mINFO    \u001b[0m \u001b[1;38;5;251m Mor:                                                                               \u001b[0m\u001b[1;38;5;251m \u001b[0m\u001b]8;id=164348;file:///data/home/cwy/Science/3MLWCDA/Standard/src/./mylib/Myfit.py\u001b\\\u001b[2mMyfit.py\u001b[0m\u001b]8;;\u001b\\\u001b[2m:\u001b[0m\u001b]8;id=125829;file:///data/home/cwy/Science/3MLWCDA/Standard/src/./mylib/Myfit.py#350\u001b\\\u001b[2m350\u001b[0m\u001b]8;;\u001b\\\n",
       "\u001b[38;5;46m         \u001b[0m         \u001b[1;38;5;251m \u001b[0m\u001b[1;33msigma\u001b[0m\u001b[1;38;5;251m=\u001b[0m\u001b[1;37m0\u001b[0m\u001b[1;37m.40\u001b[0m\u001b[1;38;5;251m \u001b[0m\u001b[1;33msb\u001b[0m\u001b[1;38;5;251m=\u001b[0m\u001b[1;38;5;251m(\u001b[0m\u001b[1;37m0.00\u001b[0m\u001b[1;38;5;251m,\u001b[0m\u001b[1;37m0.96\u001b[0m\u001b[1;38;5;251m)\u001b[0m\u001b[1;38;5;251m \u001b[0m\u001b[1;33mfitrange\u001b[0m\u001b[1;38;5;251m=\u001b[0m\u001b[1;37m1\u001b[0m\u001b[1;37m.76\u001b[0m\u001b[1;38;5;251m                                            \u001b[0m\u001b[1;38;5;251m \u001b[0m\u001b[2m            \u001b[0m\n"
      ]
     },
     "metadata": {},
     "output_type": "display_data"
    },
    {
     "data": {
      "text/html": [
       "<pre style=\"white-space:pre;overflow-x:auto;line-height:normal;font-family:Menlo,'DejaVu Sans Mono',consolas,'Courier New',monospace\"><span style=\"color: #00ff00; text-decoration-color: #00ff00\">         </span><span style=\"color: #00ffaf; text-decoration-color: #00ffaf\">INFO    </span> <span style=\"color: #c6c6c6; text-decoration-color: #c6c6c6; font-weight: bold\"> J1837M0654u in model_radius: </span><span style=\"color: #c0c0c0; text-decoration-color: #c0c0c0; font-weight: bold\">7.5</span><span style=\"color: #c6c6c6; text-decoration-color: #c6c6c6; font-weight: bold\"> sf:</span><span style=\"color: #00ff00; text-decoration-color: #00ff00; font-weight: bold; font-style: italic\">True</span><span style=\"color: #c6c6c6; text-decoration-color: #c6c6c6; font-weight: bold\"> pf:</span><span style=\"color: #00ff00; text-decoration-color: #00ff00; font-weight: bold; font-style: italic\">True</span><span style=\"color: #c6c6c6; text-decoration-color: #c6c6c6; font-weight: bold\"> k</span><span style=\"color: #00ff00; text-decoration-color: #00ff00; font-weight: bold\">f:Fa</span><span style=\"color: #c6c6c6; text-decoration-color: #c6c6c6; font-weight: bold\">lse index</span><span style=\"color: #00ff00; text-decoration-color: #00ff00; font-weight: bold\">f:Fa</span><span style=\"color: #c6c6c6; text-decoration-color: #c6c6c6; font-weight: bold\">lse              </span><a href=\"file:///data/home/cwy/Science/3MLWCDA/Standard/src/./mylib/Myfit.py\" target=\"_blank\"><span style=\"color: #7f7f7f; text-decoration-color: #7f7f7f\">Myfit.py</span></a><span style=\"color: #7f7f7f; text-decoration-color: #7f7f7f\">:</span><a href=\"file:///data/home/cwy/Science/3MLWCDA/Standard/src/./mylib/Myfit.py#327\" target=\"_blank\"><span style=\"color: #7f7f7f; text-decoration-color: #7f7f7f\">327</span></a>\n",
       "</pre>\n"
      ],
      "text/plain": [
       "\u001b[38;5;46m        \u001b[0m\u001b[38;5;46m \u001b[0m\u001b[38;5;49mINFO    \u001b[0m \u001b[1;38;5;251m J1837M0654u in model_radius: \u001b[0m\u001b[1;37m7.5\u001b[0m\u001b[1;38;5;251m sf:\u001b[0m\u001b[1;3;92mTrue\u001b[0m\u001b[1;38;5;251m pf:\u001b[0m\u001b[1;3;92mTrue\u001b[0m\u001b[1;38;5;251m k\u001b[0m\u001b[1;92mf:Fa\u001b[0m\u001b[1;38;5;251mlse index\u001b[0m\u001b[1;92mf:Fa\u001b[0m\u001b[1;38;5;251mlse             \u001b[0m\u001b[1;38;5;251m \u001b[0m\u001b]8;id=77910;file:///data/home/cwy/Science/3MLWCDA/Standard/src/./mylib/Myfit.py\u001b\\\u001b[2mMyfit.py\u001b[0m\u001b]8;;\u001b\\\u001b[2m:\u001b[0m\u001b]8;id=116609;file:///data/home/cwy/Science/3MLWCDA/Standard/src/./mylib/Myfit.py#327\u001b\\\u001b[2m327\u001b[0m\u001b]8;;\u001b\\\n"
      ]
     },
     "metadata": {},
     "output_type": "display_data"
    },
    {
     "data": {
      "text/html": [
       "<pre style=\"white-space:pre;overflow-x:auto;line-height:normal;font-family:Menlo,'DejaVu Sans Mono',consolas,'Courier New',monospace\"><span style=\"color: #00ff00; text-decoration-color: #00ff00\">         </span><span style=\"color: #00ffaf; text-decoration-color: #00ffaf\">INFO    </span> <span style=\"color: #c6c6c6; text-decoration-color: #c6c6c6; font-weight: bold\"> Spec:                                                                               </span><a href=\"file:///data/home/cwy/Science/3MLWCDA/Standard/src/./mylib/Myfit.py\" target=\"_blank\"><span style=\"color: #7f7f7f; text-decoration-color: #7f7f7f\">Myfit.py</span></a><span style=\"color: #7f7f7f; text-decoration-color: #7f7f7f\">:</span><a href=\"file:///data/home/cwy/Science/3MLWCDA/Standard/src/./mylib/Myfit.py#348\" target=\"_blank\"><span style=\"color: #7f7f7f; text-decoration-color: #7f7f7f\">348</span></a>\n",
       "<span style=\"color: #00ff00; text-decoration-color: #00ff00\">         </span>         <span style=\"color: #c6c6c6; text-decoration-color: #c6c6c6; font-weight: bold\"> </span><span style=\"color: #808000; text-decoration-color: #808000; font-weight: bold\">K</span><span style=\"color: #c6c6c6; text-decoration-color: #c6c6c6; font-weight: bold\">=</span><span style=\"color: #c0c0c0; text-decoration-color: #c0c0c0; font-weight: bold\">1</span><span style=\"color: #c0c0c0; text-decoration-color: #c0c0c0; font-weight: bold\">.55e-12</span><span style=\"color: #c6c6c6; text-decoration-color: #c6c6c6; font-weight: bold\"> </span><span style=\"color: #808000; text-decoration-color: #808000; font-weight: bold\">kb</span><span style=\"color: #c6c6c6; text-decoration-color: #c6c6c6; font-weight: bold\">=(</span><span style=\"color: #c0c0c0; text-decoration-color: #c0c0c0; font-weight: bold\">1.55e-14</span><span style=\"color: #c6c6c6; text-decoration-color: #c6c6c6; font-weight: bold\">, </span><span style=\"color: #c0c0c0; text-decoration-color: #c0c0c0; font-weight: bold\">2.63e-12</span><span style=\"color: #c6c6c6; text-decoration-color: #c6c6c6; font-weight: bold\">) </span><span style=\"color: #808000; text-decoration-color: #808000; font-weight: bold\">index</span><span style=\"color: #c6c6c6; text-decoration-color: #c6c6c6; font-weight: bold\">=</span><span style=\"color: #c0c0c0; text-decoration-color: #c0c0c0; font-weight: bold\">-2.92</span><span style=\"color: #c6c6c6; text-decoration-color: #c6c6c6; font-weight: bold\"> </span><span style=\"color: #808000; text-decoration-color: #808000; font-weight: bold\">indexb</span><span style=\"color: #c6c6c6; text-decoration-color: #c6c6c6; font-weight: bold\">=(</span><span style=\"color: #c0c0c0; text-decoration-color: #c0c0c0; font-weight: bold\">-3.22</span><span style=\"color: #c6c6c6; text-decoration-color: #c6c6c6; font-weight: bold\">,</span><span style=\"color: #c0c0c0; text-decoration-color: #c0c0c0; font-weight: bold\">-2.62</span><span style=\"color: #c6c6c6; text-decoration-color: #c6c6c6; font-weight: bold\">)                 </span><span style=\"color: #7f7f7f; text-decoration-color: #7f7f7f\">            </span>\n",
       "</pre>\n"
      ],
      "text/plain": [
       "\u001b[38;5;46m        \u001b[0m\u001b[38;5;46m \u001b[0m\u001b[38;5;49mINFO    \u001b[0m \u001b[1;38;5;251m Spec:                                                                              \u001b[0m\u001b[1;38;5;251m \u001b[0m\u001b]8;id=122945;file:///data/home/cwy/Science/3MLWCDA/Standard/src/./mylib/Myfit.py\u001b\\\u001b[2mMyfit.py\u001b[0m\u001b]8;;\u001b\\\u001b[2m:\u001b[0m\u001b]8;id=156034;file:///data/home/cwy/Science/3MLWCDA/Standard/src/./mylib/Myfit.py#348\u001b\\\u001b[2m348\u001b[0m\u001b]8;;\u001b\\\n",
       "\u001b[38;5;46m         \u001b[0m         \u001b[1;38;5;251m \u001b[0m\u001b[1;33mK\u001b[0m\u001b[1;38;5;251m=\u001b[0m\u001b[1;37m1\u001b[0m\u001b[1;37m.55e-12\u001b[0m\u001b[1;38;5;251m \u001b[0m\u001b[1;33mkb\u001b[0m\u001b[1;38;5;251m=\u001b[0m\u001b[1;38;5;251m(\u001b[0m\u001b[1;37m1.55e-14\u001b[0m\u001b[1;38;5;251m, \u001b[0m\u001b[1;37m2.63e-12\u001b[0m\u001b[1;38;5;251m)\u001b[0m\u001b[1;38;5;251m \u001b[0m\u001b[1;33mindex\u001b[0m\u001b[1;38;5;251m=\u001b[0m\u001b[1;37m-2.92\u001b[0m\u001b[1;38;5;251m \u001b[0m\u001b[1;33mindexb\u001b[0m\u001b[1;38;5;251m=\u001b[0m\u001b[1;38;5;251m(\u001b[0m\u001b[1;37m-3.22\u001b[0m\u001b[1;38;5;251m,\u001b[0m\u001b[1;37m-2.62\u001b[0m\u001b[1;38;5;251m)\u001b[0m\u001b[1;38;5;251m                \u001b[0m\u001b[1;38;5;251m \u001b[0m\u001b[2m            \u001b[0m\n"
      ]
     },
     "metadata": {},
     "output_type": "display_data"
    },
    {
     "data": {
      "text/html": [
       "<pre style=\"white-space:pre;overflow-x:auto;line-height:normal;font-family:Menlo,'DejaVu Sans Mono',consolas,'Courier New',monospace\"><span style=\"color: #00ff00; text-decoration-color: #00ff00\">         </span><span style=\"color: #00ffaf; text-decoration-color: #00ffaf\">INFO    </span> <span style=\"color: #c6c6c6; text-decoration-color: #c6c6c6; font-weight: bold\"> Mor:                                                                                </span><a href=\"file:///data/home/cwy/Science/3MLWCDA/Standard/src/./mylib/Myfit.py\" target=\"_blank\"><span style=\"color: #7f7f7f; text-decoration-color: #7f7f7f\">Myfit.py</span></a><span style=\"color: #7f7f7f; text-decoration-color: #7f7f7f\">:</span><a href=\"file:///data/home/cwy/Science/3MLWCDA/Standard/src/./mylib/Myfit.py#350\" target=\"_blank\"><span style=\"color: #7f7f7f; text-decoration-color: #7f7f7f\">350</span></a>\n",
       "<span style=\"color: #00ff00; text-decoration-color: #00ff00\">         </span>         <span style=\"color: #c6c6c6; text-decoration-color: #c6c6c6; font-weight: bold\"> </span><span style=\"color: #808000; text-decoration-color: #808000; font-weight: bold\">sigma</span><span style=\"color: #c6c6c6; text-decoration-color: #c6c6c6; font-weight: bold\">=</span><span style=\"color: #c0c0c0; text-decoration-color: #c0c0c0; font-weight: bold\">0</span><span style=\"color: #c0c0c0; text-decoration-color: #c0c0c0; font-weight: bold\">.34</span><span style=\"color: #c6c6c6; text-decoration-color: #c6c6c6; font-weight: bold\"> </span><span style=\"color: #808000; text-decoration-color: #808000; font-weight: bold\">sb</span><span style=\"color: #c6c6c6; text-decoration-color: #c6c6c6; font-weight: bold\">=(</span><span style=\"color: #c0c0c0; text-decoration-color: #c0c0c0; font-weight: bold\">0.26</span><span style=\"color: #c6c6c6; text-decoration-color: #c6c6c6; font-weight: bold\">,</span><span style=\"color: #c0c0c0; text-decoration-color: #c0c0c0; font-weight: bold\">0.42</span><span style=\"color: #c6c6c6; text-decoration-color: #c6c6c6; font-weight: bold\">) </span><span style=\"color: #808000; text-decoration-color: #808000; font-weight: bold\">fitrange</span><span style=\"color: #c6c6c6; text-decoration-color: #c6c6c6; font-weight: bold\">=</span><span style=\"color: #c0c0c0; text-decoration-color: #c0c0c0; font-weight: bold\">0</span><span style=\"color: #c0c0c0; text-decoration-color: #c0c0c0; font-weight: bold\">.48</span><span style=\"color: #c6c6c6; text-decoration-color: #c6c6c6; font-weight: bold\">                                             </span><span style=\"color: #7f7f7f; text-decoration-color: #7f7f7f\">            </span>\n",
       "</pre>\n"
      ],
      "text/plain": [
       "\u001b[38;5;46m        \u001b[0m\u001b[38;5;46m \u001b[0m\u001b[38;5;49mINFO    \u001b[0m \u001b[1;38;5;251m Mor:                                                                               \u001b[0m\u001b[1;38;5;251m \u001b[0m\u001b]8;id=247586;file:///data/home/cwy/Science/3MLWCDA/Standard/src/./mylib/Myfit.py\u001b\\\u001b[2mMyfit.py\u001b[0m\u001b]8;;\u001b\\\u001b[2m:\u001b[0m\u001b]8;id=255956;file:///data/home/cwy/Science/3MLWCDA/Standard/src/./mylib/Myfit.py#350\u001b\\\u001b[2m350\u001b[0m\u001b]8;;\u001b\\\n",
       "\u001b[38;5;46m         \u001b[0m         \u001b[1;38;5;251m \u001b[0m\u001b[1;33msigma\u001b[0m\u001b[1;38;5;251m=\u001b[0m\u001b[1;37m0\u001b[0m\u001b[1;37m.34\u001b[0m\u001b[1;38;5;251m \u001b[0m\u001b[1;33msb\u001b[0m\u001b[1;38;5;251m=\u001b[0m\u001b[1;38;5;251m(\u001b[0m\u001b[1;37m0.26\u001b[0m\u001b[1;38;5;251m,\u001b[0m\u001b[1;37m0.42\u001b[0m\u001b[1;38;5;251m)\u001b[0m\u001b[1;38;5;251m \u001b[0m\u001b[1;33mfitrange\u001b[0m\u001b[1;38;5;251m=\u001b[0m\u001b[1;37m0\u001b[0m\u001b[1;37m.48\u001b[0m\u001b[1;38;5;251m                                            \u001b[0m\u001b[1;38;5;251m \u001b[0m\u001b[2m            \u001b[0m\n"
      ]
     },
     "metadata": {},
     "output_type": "display_data"
    },
    {
     "data": {
      "text/html": [
       "<pre style=\"white-space:pre;overflow-x:auto;line-height:normal;font-family:Menlo,'DejaVu Sans Mono',consolas,'Courier New',monospace\"><span style=\"color: #00ff00; text-decoration-color: #00ff00\">         </span><span style=\"color: #00ffaf; text-decoration-color: #00ffaf\">INFO    </span> <span style=\"color: #c6c6c6; text-decoration-color: #c6c6c6; font-weight: bold\"> J1839M0548u in model_radius: </span><span style=\"color: #c0c0c0; text-decoration-color: #c0c0c0; font-weight: bold\">7.5</span><span style=\"color: #c6c6c6; text-decoration-color: #c6c6c6; font-weight: bold\"> sf:</span><span style=\"color: #00ff00; text-decoration-color: #00ff00; font-weight: bold; font-style: italic\">True</span><span style=\"color: #c6c6c6; text-decoration-color: #c6c6c6; font-weight: bold\"> pf:</span><span style=\"color: #00ff00; text-decoration-color: #00ff00; font-weight: bold; font-style: italic\">True</span><span style=\"color: #c6c6c6; text-decoration-color: #c6c6c6; font-weight: bold\"> k</span><span style=\"color: #00ff00; text-decoration-color: #00ff00; font-weight: bold\">f:Fa</span><span style=\"color: #c6c6c6; text-decoration-color: #c6c6c6; font-weight: bold\">lse index</span><span style=\"color: #00ff00; text-decoration-color: #00ff00; font-weight: bold\">f:Fa</span><span style=\"color: #c6c6c6; text-decoration-color: #c6c6c6; font-weight: bold\">lse              </span><a href=\"file:///data/home/cwy/Science/3MLWCDA/Standard/src/./mylib/Myfit.py\" target=\"_blank\"><span style=\"color: #7f7f7f; text-decoration-color: #7f7f7f\">Myfit.py</span></a><span style=\"color: #7f7f7f; text-decoration-color: #7f7f7f\">:</span><a href=\"file:///data/home/cwy/Science/3MLWCDA/Standard/src/./mylib/Myfit.py#327\" target=\"_blank\"><span style=\"color: #7f7f7f; text-decoration-color: #7f7f7f\">327</span></a>\n",
       "</pre>\n"
      ],
      "text/plain": [
       "\u001b[38;5;46m        \u001b[0m\u001b[38;5;46m \u001b[0m\u001b[38;5;49mINFO    \u001b[0m \u001b[1;38;5;251m J1839M0548u in model_radius: \u001b[0m\u001b[1;37m7.5\u001b[0m\u001b[1;38;5;251m sf:\u001b[0m\u001b[1;3;92mTrue\u001b[0m\u001b[1;38;5;251m pf:\u001b[0m\u001b[1;3;92mTrue\u001b[0m\u001b[1;38;5;251m k\u001b[0m\u001b[1;92mf:Fa\u001b[0m\u001b[1;38;5;251mlse index\u001b[0m\u001b[1;92mf:Fa\u001b[0m\u001b[1;38;5;251mlse             \u001b[0m\u001b[1;38;5;251m \u001b[0m\u001b]8;id=407870;file:///data/home/cwy/Science/3MLWCDA/Standard/src/./mylib/Myfit.py\u001b\\\u001b[2mMyfit.py\u001b[0m\u001b]8;;\u001b\\\u001b[2m:\u001b[0m\u001b]8;id=800594;file:///data/home/cwy/Science/3MLWCDA/Standard/src/./mylib/Myfit.py#327\u001b\\\u001b[2m327\u001b[0m\u001b]8;;\u001b\\\n"
      ]
     },
     "metadata": {},
     "output_type": "display_data"
    },
    {
     "data": {
      "text/html": [
       "<pre style=\"white-space:pre;overflow-x:auto;line-height:normal;font-family:Menlo,'DejaVu Sans Mono',consolas,'Courier New',monospace\"><span style=\"color: #00ff00; text-decoration-color: #00ff00\">         </span><span style=\"color: #00ffaf; text-decoration-color: #00ffaf\">INFO    </span> <span style=\"color: #c6c6c6; text-decoration-color: #c6c6c6; font-weight: bold\"> Spec:                                                                               </span><a href=\"file:///data/home/cwy/Science/3MLWCDA/Standard/src/./mylib/Myfit.py\" target=\"_blank\"><span style=\"color: #7f7f7f; text-decoration-color: #7f7f7f\">Myfit.py</span></a><span style=\"color: #7f7f7f; text-decoration-color: #7f7f7f\">:</span><a href=\"file:///data/home/cwy/Science/3MLWCDA/Standard/src/./mylib/Myfit.py#348\" target=\"_blank\"><span style=\"color: #7f7f7f; text-decoration-color: #7f7f7f\">348</span></a>\n",
       "<span style=\"color: #00ff00; text-decoration-color: #00ff00\">         </span>         <span style=\"color: #c6c6c6; text-decoration-color: #c6c6c6; font-weight: bold\"> </span><span style=\"color: #808000; text-decoration-color: #808000; font-weight: bold\">K</span><span style=\"color: #c6c6c6; text-decoration-color: #c6c6c6; font-weight: bold\">=</span><span style=\"color: #c0c0c0; text-decoration-color: #c0c0c0; font-weight: bold\">4</span><span style=\"color: #c0c0c0; text-decoration-color: #c0c0c0; font-weight: bold\">.62e-13</span><span style=\"color: #c6c6c6; text-decoration-color: #c6c6c6; font-weight: bold\"> </span><span style=\"color: #808000; text-decoration-color: #808000; font-weight: bold\">kb</span><span style=\"color: #c6c6c6; text-decoration-color: #c6c6c6; font-weight: bold\">=(</span><span style=\"color: #c0c0c0; text-decoration-color: #c0c0c0; font-weight: bold\">4.62e-15</span><span style=\"color: #c6c6c6; text-decoration-color: #c6c6c6; font-weight: bold\">, </span><span style=\"color: #c0c0c0; text-decoration-color: #c0c0c0; font-weight: bold\">1.04e-12</span><span style=\"color: #c6c6c6; text-decoration-color: #c6c6c6; font-weight: bold\">) </span><span style=\"color: #808000; text-decoration-color: #808000; font-weight: bold\">index</span><span style=\"color: #c6c6c6; text-decoration-color: #c6c6c6; font-weight: bold\">=</span><span style=\"color: #c0c0c0; text-decoration-color: #c0c0c0; font-weight: bold\">-2.65</span><span style=\"color: #c6c6c6; text-decoration-color: #c6c6c6; font-weight: bold\"> </span><span style=\"color: #808000; text-decoration-color: #808000; font-weight: bold\">indexb</span><span style=\"color: #c6c6c6; text-decoration-color: #c6c6c6; font-weight: bold\">=(</span><span style=\"color: #c0c0c0; text-decoration-color: #c0c0c0; font-weight: bold\">-3.05</span><span style=\"color: #c6c6c6; text-decoration-color: #c6c6c6; font-weight: bold\">,</span><span style=\"color: #c0c0c0; text-decoration-color: #c0c0c0; font-weight: bold\">-2.25</span><span style=\"color: #c6c6c6; text-decoration-color: #c6c6c6; font-weight: bold\">)                 </span><span style=\"color: #7f7f7f; text-decoration-color: #7f7f7f\">            </span>\n",
       "</pre>\n"
      ],
      "text/plain": [
       "\u001b[38;5;46m        \u001b[0m\u001b[38;5;46m \u001b[0m\u001b[38;5;49mINFO    \u001b[0m \u001b[1;38;5;251m Spec:                                                                              \u001b[0m\u001b[1;38;5;251m \u001b[0m\u001b]8;id=177953;file:///data/home/cwy/Science/3MLWCDA/Standard/src/./mylib/Myfit.py\u001b\\\u001b[2mMyfit.py\u001b[0m\u001b]8;;\u001b\\\u001b[2m:\u001b[0m\u001b]8;id=395091;file:///data/home/cwy/Science/3MLWCDA/Standard/src/./mylib/Myfit.py#348\u001b\\\u001b[2m348\u001b[0m\u001b]8;;\u001b\\\n",
       "\u001b[38;5;46m         \u001b[0m         \u001b[1;38;5;251m \u001b[0m\u001b[1;33mK\u001b[0m\u001b[1;38;5;251m=\u001b[0m\u001b[1;37m4\u001b[0m\u001b[1;37m.62e-13\u001b[0m\u001b[1;38;5;251m \u001b[0m\u001b[1;33mkb\u001b[0m\u001b[1;38;5;251m=\u001b[0m\u001b[1;38;5;251m(\u001b[0m\u001b[1;37m4.62e-15\u001b[0m\u001b[1;38;5;251m, \u001b[0m\u001b[1;37m1.04e-12\u001b[0m\u001b[1;38;5;251m)\u001b[0m\u001b[1;38;5;251m \u001b[0m\u001b[1;33mindex\u001b[0m\u001b[1;38;5;251m=\u001b[0m\u001b[1;37m-2.65\u001b[0m\u001b[1;38;5;251m \u001b[0m\u001b[1;33mindexb\u001b[0m\u001b[1;38;5;251m=\u001b[0m\u001b[1;38;5;251m(\u001b[0m\u001b[1;37m-3.05\u001b[0m\u001b[1;38;5;251m,\u001b[0m\u001b[1;37m-2.25\u001b[0m\u001b[1;38;5;251m)\u001b[0m\u001b[1;38;5;251m                \u001b[0m\u001b[1;38;5;251m \u001b[0m\u001b[2m            \u001b[0m\n"
      ]
     },
     "metadata": {},
     "output_type": "display_data"
    },
    {
     "data": {
      "text/html": [
       "<pre style=\"white-space:pre;overflow-x:auto;line-height:normal;font-family:Menlo,'DejaVu Sans Mono',consolas,'Courier New',monospace\"><span style=\"color: #00ff00; text-decoration-color: #00ff00\">         </span><span style=\"color: #00ffaf; text-decoration-color: #00ffaf\">INFO    </span> <span style=\"color: #c6c6c6; text-decoration-color: #c6c6c6; font-weight: bold\"> Mor:                                                                                </span><a href=\"file:///data/home/cwy/Science/3MLWCDA/Standard/src/./mylib/Myfit.py\" target=\"_blank\"><span style=\"color: #7f7f7f; text-decoration-color: #7f7f7f\">Myfit.py</span></a><span style=\"color: #7f7f7f; text-decoration-color: #7f7f7f\">:</span><a href=\"file:///data/home/cwy/Science/3MLWCDA/Standard/src/./mylib/Myfit.py#350\" target=\"_blank\"><span style=\"color: #7f7f7f; text-decoration-color: #7f7f7f\">350</span></a>\n",
       "<span style=\"color: #00ff00; text-decoration-color: #00ff00\">         </span>         <span style=\"color: #c6c6c6; text-decoration-color: #c6c6c6; font-weight: bold\"> </span><span style=\"color: #808000; text-decoration-color: #808000; font-weight: bold\">sigma</span><span style=\"color: #c6c6c6; text-decoration-color: #c6c6c6; font-weight: bold\">=</span><span style=\"color: #c0c0c0; text-decoration-color: #c0c0c0; font-weight: bold\">0</span><span style=\"color: #c0c0c0; text-decoration-color: #c0c0c0; font-weight: bold\">.22</span><span style=\"color: #c6c6c6; text-decoration-color: #c6c6c6; font-weight: bold\"> </span><span style=\"color: #808000; text-decoration-color: #808000; font-weight: bold\">sb</span><span style=\"color: #c6c6c6; text-decoration-color: #c6c6c6; font-weight: bold\">=(</span><span style=\"color: #c0c0c0; text-decoration-color: #c0c0c0; font-weight: bold\">0.06</span><span style=\"color: #c6c6c6; text-decoration-color: #c6c6c6; font-weight: bold\">,</span><span style=\"color: #c0c0c0; text-decoration-color: #c0c0c0; font-weight: bold\">0.38</span><span style=\"color: #c6c6c6; text-decoration-color: #c6c6c6; font-weight: bold\">) </span><span style=\"color: #808000; text-decoration-color: #808000; font-weight: bold\">fitrange</span><span style=\"color: #c6c6c6; text-decoration-color: #c6c6c6; font-weight: bold\">=</span><span style=\"color: #c0c0c0; text-decoration-color: #c0c0c0; font-weight: bold\">0</span><span style=\"color: #c0c0c0; text-decoration-color: #c0c0c0; font-weight: bold\">.56</span><span style=\"color: #c6c6c6; text-decoration-color: #c6c6c6; font-weight: bold\">                                             </span><span style=\"color: #7f7f7f; text-decoration-color: #7f7f7f\">            </span>\n",
       "</pre>\n"
      ],
      "text/plain": [
       "\u001b[38;5;46m        \u001b[0m\u001b[38;5;46m \u001b[0m\u001b[38;5;49mINFO    \u001b[0m \u001b[1;38;5;251m Mor:                                                                               \u001b[0m\u001b[1;38;5;251m \u001b[0m\u001b]8;id=313195;file:///data/home/cwy/Science/3MLWCDA/Standard/src/./mylib/Myfit.py\u001b\\\u001b[2mMyfit.py\u001b[0m\u001b]8;;\u001b\\\u001b[2m:\u001b[0m\u001b]8;id=921145;file:///data/home/cwy/Science/3MLWCDA/Standard/src/./mylib/Myfit.py#350\u001b\\\u001b[2m350\u001b[0m\u001b]8;;\u001b\\\n",
       "\u001b[38;5;46m         \u001b[0m         \u001b[1;38;5;251m \u001b[0m\u001b[1;33msigma\u001b[0m\u001b[1;38;5;251m=\u001b[0m\u001b[1;37m0\u001b[0m\u001b[1;37m.22\u001b[0m\u001b[1;38;5;251m \u001b[0m\u001b[1;33msb\u001b[0m\u001b[1;38;5;251m=\u001b[0m\u001b[1;38;5;251m(\u001b[0m\u001b[1;37m0.06\u001b[0m\u001b[1;38;5;251m,\u001b[0m\u001b[1;37m0.38\u001b[0m\u001b[1;38;5;251m)\u001b[0m\u001b[1;38;5;251m \u001b[0m\u001b[1;33mfitrange\u001b[0m\u001b[1;38;5;251m=\u001b[0m\u001b[1;37m0\u001b[0m\u001b[1;37m.56\u001b[0m\u001b[1;38;5;251m                                            \u001b[0m\u001b[1;38;5;251m \u001b[0m\u001b[2m            \u001b[0m\n"
      ]
     },
     "metadata": {},
     "output_type": "display_data"
    },
    {
     "data": {
      "text/html": [
       "<pre style=\"white-space:pre;overflow-x:auto;line-height:normal;font-family:Menlo,'DejaVu Sans Mono',consolas,'Courier New',monospace\"><span style=\"color: #00ff00; text-decoration-color: #00ff00\">         </span><span style=\"color: #00ffaf; text-decoration-color: #00ffaf\">INFO    </span> <span style=\"color: #c6c6c6; text-decoration-color: #c6c6c6; font-weight: bold\"> J1841M0519 in model_radius: </span><span style=\"color: #c0c0c0; text-decoration-color: #c0c0c0; font-weight: bold\">7.5</span><span style=\"color: #c6c6c6; text-decoration-color: #c6c6c6; font-weight: bold\"> sf:</span><span style=\"color: #00ff00; text-decoration-color: #00ff00; font-weight: bold; font-style: italic\">True</span><span style=\"color: #c6c6c6; text-decoration-color: #c6c6c6; font-weight: bold\"> pf:</span><span style=\"color: #00ff00; text-decoration-color: #00ff00; font-weight: bold; font-style: italic\">True</span><span style=\"color: #c6c6c6; text-decoration-color: #c6c6c6; font-weight: bold\"> k</span><span style=\"color: #00ff00; text-decoration-color: #00ff00; font-weight: bold\">f:Fa</span><span style=\"color: #c6c6c6; text-decoration-color: #c6c6c6; font-weight: bold\">lse index</span><span style=\"color: #00ff00; text-decoration-color: #00ff00; font-weight: bold\">f:Fa</span><span style=\"color: #c6c6c6; text-decoration-color: #c6c6c6; font-weight: bold\">lse               </span><a href=\"file:///data/home/cwy/Science/3MLWCDA/Standard/src/./mylib/Myfit.py\" target=\"_blank\"><span style=\"color: #7f7f7f; text-decoration-color: #7f7f7f\">Myfit.py</span></a><span style=\"color: #7f7f7f; text-decoration-color: #7f7f7f\">:</span><a href=\"file:///data/home/cwy/Science/3MLWCDA/Standard/src/./mylib/Myfit.py#327\" target=\"_blank\"><span style=\"color: #7f7f7f; text-decoration-color: #7f7f7f\">327</span></a>\n",
       "</pre>\n"
      ],
      "text/plain": [
       "\u001b[38;5;46m        \u001b[0m\u001b[38;5;46m \u001b[0m\u001b[38;5;49mINFO    \u001b[0m \u001b[1;38;5;251m J1841M0519 in model_radius: \u001b[0m\u001b[1;37m7.5\u001b[0m\u001b[1;38;5;251m sf:\u001b[0m\u001b[1;3;92mTrue\u001b[0m\u001b[1;38;5;251m pf:\u001b[0m\u001b[1;3;92mTrue\u001b[0m\u001b[1;38;5;251m k\u001b[0m\u001b[1;92mf:Fa\u001b[0m\u001b[1;38;5;251mlse index\u001b[0m\u001b[1;92mf:Fa\u001b[0m\u001b[1;38;5;251mlse              \u001b[0m\u001b[1;38;5;251m \u001b[0m\u001b]8;id=666713;file:///data/home/cwy/Science/3MLWCDA/Standard/src/./mylib/Myfit.py\u001b\\\u001b[2mMyfit.py\u001b[0m\u001b]8;;\u001b\\\u001b[2m:\u001b[0m\u001b]8;id=634075;file:///data/home/cwy/Science/3MLWCDA/Standard/src/./mylib/Myfit.py#327\u001b\\\u001b[2m327\u001b[0m\u001b]8;;\u001b\\\n"
      ]
     },
     "metadata": {},
     "output_type": "display_data"
    },
    {
     "data": {
      "text/html": [
       "<pre style=\"white-space:pre;overflow-x:auto;line-height:normal;font-family:Menlo,'DejaVu Sans Mono',consolas,'Courier New',monospace\"><span style=\"color: #00ff00; text-decoration-color: #00ff00\">         </span><span style=\"color: #00ffaf; text-decoration-color: #00ffaf\">INFO    </span> <span style=\"color: #c6c6c6; text-decoration-color: #c6c6c6; font-weight: bold\"> Spec:                                                                               </span><a href=\"file:///data/home/cwy/Science/3MLWCDA/Standard/src/./mylib/Myfit.py\" target=\"_blank\"><span style=\"color: #7f7f7f; text-decoration-color: #7f7f7f\">Myfit.py</span></a><span style=\"color: #7f7f7f; text-decoration-color: #7f7f7f\">:</span><a href=\"file:///data/home/cwy/Science/3MLWCDA/Standard/src/./mylib/Myfit.py#348\" target=\"_blank\"><span style=\"color: #7f7f7f; text-decoration-color: #7f7f7f\">348</span></a>\n",
       "<span style=\"color: #00ff00; text-decoration-color: #00ff00\">         </span>         <span style=\"color: #c6c6c6; text-decoration-color: #c6c6c6; font-weight: bold\"> </span><span style=\"color: #808000; text-decoration-color: #808000; font-weight: bold\">K</span><span style=\"color: #c6c6c6; text-decoration-color: #c6c6c6; font-weight: bold\">=</span><span style=\"color: #c0c0c0; text-decoration-color: #c0c0c0; font-weight: bold\">1</span><span style=\"color: #c0c0c0; text-decoration-color: #c0c0c0; font-weight: bold\">.52e-12</span><span style=\"color: #c6c6c6; text-decoration-color: #c6c6c6; font-weight: bold\"> </span><span style=\"color: #808000; text-decoration-color: #808000; font-weight: bold\">kb</span><span style=\"color: #c6c6c6; text-decoration-color: #c6c6c6; font-weight: bold\">=(</span><span style=\"color: #c0c0c0; text-decoration-color: #c0c0c0; font-weight: bold\">1.52e-14</span><span style=\"color: #c6c6c6; text-decoration-color: #c6c6c6; font-weight: bold\">, </span><span style=\"color: #c0c0c0; text-decoration-color: #c0c0c0; font-weight: bold\">3.20e-12</span><span style=\"color: #c6c6c6; text-decoration-color: #c6c6c6; font-weight: bold\">) </span><span style=\"color: #808000; text-decoration-color: #808000; font-weight: bold\">index</span><span style=\"color: #c6c6c6; text-decoration-color: #c6c6c6; font-weight: bold\">=</span><span style=\"color: #c0c0c0; text-decoration-color: #c0c0c0; font-weight: bold\">-2.88</span><span style=\"color: #c6c6c6; text-decoration-color: #c6c6c6; font-weight: bold\"> </span><span style=\"color: #808000; text-decoration-color: #808000; font-weight: bold\">indexb</span><span style=\"color: #c6c6c6; text-decoration-color: #c6c6c6; font-weight: bold\">=(</span><span style=\"color: #c0c0c0; text-decoration-color: #c0c0c0; font-weight: bold\">-3.28</span><span style=\"color: #c6c6c6; text-decoration-color: #c6c6c6; font-weight: bold\">,</span><span style=\"color: #c0c0c0; text-decoration-color: #c0c0c0; font-weight: bold\">-2.48</span><span style=\"color: #c6c6c6; text-decoration-color: #c6c6c6; font-weight: bold\">)                 </span><span style=\"color: #7f7f7f; text-decoration-color: #7f7f7f\">            </span>\n",
       "</pre>\n"
      ],
      "text/plain": [
       "\u001b[38;5;46m        \u001b[0m\u001b[38;5;46m \u001b[0m\u001b[38;5;49mINFO    \u001b[0m \u001b[1;38;5;251m Spec:                                                                              \u001b[0m\u001b[1;38;5;251m \u001b[0m\u001b]8;id=540474;file:///data/home/cwy/Science/3MLWCDA/Standard/src/./mylib/Myfit.py\u001b\\\u001b[2mMyfit.py\u001b[0m\u001b]8;;\u001b\\\u001b[2m:\u001b[0m\u001b]8;id=947078;file:///data/home/cwy/Science/3MLWCDA/Standard/src/./mylib/Myfit.py#348\u001b\\\u001b[2m348\u001b[0m\u001b]8;;\u001b\\\n",
       "\u001b[38;5;46m         \u001b[0m         \u001b[1;38;5;251m \u001b[0m\u001b[1;33mK\u001b[0m\u001b[1;38;5;251m=\u001b[0m\u001b[1;37m1\u001b[0m\u001b[1;37m.52e-12\u001b[0m\u001b[1;38;5;251m \u001b[0m\u001b[1;33mkb\u001b[0m\u001b[1;38;5;251m=\u001b[0m\u001b[1;38;5;251m(\u001b[0m\u001b[1;37m1.52e-14\u001b[0m\u001b[1;38;5;251m, \u001b[0m\u001b[1;37m3.20e-12\u001b[0m\u001b[1;38;5;251m)\u001b[0m\u001b[1;38;5;251m \u001b[0m\u001b[1;33mindex\u001b[0m\u001b[1;38;5;251m=\u001b[0m\u001b[1;37m-2.88\u001b[0m\u001b[1;38;5;251m \u001b[0m\u001b[1;33mindexb\u001b[0m\u001b[1;38;5;251m=\u001b[0m\u001b[1;38;5;251m(\u001b[0m\u001b[1;37m-3.28\u001b[0m\u001b[1;38;5;251m,\u001b[0m\u001b[1;37m-2.48\u001b[0m\u001b[1;38;5;251m)\u001b[0m\u001b[1;38;5;251m                \u001b[0m\u001b[1;38;5;251m \u001b[0m\u001b[2m            \u001b[0m\n"
      ]
     },
     "metadata": {},
     "output_type": "display_data"
    },
    {
     "data": {
      "text/html": [
       "<pre style=\"white-space:pre;overflow-x:auto;line-height:normal;font-family:Menlo,'DejaVu Sans Mono',consolas,'Courier New',monospace\"><span style=\"color: #00ff00; text-decoration-color: #00ff00\">         </span><span style=\"color: #00ffaf; text-decoration-color: #00ffaf\">INFO    </span> <span style=\"color: #c6c6c6; text-decoration-color: #c6c6c6; font-weight: bold\"> Mor:                                                                                </span><a href=\"file:///data/home/cwy/Science/3MLWCDA/Standard/src/./mylib/Myfit.py\" target=\"_blank\"><span style=\"color: #7f7f7f; text-decoration-color: #7f7f7f\">Myfit.py</span></a><span style=\"color: #7f7f7f; text-decoration-color: #7f7f7f\">:</span><a href=\"file:///data/home/cwy/Science/3MLWCDA/Standard/src/./mylib/Myfit.py#350\" target=\"_blank\"><span style=\"color: #7f7f7f; text-decoration-color: #7f7f7f\">350</span></a>\n",
       "<span style=\"color: #00ff00; text-decoration-color: #00ff00\">         </span>         <span style=\"color: #c6c6c6; text-decoration-color: #c6c6c6; font-weight: bold\"> </span><span style=\"color: #808000; text-decoration-color: #808000; font-weight: bold\">sigma</span><span style=\"color: #c6c6c6; text-decoration-color: #c6c6c6; font-weight: bold\">=</span><span style=\"color: #c0c0c0; text-decoration-color: #c0c0c0; font-weight: bold\">0</span><span style=\"color: #c0c0c0; text-decoration-color: #c0c0c0; font-weight: bold\">.60</span><span style=\"color: #c6c6c6; text-decoration-color: #c6c6c6; font-weight: bold\"> </span><span style=\"color: #808000; text-decoration-color: #808000; font-weight: bold\">sb</span><span style=\"color: #c6c6c6; text-decoration-color: #c6c6c6; font-weight: bold\">=(</span><span style=\"color: #c0c0c0; text-decoration-color: #c0c0c0; font-weight: bold\">0.36</span><span style=\"color: #c6c6c6; text-decoration-color: #c6c6c6; font-weight: bold\">,</span><span style=\"color: #c0c0c0; text-decoration-color: #c0c0c0; font-weight: bold\">0.84</span><span style=\"color: #c6c6c6; text-decoration-color: #c6c6c6; font-weight: bold\">) </span><span style=\"color: #808000; text-decoration-color: #808000; font-weight: bold\">fitrange</span><span style=\"color: #c6c6c6; text-decoration-color: #c6c6c6; font-weight: bold\">=</span><span style=\"color: #c0c0c0; text-decoration-color: #c0c0c0; font-weight: bold\">0</span><span style=\"color: #c0c0c0; text-decoration-color: #c0c0c0; font-weight: bold\">.72</span><span style=\"color: #c6c6c6; text-decoration-color: #c6c6c6; font-weight: bold\">                                             </span><span style=\"color: #7f7f7f; text-decoration-color: #7f7f7f\">            </span>\n",
       "</pre>\n"
      ],
      "text/plain": [
       "\u001b[38;5;46m        \u001b[0m\u001b[38;5;46m \u001b[0m\u001b[38;5;49mINFO    \u001b[0m \u001b[1;38;5;251m Mor:                                                                               \u001b[0m\u001b[1;38;5;251m \u001b[0m\u001b]8;id=939135;file:///data/home/cwy/Science/3MLWCDA/Standard/src/./mylib/Myfit.py\u001b\\\u001b[2mMyfit.py\u001b[0m\u001b]8;;\u001b\\\u001b[2m:\u001b[0m\u001b]8;id=23329;file:///data/home/cwy/Science/3MLWCDA/Standard/src/./mylib/Myfit.py#350\u001b\\\u001b[2m350\u001b[0m\u001b]8;;\u001b\\\n",
       "\u001b[38;5;46m         \u001b[0m         \u001b[1;38;5;251m \u001b[0m\u001b[1;33msigma\u001b[0m\u001b[1;38;5;251m=\u001b[0m\u001b[1;37m0\u001b[0m\u001b[1;37m.60\u001b[0m\u001b[1;38;5;251m \u001b[0m\u001b[1;33msb\u001b[0m\u001b[1;38;5;251m=\u001b[0m\u001b[1;38;5;251m(\u001b[0m\u001b[1;37m0.36\u001b[0m\u001b[1;38;5;251m,\u001b[0m\u001b[1;37m0.84\u001b[0m\u001b[1;38;5;251m)\u001b[0m\u001b[1;38;5;251m \u001b[0m\u001b[1;33mfitrange\u001b[0m\u001b[1;38;5;251m=\u001b[0m\u001b[1;37m0\u001b[0m\u001b[1;37m.72\u001b[0m\u001b[1;38;5;251m                                            \u001b[0m\u001b[1;38;5;251m \u001b[0m\u001b[2m            \u001b[0m\n"
      ]
     },
     "metadata": {},
     "output_type": "display_data"
    },
    {
     "data": {
      "text/html": [
       "<pre style=\"white-space:pre;overflow-x:auto;line-height:normal;font-family:Menlo,'DejaVu Sans Mono',consolas,'Courier New',monospace\"><span style=\"color: #00ff00; text-decoration-color: #00ff00\">         </span><span style=\"color: #00ffaf; text-decoration-color: #00ffaf\">INFO    </span> <span style=\"color: #c6c6c6; text-decoration-color: #c6c6c6; font-weight: bold\"> Set diffuse range: [</span><span style=\"color: #c0c0c0; text-decoration-color: #c0c0c0; font-weight: bold\">11</span><span style=\"color: #c6c6c6; text-decoration-color: #c6c6c6; font-weight: bold\">, </span><span style=\"color: #c0c0c0; text-decoration-color: #c0c0c0; font-weight: bold\">27</span><span style=\"color: #c6c6c6; text-decoration-color: #c6c6c6; font-weight: bold\">] [</span><span style=\"color: #c0c0c0; text-decoration-color: #c0c0c0; font-weight: bold\">-8</span><span style=\"color: #c6c6c6; text-decoration-color: #c6c6c6; font-weight: bold\">, </span><span style=\"color: #c0c0c0; text-decoration-color: #c0c0c0; font-weight: bold\">8</span><span style=\"color: #c6c6c6; text-decoration-color: #c6c6c6; font-weight: bold\">]                                                </span><a href=\"file:///data/home/cwy/Science/3MLWCDA/Standard/src/./mylib/Myfit.py\" target=\"_blank\"><span style=\"color: #7f7f7f; text-decoration-color: #7f7f7f\">Myfit.py</span></a><span style=\"color: #7f7f7f; text-decoration-color: #7f7f7f\">:</span><a href=\"file:///data/home/cwy/Science/3MLWCDA/Standard/src/./mylib/Myfit.py#1163\" target=\"_blank\"><span style=\"color: #7f7f7f; text-decoration-color: #7f7f7f\">1163</span></a>\n",
       "</pre>\n"
      ],
      "text/plain": [
       "\u001b[38;5;46m        \u001b[0m\u001b[38;5;46m \u001b[0m\u001b[38;5;49mINFO    \u001b[0m \u001b[1;38;5;251m Set diffuse range: \u001b[0m\u001b[1;38;5;251m[\u001b[0m\u001b[1;37m11\u001b[0m\u001b[1;38;5;251m, \u001b[0m\u001b[1;37m27\u001b[0m\u001b[1;38;5;251m]\u001b[0m\u001b[1;38;5;251m \u001b[0m\u001b[1;38;5;251m[\u001b[0m\u001b[1;37m-8\u001b[0m\u001b[1;38;5;251m, \u001b[0m\u001b[1;37m8\u001b[0m\u001b[1;38;5;251m]\u001b[0m\u001b[1;38;5;251m                                               \u001b[0m\u001b[1;38;5;251m \u001b[0m\u001b]8;id=81542;file:///data/home/cwy/Science/3MLWCDA/Standard/src/./mylib/Myfit.py\u001b\\\u001b[2mMyfit.py\u001b[0m\u001b]8;;\u001b\\\u001b[2m:\u001b[0m\u001b]8;id=71672;file:///data/home/cwy/Science/3MLWCDA/Standard/src/./mylib/Myfit.py#1163\u001b\\\u001b[2m1163\u001b[0m\u001b]8;;\u001b\\\n"
      ]
     },
     "metadata": {},
     "output_type": "display_data"
    },
    {
     "data": {
      "text/html": [
       "<pre style=\"white-space:pre;overflow-x:auto;line-height:normal;font-family:Menlo,'DejaVu Sans Mono',consolas,'Courier New',monospace\"><span style=\"color: #00ff00; text-decoration-color: #00ff00\">         </span><span style=\"color: #00ffaf; text-decoration-color: #00ffaf\">INFO    </span> <span style=\"color: #c6c6c6; text-decoration-color: #c6c6c6; font-weight: bold\"> ra dec coner:                                                                      </span><a href=\"file:///data/home/cwy/Science/3MLWCDA/Standard/src/./mylib/Myfit.py\" target=\"_blank\"><span style=\"color: #7f7f7f; text-decoration-color: #7f7f7f\">Myfit.py</span></a><span style=\"color: #7f7f7f; text-decoration-color: #7f7f7f\">:</span><a href=\"file:///data/home/cwy/Science/3MLWCDA/Standard/src/./mylib/Myfit.py#1164\" target=\"_blank\"><span style=\"color: #7f7f7f; text-decoration-color: #7f7f7f\">1164</span></a>\n",
       "</pre>\n"
      ],
      "text/plain": [
       "\u001b[38;5;46m        \u001b[0m\u001b[38;5;46m \u001b[0m\u001b[38;5;49mINFO    \u001b[0m \u001b[1;38;5;251m ra dec coner:                                                                     \u001b[0m\u001b[1;38;5;251m \u001b[0m\u001b]8;id=17977;file:///data/home/cwy/Science/3MLWCDA/Standard/src/./mylib/Myfit.py\u001b\\\u001b[2mMyfit.py\u001b[0m\u001b]8;;\u001b\\\u001b[2m:\u001b[0m\u001b]8;id=742689;file:///data/home/cwy/Science/3MLWCDA/Standard/src/./mylib/Myfit.py#1164\u001b\\\u001b[2m1164\u001b[0m\u001b]8;;\u001b\\\n"
      ]
     },
     "metadata": {},
     "output_type": "display_data"
    },
    {
     "data": {
      "text/html": [
       "<pre style=\"white-space:pre;overflow-x:auto;line-height:normal;font-family:Menlo,'DejaVu Sans Mono',consolas,'Courier New',monospace\"><span style=\"color: #00ff00; text-decoration-color: #00ff00\">         </span><span style=\"color: #00ffaf; text-decoration-color: #00ffaf\">INFO    </span> <span style=\"color: #c6c6c6; text-decoration-color: #c6c6c6; font-weight: bold\"> (</span><span style=\"color: #c0c0c0; text-decoration-color: #c0c0c0; font-weight: bold\">280.0678675034105</span><span style=\"color: #c6c6c6; text-decoration-color: #c6c6c6; font-weight: bold\">, </span><span style=\"color: #c0c0c0; text-decoration-color: #c0c0c0; font-weight: bold\">-23.118891913051822</span><span style=\"color: #c6c6c6; text-decoration-color: #c6c6c6; font-weight: bold\">)                                           </span><a href=\"file:///data/home/cwy/Science/3MLWCDA/Standard/src/./mylib/Myfit.py\" target=\"_blank\"><span style=\"color: #7f7f7f; text-decoration-color: #7f7f7f\">Myfit.py</span></a><span style=\"color: #7f7f7f; text-decoration-color: #7f7f7f\">:</span><a href=\"file:///data/home/cwy/Science/3MLWCDA/Standard/src/./mylib/Myfit.py#1165\" target=\"_blank\"><span style=\"color: #7f7f7f; text-decoration-color: #7f7f7f\">1165</span></a>\n",
       "</pre>\n"
      ],
      "text/plain": [
       "\u001b[38;5;46m        \u001b[0m\u001b[38;5;46m \u001b[0m\u001b[38;5;49mINFO    \u001b[0m \u001b[1;38;5;251m \u001b[0m\u001b[1;38;5;251m(\u001b[0m\u001b[1;37m280.0678675034105\u001b[0m\u001b[1;38;5;251m, \u001b[0m\u001b[1;37m-23.118891913051822\u001b[0m\u001b[1;38;5;251m)\u001b[0m\u001b[1;38;5;251m                                          \u001b[0m\u001b[1;38;5;251m \u001b[0m\u001b]8;id=702796;file:///data/home/cwy/Science/3MLWCDA/Standard/src/./mylib/Myfit.py\u001b\\\u001b[2mMyfit.py\u001b[0m\u001b]8;;\u001b\\\u001b[2m:\u001b[0m\u001b]8;id=408414;file:///data/home/cwy/Science/3MLWCDA/Standard/src/./mylib/Myfit.py#1165\u001b\\\u001b[2m1165\u001b[0m\u001b]8;;\u001b\\\n"
      ]
     },
     "metadata": {},
     "output_type": "display_data"
    },
    {
     "data": {
      "text/html": [
       "<pre style=\"white-space:pre;overflow-x:auto;line-height:normal;font-family:Menlo,'DejaVu Sans Mono',consolas,'Courier New',monospace\"><span style=\"color: #00ff00; text-decoration-color: #00ff00\">         </span><span style=\"color: #00ffaf; text-decoration-color: #00ffaf\">INFO    </span> <span style=\"color: #c6c6c6; text-decoration-color: #c6c6c6; font-weight: bold\"> (</span><span style=\"color: #c0c0c0; text-decoration-color: #c0c0c0; font-weight: bold\">287.34086682842513</span><span style=\"color: #c6c6c6; text-decoration-color: #c6c6c6; font-weight: bold\">, </span><span style=\"color: #c0c0c0; text-decoration-color: #c0c0c0; font-weight: bold\">-8.890290164211233</span><span style=\"color: #c6c6c6; text-decoration-color: #c6c6c6; font-weight: bold\">)                                           </span><a href=\"file:///data/home/cwy/Science/3MLWCDA/Standard/src/./mylib/Myfit.py\" target=\"_blank\"><span style=\"color: #7f7f7f; text-decoration-color: #7f7f7f\">Myfit.py</span></a><span style=\"color: #7f7f7f; text-decoration-color: #7f7f7f\">:</span><a href=\"file:///data/home/cwy/Science/3MLWCDA/Standard/src/./mylib/Myfit.py#1166\" target=\"_blank\"><span style=\"color: #7f7f7f; text-decoration-color: #7f7f7f\">1166</span></a>\n",
       "</pre>\n"
      ],
      "text/plain": [
       "\u001b[38;5;46m        \u001b[0m\u001b[38;5;46m \u001b[0m\u001b[38;5;49mINFO    \u001b[0m \u001b[1;38;5;251m \u001b[0m\u001b[1;38;5;251m(\u001b[0m\u001b[1;37m287.34086682842513\u001b[0m\u001b[1;38;5;251m, \u001b[0m\u001b[1;37m-8.890290164211233\u001b[0m\u001b[1;38;5;251m)\u001b[0m\u001b[1;38;5;251m                                          \u001b[0m\u001b[1;38;5;251m \u001b[0m\u001b]8;id=258806;file:///data/home/cwy/Science/3MLWCDA/Standard/src/./mylib/Myfit.py\u001b\\\u001b[2mMyfit.py\u001b[0m\u001b]8;;\u001b\\\u001b[2m:\u001b[0m\u001b]8;id=819890;file:///data/home/cwy/Science/3MLWCDA/Standard/src/./mylib/Myfit.py#1166\u001b\\\u001b[2m1166\u001b[0m\u001b]8;;\u001b\\\n"
      ]
     },
     "metadata": {},
     "output_type": "display_data"
    },
    {
     "data": {
      "text/html": [
       "<pre style=\"white-space:pre;overflow-x:auto;line-height:normal;font-family:Menlo,'DejaVu Sans Mono',consolas,'Courier New',monospace\"><span style=\"color: #00ff00; text-decoration-color: #00ff00\">         </span><span style=\"color: #00ffaf; text-decoration-color: #00ffaf\">INFO    </span> <span style=\"color: #c6c6c6; text-decoration-color: #c6c6c6; font-weight: bold\"> (</span><span style=\"color: #c0c0c0; text-decoration-color: #c0c0c0; font-weight: bold\">273.03715951687303</span><span style=\"color: #c6c6c6; text-decoration-color: #c6c6c6; font-weight: bold\">, </span><span style=\"color: #c0c0c0; text-decoration-color: #c0c0c0; font-weight: bold\">-1.5828020256848583</span><span style=\"color: #c6c6c6; text-decoration-color: #c6c6c6; font-weight: bold\">)                                          </span><a href=\"file:///data/home/cwy/Science/3MLWCDA/Standard/src/./mylib/Myfit.py\" target=\"_blank\"><span style=\"color: #7f7f7f; text-decoration-color: #7f7f7f\">Myfit.py</span></a><span style=\"color: #7f7f7f; text-decoration-color: #7f7f7f\">:</span><a href=\"file:///data/home/cwy/Science/3MLWCDA/Standard/src/./mylib/Myfit.py#1167\" target=\"_blank\"><span style=\"color: #7f7f7f; text-decoration-color: #7f7f7f\">1167</span></a>\n",
       "</pre>\n"
      ],
      "text/plain": [
       "\u001b[38;5;46m        \u001b[0m\u001b[38;5;46m \u001b[0m\u001b[38;5;49mINFO    \u001b[0m \u001b[1;38;5;251m \u001b[0m\u001b[1;38;5;251m(\u001b[0m\u001b[1;37m273.03715951687303\u001b[0m\u001b[1;38;5;251m, \u001b[0m\u001b[1;37m-1.5828020256848583\u001b[0m\u001b[1;38;5;251m)\u001b[0m\u001b[1;38;5;251m                                         \u001b[0m\u001b[1;38;5;251m \u001b[0m\u001b]8;id=224332;file:///data/home/cwy/Science/3MLWCDA/Standard/src/./mylib/Myfit.py\u001b\\\u001b[2mMyfit.py\u001b[0m\u001b]8;;\u001b\\\u001b[2m:\u001b[0m\u001b]8;id=187971;file:///data/home/cwy/Science/3MLWCDA/Standard/src/./mylib/Myfit.py#1167\u001b\\\u001b[2m1167\u001b[0m\u001b]8;;\u001b\\\n"
      ]
     },
     "metadata": {},
     "output_type": "display_data"
    },
    {
     "data": {
      "text/html": [
       "<pre style=\"white-space:pre;overflow-x:auto;line-height:normal;font-family:Menlo,'DejaVu Sans Mono',consolas,'Courier New',monospace\"><span style=\"color: #00ff00; text-decoration-color: #00ff00\">         </span><span style=\"color: #00ffaf; text-decoration-color: #00ffaf\">INFO    </span> <span style=\"color: #c6c6c6; text-decoration-color: #c6c6c6; font-weight: bold\"> (</span><span style=\"color: #c0c0c0; text-decoration-color: #c0c0c0; font-weight: bold\">265.1960440779179</span><span style=\"color: #c6c6c6; text-decoration-color: #c6c6c6; font-weight: bold\">, </span><span style=\"color: #c0c0c0; text-decoration-color: #c0c0c0; font-weight: bold\">-15.40968155547338</span><span style=\"color: #c6c6c6; text-decoration-color: #c6c6c6; font-weight: bold\">)                                            </span><a href=\"file:///data/home/cwy/Science/3MLWCDA/Standard/src/./mylib/Myfit.py\" target=\"_blank\"><span style=\"color: #7f7f7f; text-decoration-color: #7f7f7f\">Myfit.py</span></a><span style=\"color: #7f7f7f; text-decoration-color: #7f7f7f\">:</span><a href=\"file:///data/home/cwy/Science/3MLWCDA/Standard/src/./mylib/Myfit.py#1168\" target=\"_blank\"><span style=\"color: #7f7f7f; text-decoration-color: #7f7f7f\">1168</span></a>\n",
       "</pre>\n"
      ],
      "text/plain": [
       "\u001b[38;5;46m        \u001b[0m\u001b[38;5;46m \u001b[0m\u001b[38;5;49mINFO    \u001b[0m \u001b[1;38;5;251m \u001b[0m\u001b[1;38;5;251m(\u001b[0m\u001b[1;37m265.1960440779179\u001b[0m\u001b[1;38;5;251m, \u001b[0m\u001b[1;37m-15.40968155547338\u001b[0m\u001b[1;38;5;251m)\u001b[0m\u001b[1;38;5;251m                                           \u001b[0m\u001b[1;38;5;251m \u001b[0m\u001b]8;id=820174;file:///data/home/cwy/Science/3MLWCDA/Standard/src/./mylib/Myfit.py\u001b\\\u001b[2mMyfit.py\u001b[0m\u001b]8;;\u001b\\\u001b[2m:\u001b[0m\u001b]8;id=166795;file:///data/home/cwy/Science/3MLWCDA/Standard/src/./mylib/Myfit.py#1168\u001b\\\u001b[2m1168\u001b[0m\u001b]8;;\u001b\\\n"
      ]
     },
     "metadata": {},
     "output_type": "display_data"
    },
    {
     "data": {
      "text/html": [
       "<pre style=\"white-space:pre;overflow-x:auto;line-height:normal;font-family:Menlo,'DejaVu Sans Mono',consolas,'Courier New',monospace\"><span style=\"color: #00ff00; text-decoration-color: #00ff00\">         </span><span style=\"color: #00ffaf; text-decoration-color: #00ffaf\">INFO    </span> <span style=\"color: #c6c6c6; text-decoration-color: #c6c6c6; font-weight: bold\"> total sr: </span><span style=\"color: #c0c0c0; text-decoration-color: #c0c0c0; font-weight: bold\">0.07772890321151499</span><span style=\"color: #c6c6c6; text-decoration-color: #c6c6c6; font-weight: bold\">                                                      </span><a href=\"file:///data/home/cwy/Science/3MLWCDA/Standard/src/./mylib/Myfit.py\" target=\"_blank\"><span style=\"color: #7f7f7f; text-decoration-color: #7f7f7f\">Myfit.py</span></a><span style=\"color: #7f7f7f; text-decoration-color: #7f7f7f\">:</span><a href=\"file:///data/home/cwy/Science/3MLWCDA/Standard/src/./mylib/Myfit.py#1207\" target=\"_blank\"><span style=\"color: #7f7f7f; text-decoration-color: #7f7f7f\">1207</span></a>\n",
       "<span style=\"color: #00ff00; text-decoration-color: #00ff00\">         </span>         <span style=\"color: #c6c6c6; text-decoration-color: #c6c6c6; font-weight: bold\">ratio: </span><span style=\"color: #c0c0c0; text-decoration-color: #c0c0c0; font-weight: bold\">0.028307125215400412</span><span style=\"color: #c6c6c6; text-decoration-color: #c6c6c6; font-weight: bold\">                                                         </span><span style=\"color: #7f7f7f; text-decoration-color: #7f7f7f\">             </span>\n",
       "</pre>\n"
      ],
      "text/plain": [
       "\u001b[38;5;46m        \u001b[0m\u001b[38;5;46m \u001b[0m\u001b[38;5;49mINFO    \u001b[0m \u001b[1;38;5;251m total sr: \u001b[0m\u001b[1;37m0.07772890321151499\u001b[0m\u001b[1;38;5;251m                                                     \u001b[0m\u001b[1;38;5;251m \u001b[0m\u001b]8;id=150403;file:///data/home/cwy/Science/3MLWCDA/Standard/src/./mylib/Myfit.py\u001b\\\u001b[2mMyfit.py\u001b[0m\u001b]8;;\u001b\\\u001b[2m:\u001b[0m\u001b]8;id=48310;file:///data/home/cwy/Science/3MLWCDA/Standard/src/./mylib/Myfit.py#1207\u001b\\\u001b[2m1207\u001b[0m\u001b]8;;\u001b\\\n",
       "\u001b[38;5;46m         \u001b[0m         \u001b[1;38;5;251mratio: \u001b[0m\u001b[1;37m0.028307125215400412\u001b[0m\u001b[1;38;5;251m                                                        \u001b[0m\u001b[1;38;5;251m \u001b[0m\u001b[2m             \u001b[0m\n"
      ]
     },
     "metadata": {},
     "output_type": "display_data"
    },
    {
     "data": {
      "text/html": [
       "<pre style=\"white-space:pre;overflow-x:auto;line-height:normal;font-family:Menlo,'DejaVu Sans Mono',consolas,'Courier New',monospace\"><span style=\"color: #00ff00; text-decoration-color: #00ff00\">         </span><span style=\"color: #00ffaf; text-decoration-color: #00ffaf\">INFO    </span> <span style=\"color: #c6c6c6; text-decoration-color: #c6c6c6; font-weight: bold\"> integration: </span><span style=\"color: #c0c0c0; text-decoration-color: #c0c0c0; font-weight: bold\">1.1782021422056108e-05</span><span style=\"color: #c6c6c6; text-decoration-color: #c6c6c6; font-weight: bold\">                                                </span><a href=\"file:///data/home/cwy/Science/3MLWCDA/Standard/src/./mylib/Myfit.py\" target=\"_blank\"><span style=\"color: #7f7f7f; text-decoration-color: #7f7f7f\">Myfit.py</span></a><span style=\"color: #7f7f7f; text-decoration-color: #7f7f7f\">:</span><a href=\"file:///data/home/cwy/Science/3MLWCDA/Standard/src/./mylib/Myfit.py#1208\" target=\"_blank\"><span style=\"color: #7f7f7f; text-decoration-color: #7f7f7f\">1208</span></a>\n",
       "<span style=\"color: #00ff00; text-decoration-color: #00ff00\">         </span>         <span style=\"color: #c6c6c6; text-decoration-color: #c6c6c6; font-weight: bold\">ratio: </span><span style=\"color: #c0c0c0; text-decoration-color: #c0c0c0; font-weight: bold\">0.09297849542461918</span><span style=\"color: #c6c6c6; text-decoration-color: #c6c6c6; font-weight: bold\">                                                          </span><span style=\"color: #7f7f7f; text-decoration-color: #7f7f7f\">             </span>\n",
       "</pre>\n"
      ],
      "text/plain": [
       "\u001b[38;5;46m        \u001b[0m\u001b[38;5;46m \u001b[0m\u001b[38;5;49mINFO    \u001b[0m \u001b[1;38;5;251m integration: \u001b[0m\u001b[1;37m1.1782021422056108e-05\u001b[0m\u001b[1;38;5;251m                                               \u001b[0m\u001b[1;38;5;251m \u001b[0m\u001b]8;id=683914;file:///data/home/cwy/Science/3MLWCDA/Standard/src/./mylib/Myfit.py\u001b\\\u001b[2mMyfit.py\u001b[0m\u001b]8;;\u001b\\\u001b[2m:\u001b[0m\u001b]8;id=878337;file:///data/home/cwy/Science/3MLWCDA/Standard/src/./mylib/Myfit.py#1208\u001b\\\u001b[2m1208\u001b[0m\u001b]8;;\u001b\\\n",
       "\u001b[38;5;46m         \u001b[0m         \u001b[1;38;5;251mratio: \u001b[0m\u001b[1;37m0.09297849542461918\u001b[0m\u001b[1;38;5;251m                                                         \u001b[0m\u001b[1;38;5;251m \u001b[0m\u001b[2m             \u001b[0m\n"
      ]
     },
     "metadata": {},
     "output_type": "display_data"
    },
    {
     "data": {
      "text/html": [
       "<pre style=\"white-space:pre;overflow-x:auto;line-height:normal;font-family:Menlo,'DejaVu Sans Mono',consolas,'Courier New',monospace\"><span style=\"color: #00ff00; text-decoration-color: #00ff00\">         </span><span style=\"color: #00ffaf; text-decoration-color: #00ffaf\">INFO    </span> <span style=\"color: #c6c6c6; text-decoration-color: #c6c6c6; font-weight: bold\"> set K to: </span><span style=\"color: #c0c0c0; text-decoration-color: #c0c0c0; font-weight: bold\">1.6670658179191998e-12</span><span style=\"color: #c6c6c6; text-decoration-color: #c6c6c6; font-weight: bold\">                                                   </span><a href=\"file:///data/home/cwy/Science/3MLWCDA/Standard/src/./mylib/Myfit.py\" target=\"_blank\"><span style=\"color: #7f7f7f; text-decoration-color: #7f7f7f\">Myfit.py</span></a><span style=\"color: #7f7f7f; text-decoration-color: #7f7f7f\">:</span><a href=\"file:///data/home/cwy/Science/3MLWCDA/Standard/src/./mylib/Myfit.py#1209\" target=\"_blank\"><span style=\"color: #7f7f7f; text-decoration-color: #7f7f7f\">1209</span></a>\n",
       "</pre>\n"
      ],
      "text/plain": [
       "\u001b[38;5;46m        \u001b[0m\u001b[38;5;46m \u001b[0m\u001b[38;5;49mINFO    \u001b[0m \u001b[1;38;5;251m set K to: \u001b[0m\u001b[1;37m1.6670658179191998e-12\u001b[0m\u001b[1;38;5;251m                                                  \u001b[0m\u001b[1;38;5;251m \u001b[0m\u001b]8;id=147225;file:///data/home/cwy/Science/3MLWCDA/Standard/src/./mylib/Myfit.py\u001b\\\u001b[2mMyfit.py\u001b[0m\u001b]8;;\u001b\\\u001b[2m:\u001b[0m\u001b]8;id=718821;file:///data/home/cwy/Science/3MLWCDA/Standard/src/./mylib/Myfit.py#1209\u001b\\\u001b[2m1209\u001b[0m\u001b]8;;\u001b\\\n"
      ]
     },
     "metadata": {},
     "output_type": "display_data"
    },
    {
     "data": {
      "text/html": [
       "<pre style=\"white-space:pre;overflow-x:auto;line-height:normal;font-family:Menlo,'DejaVu Sans Mono',consolas,'Courier New',monospace\"><span style=\"color: #00ff00; text-decoration-color: #00ff00\">         </span><span style=\"color: #00ffaf; text-decoration-color: #00ffaf\">INFO    </span> <span style=\"color: #c6c6c6; text-decoration-color: #c6c6c6; font-weight: bold\"> diffuse file path: ..</span><span style=\"color: #5f5f5f; text-decoration-color: #5f5f5f; font-weight: bold\">/../data/</span><span style=\"color: #000080; text-decoration-color: #000080; font-weight: bold\">Diffuse_WCDA_case14_dust_bkg_template.fits</span><span style=\"color: #c6c6c6; text-decoration-color: #c6c6c6; font-weight: bold\">           </span><a href=\"file:///data/home/cwy/Science/3MLWCDA/Standard/src/./mylib/Myfit.py\" target=\"_blank\"><span style=\"color: #7f7f7f; text-decoration-color: #7f7f7f\">Myfit.py</span></a><span style=\"color: #7f7f7f; text-decoration-color: #7f7f7f\">:</span><a href=\"file:///data/home/cwy/Science/3MLWCDA/Standard/src/./mylib/Myfit.py#1236\" target=\"_blank\"><span style=\"color: #7f7f7f; text-decoration-color: #7f7f7f\">1236</span></a>\n",
       "</pre>\n"
      ],
      "text/plain": [
       "\u001b[38;5;46m        \u001b[0m\u001b[38;5;46m \u001b[0m\u001b[38;5;49mINFO    \u001b[0m \u001b[1;38;5;251m diffuse file path: ..\u001b[0m\u001b[1;38;5;59m/../data/\u001b[0m\u001b[1;34mDiffuse_WCDA_case14_dust_bkg_template.fits\u001b[0m\u001b[1;38;5;251m          \u001b[0m\u001b[1;38;5;251m \u001b[0m\u001b]8;id=496971;file:///data/home/cwy/Science/3MLWCDA/Standard/src/./mylib/Myfit.py\u001b\\\u001b[2mMyfit.py\u001b[0m\u001b]8;;\u001b\\\u001b[2m:\u001b[0m\u001b]8;id=168555;file:///data/home/cwy/Science/3MLWCDA/Standard/src/./mylib/Myfit.py#1236\u001b\\\u001b[2m1236\u001b[0m\u001b]8;;\u001b\\\n"
      ]
     },
     "metadata": {},
     "output_type": "display_data"
    },
    {
     "data": {
      "text/html": [
       "Model summary:<br><br><div>\n",
       "<style scoped>\n",
       "    .dataframe tbody tr th:only-of-type {\n",
       "        vertical-align: middle;\n",
       "    }\n",
       "\n",
       "    .dataframe tbody tr th {\n",
       "        vertical-align: top;\n",
       "    }\n",
       "\n",
       "    .dataframe thead th {\n",
       "        text-align: right;\n",
       "    }\n",
       "</style>\n",
       "<table border=\"1\" class=\"dataframe\">\n",
       "  <thead>\n",
       "    <tr style=\"text-align: right;\">\n",
       "      <th></th>\n",
       "      <th>N</th>\n",
       "    </tr>\n",
       "  </thead>\n",
       "  <tbody>\n",
       "    <tr>\n",
       "      <th>Point sources</th>\n",
       "      <td>1</td>\n",
       "    </tr>\n",
       "    <tr>\n",
       "      <th>Extended sources</th>\n",
       "      <td>10</td>\n",
       "    </tr>\n",
       "    <tr>\n",
       "      <th>Particle sources</th>\n",
       "      <td>0</td>\n",
       "    </tr>\n",
       "  </tbody>\n",
       "</table>\n",
       "</div><br><br>Free parameters (39):<br><br><div>\n",
       "<style scoped>\n",
       "    .dataframe tbody tr th:only-of-type {\n",
       "        vertical-align: middle;\n",
       "    }\n",
       "\n",
       "    .dataframe tbody tr th {\n",
       "        vertical-align: top;\n",
       "    }\n",
       "\n",
       "    .dataframe thead th {\n",
       "        text-align: right;\n",
       "    }\n",
       "</style>\n",
       "<table border=\"1\" class=\"dataframe\">\n",
       "  <thead>\n",
       "    <tr style=\"text-align: right;\">\n",
       "      <th></th>\n",
       "      <th>value</th>\n",
       "      <th>min_value</th>\n",
       "      <th>max_value</th>\n",
       "      <th>unit</th>\n",
       "    </tr>\n",
       "  </thead>\n",
       "  <tbody>\n",
       "    <tr>\n",
       "      <th>J1813M1245.position.ra</th>\n",
       "      <td>273.35</td>\n",
       "      <td>271.67</td>\n",
       "      <td>275.03</td>\n",
       "      <td>deg</td>\n",
       "    </tr>\n",
       "    <tr>\n",
       "      <th>J1813M1245.position.dec</th>\n",
       "      <td>-12.73</td>\n",
       "      <td>-14.41</td>\n",
       "      <td>-11.05</td>\n",
       "      <td>deg</td>\n",
       "    </tr>\n",
       "    <tr>\n",
       "      <th>J1813M1245.spectrum.main.Powerlaw.K</th>\n",
       "      <td>0.0</td>\n",
       "      <td>0.0</td>\n",
       "      <td>0.0</td>\n",
       "      <td>keV-1 s-1 cm-2</td>\n",
       "    </tr>\n",
       "    <tr>\n",
       "      <th>J1813M1245.spectrum.main.Powerlaw.index</th>\n",
       "      <td>-2.61</td>\n",
       "      <td>-3.41</td>\n",
       "      <td>-1.81</td>\n",
       "      <td></td>\n",
       "    </tr>\n",
       "    <tr>\n",
       "      <th>J1814M1719u.spectrum.main.Powerlaw.K</th>\n",
       "      <td>0.0</td>\n",
       "      <td>0.0</td>\n",
       "      <td>0.0</td>\n",
       "      <td>keV-1 s-1 cm-2</td>\n",
       "    </tr>\n",
       "    <tr>\n",
       "      <th>J1814M1719u.spectrum.main.Powerlaw.index</th>\n",
       "      <td>-2.83</td>\n",
       "      <td>-3.43</td>\n",
       "      <td>-2.23</td>\n",
       "      <td></td>\n",
       "    </tr>\n",
       "    <tr>\n",
       "      <th>J1825M1418.Gaussian_on_sphere.lon0</th>\n",
       "      <td>276.29</td>\n",
       "      <td>274.77</td>\n",
       "      <td>277.81</td>\n",
       "      <td>deg</td>\n",
       "    </tr>\n",
       "    <tr>\n",
       "      <th>J1825M1418.Gaussian_on_sphere.lat0</th>\n",
       "      <td>-14.32</td>\n",
       "      <td>-15.84</td>\n",
       "      <td>-12.8</td>\n",
       "      <td>deg</td>\n",
       "    </tr>\n",
       "    <tr>\n",
       "      <th>J1825M1418.Gaussian_on_sphere.sigma</th>\n",
       "      <td>0.81</td>\n",
       "      <td>0.41</td>\n",
       "      <td>1.21</td>\n",
       "      <td>deg</td>\n",
       "    </tr>\n",
       "    <tr>\n",
       "      <th>J1825M1418.spectrum.main.Powerlaw.K</th>\n",
       "      <td>0.0</td>\n",
       "      <td>0.0</td>\n",
       "      <td>0.0</td>\n",
       "      <td>keV-1 s-1 cm-2</td>\n",
       "    </tr>\n",
       "    <tr>\n",
       "      <th>J1825M1418.spectrum.main.Powerlaw.index</th>\n",
       "      <td>-2.98</td>\n",
       "      <td>-3.48</td>\n",
       "      <td>-2.48</td>\n",
       "      <td></td>\n",
       "    </tr>\n",
       "    <tr>\n",
       "      <th>J1825M1256u.Gaussian_on_sphere.lon0</th>\n",
       "      <td>276.55</td>\n",
       "      <td>275.91</td>\n",
       "      <td>277.19</td>\n",
       "      <td>deg</td>\n",
       "    </tr>\n",
       "    <tr>\n",
       "      <th>J1825M1256u.Gaussian_on_sphere.lat0</th>\n",
       "      <td>-13.04</td>\n",
       "      <td>-13.68</td>\n",
       "      <td>-12.4</td>\n",
       "      <td>deg</td>\n",
       "    </tr>\n",
       "    <tr>\n",
       "      <th>J1825M1256u.Gaussian_on_sphere.sigma</th>\n",
       "      <td>0.24</td>\n",
       "      <td>0.0</td>\n",
       "      <td>0.48</td>\n",
       "      <td>deg</td>\n",
       "    </tr>\n",
       "    <tr>\n",
       "      <th>J1825M1256u.spectrum.main.Powerlaw.K</th>\n",
       "      <td>0.0</td>\n",
       "      <td>0.0</td>\n",
       "      <td>0.0</td>\n",
       "      <td>keV-1 s-1 cm-2</td>\n",
       "    </tr>\n",
       "    <tr>\n",
       "      <th>J1825M1256u.spectrum.main.Powerlaw.index</th>\n",
       "      <td>-2.61</td>\n",
       "      <td>-2.91</td>\n",
       "      <td>-2.31</td>\n",
       "      <td></td>\n",
       "    </tr>\n",
       "    <tr>\n",
       "      <th>J1825M1337u.Gaussian_on_sphere.lon0</th>\n",
       "      <td>276.55</td>\n",
       "      <td>276.15</td>\n",
       "      <td>276.95</td>\n",
       "      <td>deg</td>\n",
       "    </tr>\n",
       "    <tr>\n",
       "      <th>J1825M1337u.Gaussian_on_sphere.lat0</th>\n",
       "      <td>-13.73</td>\n",
       "      <td>-14.13</td>\n",
       "      <td>-13.33</td>\n",
       "      <td>deg</td>\n",
       "    </tr>\n",
       "    <tr>\n",
       "      <th>J1825M1337u.Gaussian_on_sphere.sigma</th>\n",
       "      <td>0.17</td>\n",
       "      <td>0.01</td>\n",
       "      <td>0.33</td>\n",
       "      <td>deg</td>\n",
       "    </tr>\n",
       "    <tr>\n",
       "      <th>J1825M1337u.spectrum.main.Powerlaw.K</th>\n",
       "      <td>0.0</td>\n",
       "      <td>0.0</td>\n",
       "      <td>0.0</td>\n",
       "      <td>keV-1 s-1 cm-2</td>\n",
       "    </tr>\n",
       "    <tr>\n",
       "      <th>J1825M1337u.spectrum.main.Powerlaw.index</th>\n",
       "      <td>-2.55</td>\n",
       "      <td>-2.85</td>\n",
       "      <td>-2.25</td>\n",
       "      <td></td>\n",
       "    </tr>\n",
       "    <tr>\n",
       "      <th>J1831M1007u.Gaussian_on_sphere.lon0</th>\n",
       "      <td>277.75</td>\n",
       "      <td>276.47</td>\n",
       "      <td>279.03</td>\n",
       "      <td>deg</td>\n",
       "    </tr>\n",
       "    <tr>\n",
       "      <th>J1831M1007u.Gaussian_on_sphere.lat0</th>\n",
       "      <td>-10.12</td>\n",
       "      <td>-11.4</td>\n",
       "      <td>-8.84</td>\n",
       "      <td>deg</td>\n",
       "    </tr>\n",
       "    <tr>\n",
       "      <th>J1831M1007u.Gaussian_on_sphere.sigma</th>\n",
       "      <td>0.78</td>\n",
       "      <td>0.46</td>\n",
       "      <td>1.1</td>\n",
       "      <td>deg</td>\n",
       "    </tr>\n",
       "    <tr>\n",
       "      <th>J1831M1007u.spectrum.main.Powerlaw.K</th>\n",
       "      <td>0.0</td>\n",
       "      <td>0.0</td>\n",
       "      <td>0.0</td>\n",
       "      <td>keV-1 s-1 cm-2</td>\n",
       "    </tr>\n",
       "    <tr>\n",
       "      <th>J1831M1007u.spectrum.main.Powerlaw.index</th>\n",
       "      <td>-2.71</td>\n",
       "      <td>-3.11</td>\n",
       "      <td>-2.31</td>\n",
       "      <td></td>\n",
       "    </tr>\n",
       "    <tr>\n",
       "      <th>J1834M0831.Gaussian_on_sphere.lon0</th>\n",
       "      <td>278.62</td>\n",
       "      <td>276.86</td>\n",
       "      <td>280.38</td>\n",
       "      <td>deg</td>\n",
       "    </tr>\n",
       "    <tr>\n",
       "      <th>J1834M0831.Gaussian_on_sphere.lat0</th>\n",
       "      <td>-8.53</td>\n",
       "      <td>-10.29</td>\n",
       "      <td>-6.77</td>\n",
       "      <td>deg</td>\n",
       "    </tr>\n",
       "    <tr>\n",
       "      <th>J1834M0831.Gaussian_on_sphere.sigma</th>\n",
       "      <td>0.4</td>\n",
       "      <td>0.0</td>\n",
       "      <td>0.96</td>\n",
       "      <td>deg</td>\n",
       "    </tr>\n",
       "    <tr>\n",
       "      <th>J1834M0831.spectrum.main.Powerlaw.K</th>\n",
       "      <td>0.0</td>\n",
       "      <td>0.0</td>\n",
       "      <td>0.0</td>\n",
       "      <td>keV-1 s-1 cm-2</td>\n",
       "    </tr>\n",
       "    <tr>\n",
       "      <th>J1834M0831.spectrum.main.Powerlaw.index</th>\n",
       "      <td>-3.08</td>\n",
       "      <td>-4.0</td>\n",
       "      <td>-1.78</td>\n",
       "      <td></td>\n",
       "    </tr>\n",
       "    <tr>\n",
       "      <th>J1837M0654u.spectrum.main.Powerlaw.K</th>\n",
       "      <td>0.0</td>\n",
       "      <td>0.0</td>\n",
       "      <td>0.0</td>\n",
       "      <td>keV-1 s-1 cm-2</td>\n",
       "    </tr>\n",
       "    <tr>\n",
       "      <th>J1837M0654u.spectrum.main.Powerlaw.index</th>\n",
       "      <td>-2.92</td>\n",
       "      <td>-3.22</td>\n",
       "      <td>-2.62</td>\n",
       "      <td></td>\n",
       "    </tr>\n",
       "    <tr>\n",
       "      <th>J1839M0548u.spectrum.main.Powerlaw.K</th>\n",
       "      <td>0.0</td>\n",
       "      <td>0.0</td>\n",
       "      <td>0.0</td>\n",
       "      <td>keV-1 s-1 cm-2</td>\n",
       "    </tr>\n",
       "    <tr>\n",
       "      <th>J1839M0548u.spectrum.main.Powerlaw.index</th>\n",
       "      <td>-2.65</td>\n",
       "      <td>-3.05</td>\n",
       "      <td>-2.25</td>\n",
       "      <td></td>\n",
       "    </tr>\n",
       "    <tr>\n",
       "      <th>J1841M0519.spectrum.main.Powerlaw.K</th>\n",
       "      <td>0.0</td>\n",
       "      <td>0.0</td>\n",
       "      <td>0.0</td>\n",
       "      <td>keV-1 s-1 cm-2</td>\n",
       "    </tr>\n",
       "    <tr>\n",
       "      <th>J1841M0519.spectrum.main.Powerlaw.index</th>\n",
       "      <td>-2.88</td>\n",
       "      <td>-3.28</td>\n",
       "      <td>-2.48</td>\n",
       "      <td></td>\n",
       "    </tr>\n",
       "    <tr>\n",
       "      <th>Diffuse.spectrum.main.Powerlaw.K</th>\n",
       "      <td>0.0</td>\n",
       "      <td>0.0</td>\n",
       "      <td>0.0</td>\n",
       "      <td>keV-1 s-1 cm-2</td>\n",
       "    </tr>\n",
       "    <tr>\n",
       "      <th>Diffuse.spectrum.main.Powerlaw.index</th>\n",
       "      <td>-2.5</td>\n",
       "      <td>-4.5</td>\n",
       "      <td>-0.5</td>\n",
       "      <td></td>\n",
       "    </tr>\n",
       "  </tbody>\n",
       "</table>\n",
       "</div><br><br>Fixed parameters (26):<br><br><div>\n",
       "<style scoped>\n",
       "    .dataframe tbody tr th:only-of-type {\n",
       "        vertical-align: middle;\n",
       "    }\n",
       "\n",
       "    .dataframe tbody tr th {\n",
       "        vertical-align: top;\n",
       "    }\n",
       "\n",
       "    .dataframe thead th {\n",
       "        text-align: right;\n",
       "    }\n",
       "</style>\n",
       "<table border=\"1\" class=\"dataframe\">\n",
       "  <thead>\n",
       "    <tr style=\"text-align: right;\">\n",
       "      <th></th>\n",
       "      <th>value</th>\n",
       "      <th>min_value</th>\n",
       "      <th>max_value</th>\n",
       "      <th>unit</th>\n",
       "    </tr>\n",
       "  </thead>\n",
       "  <tbody>\n",
       "    <tr>\n",
       "      <th>J1813M1245.spectrum.main.Powerlaw.piv</th>\n",
       "      <td>3000000000.0</td>\n",
       "      <td>None</td>\n",
       "      <td>None</td>\n",
       "      <td>keV</td>\n",
       "    </tr>\n",
       "    <tr>\n",
       "      <th>J1814M1719u.Gaussian_on_sphere.lon0</th>\n",
       "      <td>273.69</td>\n",
       "      <td>271.53</td>\n",
       "      <td>275.85</td>\n",
       "      <td>deg</td>\n",
       "    </tr>\n",
       "    <tr>\n",
       "      <th>J1814M1719u.Gaussian_on_sphere.lat0</th>\n",
       "      <td>-17.33</td>\n",
       "      <td>-19.49</td>\n",
       "      <td>-15.17</td>\n",
       "      <td>deg</td>\n",
       "    </tr>\n",
       "    <tr>\n",
       "      <th>J1814M1719u.Gaussian_on_sphere.sigma</th>\n",
       "      <td>0.71</td>\n",
       "      <td>0.15</td>\n",
       "      <td>1.27</td>\n",
       "      <td>deg</td>\n",
       "    </tr>\n",
       "    <tr>\n",
       "      <th>J1814M1719u.spectrum.main.Powerlaw.piv</th>\n",
       "      <td>3000000000.0</td>\n",
       "      <td>None</td>\n",
       "      <td>None</td>\n",
       "      <td>keV</td>\n",
       "    </tr>\n",
       "    <tr>\n",
       "      <th>J1825M1418.spectrum.main.Powerlaw.piv</th>\n",
       "      <td>3000000000.0</td>\n",
       "      <td>None</td>\n",
       "      <td>None</td>\n",
       "      <td>keV</td>\n",
       "    </tr>\n",
       "    <tr>\n",
       "      <th>J1825M1256u.spectrum.main.Powerlaw.piv</th>\n",
       "      <td>3000000000.0</td>\n",
       "      <td>None</td>\n",
       "      <td>None</td>\n",
       "      <td>keV</td>\n",
       "    </tr>\n",
       "    <tr>\n",
       "      <th>J1825M1337u.spectrum.main.Powerlaw.piv</th>\n",
       "      <td>3000000000.0</td>\n",
       "      <td>None</td>\n",
       "      <td>None</td>\n",
       "      <td>keV</td>\n",
       "    </tr>\n",
       "    <tr>\n",
       "      <th>J1831M1007u.spectrum.main.Powerlaw.piv</th>\n",
       "      <td>3000000000.0</td>\n",
       "      <td>None</td>\n",
       "      <td>None</td>\n",
       "      <td>keV</td>\n",
       "    </tr>\n",
       "    <tr>\n",
       "      <th>J1834M0831.spectrum.main.Powerlaw.piv</th>\n",
       "      <td>3000000000.0</td>\n",
       "      <td>None</td>\n",
       "      <td>None</td>\n",
       "      <td>keV</td>\n",
       "    </tr>\n",
       "    <tr>\n",
       "      <th>J1837M0654u.Gaussian_on_sphere.lon0</th>\n",
       "      <td>279.39</td>\n",
       "      <td>278.91</td>\n",
       "      <td>279.87</td>\n",
       "      <td>deg</td>\n",
       "    </tr>\n",
       "    <tr>\n",
       "      <th>J1837M0654u.Gaussian_on_sphere.lat0</th>\n",
       "      <td>-6.9</td>\n",
       "      <td>-7.38</td>\n",
       "      <td>-6.42</td>\n",
       "      <td>deg</td>\n",
       "    </tr>\n",
       "    <tr>\n",
       "      <th>J1837M0654u.Gaussian_on_sphere.sigma</th>\n",
       "      <td>0.34</td>\n",
       "      <td>0.26</td>\n",
       "      <td>0.42</td>\n",
       "      <td>deg</td>\n",
       "    </tr>\n",
       "    <tr>\n",
       "      <th>J1837M0654u.spectrum.main.Powerlaw.piv</th>\n",
       "      <td>3000000000.0</td>\n",
       "      <td>None</td>\n",
       "      <td>None</td>\n",
       "      <td>keV</td>\n",
       "    </tr>\n",
       "    <tr>\n",
       "      <th>J1839M0548u.Gaussian_on_sphere.lon0</th>\n",
       "      <td>279.85</td>\n",
       "      <td>279.29</td>\n",
       "      <td>280.41</td>\n",
       "      <td>deg</td>\n",
       "    </tr>\n",
       "    <tr>\n",
       "      <th>J1839M0548u.Gaussian_on_sphere.lat0</th>\n",
       "      <td>-5.9</td>\n",
       "      <td>-6.46</td>\n",
       "      <td>-5.34</td>\n",
       "      <td>deg</td>\n",
       "    </tr>\n",
       "    <tr>\n",
       "      <th>J1839M0548u.Gaussian_on_sphere.sigma</th>\n",
       "      <td>0.22</td>\n",
       "      <td>0.06</td>\n",
       "      <td>0.38</td>\n",
       "      <td>deg</td>\n",
       "    </tr>\n",
       "    <tr>\n",
       "      <th>J1839M0548u.spectrum.main.Powerlaw.piv</th>\n",
       "      <td>3000000000.0</td>\n",
       "      <td>None</td>\n",
       "      <td>None</td>\n",
       "      <td>keV</td>\n",
       "    </tr>\n",
       "    <tr>\n",
       "      <th>J1841M0519.Gaussian_on_sphere.lon0</th>\n",
       "      <td>280.33</td>\n",
       "      <td>279.61</td>\n",
       "      <td>281.05</td>\n",
       "      <td>deg</td>\n",
       "    </tr>\n",
       "    <tr>\n",
       "      <th>J1841M0519.Gaussian_on_sphere.lat0</th>\n",
       "      <td>-5.33</td>\n",
       "      <td>-6.05</td>\n",
       "      <td>-4.61</td>\n",
       "      <td>deg</td>\n",
       "    </tr>\n",
       "    <tr>\n",
       "      <th>J1841M0519.Gaussian_on_sphere.sigma</th>\n",
       "      <td>0.6</td>\n",
       "      <td>0.36</td>\n",
       "      <td>0.84</td>\n",
       "      <td>deg</td>\n",
       "    </tr>\n",
       "    <tr>\n",
       "      <th>J1841M0519.spectrum.main.Powerlaw.piv</th>\n",
       "      <td>3000000000.0</td>\n",
       "      <td>None</td>\n",
       "      <td>None</td>\n",
       "      <td>keV</td>\n",
       "    </tr>\n",
       "    <tr>\n",
       "      <th>Diffuse.SpatialTemplate_2D.K</th>\n",
       "      <td>1.0</td>\n",
       "      <td>None</td>\n",
       "      <td>None</td>\n",
       "      <td>deg-2</td>\n",
       "    </tr>\n",
       "    <tr>\n",
       "      <th>Diffuse.SpatialTemplate_2D.hash</th>\n",
       "      <td>2209099574945065268127980948702423506552898830...</td>\n",
       "      <td>None</td>\n",
       "      <td>None</td>\n",
       "      <td></td>\n",
       "    </tr>\n",
       "    <tr>\n",
       "      <th>Diffuse.SpatialTemplate_2D.ihdu</th>\n",
       "      <td>0.0</td>\n",
       "      <td>0.0</td>\n",
       "      <td>None</td>\n",
       "      <td></td>\n",
       "    </tr>\n",
       "    <tr>\n",
       "      <th>Diffuse.spectrum.main.Powerlaw.piv</th>\n",
       "      <td>3000000000.0</td>\n",
       "      <td>None</td>\n",
       "      <td>None</td>\n",
       "      <td>keV</td>\n",
       "    </tr>\n",
       "  </tbody>\n",
       "</table>\n",
       "</div><br><br>Properties (2):<br><br><div>\n",
       "<style scoped>\n",
       "    .dataframe tbody tr th:only-of-type {\n",
       "        vertical-align: middle;\n",
       "    }\n",
       "\n",
       "    .dataframe tbody tr th {\n",
       "        vertical-align: top;\n",
       "    }\n",
       "\n",
       "    .dataframe thead th {\n",
       "        text-align: right;\n",
       "    }\n",
       "</style>\n",
       "<table border=\"1\" class=\"dataframe\">\n",
       "  <thead>\n",
       "    <tr style=\"text-align: right;\">\n",
       "      <th></th>\n",
       "      <th>value</th>\n",
       "      <th>allowed values</th>\n",
       "    </tr>\n",
       "  </thead>\n",
       "  <tbody>\n",
       "    <tr>\n",
       "      <th>Diffuse.SpatialTemplate_2D.fits_file</th>\n",
       "      <td>../../data/Diffuse_WCDA_case14_dust_bkg_templa...</td>\n",
       "      <td>None</td>\n",
       "    </tr>\n",
       "    <tr>\n",
       "      <th>Diffuse.SpatialTemplate_2D.frame</th>\n",
       "      <td>icrs</td>\n",
       "      <td>[icrs, galactic, fk5, fk4, fk4_no_e]</td>\n",
       "    </tr>\n",
       "  </tbody>\n",
       "</table>\n",
       "</div><br><br>Linked parameters (0):<br><br>(none)<br><br>Independent variables:<br><br>(none)<br><br>Linked functions (0):<br><br>(none)<br>"
      ],
      "text/plain": [
       "Model summary:\n",
       "==============\n",
       "\n",
       "                   N\n",
       "Point sources      1\n",
       "Extended sources  10\n",
       "Particle sources   0\n",
       "\n",
       "Free parameters (39):\n",
       "--------------------\n",
       "\n",
       "                                           value min_value max_value   \n",
       "J1813M1245.position.ra                    273.35    271.67    275.03  \\\n",
       "J1813M1245.position.dec                   -12.73    -14.41    -11.05   \n",
       "J1813M1245.spectrum.main.Powerlaw.K          0.0       0.0       0.0   \n",
       "J1813M1245.spectrum.main.Powerlaw.index    -2.61     -3.41     -1.81   \n",
       "J1814M1719u.spectrum.main.Powerlaw.K         0.0       0.0       0.0   \n",
       "J1814M1719u.spectrum.main.Powerlaw.index   -2.83     -3.43     -2.23   \n",
       "J1825M1418.Gaussian_on_sphere.lon0        276.29    274.77    277.81   \n",
       "J1825M1418.Gaussian_on_sphere.lat0        -14.32    -15.84     -12.8   \n",
       "J1825M1418.Gaussian_on_sphere.sigma         0.81      0.41      1.21   \n",
       "J1825M1418.spectrum.main.Powerlaw.K          0.0       0.0       0.0   \n",
       "J1825M1418.spectrum.main.Powerlaw.index    -2.98     -3.48     -2.48   \n",
       "J1825M1256u.Gaussian_on_sphere.lon0       276.55    275.91    277.19   \n",
       "J1825M1256u.Gaussian_on_sphere.lat0       -13.04    -13.68     -12.4   \n",
       "J1825M1256u.Gaussian_on_sphere.sigma        0.24       0.0      0.48   \n",
       "J1825M1256u.spectrum.main.Powerlaw.K         0.0       0.0       0.0   \n",
       "J1825M1256u.spectrum.main.Powerlaw.index   -2.61     -2.91     -2.31   \n",
       "J1825M1337u.Gaussian_on_sphere.lon0       276.55    276.15    276.95   \n",
       "J1825M1337u.Gaussian_on_sphere.lat0       -13.73    -14.13    -13.33   \n",
       "J1825M1337u.Gaussian_on_sphere.sigma        0.17      0.01      0.33   \n",
       "J1825M1337u.spectrum.main.Powerlaw.K         0.0       0.0       0.0   \n",
       "J1825M1337u.spectrum.main.Powerlaw.index   -2.55     -2.85     -2.25   \n",
       "J1831M1007u.Gaussian_on_sphere.lon0       277.75    276.47    279.03   \n",
       "J1831M1007u.Gaussian_on_sphere.lat0       -10.12     -11.4     -8.84   \n",
       "J1831M1007u.Gaussian_on_sphere.sigma        0.78      0.46       1.1   \n",
       "J1831M1007u.spectrum.main.Powerlaw.K         0.0       0.0       0.0   \n",
       "J1831M1007u.spectrum.main.Powerlaw.index   -2.71     -3.11     -2.31   \n",
       "J1834M0831.Gaussian_on_sphere.lon0        278.62    276.86    280.38   \n",
       "J1834M0831.Gaussian_on_sphere.lat0         -8.53    -10.29     -6.77   \n",
       "J1834M0831.Gaussian_on_sphere.sigma          0.4       0.0      0.96   \n",
       "J1834M0831.spectrum.main.Powerlaw.K          0.0       0.0       0.0   \n",
       "J1834M0831.spectrum.main.Powerlaw.index    -3.08      -4.0     -1.78   \n",
       "J1837M0654u.spectrum.main.Powerlaw.K         0.0       0.0       0.0   \n",
       "J1837M0654u.spectrum.main.Powerlaw.index   -2.92     -3.22     -2.62   \n",
       "J1839M0548u.spectrum.main.Powerlaw.K         0.0       0.0       0.0   \n",
       "J1839M0548u.spectrum.main.Powerlaw.index   -2.65     -3.05     -2.25   \n",
       "J1841M0519.spectrum.main.Powerlaw.K          0.0       0.0       0.0   \n",
       "J1841M0519.spectrum.main.Powerlaw.index    -2.88     -3.28     -2.48   \n",
       "Diffuse.spectrum.main.Powerlaw.K             0.0       0.0       0.0   \n",
       "Diffuse.spectrum.main.Powerlaw.index        -2.5      -4.5      -0.5   \n",
       "\n",
       "                                                    unit  \n",
       "J1813M1245.position.ra                               deg  \n",
       "J1813M1245.position.dec                              deg  \n",
       "J1813M1245.spectrum.main.Powerlaw.K       keV-1 s-1 cm-2  \n",
       "J1813M1245.spectrum.main.Powerlaw.index                   \n",
       "J1814M1719u.spectrum.main.Powerlaw.K      keV-1 s-1 cm-2  \n",
       "J1814M1719u.spectrum.main.Powerlaw.index                  \n",
       "J1825M1418.Gaussian_on_sphere.lon0                   deg  \n",
       "J1825M1418.Gaussian_on_sphere.lat0                   deg  \n",
       "J1825M1418.Gaussian_on_sphere.sigma                  deg  \n",
       "J1825M1418.spectrum.main.Powerlaw.K       keV-1 s-1 cm-2  \n",
       "J1825M1418.spectrum.main.Powerlaw.index                   \n",
       "J1825M1256u.Gaussian_on_sphere.lon0                  deg  \n",
       "J1825M1256u.Gaussian_on_sphere.lat0                  deg  \n",
       "J1825M1256u.Gaussian_on_sphere.sigma                 deg  \n",
       "J1825M1256u.spectrum.main.Powerlaw.K      keV-1 s-1 cm-2  \n",
       "J1825M1256u.spectrum.main.Powerlaw.index                  \n",
       "J1825M1337u.Gaussian_on_sphere.lon0                  deg  \n",
       "J1825M1337u.Gaussian_on_sphere.lat0                  deg  \n",
       "J1825M1337u.Gaussian_on_sphere.sigma                 deg  \n",
       "J1825M1337u.spectrum.main.Powerlaw.K      keV-1 s-1 cm-2  \n",
       "J1825M1337u.spectrum.main.Powerlaw.index                  \n",
       "J1831M1007u.Gaussian_on_sphere.lon0                  deg  \n",
       "J1831M1007u.Gaussian_on_sphere.lat0                  deg  \n",
       "J1831M1007u.Gaussian_on_sphere.sigma                 deg  \n",
       "J1831M1007u.spectrum.main.Powerlaw.K      keV-1 s-1 cm-2  \n",
       "J1831M1007u.spectrum.main.Powerlaw.index                  \n",
       "J1834M0831.Gaussian_on_sphere.lon0                   deg  \n",
       "J1834M0831.Gaussian_on_sphere.lat0                   deg  \n",
       "J1834M0831.Gaussian_on_sphere.sigma                  deg  \n",
       "J1834M0831.spectrum.main.Powerlaw.K       keV-1 s-1 cm-2  \n",
       "J1834M0831.spectrum.main.Powerlaw.index                   \n",
       "J1837M0654u.spectrum.main.Powerlaw.K      keV-1 s-1 cm-2  \n",
       "J1837M0654u.spectrum.main.Powerlaw.index                  \n",
       "J1839M0548u.spectrum.main.Powerlaw.K      keV-1 s-1 cm-2  \n",
       "J1839M0548u.spectrum.main.Powerlaw.index                  \n",
       "J1841M0519.spectrum.main.Powerlaw.K       keV-1 s-1 cm-2  \n",
       "J1841M0519.spectrum.main.Powerlaw.index                   \n",
       "Diffuse.spectrum.main.Powerlaw.K          keV-1 s-1 cm-2  \n",
       "Diffuse.spectrum.main.Powerlaw.index                      \n",
       "\n",
       "Fixed parameters (26):\n",
       "---------------------\n",
       "\n",
       "                                                                                    value   \n",
       "J1813M1245.spectrum.main.Powerlaw.piv                                        3000000000.0  \\\n",
       "J1814M1719u.Gaussian_on_sphere.lon0                                                273.69   \n",
       "J1814M1719u.Gaussian_on_sphere.lat0                                                -17.33   \n",
       "J1814M1719u.Gaussian_on_sphere.sigma                                                 0.71   \n",
       "J1814M1719u.spectrum.main.Powerlaw.piv                                       3000000000.0   \n",
       "J1825M1418.spectrum.main.Powerlaw.piv                                        3000000000.0   \n",
       "J1825M1256u.spectrum.main.Powerlaw.piv                                       3000000000.0   \n",
       "J1825M1337u.spectrum.main.Powerlaw.piv                                       3000000000.0   \n",
       "J1831M1007u.spectrum.main.Powerlaw.piv                                       3000000000.0   \n",
       "J1834M0831.spectrum.main.Powerlaw.piv                                        3000000000.0   \n",
       "J1837M0654u.Gaussian_on_sphere.lon0                                                279.39   \n",
       "J1837M0654u.Gaussian_on_sphere.lat0                                                  -6.9   \n",
       "J1837M0654u.Gaussian_on_sphere.sigma                                                 0.34   \n",
       "J1837M0654u.spectrum.main.Powerlaw.piv                                       3000000000.0   \n",
       "J1839M0548u.Gaussian_on_sphere.lon0                                                279.85   \n",
       "J1839M0548u.Gaussian_on_sphere.lat0                                                  -5.9   \n",
       "J1839M0548u.Gaussian_on_sphere.sigma                                                 0.22   \n",
       "J1839M0548u.spectrum.main.Powerlaw.piv                                       3000000000.0   \n",
       "J1841M0519.Gaussian_on_sphere.lon0                                                 280.33   \n",
       "J1841M0519.Gaussian_on_sphere.lat0                                                  -5.33   \n",
       "J1841M0519.Gaussian_on_sphere.sigma                                                   0.6   \n",
       "J1841M0519.spectrum.main.Powerlaw.piv                                        3000000000.0   \n",
       "Diffuse.SpatialTemplate_2D.K                                                          1.0   \n",
       "Diffuse.SpatialTemplate_2D.hash         2209099574945065268127980948702423506552898830...   \n",
       "Diffuse.SpatialTemplate_2D.ihdu                                                       0.0   \n",
       "Diffuse.spectrum.main.Powerlaw.piv                                           3000000000.0   \n",
       "\n",
       "                                       min_value max_value   unit  \n",
       "J1813M1245.spectrum.main.Powerlaw.piv       None      None    keV  \n",
       "J1814M1719u.Gaussian_on_sphere.lon0       271.53    275.85    deg  \n",
       "J1814M1719u.Gaussian_on_sphere.lat0       -19.49    -15.17    deg  \n",
       "J1814M1719u.Gaussian_on_sphere.sigma        0.15      1.27    deg  \n",
       "J1814M1719u.spectrum.main.Powerlaw.piv      None      None    keV  \n",
       "J1825M1418.spectrum.main.Powerlaw.piv       None      None    keV  \n",
       "J1825M1256u.spectrum.main.Powerlaw.piv      None      None    keV  \n",
       "J1825M1337u.spectrum.main.Powerlaw.piv      None      None    keV  \n",
       "J1831M1007u.spectrum.main.Powerlaw.piv      None      None    keV  \n",
       "J1834M0831.spectrum.main.Powerlaw.piv       None      None    keV  \n",
       "J1837M0654u.Gaussian_on_sphere.lon0       278.91    279.87    deg  \n",
       "J1837M0654u.Gaussian_on_sphere.lat0        -7.38     -6.42    deg  \n",
       "J1837M0654u.Gaussian_on_sphere.sigma        0.26      0.42    deg  \n",
       "J1837M0654u.spectrum.main.Powerlaw.piv      None      None    keV  \n",
       "J1839M0548u.Gaussian_on_sphere.lon0       279.29    280.41    deg  \n",
       "J1839M0548u.Gaussian_on_sphere.lat0        -6.46     -5.34    deg  \n",
       "J1839M0548u.Gaussian_on_sphere.sigma        0.06      0.38    deg  \n",
       "J1839M0548u.spectrum.main.Powerlaw.piv      None      None    keV  \n",
       "J1841M0519.Gaussian_on_sphere.lon0        279.61    281.05    deg  \n",
       "J1841M0519.Gaussian_on_sphere.lat0         -6.05     -4.61    deg  \n",
       "J1841M0519.Gaussian_on_sphere.sigma         0.36      0.84    deg  \n",
       "J1841M0519.spectrum.main.Powerlaw.piv       None      None    keV  \n",
       "Diffuse.SpatialTemplate_2D.K                None      None  deg-2  \n",
       "Diffuse.SpatialTemplate_2D.hash             None      None         \n",
       "Diffuse.SpatialTemplate_2D.ihdu              0.0      None         \n",
       "Diffuse.spectrum.main.Powerlaw.piv          None      None    keV  \n",
       "\n",
       "Properties (2):\n",
       "--------------------\n",
       "\n",
       "                                                                                  value   \n",
       "Diffuse.SpatialTemplate_2D.fits_file  ../../data/Diffuse_WCDA_case14_dust_bkg_templa...  \\\n",
       "Diffuse.SpatialTemplate_2D.frame                                                   icrs   \n",
       "\n",
       "                                                            allowed values  \n",
       "Diffuse.SpatialTemplate_2D.fits_file                                  None  \n",
       "Diffuse.SpatialTemplate_2D.frame      [icrs, galactic, fk5, fk4, fk4_no_e]  \n",
       "\n",
       "Linked parameters (0):\n",
       "----------------------\n",
       "\n",
       "(none)\n",
       "\n",
       "Independent variables:\n",
       "----------------------\n",
       "\n",
       "(none)\n",
       "\n",
       "Linked functions (0):\n",
       "----------------------\n",
       "\n",
       "(none)"
      ]
     },
     "metadata": {},
     "output_type": "display_data"
    },
    {
     "data": {
      "text/html": [
       "<pre style=\"white-space:pre;overflow-x:auto;line-height:normal;font-family:Menlo,'DejaVu Sans Mono',consolas,'Courier New',monospace\"><span style=\"color: #00ff00; text-decoration-color: #00ff00\">17:40:30 </span><span style=\"color: #00ffaf; text-decoration-color: #00ffaf\">INFO    </span> <span style=\"color: #c6c6c6; text-decoration-color: #c6c6c6; font-weight: bold\"> Considering </span><span style=\"color: #c0c0c0; text-decoration-color: #c0c0c0; font-weight: bold\">7</span><span style=\"color: #c6c6c6; text-decoration-color: #c6c6c6; font-weight: bold\"> dec bins for extended source J1814M1719u           </span><a href=\"file:///data/home/cwy/.mylib/miniconda3/envs/3ML/lib/python3.9/site-packages/WCDA_hal/convolved_source/convolved_extended_source.py\" target=\"_blank\"><span style=\"color: #7f7f7f; text-decoration-color: #7f7f7f\">convolved_extended_source.py</span></a><span style=\"color: #7f7f7f; text-decoration-color: #7f7f7f\">:</span><a href=\"file:///data/home/cwy/.mylib/miniconda3/envs/3ML/lib/python3.9/site-packages/WCDA_hal/convolved_source/convolved_extended_source.py#93\" target=\"_blank\"><span style=\"color: #7f7f7f; text-decoration-color: #7f7f7f\">93</span></a>\n",
       "</pre>\n"
      ],
      "text/plain": [
       "\u001b[38;5;46m17:40:30\u001b[0m\u001b[38;5;46m \u001b[0m\u001b[38;5;49mINFO    \u001b[0m \u001b[1;38;5;251m Considering \u001b[0m\u001b[1;37m7\u001b[0m\u001b[1;38;5;251m dec bins for extended source J1814M1719u          \u001b[0m\u001b[1;38;5;251m \u001b[0m\u001b]8;id=968750;file:///data/home/cwy/.mylib/miniconda3/envs/3ML/lib/python3.9/site-packages/WCDA_hal/convolved_source/convolved_extended_source.py\u001b\\\u001b[2mconvolved_extended_source.py\u001b[0m\u001b]8;;\u001b\\\u001b[2m:\u001b[0m\u001b]8;id=161686;file:///data/home/cwy/.mylib/miniconda3/envs/3ML/lib/python3.9/site-packages/WCDA_hal/convolved_source/convolved_extended_source.py#93\u001b\\\u001b[2m93\u001b[0m\u001b]8;;\u001b\\\n"
      ]
     },
     "metadata": {},
     "output_type": "display_data"
    },
    {
     "data": {
      "text/html": [
       "<pre style=\"white-space:pre;overflow-x:auto;line-height:normal;font-family:Menlo,'DejaVu Sans Mono',consolas,'Courier New',monospace\"><span style=\"color: #00ff00; text-decoration-color: #00ff00\">         </span><span style=\"color: #00ffaf; text-decoration-color: #00ffaf\">INFO    </span> <span style=\"color: #c6c6c6; text-decoration-color: #c6c6c6; font-weight: bold\"> Central bin is bin at Declination = </span><span style=\"color: #c0c0c0; text-decoration-color: #c0c0c0; font-weight: bold\">-17.330</span><span style=\"color: #c6c6c6; text-decoration-color: #c6c6c6; font-weight: bold\">                     </span><a href=\"file:///data/home/cwy/.mylib/miniconda3/envs/3ML/lib/python3.9/site-packages/WCDA_hal/convolved_source/convolved_extended_source.py\" target=\"_blank\"><span style=\"color: #7f7f7f; text-decoration-color: #7f7f7f\">convolved_extended_source.py</span></a><span style=\"color: #7f7f7f; text-decoration-color: #7f7f7f\">:</span><a href=\"file:///data/home/cwy/.mylib/miniconda3/envs/3ML/lib/python3.9/site-packages/WCDA_hal/convolved_source/convolved_extended_source.py#102\" target=\"_blank\"><span style=\"color: #7f7f7f; text-decoration-color: #7f7f7f\">102</span></a>\n",
       "</pre>\n"
      ],
      "text/plain": [
       "\u001b[38;5;46m        \u001b[0m\u001b[38;5;46m \u001b[0m\u001b[38;5;49mINFO    \u001b[0m \u001b[1;38;5;251m Central bin is bin at Declination = \u001b[0m\u001b[1;37m-17.330\u001b[0m\u001b[1;38;5;251m                    \u001b[0m\u001b[1;38;5;251m \u001b[0m\u001b]8;id=693434;file:///data/home/cwy/.mylib/miniconda3/envs/3ML/lib/python3.9/site-packages/WCDA_hal/convolved_source/convolved_extended_source.py\u001b\\\u001b[2mconvolved_extended_source.py\u001b[0m\u001b]8;;\u001b\\\u001b[2m:\u001b[0m\u001b]8;id=746793;file:///data/home/cwy/.mylib/miniconda3/envs/3ML/lib/python3.9/site-packages/WCDA_hal/convolved_source/convolved_extended_source.py#102\u001b\\\u001b[2m102\u001b[0m\u001b]8;;\u001b\\\n"
      ]
     },
     "metadata": {},
     "output_type": "display_data"
    },
    {
     "data": {
      "text/html": [
       "<pre style=\"white-space:pre;overflow-x:auto;line-height:normal;font-family:Menlo,'DejaVu Sans Mono',consolas,'Courier New',monospace\"><span style=\"color: #00ff00; text-decoration-color: #00ff00\">         </span><span style=\"color: #00ffaf; text-decoration-color: #00ffaf\">INFO    </span> <span style=\"color: #c6c6c6; text-decoration-color: #c6c6c6; font-weight: bold\"> Considering </span><span style=\"color: #c0c0c0; text-decoration-color: #c0c0c0; font-weight: bold\">8</span><span style=\"color: #c6c6c6; text-decoration-color: #c6c6c6; font-weight: bold\"> dec bins for extended source J1825M1418            </span><a href=\"file:///data/home/cwy/.mylib/miniconda3/envs/3ML/lib/python3.9/site-packages/WCDA_hal/convolved_source/convolved_extended_source.py\" target=\"_blank\"><span style=\"color: #7f7f7f; text-decoration-color: #7f7f7f\">convolved_extended_source.py</span></a><span style=\"color: #7f7f7f; text-decoration-color: #7f7f7f\">:</span><a href=\"file:///data/home/cwy/.mylib/miniconda3/envs/3ML/lib/python3.9/site-packages/WCDA_hal/convolved_source/convolved_extended_source.py#93\" target=\"_blank\"><span style=\"color: #7f7f7f; text-decoration-color: #7f7f7f\">93</span></a>\n",
       "</pre>\n"
      ],
      "text/plain": [
       "\u001b[38;5;46m        \u001b[0m\u001b[38;5;46m \u001b[0m\u001b[38;5;49mINFO    \u001b[0m \u001b[1;38;5;251m Considering \u001b[0m\u001b[1;37m8\u001b[0m\u001b[1;38;5;251m dec bins for extended source J1825M1418           \u001b[0m\u001b[1;38;5;251m \u001b[0m\u001b]8;id=551166;file:///data/home/cwy/.mylib/miniconda3/envs/3ML/lib/python3.9/site-packages/WCDA_hal/convolved_source/convolved_extended_source.py\u001b\\\u001b[2mconvolved_extended_source.py\u001b[0m\u001b]8;;\u001b\\\u001b[2m:\u001b[0m\u001b]8;id=929818;file:///data/home/cwy/.mylib/miniconda3/envs/3ML/lib/python3.9/site-packages/WCDA_hal/convolved_source/convolved_extended_source.py#93\u001b\\\u001b[2m93\u001b[0m\u001b]8;;\u001b\\\n"
      ]
     },
     "metadata": {},
     "output_type": "display_data"
    },
    {
     "data": {
      "text/html": [
       "<pre style=\"white-space:pre;overflow-x:auto;line-height:normal;font-family:Menlo,'DejaVu Sans Mono',consolas,'Courier New',monospace\"><span style=\"color: #00ff00; text-decoration-color: #00ff00\">         </span><span style=\"color: #00ffaf; text-decoration-color: #00ffaf\">INFO    </span> <span style=\"color: #c6c6c6; text-decoration-color: #c6c6c6; font-weight: bold\"> Central bin is bin at Declination = </span><span style=\"color: #c0c0c0; text-decoration-color: #c0c0c0; font-weight: bold\">-14.320</span><span style=\"color: #c6c6c6; text-decoration-color: #c6c6c6; font-weight: bold\">                     </span><a href=\"file:///data/home/cwy/.mylib/miniconda3/envs/3ML/lib/python3.9/site-packages/WCDA_hal/convolved_source/convolved_extended_source.py\" target=\"_blank\"><span style=\"color: #7f7f7f; text-decoration-color: #7f7f7f\">convolved_extended_source.py</span></a><span style=\"color: #7f7f7f; text-decoration-color: #7f7f7f\">:</span><a href=\"file:///data/home/cwy/.mylib/miniconda3/envs/3ML/lib/python3.9/site-packages/WCDA_hal/convolved_source/convolved_extended_source.py#102\" target=\"_blank\"><span style=\"color: #7f7f7f; text-decoration-color: #7f7f7f\">102</span></a>\n",
       "</pre>\n"
      ],
      "text/plain": [
       "\u001b[38;5;46m        \u001b[0m\u001b[38;5;46m \u001b[0m\u001b[38;5;49mINFO    \u001b[0m \u001b[1;38;5;251m Central bin is bin at Declination = \u001b[0m\u001b[1;37m-14.320\u001b[0m\u001b[1;38;5;251m                    \u001b[0m\u001b[1;38;5;251m \u001b[0m\u001b]8;id=617782;file:///data/home/cwy/.mylib/miniconda3/envs/3ML/lib/python3.9/site-packages/WCDA_hal/convolved_source/convolved_extended_source.py\u001b\\\u001b[2mconvolved_extended_source.py\u001b[0m\u001b]8;;\u001b\\\u001b[2m:\u001b[0m\u001b]8;id=91881;file:///data/home/cwy/.mylib/miniconda3/envs/3ML/lib/python3.9/site-packages/WCDA_hal/convolved_source/convolved_extended_source.py#102\u001b\\\u001b[2m102\u001b[0m\u001b]8;;\u001b\\\n"
      ]
     },
     "metadata": {},
     "output_type": "display_data"
    },
    {
     "data": {
      "text/html": [
       "<pre style=\"white-space:pre;overflow-x:auto;line-height:normal;font-family:Menlo,'DejaVu Sans Mono',consolas,'Courier New',monospace\"><span style=\"color: #00ff00; text-decoration-color: #00ff00\">         </span><span style=\"color: #00ffaf; text-decoration-color: #00ffaf\">INFO    </span> <span style=\"color: #c6c6c6; text-decoration-color: #c6c6c6; font-weight: bold\"> Considering </span><span style=\"color: #c0c0c0; text-decoration-color: #c0c0c0; font-weight: bold\">5</span><span style=\"color: #c6c6c6; text-decoration-color: #c6c6c6; font-weight: bold\"> dec bins for extended source J1825M1256u           </span><a href=\"file:///data/home/cwy/.mylib/miniconda3/envs/3ML/lib/python3.9/site-packages/WCDA_hal/convolved_source/convolved_extended_source.py\" target=\"_blank\"><span style=\"color: #7f7f7f; text-decoration-color: #7f7f7f\">convolved_extended_source.py</span></a><span style=\"color: #7f7f7f; text-decoration-color: #7f7f7f\">:</span><a href=\"file:///data/home/cwy/.mylib/miniconda3/envs/3ML/lib/python3.9/site-packages/WCDA_hal/convolved_source/convolved_extended_source.py#93\" target=\"_blank\"><span style=\"color: #7f7f7f; text-decoration-color: #7f7f7f\">93</span></a>\n",
       "</pre>\n"
      ],
      "text/plain": [
       "\u001b[38;5;46m        \u001b[0m\u001b[38;5;46m \u001b[0m\u001b[38;5;49mINFO    \u001b[0m \u001b[1;38;5;251m Considering \u001b[0m\u001b[1;37m5\u001b[0m\u001b[1;38;5;251m dec bins for extended source J1825M1256u          \u001b[0m\u001b[1;38;5;251m \u001b[0m\u001b]8;id=73388;file:///data/home/cwy/.mylib/miniconda3/envs/3ML/lib/python3.9/site-packages/WCDA_hal/convolved_source/convolved_extended_source.py\u001b\\\u001b[2mconvolved_extended_source.py\u001b[0m\u001b]8;;\u001b\\\u001b[2m:\u001b[0m\u001b]8;id=44401;file:///data/home/cwy/.mylib/miniconda3/envs/3ML/lib/python3.9/site-packages/WCDA_hal/convolved_source/convolved_extended_source.py#93\u001b\\\u001b[2m93\u001b[0m\u001b]8;;\u001b\\\n"
      ]
     },
     "metadata": {},
     "output_type": "display_data"
    },
    {
     "data": {
      "text/html": [
       "<pre style=\"white-space:pre;overflow-x:auto;line-height:normal;font-family:Menlo,'DejaVu Sans Mono',consolas,'Courier New',monospace\"><span style=\"color: #00ff00; text-decoration-color: #00ff00\">         </span><span style=\"color: #00ffaf; text-decoration-color: #00ffaf\">INFO    </span> <span style=\"color: #c6c6c6; text-decoration-color: #c6c6c6; font-weight: bold\"> Central bin is bin at Declination = </span><span style=\"color: #c0c0c0; text-decoration-color: #c0c0c0; font-weight: bold\">-13.040</span><span style=\"color: #c6c6c6; text-decoration-color: #c6c6c6; font-weight: bold\">                     </span><a href=\"file:///data/home/cwy/.mylib/miniconda3/envs/3ML/lib/python3.9/site-packages/WCDA_hal/convolved_source/convolved_extended_source.py\" target=\"_blank\"><span style=\"color: #7f7f7f; text-decoration-color: #7f7f7f\">convolved_extended_source.py</span></a><span style=\"color: #7f7f7f; text-decoration-color: #7f7f7f\">:</span><a href=\"file:///data/home/cwy/.mylib/miniconda3/envs/3ML/lib/python3.9/site-packages/WCDA_hal/convolved_source/convolved_extended_source.py#102\" target=\"_blank\"><span style=\"color: #7f7f7f; text-decoration-color: #7f7f7f\">102</span></a>\n",
       "</pre>\n"
      ],
      "text/plain": [
       "\u001b[38;5;46m        \u001b[0m\u001b[38;5;46m \u001b[0m\u001b[38;5;49mINFO    \u001b[0m \u001b[1;38;5;251m Central bin is bin at Declination = \u001b[0m\u001b[1;37m-13.040\u001b[0m\u001b[1;38;5;251m                    \u001b[0m\u001b[1;38;5;251m \u001b[0m\u001b]8;id=951395;file:///data/home/cwy/.mylib/miniconda3/envs/3ML/lib/python3.9/site-packages/WCDA_hal/convolved_source/convolved_extended_source.py\u001b\\\u001b[2mconvolved_extended_source.py\u001b[0m\u001b]8;;\u001b\\\u001b[2m:\u001b[0m\u001b]8;id=873342;file:///data/home/cwy/.mylib/miniconda3/envs/3ML/lib/python3.9/site-packages/WCDA_hal/convolved_source/convolved_extended_source.py#102\u001b\\\u001b[2m102\u001b[0m\u001b]8;;\u001b\\\n"
      ]
     },
     "metadata": {},
     "output_type": "display_data"
    },
    {
     "data": {
      "text/html": [
       "<pre style=\"white-space:pre;overflow-x:auto;line-height:normal;font-family:Menlo,'DejaVu Sans Mono',consolas,'Courier New',monospace\"><span style=\"color: #00ff00; text-decoration-color: #00ff00\">         </span><span style=\"color: #00ffaf; text-decoration-color: #00ffaf\">INFO    </span> <span style=\"color: #c6c6c6; text-decoration-color: #c6c6c6; font-weight: bold\"> Considering </span><span style=\"color: #c0c0c0; text-decoration-color: #c0c0c0; font-weight: bold\">4</span><span style=\"color: #c6c6c6; text-decoration-color: #c6c6c6; font-weight: bold\"> dec bins for extended source J1825M1337u           </span><a href=\"file:///data/home/cwy/.mylib/miniconda3/envs/3ML/lib/python3.9/site-packages/WCDA_hal/convolved_source/convolved_extended_source.py\" target=\"_blank\"><span style=\"color: #7f7f7f; text-decoration-color: #7f7f7f\">convolved_extended_source.py</span></a><span style=\"color: #7f7f7f; text-decoration-color: #7f7f7f\">:</span><a href=\"file:///data/home/cwy/.mylib/miniconda3/envs/3ML/lib/python3.9/site-packages/WCDA_hal/convolved_source/convolved_extended_source.py#93\" target=\"_blank\"><span style=\"color: #7f7f7f; text-decoration-color: #7f7f7f\">93</span></a>\n",
       "</pre>\n"
      ],
      "text/plain": [
       "\u001b[38;5;46m        \u001b[0m\u001b[38;5;46m \u001b[0m\u001b[38;5;49mINFO    \u001b[0m \u001b[1;38;5;251m Considering \u001b[0m\u001b[1;37m4\u001b[0m\u001b[1;38;5;251m dec bins for extended source J1825M1337u          \u001b[0m\u001b[1;38;5;251m \u001b[0m\u001b]8;id=832739;file:///data/home/cwy/.mylib/miniconda3/envs/3ML/lib/python3.9/site-packages/WCDA_hal/convolved_source/convolved_extended_source.py\u001b\\\u001b[2mconvolved_extended_source.py\u001b[0m\u001b]8;;\u001b\\\u001b[2m:\u001b[0m\u001b]8;id=999414;file:///data/home/cwy/.mylib/miniconda3/envs/3ML/lib/python3.9/site-packages/WCDA_hal/convolved_source/convolved_extended_source.py#93\u001b\\\u001b[2m93\u001b[0m\u001b]8;;\u001b\\\n"
      ]
     },
     "metadata": {},
     "output_type": "display_data"
    },
    {
     "data": {
      "text/html": [
       "<pre style=\"white-space:pre;overflow-x:auto;line-height:normal;font-family:Menlo,'DejaVu Sans Mono',consolas,'Courier New',monospace\"><span style=\"color: #00ff00; text-decoration-color: #00ff00\">         </span><span style=\"color: #00ffaf; text-decoration-color: #00ffaf\">INFO    </span> <span style=\"color: #c6c6c6; text-decoration-color: #c6c6c6; font-weight: bold\"> Central bin is bin at Declination = </span><span style=\"color: #c0c0c0; text-decoration-color: #c0c0c0; font-weight: bold\">-13.730</span><span style=\"color: #c6c6c6; text-decoration-color: #c6c6c6; font-weight: bold\">                     </span><a href=\"file:///data/home/cwy/.mylib/miniconda3/envs/3ML/lib/python3.9/site-packages/WCDA_hal/convolved_source/convolved_extended_source.py\" target=\"_blank\"><span style=\"color: #7f7f7f; text-decoration-color: #7f7f7f\">convolved_extended_source.py</span></a><span style=\"color: #7f7f7f; text-decoration-color: #7f7f7f\">:</span><a href=\"file:///data/home/cwy/.mylib/miniconda3/envs/3ML/lib/python3.9/site-packages/WCDA_hal/convolved_source/convolved_extended_source.py#102\" target=\"_blank\"><span style=\"color: #7f7f7f; text-decoration-color: #7f7f7f\">102</span></a>\n",
       "</pre>\n"
      ],
      "text/plain": [
       "\u001b[38;5;46m        \u001b[0m\u001b[38;5;46m \u001b[0m\u001b[38;5;49mINFO    \u001b[0m \u001b[1;38;5;251m Central bin is bin at Declination = \u001b[0m\u001b[1;37m-13.730\u001b[0m\u001b[1;38;5;251m                    \u001b[0m\u001b[1;38;5;251m \u001b[0m\u001b]8;id=940154;file:///data/home/cwy/.mylib/miniconda3/envs/3ML/lib/python3.9/site-packages/WCDA_hal/convolved_source/convolved_extended_source.py\u001b\\\u001b[2mconvolved_extended_source.py\u001b[0m\u001b]8;;\u001b\\\u001b[2m:\u001b[0m\u001b]8;id=542753;file:///data/home/cwy/.mylib/miniconda3/envs/3ML/lib/python3.9/site-packages/WCDA_hal/convolved_source/convolved_extended_source.py#102\u001b\\\u001b[2m102\u001b[0m\u001b]8;;\u001b\\\n"
      ]
     },
     "metadata": {},
     "output_type": "display_data"
    },
    {
     "data": {
      "text/html": [
       "<pre style=\"white-space:pre;overflow-x:auto;line-height:normal;font-family:Menlo,'DejaVu Sans Mono',consolas,'Courier New',monospace\"><span style=\"color: #00ff00; text-decoration-color: #00ff00\">         </span><span style=\"color: #00ffaf; text-decoration-color: #00ffaf\">INFO    </span> <span style=\"color: #c6c6c6; text-decoration-color: #c6c6c6; font-weight: bold\"> Considering </span><span style=\"color: #c0c0c0; text-decoration-color: #c0c0c0; font-weight: bold\">7</span><span style=\"color: #c6c6c6; text-decoration-color: #c6c6c6; font-weight: bold\"> dec bins for extended source J1831M1007u           </span><a href=\"file:///data/home/cwy/.mylib/miniconda3/envs/3ML/lib/python3.9/site-packages/WCDA_hal/convolved_source/convolved_extended_source.py\" target=\"_blank\"><span style=\"color: #7f7f7f; text-decoration-color: #7f7f7f\">convolved_extended_source.py</span></a><span style=\"color: #7f7f7f; text-decoration-color: #7f7f7f\">:</span><a href=\"file:///data/home/cwy/.mylib/miniconda3/envs/3ML/lib/python3.9/site-packages/WCDA_hal/convolved_source/convolved_extended_source.py#93\" target=\"_blank\"><span style=\"color: #7f7f7f; text-decoration-color: #7f7f7f\">93</span></a>\n",
       "</pre>\n"
      ],
      "text/plain": [
       "\u001b[38;5;46m        \u001b[0m\u001b[38;5;46m \u001b[0m\u001b[38;5;49mINFO    \u001b[0m \u001b[1;38;5;251m Considering \u001b[0m\u001b[1;37m7\u001b[0m\u001b[1;38;5;251m dec bins for extended source J1831M1007u          \u001b[0m\u001b[1;38;5;251m \u001b[0m\u001b]8;id=117225;file:///data/home/cwy/.mylib/miniconda3/envs/3ML/lib/python3.9/site-packages/WCDA_hal/convolved_source/convolved_extended_source.py\u001b\\\u001b[2mconvolved_extended_source.py\u001b[0m\u001b]8;;\u001b\\\u001b[2m:\u001b[0m\u001b]8;id=441657;file:///data/home/cwy/.mylib/miniconda3/envs/3ML/lib/python3.9/site-packages/WCDA_hal/convolved_source/convolved_extended_source.py#93\u001b\\\u001b[2m93\u001b[0m\u001b]8;;\u001b\\\n"
      ]
     },
     "metadata": {},
     "output_type": "display_data"
    },
    {
     "data": {
      "text/html": [
       "<pre style=\"white-space:pre;overflow-x:auto;line-height:normal;font-family:Menlo,'DejaVu Sans Mono',consolas,'Courier New',monospace\"><span style=\"color: #00ff00; text-decoration-color: #00ff00\">         </span><span style=\"color: #00ffaf; text-decoration-color: #00ffaf\">INFO    </span> <span style=\"color: #c6c6c6; text-decoration-color: #c6c6c6; font-weight: bold\"> Central bin is bin at Declination = </span><span style=\"color: #c0c0c0; text-decoration-color: #c0c0c0; font-weight: bold\">-10.120</span><span style=\"color: #c6c6c6; text-decoration-color: #c6c6c6; font-weight: bold\">                     </span><a href=\"file:///data/home/cwy/.mylib/miniconda3/envs/3ML/lib/python3.9/site-packages/WCDA_hal/convolved_source/convolved_extended_source.py\" target=\"_blank\"><span style=\"color: #7f7f7f; text-decoration-color: #7f7f7f\">convolved_extended_source.py</span></a><span style=\"color: #7f7f7f; text-decoration-color: #7f7f7f\">:</span><a href=\"file:///data/home/cwy/.mylib/miniconda3/envs/3ML/lib/python3.9/site-packages/WCDA_hal/convolved_source/convolved_extended_source.py#102\" target=\"_blank\"><span style=\"color: #7f7f7f; text-decoration-color: #7f7f7f\">102</span></a>\n",
       "</pre>\n"
      ],
      "text/plain": [
       "\u001b[38;5;46m        \u001b[0m\u001b[38;5;46m \u001b[0m\u001b[38;5;49mINFO    \u001b[0m \u001b[1;38;5;251m Central bin is bin at Declination = \u001b[0m\u001b[1;37m-10.120\u001b[0m\u001b[1;38;5;251m                    \u001b[0m\u001b[1;38;5;251m \u001b[0m\u001b]8;id=27479;file:///data/home/cwy/.mylib/miniconda3/envs/3ML/lib/python3.9/site-packages/WCDA_hal/convolved_source/convolved_extended_source.py\u001b\\\u001b[2mconvolved_extended_source.py\u001b[0m\u001b]8;;\u001b\\\u001b[2m:\u001b[0m\u001b]8;id=908016;file:///data/home/cwy/.mylib/miniconda3/envs/3ML/lib/python3.9/site-packages/WCDA_hal/convolved_source/convolved_extended_source.py#102\u001b\\\u001b[2m102\u001b[0m\u001b]8;;\u001b\\\n"
      ]
     },
     "metadata": {},
     "output_type": "display_data"
    },
    {
     "data": {
      "text/html": [
       "<pre style=\"white-space:pre;overflow-x:auto;line-height:normal;font-family:Menlo,'DejaVu Sans Mono',consolas,'Courier New',monospace\"><span style=\"color: #00ff00; text-decoration-color: #00ff00\">         </span><span style=\"color: #00ffaf; text-decoration-color: #00ffaf\">INFO    </span> <span style=\"color: #c6c6c6; text-decoration-color: #c6c6c6; font-weight: bold\"> Considering </span><span style=\"color: #c0c0c0; text-decoration-color: #c0c0c0; font-weight: bold\">6</span><span style=\"color: #c6c6c6; text-decoration-color: #c6c6c6; font-weight: bold\"> dec bins for extended source J1834M0831            </span><a href=\"file:///data/home/cwy/.mylib/miniconda3/envs/3ML/lib/python3.9/site-packages/WCDA_hal/convolved_source/convolved_extended_source.py\" target=\"_blank\"><span style=\"color: #7f7f7f; text-decoration-color: #7f7f7f\">convolved_extended_source.py</span></a><span style=\"color: #7f7f7f; text-decoration-color: #7f7f7f\">:</span><a href=\"file:///data/home/cwy/.mylib/miniconda3/envs/3ML/lib/python3.9/site-packages/WCDA_hal/convolved_source/convolved_extended_source.py#93\" target=\"_blank\"><span style=\"color: #7f7f7f; text-decoration-color: #7f7f7f\">93</span></a>\n",
       "</pre>\n"
      ],
      "text/plain": [
       "\u001b[38;5;46m        \u001b[0m\u001b[38;5;46m \u001b[0m\u001b[38;5;49mINFO    \u001b[0m \u001b[1;38;5;251m Considering \u001b[0m\u001b[1;37m6\u001b[0m\u001b[1;38;5;251m dec bins for extended source J1834M0831           \u001b[0m\u001b[1;38;5;251m \u001b[0m\u001b]8;id=736055;file:///data/home/cwy/.mylib/miniconda3/envs/3ML/lib/python3.9/site-packages/WCDA_hal/convolved_source/convolved_extended_source.py\u001b\\\u001b[2mconvolved_extended_source.py\u001b[0m\u001b]8;;\u001b\\\u001b[2m:\u001b[0m\u001b]8;id=783501;file:///data/home/cwy/.mylib/miniconda3/envs/3ML/lib/python3.9/site-packages/WCDA_hal/convolved_source/convolved_extended_source.py#93\u001b\\\u001b[2m93\u001b[0m\u001b]8;;\u001b\\\n"
      ]
     },
     "metadata": {},
     "output_type": "display_data"
    },
    {
     "data": {
      "text/html": [
       "<pre style=\"white-space:pre;overflow-x:auto;line-height:normal;font-family:Menlo,'DejaVu Sans Mono',consolas,'Courier New',monospace\"><span style=\"color: #00ff00; text-decoration-color: #00ff00\">         </span><span style=\"color: #00ffaf; text-decoration-color: #00ffaf\">INFO    </span> <span style=\"color: #c6c6c6; text-decoration-color: #c6c6c6; font-weight: bold\"> Central bin is bin at Declination = </span><span style=\"color: #c0c0c0; text-decoration-color: #c0c0c0; font-weight: bold\">-8.530</span><span style=\"color: #c6c6c6; text-decoration-color: #c6c6c6; font-weight: bold\">                      </span><a href=\"file:///data/home/cwy/.mylib/miniconda3/envs/3ML/lib/python3.9/site-packages/WCDA_hal/convolved_source/convolved_extended_source.py\" target=\"_blank\"><span style=\"color: #7f7f7f; text-decoration-color: #7f7f7f\">convolved_extended_source.py</span></a><span style=\"color: #7f7f7f; text-decoration-color: #7f7f7f\">:</span><a href=\"file:///data/home/cwy/.mylib/miniconda3/envs/3ML/lib/python3.9/site-packages/WCDA_hal/convolved_source/convolved_extended_source.py#102\" target=\"_blank\"><span style=\"color: #7f7f7f; text-decoration-color: #7f7f7f\">102</span></a>\n",
       "</pre>\n"
      ],
      "text/plain": [
       "\u001b[38;5;46m        \u001b[0m\u001b[38;5;46m \u001b[0m\u001b[38;5;49mINFO    \u001b[0m \u001b[1;38;5;251m Central bin is bin at Declination = \u001b[0m\u001b[1;37m-8.530\u001b[0m\u001b[1;38;5;251m                     \u001b[0m\u001b[1;38;5;251m \u001b[0m\u001b]8;id=19128;file:///data/home/cwy/.mylib/miniconda3/envs/3ML/lib/python3.9/site-packages/WCDA_hal/convolved_source/convolved_extended_source.py\u001b\\\u001b[2mconvolved_extended_source.py\u001b[0m\u001b]8;;\u001b\\\u001b[2m:\u001b[0m\u001b]8;id=918822;file:///data/home/cwy/.mylib/miniconda3/envs/3ML/lib/python3.9/site-packages/WCDA_hal/convolved_source/convolved_extended_source.py#102\u001b\\\u001b[2m102\u001b[0m\u001b]8;;\u001b\\\n"
      ]
     },
     "metadata": {},
     "output_type": "display_data"
    },
    {
     "data": {
      "text/html": [
       "<pre style=\"white-space:pre;overflow-x:auto;line-height:normal;font-family:Menlo,'DejaVu Sans Mono',consolas,'Courier New',monospace\"><span style=\"color: #00ff00; text-decoration-color: #00ff00\">         </span><span style=\"color: #00ffaf; text-decoration-color: #00ffaf\">INFO    </span> <span style=\"color: #c6c6c6; text-decoration-color: #c6c6c6; font-weight: bold\"> Considering </span><span style=\"color: #c0c0c0; text-decoration-color: #c0c0c0; font-weight: bold\">5</span><span style=\"color: #c6c6c6; text-decoration-color: #c6c6c6; font-weight: bold\"> dec bins for extended source J1837M0654u           </span><a href=\"file:///data/home/cwy/.mylib/miniconda3/envs/3ML/lib/python3.9/site-packages/WCDA_hal/convolved_source/convolved_extended_source.py\" target=\"_blank\"><span style=\"color: #7f7f7f; text-decoration-color: #7f7f7f\">convolved_extended_source.py</span></a><span style=\"color: #7f7f7f; text-decoration-color: #7f7f7f\">:</span><a href=\"file:///data/home/cwy/.mylib/miniconda3/envs/3ML/lib/python3.9/site-packages/WCDA_hal/convolved_source/convolved_extended_source.py#93\" target=\"_blank\"><span style=\"color: #7f7f7f; text-decoration-color: #7f7f7f\">93</span></a>\n",
       "</pre>\n"
      ],
      "text/plain": [
       "\u001b[38;5;46m        \u001b[0m\u001b[38;5;46m \u001b[0m\u001b[38;5;49mINFO    \u001b[0m \u001b[1;38;5;251m Considering \u001b[0m\u001b[1;37m5\u001b[0m\u001b[1;38;5;251m dec bins for extended source J1837M0654u          \u001b[0m\u001b[1;38;5;251m \u001b[0m\u001b]8;id=311711;file:///data/home/cwy/.mylib/miniconda3/envs/3ML/lib/python3.9/site-packages/WCDA_hal/convolved_source/convolved_extended_source.py\u001b\\\u001b[2mconvolved_extended_source.py\u001b[0m\u001b]8;;\u001b\\\u001b[2m:\u001b[0m\u001b]8;id=685301;file:///data/home/cwy/.mylib/miniconda3/envs/3ML/lib/python3.9/site-packages/WCDA_hal/convolved_source/convolved_extended_source.py#93\u001b\\\u001b[2m93\u001b[0m\u001b]8;;\u001b\\\n"
      ]
     },
     "metadata": {},
     "output_type": "display_data"
    },
    {
     "data": {
      "text/html": [
       "<pre style=\"white-space:pre;overflow-x:auto;line-height:normal;font-family:Menlo,'DejaVu Sans Mono',consolas,'Courier New',monospace\"><span style=\"color: #00ff00; text-decoration-color: #00ff00\">         </span><span style=\"color: #00ffaf; text-decoration-color: #00ffaf\">INFO    </span> <span style=\"color: #c6c6c6; text-decoration-color: #c6c6c6; font-weight: bold\"> Central bin is bin at Declination = </span><span style=\"color: #c0c0c0; text-decoration-color: #c0c0c0; font-weight: bold\">-6.900</span><span style=\"color: #c6c6c6; text-decoration-color: #c6c6c6; font-weight: bold\">                      </span><a href=\"file:///data/home/cwy/.mylib/miniconda3/envs/3ML/lib/python3.9/site-packages/WCDA_hal/convolved_source/convolved_extended_source.py\" target=\"_blank\"><span style=\"color: #7f7f7f; text-decoration-color: #7f7f7f\">convolved_extended_source.py</span></a><span style=\"color: #7f7f7f; text-decoration-color: #7f7f7f\">:</span><a href=\"file:///data/home/cwy/.mylib/miniconda3/envs/3ML/lib/python3.9/site-packages/WCDA_hal/convolved_source/convolved_extended_source.py#102\" target=\"_blank\"><span style=\"color: #7f7f7f; text-decoration-color: #7f7f7f\">102</span></a>\n",
       "</pre>\n"
      ],
      "text/plain": [
       "\u001b[38;5;46m        \u001b[0m\u001b[38;5;46m \u001b[0m\u001b[38;5;49mINFO    \u001b[0m \u001b[1;38;5;251m Central bin is bin at Declination = \u001b[0m\u001b[1;37m-6.900\u001b[0m\u001b[1;38;5;251m                     \u001b[0m\u001b[1;38;5;251m \u001b[0m\u001b]8;id=800215;file:///data/home/cwy/.mylib/miniconda3/envs/3ML/lib/python3.9/site-packages/WCDA_hal/convolved_source/convolved_extended_source.py\u001b\\\u001b[2mconvolved_extended_source.py\u001b[0m\u001b]8;;\u001b\\\u001b[2m:\u001b[0m\u001b]8;id=431344;file:///data/home/cwy/.mylib/miniconda3/envs/3ML/lib/python3.9/site-packages/WCDA_hal/convolved_source/convolved_extended_source.py#102\u001b\\\u001b[2m102\u001b[0m\u001b]8;;\u001b\\\n"
      ]
     },
     "metadata": {},
     "output_type": "display_data"
    },
    {
     "data": {
      "text/html": [
       "<pre style=\"white-space:pre;overflow-x:auto;line-height:normal;font-family:Menlo,'DejaVu Sans Mono',consolas,'Courier New',monospace\"><span style=\"color: #00ff00; text-decoration-color: #00ff00\">         </span><span style=\"color: #00ffaf; text-decoration-color: #00ffaf\">INFO    </span> <span style=\"color: #c6c6c6; text-decoration-color: #c6c6c6; font-weight: bold\"> Considering </span><span style=\"color: #c0c0c0; text-decoration-color: #c0c0c0; font-weight: bold\">5</span><span style=\"color: #c6c6c6; text-decoration-color: #c6c6c6; font-weight: bold\"> dec bins for extended source J1839M0548u           </span><a href=\"file:///data/home/cwy/.mylib/miniconda3/envs/3ML/lib/python3.9/site-packages/WCDA_hal/convolved_source/convolved_extended_source.py\" target=\"_blank\"><span style=\"color: #7f7f7f; text-decoration-color: #7f7f7f\">convolved_extended_source.py</span></a><span style=\"color: #7f7f7f; text-decoration-color: #7f7f7f\">:</span><a href=\"file:///data/home/cwy/.mylib/miniconda3/envs/3ML/lib/python3.9/site-packages/WCDA_hal/convolved_source/convolved_extended_source.py#93\" target=\"_blank\"><span style=\"color: #7f7f7f; text-decoration-color: #7f7f7f\">93</span></a>\n",
       "</pre>\n"
      ],
      "text/plain": [
       "\u001b[38;5;46m        \u001b[0m\u001b[38;5;46m \u001b[0m\u001b[38;5;49mINFO    \u001b[0m \u001b[1;38;5;251m Considering \u001b[0m\u001b[1;37m5\u001b[0m\u001b[1;38;5;251m dec bins for extended source J1839M0548u          \u001b[0m\u001b[1;38;5;251m \u001b[0m\u001b]8;id=749386;file:///data/home/cwy/.mylib/miniconda3/envs/3ML/lib/python3.9/site-packages/WCDA_hal/convolved_source/convolved_extended_source.py\u001b\\\u001b[2mconvolved_extended_source.py\u001b[0m\u001b]8;;\u001b\\\u001b[2m:\u001b[0m\u001b]8;id=793783;file:///data/home/cwy/.mylib/miniconda3/envs/3ML/lib/python3.9/site-packages/WCDA_hal/convolved_source/convolved_extended_source.py#93\u001b\\\u001b[2m93\u001b[0m\u001b]8;;\u001b\\\n"
      ]
     },
     "metadata": {},
     "output_type": "display_data"
    },
    {
     "data": {
      "text/html": [
       "<pre style=\"white-space:pre;overflow-x:auto;line-height:normal;font-family:Menlo,'DejaVu Sans Mono',consolas,'Courier New',monospace\"><span style=\"color: #00ff00; text-decoration-color: #00ff00\">         </span><span style=\"color: #00ffaf; text-decoration-color: #00ffaf\">INFO    </span> <span style=\"color: #c6c6c6; text-decoration-color: #c6c6c6; font-weight: bold\"> Central bin is bin at Declination = </span><span style=\"color: #c0c0c0; text-decoration-color: #c0c0c0; font-weight: bold\">-5.900</span><span style=\"color: #c6c6c6; text-decoration-color: #c6c6c6; font-weight: bold\">                      </span><a href=\"file:///data/home/cwy/.mylib/miniconda3/envs/3ML/lib/python3.9/site-packages/WCDA_hal/convolved_source/convolved_extended_source.py\" target=\"_blank\"><span style=\"color: #7f7f7f; text-decoration-color: #7f7f7f\">convolved_extended_source.py</span></a><span style=\"color: #7f7f7f; text-decoration-color: #7f7f7f\">:</span><a href=\"file:///data/home/cwy/.mylib/miniconda3/envs/3ML/lib/python3.9/site-packages/WCDA_hal/convolved_source/convolved_extended_source.py#102\" target=\"_blank\"><span style=\"color: #7f7f7f; text-decoration-color: #7f7f7f\">102</span></a>\n",
       "</pre>\n"
      ],
      "text/plain": [
       "\u001b[38;5;46m        \u001b[0m\u001b[38;5;46m \u001b[0m\u001b[38;5;49mINFO    \u001b[0m \u001b[1;38;5;251m Central bin is bin at Declination = \u001b[0m\u001b[1;37m-5.900\u001b[0m\u001b[1;38;5;251m                     \u001b[0m\u001b[1;38;5;251m \u001b[0m\u001b]8;id=201263;file:///data/home/cwy/.mylib/miniconda3/envs/3ML/lib/python3.9/site-packages/WCDA_hal/convolved_source/convolved_extended_source.py\u001b\\\u001b[2mconvolved_extended_source.py\u001b[0m\u001b]8;;\u001b\\\u001b[2m:\u001b[0m\u001b]8;id=956572;file:///data/home/cwy/.mylib/miniconda3/envs/3ML/lib/python3.9/site-packages/WCDA_hal/convolved_source/convolved_extended_source.py#102\u001b\\\u001b[2m102\u001b[0m\u001b]8;;\u001b\\\n"
      ]
     },
     "metadata": {},
     "output_type": "display_data"
    },
    {
     "data": {
      "text/html": [
       "<pre style=\"white-space:pre;overflow-x:auto;line-height:normal;font-family:Menlo,'DejaVu Sans Mono',consolas,'Courier New',monospace\"><span style=\"color: #00ff00; text-decoration-color: #00ff00\">         </span><span style=\"color: #00ffaf; text-decoration-color: #00ffaf\">INFO    </span> <span style=\"color: #c6c6c6; text-decoration-color: #c6c6c6; font-weight: bold\"> Considering </span><span style=\"color: #c0c0c0; text-decoration-color: #c0c0c0; font-weight: bold\">6</span><span style=\"color: #c6c6c6; text-decoration-color: #c6c6c6; font-weight: bold\"> dec bins for extended source J1841M0519            </span><a href=\"file:///data/home/cwy/.mylib/miniconda3/envs/3ML/lib/python3.9/site-packages/WCDA_hal/convolved_source/convolved_extended_source.py\" target=\"_blank\"><span style=\"color: #7f7f7f; text-decoration-color: #7f7f7f\">convolved_extended_source.py</span></a><span style=\"color: #7f7f7f; text-decoration-color: #7f7f7f\">:</span><a href=\"file:///data/home/cwy/.mylib/miniconda3/envs/3ML/lib/python3.9/site-packages/WCDA_hal/convolved_source/convolved_extended_source.py#93\" target=\"_blank\"><span style=\"color: #7f7f7f; text-decoration-color: #7f7f7f\">93</span></a>\n",
       "</pre>\n"
      ],
      "text/plain": [
       "\u001b[38;5;46m        \u001b[0m\u001b[38;5;46m \u001b[0m\u001b[38;5;49mINFO    \u001b[0m \u001b[1;38;5;251m Considering \u001b[0m\u001b[1;37m6\u001b[0m\u001b[1;38;5;251m dec bins for extended source J1841M0519           \u001b[0m\u001b[1;38;5;251m \u001b[0m\u001b]8;id=61038;file:///data/home/cwy/.mylib/miniconda3/envs/3ML/lib/python3.9/site-packages/WCDA_hal/convolved_source/convolved_extended_source.py\u001b\\\u001b[2mconvolved_extended_source.py\u001b[0m\u001b]8;;\u001b\\\u001b[2m:\u001b[0m\u001b]8;id=429202;file:///data/home/cwy/.mylib/miniconda3/envs/3ML/lib/python3.9/site-packages/WCDA_hal/convolved_source/convolved_extended_source.py#93\u001b\\\u001b[2m93\u001b[0m\u001b]8;;\u001b\\\n"
      ]
     },
     "metadata": {},
     "output_type": "display_data"
    },
    {
     "data": {
      "text/html": [
       "<pre style=\"white-space:pre;overflow-x:auto;line-height:normal;font-family:Menlo,'DejaVu Sans Mono',consolas,'Courier New',monospace\"><span style=\"color: #00ff00; text-decoration-color: #00ff00\">         </span><span style=\"color: #00ffaf; text-decoration-color: #00ffaf\">INFO    </span> <span style=\"color: #c6c6c6; text-decoration-color: #c6c6c6; font-weight: bold\"> Central bin is bin at Declination = </span><span style=\"color: #c0c0c0; text-decoration-color: #c0c0c0; font-weight: bold\">-5.330</span><span style=\"color: #c6c6c6; text-decoration-color: #c6c6c6; font-weight: bold\">                      </span><a href=\"file:///data/home/cwy/.mylib/miniconda3/envs/3ML/lib/python3.9/site-packages/WCDA_hal/convolved_source/convolved_extended_source.py\" target=\"_blank\"><span style=\"color: #7f7f7f; text-decoration-color: #7f7f7f\">convolved_extended_source.py</span></a><span style=\"color: #7f7f7f; text-decoration-color: #7f7f7f\">:</span><a href=\"file:///data/home/cwy/.mylib/miniconda3/envs/3ML/lib/python3.9/site-packages/WCDA_hal/convolved_source/convolved_extended_source.py#102\" target=\"_blank\"><span style=\"color: #7f7f7f; text-decoration-color: #7f7f7f\">102</span></a>\n",
       "</pre>\n"
      ],
      "text/plain": [
       "\u001b[38;5;46m        \u001b[0m\u001b[38;5;46m \u001b[0m\u001b[38;5;49mINFO    \u001b[0m \u001b[1;38;5;251m Central bin is bin at Declination = \u001b[0m\u001b[1;37m-5.330\u001b[0m\u001b[1;38;5;251m                     \u001b[0m\u001b[1;38;5;251m \u001b[0m\u001b]8;id=114712;file:///data/home/cwy/.mylib/miniconda3/envs/3ML/lib/python3.9/site-packages/WCDA_hal/convolved_source/convolved_extended_source.py\u001b\\\u001b[2mconvolved_extended_source.py\u001b[0m\u001b]8;;\u001b\\\u001b[2m:\u001b[0m\u001b]8;id=915337;file:///data/home/cwy/.mylib/miniconda3/envs/3ML/lib/python3.9/site-packages/WCDA_hal/convolved_source/convolved_extended_source.py#102\u001b\\\u001b[2m102\u001b[0m\u001b]8;;\u001b\\\n"
      ]
     },
     "metadata": {},
     "output_type": "display_data"
    },
    {
     "data": {
      "text/html": [
       "<pre style=\"white-space:pre;overflow-x:auto;line-height:normal;font-family:Menlo,'DejaVu Sans Mono',consolas,'Courier New',monospace\"><span style=\"color: #00ff00; text-decoration-color: #00ff00\">         </span><span style=\"color: #00ffaf; text-decoration-color: #00ffaf\">INFO    </span> <span style=\"color: #c6c6c6; text-decoration-color: #c6c6c6; font-weight: bold\"> Considering </span><span style=\"color: #c0c0c0; text-decoration-color: #c0c0c0; font-weight: bold\">18</span><span style=\"color: #c6c6c6; text-decoration-color: #c6c6c6; font-weight: bold\"> dec bins for extended source Diffuse              </span><a href=\"file:///data/home/cwy/.mylib/miniconda3/envs/3ML/lib/python3.9/site-packages/WCDA_hal/convolved_source/convolved_extended_source.py\" target=\"_blank\"><span style=\"color: #7f7f7f; text-decoration-color: #7f7f7f\">convolved_extended_source.py</span></a><span style=\"color: #7f7f7f; text-decoration-color: #7f7f7f\">:</span><a href=\"file:///data/home/cwy/.mylib/miniconda3/envs/3ML/lib/python3.9/site-packages/WCDA_hal/convolved_source/convolved_extended_source.py#93\" target=\"_blank\"><span style=\"color: #7f7f7f; text-decoration-color: #7f7f7f\">93</span></a>\n",
       "</pre>\n"
      ],
      "text/plain": [
       "\u001b[38;5;46m        \u001b[0m\u001b[38;5;46m \u001b[0m\u001b[38;5;49mINFO    \u001b[0m \u001b[1;38;5;251m Considering \u001b[0m\u001b[1;37m18\u001b[0m\u001b[1;38;5;251m dec bins for extended source Diffuse             \u001b[0m\u001b[1;38;5;251m \u001b[0m\u001b]8;id=270043;file:///data/home/cwy/.mylib/miniconda3/envs/3ML/lib/python3.9/site-packages/WCDA_hal/convolved_source/convolved_extended_source.py\u001b\\\u001b[2mconvolved_extended_source.py\u001b[0m\u001b]8;;\u001b\\\u001b[2m:\u001b[0m\u001b]8;id=280278;file:///data/home/cwy/.mylib/miniconda3/envs/3ML/lib/python3.9/site-packages/WCDA_hal/convolved_source/convolved_extended_source.py#93\u001b\\\u001b[2m93\u001b[0m\u001b]8;;\u001b\\\n"
      ]
     },
     "metadata": {},
     "output_type": "display_data"
    },
    {
     "data": {
      "text/html": [
       "<pre style=\"white-space:pre;overflow-x:auto;line-height:normal;font-family:Menlo,'DejaVu Sans Mono',consolas,'Courier New',monospace\"><span style=\"color: #00ff00; text-decoration-color: #00ff00\">         </span><span style=\"color: #00ffaf; text-decoration-color: #00ffaf\">INFO    </span> <span style=\"color: #c6c6c6; text-decoration-color: #c6c6c6; font-weight: bold\"> Central bin is bin at Declination = </span><span style=\"color: #c0c0c0; text-decoration-color: #c0c0c0; font-weight: bold\">-12.217</span><span style=\"color: #c6c6c6; text-decoration-color: #c6c6c6; font-weight: bold\">                     </span><a href=\"file:///data/home/cwy/.mylib/miniconda3/envs/3ML/lib/python3.9/site-packages/WCDA_hal/convolved_source/convolved_extended_source.py\" target=\"_blank\"><span style=\"color: #7f7f7f; text-decoration-color: #7f7f7f\">convolved_extended_source.py</span></a><span style=\"color: #7f7f7f; text-decoration-color: #7f7f7f\">:</span><a href=\"file:///data/home/cwy/.mylib/miniconda3/envs/3ML/lib/python3.9/site-packages/WCDA_hal/convolved_source/convolved_extended_source.py#102\" target=\"_blank\"><span style=\"color: #7f7f7f; text-decoration-color: #7f7f7f\">102</span></a>\n",
       "</pre>\n"
      ],
      "text/plain": [
       "\u001b[38;5;46m        \u001b[0m\u001b[38;5;46m \u001b[0m\u001b[38;5;49mINFO    \u001b[0m \u001b[1;38;5;251m Central bin is bin at Declination = \u001b[0m\u001b[1;37m-12.217\u001b[0m\u001b[1;38;5;251m                    \u001b[0m\u001b[1;38;5;251m \u001b[0m\u001b]8;id=289740;file:///data/home/cwy/.mylib/miniconda3/envs/3ML/lib/python3.9/site-packages/WCDA_hal/convolved_source/convolved_extended_source.py\u001b\\\u001b[2mconvolved_extended_source.py\u001b[0m\u001b]8;;\u001b\\\u001b[2m:\u001b[0m\u001b]8;id=933323;file:///data/home/cwy/.mylib/miniconda3/envs/3ML/lib/python3.9/site-packages/WCDA_hal/convolved_source/convolved_extended_source.py#102\u001b\\\u001b[2m102\u001b[0m\u001b]8;;\u001b\\\n"
      ]
     },
     "metadata": {},
     "output_type": "display_data"
    },
    {
     "data": {
      "text/html": [
       "<pre style=\"white-space:pre;overflow-x:auto;line-height:normal;font-family:Menlo,'DejaVu Sans Mono',consolas,'Courier New',monospace\"><span style=\"color: #00ff00; text-decoration-color: #00ff00\">         </span><span style=\"color: #00ffaf; text-decoration-color: #00ffaf\">INFO    </span> <span style=\"color: #c6c6c6; text-decoration-color: #c6c6c6; font-weight: bold\"> set the minimizer to minuit                                             </span><a href=\"file:///data/home/cwy/.mylib/miniconda3/envs/3ML/lib/python3.9/site-packages/threeML/classicMLE/joint_likelihood.py\" target=\"_blank\"><span style=\"color: #7f7f7f; text-decoration-color: #7f7f7f\">joint_likelihood.py</span></a><span style=\"color: #7f7f7f; text-decoration-color: #7f7f7f\">:</span><a href=\"file:///data/home/cwy/.mylib/miniconda3/envs/3ML/lib/python3.9/site-packages/threeML/classicMLE/joint_likelihood.py#1042\" target=\"_blank\"><span style=\"color: #7f7f7f; text-decoration-color: #7f7f7f\">1042</span></a>\n",
       "</pre>\n"
      ],
      "text/plain": [
       "\u001b[38;5;46m        \u001b[0m\u001b[38;5;46m \u001b[0m\u001b[38;5;49mINFO    \u001b[0m \u001b[1;38;5;251m set the minimizer to minuit                                            \u001b[0m\u001b[1;38;5;251m \u001b[0m\u001b]8;id=91414;file:///data/home/cwy/.mylib/miniconda3/envs/3ML/lib/python3.9/site-packages/threeML/classicMLE/joint_likelihood.py\u001b\\\u001b[2mjoint_likelihood.py\u001b[0m\u001b]8;;\u001b\\\u001b[2m:\u001b[0m\u001b]8;id=332766;file:///data/home/cwy/.mylib/miniconda3/envs/3ML/lib/python3.9/site-packages/threeML/classicMLE/joint_likelihood.py#1042\u001b\\\u001b[2m1042\u001b[0m\u001b]8;;\u001b\\\n"
      ]
     },
     "metadata": {},
     "output_type": "display_data"
    },
    {
     "data": {
      "text/html": [
       "<pre style=\"white-space:pre;overflow-x:auto;line-height:normal;font-family:Menlo,'DejaVu Sans Mono',consolas,'Courier New',monospace\"><span style=\"color: #00ff00; text-decoration-color: #00ff00\">         </span><span style=\"color: #00ffaf; text-decoration-color: #00ffaf\">INFO    </span> <span style=\"color: #c6c6c6; text-decoration-color: #c6c6c6; font-weight: bold\"> set the minimizer to ROOT                                               </span><a href=\"file:///data/home/cwy/.mylib/miniconda3/envs/3ML/lib/python3.9/site-packages/threeML/classicMLE/joint_likelihood.py\" target=\"_blank\"><span style=\"color: #7f7f7f; text-decoration-color: #7f7f7f\">joint_likelihood.py</span></a><span style=\"color: #7f7f7f; text-decoration-color: #7f7f7f\">:</span><a href=\"file:///data/home/cwy/.mylib/miniconda3/envs/3ML/lib/python3.9/site-packages/threeML/classicMLE/joint_likelihood.py#1059\" target=\"_blank\"><span style=\"color: #7f7f7f; text-decoration-color: #7f7f7f\">1059</span></a>\n",
       "</pre>\n"
      ],
      "text/plain": [
       "\u001b[38;5;46m        \u001b[0m\u001b[38;5;46m \u001b[0m\u001b[38;5;49mINFO    \u001b[0m \u001b[1;38;5;251m set the minimizer to ROOT                                              \u001b[0m\u001b[1;38;5;251m \u001b[0m\u001b]8;id=272147;file:///data/home/cwy/.mylib/miniconda3/envs/3ML/lib/python3.9/site-packages/threeML/classicMLE/joint_likelihood.py\u001b\\\u001b[2mjoint_likelihood.py\u001b[0m\u001b]8;;\u001b\\\u001b[2m:\u001b[0m\u001b]8;id=166080;file:///data/home/cwy/.mylib/miniconda3/envs/3ML/lib/python3.9/site-packages/threeML/classicMLE/joint_likelihood.py#1059\u001b\\\u001b[2m1059\u001b[0m\u001b]8;;\u001b\\\n"
      ]
     },
     "metadata": {},
     "output_type": "display_data"
    }
   ],
   "source": [
    "%matplotlib inline\n",
    "#####   Data Initialize\n",
    "# activate_warnings()\n",
    "\n",
    "# maptree = \"../../data/gcd_new.root\"\n",
    "# response=\"../../data/WCDA_DR_psf.root\"\n",
    "\n",
    "# maptree =  \"../../data/hsc2healpix_20210305_20220930.root\"\n",
    "# response = \"../../data/WCDA_DR2.root\"\n",
    "\n",
    "# maptree =  \"../../data/20210305_20230731_ihep_no_goodlist.root\"\n",
    "# response = \"../../data/DR_ihep_MK2.root\"\n",
    "\n",
    "# maptree =  \"../../data/20210305_20230731_ihep_goodlist.root\"\n",
    "# response = \"../../data/DR_ihep_MK2_newpsf.root\"\n",
    "\n",
    "maptree =  \"../../data/20210305-20230731_trans_fromhsc.root\"\n",
    "response = \"../../data/DR_ihep_MK2_newoldDRpsf.root\"\n",
    "\n",
    "\n",
    "region_name=\"Diffuse_WCDA_case14\"\n",
    "if not os.path.exists(f'../res/{region_name}/'):\n",
    "    os.system(f'mkdir ../res/{region_name}/')\n",
    "\n",
    "\n",
    "nside=2**10\n",
    "npix=hp.nside2npix(nside)\n",
    "pixarea = 4 * np.pi/npix\n",
    "pixIdx = hp.nside2npix(nside) # number of pixels I can get from this nside\n",
    "pixIdx = np.arange(pixIdx) # pixel index numbers\n",
    "new_lats = hp.pix2ang(nside, pixIdx)[0] # thetas I need to populate with interpolated theta values\n",
    "new_lons = hp.pix2ang(nside, pixIdx)[1] # phis, same\n",
    "c_icrs = SkyCoord(ra=new_lons*180/np.pi*u.degree, dec=90*u.degree-new_lats*180/np.pi*u.degree, frame='icrs')\n",
    "c_l=c_icrs.galactic.l.deg\n",
    "c_b=c_icrs.galactic.b.deg\n",
    "\n",
    "resultsall = []\n",
    "for i,gl in enumerate(range(20,360,10)): # #!!!!!!!!!!!!!!!!!!!365   \n",
    "    c_gal = SkyCoord(l=(gl)*u.degree, b=0*u.degree, frame='galactic')\n",
    "    RA_center=c_gal.icrs.ra.deg\n",
    "    Dec_center=c_gal.icrs.dec.deg\n",
    "    if (Dec_center<-20. or Dec_center>80.): continue\n",
    "    signal=np.zeros(npix,dtype=np.float64)\n",
    "    mask = ( (c_l< gl + 5) & (c_l > gl - 5) & (c_b <5.) & (c_b>-5) & (90-new_lats/np.pi*180>-20) & (90-new_lats/np.pi*180<80)) #&(new_lats<110/180*np.pi )  & (new_lats > 10/180*np.pi )\n",
    "        \n",
    "    signal[mask]=1\n",
    "    # hp.mollview(signal,title=\"ROI\",norm='hist')\n",
    "    # hp.graticule()\n",
    "    ra1,dec1=RA_center, Dec_center\n",
    "\n",
    "    data_radius = 7\n",
    "    model_radius = 7.5\n",
    "\n",
    "    roi = HealpixMapROI(ra=ra1,dec=dec1, data_radius=data_radius, model_radius=model_radius, roimap=signal)\n",
    "\n",
    "    WCDA = HAL(\"WCDA\", maptree, response, roi, flat_sky_pixels_size=0.17)\n",
    "\n",
    "    #####   Data Situation\n",
    "    %matplotlib inline\n",
    "    WCDA.set_active_measurements(0, 5)\n",
    "    WCDA.display()\n",
    "    WCDA.psf_integration_method=\"exact\"\n",
    "\n",
    "    my.settransWCDA(WCDA, ra1, dec1)\n",
    "\n",
    "    Modelname=f\"roi_{gl - 5}-{gl + 5}\"\n",
    "    if not os.path.exists(f'../res/{region_name}/{Modelname}/'):\n",
    "        os.system(f'mkdir ../res/{region_name}/{Modelname}/')\n",
    "    fig = WCDA.display_stacked_image(smoothing_kernel_sigma=0.25)\n",
    "    fig.savefig(f\"../res/{region_name}/{Modelname}_counts_all.png\",dpi=300)\n",
    "\n",
    "    lm = my.getcatModel(ra1, dec1, data_radius, model_radius, rtsigma=8, rtflux=20, rtindex=10, rtp=8,  detector=\"WCDA\", roi=roi, pf=False, sf=False, kf=False, indexf=False,  mkf=False, mindexf=False, setdeltabypar=True) #indexb=(-4,-1),\n",
    "\n",
    "    Diffuse, diffscaleratio = my.set_diffusebkg(\n",
    "                ra1, dec1, 8, 8, Kf=False, indexf=False, name=region_name, ifreturnratio=True, Kb=(1e-18, 1e-10), indexb=(-4.5, -0.5), index=-2.5, setdeltabypar=True\n",
    "                ) #Kn=1 , K=1e-12\n",
    "    \n",
    "    lm.add_source(Diffuse)\n",
    "\n",
    "    lm.save(f\"../res/{region_name}/{Modelname}/Model_init.yml\", overwrite=True)\n",
    "    lm.display(complete=True)\n",
    "\n",
    "    result = my.fit(region_name, Modelname, WCDA, lm, 0, 5, mini=\"ROOT\", donwtlimit=True) # , ifgeterror=True\n",
    "    sources = my.get_sources(lm,result)\n",
    "    resultsall.append([result, sources, diffscaleratio])\n",
    "\n",
    "    resu = my.getressimple(WCDA, lm)\n",
    "    new_source_idx = np.where(resu==np.ma.max(resu))[0][0]\n",
    "    new_source_lon_lat=hp.pix2ang(1024,new_source_idx,lonlat=True)\n",
    "    print(new_source_lon_lat)\n",
    "\n",
    "    plt.figure()\n",
    "    hp.gnomview(resu,norm='',rot=[ra1,dec1],xsize=200,ysize=200,reso=6,title=Modelname)\n",
    "    plt.scatter(new_source_lon_lat[0],new_source_lon_lat[1],marker='x',color='red')\n",
    "    plt.show()\n",
    "    plt.savefig(f\"../res/{region_name}/{Modelname}_res.png\",dpi=300)\n",
    "\n",
    "    map2, skymapHeader = hp.read_map(\"../../data/fullsky_WCDA_llh-2.6.fits.gz\",h=True)\n",
    "    map2 = my.maskroi(map2, roi)\n",
    "    sources.pop(\"Diffuse\")\n",
    "    fig = my.drawmap(region_name, Modelname, sources, map2, ra1, dec1, rad=2*data_radius, contours=[10000],save=1, \n",
    "                    color=\"Fermi\",\n",
    "                    colors = my.colorall\n",
    "                    )\n",
    "    # try:\n",
    "    Flux_WCDA0, jls0  = my.getdatapoint(WCDA, lm, maptree, response, roi, \"Diffuse\", ifpowerlawM=1, iffixtans=1)\n",
    "    import matplotlib as mpl\n",
    "\n",
    "    x_Max=50.\n",
    "    x_Min=1\n",
    "    y_Min=0.8e-13\n",
    "    y_Max=2e-10\n",
    "    fig,ax = plt.subplots()\n",
    "    plot_spectra(\n",
    "        result[0].results,\n",
    "        sources_to_use=[\"Diffuse\"], #,\"ext1\",\"ext2\",\"ext4\",\"ext5\",\"ext6\",\"ext7\"|\n",
    "        include_extended=True,\n",
    "        ene_min=x_Min,\n",
    "        ene_max=x_Max,\n",
    "        num_ene=30,\n",
    "        energy_unit=\"TeV\",\n",
    "        flux_unit=\"TeV/(s cm2)\",\n",
    "        subplot=ax,\n",
    "        )\n",
    "\n",
    "    my.Draw_sepctrum_points(region_name, Modelname, Flux_WCDA0,\"Diffuse\",\"tab:red\")\n",
    "\n",
    "    ax.set_xlim(x_Min,x_Max)\n",
    "    ax.set_ylim(y_Min,y_Max)\n",
    "    ax.set_xscale('log')\n",
    "    ax.set_yscale('log')\n",
    "    ax.set_ylabel(r\"$E^2\\,dN/dE$ [TeV cm$^{-2}$ s$^{-1}$]\")\n",
    "    ax.set_xlabel(\"Energy [TeV]\")\n",
    "    plt.legend()\n",
    "    plt.savefig(f'../res/{region_name}/{Modelname}/Spectrum.png', dpi=300)\n",
    "    plt.savefig(f'../res/{region_name}/{Modelname}/Spectrum.pdf')\n",
    "    # except:   pass\n",
    "    #     continue"
   ]
  },
  {
   "cell_type": "code",
   "execution_count": 50,
   "metadata": {},
   "outputs": [
    {
     "name": "stdout",
     "output_type": "stream",
     "text": [
      "roi_15-25\n"
     ]
    },
    {
     "data": {
      "application/vnd.jupyter.widget-view+json": {
       "model_id": "a30bc21e012d41068d0c07e26ca4eda2",
       "version_major": 2,
       "version_minor": 0
      },
      "text/plain": [
       "processing MLE analyses:   0%|          | 0/1 [00:00<?, ?it/s]"
      ]
     },
     "metadata": {},
     "output_type": "display_data"
    },
    {
     "data": {
      "application/vnd.jupyter.widget-view+json": {
       "model_id": "a7db4adeaae54733b0e0aab1913b42e9",
       "version_major": 2,
       "version_minor": 0
      },
      "text/plain": [
       "Propagating errors:   0%|          | 0/30 [00:00<?, ?it/s]"
      ]
     },
     "metadata": {},
     "output_type": "display_data"
    },
    {
     "name": "stderr",
     "output_type": "stream",
     "text": [
      "\n",
      "WARNING UserWarning: color is redundantly defined by the 'color' keyword argument and the fmt string \"go\" (-> color='g'). The keyword argument will take precedence.\n",
      "\n"
     ]
    },
    {
     "name": "stdout",
     "output_type": "stream",
     "text": [
      "roi_25-35\n"
     ]
    },
    {
     "data": {
      "application/vnd.jupyter.widget-view+json": {
       "model_id": "2928e1aacf6446a6a46a27a137be91e1",
       "version_major": 2,
       "version_minor": 0
      },
      "text/plain": [
       "processing MLE analyses:   0%|          | 0/1 [00:00<?, ?it/s]"
      ]
     },
     "metadata": {},
     "output_type": "display_data"
    },
    {
     "data": {
      "application/vnd.jupyter.widget-view+json": {
       "model_id": "566a5b3ad3ff4b64ac4841a8ea5bea0b",
       "version_major": 2,
       "version_minor": 0
      },
      "text/plain": [
       "Propagating errors:   0%|          | 0/30 [00:00<?, ?it/s]"
      ]
     },
     "metadata": {},
     "output_type": "display_data"
    },
    {
     "name": "stderr",
     "output_type": "stream",
     "text": [
      "\n",
      "WARNING UserWarning: color is redundantly defined by the 'color' keyword argument and the fmt string \"go\" (-> color='g'). The keyword argument will take precedence.\n",
      "\n"
     ]
    },
    {
     "name": "stdout",
     "output_type": "stream",
     "text": [
      "roi_35-45\n"
     ]
    },
    {
     "data": {
      "application/vnd.jupyter.widget-view+json": {
       "model_id": "0b8ab4bdc41243feaeccaba42401490f",
       "version_major": 2,
       "version_minor": 0
      },
      "text/plain": [
       "processing MLE analyses:   0%|          | 0/1 [00:00<?, ?it/s]"
      ]
     },
     "metadata": {},
     "output_type": "display_data"
    },
    {
     "data": {
      "application/vnd.jupyter.widget-view+json": {
       "model_id": "bdb0fe0ec6c0491c907e8d0ec14f8041",
       "version_major": 2,
       "version_minor": 0
      },
      "text/plain": [
       "Propagating errors:   0%|          | 0/30 [00:00<?, ?it/s]"
      ]
     },
     "metadata": {},
     "output_type": "display_data"
    },
    {
     "name": "stderr",
     "output_type": "stream",
     "text": [
      "\n",
      "WARNING UserWarning: color is redundantly defined by the 'color' keyword argument and the fmt string \"go\" (-> color='g'). The keyword argument will take precedence.\n",
      "\n"
     ]
    },
    {
     "name": "stdout",
     "output_type": "stream",
     "text": [
      "roi_45-55\n"
     ]
    },
    {
     "data": {
      "application/vnd.jupyter.widget-view+json": {
       "model_id": "a9a4b242dde64cec855b74752aa5c93a",
       "version_major": 2,
       "version_minor": 0
      },
      "text/plain": [
       "processing MLE analyses:   0%|          | 0/1 [00:00<?, ?it/s]"
      ]
     },
     "metadata": {},
     "output_type": "display_data"
    },
    {
     "data": {
      "application/vnd.jupyter.widget-view+json": {
       "model_id": "e4f4835aedb74e659430178e9dfcfccf",
       "version_major": 2,
       "version_minor": 0
      },
      "text/plain": [
       "Propagating errors:   0%|          | 0/30 [00:00<?, ?it/s]"
      ]
     },
     "metadata": {},
     "output_type": "display_data"
    },
    {
     "name": "stderr",
     "output_type": "stream",
     "text": [
      "\n",
      "WARNING UserWarning: color is redundantly defined by the 'color' keyword argument and the fmt string \"go\" (-> color='g'). The keyword argument will take precedence.\n",
      "\n"
     ]
    },
    {
     "name": "stdout",
     "output_type": "stream",
     "text": [
      "roi_55-65\n"
     ]
    },
    {
     "data": {
      "application/vnd.jupyter.widget-view+json": {
       "model_id": "b3e3f1256f94419ca24d14c6135ef3bb",
       "version_major": 2,
       "version_minor": 0
      },
      "text/plain": [
       "processing MLE analyses:   0%|          | 0/1 [00:00<?, ?it/s]"
      ]
     },
     "metadata": {},
     "output_type": "display_data"
    },
    {
     "data": {
      "application/vnd.jupyter.widget-view+json": {
       "model_id": "ab22b756e4974ef0aac174f5bb9ce766",
       "version_major": 2,
       "version_minor": 0
      },
      "text/plain": [
       "Propagating errors:   0%|          | 0/30 [00:00<?, ?it/s]"
      ]
     },
     "metadata": {},
     "output_type": "display_data"
    },
    {
     "name": "stderr",
     "output_type": "stream",
     "text": [
      "\n",
      "WARNING UserWarning: color is redundantly defined by the 'color' keyword argument and the fmt string \"go\" (-> color='g'). The keyword argument will take precedence.\n",
      "\n"
     ]
    },
    {
     "name": "stdout",
     "output_type": "stream",
     "text": [
      "roi_65-75\n"
     ]
    },
    {
     "data": {
      "application/vnd.jupyter.widget-view+json": {
       "model_id": "7c5203d0a3ce4d39bc0d806a61514c32",
       "version_major": 2,
       "version_minor": 0
      },
      "text/plain": [
       "processing MLE analyses:   0%|          | 0/1 [00:00<?, ?it/s]"
      ]
     },
     "metadata": {},
     "output_type": "display_data"
    },
    {
     "data": {
      "application/vnd.jupyter.widget-view+json": {
       "model_id": "b1ee45238bb44ad7bb5d1d923844ff27",
       "version_major": 2,
       "version_minor": 0
      },
      "text/plain": [
       "Propagating errors:   0%|          | 0/30 [00:00<?, ?it/s]"
      ]
     },
     "metadata": {},
     "output_type": "display_data"
    },
    {
     "name": "stderr",
     "output_type": "stream",
     "text": [
      "\n",
      "WARNING UserWarning: color is redundantly defined by the 'color' keyword argument and the fmt string \"go\" (-> color='g'). The keyword argument will take precedence.\n",
      "\n"
     ]
    },
    {
     "name": "stdout",
     "output_type": "stream",
     "text": [
      "roi_75-85\n"
     ]
    },
    {
     "data": {
      "application/vnd.jupyter.widget-view+json": {
       "model_id": "0a3f863c5ce149c2a7d40e93a48e75c1",
       "version_major": 2,
       "version_minor": 0
      },
      "text/plain": [
       "processing MLE analyses:   0%|          | 0/1 [00:00<?, ?it/s]"
      ]
     },
     "metadata": {},
     "output_type": "display_data"
    },
    {
     "data": {
      "application/vnd.jupyter.widget-view+json": {
       "model_id": "1a9cd751568d4944bed5df5c9e04183e",
       "version_major": 2,
       "version_minor": 0
      },
      "text/plain": [
       "Propagating errors:   0%|          | 0/30 [00:00<?, ?it/s]"
      ]
     },
     "metadata": {},
     "output_type": "display_data"
    },
    {
     "name": "stderr",
     "output_type": "stream",
     "text": [
      "\n",
      "WARNING UserWarning: color is redundantly defined by the 'color' keyword argument and the fmt string \"go\" (-> color='g'). The keyword argument will take precedence.\n",
      "\n"
     ]
    },
    {
     "name": "stdout",
     "output_type": "stream",
     "text": [
      "roi_85-95\n",
      "roi_95-105\n",
      "roi_105-115\n",
      "roi_115-125\n",
      "roi_125-135\n",
      "roi_135-145\n",
      "roi_145-155\n",
      "roi_155-165\n",
      "roi_165-175\n",
      "roi_175-185\n",
      "roi_185-195\n",
      "roi_195-205\n",
      "roi_205-215\n",
      "roi_215-225\n",
      "roi_225-235\n"
     ]
    },
    {
     "data": {
      "image/png": "[encoded data removed]",
      "text/plain": [
       "<Figure size 640x480 with 1 Axes>"
      ]
     },
     "metadata": {},
     "output_type": "display_data"
    }
   ],
   "source": [
    "%matplotlib inline\n",
    "import glob\n",
    "gc = []\n",
    "dk = []\n",
    "dkf = []\n",
    "de = []\n",
    "di = []\n",
    "die = []\n",
    "den = []\n",
    "dep = []\n",
    "dien = []\n",
    "diep = []\n",
    "ss = []\n",
    "ssr= []\n",
    "x_Max=50.\n",
    "x_Min=0.5\n",
    "y_Min=0.8e-11\n",
    "y_Max=1e-8\n",
    "fig,ax = plt.subplots()\n",
    "folder_path = f\"/data/home/cwy/Science/3MLWCDA/Standard/res/{region_name}\"\n",
    "subfolders = glob.glob(folder_path + '/**/', recursive=True)\n",
    "sorted_files = sorted(subfolders[1:], key=lambda x: int(x.split('_')[-1].split('-')[-2]))\n",
    "# 打印所有找到的子文件夹路径\n",
    "for i,subfolder in enumerate(sorted_files): #[:7]\n",
    "    name = subfolder.split(\"/\")[-2]\n",
    "    print(name)\n",
    "    specpath = subfolder+\"Results.fits\"\n",
    "    resultsss = load_analysis_results(specpath)\n",
    "    resultdict = resultsss.get_data_frame()\n",
    "    gc.append(range(20,360,10)[i])\n",
    "    dk.append(resultdict.loc[\"Diffuse.spectrum.main.Powerlaw.K\"][\"value\"])\n",
    "    de.append(resultdict.loc[\"Diffuse.spectrum.main.Powerlaw.K\"][\"error\"])\n",
    "    den.append(abs(resultdict.loc[\"Diffuse.spectrum.main.Powerlaw.K\"][\"negative_error\"]))\n",
    "    dep.append(abs(resultdict.loc[\"Diffuse.spectrum.main.Powerlaw.K\"][\"positive_error\"]))\n",
    "    di.append(resultdict.loc[\"Diffuse.spectrum.main.Powerlaw.index\"][\"value\"])\n",
    "    die.append(resultdict.loc[\"Diffuse.spectrum.main.Powerlaw.index\"][\"error\"])\n",
    "    dien.append(abs(resultdict.loc[\"Diffuse.spectrum.main.Powerlaw.index\"][\"negative_error\"]))\n",
    "    diep.append(abs(resultdict.loc[\"Diffuse.spectrum.main.Powerlaw.index\"][\"positive_error\"]))\n",
    "    try:\n",
    "        dkf.append(resultsall[i][2][0])\n",
    "    except:\n",
    "        resultfile = np.load(f\"../res/Diffuse_WCDA_case10/resultsall.npy\")\n",
    "        dkf = resultfile[9]\n",
    "    if i < 7:\n",
    "        # try:\n",
    "        plot_spectra(\n",
    "            resultsss,\n",
    "            sources_to_use=[\"Diffuse\"],\n",
    "            include_extended=True,\n",
    "            ene_min=x_Min,\n",
    "            ene_max=x_Max,\n",
    "            num_ene=30,\n",
    "            energy_unit=\"TeV\",\n",
    "            flux_unit=f\"TeV/(s cm2)\", #*\n",
    "            subplot=ax,\n",
    "            plot_style_kwargs={\"label\":name, \"color\":my.red_palette[-(i+1)], \"scale\":1/dkf[i]} #\n",
    "            )\n",
    "        try:\n",
    "            data = my.Draw_spectrum_fromfile(subfolder+\"Spectrum_Diffuse.txt\", label=name, color=my.red_palette[-(i+1)], subplot=ax, scale=1/dkf[i])\n",
    "            my.spec2naima(f\"./spec_{name}.txt\", data)\n",
    "        except:\n",
    "            pass\n",
    "        # except Exception as e:\n",
    "        #     print(f\"Error: {e}\")\n",
    "        #     continue\n",
    "results=[gc,dk,de,den,dep,di,die,dien,diep, dkf]\n",
    "np.save(f\"../res/{region_name}/resultsall.npy\",results)\n",
    "from threeML.analysis_results import AnalysisResultsSet\n",
    "resultsall\n",
    "rrr = [it[0][0].results for it in resultsall]\n",
    "analysis_set = AnalysisResultsSet(rrr)\n",
    "\n",
    "ax.set_xlim(x_Min,x_Max)\n",
    "ax.set_ylim(y_Min,y_Max)\n",
    "ax.set_xscale('log')\n",
    "ax.set_yscale('log')\n",
    "ax.set_ylabel(r\"$E^2\\,dN/dE$ [TeV cm$^{-2}$ s$^{-1}$]\")\n",
    "ax.set_xlabel(\"Energy [TeV]\")\n",
    "ax.legend()\n",
    "plt.savefig(f\"../res/{region_name}/spectrum_band10-70.png\",dpi=300)\n",
    "plt.savefig(f\"../res/{region_name}/spectrum_band10-70.pdf\",dpi=300)"
   ]
  },
  {
   "cell_type": "code",
   "execution_count": 44,
   "metadata": {},
   "outputs": [
    {
     "data": {
      "image/png": "[encoded data removed]",
      "text/plain": [
       "<Figure size 1000x400 with 1 Axes>"
      ]
     },
     "metadata": {},
     "output_type": "display_data"
    }
   ],
   "source": [
    "plt.figure(figsize=(10,4)) #\n",
    "plt.plot(gc, np.array(dkf)) #np.array(den)*1e9, np.array(dep)*1e9 , fmt=\"o\"\n",
    "plt.yscale(\"log\")\n",
    "plt.title(\"Intensity of dust\")\n",
    "\n",
    "plt.ylabel(r\"Intensity of dust\")\n",
    "# plt.ylim(1e-7, 1e-4)\n",
    "plt.grid()\n",
    "plt.xlabel(r\"$GLON^{o}$\")\n",
    "plt.savefig(f\"../res/{region_name}/dust.png\",dpi=300)\n",
    "plt.savefig(f\"../res/{region_name}/dust.pdf\",dpi=300)"
   ]
  },
  {
   "cell_type": "code",
   "execution_count": 54,
   "metadata": {},
   "outputs": [
    {
     "data": {
      "image/png": "[encoded data removed]",
      "text/plain": [
       "<Figure size 1000x400 with 1 Axes>"
      ]
     },
     "metadata": {},
     "output_type": "display_data"
    }
   ],
   "source": [
    "plt.figure(figsize=(10,4)) #\n",
    "plt.scatter(gc, (np.array(de)*1e9)/(np.array(dk)*1e9), marker=\"o\") #np.array(den)*1e9, np.array(dep)*1e9\n",
    "# plt.yscale(\"log\")\n",
    "plt.title(\"relative error\")\n",
    "plt.ylim(0, 0.8)\n",
    "plt.ylabel(\"relative error\")\n",
    "plt.grid()\n",
    "plt.xlabel(r\"$GLON^{o}$\")\n",
    "plt.savefig(f\"../res/{region_name}/flux.png\",dpi=300)\n",
    "plt.savefig(f\"../res/{region_name}/flux.pdf\",dpi=300)"
   ]
  },
  {
   "cell_type": "code",
   "execution_count": 52,
   "metadata": {},
   "outputs": [
    {
     "data": {
      "image/png": "[encoded data removed]",
      "text/plain": [
       "<Figure size 1000x400 with 1 Axes>"
      ]
     },
     "metadata": {},
     "output_type": "display_data"
    }
   ],
   "source": [
    "plt.figure(figsize=(10,4)) #\n",
    "plt.errorbar(gc, np.array(dk)*1e9, [np.array(de)*1e9, np.array(de)*1e9], fmt=\"o\", capsize=3) #np.array(den)*1e9, np.array(dep)*1e9\n",
    "plt.yscale(\"log\")\n",
    "plt.title(\"Flux\")\n",
    "plt.ylim(1e-13, 1e-11)\n",
    "plt.ylabel(r\"$1/(TeV cm^{2} s)$\")\n",
    "plt.grid()\n",
    "plt.xlabel(r\"$GLON^{o}$\")\n",
    "plt.savefig(f\"../res/{region_name}/flux.png\",dpi=300)\n",
    "plt.savefig(f\"../res/{region_name}/flux.pdf\",dpi=300)"
   ]
  },
  {
   "cell_type": "code",
   "execution_count": 53,
   "metadata": {},
   "outputs": [
    {
     "data": {
      "image/png": "[encoded data removed]",
      "text/plain": [
       "<Figure size 1000x400 with 1 Axes>"
      ]
     },
     "metadata": {},
     "output_type": "display_data"
    }
   ],
   "source": [
    "plt.figure(figsize=(10,4)) #\n",
    "plt.errorbar(gc, np.array(dk)*1e9/np.array(dkf), [np.array(de)*1e9/np.array(dkf), np.array(de)*1e9/np.array(dkf)], fmt=\"o\", capsize=3) #np.array(den)*1e9, np.array(dep)*1e9\n",
    "plt.yscale(\"log\")\n",
    "plt.title(\"Flux\")\n",
    "plt.ylim(1e-12, 1e-10)\n",
    "plt.ylabel(r\"$1/(TeV cm^{2} s)$\")\n",
    "plt.grid()\n",
    "plt.xlabel(r\"$GLON^{o}$\")\n",
    "plt.savefig(f\"../res/{region_name}/flux_fullsky.png\",dpi=300)\n",
    "plt.savefig(f\"../res/{region_name}/flux_fullsky.pdf\",dpi=300)"
   ]
  },
  {
   "cell_type": "code",
   "execution_count": 51,
   "metadata": {},
   "outputs": [
    {
     "data": {
      "image/png": "[encoded data removed]",
      "text/plain": [
       "<Figure size 1000x400 with 1 Axes>"
      ]
     },
     "metadata": {},
     "output_type": "display_data"
    }
   ],
   "source": [
    "plt.figure(figsize=(10,4)) #\n",
    "plt.errorbar(gc, di, [die, die], fmt=\"o\", capsize=3) #dien, diep\n",
    "plt.ylim(-1,-4)\n",
    "plt.title(\"Index\")\n",
    "plt.ylabel(r\"$index$\")\n",
    "plt.xlabel(r\"$GLON^{o}$\")\n",
    "plt.grid()\n",
    "plt.savefig(f\"../res/{region_name}/index.png\",dpi=300)\n",
    "plt.savefig(f\"../res/{region_name}/index.pdf\",dpi=300)"
   ]
  },
  {
   "cell_type": "code",
   "execution_count": null,
   "metadata": {},
   "outputs": [],
   "source": [
    "%matplotlib inline\n",
    "import glob\n",
    "x_Max=50.\n",
    "x_Min=0.5\n",
    "y_Min=0.8e-11\n",
    "y_Max=1e-8\n",
    "fig,ax = plt.subplots()\n",
    "folder_path = f\"/data/home/cwy/Science/3MLWCDA/Standard/res/{region_name}\"\n",
    "subfolders = glob.glob(folder_path + '/**/', recursive=True)\n",
    "sorted_files = sorted(subfolders[1:], key=lambda x: int(x.split('_')[-1].split('-')[-2]))\n",
    "# 打印所有找到的子文件夹路径\n",
    "for i,subfolder in enumerate(sorted_files[6:14]):\n",
    "    name = subfolder.split(\"/\")[-2]\n",
    "    print(name)\n",
    "    specpath = subfolder+\"Results.fits\"\n",
    "    resultsss = load_analysis_results(specpath)\n",
    "    # try:\n",
    "    plot_spectra(\n",
    "        resultsss,\n",
    "        sources_to_use=[\"Diffuse\"],\n",
    "        include_extended=True,\n",
    "        ene_min=x_Min,\n",
    "        ene_max=x_Max,\n",
    "        num_ene=30,\n",
    "        energy_unit=\"TeV\",\n",
    "        flux_unit=f\"TeV/(s cm2)\", #*\n",
    "        subplot=ax,\n",
    "        plot_style_kwargs={\"label\":name, \"color\":my.red_palette[-(i+1)], \"scale\":1/dkf[i+6]} #\n",
    "        )\n",
    "    # except Exception as e:\n",
    "    #     print(f\"Error: {e}\")\n",
    "    #     continue\n",
    "    \n",
    "\n",
    "ax.set_xlim(x_Min,x_Max)\n",
    "ax.set_ylim(y_Min,y_Max)\n",
    "ax.set_xscale('log')\n",
    "ax.set_yscale('log')\n",
    "ax.set_ylabel(r\"$E^2\\,dN/dE$ [TeV cm$^{-2}$ s$^{-1}$]\")\n",
    "ax.set_xlabel(\"Energy [TeV]\")\n",
    "ax.legend()\n",
    "plt.savefig(f\"../res/{region_name}/spectrum_band70-150.png\",dpi=300)\n",
    "plt.savefig(f\"../res/{region_name}/spectrum_band70-150.pdf\",dpi=300)"
   ]
  }
 ],
 "metadata": {
  "kernelspec": {
   "display_name": "3ML",
   "language": "python",
   "name": "python3"
  },
  "language_info": {
   "codemirror_mode": {
    "name": "ipython",
    "version": 3
   },
   "file_extension": ".py",
   "mimetype": "text/x-python",
   "name": "python",
   "nbconvert_exporter": "python",
   "pygments_lexer": "ipython3",
   "version": "3.9.15"
  }
 },
 "nbformat": 4,
 "nbformat_minor": 2
}
