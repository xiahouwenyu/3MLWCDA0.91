{
 "cells": [
  {
   "cell_type": "code",
   "execution_count": 1,
   "metadata": {},
   "outputs": [
    {
     "name": "stdout",
     "output_type": "stream",
     "text": [
      "Welcome to JupyROOT 6.24/06\n"
     ]
    },
    {
     "data": {
      "text/html": [
       "<pre style=\"white-space:pre;overflow-x:auto;line-height:normal;font-family:Menlo,'DejaVu Sans Mono',consolas,'Courier New',monospace\"><span style=\"color: #00ff00; text-decoration-color: #00ff00\">16:21:13 </span><span style=\"color: #af5fd7; text-decoration-color: #af5fd7\">WARNING </span> <span style=\"color: #c6c6c6; text-decoration-color: #c6c6c6; font-weight: bold\"> The naima package is not available. Models that depend on it will not be         </span><a href=\"file:///data/home/cwy/.mylib/miniconda3/envs/3ML/lib/python3.9/site-packages/astromodels/functions/functions_1D/functions.py\" target=\"_blank\"><span style=\"color: #7f7f7f; text-decoration-color: #7f7f7f\">functions.py</span></a><span style=\"color: #7f7f7f; text-decoration-color: #7f7f7f\">:</span><a href=\"file:///data/home/cwy/.mylib/miniconda3/envs/3ML/lib/python3.9/site-packages/astromodels/functions/functions_1D/functions.py#50\" target=\"_blank\"><span style=\"color: #7f7f7f; text-decoration-color: #7f7f7f\">50</span></a>\n",
       "<span style=\"color: #00ff00; text-decoration-color: #00ff00\">         </span>         <span style=\"color: #c6c6c6; text-decoration-color: #c6c6c6; font-weight: bold\">available                                                                         </span><span style=\"color: #7f7f7f; text-decoration-color: #7f7f7f\">               </span>\n",
       "</pre>\n"
      ],
      "text/plain": [
       "\u001b[38;5;46m16:21:13\u001b[0m\u001b[38;5;46m \u001b[0m\u001b[38;5;134mWARNING \u001b[0m \u001b[1;38;5;251m The naima package is not available. Models that depend on it will not be        \u001b[0m\u001b[1;38;5;251m \u001b[0m\u001b]8;id=425415;file:///data/home/cwy/.mylib/miniconda3/envs/3ML/lib/python3.9/site-packages/astromodels/functions/functions_1D/functions.py\u001b\\\u001b[2mfunctions.py\u001b[0m\u001b]8;;\u001b\\\u001b[2m:\u001b[0m\u001b]8;id=307870;file:///data/home/cwy/.mylib/miniconda3/envs/3ML/lib/python3.9/site-packages/astromodels/functions/functions_1D/functions.py#50\u001b\\\u001b[2m50\u001b[0m\u001b]8;;\u001b\\\n",
       "\u001b[38;5;46m         \u001b[0m         \u001b[1;38;5;251mavailable                                                                        \u001b[0m\u001b[1;38;5;251m \u001b[0m\u001b[2m               \u001b[0m\n"
      ]
     },
     "metadata": {},
     "output_type": "display_data"
    },
    {
     "data": {
      "text/html": [
       "<pre style=\"white-space:pre;overflow-x:auto;line-height:normal;font-family:Menlo,'DejaVu Sans Mono',consolas,'Courier New',monospace\"><span style=\"color: #00ff00; text-decoration-color: #00ff00\">         </span><span style=\"color: #af5fd7; text-decoration-color: #af5fd7\">WARNING </span> <span style=\"color: #c6c6c6; text-decoration-color: #c6c6c6; font-weight: bold\"> The GSL library or the pygsl wrapper cannot be loaded. Models that depend on it  </span><a href=\"file:///data/home/cwy/.mylib/miniconda3/envs/3ML/lib/python3.9/site-packages/astromodels/functions/functions_1D/functions.py\" target=\"_blank\"><span style=\"color: #7f7f7f; text-decoration-color: #7f7f7f\">functions.py</span></a><span style=\"color: #7f7f7f; text-decoration-color: #7f7f7f\">:</span><a href=\"file:///data/home/cwy/.mylib/miniconda3/envs/3ML/lib/python3.9/site-packages/astromodels/functions/functions_1D/functions.py#71\" target=\"_blank\"><span style=\"color: #7f7f7f; text-decoration-color: #7f7f7f\">71</span></a>\n",
       "<span style=\"color: #00ff00; text-decoration-color: #00ff00\">         </span>         <span style=\"color: #c6c6c6; text-decoration-color: #c6c6c6; font-weight: bold\">will not be available.                                                            </span><span style=\"color: #7f7f7f; text-decoration-color: #7f7f7f\">               </span>\n",
       "</pre>\n"
      ],
      "text/plain": [
       "\u001b[38;5;46m        \u001b[0m\u001b[38;5;46m \u001b[0m\u001b[38;5;134mWARNING \u001b[0m \u001b[1;38;5;251m The GSL library or the pygsl wrapper cannot be loaded. Models that depend on it \u001b[0m\u001b[1;38;5;251m \u001b[0m\u001b]8;id=341735;file:///data/home/cwy/.mylib/miniconda3/envs/3ML/lib/python3.9/site-packages/astromodels/functions/functions_1D/functions.py\u001b\\\u001b[2mfunctions.py\u001b[0m\u001b]8;;\u001b\\\u001b[2m:\u001b[0m\u001b]8;id=535874;file:///data/home/cwy/.mylib/miniconda3/envs/3ML/lib/python3.9/site-packages/astromodels/functions/functions_1D/functions.py#71\u001b\\\u001b[2m71\u001b[0m\u001b]8;;\u001b\\\n",
       "\u001b[38;5;46m         \u001b[0m         \u001b[1;38;5;251mwill not be available.                                                           \u001b[0m\u001b[1;38;5;251m \u001b[0m\u001b[2m               \u001b[0m\n"
      ]
     },
     "metadata": {},
     "output_type": "display_data"
    },
    {
     "data": {
      "text/html": [
       "<pre style=\"white-space:pre;overflow-x:auto;line-height:normal;font-family:Menlo,'DejaVu Sans Mono',consolas,'Courier New',monospace\"><span style=\"color: #00ff00; text-decoration-color: #00ff00\">16:21:14 </span><span style=\"color: #af5fd7; text-decoration-color: #af5fd7\">WARNING </span> <span style=\"color: #c6c6c6; text-decoration-color: #c6c6c6; font-weight: bold\"> The ebltable package is not available. Models that depend on it will not be     </span><a href=\"file:///data/home/cwy/.mylib/miniconda3/envs/3ML/lib/python3.9/site-packages/astromodels/functions/functions_1D/absorption.py\" target=\"_blank\"><span style=\"color: #7f7f7f; text-decoration-color: #7f7f7f\">absorption.py</span></a><span style=\"color: #7f7f7f; text-decoration-color: #7f7f7f\">:</span><a href=\"file:///data/home/cwy/.mylib/miniconda3/envs/3ML/lib/python3.9/site-packages/astromodels/functions/functions_1D/absorption.py#36\" target=\"_blank\"><span style=\"color: #7f7f7f; text-decoration-color: #7f7f7f\">36</span></a>\n",
       "<span style=\"color: #00ff00; text-decoration-color: #00ff00\">         </span>         <span style=\"color: #c6c6c6; text-decoration-color: #c6c6c6; font-weight: bold\">available                                                                        </span><span style=\"color: #7f7f7f; text-decoration-color: #7f7f7f\">                </span>\n",
       "</pre>\n"
      ],
      "text/plain": [
       "\u001b[38;5;46m16:21:14\u001b[0m\u001b[38;5;46m \u001b[0m\u001b[38;5;134mWARNING \u001b[0m \u001b[1;38;5;251m The ebltable package is not available. Models that depend on it will not be    \u001b[0m\u001b[1;38;5;251m \u001b[0m\u001b]8;id=551355;file:///data/home/cwy/.mylib/miniconda3/envs/3ML/lib/python3.9/site-packages/astromodels/functions/functions_1D/absorption.py\u001b\\\u001b[2mabsorption.py\u001b[0m\u001b]8;;\u001b\\\u001b[2m:\u001b[0m\u001b]8;id=345788;file:///data/home/cwy/.mylib/miniconda3/envs/3ML/lib/python3.9/site-packages/astromodels/functions/functions_1D/absorption.py#36\u001b\\\u001b[2m36\u001b[0m\u001b]8;;\u001b\\\n",
       "\u001b[38;5;46m         \u001b[0m         \u001b[1;38;5;251mavailable                                                                       \u001b[0m\u001b[1;38;5;251m \u001b[0m\u001b[2m                \u001b[0m\n"
      ]
     },
     "metadata": {},
     "output_type": "display_data"
    },
    {
     "data": {
      "text/html": [
       "<pre style=\"white-space:pre;overflow-x:auto;line-height:normal;font-family:Menlo,'DejaVu Sans Mono',consolas,'Courier New',monospace\"><span style=\"color: #00ff00; text-decoration-color: #00ff00\">16:21:14 </span><span style=\"color: #00ffaf; text-decoration-color: #00ffaf\">INFO    </span> <span style=\"color: #c6c6c6; text-decoration-color: #c6c6c6; font-weight: bold\"> Starting 3ML!                                                                     </span><a href=\"file:///data/home/cwy/.mylib/miniconda3/envs/3ML/lib/python3.9/site-packages/threeML/__init__.py\" target=\"_blank\"><span style=\"color: #7f7f7f; text-decoration-color: #7f7f7f\">__init__.py</span></a><span style=\"color: #7f7f7f; text-decoration-color: #7f7f7f\">:</span><a href=\"file:///data/home/cwy/.mylib/miniconda3/envs/3ML/lib/python3.9/site-packages/threeML/__init__.py#35\" target=\"_blank\"><span style=\"color: #7f7f7f; text-decoration-color: #7f7f7f\">35</span></a>\n",
       "</pre>\n"
      ],
      "text/plain": [
       "\u001b[38;5;46m16:21:14\u001b[0m\u001b[38;5;46m \u001b[0m\u001b[38;5;49mINFO    \u001b[0m \u001b[1;38;5;251m Starting 3ML!                                                                    \u001b[0m\u001b[1;38;5;251m \u001b[0m\u001b]8;id=285622;file:///data/home/cwy/.mylib/miniconda3/envs/3ML/lib/python3.9/site-packages/threeML/__init__.py\u001b\\\u001b[2m__init__.py\u001b[0m\u001b]8;;\u001b\\\u001b[2m:\u001b[0m\u001b]8;id=291041;file:///data/home/cwy/.mylib/miniconda3/envs/3ML/lib/python3.9/site-packages/threeML/__init__.py#35\u001b\\\u001b[2m35\u001b[0m\u001b]8;;\u001b\\\n"
      ]
     },
     "metadata": {},
     "output_type": "display_data"
    },
    {
     "data": {
      "text/html": [
       "<pre style=\"white-space:pre;overflow-x:auto;line-height:normal;font-family:Menlo,'DejaVu Sans Mono',consolas,'Courier New',monospace\"><span style=\"color: #00ff00; text-decoration-color: #00ff00\">         </span><span style=\"color: #af5fd7; text-decoration-color: #af5fd7\">WARNING </span> <span style=\"color: #c6c6c6; text-decoration-color: #c6c6c6; font-weight: bold\"> WARNINGs here are </span><span style=\"color: #800000; text-decoration-color: #800000; font-weight: bold\">NOT</span><span style=\"color: #c6c6c6; text-decoration-color: #c6c6c6; font-weight: bold\"> errors                                                      </span><a href=\"file:///data/home/cwy/.mylib/miniconda3/envs/3ML/lib/python3.9/site-packages/threeML/__init__.py\" target=\"_blank\"><span style=\"color: #7f7f7f; text-decoration-color: #7f7f7f\">__init__.py</span></a><span style=\"color: #7f7f7f; text-decoration-color: #7f7f7f\">:</span><a href=\"file:///data/home/cwy/.mylib/miniconda3/envs/3ML/lib/python3.9/site-packages/threeML/__init__.py#36\" target=\"_blank\"><span style=\"color: #7f7f7f; text-decoration-color: #7f7f7f\">36</span></a>\n",
       "</pre>\n"
      ],
      "text/plain": [
       "\u001b[38;5;46m        \u001b[0m\u001b[38;5;46m \u001b[0m\u001b[38;5;134mWARNING \u001b[0m \u001b[1;38;5;251m WARNINGs here are \u001b[0m\u001b[1;31mNOT\u001b[0m\u001b[1;38;5;251m errors                                                     \u001b[0m\u001b[1;38;5;251m \u001b[0m\u001b]8;id=127561;file:///data/home/cwy/.mylib/miniconda3/envs/3ML/lib/python3.9/site-packages/threeML/__init__.py\u001b\\\u001b[2m__init__.py\u001b[0m\u001b]8;;\u001b\\\u001b[2m:\u001b[0m\u001b]8;id=665600;file:///data/home/cwy/.mylib/miniconda3/envs/3ML/lib/python3.9/site-packages/threeML/__init__.py#36\u001b\\\u001b[2m36\u001b[0m\u001b]8;;\u001b\\\n"
      ]
     },
     "metadata": {},
     "output_type": "display_data"
    },
    {
     "data": {
      "text/html": [
       "<pre style=\"white-space:pre;overflow-x:auto;line-height:normal;font-family:Menlo,'DejaVu Sans Mono',consolas,'Courier New',monospace\"><span style=\"color: #00ff00; text-decoration-color: #00ff00\">         </span><span style=\"color: #af5fd7; text-decoration-color: #af5fd7\">WARNING </span> <span style=\"color: #c6c6c6; text-decoration-color: #c6c6c6; font-weight: bold\"> but are inform you about optional packages that can be installed                  </span><a href=\"file:///data/home/cwy/.mylib/miniconda3/envs/3ML/lib/python3.9/site-packages/threeML/__init__.py\" target=\"_blank\"><span style=\"color: #7f7f7f; text-decoration-color: #7f7f7f\">__init__.py</span></a><span style=\"color: #7f7f7f; text-decoration-color: #7f7f7f\">:</span><a href=\"file:///data/home/cwy/.mylib/miniconda3/envs/3ML/lib/python3.9/site-packages/threeML/__init__.py#37\" target=\"_blank\"><span style=\"color: #7f7f7f; text-decoration-color: #7f7f7f\">37</span></a>\n",
       "</pre>\n"
      ],
      "text/plain": [
       "\u001b[38;5;46m        \u001b[0m\u001b[38;5;46m \u001b[0m\u001b[38;5;134mWARNING \u001b[0m \u001b[1;38;5;251m but are inform you about optional packages that can be installed                 \u001b[0m\u001b[1;38;5;251m \u001b[0m\u001b]8;id=941852;file:///data/home/cwy/.mylib/miniconda3/envs/3ML/lib/python3.9/site-packages/threeML/__init__.py\u001b\\\u001b[2m__init__.py\u001b[0m\u001b]8;;\u001b\\\u001b[2m:\u001b[0m\u001b]8;id=130203;file:///data/home/cwy/.mylib/miniconda3/envs/3ML/lib/python3.9/site-packages/threeML/__init__.py#37\u001b\\\u001b[2m37\u001b[0m\u001b]8;;\u001b\\\n"
      ]
     },
     "metadata": {},
     "output_type": "display_data"
    },
    {
     "data": {
      "text/html": [
       "<pre style=\"white-space:pre;overflow-x:auto;line-height:normal;font-family:Menlo,'DejaVu Sans Mono',consolas,'Courier New',monospace\"><span style=\"color: #00ff00; text-decoration-color: #00ff00\">         </span><span style=\"color: #af5fd7; text-decoration-color: #af5fd7\">WARNING </span> <span style=\"color: #c6c6c6; text-decoration-color: #c6c6c6; font-weight: bold\"> </span><span style=\"color: #800000; text-decoration-color: #800000; font-weight: bold\"> to disable these messages, turn off start_warning in your config file</span><span style=\"color: #c6c6c6; text-decoration-color: #c6c6c6; font-weight: bold\">            </span><a href=\"file:///data/home/cwy/.mylib/miniconda3/envs/3ML/lib/python3.9/site-packages/threeML/__init__.py\" target=\"_blank\"><span style=\"color: #7f7f7f; text-decoration-color: #7f7f7f\">__init__.py</span></a><span style=\"color: #7f7f7f; text-decoration-color: #7f7f7f\">:</span><a href=\"file:///data/home/cwy/.mylib/miniconda3/envs/3ML/lib/python3.9/site-packages/threeML/__init__.py#40\" target=\"_blank\"><span style=\"color: #7f7f7f; text-decoration-color: #7f7f7f\">40</span></a>\n",
       "</pre>\n"
      ],
      "text/plain": [
       "\u001b[38;5;46m        \u001b[0m\u001b[38;5;46m \u001b[0m\u001b[38;5;134mWARNING \u001b[0m \u001b[1;38;5;251m \u001b[0m\u001b[1;31m to disable these messages, turn off start_warning in your config file\u001b[0m\u001b[1;38;5;251m           \u001b[0m\u001b[1;38;5;251m \u001b[0m\u001b]8;id=764004;file:///data/home/cwy/.mylib/miniconda3/envs/3ML/lib/python3.9/site-packages/threeML/__init__.py\u001b\\\u001b[2m__init__.py\u001b[0m\u001b]8;;\u001b\\\u001b[2m:\u001b[0m\u001b]8;id=390796;file:///data/home/cwy/.mylib/miniconda3/envs/3ML/lib/python3.9/site-packages/threeML/__init__.py#40\u001b\\\u001b[2m40\u001b[0m\u001b]8;;\u001b\\\n"
      ]
     },
     "metadata": {},
     "output_type": "display_data"
    },
    {
     "data": {
      "text/html": [
       "<pre style=\"white-space:pre;overflow-x:auto;line-height:normal;font-family:Menlo,'DejaVu Sans Mono',consolas,'Courier New',monospace\"><span style=\"color: #00ff00; text-decoration-color: #00ff00\">         </span><span style=\"color: #af5fd7; text-decoration-color: #af5fd7\">WARNING </span> <span style=\"color: #c6c6c6; text-decoration-color: #c6c6c6; font-weight: bold\"> Multinest minimizer not available                                           </span><a href=\"file:///data/home/cwy/.mylib/miniconda3/envs/3ML/lib/python3.9/site-packages/threeML/minimizer/minimization.py\" target=\"_blank\"><span style=\"color: #7f7f7f; text-decoration-color: #7f7f7f\">minimization.py</span></a><span style=\"color: #7f7f7f; text-decoration-color: #7f7f7f\">:</span><a href=\"file:///data/home/cwy/.mylib/miniconda3/envs/3ML/lib/python3.9/site-packages/threeML/minimizer/minimization.py#1357\" target=\"_blank\"><span style=\"color: #7f7f7f; text-decoration-color: #7f7f7f\">1357</span></a>\n",
       "</pre>\n"
      ],
      "text/plain": [
       "\u001b[38;5;46m        \u001b[0m\u001b[38;5;46m \u001b[0m\u001b[38;5;134mWARNING \u001b[0m \u001b[1;38;5;251m Multinest minimizer not available                                          \u001b[0m\u001b[1;38;5;251m \u001b[0m\u001b]8;id=32680;file:///data/home/cwy/.mylib/miniconda3/envs/3ML/lib/python3.9/site-packages/threeML/minimizer/minimization.py\u001b\\\u001b[2mminimization.py\u001b[0m\u001b]8;;\u001b\\\u001b[2m:\u001b[0m\u001b]8;id=260942;file:///data/home/cwy/.mylib/miniconda3/envs/3ML/lib/python3.9/site-packages/threeML/minimizer/minimization.py#1357\u001b\\\u001b[2m1357\u001b[0m\u001b]8;;\u001b\\\n"
      ]
     },
     "metadata": {},
     "output_type": "display_data"
    },
    {
     "data": {
      "text/html": [
       "<pre style=\"white-space:pre;overflow-x:auto;line-height:normal;font-family:Menlo,'DejaVu Sans Mono',consolas,'Courier New',monospace\"><span style=\"color: #00ff00; text-decoration-color: #00ff00\">         </span><span style=\"color: #af5fd7; text-decoration-color: #af5fd7\">WARNING </span> <span style=\"color: #c6c6c6; text-decoration-color: #c6c6c6; font-weight: bold\"> PyGMO is not available                                                      </span><a href=\"file:///data/home/cwy/.mylib/miniconda3/envs/3ML/lib/python3.9/site-packages/threeML/minimizer/minimization.py\" target=\"_blank\"><span style=\"color: #7f7f7f; text-decoration-color: #7f7f7f\">minimization.py</span></a><span style=\"color: #7f7f7f; text-decoration-color: #7f7f7f\">:</span><a href=\"file:///data/home/cwy/.mylib/miniconda3/envs/3ML/lib/python3.9/site-packages/threeML/minimizer/minimization.py#1369\" target=\"_blank\"><span style=\"color: #7f7f7f; text-decoration-color: #7f7f7f\">1369</span></a>\n",
       "</pre>\n"
      ],
      "text/plain": [
       "\u001b[38;5;46m        \u001b[0m\u001b[38;5;46m \u001b[0m\u001b[38;5;134mWARNING \u001b[0m \u001b[1;38;5;251m PyGMO is not available                                                     \u001b[0m\u001b[1;38;5;251m \u001b[0m\u001b]8;id=641477;file:///data/home/cwy/.mylib/miniconda3/envs/3ML/lib/python3.9/site-packages/threeML/minimizer/minimization.py\u001b\\\u001b[2mminimization.py\u001b[0m\u001b]8;;\u001b\\\u001b[2m:\u001b[0m\u001b]8;id=136646;file:///data/home/cwy/.mylib/miniconda3/envs/3ML/lib/python3.9/site-packages/threeML/minimizer/minimization.py#1369\u001b\\\u001b[2m1369\u001b[0m\u001b]8;;\u001b\\\n"
      ]
     },
     "metadata": {},
     "output_type": "display_data"
    },
    {
     "data": {
      "text/html": [
       "<pre style=\"white-space:pre;overflow-x:auto;line-height:normal;font-family:Menlo,'DejaVu Sans Mono',consolas,'Courier New',monospace\"><span style=\"color: #00ff00; text-decoration-color: #00ff00\">         </span><span style=\"color: #af5fd7; text-decoration-color: #af5fd7\">WARNING </span> <span style=\"color: #c6c6c6; text-decoration-color: #c6c6c6; font-weight: bold\"> The cthreeML package is not installed. You will not be able to use plugins which  </span><a href=\"file:///data/home/cwy/.mylib/miniconda3/envs/3ML/lib/python3.9/site-packages/threeML/__init__.py\" target=\"_blank\"><span style=\"color: #7f7f7f; text-decoration-color: #7f7f7f\">__init__.py</span></a><span style=\"color: #7f7f7f; text-decoration-color: #7f7f7f\">:</span><a href=\"file:///data/home/cwy/.mylib/miniconda3/envs/3ML/lib/python3.9/site-packages/threeML/__init__.py#94\" target=\"_blank\"><span style=\"color: #7f7f7f; text-decoration-color: #7f7f7f\">94</span></a>\n",
       "<span style=\"color: #00ff00; text-decoration-color: #00ff00\">         </span>         <span style=\"color: #c6c6c6; text-decoration-color: #c6c6c6; font-weight: bold\">require the C/C++ interface (currently HAWC)                                       </span><span style=\"color: #7f7f7f; text-decoration-color: #7f7f7f\">              </span>\n",
       "</pre>\n"
      ],
      "text/plain": [
       "\u001b[38;5;46m        \u001b[0m\u001b[38;5;46m \u001b[0m\u001b[38;5;134mWARNING \u001b[0m \u001b[1;38;5;251m The cthreeML package is not installed. You will not be able to use plugins which \u001b[0m\u001b[1;38;5;251m \u001b[0m\u001b]8;id=579431;file:///data/home/cwy/.mylib/miniconda3/envs/3ML/lib/python3.9/site-packages/threeML/__init__.py\u001b\\\u001b[2m__init__.py\u001b[0m\u001b]8;;\u001b\\\u001b[2m:\u001b[0m\u001b]8;id=927152;file:///data/home/cwy/.mylib/miniconda3/envs/3ML/lib/python3.9/site-packages/threeML/__init__.py#94\u001b\\\u001b[2m94\u001b[0m\u001b]8;;\u001b\\\n",
       "\u001b[38;5;46m         \u001b[0m         \u001b[1;38;5;251mrequire the C/C++ interface \u001b[0m\u001b[1;38;5;251m(\u001b[0m\u001b[1;38;5;251mcurrently HAWC\u001b[0m\u001b[1;38;5;251m)\u001b[0m\u001b[1;38;5;251m                                      \u001b[0m\u001b[1;38;5;251m \u001b[0m\u001b[2m              \u001b[0m\n"
      ]
     },
     "metadata": {},
     "output_type": "display_data"
    },
    {
     "data": {
      "text/html": [
       "<pre style=\"white-space:pre;overflow-x:auto;line-height:normal;font-family:Menlo,'DejaVu Sans Mono',consolas,'Courier New',monospace\"><span style=\"color: #00ff00; text-decoration-color: #00ff00\">         </span><span style=\"color: #af5fd7; text-decoration-color: #af5fd7\">WARNING </span> <span style=\"color: #c6c6c6; text-decoration-color: #c6c6c6; font-weight: bold\"> Could not import plugin FermiLATLike.py. Do you have the relative instrument     </span><a href=\"file:///data/home/cwy/.mylib/miniconda3/envs/3ML/lib/python3.9/site-packages/threeML/__init__.py\" target=\"_blank\"><span style=\"color: #7f7f7f; text-decoration-color: #7f7f7f\">__init__.py</span></a><span style=\"color: #7f7f7f; text-decoration-color: #7f7f7f\">:</span><a href=\"file:///data/home/cwy/.mylib/miniconda3/envs/3ML/lib/python3.9/site-packages/threeML/__init__.py#144\" target=\"_blank\"><span style=\"color: #7f7f7f; text-decoration-color: #7f7f7f\">144</span></a>\n",
       "<span style=\"color: #00ff00; text-decoration-color: #00ff00\">         </span>         <span style=\"color: #c6c6c6; text-decoration-color: #c6c6c6; font-weight: bold\">software installed and configured?                                                </span><span style=\"color: #7f7f7f; text-decoration-color: #7f7f7f\">               </span>\n",
       "</pre>\n"
      ],
      "text/plain": [
       "\u001b[38;5;46m        \u001b[0m\u001b[38;5;46m \u001b[0m\u001b[38;5;134mWARNING \u001b[0m \u001b[1;38;5;251m Could not import plugin FermiLATLike.py. Do you have the relative instrument    \u001b[0m\u001b[1;38;5;251m \u001b[0m\u001b]8;id=516704;file:///data/home/cwy/.mylib/miniconda3/envs/3ML/lib/python3.9/site-packages/threeML/__init__.py\u001b\\\u001b[2m__init__.py\u001b[0m\u001b]8;;\u001b\\\u001b[2m:\u001b[0m\u001b]8;id=23756;file:///data/home/cwy/.mylib/miniconda3/envs/3ML/lib/python3.9/site-packages/threeML/__init__.py#144\u001b\\\u001b[2m144\u001b[0m\u001b]8;;\u001b\\\n",
       "\u001b[38;5;46m         \u001b[0m         \u001b[1;38;5;251msoftware installed and configured?                                               \u001b[0m\u001b[1;38;5;251m \u001b[0m\u001b[2m               \u001b[0m\n"
      ]
     },
     "metadata": {},
     "output_type": "display_data"
    },
    {
     "data": {
      "text/html": [
       "<pre style=\"white-space:pre;overflow-x:auto;line-height:normal;font-family:Menlo,'DejaVu Sans Mono',consolas,'Courier New',monospace\"><span style=\"color: #00ff00; text-decoration-color: #00ff00\">         </span><span style=\"color: #af5fd7; text-decoration-color: #af5fd7\">WARNING </span> <span style=\"color: #c6c6c6; text-decoration-color: #c6c6c6; font-weight: bold\"> Could not import plugin HAWCLike.py. Do you have the relative instrument         </span><a href=\"file:///data/home/cwy/.mylib/miniconda3/envs/3ML/lib/python3.9/site-packages/threeML/__init__.py\" target=\"_blank\"><span style=\"color: #7f7f7f; text-decoration-color: #7f7f7f\">__init__.py</span></a><span style=\"color: #7f7f7f; text-decoration-color: #7f7f7f\">:</span><a href=\"file:///data/home/cwy/.mylib/miniconda3/envs/3ML/lib/python3.9/site-packages/threeML/__init__.py#144\" target=\"_blank\"><span style=\"color: #7f7f7f; text-decoration-color: #7f7f7f\">144</span></a>\n",
       "<span style=\"color: #00ff00; text-decoration-color: #00ff00\">         </span>         <span style=\"color: #c6c6c6; text-decoration-color: #c6c6c6; font-weight: bold\">software installed and configured?                                                </span><span style=\"color: #7f7f7f; text-decoration-color: #7f7f7f\">               </span>\n",
       "</pre>\n"
      ],
      "text/plain": [
       "\u001b[38;5;46m        \u001b[0m\u001b[38;5;46m \u001b[0m\u001b[38;5;134mWARNING \u001b[0m \u001b[1;38;5;251m Could not import plugin HAWCLike.py. Do you have the relative instrument        \u001b[0m\u001b[1;38;5;251m \u001b[0m\u001b]8;id=632806;file:///data/home/cwy/.mylib/miniconda3/envs/3ML/lib/python3.9/site-packages/threeML/__init__.py\u001b\\\u001b[2m__init__.py\u001b[0m\u001b]8;;\u001b\\\u001b[2m:\u001b[0m\u001b]8;id=170296;file:///data/home/cwy/.mylib/miniconda3/envs/3ML/lib/python3.9/site-packages/threeML/__init__.py#144\u001b\\\u001b[2m144\u001b[0m\u001b]8;;\u001b\\\n",
       "\u001b[38;5;46m         \u001b[0m         \u001b[1;38;5;251msoftware installed and configured?                                               \u001b[0m\u001b[1;38;5;251m \u001b[0m\u001b[2m               \u001b[0m\n"
      ]
     },
     "metadata": {},
     "output_type": "display_data"
    },
    {
     "data": {
      "text/html": [
       "<pre style=\"white-space:pre;overflow-x:auto;line-height:normal;font-family:Menlo,'DejaVu Sans Mono',consolas,'Courier New',monospace\"><span style=\"color: #00ff00; text-decoration-color: #00ff00\">16:21:15 </span><span style=\"color: #af5fd7; text-decoration-color: #af5fd7\">WARNING </span> <span style=\"color: #c6c6c6; text-decoration-color: #c6c6c6; font-weight: bold\"> No fermitools installed                                              </span><a href=\"file:///data/home/cwy/.mylib/miniconda3/envs/3ML/lib/python3.9/site-packages/threeML/utils/data_builders/fermi/lat_transient_builder.py\" target=\"_blank\"><span style=\"color: #7f7f7f; text-decoration-color: #7f7f7f\">lat_transient_builder.py</span></a><span style=\"color: #7f7f7f; text-decoration-color: #7f7f7f\">:</span><a href=\"file:///data/home/cwy/.mylib/miniconda3/envs/3ML/lib/python3.9/site-packages/threeML/utils/data_builders/fermi/lat_transient_builder.py#44\" target=\"_blank\"><span style=\"color: #7f7f7f; text-decoration-color: #7f7f7f\">44</span></a>\n",
       "</pre>\n"
      ],
      "text/plain": [
       "\u001b[38;5;46m16:21:15\u001b[0m\u001b[38;5;46m \u001b[0m\u001b[38;5;134mWARNING \u001b[0m \u001b[1;38;5;251m No fermitools installed                                             \u001b[0m\u001b[1;38;5;251m \u001b[0m\u001b]8;id=779900;file:///data/home/cwy/.mylib/miniconda3/envs/3ML/lib/python3.9/site-packages/threeML/utils/data_builders/fermi/lat_transient_builder.py\u001b\\\u001b[2mlat_transient_builder.py\u001b[0m\u001b]8;;\u001b\\\u001b[2m:\u001b[0m\u001b]8;id=436314;file:///data/home/cwy/.mylib/miniconda3/envs/3ML/lib/python3.9/site-packages/threeML/utils/data_builders/fermi/lat_transient_builder.py#44\u001b\\\u001b[2m44\u001b[0m\u001b]8;;\u001b\\\n"
      ]
     },
     "metadata": {},
     "output_type": "display_data"
    },
    {
     "data": {
      "text/html": [
       "<pre style=\"white-space:pre;overflow-x:auto;line-height:normal;font-family:Menlo,'DejaVu Sans Mono',consolas,'Courier New',monospace\"><span style=\"color: #00ff00; text-decoration-color: #00ff00\">16:21:15 </span><span style=\"color: #af5fd7; text-decoration-color: #af5fd7\">WARNING </span> <span style=\"color: #c6c6c6; text-decoration-color: #c6c6c6; font-weight: bold\"> Env. variable OMP_NUM_THREADS is not set. Please set it to </span><span style=\"color: #c0c0c0; text-decoration-color: #c0c0c0; font-weight: bold\">1</span><span style=\"color: #c6c6c6; text-decoration-color: #c6c6c6; font-weight: bold\"> for optimal         </span><a href=\"file:///data/home/cwy/.mylib/miniconda3/envs/3ML/lib/python3.9/site-packages/threeML/__init__.py\" target=\"_blank\"><span style=\"color: #7f7f7f; text-decoration-color: #7f7f7f\">__init__.py</span></a><span style=\"color: #7f7f7f; text-decoration-color: #7f7f7f\">:</span><a href=\"file:///data/home/cwy/.mylib/miniconda3/envs/3ML/lib/python3.9/site-packages/threeML/__init__.py#387\" target=\"_blank\"><span style=\"color: #7f7f7f; text-decoration-color: #7f7f7f\">387</span></a>\n",
       "<span style=\"color: #00ff00; text-decoration-color: #00ff00\">         </span>         <span style=\"color: #c6c6c6; text-decoration-color: #c6c6c6; font-weight: bold\">performances in 3ML                                                               </span><span style=\"color: #7f7f7f; text-decoration-color: #7f7f7f\">               </span>\n",
       "</pre>\n"
      ],
      "text/plain": [
       "\u001b[38;5;46m16:21:15\u001b[0m\u001b[38;5;46m \u001b[0m\u001b[38;5;134mWARNING \u001b[0m \u001b[1;38;5;251m Env. variable OMP_NUM_THREADS is not set. Please set it to \u001b[0m\u001b[1;37m1\u001b[0m\u001b[1;38;5;251m for optimal        \u001b[0m\u001b[1;38;5;251m \u001b[0m\u001b]8;id=351559;file:///data/home/cwy/.mylib/miniconda3/envs/3ML/lib/python3.9/site-packages/threeML/__init__.py\u001b\\\u001b[2m__init__.py\u001b[0m\u001b]8;;\u001b\\\u001b[2m:\u001b[0m\u001b]8;id=846405;file:///data/home/cwy/.mylib/miniconda3/envs/3ML/lib/python3.9/site-packages/threeML/__init__.py#387\u001b\\\u001b[2m387\u001b[0m\u001b]8;;\u001b\\\n",
       "\u001b[38;5;46m         \u001b[0m         \u001b[1;38;5;251mperformances in 3ML                                                              \u001b[0m\u001b[1;38;5;251m \u001b[0m\u001b[2m               \u001b[0m\n"
      ]
     },
     "metadata": {},
     "output_type": "display_data"
    },
    {
     "data": {
      "text/html": [
       "<pre style=\"white-space:pre;overflow-x:auto;line-height:normal;font-family:Menlo,'DejaVu Sans Mono',consolas,'Courier New',monospace\"><span style=\"color: #00ff00; text-decoration-color: #00ff00\">         </span><span style=\"color: #af5fd7; text-decoration-color: #af5fd7\">WARNING </span> <span style=\"color: #c6c6c6; text-decoration-color: #c6c6c6; font-weight: bold\"> Env. variable MKL_NUM_THREADS is not set. Please set it to </span><span style=\"color: #c0c0c0; text-decoration-color: #c0c0c0; font-weight: bold\">1</span><span style=\"color: #c6c6c6; text-decoration-color: #c6c6c6; font-weight: bold\"> for optimal         </span><a href=\"file:///data/home/cwy/.mylib/miniconda3/envs/3ML/lib/python3.9/site-packages/threeML/__init__.py\" target=\"_blank\"><span style=\"color: #7f7f7f; text-decoration-color: #7f7f7f\">__init__.py</span></a><span style=\"color: #7f7f7f; text-decoration-color: #7f7f7f\">:</span><a href=\"file:///data/home/cwy/.mylib/miniconda3/envs/3ML/lib/python3.9/site-packages/threeML/__init__.py#387\" target=\"_blank\"><span style=\"color: #7f7f7f; text-decoration-color: #7f7f7f\">387</span></a>\n",
       "<span style=\"color: #00ff00; text-decoration-color: #00ff00\">         </span>         <span style=\"color: #c6c6c6; text-decoration-color: #c6c6c6; font-weight: bold\">performances in 3ML                                                               </span><span style=\"color: #7f7f7f; text-decoration-color: #7f7f7f\">               </span>\n",
       "</pre>\n"
      ],
      "text/plain": [
       "\u001b[38;5;46m        \u001b[0m\u001b[38;5;46m \u001b[0m\u001b[38;5;134mWARNING \u001b[0m \u001b[1;38;5;251m Env. variable MKL_NUM_THREADS is not set. Please set it to \u001b[0m\u001b[1;37m1\u001b[0m\u001b[1;38;5;251m for optimal        \u001b[0m\u001b[1;38;5;251m \u001b[0m\u001b]8;id=690119;file:///data/home/cwy/.mylib/miniconda3/envs/3ML/lib/python3.9/site-packages/threeML/__init__.py\u001b\\\u001b[2m__init__.py\u001b[0m\u001b]8;;\u001b\\\u001b[2m:\u001b[0m\u001b]8;id=281194;file:///data/home/cwy/.mylib/miniconda3/envs/3ML/lib/python3.9/site-packages/threeML/__init__.py#387\u001b\\\u001b[2m387\u001b[0m\u001b]8;;\u001b\\\n",
       "\u001b[38;5;46m         \u001b[0m         \u001b[1;38;5;251mperformances in 3ML                                                              \u001b[0m\u001b[1;38;5;251m \u001b[0m\u001b[2m               \u001b[0m\n"
      ]
     },
     "metadata": {},
     "output_type": "display_data"
    },
    {
     "data": {
      "text/html": [
       "<pre style=\"white-space:pre;overflow-x:auto;line-height:normal;font-family:Menlo,'DejaVu Sans Mono',consolas,'Courier New',monospace\"><span style=\"color: #00ff00; text-decoration-color: #00ff00\">         </span><span style=\"color: #af5fd7; text-decoration-color: #af5fd7\">WARNING </span> <span style=\"color: #c6c6c6; text-decoration-color: #c6c6c6; font-weight: bold\"> Env. variable NUMEXPR_NUM_THREADS is not set. Please set it to </span><span style=\"color: #c0c0c0; text-decoration-color: #c0c0c0; font-weight: bold\">1</span><span style=\"color: #c6c6c6; text-decoration-color: #c6c6c6; font-weight: bold\"> for optimal     </span><a href=\"file:///data/home/cwy/.mylib/miniconda3/envs/3ML/lib/python3.9/site-packages/threeML/__init__.py\" target=\"_blank\"><span style=\"color: #7f7f7f; text-decoration-color: #7f7f7f\">__init__.py</span></a><span style=\"color: #7f7f7f; text-decoration-color: #7f7f7f\">:</span><a href=\"file:///data/home/cwy/.mylib/miniconda3/envs/3ML/lib/python3.9/site-packages/threeML/__init__.py#387\" target=\"_blank\"><span style=\"color: #7f7f7f; text-decoration-color: #7f7f7f\">387</span></a>\n",
       "<span style=\"color: #00ff00; text-decoration-color: #00ff00\">         </span>         <span style=\"color: #c6c6c6; text-decoration-color: #c6c6c6; font-weight: bold\">performances in 3ML                                                               </span><span style=\"color: #7f7f7f; text-decoration-color: #7f7f7f\">               </span>\n",
       "</pre>\n"
      ],
      "text/plain": [
       "\u001b[38;5;46m        \u001b[0m\u001b[38;5;46m \u001b[0m\u001b[38;5;134mWARNING \u001b[0m \u001b[1;38;5;251m Env. variable NUMEXPR_NUM_THREADS is not set. Please set it to \u001b[0m\u001b[1;37m1\u001b[0m\u001b[1;38;5;251m for optimal    \u001b[0m\u001b[1;38;5;251m \u001b[0m\u001b]8;id=400065;file:///data/home/cwy/.mylib/miniconda3/envs/3ML/lib/python3.9/site-packages/threeML/__init__.py\u001b\\\u001b[2m__init__.py\u001b[0m\u001b]8;;\u001b\\\u001b[2m:\u001b[0m\u001b]8;id=175064;file:///data/home/cwy/.mylib/miniconda3/envs/3ML/lib/python3.9/site-packages/threeML/__init__.py#387\u001b\\\u001b[2m387\u001b[0m\u001b]8;;\u001b\\\n",
       "\u001b[38;5;46m         \u001b[0m         \u001b[1;38;5;251mperformances in 3ML                                                              \u001b[0m\u001b[1;38;5;251m \u001b[0m\u001b[2m               \u001b[0m\n"
      ]
     },
     "metadata": {},
     "output_type": "display_data"
    }
   ],
   "source": [
    "# sys.path.append('/home/lhaaso/gmxiang/lib/pip_lib')\n",
    "import warnings\n",
    "warnings.simplefilter(\"ignore\")\n",
    "import numpy as np\n",
    "np.seterr(all=\"ignore\")\n",
    "from threeML import *\n",
    "import matplotlib, sys\n",
    "import os\n",
    "matplotlib.use('Agg')\n",
    "#matplotlib.use('Qt5Agg')\n",
    "#from PyQt5 import QtCore, QtGui, uic\n",
    "import matplotlib.pyplot as plt\n",
    "from WCDA_hal import HAL, HealpixConeROI, HealpixMapROI\n",
    "import ROOT\n",
    "from time import *\n",
    "import traceback\n",
    "import healpy as hp\n",
    "silence_warnings()\n",
    "from threeML import silence_progress_bars, activate_progress_bars, toggle_progress_bars\n",
    "from threeML.utils.progress_bar import trange"
   ]
  },
  {
   "cell_type": "code",
   "execution_count": 2,
   "metadata": {},
   "outputs": [
    {
     "name": "stderr",
     "output_type": "stream",
     "text": [
      "\n",
      "WARNING RuntimeWarning: numpy.ndarray size changed, may indicate binary incompatibility. Expected 96, got 80\n",
      "\n",
      "\n",
      "WARNING RuntimeWarning: numpy.ufunc size changed, may indicate binary incompatibility. Expected 232, got 216\n",
      "\n",
      "\n",
      "WARNING DeprecationWarning: `np.object` is a deprecated alias for the builtin `object`. To silence this warning, use `object` by itself. Doing this will not modify any behavior and is safe. \n",
      "Deprecated in NumPy 1.20; for more details and guidance: https://numpy.org/devdocs/release/1.20.0-notes.html#deprecations\n",
      "\n"
     ]
    },
    {
     "data": {
      "text/html": [
       "<pre style=\"white-space:pre;overflow-x:auto;line-height:normal;font-family:Menlo,'DejaVu Sans Mono',consolas,'Courier New',monospace\"><span style=\"color: #00ff00; text-decoration-color: #00ff00\">16:21:29 </span><span style=\"color: #00ffaf; text-decoration-color: #00ffaf\">INFO    </span> <span style=\"color: #c6c6c6; text-decoration-color: #c6c6c6; font-weight: bold\"> Creating singleton for                                                            </span><a href=\"file:///data/home/cwy/.mylib/miniconda3/envs/3ML/lib/python3.9/site-packages/WCDA_hal/response/response.py\" target=\"_blank\"><span style=\"color: #7f7f7f; text-decoration-color: #7f7f7f\">response.py</span></a><span style=\"color: #7f7f7f; text-decoration-color: #7f7f7f\">:</span><a href=\"file:///data/home/cwy/.mylib/miniconda3/envs/3ML/lib/python3.9/site-packages/WCDA_hal/response/response.py#41\" target=\"_blank\"><span style=\"color: #7f7f7f; text-decoration-color: #7f7f7f\">41</span></a>\n",
       "<span style=\"color: #00ff00; text-decoration-color: #00ff00\">         </span>         <span style=\"color: #5f5f5f; text-decoration-color: #5f5f5f; font-weight: bold\">/data/home/cwy/Science/3MLWCDA0.91/Standard/src/../../data/</span><span style=\"color: #000080; text-decoration-color: #000080; font-weight: bold\">DR_ihep_MK2.root</span><span style=\"color: #c6c6c6; text-decoration-color: #c6c6c6; font-weight: bold\">        </span><span style=\"color: #7f7f7f; text-decoration-color: #7f7f7f\">              </span>\n",
       "</pre>\n"
      ],
      "text/plain": [
       "\u001b[38;5;46m16:21:29\u001b[0m\u001b[38;5;46m \u001b[0m\u001b[38;5;49mINFO    \u001b[0m \u001b[1;38;5;251m Creating singleton for                                                           \u001b[0m\u001b[1;38;5;251m \u001b[0m\u001b]8;id=875676;file:///data/home/cwy/.mylib/miniconda3/envs/3ML/lib/python3.9/site-packages/WCDA_hal/response/response.py\u001b\\\u001b[2mresponse.py\u001b[0m\u001b]8;;\u001b\\\u001b[2m:\u001b[0m\u001b]8;id=541222;file:///data/home/cwy/.mylib/miniconda3/envs/3ML/lib/python3.9/site-packages/WCDA_hal/response/response.py#41\u001b\\\u001b[2m41\u001b[0m\u001b]8;;\u001b\\\n",
       "\u001b[38;5;46m         \u001b[0m         \u001b[1;38;5;59m/data/home/cwy/Science/3MLWCDA0.91/Standard/src/../../data/\u001b[0m\u001b[1;34mDR_ihep_MK2.root\u001b[0m\u001b[1;38;5;251m       \u001b[0m\u001b[1;38;5;251m \u001b[0m\u001b[2m              \u001b[0m\n"
      ]
     },
     "metadata": {},
     "output_type": "display_data"
    },
    {
     "name": "stderr",
     "output_type": "stream",
     "text": [
      "Error in <TTreeFormula::Compile>:  Bad numerical expression : \"name\"\n"
     ]
    }
   ],
   "source": [
    "maptree = \"../../data/20210305_20230731_ihep_goodlist.root\"\n",
    "response = \"../../data/DR_ihep_MK2.root\"\n",
    "ra_W43, dec_W43 = 279.37, -6.96 \n",
    "data_radius = 3.0\n",
    "model_radius = 4.0\n",
    "# roi=HealpixMapROI(ra=ra_Cocoon,dec=dec_Cocoon,data_radius=data_radius,model_radius=model_radius,roifile='/home/lhaaso/tangruiyi/analysis/cocoonstuff/roi.fits')\n",
    "roi=HealpixConeROI(ra=ra_W43,dec=dec_W43,data_radius=data_radius,model_radius=model_radius)\n",
    "WCDA = HAL(\"WCDA\", maptree, response, roi, flat_sky_pixels_size=0.17)"
   ]
  },
  {
   "cell_type": "code",
   "execution_count": 4,
   "metadata": {},
   "outputs": [
    {
     "data": {
      "text/html": [
       "<pre style=\"white-space:pre;overflow-x:auto;line-height:normal;font-family:Menlo,'DejaVu Sans Mono',consolas,'Courier New',monospace\"><span style=\"color: #00ff00; text-decoration-color: #00ff00\">16:21:50 </span><span style=\"color: #00ffaf; text-decoration-color: #00ffaf\">INFO    </span> <span style=\"color: #c6c6c6; text-decoration-color: #c6c6c6; font-weight: bold\"> Region of Interest:                                                                   </span><a href=\"file:///data/home/cwy/.mylib/miniconda3/envs/3ML/lib/python3.9/site-packages/WCDA_hal/HAL.py\" target=\"_blank\"><span style=\"color: #7f7f7f; text-decoration-color: #7f7f7f\">HAL.py</span></a><span style=\"color: #7f7f7f; text-decoration-color: #7f7f7f\">:</span><a href=\"file:///data/home/cwy/.mylib/miniconda3/envs/3ML/lib/python3.9/site-packages/WCDA_hal/HAL.py#271\" target=\"_blank\"><span style=\"color: #7f7f7f; text-decoration-color: #7f7f7f\">271</span></a>\n",
       "</pre>\n"
      ],
      "text/plain": [
       "\u001b[38;5;46m16:21:50\u001b[0m\u001b[38;5;46m \u001b[0m\u001b[38;5;49mINFO    \u001b[0m \u001b[1;38;5;251m Region of Interest:                                                                  \u001b[0m\u001b[1;38;5;251m \u001b[0m\u001b]8;id=504432;file:///data/home/cwy/.mylib/miniconda3/envs/3ML/lib/python3.9/site-packages/WCDA_hal/HAL.py\u001b\\\u001b[2mHAL.py\u001b[0m\u001b]8;;\u001b\\\u001b[2m:\u001b[0m\u001b]8;id=410521;file:///data/home/cwy/.mylib/miniconda3/envs/3ML/lib/python3.9/site-packages/WCDA_hal/HAL.py#271\u001b\\\u001b[2m271\u001b[0m\u001b]8;;\u001b\\\n"
      ]
     },
     "metadata": {},
     "output_type": "display_data"
    },
    {
     "data": {
      "text/html": [
       "<pre style=\"white-space:pre;overflow-x:auto;line-height:normal;font-family:Menlo,'DejaVu Sans Mono',consolas,'Courier New',monospace\"><span style=\"color: #00ff00; text-decoration-color: #00ff00\">         </span><span style=\"color: #00ffaf; text-decoration-color: #00ffaf\">INFO    </span> <span style=\"color: #c6c6c6; text-decoration-color: #c6c6c6; font-weight: bold\"> -------------------                                                                   </span><a href=\"file:///data/home/cwy/.mylib/miniconda3/envs/3ML/lib/python3.9/site-packages/WCDA_hal/HAL.py\" target=\"_blank\"><span style=\"color: #7f7f7f; text-decoration-color: #7f7f7f\">HAL.py</span></a><span style=\"color: #7f7f7f; text-decoration-color: #7f7f7f\">:</span><a href=\"file:///data/home/cwy/.mylib/miniconda3/envs/3ML/lib/python3.9/site-packages/WCDA_hal/HAL.py#272\" target=\"_blank\"><span style=\"color: #7f7f7f; text-decoration-color: #7f7f7f\">272</span></a>\n",
       "</pre>\n"
      ],
      "text/plain": [
       "\u001b[38;5;46m        \u001b[0m\u001b[38;5;46m \u001b[0m\u001b[38;5;49mINFO    \u001b[0m \u001b[1;38;5;251m -------------------                                                                  \u001b[0m\u001b[1;38;5;251m \u001b[0m\u001b]8;id=603251;file:///data/home/cwy/.mylib/miniconda3/envs/3ML/lib/python3.9/site-packages/WCDA_hal/HAL.py\u001b\\\u001b[2mHAL.py\u001b[0m\u001b]8;;\u001b\\\u001b[2m:\u001b[0m\u001b]8;id=178657;file:///data/home/cwy/.mylib/miniconda3/envs/3ML/lib/python3.9/site-packages/WCDA_hal/HAL.py#272\u001b\\\u001b[2m272\u001b[0m\u001b]8;;\u001b\\\n"
      ]
     },
     "metadata": {},
     "output_type": "display_data"
    },
    {
     "data": {
      "text/html": [
       "<pre style=\"white-space:pre;overflow-x:auto;line-height:normal;font-family:Menlo,'DejaVu Sans Mono',consolas,'Courier New',monospace\"><span style=\"color: #00ff00; text-decoration-color: #00ff00\">         </span><span style=\"color: #00ffaf; text-decoration-color: #00ffaf\">INFO    </span> <span style=\"color: #c6c6c6; text-decoration-color: #c6c6c6; font-weight: bold\"> HealpixConeROI: Center (R.A., Dec) = (</span><span style=\"color: #c0c0c0; text-decoration-color: #c0c0c0; font-weight: bold\">279.370</span><span style=\"color: #c6c6c6; text-decoration-color: #c6c6c6; font-weight: bold\">, </span><span style=\"color: #c0c0c0; text-decoration-color: #c0c0c0; font-weight: bold\">-6.960</span><span style=\"color: #c6c6c6; text-decoration-color: #c6c6c6; font-weight: bold\">), data radius =     </span><a href=\"file:///data/home/cwy/.mylib/miniconda3/envs/3ML/lib/python3.9/site-packages/WCDA_hal/region_of_interest/healpix_cone_roi.py\" target=\"_blank\"><span style=\"color: #7f7f7f; text-decoration-color: #7f7f7f\">healpix_cone_roi.py</span></a><span style=\"color: #7f7f7f; text-decoration-color: #7f7f7f\">:</span><a href=\"file:///data/home/cwy/.mylib/miniconda3/envs/3ML/lib/python3.9/site-packages/WCDA_hal/region_of_interest/healpix_cone_roi.py#87\" target=\"_blank\"><span style=\"color: #7f7f7f; text-decoration-color: #7f7f7f\">87</span></a>\n",
       "<span style=\"color: #00ff00; text-decoration-color: #00ff00\">         </span>         <span style=\"color: #c0c0c0; text-decoration-color: #c0c0c0; font-weight: bold\">3.000</span><span style=\"color: #c6c6c6; text-decoration-color: #c6c6c6; font-weight: bold\"> deg, model radius: </span><span style=\"color: #c0c0c0; text-decoration-color: #c0c0c0; font-weight: bold\">4.000</span><span style=\"color: #c6c6c6; text-decoration-color: #c6c6c6; font-weight: bold\"> deg                                         </span><span style=\"color: #7f7f7f; text-decoration-color: #7f7f7f\">                      </span>\n",
       "</pre>\n"
      ],
      "text/plain": [
       "\u001b[38;5;46m        \u001b[0m\u001b[38;5;46m \u001b[0m\u001b[38;5;49mINFO    \u001b[0m \u001b[1;38;5;251m HealpixConeROI: Center \u001b[0m\u001b[1;38;5;251m(\u001b[0m\u001b[1;38;5;251mR.A., Dec\u001b[0m\u001b[1;38;5;251m)\u001b[0m\u001b[1;38;5;251m = \u001b[0m\u001b[1;38;5;251m(\u001b[0m\u001b[1;37m279.370\u001b[0m\u001b[1;38;5;251m, \u001b[0m\u001b[1;37m-6.960\u001b[0m\u001b[1;38;5;251m)\u001b[0m\u001b[1;38;5;251m, data radius =    \u001b[0m\u001b[1;38;5;251m \u001b[0m\u001b]8;id=361099;file:///data/home/cwy/.mylib/miniconda3/envs/3ML/lib/python3.9/site-packages/WCDA_hal/region_of_interest/healpix_cone_roi.py\u001b\\\u001b[2mhealpix_cone_roi.py\u001b[0m\u001b]8;;\u001b\\\u001b[2m:\u001b[0m\u001b]8;id=775682;file:///data/home/cwy/.mylib/miniconda3/envs/3ML/lib/python3.9/site-packages/WCDA_hal/region_of_interest/healpix_cone_roi.py#87\u001b\\\u001b[2m87\u001b[0m\u001b]8;;\u001b\\\n",
       "\u001b[38;5;46m         \u001b[0m         \u001b[1;37m3.000\u001b[0m\u001b[1;38;5;251m deg, model radius: \u001b[0m\u001b[1;37m4.000\u001b[0m\u001b[1;38;5;251m deg                                        \u001b[0m\u001b[1;38;5;251m \u001b[0m\u001b[2m                      \u001b[0m\n"
      ]
     },
     "metadata": {},
     "output_type": "display_data"
    },
    {
     "data": {
      "text/html": [
       "<pre style=\"white-space:pre;overflow-x:auto;line-height:normal;font-family:Menlo,'DejaVu Sans Mono',consolas,'Courier New',monospace\"><span style=\"color: #00ff00; text-decoration-color: #00ff00\">         </span><span style=\"color: #00ffaf; text-decoration-color: #00ffaf\">INFO    </span> <span style=\"color: #c6c6c6; text-decoration-color: #c6c6c6; font-weight: bold\">                                                                                       </span><a href=\"file:///data/home/cwy/.mylib/miniconda3/envs/3ML/lib/python3.9/site-packages/WCDA_hal/HAL.py\" target=\"_blank\"><span style=\"color: #7f7f7f; text-decoration-color: #7f7f7f\">HAL.py</span></a><span style=\"color: #7f7f7f; text-decoration-color: #7f7f7f\">:</span><a href=\"file:///data/home/cwy/.mylib/miniconda3/envs/3ML/lib/python3.9/site-packages/WCDA_hal/HAL.py#275\" target=\"_blank\"><span style=\"color: #7f7f7f; text-decoration-color: #7f7f7f\">275</span></a>\n",
       "</pre>\n"
      ],
      "text/plain": [
       "\u001b[38;5;46m        \u001b[0m\u001b[38;5;46m \u001b[0m\u001b[38;5;49mINFO    \u001b[0m \u001b[1;38;5;251m                                                                                      \u001b[0m\u001b[1;38;5;251m \u001b[0m\u001b]8;id=172646;file:///data/home/cwy/.mylib/miniconda3/envs/3ML/lib/python3.9/site-packages/WCDA_hal/HAL.py\u001b\\\u001b[2mHAL.py\u001b[0m\u001b]8;;\u001b\\\u001b[2m:\u001b[0m\u001b]8;id=152984;file:///data/home/cwy/.mylib/miniconda3/envs/3ML/lib/python3.9/site-packages/WCDA_hal/HAL.py#275\u001b\\\u001b[2m275\u001b[0m\u001b]8;;\u001b\\\n"
      ]
     },
     "metadata": {},
     "output_type": "display_data"
    },
    {
     "data": {
      "text/html": [
       "<pre style=\"white-space:pre;overflow-x:auto;line-height:normal;font-family:Menlo,'DejaVu Sans Mono',consolas,'Courier New',monospace\"><span style=\"color: #00ff00; text-decoration-color: #00ff00\">         </span><span style=\"color: #00ffaf; text-decoration-color: #00ffaf\">INFO    </span> <span style=\"color: #c6c6c6; text-decoration-color: #c6c6c6; font-weight: bold\"> Flat sky projection:                                                                  </span><a href=\"file:///data/home/cwy/.mylib/miniconda3/envs/3ML/lib/python3.9/site-packages/WCDA_hal/HAL.py\" target=\"_blank\"><span style=\"color: #7f7f7f; text-decoration-color: #7f7f7f\">HAL.py</span></a><span style=\"color: #7f7f7f; text-decoration-color: #7f7f7f\">:</span><a href=\"file:///data/home/cwy/.mylib/miniconda3/envs/3ML/lib/python3.9/site-packages/WCDA_hal/HAL.py#276\" target=\"_blank\"><span style=\"color: #7f7f7f; text-decoration-color: #7f7f7f\">276</span></a>\n",
       "</pre>\n"
      ],
      "text/plain": [
       "\u001b[38;5;46m        \u001b[0m\u001b[38;5;46m \u001b[0m\u001b[38;5;49mINFO    \u001b[0m \u001b[1;38;5;251m Flat sky projection:                                                                 \u001b[0m\u001b[1;38;5;251m \u001b[0m\u001b]8;id=170986;file:///data/home/cwy/.mylib/miniconda3/envs/3ML/lib/python3.9/site-packages/WCDA_hal/HAL.py\u001b\\\u001b[2mHAL.py\u001b[0m\u001b]8;;\u001b\\\u001b[2m:\u001b[0m\u001b]8;id=946563;file:///data/home/cwy/.mylib/miniconda3/envs/3ML/lib/python3.9/site-packages/WCDA_hal/HAL.py#276\u001b\\\u001b[2m276\u001b[0m\u001b]8;;\u001b\\\n"
      ]
     },
     "metadata": {},
     "output_type": "display_data"
    },
    {
     "data": {
      "text/html": [
       "<pre style=\"white-space:pre;overflow-x:auto;line-height:normal;font-family:Menlo,'DejaVu Sans Mono',consolas,'Courier New',monospace\"><span style=\"color: #00ff00; text-decoration-color: #00ff00\">         </span><span style=\"color: #00ffaf; text-decoration-color: #00ffaf\">INFO    </span> <span style=\"color: #c6c6c6; text-decoration-color: #c6c6c6; font-weight: bold\"> --------------------                                                                  </span><a href=\"file:///data/home/cwy/.mylib/miniconda3/envs/3ML/lib/python3.9/site-packages/WCDA_hal/HAL.py\" target=\"_blank\"><span style=\"color: #7f7f7f; text-decoration-color: #7f7f7f\">HAL.py</span></a><span style=\"color: #7f7f7f; text-decoration-color: #7f7f7f\">:</span><a href=\"file:///data/home/cwy/.mylib/miniconda3/envs/3ML/lib/python3.9/site-packages/WCDA_hal/HAL.py#277\" target=\"_blank\"><span style=\"color: #7f7f7f; text-decoration-color: #7f7f7f\">277</span></a>\n",
       "</pre>\n"
      ],
      "text/plain": [
       "\u001b[38;5;46m        \u001b[0m\u001b[38;5;46m \u001b[0m\u001b[38;5;49mINFO    \u001b[0m \u001b[1;38;5;251m --------------------                                                                 \u001b[0m\u001b[1;38;5;251m \u001b[0m\u001b]8;id=993013;file:///data/home/cwy/.mylib/miniconda3/envs/3ML/lib/python3.9/site-packages/WCDA_hal/HAL.py\u001b\\\u001b[2mHAL.py\u001b[0m\u001b]8;;\u001b\\\u001b[2m:\u001b[0m\u001b]8;id=261240;file:///data/home/cwy/.mylib/miniconda3/envs/3ML/lib/python3.9/site-packages/WCDA_hal/HAL.py#277\u001b\\\u001b[2m277\u001b[0m\u001b]8;;\u001b\\\n"
      ]
     },
     "metadata": {},
     "output_type": "display_data"
    },
    {
     "data": {
      "text/html": [
       "<pre style=\"white-space:pre;overflow-x:auto;line-height:normal;font-family:Menlo,'DejaVu Sans Mono',consolas,'Courier New',monospace\"><span style=\"color: #00ff00; text-decoration-color: #00ff00\">         </span><span style=\"color: #00ffaf; text-decoration-color: #00ffaf\">INFO    </span> <span style=\"color: #c6c6c6; text-decoration-color: #c6c6c6; font-weight: bold\"> Width x height: </span><span style=\"color: #c0c0c0; text-decoration-color: #c0c0c0; font-weight: bold\">48</span><span style=\"color: #c6c6c6; text-decoration-color: #c6c6c6; font-weight: bold\"> x </span><span style=\"color: #c0c0c0; text-decoration-color: #c0c0c0; font-weight: bold\">48</span><span style=\"color: #c6c6c6; text-decoration-color: #c6c6c6; font-weight: bold\"> px                                                            </span><a href=\"file:///data/home/cwy/.mylib/miniconda3/envs/3ML/lib/python3.9/site-packages/WCDA_hal/HAL.py\" target=\"_blank\"><span style=\"color: #7f7f7f; text-decoration-color: #7f7f7f\">HAL.py</span></a><span style=\"color: #7f7f7f; text-decoration-color: #7f7f7f\">:</span><a href=\"file:///data/home/cwy/.mylib/miniconda3/envs/3ML/lib/python3.9/site-packages/WCDA_hal/HAL.py#279\" target=\"_blank\"><span style=\"color: #7f7f7f; text-decoration-color: #7f7f7f\">279</span></a>\n",
       "</pre>\n"
      ],
      "text/plain": [
       "\u001b[38;5;46m        \u001b[0m\u001b[38;5;46m \u001b[0m\u001b[38;5;49mINFO    \u001b[0m \u001b[1;38;5;251m Width x height: \u001b[0m\u001b[1;37m48\u001b[0m\u001b[1;38;5;251m x \u001b[0m\u001b[1;37m48\u001b[0m\u001b[1;38;5;251m px                                                           \u001b[0m\u001b[1;38;5;251m \u001b[0m\u001b]8;id=794157;file:///data/home/cwy/.mylib/miniconda3/envs/3ML/lib/python3.9/site-packages/WCDA_hal/HAL.py\u001b\\\u001b[2mHAL.py\u001b[0m\u001b]8;;\u001b\\\u001b[2m:\u001b[0m\u001b]8;id=940188;file:///data/home/cwy/.mylib/miniconda3/envs/3ML/lib/python3.9/site-packages/WCDA_hal/HAL.py#279\u001b\\\u001b[2m279\u001b[0m\u001b]8;;\u001b\\\n"
      ]
     },
     "metadata": {},
     "output_type": "display_data"
    },
    {
     "data": {
      "text/html": [
       "<pre style=\"white-space:pre;overflow-x:auto;line-height:normal;font-family:Menlo,'DejaVu Sans Mono',consolas,'Courier New',monospace\"><span style=\"color: #00ff00; text-decoration-color: #00ff00\">         </span><span style=\"color: #00ffaf; text-decoration-color: #00ffaf\">INFO    </span> <span style=\"color: #c6c6c6; text-decoration-color: #c6c6c6; font-weight: bold\"> Pixel sizes: </span><span style=\"color: #c0c0c0; text-decoration-color: #c0c0c0; font-weight: bold\">0.17</span><span style=\"color: #c6c6c6; text-decoration-color: #c6c6c6; font-weight: bold\"> deg                                                                 </span><a href=\"file:///data/home/cwy/.mylib/miniconda3/envs/3ML/lib/python3.9/site-packages/WCDA_hal/HAL.py\" target=\"_blank\"><span style=\"color: #7f7f7f; text-decoration-color: #7f7f7f\">HAL.py</span></a><span style=\"color: #7f7f7f; text-decoration-color: #7f7f7f\">:</span><a href=\"file:///data/home/cwy/.mylib/miniconda3/envs/3ML/lib/python3.9/site-packages/WCDA_hal/HAL.py#281\" target=\"_blank\"><span style=\"color: #7f7f7f; text-decoration-color: #7f7f7f\">281</span></a>\n",
       "</pre>\n"
      ],
      "text/plain": [
       "\u001b[38;5;46m        \u001b[0m\u001b[38;5;46m \u001b[0m\u001b[38;5;49mINFO    \u001b[0m \u001b[1;38;5;251m Pixel sizes: \u001b[0m\u001b[1;37m0.17\u001b[0m\u001b[1;38;5;251m deg                                                                \u001b[0m\u001b[1;38;5;251m \u001b[0m\u001b]8;id=612568;file:///data/home/cwy/.mylib/miniconda3/envs/3ML/lib/python3.9/site-packages/WCDA_hal/HAL.py\u001b\\\u001b[2mHAL.py\u001b[0m\u001b]8;;\u001b\\\u001b[2m:\u001b[0m\u001b]8;id=266277;file:///data/home/cwy/.mylib/miniconda3/envs/3ML/lib/python3.9/site-packages/WCDA_hal/HAL.py#281\u001b\\\u001b[2m281\u001b[0m\u001b]8;;\u001b\\\n"
      ]
     },
     "metadata": {},
     "output_type": "display_data"
    },
    {
     "data": {
      "text/html": [
       "<pre style=\"white-space:pre;overflow-x:auto;line-height:normal;font-family:Menlo,'DejaVu Sans Mono',consolas,'Courier New',monospace\"><span style=\"color: #00ff00; text-decoration-color: #00ff00\">         </span><span style=\"color: #00ffaf; text-decoration-color: #00ffaf\">INFO    </span> <span style=\"color: #c6c6c6; text-decoration-color: #c6c6c6; font-weight: bold\">                                                                                       </span><a href=\"file:///data/home/cwy/.mylib/miniconda3/envs/3ML/lib/python3.9/site-packages/WCDA_hal/HAL.py\" target=\"_blank\"><span style=\"color: #7f7f7f; text-decoration-color: #7f7f7f\">HAL.py</span></a><span style=\"color: #7f7f7f; text-decoration-color: #7f7f7f\">:</span><a href=\"file:///data/home/cwy/.mylib/miniconda3/envs/3ML/lib/python3.9/site-packages/WCDA_hal/HAL.py#283\" target=\"_blank\"><span style=\"color: #7f7f7f; text-decoration-color: #7f7f7f\">283</span></a>\n",
       "</pre>\n"
      ],
      "text/plain": [
       "\u001b[38;5;46m        \u001b[0m\u001b[38;5;46m \u001b[0m\u001b[38;5;49mINFO    \u001b[0m \u001b[1;38;5;251m                                                                                      \u001b[0m\u001b[1;38;5;251m \u001b[0m\u001b]8;id=197661;file:///data/home/cwy/.mylib/miniconda3/envs/3ML/lib/python3.9/site-packages/WCDA_hal/HAL.py\u001b\\\u001b[2mHAL.py\u001b[0m\u001b]8;;\u001b\\\u001b[2m:\u001b[0m\u001b]8;id=419145;file:///data/home/cwy/.mylib/miniconda3/envs/3ML/lib/python3.9/site-packages/WCDA_hal/HAL.py#283\u001b\\\u001b[2m283\u001b[0m\u001b]8;;\u001b\\\n"
      ]
     },
     "metadata": {},
     "output_type": "display_data"
    },
    {
     "data": {
      "text/html": [
       "<pre style=\"white-space:pre;overflow-x:auto;line-height:normal;font-family:Menlo,'DejaVu Sans Mono',consolas,'Courier New',monospace\"><span style=\"color: #00ff00; text-decoration-color: #00ff00\">         </span><span style=\"color: #00ffaf; text-decoration-color: #00ffaf\">INFO    </span> <span style=\"color: #c6c6c6; text-decoration-color: #c6c6c6; font-weight: bold\"> Response:                                                                             </span><a href=\"file:///data/home/cwy/.mylib/miniconda3/envs/3ML/lib/python3.9/site-packages/WCDA_hal/HAL.py\" target=\"_blank\"><span style=\"color: #7f7f7f; text-decoration-color: #7f7f7f\">HAL.py</span></a><span style=\"color: #7f7f7f; text-decoration-color: #7f7f7f\">:</span><a href=\"file:///data/home/cwy/.mylib/miniconda3/envs/3ML/lib/python3.9/site-packages/WCDA_hal/HAL.py#284\" target=\"_blank\"><span style=\"color: #7f7f7f; text-decoration-color: #7f7f7f\">284</span></a>\n",
       "</pre>\n"
      ],
      "text/plain": [
       "\u001b[38;5;46m        \u001b[0m\u001b[38;5;46m \u001b[0m\u001b[38;5;49mINFO    \u001b[0m \u001b[1;38;5;251m Response:                                                                            \u001b[0m\u001b[1;38;5;251m \u001b[0m\u001b]8;id=352366;file:///data/home/cwy/.mylib/miniconda3/envs/3ML/lib/python3.9/site-packages/WCDA_hal/HAL.py\u001b\\\u001b[2mHAL.py\u001b[0m\u001b]8;;\u001b\\\u001b[2m:\u001b[0m\u001b]8;id=538973;file:///data/home/cwy/.mylib/miniconda3/envs/3ML/lib/python3.9/site-packages/WCDA_hal/HAL.py#284\u001b\\\u001b[2m284\u001b[0m\u001b]8;;\u001b\\\n"
      ]
     },
     "metadata": {},
     "output_type": "display_data"
    },
    {
     "data": {
      "text/html": [
       "<pre style=\"white-space:pre;overflow-x:auto;line-height:normal;font-family:Menlo,'DejaVu Sans Mono',consolas,'Courier New',monospace\"><span style=\"color: #00ff00; text-decoration-color: #00ff00\">         </span><span style=\"color: #00ffaf; text-decoration-color: #00ffaf\">INFO    </span> <span style=\"color: #c6c6c6; text-decoration-color: #c6c6c6; font-weight: bold\"> ---------                                                                             </span><a href=\"file:///data/home/cwy/.mylib/miniconda3/envs/3ML/lib/python3.9/site-packages/WCDA_hal/HAL.py\" target=\"_blank\"><span style=\"color: #7f7f7f; text-decoration-color: #7f7f7f\">HAL.py</span></a><span style=\"color: #7f7f7f; text-decoration-color: #7f7f7f\">:</span><a href=\"file:///data/home/cwy/.mylib/miniconda3/envs/3ML/lib/python3.9/site-packages/WCDA_hal/HAL.py#285\" target=\"_blank\"><span style=\"color: #7f7f7f; text-decoration-color: #7f7f7f\">285</span></a>\n",
       "</pre>\n"
      ],
      "text/plain": [
       "\u001b[38;5;46m        \u001b[0m\u001b[38;5;46m \u001b[0m\u001b[38;5;49mINFO    \u001b[0m \u001b[1;38;5;251m ---------                                                                            \u001b[0m\u001b[1;38;5;251m \u001b[0m\u001b]8;id=733759;file:///data/home/cwy/.mylib/miniconda3/envs/3ML/lib/python3.9/site-packages/WCDA_hal/HAL.py\u001b\\\u001b[2mHAL.py\u001b[0m\u001b]8;;\u001b\\\u001b[2m:\u001b[0m\u001b]8;id=180357;file:///data/home/cwy/.mylib/miniconda3/envs/3ML/lib/python3.9/site-packages/WCDA_hal/HAL.py#285\u001b\\\u001b[2m285\u001b[0m\u001b]8;;\u001b\\\n"
      ]
     },
     "metadata": {},
     "output_type": "display_data"
    },
    {
     "data": {
      "text/html": [
       "<pre style=\"white-space:pre;overflow-x:auto;line-height:normal;font-family:Menlo,'DejaVu Sans Mono',consolas,'Courier New',monospace\"><span style=\"color: #00ff00; text-decoration-color: #00ff00\">         </span><span style=\"color: #00ffaf; text-decoration-color: #00ffaf\">INFO    </span> <span style=\"color: #c6c6c6; text-decoration-color: #c6c6c6; font-weight: bold\"> Response file:                                                                   </span><a href=\"file:///data/home/cwy/.mylib/miniconda3/envs/3ML/lib/python3.9/site-packages/WCDA_hal/response/response.py\" target=\"_blank\"><span style=\"color: #7f7f7f; text-decoration-color: #7f7f7f\">response.py</span></a><span style=\"color: #7f7f7f; text-decoration-color: #7f7f7f\">:</span><a href=\"file:///data/home/cwy/.mylib/miniconda3/envs/3ML/lib/python3.9/site-packages/WCDA_hal/response/response.py#340\" target=\"_blank\"><span style=\"color: #7f7f7f; text-decoration-color: #7f7f7f\">340</span></a>\n",
       "<span style=\"color: #00ff00; text-decoration-color: #00ff00\">         </span>         <span style=\"color: #5f5f5f; text-decoration-color: #5f5f5f; font-weight: bold\">/data/home/cwy/Science/3MLWCDA0.91/Standard/src/../../data/</span><span style=\"color: #000080; text-decoration-color: #000080; font-weight: bold\">DR_ihep_MK2.root</span><span style=\"color: #c6c6c6; text-decoration-color: #c6c6c6; font-weight: bold\">       </span><span style=\"color: #7f7f7f; text-decoration-color: #7f7f7f\">               </span>\n",
       "</pre>\n"
      ],
      "text/plain": [
       "\u001b[38;5;46m        \u001b[0m\u001b[38;5;46m \u001b[0m\u001b[38;5;49mINFO    \u001b[0m \u001b[1;38;5;251m Response file:                                                                  \u001b[0m\u001b[1;38;5;251m \u001b[0m\u001b]8;id=678232;file:///data/home/cwy/.mylib/miniconda3/envs/3ML/lib/python3.9/site-packages/WCDA_hal/response/response.py\u001b\\\u001b[2mresponse.py\u001b[0m\u001b]8;;\u001b\\\u001b[2m:\u001b[0m\u001b]8;id=81820;file:///data/home/cwy/.mylib/miniconda3/envs/3ML/lib/python3.9/site-packages/WCDA_hal/response/response.py#340\u001b\\\u001b[2m340\u001b[0m\u001b]8;;\u001b\\\n",
       "\u001b[38;5;46m         \u001b[0m         \u001b[1;38;5;59m/data/home/cwy/Science/3MLWCDA0.91/Standard/src/../../data/\u001b[0m\u001b[1;34mDR_ihep_MK2.root\u001b[0m\u001b[1;38;5;251m      \u001b[0m\u001b[1;38;5;251m \u001b[0m\u001b[2m               \u001b[0m\n"
      ]
     },
     "metadata": {},
     "output_type": "display_data"
    },
    {
     "data": {
      "text/html": [
       "<pre style=\"white-space:pre;overflow-x:auto;line-height:normal;font-family:Menlo,'DejaVu Sans Mono',consolas,'Courier New',monospace\"><span style=\"color: #00ff00; text-decoration-color: #00ff00\">         </span><span style=\"color: #00ffaf; text-decoration-color: #00ffaf\">INFO    </span> <span style=\"color: #c6c6c6; text-decoration-color: #c6c6c6; font-weight: bold\"> Number of dec bins: </span><span style=\"color: #c0c0c0; text-decoration-color: #c0c0c0; font-weight: bold\">110</span><span style=\"color: #c6c6c6; text-decoration-color: #c6c6c6; font-weight: bold\">                                                          </span><a href=\"file:///data/home/cwy/.mylib/miniconda3/envs/3ML/lib/python3.9/site-packages/WCDA_hal/response/response.py\" target=\"_blank\"><span style=\"color: #7f7f7f; text-decoration-color: #7f7f7f\">response.py</span></a><span style=\"color: #7f7f7f; text-decoration-color: #7f7f7f\">:</span><a href=\"file:///data/home/cwy/.mylib/miniconda3/envs/3ML/lib/python3.9/site-packages/WCDA_hal/response/response.py#341\" target=\"_blank\"><span style=\"color: #7f7f7f; text-decoration-color: #7f7f7f\">341</span></a>\n",
       "</pre>\n"
      ],
      "text/plain": [
       "\u001b[38;5;46m        \u001b[0m\u001b[38;5;46m \u001b[0m\u001b[38;5;49mINFO    \u001b[0m \u001b[1;38;5;251m Number of dec bins: \u001b[0m\u001b[1;37m110\u001b[0m\u001b[1;38;5;251m                                                         \u001b[0m\u001b[1;38;5;251m \u001b[0m\u001b]8;id=701515;file:///data/home/cwy/.mylib/miniconda3/envs/3ML/lib/python3.9/site-packages/WCDA_hal/response/response.py\u001b\\\u001b[2mresponse.py\u001b[0m\u001b]8;;\u001b\\\u001b[2m:\u001b[0m\u001b]8;id=697698;file:///data/home/cwy/.mylib/miniconda3/envs/3ML/lib/python3.9/site-packages/WCDA_hal/response/response.py#341\u001b\\\u001b[2m341\u001b[0m\u001b]8;;\u001b\\\n"
      ]
     },
     "metadata": {},
     "output_type": "display_data"
    },
    {
     "data": {
      "text/html": [
       "<pre style=\"white-space:pre;overflow-x:auto;line-height:normal;font-family:Menlo,'DejaVu Sans Mono',consolas,'Courier New',monospace\"><span style=\"color: #00ff00; text-decoration-color: #00ff00\">         </span><span style=\"color: #00ffaf; text-decoration-color: #00ffaf\">INFO    </span> <span style=\"color: #c6c6c6; text-decoration-color: #c6c6c6; font-weight: bold\"> Number of energy/nHit planes per dec bin_name: </span><span style=\"color: #c0c0c0; text-decoration-color: #c0c0c0; font-weight: bold\">6</span><span style=\"color: #c6c6c6; text-decoration-color: #c6c6c6; font-weight: bold\">                                 </span><a href=\"file:///data/home/cwy/.mylib/miniconda3/envs/3ML/lib/python3.9/site-packages/WCDA_hal/response/response.py\" target=\"_blank\"><span style=\"color: #7f7f7f; text-decoration-color: #7f7f7f\">response.py</span></a><span style=\"color: #7f7f7f; text-decoration-color: #7f7f7f\">:</span><a href=\"file:///data/home/cwy/.mylib/miniconda3/envs/3ML/lib/python3.9/site-packages/WCDA_hal/response/response.py#344\" target=\"_blank\"><span style=\"color: #7f7f7f; text-decoration-color: #7f7f7f\">344</span></a>\n",
       "</pre>\n"
      ],
      "text/plain": [
       "\u001b[38;5;46m        \u001b[0m\u001b[38;5;46m \u001b[0m\u001b[38;5;49mINFO    \u001b[0m \u001b[1;38;5;251m Number of energy/nHit planes per dec bin_name: \u001b[0m\u001b[1;37m6\u001b[0m\u001b[1;38;5;251m                                \u001b[0m\u001b[1;38;5;251m \u001b[0m\u001b]8;id=392332;file:///data/home/cwy/.mylib/miniconda3/envs/3ML/lib/python3.9/site-packages/WCDA_hal/response/response.py\u001b\\\u001b[2mresponse.py\u001b[0m\u001b]8;;\u001b\\\u001b[2m:\u001b[0m\u001b]8;id=476807;file:///data/home/cwy/.mylib/miniconda3/envs/3ML/lib/python3.9/site-packages/WCDA_hal/response/response.py#344\u001b\\\u001b[2m344\u001b[0m\u001b]8;;\u001b\\\n"
      ]
     },
     "metadata": {},
     "output_type": "display_data"
    },
    {
     "data": {
      "text/html": [
       "<pre style=\"white-space:pre;overflow-x:auto;line-height:normal;font-family:Menlo,'DejaVu Sans Mono',consolas,'Courier New',monospace\"><span style=\"color: #00ff00; text-decoration-color: #00ff00\">         </span><span style=\"color: #00ffaf; text-decoration-color: #00ffaf\">INFO    </span> <span style=\"color: #c6c6c6; text-decoration-color: #c6c6c6; font-weight: bold\">                                                                                       </span><a href=\"file:///data/home/cwy/.mylib/miniconda3/envs/3ML/lib/python3.9/site-packages/WCDA_hal/HAL.py\" target=\"_blank\"><span style=\"color: #7f7f7f; text-decoration-color: #7f7f7f\">HAL.py</span></a><span style=\"color: #7f7f7f; text-decoration-color: #7f7f7f\">:</span><a href=\"file:///data/home/cwy/.mylib/miniconda3/envs/3ML/lib/python3.9/site-packages/WCDA_hal/HAL.py#289\" target=\"_blank\"><span style=\"color: #7f7f7f; text-decoration-color: #7f7f7f\">289</span></a>\n",
       "</pre>\n"
      ],
      "text/plain": [
       "\u001b[38;5;46m        \u001b[0m\u001b[38;5;46m \u001b[0m\u001b[38;5;49mINFO    \u001b[0m \u001b[1;38;5;251m                                                                                      \u001b[0m\u001b[1;38;5;251m \u001b[0m\u001b]8;id=646123;file:///data/home/cwy/.mylib/miniconda3/envs/3ML/lib/python3.9/site-packages/WCDA_hal/HAL.py\u001b\\\u001b[2mHAL.py\u001b[0m\u001b]8;;\u001b\\\u001b[2m:\u001b[0m\u001b]8;id=767812;file:///data/home/cwy/.mylib/miniconda3/envs/3ML/lib/python3.9/site-packages/WCDA_hal/HAL.py#289\u001b\\\u001b[2m289\u001b[0m\u001b]8;;\u001b\\\n"
      ]
     },
     "metadata": {},
     "output_type": "display_data"
    },
    {
     "data": {
      "text/html": [
       "<pre style=\"white-space:pre;overflow-x:auto;line-height:normal;font-family:Menlo,'DejaVu Sans Mono',consolas,'Courier New',monospace\"><span style=\"color: #00ff00; text-decoration-color: #00ff00\">         </span><span style=\"color: #00ffaf; text-decoration-color: #00ffaf\">INFO    </span> <span style=\"color: #c6c6c6; text-decoration-color: #c6c6c6; font-weight: bold\"> Map Tree:                                                                             </span><a href=\"file:///data/home/cwy/.mylib/miniconda3/envs/3ML/lib/python3.9/site-packages/WCDA_hal/HAL.py\" target=\"_blank\"><span style=\"color: #7f7f7f; text-decoration-color: #7f7f7f\">HAL.py</span></a><span style=\"color: #7f7f7f; text-decoration-color: #7f7f7f\">:</span><a href=\"file:///data/home/cwy/.mylib/miniconda3/envs/3ML/lib/python3.9/site-packages/WCDA_hal/HAL.py#290\" target=\"_blank\"><span style=\"color: #7f7f7f; text-decoration-color: #7f7f7f\">290</span></a>\n",
       "</pre>\n"
      ],
      "text/plain": [
       "\u001b[38;5;46m        \u001b[0m\u001b[38;5;46m \u001b[0m\u001b[38;5;49mINFO    \u001b[0m \u001b[1;38;5;251m Map Tree:                                                                            \u001b[0m\u001b[1;38;5;251m \u001b[0m\u001b]8;id=821808;file:///data/home/cwy/.mylib/miniconda3/envs/3ML/lib/python3.9/site-packages/WCDA_hal/HAL.py\u001b\\\u001b[2mHAL.py\u001b[0m\u001b]8;;\u001b\\\u001b[2m:\u001b[0m\u001b]8;id=703745;file:///data/home/cwy/.mylib/miniconda3/envs/3ML/lib/python3.9/site-packages/WCDA_hal/HAL.py#290\u001b\\\u001b[2m290\u001b[0m\u001b]8;;\u001b\\\n"
      ]
     },
     "metadata": {},
     "output_type": "display_data"
    },
    {
     "data": {
      "text/html": [
       "<pre style=\"white-space:pre;overflow-x:auto;line-height:normal;font-family:Menlo,'DejaVu Sans Mono',consolas,'Courier New',monospace\"><span style=\"color: #00ff00; text-decoration-color: #00ff00\">         </span><span style=\"color: #00ffaf; text-decoration-color: #00ffaf\">INFO    </span> <span style=\"color: #c6c6c6; text-decoration-color: #c6c6c6; font-weight: bold\"> ----------                                                                            </span><a href=\"file:///data/home/cwy/.mylib/miniconda3/envs/3ML/lib/python3.9/site-packages/WCDA_hal/HAL.py\" target=\"_blank\"><span style=\"color: #7f7f7f; text-decoration-color: #7f7f7f\">HAL.py</span></a><span style=\"color: #7f7f7f; text-decoration-color: #7f7f7f\">:</span><a href=\"file:///data/home/cwy/.mylib/miniconda3/envs/3ML/lib/python3.9/site-packages/WCDA_hal/HAL.py#291\" target=\"_blank\"><span style=\"color: #7f7f7f; text-decoration-color: #7f7f7f\">291</span></a>\n",
       "</pre>\n"
      ],
      "text/plain": [
       "\u001b[38;5;46m        \u001b[0m\u001b[38;5;46m \u001b[0m\u001b[38;5;49mINFO    \u001b[0m \u001b[1;38;5;251m ----------                                                                           \u001b[0m\u001b[1;38;5;251m \u001b[0m\u001b]8;id=386330;file:///data/home/cwy/.mylib/miniconda3/envs/3ML/lib/python3.9/site-packages/WCDA_hal/HAL.py\u001b\\\u001b[2mHAL.py\u001b[0m\u001b]8;;\u001b\\\u001b[2m:\u001b[0m\u001b]8;id=434589;file:///data/home/cwy/.mylib/miniconda3/envs/3ML/lib/python3.9/site-packages/WCDA_hal/HAL.py#291\u001b\\\u001b[2m291\u001b[0m\u001b]8;;\u001b\\\n"
      ]
     },
     "metadata": {},
     "output_type": "display_data"
    },
    {
     "data": {
      "text/html": [
       "<div>\n",
       "<style scoped>\n",
       "    .dataframe tbody tr th:only-of-type {\n",
       "        vertical-align: middle;\n",
       "    }\n",
       "\n",
       "    .dataframe tbody tr th {\n",
       "        vertical-align: top;\n",
       "    }\n",
       "\n",
       "    .dataframe thead th {\n",
       "        text-align: right;\n",
       "    }\n",
       "</style>\n",
       "<table border=\"1\" class=\"dataframe\">\n",
       "  <thead>\n",
       "    <tr style=\"text-align: right;\">\n",
       "      <th></th>\n",
       "      <th>Bin</th>\n",
       "      <th>Nside</th>\n",
       "      <th>Scheme</th>\n",
       "      <th>Obs counts</th>\n",
       "      <th>Bkg counts</th>\n",
       "      <th>obs/bkg</th>\n",
       "      <th>Pixels in ROI</th>\n",
       "      <th>Area (deg^2)</th>\n",
       "    </tr>\n",
       "  </thead>\n",
       "  <tbody>\n",
       "    <tr>\n",
       "      <th>0</th>\n",
       "      <td>0</td>\n",
       "      <td>1024</td>\n",
       "      <td>RING</td>\n",
       "      <td>919559.0</td>\n",
       "      <td>899330.737358</td>\n",
       "      <td>1.022493</td>\n",
       "      <td>8617</td>\n",
       "      <td>28.250755</td>\n",
       "    </tr>\n",
       "    <tr>\n",
       "      <th>1</th>\n",
       "      <td>1</td>\n",
       "      <td>1024</td>\n",
       "      <td>RING</td>\n",
       "      <td>515322.0</td>\n",
       "      <td>494305.317093</td>\n",
       "      <td>1.042518</td>\n",
       "      <td>8617</td>\n",
       "      <td>28.250755</td>\n",
       "    </tr>\n",
       "    <tr>\n",
       "      <th>2</th>\n",
       "      <td>2</td>\n",
       "      <td>1024</td>\n",
       "      <td>RING</td>\n",
       "      <td>94633.0</td>\n",
       "      <td>87627.687593</td>\n",
       "      <td>1.079944</td>\n",
       "      <td>8617</td>\n",
       "      <td>28.250755</td>\n",
       "    </tr>\n",
       "    <tr>\n",
       "      <th>3</th>\n",
       "      <td>3</td>\n",
       "      <td>1024</td>\n",
       "      <td>RING</td>\n",
       "      <td>40100.0</td>\n",
       "      <td>35442.611893</td>\n",
       "      <td>1.131406</td>\n",
       "      <td>8617</td>\n",
       "      <td>28.250755</td>\n",
       "    </tr>\n",
       "    <tr>\n",
       "      <th>4</th>\n",
       "      <td>4</td>\n",
       "      <td>1024</td>\n",
       "      <td>RING</td>\n",
       "      <td>10089.0</td>\n",
       "      <td>8504.780053</td>\n",
       "      <td>1.186274</td>\n",
       "      <td>8617</td>\n",
       "      <td>28.250755</td>\n",
       "    </tr>\n",
       "    <tr>\n",
       "      <th>5</th>\n",
       "      <td>5</td>\n",
       "      <td>1024</td>\n",
       "      <td>RING</td>\n",
       "      <td>3010.0</td>\n",
       "      <td>2391.920537</td>\n",
       "      <td>1.258403</td>\n",
       "      <td>8617</td>\n",
       "      <td>28.250755</td>\n",
       "    </tr>\n",
       "  </tbody>\n",
       "</table>\n",
       "</div>"
      ],
      "text/plain": [
       "  Bin  Nside Scheme  Obs counts     Bkg counts   obs/bkg  Pixels in ROI   \n",
       "0   0   1024   RING    919559.0  899330.737358  1.022493           8617  \\\n",
       "1   1   1024   RING    515322.0  494305.317093  1.042518           8617   \n",
       "2   2   1024   RING     94633.0   87627.687593  1.079944           8617   \n",
       "3   3   1024   RING     40100.0   35442.611893  1.131406           8617   \n",
       "4   4   1024   RING     10089.0    8504.780053  1.186274           8617   \n",
       "5   5   1024   RING      3010.0    2391.920537  1.258403           8617   \n",
       "\n",
       "   Area (deg^2)  \n",
       "0     28.250755  \n",
       "1     28.250755  \n",
       "2     28.250755  \n",
       "3     28.250755  \n",
       "4     28.250755  \n",
       "5     28.250755  "
      ]
     },
     "metadata": {},
     "output_type": "display_data"
    },
    {
     "data": {
      "text/html": [
       "<pre style=\"white-space:pre;overflow-x:auto;line-height:normal;font-family:Menlo,'DejaVu Sans Mono',consolas,'Courier New',monospace\"><span style=\"color: #00ff00; text-decoration-color: #00ff00\">         </span><span style=\"color: #00ffaf; text-decoration-color: #00ffaf\">INFO    </span> <span style=\"color: #c6c6c6; text-decoration-color: #c6c6c6; font-weight: bold\"> This Map Tree contains </span><span style=\"color: #c0c0c0; text-decoration-color: #c0c0c0; font-weight: bold\">784.448</span><span style=\"color: #c6c6c6; text-decoration-color: #c6c6c6; font-weight: bold\"> transits in the first bin                         </span><a href=\"file:///data/home/cwy/.mylib/miniconda3/envs/3ML/lib/python3.9/site-packages/WCDA_hal/maptree/map_tree.py\" target=\"_blank\"><span style=\"color: #7f7f7f; text-decoration-color: #7f7f7f\">map_tree.py</span></a><span style=\"color: #7f7f7f; text-decoration-color: #7f7f7f\">:</span><a href=\"file:///data/home/cwy/.mylib/miniconda3/envs/3ML/lib/python3.9/site-packages/WCDA_hal/maptree/map_tree.py#149\" target=\"_blank\"><span style=\"color: #7f7f7f; text-decoration-color: #7f7f7f\">149</span></a>\n",
       "</pre>\n"
      ],
      "text/plain": [
       "\u001b[38;5;46m        \u001b[0m\u001b[38;5;46m \u001b[0m\u001b[38;5;49mINFO    \u001b[0m \u001b[1;38;5;251m This Map Tree contains \u001b[0m\u001b[1;37m784.448\u001b[0m\u001b[1;38;5;251m transits in the first bin                        \u001b[0m\u001b[1;38;5;251m \u001b[0m\u001b]8;id=61336;file:///data/home/cwy/.mylib/miniconda3/envs/3ML/lib/python3.9/site-packages/WCDA_hal/maptree/map_tree.py\u001b\\\u001b[2mmap_tree.py\u001b[0m\u001b]8;;\u001b\\\u001b[2m:\u001b[0m\u001b]8;id=483494;file:///data/home/cwy/.mylib/miniconda3/envs/3ML/lib/python3.9/site-packages/WCDA_hal/maptree/map_tree.py#149\u001b\\\u001b[2m149\u001b[0m\u001b]8;;\u001b\\\n"
      ]
     },
     "metadata": {},
     "output_type": "display_data"
    },
    {
     "data": {
      "text/html": [
       "<pre style=\"white-space:pre;overflow-x:auto;line-height:normal;font-family:Menlo,'DejaVu Sans Mono',consolas,'Courier New',monospace\"><span style=\"color: #00ff00; text-decoration-color: #00ff00\">         </span><span style=\"color: #00ffaf; text-decoration-color: #00ffaf\">INFO    </span> <span style=\"color: #c6c6c6; text-decoration-color: #c6c6c6; font-weight: bold\"> Total data size: </span><span style=\"color: #c0c0c0; text-decoration-color: #c0c0c0; font-weight: bold\">0.83</span><span style=\"color: #c6c6c6; text-decoration-color: #c6c6c6; font-weight: bold\"> Mb                                                         </span><a href=\"file:///data/home/cwy/.mylib/miniconda3/envs/3ML/lib/python3.9/site-packages/WCDA_hal/maptree/map_tree.py\" target=\"_blank\"><span style=\"color: #7f7f7f; text-decoration-color: #7f7f7f\">map_tree.py</span></a><span style=\"color: #7f7f7f; text-decoration-color: #7f7f7f\">:</span><a href=\"file:///data/home/cwy/.mylib/miniconda3/envs/3ML/lib/python3.9/site-packages/WCDA_hal/maptree/map_tree.py#151\" target=\"_blank\"><span style=\"color: #7f7f7f; text-decoration-color: #7f7f7f\">151</span></a>\n",
       "</pre>\n"
      ],
      "text/plain": [
       "\u001b[38;5;46m        \u001b[0m\u001b[38;5;46m \u001b[0m\u001b[38;5;49mINFO    \u001b[0m \u001b[1;38;5;251m Total data size: \u001b[0m\u001b[1;37m0.83\u001b[0m\u001b[1;38;5;251m Mb                                                        \u001b[0m\u001b[1;38;5;251m \u001b[0m\u001b]8;id=187455;file:///data/home/cwy/.mylib/miniconda3/envs/3ML/lib/python3.9/site-packages/WCDA_hal/maptree/map_tree.py\u001b\\\u001b[2mmap_tree.py\u001b[0m\u001b]8;;\u001b\\\u001b[2m:\u001b[0m\u001b]8;id=634605;file:///data/home/cwy/.mylib/miniconda3/envs/3ML/lib/python3.9/site-packages/WCDA_hal/maptree/map_tree.py#151\u001b\\\u001b[2m151\u001b[0m\u001b]8;;\u001b\\\n"
      ]
     },
     "metadata": {},
     "output_type": "display_data"
    },
    {
     "data": {
      "text/html": [
       "<pre style=\"white-space:pre;overflow-x:auto;line-height:normal;font-family:Menlo,'DejaVu Sans Mono',consolas,'Courier New',monospace\"><span style=\"color: #00ff00; text-decoration-color: #00ff00\">         </span><span style=\"color: #00ffaf; text-decoration-color: #00ffaf\">INFO    </span> <span style=\"color: #c6c6c6; text-decoration-color: #c6c6c6; font-weight: bold\">                                                                                       </span><a href=\"file:///data/home/cwy/.mylib/miniconda3/envs/3ML/lib/python3.9/site-packages/WCDA_hal/HAL.py\" target=\"_blank\"><span style=\"color: #7f7f7f; text-decoration-color: #7f7f7f\">HAL.py</span></a><span style=\"color: #7f7f7f; text-decoration-color: #7f7f7f\">:</span><a href=\"file:///data/home/cwy/.mylib/miniconda3/envs/3ML/lib/python3.9/site-packages/WCDA_hal/HAL.py#295\" target=\"_blank\"><span style=\"color: #7f7f7f; text-decoration-color: #7f7f7f\">295</span></a>\n",
       "</pre>\n"
      ],
      "text/plain": [
       "\u001b[38;5;46m        \u001b[0m\u001b[38;5;46m \u001b[0m\u001b[38;5;49mINFO    \u001b[0m \u001b[1;38;5;251m                                                                                      \u001b[0m\u001b[1;38;5;251m \u001b[0m\u001b]8;id=251144;file:///data/home/cwy/.mylib/miniconda3/envs/3ML/lib/python3.9/site-packages/WCDA_hal/HAL.py\u001b\\\u001b[2mHAL.py\u001b[0m\u001b]8;;\u001b\\\u001b[2m:\u001b[0m\u001b]8;id=87761;file:///data/home/cwy/.mylib/miniconda3/envs/3ML/lib/python3.9/site-packages/WCDA_hal/HAL.py#295\u001b\\\u001b[2m295\u001b[0m\u001b]8;;\u001b\\\n"
      ]
     },
     "metadata": {},
     "output_type": "display_data"
    },
    {
     "data": {
      "text/html": [
       "<pre style=\"white-space:pre;overflow-x:auto;line-height:normal;font-family:Menlo,'DejaVu Sans Mono',consolas,'Courier New',monospace\"><span style=\"color: #00ff00; text-decoration-color: #00ff00\">         </span><span style=\"color: #00ffaf; text-decoration-color: #00ffaf\">INFO    </span> <span style=\"color: #c6c6c6; text-decoration-color: #c6c6c6; font-weight: bold\"> Active energy/nHit planes (</span><span style=\"color: #c0c0c0; text-decoration-color: #c0c0c0; font-weight: bold\">1</span><span style=\"color: #c6c6c6; text-decoration-color: #c6c6c6; font-weight: bold\">):                                                        </span><a href=\"file:///data/home/cwy/.mylib/miniconda3/envs/3ML/lib/python3.9/site-packages/WCDA_hal/HAL.py\" target=\"_blank\"><span style=\"color: #7f7f7f; text-decoration-color: #7f7f7f\">HAL.py</span></a><span style=\"color: #7f7f7f; text-decoration-color: #7f7f7f\">:</span><a href=\"file:///data/home/cwy/.mylib/miniconda3/envs/3ML/lib/python3.9/site-packages/WCDA_hal/HAL.py#296\" target=\"_blank\"><span style=\"color: #7f7f7f; text-decoration-color: #7f7f7f\">296</span></a>\n",
       "</pre>\n"
      ],
      "text/plain": [
       "\u001b[38;5;46m        \u001b[0m\u001b[38;5;46m \u001b[0m\u001b[38;5;49mINFO    \u001b[0m \u001b[1;38;5;251m Active energy/nHit planes \u001b[0m\u001b[1;38;5;251m(\u001b[0m\u001b[1;37m1\u001b[0m\u001b[1;38;5;251m)\u001b[0m\u001b[1;38;5;251m:                                                       \u001b[0m\u001b[1;38;5;251m \u001b[0m\u001b]8;id=17669;file:///data/home/cwy/.mylib/miniconda3/envs/3ML/lib/python3.9/site-packages/WCDA_hal/HAL.py\u001b\\\u001b[2mHAL.py\u001b[0m\u001b]8;;\u001b\\\u001b[2m:\u001b[0m\u001b]8;id=809050;file:///data/home/cwy/.mylib/miniconda3/envs/3ML/lib/python3.9/site-packages/WCDA_hal/HAL.py#296\u001b\\\u001b[2m296\u001b[0m\u001b]8;;\u001b\\\n"
      ]
     },
     "metadata": {},
     "output_type": "display_data"
    },
    {
     "data": {
      "text/html": [
       "<pre style=\"white-space:pre;overflow-x:auto;line-height:normal;font-family:Menlo,'DejaVu Sans Mono',consolas,'Courier New',monospace\"><span style=\"color: #00ff00; text-decoration-color: #00ff00\">         </span><span style=\"color: #00ffaf; text-decoration-color: #00ffaf\">INFO    </span> <span style=\"color: #c6c6c6; text-decoration-color: #c6c6c6; font-weight: bold\"> -------------------------------                                                       </span><a href=\"file:///data/home/cwy/.mylib/miniconda3/envs/3ML/lib/python3.9/site-packages/WCDA_hal/HAL.py\" target=\"_blank\"><span style=\"color: #7f7f7f; text-decoration-color: #7f7f7f\">HAL.py</span></a><span style=\"color: #7f7f7f; text-decoration-color: #7f7f7f\">:</span><a href=\"file:///data/home/cwy/.mylib/miniconda3/envs/3ML/lib/python3.9/site-packages/WCDA_hal/HAL.py#297\" target=\"_blank\"><span style=\"color: #7f7f7f; text-decoration-color: #7f7f7f\">297</span></a>\n",
       "</pre>\n"
      ],
      "text/plain": [
       "\u001b[38;5;46m        \u001b[0m\u001b[38;5;46m \u001b[0m\u001b[38;5;49mINFO    \u001b[0m \u001b[1;38;5;251m -------------------------------                                                      \u001b[0m\u001b[1;38;5;251m \u001b[0m\u001b]8;id=791470;file:///data/home/cwy/.mylib/miniconda3/envs/3ML/lib/python3.9/site-packages/WCDA_hal/HAL.py\u001b\\\u001b[2mHAL.py\u001b[0m\u001b]8;;\u001b\\\u001b[2m:\u001b[0m\u001b]8;id=859483;file:///data/home/cwy/.mylib/miniconda3/envs/3ML/lib/python3.9/site-packages/WCDA_hal/HAL.py#297\u001b\\\u001b[2m297\u001b[0m\u001b]8;;\u001b\\\n"
      ]
     },
     "metadata": {},
     "output_type": "display_data"
    },
    {
     "data": {
      "text/html": [
       "<pre style=\"white-space:pre;overflow-x:auto;line-height:normal;font-family:Menlo,'DejaVu Sans Mono',consolas,'Courier New',monospace\"><span style=\"color: #00ff00; text-decoration-color: #00ff00\">         </span><span style=\"color: #00ffaf; text-decoration-color: #00ffaf\">INFO    </span> <span style=\"color: #c6c6c6; text-decoration-color: #c6c6c6; font-weight: bold\"> [</span><span style=\"color: #5f5f5f; text-decoration-color: #5f5f5f; font-weight: bold\">'5'</span><span style=\"color: #c6c6c6; text-decoration-color: #c6c6c6; font-weight: bold\">]                                                                                 </span><a href=\"file:///data/home/cwy/.mylib/miniconda3/envs/3ML/lib/python3.9/site-packages/WCDA_hal/HAL.py\" target=\"_blank\"><span style=\"color: #7f7f7f; text-decoration-color: #7f7f7f\">HAL.py</span></a><span style=\"color: #7f7f7f; text-decoration-color: #7f7f7f\">:</span><a href=\"file:///data/home/cwy/.mylib/miniconda3/envs/3ML/lib/python3.9/site-packages/WCDA_hal/HAL.py#298\" target=\"_blank\"><span style=\"color: #7f7f7f; text-decoration-color: #7f7f7f\">298</span></a>\n",
       "</pre>\n"
      ],
      "text/plain": [
       "\u001b[38;5;46m        \u001b[0m\u001b[38;5;46m \u001b[0m\u001b[38;5;49mINFO    \u001b[0m \u001b[1;38;5;251m \u001b[0m\u001b[1;38;5;251m[\u001b[0m\u001b[1;38;5;59m'5'\u001b[0m\u001b[1;38;5;251m]\u001b[0m\u001b[1;38;5;251m                                                                                \u001b[0m\u001b[1;38;5;251m \u001b[0m\u001b]8;id=880467;file:///data/home/cwy/.mylib/miniconda3/envs/3ML/lib/python3.9/site-packages/WCDA_hal/HAL.py\u001b\\\u001b[2mHAL.py\u001b[0m\u001b]8;;\u001b\\\u001b[2m:\u001b[0m\u001b]8;id=840584;file:///data/home/cwy/.mylib/miniconda3/envs/3ML/lib/python3.9/site-packages/WCDA_hal/HAL.py#298\u001b\\\u001b[2m298\u001b[0m\u001b]8;;\u001b\\\n"
      ]
     },
     "metadata": {},
     "output_type": "display_data"
    }
   ],
   "source": [
    "for bin in range(6):\n",
    "    # set only one active bin\n",
    "    WCDA.set_active_measurements(bin, bin)\n",
    "\n",
    "    fig = WCDA.display_stacked_image(smoothing_kernel_sigma=0.25)\n",
    "    fig.suptitle(\"Bin {}\".format(bin))\n",
    "WCDA.display()"
   ]
  },
  {
   "cell_type": "code",
   "execution_count": 5,
   "metadata": {},
   "outputs": [],
   "source": [
    "# # A point source with a power law spectrum\n",
    "\n",
    "# source1_sp = Powerlaw()\n",
    "# source1 = PointSource(\"source1\", ra=23.5, dec=-22.7, spectral_shape=source1_sp)\n",
    "\n",
    "# # Another source with a log-parabolic spectrum plus a power law\n",
    "\n",
    "# source2_sp = Log_parabola() + Powerlaw()\n",
    "# source2 = PointSource(\"source2\", ra=30.5, dec=-27.1, spectral_shape=source2_sp)\n",
    "\n",
    "# # A third source defined in terms of its Galactic latitude and longitude\n",
    "# source3_sp = Cutoff_powerlaw()\n",
    "# source3 = PointSource(\"source3\", l=216.1, b=-74.56, spectral_shape=source3_sp)\n",
    "\n",
    "# An extended source with a Gaussian shape centered on R.A., Dec = (3282.5, 0)\n",
    "# and a sigma of 3.0 degrees\n",
    "fluxUnit = 1. / (u.TeV * u.cm**2 * u.s)\n",
    "fitrange=0.7\n",
    "\n",
    "ext1_spectral = Powerlaw()\n",
    "ra1=279.37\n",
    "dec1=-6.96 \n",
    "ext1_spatial = Gaussian_on_sphere(lon0=ra1, lat0=dec1, sigma=0.5)\n",
    "# ext1_spatial = Continuous_injection_diffusion_legacy()\n",
    "\n",
    "ext1 = ExtendedSource(\"ext1\", spatial_shape=ext1_spatial, spectral_shape=ext1_spectral)\n",
    "\n",
    "ext1_spectral.K = 1.3e-13 * fluxUnit\n",
    "ext1_spectral.K.fix=False\n",
    "ext1_spectral.K.bounds = (1e-15 * fluxUnit, 1e-10*fluxUnit)\n",
    "\n",
    "ext1_spectral.piv = 3 * u.TeV\n",
    "ext1_spectral.piv.fix = True\n",
    "\n",
    "ext1_spectral.index =-2.6\n",
    "ext1_spectral.index.fix=True\n",
    "ext1_spectral.index.bounds = (-4., -1.)\n",
    "\n",
    "ext1_spatial.lon0.bounds=(ra1-fitrange,ra1+fitrange)*u.degree\n",
    "ext1_spatial.lat0.bounds=(dec1-fitrange,dec1+fitrange)*u.degree\n",
    "\n",
    "ext1_spatial.sigma.max_value=1.5*u.degree\n",
    "\n",
    "# # An extended source with a 3D function\n",
    "# # (i.e., the function defines both the spatial and the spectral shape)\n",
    "# ext2_spatial = Continuous_injection_diffusion()\n",
    "# ext2 = ExtendedSource(\"ext2\", ext2_spatial)\n",
    "\n",
    "\n",
    "ra2=280\n",
    "dec2=-5.7\n",
    "\n",
    "ext2_spatial = Gaussian_on_sphere(lon0=ra2, lat0=dec2, sigma=0.5)\n",
    "ext2_spectral = Powerlaw()\n",
    "\n",
    "ext2 = ExtendedSource(\"ext2\", spatial_shape=ext2_spatial, spectral_shape=ext2_spectral)\n",
    "\n",
    "ext2_spectral.K = 1.3e-13 * fluxUnit\n",
    "ext2_spectral.K.fix=False\n",
    "ext2_spectral.K.bounds = (1e-15 * fluxUnit, 1e-10*fluxUnit)\n",
    "\n",
    "ext2_spectral.piv = 3 * u.TeV\n",
    "ext2_spectral.piv.fix = True\n",
    "\n",
    "ext2_spectral.index =-2.2\n",
    "ext2_spectral.index.fix=True\n",
    "\n",
    "ext2_spatial.lon0.bounds=(ra2-fitrange,ra2+fitrange)*u.degree\n",
    "ext2_spatial.lat0.bounds=(dec2-fitrange,dec2+fitrange)*u.degree\n",
    "\n",
    "ext2_spatial.sigma.max_value=1.5*u.degree\n",
    "\n",
    "\n",
    "ra3=278.7\n",
    "dec3=-8.7\n",
    "\n",
    "ext3_spatial = Gaussian_on_sphere(lon0=ra3, lat0=dec3, sigma=0.5)\n",
    "ext3_spectral = Powerlaw()\n",
    "\n",
    "ext3 = ExtendedSource(\"ext3\", spatial_shape=ext3_spatial, spectral_shape=ext3_spectral)\n",
    "\n",
    "ext3_spectral.K = 1.3e-13 * fluxUnit\n",
    "ext3_spectral.K.fix=False\n",
    "ext3_spectral.K.bounds = (1e-15 * fluxUnit, 1e-10*fluxUnit)\n",
    "\n",
    "ext3_spectral.piv = 3 * u.TeV\n",
    "ext3_spectral.piv.fix = True\n",
    "\n",
    "ext3_spectral.index =-2.6\n",
    "ext3_spectral.index.fix=True\n",
    "\n",
    "ext3_spatial.lon0.bounds=(ra3-fitrange,ra3+fitrange)*u.degree\n",
    "ext3_spatial.lat0.bounds=(dec3-fitrange,dec3+fitrange)*u.degree\n",
    "\n",
    "ext3_spatial.sigma.max_value=1.5*u.degree\n",
    "\n",
    "################################################\n",
    "pt1_spectral = Powerlaw()\n",
    "ra1=280\n",
    "dec1=-5.9\n",
    "fitrange=2\n",
    "# ra1=285.74\n",
    "# dec1=-0.5\n",
    "# pt1_spatial = Gaussian_on_sphere(lon0=ra1, lat0=dec1, sigma=0.5)\n",
    "# ext1_spatial = Continuous_injection_diffusion_legacy()\n",
    "\n",
    "pt1 = PointSource(\"pt1\", ra=ra1, dec=dec1,spectral_shape=pt1_spectral)\n",
    "\n",
    "pt1_spectral.K = 1.3e-13 * fluxUnit\n",
    "pt1_spectral.K.fix=False\n",
    "pt1_spectral.K.bounds = (1e-15 * fluxUnit, 1e-10*fluxUnit)\n",
    "\n",
    "pt1_spectral.piv = 3 * u.TeV\n",
    "pt1_spectral.piv.fix = True\n",
    "\n",
    "pt1_spectral.index =-2.6\n",
    "pt1_spectral.index.fix=True\n",
    "pt1_spectral.index.bounds = (-4., -1.)\n",
    "pt1.position.ra.free=True\n",
    "pt1.position.dec.free=True\n",
    "pt1.position.ra.bounds=(ra1-fitrange,ra1+fitrange)*u.degree\n",
    "pt1.position.dec.bounds=(dec1-fitrange,dec1+fitrange)*u.degree\n",
    "\n",
    "################################################\n",
    "bg1_spatial = Latitude_galactic_diffuse()\n",
    "bg1_spectral = Powerlaw()\n",
    "\n",
    "bg1 = ExtendedSource(\"bg1\", spatial_shape=bg1_spatial, spectral_shape=bg1_spectral)\n",
    "\n",
    "bg1_spectral.K=1e-14*fluxUnit\n",
    "bg1_spectral.K.fix=False\n",
    "bg1_spectral.K.bounds=(1e-15,1e-10)*fluxUnit\n",
    "bg1_spectral.piv=3*u.TeV\n",
    "bg1_spectral.piv.fix=True\n",
    "bg1_spectral.index=-2.3\n",
    "bg1_spectral.index.fix=True\n",
    "bg1_spatial.K=1\n",
    "bg1_spatial.K.fix=False\n",
    "bg1_spatial.K.bounds=(1e-4,1e4)\n",
    "bg1_spatial.sigma_b=1*u.degree\n",
    "bg1_spatial.sigma_b.bounds=(-5,5)*u.degree\n",
    "# bg1_spatial.sigma_b.fix=True\n",
    "bg1_spatial.l_min=28*u.degree\n",
    "bg1_spatial.l_min.bounds=(27.5,28.5)*u.degree\n",
    "# bg1_spatial.l_min.fix=True\n",
    "bg1_spatial.l_max=34*u.degree\n",
    "bg1_spatial.l_max.bounds=(33.5,34.5)*u.degree\n",
    "# bg1_spatial.l_max.fix=True"
   ]
  },
  {
   "cell_type": "code",
   "execution_count": 6,
   "metadata": {},
   "outputs": [
    {
     "data": {
      "text/html": [
       "Model summary:<br><br><div>\n",
       "<style scoped>\n",
       "    .dataframe tbody tr th:only-of-type {\n",
       "        vertical-align: middle;\n",
       "    }\n",
       "\n",
       "    .dataframe tbody tr th {\n",
       "        vertical-align: top;\n",
       "    }\n",
       "\n",
       "    .dataframe thead th {\n",
       "        text-align: right;\n",
       "    }\n",
       "</style>\n",
       "<table border=\"1\" class=\"dataframe\">\n",
       "  <thead>\n",
       "    <tr style=\"text-align: right;\">\n",
       "      <th></th>\n",
       "      <th>N</th>\n",
       "    </tr>\n",
       "  </thead>\n",
       "  <tbody>\n",
       "    <tr>\n",
       "      <th>Point sources</th>\n",
       "      <td>1</td>\n",
       "    </tr>\n",
       "    <tr>\n",
       "      <th>Extended sources</th>\n",
       "      <td>3</td>\n",
       "    </tr>\n",
       "    <tr>\n",
       "      <th>Particle sources</th>\n",
       "      <td>0</td>\n",
       "    </tr>\n",
       "  </tbody>\n",
       "</table>\n",
       "</div><br><br>Free parameters (15):<br><br><div>\n",
       "<style scoped>\n",
       "    .dataframe tbody tr th:only-of-type {\n",
       "        vertical-align: middle;\n",
       "    }\n",
       "\n",
       "    .dataframe tbody tr th {\n",
       "        vertical-align: top;\n",
       "    }\n",
       "\n",
       "    .dataframe thead th {\n",
       "        text-align: right;\n",
       "    }\n",
       "</style>\n",
       "<table border=\"1\" class=\"dataframe\">\n",
       "  <thead>\n",
       "    <tr style=\"text-align: right;\">\n",
       "      <th></th>\n",
       "      <th>value</th>\n",
       "      <th>min_value</th>\n",
       "      <th>max_value</th>\n",
       "      <th>unit</th>\n",
       "    </tr>\n",
       "  </thead>\n",
       "  <tbody>\n",
       "    <tr>\n",
       "      <th>ext1.Gaussian_on_sphere.lon0</th>\n",
       "      <td>279.37</td>\n",
       "      <td>278.67</td>\n",
       "      <td>280.07</td>\n",
       "      <td>deg</td>\n",
       "    </tr>\n",
       "    <tr>\n",
       "      <th>ext1.Gaussian_on_sphere.lat0</th>\n",
       "      <td>-6.96</td>\n",
       "      <td>-7.66</td>\n",
       "      <td>-6.26</td>\n",
       "      <td>deg</td>\n",
       "    </tr>\n",
       "    <tr>\n",
       "      <th>ext1.Gaussian_on_sphere.sigma</th>\n",
       "      <td>0.5</td>\n",
       "      <td>0.0</td>\n",
       "      <td>1.5</td>\n",
       "      <td>deg</td>\n",
       "    </tr>\n",
       "    <tr>\n",
       "      <th>ext1.spectrum.main.Powerlaw.K</th>\n",
       "      <td>0.0</td>\n",
       "      <td>0.0</td>\n",
       "      <td>0.0</td>\n",
       "      <td>keV-1 s-1 cm-2</td>\n",
       "    </tr>\n",
       "    <tr>\n",
       "      <th>ext2.Gaussian_on_sphere.lon0</th>\n",
       "      <td>280.0</td>\n",
       "      <td>279.3</td>\n",
       "      <td>280.7</td>\n",
       "      <td>deg</td>\n",
       "    </tr>\n",
       "    <tr>\n",
       "      <th>ext2.Gaussian_on_sphere.lat0</th>\n",
       "      <td>-5.7</td>\n",
       "      <td>-6.4</td>\n",
       "      <td>-5.0</td>\n",
       "      <td>deg</td>\n",
       "    </tr>\n",
       "    <tr>\n",
       "      <th>ext2.Gaussian_on_sphere.sigma</th>\n",
       "      <td>0.5</td>\n",
       "      <td>0.0</td>\n",
       "      <td>1.5</td>\n",
       "      <td>deg</td>\n",
       "    </tr>\n",
       "    <tr>\n",
       "      <th>ext2.spectrum.main.Powerlaw.K</th>\n",
       "      <td>0.0</td>\n",
       "      <td>0.0</td>\n",
       "      <td>0.0</td>\n",
       "      <td>keV-1 s-1 cm-2</td>\n",
       "    </tr>\n",
       "    <tr>\n",
       "      <th>ext3.Gaussian_on_sphere.lon0</th>\n",
       "      <td>278.7</td>\n",
       "      <td>278.0</td>\n",
       "      <td>279.4</td>\n",
       "      <td>deg</td>\n",
       "    </tr>\n",
       "    <tr>\n",
       "      <th>ext3.Gaussian_on_sphere.lat0</th>\n",
       "      <td>-8.7</td>\n",
       "      <td>-9.4</td>\n",
       "      <td>-8.0</td>\n",
       "      <td>deg</td>\n",
       "    </tr>\n",
       "    <tr>\n",
       "      <th>ext3.Gaussian_on_sphere.sigma</th>\n",
       "      <td>0.5</td>\n",
       "      <td>0.0</td>\n",
       "      <td>1.5</td>\n",
       "      <td>deg</td>\n",
       "    </tr>\n",
       "    <tr>\n",
       "      <th>ext3.spectrum.main.Powerlaw.K</th>\n",
       "      <td>0.0</td>\n",
       "      <td>0.0</td>\n",
       "      <td>0.0</td>\n",
       "      <td>keV-1 s-1 cm-2</td>\n",
       "    </tr>\n",
       "    <tr>\n",
       "      <th>pt1.position.ra</th>\n",
       "      <td>280.0</td>\n",
       "      <td>278.0</td>\n",
       "      <td>282.0</td>\n",
       "      <td>deg</td>\n",
       "    </tr>\n",
       "    <tr>\n",
       "      <th>pt1.position.dec</th>\n",
       "      <td>-5.9</td>\n",
       "      <td>-7.9</td>\n",
       "      <td>-3.9</td>\n",
       "      <td>deg</td>\n",
       "    </tr>\n",
       "    <tr>\n",
       "      <th>pt1.spectrum.main.Powerlaw.K</th>\n",
       "      <td>0.0</td>\n",
       "      <td>0.0</td>\n",
       "      <td>0.0</td>\n",
       "      <td>keV-1 s-1 cm-2</td>\n",
       "    </tr>\n",
       "  </tbody>\n",
       "</table>\n",
       "</div><br><br>Fixed parameters (8):<br><br><div>\n",
       "<style scoped>\n",
       "    .dataframe tbody tr th:only-of-type {\n",
       "        vertical-align: middle;\n",
       "    }\n",
       "\n",
       "    .dataframe tbody tr th {\n",
       "        vertical-align: top;\n",
       "    }\n",
       "\n",
       "    .dataframe thead th {\n",
       "        text-align: right;\n",
       "    }\n",
       "</style>\n",
       "<table border=\"1\" class=\"dataframe\">\n",
       "  <thead>\n",
       "    <tr style=\"text-align: right;\">\n",
       "      <th></th>\n",
       "      <th>value</th>\n",
       "      <th>min_value</th>\n",
       "      <th>max_value</th>\n",
       "      <th>unit</th>\n",
       "    </tr>\n",
       "  </thead>\n",
       "  <tbody>\n",
       "    <tr>\n",
       "      <th>ext1.spectrum.main.Powerlaw.piv</th>\n",
       "      <td>3000000000.0</td>\n",
       "      <td>None</td>\n",
       "      <td>None</td>\n",
       "      <td>keV</td>\n",
       "    </tr>\n",
       "    <tr>\n",
       "      <th>ext1.spectrum.main.Powerlaw.index</th>\n",
       "      <td>-2.6</td>\n",
       "      <td>-4.0</td>\n",
       "      <td>-1.0</td>\n",
       "      <td></td>\n",
       "    </tr>\n",
       "    <tr>\n",
       "      <th>ext2.spectrum.main.Powerlaw.piv</th>\n",
       "      <td>3000000000.0</td>\n",
       "      <td>None</td>\n",
       "      <td>None</td>\n",
       "      <td>keV</td>\n",
       "    </tr>\n",
       "    <tr>\n",
       "      <th>ext2.spectrum.main.Powerlaw.index</th>\n",
       "      <td>-2.2</td>\n",
       "      <td>-10.0</td>\n",
       "      <td>10.0</td>\n",
       "      <td></td>\n",
       "    </tr>\n",
       "    <tr>\n",
       "      <th>ext3.spectrum.main.Powerlaw.piv</th>\n",
       "      <td>3000000000.0</td>\n",
       "      <td>None</td>\n",
       "      <td>None</td>\n",
       "      <td>keV</td>\n",
       "    </tr>\n",
       "    <tr>\n",
       "      <th>ext3.spectrum.main.Powerlaw.index</th>\n",
       "      <td>-2.6</td>\n",
       "      <td>-10.0</td>\n",
       "      <td>10.0</td>\n",
       "      <td></td>\n",
       "    </tr>\n",
       "    <tr>\n",
       "      <th>pt1.spectrum.main.Powerlaw.piv</th>\n",
       "      <td>3000000000.0</td>\n",
       "      <td>None</td>\n",
       "      <td>None</td>\n",
       "      <td>keV</td>\n",
       "    </tr>\n",
       "    <tr>\n",
       "      <th>pt1.spectrum.main.Powerlaw.index</th>\n",
       "      <td>-2.6</td>\n",
       "      <td>-4.0</td>\n",
       "      <td>-1.0</td>\n",
       "      <td></td>\n",
       "    </tr>\n",
       "  </tbody>\n",
       "</table>\n",
       "</div><br><br>Properties (0):<br><br>(none)<br><br><br>Linked parameters (0):<br><br>(none)<br><br>Independent variables:<br><br>(none)<br><br>Linked functions (0):<br><br>(none)<br>"
      ],
      "text/plain": [
       "Model summary:\n",
       "==============\n",
       "\n",
       "                  N\n",
       "Point sources     1\n",
       "Extended sources  3\n",
       "Particle sources  0\n",
       "\n",
       "Free parameters (15):\n",
       "--------------------\n",
       "\n",
       "                                value min_value max_value            unit\n",
       "ext1.Gaussian_on_sphere.lon0   279.37    278.67    280.07             deg\n",
       "ext1.Gaussian_on_sphere.lat0    -6.96     -7.66     -6.26             deg\n",
       "ext1.Gaussian_on_sphere.sigma     0.5       0.0       1.5             deg\n",
       "ext1.spectrum.main.Powerlaw.K     0.0       0.0       0.0  keV-1 s-1 cm-2\n",
       "ext2.Gaussian_on_sphere.lon0    280.0     279.3     280.7             deg\n",
       "ext2.Gaussian_on_sphere.lat0     -5.7      -6.4      -5.0             deg\n",
       "ext2.Gaussian_on_sphere.sigma     0.5       0.0       1.5             deg\n",
       "ext2.spectrum.main.Powerlaw.K     0.0       0.0       0.0  keV-1 s-1 cm-2\n",
       "ext3.Gaussian_on_sphere.lon0    278.7     278.0     279.4             deg\n",
       "ext3.Gaussian_on_sphere.lat0     -8.7      -9.4      -8.0             deg\n",
       "ext3.Gaussian_on_sphere.sigma     0.5       0.0       1.5             deg\n",
       "ext3.spectrum.main.Powerlaw.K     0.0       0.0       0.0  keV-1 s-1 cm-2\n",
       "pt1.position.ra                 280.0     278.0     282.0             deg\n",
       "pt1.position.dec                 -5.9      -7.9      -3.9             deg\n",
       "pt1.spectrum.main.Powerlaw.K      0.0       0.0       0.0  keV-1 s-1 cm-2\n",
       "\n",
       "Fixed parameters (8):\n",
       "---------------------\n",
       "\n",
       "                                          value min_value max_value unit\n",
       "ext1.spectrum.main.Powerlaw.piv    3000000000.0      None      None  keV\n",
       "ext1.spectrum.main.Powerlaw.index          -2.6      -4.0      -1.0     \n",
       "ext2.spectrum.main.Powerlaw.piv    3000000000.0      None      None  keV\n",
       "ext2.spectrum.main.Powerlaw.index          -2.2     -10.0      10.0     \n",
       "ext3.spectrum.main.Powerlaw.piv    3000000000.0      None      None  keV\n",
       "ext3.spectrum.main.Powerlaw.index          -2.6     -10.0      10.0     \n",
       "pt1.spectrum.main.Powerlaw.piv     3000000000.0      None      None  keV\n",
       "pt1.spectrum.main.Powerlaw.index           -2.6      -4.0      -1.0     \n",
       "\n",
       "Properties (0):\n",
       "--------------------\n",
       "\n",
       "(none)\n",
       "\n",
       "\n",
       "Linked parameters (0):\n",
       "----------------------\n",
       "\n",
       "(none)\n",
       "\n",
       "Independent variables:\n",
       "----------------------\n",
       "\n",
       "(none)\n",
       "\n",
       "Linked functions (0):\n",
       "----------------------\n",
       "\n",
       "(none)"
      ]
     },
     "metadata": {},
     "output_type": "display_data"
    }
   ],
   "source": [
    "lm = Model(ext1, ext2, ext3, pt1) #, ext2, ext3 ,bg1\n",
    "\n",
    "# We can see a summary of the model like this:\n",
    "lm.display(complete=True)"
   ]
  },
  {
   "cell_type": "code",
   "execution_count": 5,
   "metadata": {},
   "outputs": [],
   "source": [
    "spectrum0=Powerlaw()\n",
    "source0=ExtendedSource('zero',spatial_shape=ext1_spatial,spectral_shape=spectrum0)\n",
    "fluxUnit = 1. / (u.TeV * u.cm**2 * u.s)\n",
    "spectrum0.K=1.e-20 * fluxUnit\n",
    "spectrum0.K.fix=True\n",
    "#spectrum3.K.bounds = (1e-15*fluxUnit, 1e-11*fluxUnit)\n",
    "spectrum0.piv = 3 * u.TeV\n",
    "spectrum0.piv.fix = True\n",
    "spectrum0.index=-2.6\n",
    "spectrum0.index.fix=True\n",
    "\n",
    "lm0=Model(source0)"
   ]
  },
  {
   "cell_type": "code",
   "execution_count": 9,
   "metadata": {},
   "outputs": [
    {
     "ename": "NameError",
     "evalue": "name 'lm0' is not defined",
     "output_type": "error",
     "traceback": [
      "\u001b[0;31m---------------------------------------------------------------------------\u001b[0m",
      "\u001b[0;31mNameError\u001b[0m                                 Traceback (most recent call last)",
      "\u001b[1;32m/data/home/cwy/Science/3MLWCDA0.91/Standard/src/G25.ipynb 单元格 7\u001b[0m line \u001b[0;36m1\n\u001b[1;32m     <a href='vscode-notebook-cell://ssh-remote%2Bcwy/data/home/cwy/Science/3MLWCDA0.91/Standard/src/G25.ipynb#W6sdnNjb2RlLXJlbW90ZQ%3D%3D?line=10'>11</a>\u001b[0m WCDA\u001b[39m.\u001b[39mset_active_measurements(i,i)\n\u001b[1;32m     <a href='vscode-notebook-cell://ssh-remote%2Bcwy/data/home/cwy/Science/3MLWCDA0.91/Standard/src/G25.ipynb#W6sdnNjb2RlLXJlbW90ZQ%3D%3D?line=11'>12</a>\u001b[0m datalist \u001b[39m=\u001b[39m DataList(WCDA)\n\u001b[0;32m---> <a href='vscode-notebook-cell://ssh-remote%2Bcwy/data/home/cwy/Science/3MLWCDA0.91/Standard/src/G25.ipynb#W6sdnNjb2RlLXJlbW90ZQ%3D%3D?line=12'>13</a>\u001b[0m jl_0 \u001b[39m=\u001b[39m JointLikelihood(lm0, datalist, verbose\u001b[39m=\u001b[39m\u001b[39mTrue\u001b[39;00m)\n\u001b[1;32m     <a href='vscode-notebook-cell://ssh-remote%2Bcwy/data/home/cwy/Science/3MLWCDA0.91/Standard/src/G25.ipynb#W6sdnNjb2RlLXJlbW90ZQ%3D%3D?line=13'>14</a>\u001b[0m lll0\u001b[39m=\u001b[39mWCDA\u001b[39m.\u001b[39mget_log_like()\n\u001b[1;32m     <a href='vscode-notebook-cell://ssh-remote%2Bcwy/data/home/cwy/Science/3MLWCDA0.91/Standard/src/G25.ipynb#W6sdnNjb2RlLXJlbW90ZQ%3D%3D?line=14'>15</a>\u001b[0m jl \u001b[39m=\u001b[39m JointLikelihood(lm, datalist, verbose\u001b[39m=\u001b[39m\u001b[39mTrue\u001b[39;00m)\n",
      "\u001b[0;31mNameError\u001b[0m: name 'lm0' is not defined"
     ]
    }
   ],
   "source": [
    "# time1 = strftime(\"%m-%d-%H\", localtime())\n",
    "# os.system('mkdir ./%s/'%time1)\n",
    "rllh=[]\n",
    "result=[]\n",
    "activate_progress_bars()\n",
    "# for i in trange(10, desc=\"progressive\"):\n",
    "#     pass\n",
    "# for i in trange(13, desc=\"progressive\"):\n",
    "i=5\n",
    "ii = str(i)\n",
    "WCDA.set_active_measurements(i,i)\n",
    "datalist = DataList(WCDA)\n",
    "jl_0 = JointLikelihood(lm0, datalist, verbose=True)\n",
    "lll0=WCDA.get_log_like()\n",
    "jl = JointLikelihood(lm, datalist, verbose=True)\n",
    "jl.set_minimizer(\"minuit\")\n",
    "param_df, like_df = jl.fit()\n",
    "results=jl.results\n",
    "fig = WCDA.display_fit(smoothing_kernel_sigma=0.25, display_colorbar=True)\n",
    "fig.savefig(\"./%s/fit_result_%i.pdf\"%(time1,i))\n",
    "\n",
    "TS1 = jl.compute_TS(\"ext1\",like_df).values[0][2]\n",
    "TS2 = jl.compute_TS(\"ext2\",like_df).values[0][2]\n",
    "TS3 = jl.compute_TS(\"ext3\",like_df).values[0][2]\n",
    "TS_pt = jl.compute_TS(\"pt1\",like_df).values[0][2]\n",
    "lll=WCDA.get_log_like()\n",
    "TS_all=2*(lll-lll0)\n",
    "\n",
    "freepars = []\n",
    "fixedpars = []\n",
    "mat=param_df.as_matrix()\n",
    "for ipar in range (0,len(param_df.index)):\n",
    "    freepars.append(\"%-35s %3.6g %3.2g +%3.2g (%3.2g) %s\" % (param_df.index[ipar],mat[ipar][0],mat[ipar][1],mat[ipar][2],mat[ipar][3],mat[ipar][4]))\n",
    "for p in lm.parameters:\n",
    "    par = lm.parameters[p]\n",
    "    #     if par.free:\n",
    "        #        freepars.append(\"%-45s %35.6g %s\" % (p, par.value, par._unit))\n",
    "    if par.fix:\n",
    "        fixedpars.append(\"%-45s %35.6g %s\" % (p, par.value, par._unit))\n",
    "with open(\"./%s/output_fit_%s.txt\"%(time1,time1), \"a+\") as f:\n",
    "    f.write(\"\\n#################################%i\\nBin%d\\n\"%(i,i))\n",
    "    f.write(\"Test statistic: %g\\n\" % TS_all)\n",
    "    f.write(\"EXT1:\"+ str(TS1)  + \";    W43:\" + str(TS2) + \";    EXT2:\" + str(TS3) + \";     PT1\" + str(TS_pt) + \"\\r\\n\") # \n",
    "    f.write(\"\\nFree parameters:\\n\")\n",
    "    for l in freepars:\n",
    "        f.write(\"%s\\n\" % l)\n",
    "    f.write(\"\\nFixed parameters:\\n\")\n",
    "    for l in fixedpars:\n",
    "        f.write(\"%s\\n\" % l)\n",
    "\n",
    "# rllh.append([i,TS1,TS2,TS3,TS_all,lll])\n",
    "mat=param_df.as_matrix()\n",
    "result.append([i,mat])"
   ]
  },
  {
   "cell_type": "code",
   "execution_count": null,
   "metadata": {},
   "outputs": [],
   "source": [
    "result[3]"
   ]
  },
  {
   "cell_type": "code",
   "execution_count": null,
   "metadata": {},
   "outputs": [],
   "source": [
    "plt.figure() #constrained_layout=True\n",
    "\n",
    "ax1=plt.subplot(3, 1, 2)\n",
    "plt.errorbar([aa[0] for aa in result],[bb[1][2][0] for bb in result],yerr=[[abs(cc[1][2][1]) for cc in result],[abs(dd[1][2][2]) for dd in result]],fmt='bo-',label=\"Ext1\",elinewidth=2,capsize=4)\n",
    "plt.setp(ax1.get_xticklabels(), visible=False)\n",
    "plt.grid()\n",
    "# plt.xlabel(\"Nhit_bin\")\n",
    "plt.ylabel(\"Sigma[$^\\circ$]\")\n",
    "plt.legend()\n",
    "\n",
    "ax2=plt.subplot(3, 1, 1, sharex=ax1, sharey=ax1)\n",
    "plt.errorbar([aa[0] for aa in result],[bb[1][6][0] for bb in result],yerr=[[abs(cc[1][6][1]) for cc in result],[abs(dd[1][6][2]) for dd in result]],fmt='go-',label=\"W43\",elinewidth=2,capsize=4)\n",
    "plt.setp(ax2.get_xticklabels(), visible=False)\n",
    "plt.grid()\n",
    "# plt.xlabel(\"Nhit_bin\")\n",
    "plt.title(\"sigma\")\n",
    "plt.ylabel(\"Sigma[$^\\circ$]\")\n",
    "plt.legend()\n",
    "\n",
    "plt.subplot(3, 1, 3, sharex=ax1, sharey=ax1)\n",
    "plt.errorbar([aa[0] for aa in result],[bb[1][10][0] for bb in result],yerr=[[abs(cc[1][10][1]) for cc in result],[abs(dd[1][10][2]) for dd in result]],fmt='o-',color=\"orange\",label=\"Ext3\",elinewidth=2,capsize=4)\n",
    "plt.grid()\n",
    "plt.xlabel(\"Nhit_bin\")\n",
    "plt.ylabel(\"Sigma[$^\\circ$]\")\n",
    "plt.legend()\n",
    "plt.savefig('result_sigma.jpg',dpi=300)\n",
    "plt.show()"
   ]
  },
  {
   "cell_type": "code",
   "execution_count": null,
   "metadata": {},
   "outputs": [],
   "source": [
    "plt.figure() #constrained_layout=True\n",
    "\n",
    "ax1=plt.subplot(3, 1, 2)\n",
    "plt.errorbar([aa[0] for aa in result],[bb[1][3][0] for bb in result],yerr=[[abs(cc[1][3][1]) for cc in result],[abs(dd[1][3][2]) for dd in result]],fmt='bo-',label=\"Ext1\",elinewidth=2,capsize=4)\n",
    "plt.setp(ax1.get_xticklabels(), visible=False)\n",
    "plt.grid()\n",
    "# plt.xlabel(\"Nhit_bin\")\n",
    "plt.ylabel(\"$1 / (cm^2 keV s)$\")\n",
    "plt.legend()\n",
    "\n",
    "ax2=plt.subplot(3, 1, 1, sharex=ax1, sharey=ax1)\n",
    "plt.errorbar([aa[0] for aa in result],[bb[1][7][0] for bb in result],yerr=[[abs(cc[1][7][1]) for cc in result],[abs(dd[1][7][2]) for dd in result]],fmt='go-',label=\"W43\",elinewidth=2,capsize=4)\n",
    "plt.setp(ax2.get_xticklabels(), visible=False)\n",
    "plt.grid()\n",
    "plt.title(\"Normalization\")\n",
    "# plt.xlabel(\"Nhit_bin\")\n",
    "plt.ylabel(\"$1 / (cm^2 keV s)$\")\n",
    "plt.legend()\n",
    "\n",
    "plt.subplot(3, 1, 3, sharex=ax1, sharey=ax1)\n",
    "plt.errorbar([aa[0] for aa in result],[bb[1][11][0] for bb in result],yerr=[[abs(cc[1][11][1]) for cc in result],[abs(dd[1][11][2]) for dd in result]],fmt='o-',color=\"orange\",label=\"Ext3\",elinewidth=2,capsize=4)\n",
    "plt.grid()\n",
    "plt.xlabel(\"Nhit_bin\")\n",
    "plt.ylabel(\"$1 / (cm^2 keV s)$\")\n",
    "plt.legend()\n",
    "plt.savefig('result_Normalization.jpg',dpi=300)\n",
    "plt.show()"
   ]
  },
  {
   "cell_type": "code",
   "execution_count": null,
   "metadata": {},
   "outputs": [],
   "source": [
    "# result\n",
    "fysize=4\n",
    "figsize = (fysize+2, fysize+2.75)\n",
    "plt.figure(figsize=figsize)\n",
    "for i in trange(len(result), desc=\"progressive\"):\n",
    "    # if (result[i][1] == []):\n",
    "    #     continue\n",
    "    plt.errorbar(result[i][1][0][0],result[i][1][1][0],xerr=[[abs(result[i][1][0][1])],[abs(result[i][1][0][2])]],yerr=[[abs(result[i][1][1][1])],[abs(result[i][1][1][2])]],fmt='bo-')\n",
    "    plt.text(result[i][1][0][0], result[i][1][1][0], result[i][0], fontsize=5, color = \"r\", style = \"italic\", weight = \"bold\", verticalalignment='center', horizontalalignment='center')\n",
    "    plt.errorbar(result[i][1][4][0],result[i][1][5][0],xerr=[[abs(result[i][1][4][1])],[abs(result[i][1][4][2])]],yerr=[[abs(result[i][1][5][1])],[abs(result[i][1][5][2])]],fmt='go-')\n",
    "    plt.text(result[i][1][4][0], result[i][1][5][0], result[i][0], fontsize=5, color = \"r\", style = \"italic\", weight = \"bold\", verticalalignment='center', horizontalalignment='center')\n",
    "    plt.errorbar(result[i][1][8][0],result[i][1][9][0],xerr=[[abs(result[i][1][8][1])],[abs(result[i][1][8][2])]],yerr=[[abs(result[i][1][9][1])],[abs(result[i][1][9][2])]],fmt='o-',color=\"orange\")\n",
    "    plt.text(result[i][1][8][0], result[i][1][9][0], result[i][0], fontsize=5, color = \"r\", style = \"italic\", weight = \"bold\", verticalalignment='center', horizontalalignment='center')\n",
    "plt.xlim(282.12-2.5,282.12+2.5)\n",
    "plt.ylim(-1.89-2.5,-1.89+2.5)\n",
    "plt.xlabel(\"Ra[$^\\circ$]\")\n",
    "plt.ylabel(\"Dec[$^\\circ$]\")\n",
    "plt.grid()\n",
    "plt.gca().invert_xaxis()\n",
    "plt.title(\"W43\")\n",
    "plt.savefig('./result_position.jpg',dpi=300)\n",
    "plt.show()"
   ]
  },
  {
   "cell_type": "markdown",
   "metadata": {},
   "source": [
    "### 单独运行每一个bin拟合"
   ]
  },
  {
   "cell_type": "code",
   "execution_count": 8,
   "metadata": {},
   "outputs": [
    {
     "name": "stdout",
     "output_type": "stream",
     "text": [
      "[\u001b[32mINFO    \u001b[0m]\u001b[32m Considering 9 dec bins for extended source ext1\u001b[0m\n",
      "[\u001b[32mINFO    \u001b[0m]\u001b[32m Central bin is bin at Declination = -6.815\u001b[0m\n",
      "[\u001b[32mINFO    \u001b[0m]\u001b[32m Considering 8 dec bins for extended source ext2\u001b[0m\n",
      "[\u001b[32mINFO    \u001b[0m]\u001b[32m Central bin is bin at Declination = -5.245\u001b[0m\n",
      "[\u001b[32mINFO    \u001b[0m]\u001b[32m Considering 8 dec bins for extended source ext3\u001b[0m\n",
      "[\u001b[32mINFO    \u001b[0m]\u001b[32m Central bin is bin at Declination = -9.043\u001b[0m\n",
      "[\u001b[32mINFO    \u001b[0m]\u001b[32m Considering 9 dec bins for extended source zero\u001b[0m\n",
      "[\u001b[32mINFO    \u001b[0m]\u001b[32m Central bin is bin at Declination = -6.815\u001b[0m\n",
      "[\u001b[32mINFO    \u001b[0m]\u001b[32m set the minimizer to <threeML.minimizer.minimization.LocalMinimization object at 0x7fe3c80165c0>\u001b[0m\n",
      "[\u001b[32mINFO    \u001b[0m]\u001b[32m Considering 9 dec bins for extended source ext1\u001b[0m\n",
      "[\u001b[32mINFO    \u001b[0m]\u001b[32m Central bin is bin at Declination = -6.815\u001b[0m\n",
      "[\u001b[32mINFO    \u001b[0m]\u001b[32m Considering 8 dec bins for extended source ext2\u001b[0m\n",
      "[\u001b[32mINFO    \u001b[0m]\u001b[32m Central bin is bin at Declination = -5.245\u001b[0m\n",
      "[\u001b[32mINFO    \u001b[0m]\u001b[32m Considering 8 dec bins for extended source ext3\u001b[0m\n",
      "[\u001b[32mINFO    \u001b[0m]\u001b[32m Central bin is bin at Declination = -9.043\u001b[0m\n",
      "[\u001b[32mINFO    \u001b[0m]\u001b[32m set the minimizer to <threeML.minimizer.minimization.LocalMinimization object at 0x7fe3c3079358>\u001b[0m\n",
      "[\u001b[32mINFO    \u001b[0m]\u001b[32m set the minimizer to minuit\u001b[0m\n"
     ]
    },
    {
     "name": "stderr",
     "output_type": "stream",
     "text": [
      "trial values: 279.47,-6.8155,0.42392,-21.954,280.43,-5.2454,0.55555,-22.1,278.43,-9.0432,0.81485,-22.11,279.83,-5.7961,-22.613 -> logL = -2766.513\n",
      "trial values: 279.51,-6.8155,0.42392,-21.954,280.43,-5.2454,0.55555,-22.1,278.43,-9.0432,0.81485,-22.11,279.83,-5.7961,-22.613 -> logL = -2767.428\n",
      "trial values: 279.43,-6.8155,0.42392,-21.954,280.43,-5.2454,0.55555,-22.1,278.43,-9.0432,0.81485,-22.11,279.83,-5.7961,-22.613 -> logL = -2767.441\n",
      "trial values: 279.48,-6.8155,0.42392,-21.954,280.43,-5.2454,0.55555,-22.1,278.43,-9.0432,0.81485,-22.11,279.83,-5.7961,-22.613 -> logL = -2766.522\n",
      "trial values: 279.47,-6.8155,0.42392,-21.954,280.43,-5.2454,0.55555,-22.1,278.43,-9.0432,0.81485,-22.11,279.83,-5.7961,-22.613 -> logL = -2766.522\n",
      "trial values: 279.47,-6.8155,0.42392,-21.954,280.43,-5.2454,0.55555,-22.1,278.43,-9.0432,0.81485,-22.11,279.83,-5.7961,-22.613 -> logL = -2766.514\n",
      "trial values: 279.47,-6.8155,0.42392,-21.954,280.43,-5.2454,0.55555,-22.1,278.43,-9.0432,0.81485,-22.11,279.83,-5.7961,-22.613 -> logL = -2766.514\n",
      "trial values: 279.47,-6.8105,0.42392,-21.954,280.43,-5.2454,0.55555,-22.1,278.43,-9.0432,0.81485,-22.11,279.83,-5.7961,-22.613 -> logL = -2766.526\n",
      "trial values: 279.47,-6.8205,0.42392,-21.954,280.43,-5.2454,0.55555,-22.1,278.43,-9.0432,0.81485,-22.11,279.83,-5.7961,-22.613 -> logL = -2766.526\n",
      "trial values: 279.47,-6.8143,0.42392,-21.954,280.43,-5.2454,0.55555,-22.1,278.43,-9.0432,0.81485,-22.11,279.83,-5.7961,-22.613 -> logL = -2766.514\n",
      "trial values: 279.47,-6.8166,0.42392,-21.954,280.43,-5.2454,0.55555,-22.1,278.43,-9.0432,0.81485,-22.11,279.83,-5.7961,-22.613 -> logL = -2766.514\n",
      "trial values: 279.47,-6.8155,0.42423,-21.954,280.43,-5.2454,0.55555,-22.1,278.43,-9.0432,0.81485,-22.11,279.83,-5.7961,-22.613 -> logL = -2766.513\n",
      "trial values: 279.47,-6.8155,0.42361,-21.954,280.43,-5.2454,0.55555,-22.1,278.43,-9.0432,0.81485,-22.11,279.83,-5.7961,-22.613 -> logL = -2766.513\n",
      "trial values: 279.47,-6.8155,0.42463,-21.954,280.43,-5.2454,0.55555,-22.1,278.43,-9.0432,0.81485,-22.11,279.83,-5.7961,-22.613 -> logL = -2766.514\n",
      "trial values: 279.47,-6.8155,0.4232,-21.954,280.43,-5.2454,0.55555,-22.1,278.43,-9.0432,0.81485,-22.11,279.83,-5.7961,-22.613 -> logL = -2766.514\n",
      "trial values: 279.47,-6.8155,0.42392,-21.938,280.43,-5.2454,0.55555,-22.1,278.43,-9.0432,0.81485,-22.11,279.83,-5.7961,-22.613 -> logL = -2766.915\n",
      "trial values: 279.47,-6.8155,0.42392,-21.97,280.43,-5.2454,0.55555,-22.1,278.43,-9.0432,0.81485,-22.11,279.83,-5.7961,-22.613 -> logL = -2766.889\n",
      "trial values: 279.47,-6.8155,0.42392,-21.953,280.43,-5.2454,0.55555,-22.1,278.43,-9.0432,0.81485,-22.11,279.83,-5.7961,-22.613 -> logL = -2766.517\n",
      "trial values: 279.47,-6.8155,0.42392,-21.956,280.43,-5.2454,0.55555,-22.1,278.43,-9.0432,0.81485,-22.11,279.83,-5.7961,-22.613 -> logL = -2766.517\n",
      "trial values: 279.47,-6.8155,0.42392,-21.954,280.43,-5.2454,0.55555,-22.1,278.43,-9.0432,0.81485,-22.11,279.83,-5.7961,-22.613 -> logL = -2766.514\n",
      "trial values: 279.47,-6.8155,0.42392,-21.955,280.43,-5.2454,0.55555,-22.1,278.43,-9.0432,0.81485,-22.11,279.83,-5.7961,-22.613 -> logL = -2766.514\n",
      "trial values: 279.47,-6.8155,0.42392,-21.954,280.46,-5.2454,0.55555,-22.1,278.43,-9.0432,0.81485,-22.11,279.83,-5.7961,-22.613 -> logL = -2766.751\n",
      "trial values: 279.47,-6.8155,0.42392,-21.954,280.4,-5.2454,0.55555,-22.1,278.43,-9.0432,0.81485,-22.11,279.83,-5.7961,-22.613 -> logL = -2766.774\n",
      "trial values: 279.47,-6.8155,0.42392,-21.954,280.44,-5.2454,0.55555,-22.1,278.43,-9.0432,0.81485,-22.11,279.83,-5.7961,-22.613 -> logL = -2766.516\n",
      "trial values: 279.47,-6.8155,0.42392,-21.954,280.43,-5.2454,0.55555,-22.1,278.43,-9.0432,0.81485,-22.11,279.83,-5.7961,-22.613 -> logL = -2766.516\n",
      "trial values: 279.47,-6.8155,0.42392,-21.954,280.44,-5.2454,0.55555,-22.1,278.43,-9.0432,0.81485,-22.11,279.83,-5.7961,-22.613 -> logL = -2766.514\n",
      "trial values: 279.47,-6.8155,0.42392,-21.954,280.43,-5.2454,0.55555,-22.1,278.43,-9.0432,0.81485,-22.11,279.83,-5.7961,-22.613 -> logL = -2766.514\n",
      "trial values: 279.47,-6.8155,0.42392,-21.954,280.43,-5.2415,0.55555,-22.1,278.43,-9.0432,0.81485,-22.11,279.83,-5.7961,-22.613 -> logL = -2766.516\n",
      "trial values: 279.47,-6.8155,0.42392,-21.954,280.43,-5.2493,0.55555,-22.1,278.43,-9.0432,0.81485,-22.11,279.83,-5.7961,-22.613 -> logL = -2766.516\n",
      "trial values: 279.47,-6.8155,0.42392,-21.954,280.43,-5.2436,0.55555,-22.1,278.43,-9.0432,0.81485,-22.11,279.83,-5.7961,-22.613 -> logL = -2766.514\n",
      "trial values: 279.47,-6.8155,0.42392,-21.954,280.43,-5.2471,0.55555,-22.1,278.43,-9.0432,0.81485,-22.11,279.83,-5.7961,-22.613 -> logL = -2766.514\n",
      "trial values: 279.47,-6.8155,0.42392,-21.954,280.43,-5.2454,0.55595,-22.1,278.43,-9.0432,0.81485,-22.11,279.83,-5.7961,-22.613 -> logL = -2766.513\n",
      "trial values: 279.47,-6.8155,0.42392,-21.954,280.43,-5.2454,0.55515,-22.1,278.43,-9.0432,0.81485,-22.11,279.83,-5.7961,-22.613 -> logL = -2766.513\n",
      "trial values: 279.47,-6.8155,0.42392,-21.954,280.43,-5.2454,0.55658,-22.1,278.43,-9.0432,0.81485,-22.11,279.83,-5.7961,-22.613 -> logL = -2766.514\n",
      "trial values: 279.47,-6.8155,0.42392,-21.954,280.43,-5.2454,0.55451,-22.1,278.43,-9.0432,0.81485,-22.11,279.83,-5.7961,-22.613 -> logL = -2766.514\n",
      "trial values: 279.47,-6.8155,0.42392,-21.954,280.43,-5.2454,0.55555,-22.084,278.43,-9.0432,0.81485,-22.11,279.83,-5.7961,-22.613 -> logL = -2766.806\n",
      "trial values: 279.47,-6.8155,0.42392,-21.954,280.43,-5.2454,0.55555,-22.116,278.43,-9.0432,0.81485,-22.11,279.83,-5.7961,-22.613 -> logL = -2766.787\n",
      "trial values: 279.47,-6.8155,0.42392,-21.954,280.43,-5.2454,0.55555,-22.098,278.43,-9.0432,0.81485,-22.11,279.83,-5.7961,-22.613 -> logL = -2766.516\n",
      "trial values: 279.47,-6.8155,0.42392,-21.954,280.43,-5.2454,0.55555,-22.101,278.43,-9.0432,0.81485,-22.11,279.83,-5.7961,-22.613 -> logL = -2766.516\n",
      "trial values: 279.47,-6.8155,0.42392,-21.954,280.43,-5.2454,0.55555,-22.099,278.43,-9.0432,0.81485,-22.11,279.83,-5.7961,-22.613 -> logL = -2766.514\n",
      "trial values: 279.47,-6.8155,0.42392,-21.954,280.43,-5.2454,0.55555,-22.101,278.43,-9.0432,0.81485,-22.11,279.83,-5.7961,-22.613 -> logL = -2766.514\n",
      "trial values: 279.47,-6.8155,0.42392,-21.954,280.43,-5.2454,0.55555,-22.1,278.47,-9.0432,0.81485,-22.11,279.83,-5.7961,-22.613 -> logL = -2766.582\n",
      "trial values: 279.47,-6.8155,0.42392,-21.954,280.43,-5.2454,0.55555,-22.1,278.39,-9.0432,0.81485,-22.11,279.83,-5.7961,-22.613 -> logL = -2766.578\n",
      "trial values: 279.47,-6.8155,0.42392,-21.954,280.43,-5.2454,0.55555,-22.1,278.43,-9.0432,0.81485,-22.11,279.83,-5.7961,-22.613 -> logL = -2766.514\n",
      "trial values: 279.47,-6.8155,0.42392,-21.954,280.43,-5.2454,0.55555,-22.1,278.43,-9.0432,0.81485,-22.11,279.83,-5.7961,-22.613 -> logL = -2766.514\n",
      "trial values: 279.47,-6.8155,0.42392,-21.954,280.43,-5.2454,0.55555,-22.1,278.43,-9.0364,0.81485,-22.11,279.83,-5.7961,-22.613 -> logL = -2766.515\n",
      "trial values: 279.47,-6.8155,0.42392,-21.954,280.43,-5.2454,0.55555,-22.1,278.43,-9.0499,0.81485,-22.11,279.83,-5.7961,-22.613 -> logL = -2766.515\n",
      "trial values: 279.47,-6.8155,0.42392,-21.954,280.43,-5.2454,0.55555,-22.1,278.43,-9.0388,0.81485,-22.11,279.83,-5.7961,-22.613 -> logL = -2766.514\n",
      "trial values: 279.47,-6.8155,0.42392,-21.954,280.43,-5.2454,0.55555,-22.1,278.43,-9.0475,0.81485,-22.11,279.83,-5.7961,-22.613 -> logL = -2766.514\n",
      "trial values: 279.47,-6.8155,0.42392,-21.954,280.43,-5.2454,0.55555,-22.1,278.43,-9.0432,0.81544,-22.11,279.83,-5.7961,-22.613 -> logL = -2766.513\n",
      "trial values: 279.47,-6.8155,0.42392,-21.954,280.43,-5.2454,0.55555,-22.1,278.43,-9.0432,0.81425,-22.11,279.83,-5.7961,-22.613 -> logL = -2766.513\n",
      "trial values: 279.47,-6.8155,0.42392,-21.954,280.43,-5.2454,0.55555,-22.1,278.43,-9.0432,0.81682,-22.11,279.83,-5.7961,-22.613 -> logL = -2766.514\n",
      "trial values: 279.47,-6.8155,0.42392,-21.954,280.43,-5.2454,0.55555,-22.1,278.43,-9.0432,0.81287,-22.11,279.83,-5.7961,-22.613 -> logL = -2766.514\n",
      "trial values: 279.47,-6.8155,0.42392,-21.954,280.43,-5.2454,0.55555,-22.1,278.43,-9.0432,0.81485,-22.094,279.83,-5.7961,-22.613 -> logL = -2766.637\n",
      "trial values: 279.47,-6.8155,0.42392,-21.954,280.43,-5.2454,0.55555,-22.1,278.43,-9.0432,0.81485,-22.127,279.83,-5.7961,-22.613 -> logL = -2766.627\n",
      "trial values: 279.47,-6.8155,0.42392,-21.954,280.43,-5.2454,0.55555,-22.1,278.43,-9.0432,0.81485,-22.109,279.83,-5.7961,-22.613 -> logL = -2766.514\n",
      "trial values: 279.47,-6.8155,0.42392,-21.954,280.43,-5.2454,0.55555,-22.1,278.43,-9.0432,0.81485,-22.112,279.83,-5.7961,-22.613 -> logL = -2766.514\n",
      "trial values: 279.47,-6.8155,0.42392,-21.954,280.43,-5.2454,0.55555,-22.1,278.43,-9.0432,0.81485,-22.109,279.83,-5.7961,-22.613 -> logL = -2766.514\n",
      "trial values: 279.47,-6.8155,0.42392,-21.954,280.43,-5.2454,0.55555,-22.1,278.43,-9.0432,0.81485,-22.112,279.83,-5.7961,-22.613 -> logL = -2766.514\n",
      "trial values: 279.47,-6.8155,0.42392,-21.954,280.43,-5.2454,0.55555,-22.1,278.43,-9.0432,0.81485,-22.11,279.94,-5.7961,-22.613 -> logL = -2769.853\n",
      "trial values: 279.47,-6.8155,0.42392,-21.954,280.43,-5.2454,0.55555,-22.1,278.43,-9.0432,0.81485,-22.11,279.71,-5.7961,-22.613 -> logL = -2770.014\n",
      "trial values: 279.47,-6.8155,0.42392,-21.954,280.43,-5.2454,0.55555,-22.1,278.43,-9.0432,0.81485,-22.11,279.84,-5.7961,-22.613 -> logL = -2766.554\n",
      "trial values: 279.47,-6.8155,0.42392,-21.954,280.43,-5.2454,0.55555,-22.1,278.43,-9.0432,0.81485,-22.11,279.82,-5.7961,-22.613 -> logL = -2766.557\n",
      "trial values: 279.47,-6.8155,0.42392,-21.954,280.43,-5.2454,0.55555,-22.1,278.43,-9.0432,0.81485,-22.11,279.83,-5.7961,-22.613 -> logL = -2766.514\n",
      "trial values: 279.47,-6.8155,0.42392,-21.954,280.43,-5.2454,0.55555,-22.1,278.43,-9.0432,0.81485,-22.11,279.83,-5.7961,-22.613 -> logL = -2766.514\n",
      "trial values: 279.47,-6.8155,0.42392,-21.954,280.43,-5.2454,0.55555,-22.1,278.43,-9.0432,0.81485,-22.11,279.83,-5.7919,-22.613 -> logL = -2766.518\n",
      "trial values: 279.47,-6.8155,0.42392,-21.954,280.43,-5.2454,0.55555,-22.1,278.43,-9.0432,0.81485,-22.11,279.83,-5.8003,-22.613 -> logL = -2766.517\n",
      "trial values: 279.47,-6.8155,0.42392,-21.954,280.43,-5.2454,0.55555,-22.1,278.43,-9.0432,0.81485,-22.11,279.83,-5.7945,-22.613 -> logL = -2766.514\n",
      "trial values: 279.47,-6.8155,0.42392,-21.954,280.43,-5.2454,0.55555,-22.1,278.43,-9.0432,0.81485,-22.11,279.83,-5.7977,-22.613 -> logL = -2766.514\n",
      "trial values: 279.47,-6.8155,0.42392,-21.954,280.43,-5.2454,0.55555,-22.1,278.43,-9.0432,0.81485,-22.11,279.83,-5.7961,-22.596 -> logL = -2766.568\n",
      "trial values: 279.47,-6.8155,0.42392,-21.954,280.43,-5.2454,0.55555,-22.1,278.43,-9.0432,0.81485,-22.11,279.83,-5.7961,-22.629 -> logL = -2766.563\n",
      "trial values: 279.47,-6.8155,0.42392,-21.954,280.43,-5.2454,0.55555,-22.1,278.43,-9.0432,0.81485,-22.11,279.83,-5.7961,-22.611 -> logL = -2766.514\n",
      "trial values: 279.47,-6.8155,0.42392,-21.954,280.43,-5.2454,0.55555,-22.1,278.43,-9.0432,0.81485,-22.11,279.83,-5.7961,-22.615 -> logL = -2766.514\n",
      "trial values: 279.47,-6.8155,0.4239,-21.955,280.43,-5.2453,0.55557,-22.1,278.43,-9.043,0.8148,-22.11,279.83,-5.7962,-22.613 -> logL = -2766.513\n",
      "trial values: 279.47,-6.8155,0.4239,-21.954,280.43,-5.2453,0.55557,-22.1,278.43,-9.0431,0.81481,-22.11,279.83,-5.7962,-22.613 -> logL = -2766.513\n",
      "trial values: 279.47,-6.8155,0.4239,-21.954,280.43,-5.2453,0.55557,-22.1,278.43,-9.0431,0.81481,-22.11,279.83,-5.7962,-22.613 -> logL = -2766.514\n",
      "trial values: 279.47,-6.8155,0.4239,-21.954,280.43,-5.2453,0.55557,-22.1,278.43,-9.0431,0.81481,-22.11,279.83,-5.7962,-22.613 -> logL = -2766.514\n",
      "trial values: 279.47,-6.8144,0.4239,-21.954,280.43,-5.2453,0.55557,-22.1,278.43,-9.0431,0.81481,-22.11,279.83,-5.7962,-22.613 -> logL = -2766.514\n",
      "trial values: 279.47,-6.8166,0.4239,-21.954,280.43,-5.2453,0.55557,-22.1,278.43,-9.0431,0.81481,-22.11,279.83,-5.7962,-22.613 -> logL = -2766.514\n",
      "trial values: 279.47,-6.8155,0.42462,-21.954,280.43,-5.2453,0.55557,-22.1,278.43,-9.0431,0.81481,-22.11,279.83,-5.7962,-22.613 -> logL = -2766.514\n",
      "trial values: 279.47,-6.8155,0.42319,-21.954,280.43,-5.2453,0.55557,-22.1,278.43,-9.0431,0.81481,-22.11,279.83,-5.7962,-22.613 -> logL = -2766.514\n",
      "trial values: 279.47,-6.8155,0.4239,-21.954,280.43,-5.2453,0.55557,-22.1,278.43,-9.0431,0.81481,-22.11,279.83,-5.7962,-22.613 -> logL = -2766.514\n",
      "trial values: 279.47,-6.8155,0.4239,-21.955,280.43,-5.2453,0.55557,-22.1,278.43,-9.0431,0.81481,-22.11,279.83,-5.7962,-22.613 -> logL = -2766.514\n",
      "trial values: 279.47,-6.8155,0.4239,-21.954,280.44,-5.2453,0.55557,-22.1,278.43,-9.0431,0.81481,-22.11,279.83,-5.7962,-22.613 -> logL = -2766.514\n",
      "trial values: 279.47,-6.8155,0.4239,-21.954,280.43,-5.2453,0.55557,-22.1,278.43,-9.0431,0.81481,-22.11,279.83,-5.7962,-22.613 -> logL = -2766.514\n",
      "trial values: 279.47,-6.8155,0.4239,-21.954,280.43,-5.2435,0.55557,-22.1,278.43,-9.0431,0.81481,-22.11,279.83,-5.7962,-22.613 -> logL = -2766.514\n",
      "trial values: 279.47,-6.8155,0.4239,-21.954,280.43,-5.247,0.55557,-22.1,278.43,-9.0431,0.81481,-22.11,279.83,-5.7962,-22.613 -> logL = -2766.514\n",
      "trial values: 279.47,-6.8155,0.4239,-21.954,280.43,-5.2453,0.5566,-22.1,278.43,-9.0431,0.81481,-22.11,279.83,-5.7962,-22.613 -> logL = -2766.514\n",
      "trial values: 279.47,-6.8155,0.4239,-21.954,280.43,-5.2453,0.55453,-22.1,278.43,-9.0431,0.81481,-22.11,279.83,-5.7962,-22.613 -> logL = -2766.514\n",
      "trial values: 279.47,-6.8155,0.4239,-21.954,280.43,-5.2453,0.55557,-22.099,278.43,-9.0431,0.81481,-22.11,279.83,-5.7962,-22.613 -> logL = -2766.514\n",
      "trial values: 279.47,-6.8155,0.4239,-21.954,280.43,-5.2453,0.55557,-22.101,278.43,-9.0431,0.81481,-22.11,279.83,-5.7962,-22.613 -> logL = -2766.514\n",
      "trial values: 279.47,-6.8155,0.4239,-21.954,280.43,-5.2453,0.55557,-22.1,278.43,-9.0431,0.81481,-22.11,279.83,-5.7962,-22.613 -> logL = -2766.514\n",
      "trial values: 279.47,-6.8155,0.4239,-21.954,280.43,-5.2453,0.55557,-22.1,278.43,-9.0431,0.81481,-22.11,279.83,-5.7962,-22.613 -> logL = -2766.514\n",
      "trial values: 279.47,-6.8155,0.4239,-21.954,280.43,-5.2453,0.55557,-22.1,278.43,-9.0387,0.81481,-22.11,279.83,-5.7962,-22.613 -> logL = -2766.514\n",
      "trial values: 279.47,-6.8155,0.4239,-21.954,280.43,-5.2453,0.55557,-22.1,278.43,-9.0474,0.81481,-22.11,279.83,-5.7962,-22.613 -> logL = -2766.514\n",
      "trial values: 279.47,-6.8155,0.4239,-21.954,280.43,-5.2453,0.55557,-22.1,278.43,-9.0431,0.81679,-22.11,279.83,-5.7962,-22.613 -> logL = -2766.514\n",
      "trial values: 279.47,-6.8155,0.4239,-21.954,280.43,-5.2453,0.55557,-22.1,278.43,-9.0431,0.81283,-22.11,279.83,-5.7962,-22.613 -> logL = -2766.514\n",
      "trial values: 279.47,-6.8155,0.4239,-21.954,280.43,-5.2453,0.55557,-22.1,278.43,-9.0431,0.81481,-22.109,279.83,-5.7962,-22.613 -> logL = -2766.514\n",
      "trial values: 279.47,-6.8155,0.4239,-21.954,280.43,-5.2453,0.55557,-22.1,278.43,-9.0431,0.81481,-22.112,279.83,-5.7962,-22.613 -> logL = -2766.514\n",
      "trial values: 279.47,-6.8155,0.4239,-21.954,280.43,-5.2453,0.55557,-22.1,278.43,-9.0431,0.81481,-22.11,279.83,-5.7962,-22.613 -> logL = -2766.514\n",
      "trial values: 279.47,-6.8155,0.4239,-21.954,280.43,-5.2453,0.55557,-22.1,278.43,-9.0431,0.81481,-22.11,279.83,-5.7962,-22.613 -> logL = -2766.514\n",
      "trial values: 279.47,-6.8155,0.4239,-21.954,280.43,-5.2453,0.55557,-22.1,278.43,-9.0431,0.81481,-22.11,279.83,-5.7947,-22.613 -> logL = -2766.514\n",
      "trial values: 279.47,-6.8155,0.4239,-21.954,280.43,-5.2453,0.55557,-22.1,278.43,-9.0431,0.81481,-22.11,279.83,-5.7977,-22.613 -> logL = -2766.514\n",
      "trial values: 279.47,-6.8155,0.4239,-21.954,280.43,-5.2453,0.55557,-22.1,278.43,-9.0431,0.81481,-22.11,279.83,-5.7962,-22.611 -> logL = -2766.514\n",
      "trial values: 279.47,-6.8155,0.4239,-21.954,280.43,-5.2453,0.55557,-22.1,278.43,-9.0431,0.81481,-22.11,279.83,-5.7962,-22.615 -> logL = -2766.514\n",
      "trial values: 279.47,-6.8155,0.4239,-21.954,280.43,-5.2453,0.55557,-22.1,278.43,-9.0431,0.81481,-22.11,279.83,-5.7962,-22.613 -> logL = -2766.513\n",
      "trial values: 279.47,-6.8155,0.4239,-21.954,280.43,-5.2453,0.55557,-22.1,278.43,-9.0431,0.81481,-22.11,279.83,-5.7962,-22.613 -> logL = -2766.514\n",
      "trial values: 279.47,-6.8155,0.4239,-21.954,280.43,-5.2453,0.55557,-22.1,278.43,-9.0431,0.81481,-22.11,279.83,-5.7962,-22.613 -> logL = -2766.514\n",
      "trial values: 279.47,-6.8144,0.4239,-21.954,280.43,-5.2453,0.55557,-22.1,278.43,-9.0431,0.81481,-22.11,279.83,-5.7962,-22.613 -> logL = -2766.514\n",
      "trial values: 279.47,-6.8166,0.4239,-21.954,280.43,-5.2453,0.55557,-22.1,278.43,-9.0431,0.81481,-22.11,279.83,-5.7962,-22.613 -> logL = -2766.514\n",
      "trial values: 279.47,-6.8155,0.42462,-21.954,280.43,-5.2453,0.55557,-22.1,278.43,-9.0431,0.81481,-22.11,279.83,-5.7962,-22.613 -> logL = -2766.514\n",
      "trial values: 279.47,-6.8155,0.42319,-21.954,280.43,-5.2453,0.55557,-22.1,278.43,-9.0431,0.81481,-22.11,279.83,-5.7962,-22.613 -> logL = -2766.514\n",
      "trial values: 279.47,-6.8155,0.4239,-21.954,280.43,-5.2453,0.55557,-22.1,278.43,-9.0431,0.81481,-22.11,279.83,-5.7962,-22.613 -> logL = -2766.514\n",
      "trial values: 279.47,-6.8155,0.4239,-21.955,280.43,-5.2453,0.55557,-22.1,278.43,-9.0431,0.81481,-22.11,279.83,-5.7962,-22.613 -> logL = -2766.514\n",
      "trial values: 279.47,-6.8155,0.4239,-21.954,280.44,-5.2453,0.55557,-22.1,278.43,-9.0431,0.81481,-22.11,279.83,-5.7962,-22.613 -> logL = -2766.514\n",
      "trial values: 279.47,-6.8155,0.4239,-21.954,280.43,-5.2453,0.55557,-22.1,278.43,-9.0431,0.81481,-22.11,279.83,-5.7962,-22.613 -> logL = -2766.514\n",
      "trial values: 279.47,-6.8155,0.4239,-21.954,280.43,-5.2435,0.55557,-22.1,278.43,-9.0431,0.81481,-22.11,279.83,-5.7962,-22.613 -> logL = -2766.514\n",
      "trial values: 279.47,-6.8155,0.4239,-21.954,280.43,-5.247,0.55557,-22.1,278.43,-9.0431,0.81481,-22.11,279.83,-5.7962,-22.613 -> logL = -2766.514\n",
      "trial values: 279.47,-6.8155,0.4239,-21.954,280.43,-5.2453,0.5566,-22.1,278.43,-9.0431,0.81481,-22.11,279.83,-5.7962,-22.613 -> logL = -2766.514\n",
      "trial values: 279.47,-6.8155,0.4239,-21.954,280.43,-5.2453,0.55453,-22.1,278.43,-9.0431,0.81481,-22.11,279.83,-5.7962,-22.613 -> logL = -2766.514\n",
      "trial values: 279.47,-6.8155,0.4239,-21.954,280.43,-5.2453,0.55557,-22.099,278.43,-9.0431,0.81481,-22.11,279.83,-5.7962,-22.613 -> logL = -2766.514\n",
      "trial values: 279.47,-6.8155,0.4239,-21.954,280.43,-5.2453,0.55557,-22.101,278.43,-9.0431,0.81481,-22.11,279.83,-5.7962,-22.613 -> logL = -2766.514\n",
      "trial values: 279.47,-6.8155,0.4239,-21.954,280.43,-5.2453,0.55557,-22.1,278.43,-9.0431,0.81481,-22.11,279.83,-5.7962,-22.613 -> logL = -2766.514\n",
      "trial values: 279.47,-6.8155,0.4239,-21.954,280.43,-5.2453,0.55557,-22.1,278.43,-9.0431,0.81481,-22.11,279.83,-5.7962,-22.613 -> logL = -2766.514\n",
      "trial values: 279.47,-6.8155,0.4239,-21.954,280.43,-5.2453,0.55557,-22.1,278.43,-9.0387,0.81481,-22.11,279.83,-5.7962,-22.613 -> logL = -2766.514\n",
      "trial values: 279.47,-6.8155,0.4239,-21.954,280.43,-5.2453,0.55557,-22.1,278.43,-9.0474,0.81481,-22.11,279.83,-5.7962,-22.613 -> logL = -2766.514\n",
      "trial values: 279.47,-6.8155,0.4239,-21.954,280.43,-5.2453,0.55557,-22.1,278.43,-9.0431,0.81679,-22.11,279.83,-5.7962,-22.613 -> logL = -2766.514\n",
      "trial values: 279.47,-6.8155,0.4239,-21.954,280.43,-5.2453,0.55557,-22.1,278.43,-9.0431,0.81283,-22.11,279.83,-5.7962,-22.613 -> logL = -2766.514\n",
      "trial values: 279.47,-6.8155,0.4239,-21.954,280.43,-5.2453,0.55557,-22.1,278.43,-9.0431,0.81481,-22.109,279.83,-5.7962,-22.613 -> logL = -2766.514\n",
      "trial values: 279.47,-6.8155,0.4239,-21.954,280.43,-5.2453,0.55557,-22.1,278.43,-9.0431,0.81481,-22.112,279.83,-5.7962,-22.613 -> logL = -2766.514\n",
      "trial values: 279.47,-6.8155,0.4239,-21.954,280.43,-5.2453,0.55557,-22.1,278.43,-9.0431,0.81481,-22.11,279.83,-5.7962,-22.613 -> logL = -2766.514\n",
      "trial values: 279.47,-6.8155,0.4239,-21.954,280.43,-5.2453,0.55557,-22.1,278.43,-9.0431,0.81481,-22.11,279.83,-5.7962,-22.613 -> logL = -2766.514\n",
      "trial values: 279.47,-6.8155,0.4239,-21.954,280.43,-5.2453,0.55557,-22.1,278.43,-9.0431,0.81481,-22.11,279.83,-5.7947,-22.613 -> logL = -2766.514\n",
      "trial values: 279.47,-6.8155,0.4239,-21.954,280.43,-5.2453,0.55557,-22.1,278.43,-9.0431,0.81481,-22.11,279.83,-5.7977,-22.613 -> logL = -2766.514\n",
      "trial values: 279.47,-6.8155,0.4239,-21.954,280.43,-5.2453,0.55557,-22.1,278.43,-9.0431,0.81481,-22.11,279.83,-5.7962,-22.611 -> logL = -2766.514\n",
      "trial values: 279.47,-6.8155,0.4239,-21.954,280.43,-5.2453,0.55557,-22.1,278.43,-9.0431,0.81481,-22.11,279.83,-5.7962,-22.615 -> logL = -2766.514\n",
      "trial values: 279.47,-6.8155,0.4239,-21.954,280.43,-5.2453,0.55557,-22.1,278.43,-9.0431,0.81481,-22.11,279.83,-5.7962,-22.613 -> logL = -2766.513\n",
      "trial values: 279.47,-6.8155,0.4239,-21.954,280.43,-5.2453,0.55557,-22.1,278.43,-9.0431,0.81481,-22.11,279.83,-5.7962,-22.613 -> logL = -2766.513\n",
      "trial values: 279.47,-6.8153,0.4239,-21.954,280.43,-5.2453,0.55557,-22.1,278.43,-9.0431,0.81481,-22.11,279.83,-5.7962,-22.613 -> logL = -2766.513\n",
      "trial values: 279.47,-6.8157,0.4239,-21.954,280.43,-5.2453,0.55557,-22.1,278.43,-9.0431,0.81481,-22.11,279.83,-5.7962,-22.613 -> logL = -2766.513\n",
      "trial values: 279.47,-6.8155,0.4239,-21.954,280.43,-5.2453,0.55557,-22.1,278.43,-9.0431,0.81481,-22.11,279.83,-5.7962,-22.613 -> logL = -2766.513\n",
      "trial values: 279.47,-6.8155,0.4239,-21.954,280.43,-5.2453,0.55557,-22.1,278.43,-9.0431,0.81481,-22.11,279.83,-5.7962,-22.613 -> logL = -2766.513\n",
      "trial values: 279.47,-6.8155,0.42405,-21.954,280.43,-5.2453,0.55557,-22.1,278.43,-9.0431,0.81481,-22.11,279.83,-5.7962,-22.613 -> logL = -2766.513\n",
      "trial values: 279.47,-6.8155,0.42376,-21.954,280.43,-5.2453,0.55557,-22.1,278.43,-9.0431,0.81481,-22.11,279.83,-5.7962,-22.613 -> logL = -2766.513\n",
      "trial values: 279.47,-6.8155,0.4239,-21.954,280.43,-5.2453,0.55557,-22.1,278.43,-9.0431,0.81481,-22.11,279.83,-5.7962,-22.613 -> logL = -2766.513\n",
      "trial values: 279.47,-6.8155,0.4239,-21.955,280.43,-5.2453,0.55557,-22.1,278.43,-9.0431,0.81481,-22.11,279.83,-5.7962,-22.613 -> logL = -2766.513\n",
      "trial values: 279.47,-6.8155,0.4239,-21.954,280.43,-5.2453,0.55557,-22.1,278.43,-9.0431,0.81481,-22.11,279.83,-5.7962,-22.613 -> logL = -2766.513\n",
      "trial values: 279.47,-6.8155,0.4239,-21.955,280.43,-5.2453,0.55557,-22.1,278.43,-9.0431,0.81481,-22.11,279.83,-5.7962,-22.613 -> logL = -2766.513\n",
      "trial values: 279.47,-6.8155,0.4239,-21.954,280.43,-5.2453,0.55557,-22.1,278.43,-9.0431,0.81481,-22.11,279.83,-5.7962,-22.613 -> logL = -2766.513\n",
      "trial values: 279.47,-6.8155,0.4239,-21.954,280.43,-5.2453,0.55557,-22.1,278.43,-9.0431,0.81481,-22.11,279.83,-5.7962,-22.613 -> logL = -2766.513\n",
      "trial values: 279.47,-6.8155,0.4239,-21.954,280.43,-5.2449,0.55557,-22.1,278.43,-9.0431,0.81481,-22.11,279.83,-5.7962,-22.613 -> logL = -2766.513\n",
      "trial values: 279.47,-6.8155,0.4239,-21.954,280.43,-5.2456,0.55557,-22.1,278.43,-9.0431,0.81481,-22.11,279.83,-5.7962,-22.613 -> logL = -2766.513\n",
      "trial values: 279.47,-6.8155,0.4239,-21.954,280.43,-5.2452,0.55557,-22.1,278.43,-9.0431,0.81481,-22.11,279.83,-5.7962,-22.613 -> logL = -2766.513\n",
      "trial values: 279.47,-6.8155,0.4239,-21.954,280.43,-5.2453,0.55557,-22.1,278.43,-9.0431,0.81481,-22.11,279.83,-5.7962,-22.613 -> logL = -2766.513\n",
      "trial values: 279.47,-6.8155,0.4239,-21.954,280.43,-5.2453,0.55577,-22.1,278.43,-9.0431,0.81481,-22.11,279.83,-5.7962,-22.613 -> logL = -2766.513\n",
      "trial values: 279.47,-6.8155,0.4239,-21.954,280.43,-5.2453,0.55536,-22.1,278.43,-9.0431,0.81481,-22.11,279.83,-5.7962,-22.613 -> logL = -2766.513\n",
      "trial values: 279.47,-6.8155,0.4239,-21.954,280.43,-5.2453,0.55557,-22.1,278.43,-9.0431,0.81481,-22.11,279.83,-5.7962,-22.613 -> logL = -2766.513\n",
      "trial values: 279.47,-6.8155,0.4239,-21.954,280.43,-5.2453,0.55557,-22.1,278.43,-9.0431,0.81481,-22.11,279.83,-5.7962,-22.613 -> logL = -2766.513\n",
      "trial values: 279.47,-6.8155,0.4239,-21.954,280.43,-5.2453,0.55557,-22.1,278.43,-9.0431,0.81481,-22.11,279.83,-5.7962,-22.613 -> logL = -2766.513\n",
      "trial values: 279.47,-6.8155,0.4239,-21.954,280.43,-5.2453,0.55557,-22.1,278.43,-9.0431,0.81481,-22.11,279.83,-5.7962,-22.613 -> logL = -2766.513\n",
      "trial values: 279.47,-6.8155,0.4239,-21.954,280.43,-5.2453,0.55557,-22.1,278.43,-9.0431,0.81481,-22.11,279.83,-5.7962,-22.613 -> logL = -2766.513\n",
      "trial values: 279.47,-6.8155,0.4239,-21.954,280.43,-5.2453,0.55557,-22.1,278.43,-9.0431,0.81481,-22.11,279.83,-5.7962,-22.613 -> logL = -2766.513\n",
      "trial values: 279.47,-6.8155,0.4239,-21.954,280.43,-5.2453,0.55557,-22.1,278.43,-9.0422,0.81481,-22.11,279.83,-5.7962,-22.613 -> logL = -2766.513\n",
      "trial values: 279.47,-6.8155,0.4239,-21.954,280.43,-5.2453,0.55557,-22.1,278.43,-9.0439,0.81481,-22.11,279.83,-5.7962,-22.613 -> logL = -2766.513\n",
      "trial values: 279.47,-6.8155,0.4239,-21.954,280.43,-5.2453,0.55557,-22.1,278.43,-9.0429,0.81481,-22.11,279.83,-5.7962,-22.613 -> logL = -2766.513\n",
      "trial values: 279.47,-6.8155,0.4239,-21.954,280.43,-5.2453,0.55557,-22.1,278.43,-9.0432,0.81481,-22.11,279.83,-5.7962,-22.613 -> logL = -2766.513\n",
      "trial values: 279.47,-6.8155,0.4239,-21.954,280.43,-5.2453,0.55557,-22.1,278.43,-9.0431,0.81521,-22.11,279.83,-5.7962,-22.613 -> logL = -2766.513\n",
      "trial values: 279.47,-6.8155,0.4239,-21.954,280.43,-5.2453,0.55557,-22.1,278.43,-9.0431,0.81441,-22.11,279.83,-5.7962,-22.613 -> logL = -2766.513\n",
      "trial values: 279.47,-6.8155,0.4239,-21.954,280.43,-5.2453,0.55557,-22.1,278.43,-9.0431,0.81481,-22.11,279.83,-5.7962,-22.613 -> logL = -2766.513\n",
      "trial values: 279.47,-6.8155,0.4239,-21.954,280.43,-5.2453,0.55557,-22.1,278.43,-9.0431,0.81481,-22.111,279.83,-5.7962,-22.613 -> logL = -2766.513\n",
      "trial values: 279.47,-6.8155,0.4239,-21.954,280.43,-5.2453,0.55557,-22.1,278.43,-9.0431,0.81481,-22.11,279.83,-5.7962,-22.613 -> logL = -2766.513\n",
      "trial values: 279.47,-6.8155,0.4239,-21.954,280.43,-5.2453,0.55557,-22.1,278.43,-9.0431,0.81481,-22.11,279.83,-5.7962,-22.613 -> logL = -2766.513\n",
      "trial values: 279.47,-6.8155,0.4239,-21.954,280.43,-5.2453,0.55557,-22.1,278.43,-9.0431,0.81481,-22.11,279.83,-5.7962,-22.613 -> logL = -2766.513\n",
      "trial values: 279.47,-6.8155,0.4239,-21.954,280.43,-5.2453,0.55557,-22.1,278.43,-9.0431,0.81481,-22.11,279.83,-5.7962,-22.613 -> logL = -2766.513\n",
      "trial values: 279.47,-6.8155,0.4239,-21.954,280.43,-5.2453,0.55557,-22.1,278.43,-9.0431,0.81481,-22.11,279.83,-5.7962,-22.613 -> logL = -2766.513\n",
      "trial values: 279.47,-6.8155,0.4239,-21.954,280.43,-5.2453,0.55557,-22.1,278.43,-9.0431,0.81481,-22.11,279.83,-5.7962,-22.613 -> logL = -2766.513\n",
      "trial values: 279.47,-6.8155,0.4239,-21.954,280.43,-5.2453,0.55557,-22.1,278.43,-9.0431,0.81481,-22.11,279.83,-5.7959,-22.613 -> logL = -2766.513\n",
      "trial values: 279.47,-6.8155,0.4239,-21.954,280.43,-5.2453,0.55557,-22.1,278.43,-9.0431,0.81481,-22.11,279.83,-5.7965,-22.613 -> logL = -2766.513\n",
      "trial values: 279.47,-6.8155,0.4239,-21.954,280.43,-5.2453,0.55557,-22.1,278.43,-9.0431,0.81481,-22.11,279.83,-5.7961,-22.613 -> logL = -2766.513\n",
      "trial values: 279.47,-6.8155,0.4239,-21.954,280.43,-5.2453,0.55557,-22.1,278.43,-9.0431,0.81481,-22.11,279.83,-5.7963,-22.613 -> logL = -2766.513\n",
      "trial values: 279.47,-6.8155,0.4239,-21.954,280.43,-5.2453,0.55557,-22.1,278.43,-9.0431,0.81481,-22.11,279.83,-5.7962,-22.613 -> logL = -2766.513\n",
      "trial values: 279.47,-6.8155,0.4239,-21.954,280.43,-5.2453,0.55557,-22.1,278.43,-9.0431,0.81481,-22.11,279.83,-5.7962,-22.613 -> logL = -2766.513\n",
      "trial values: 279.47,-6.8155,0.4239,-21.954,280.43,-5.2453,0.55557,-22.1,278.43,-9.0431,0.81481,-22.11,279.83,-5.7962,-22.613 -> logL = -2766.513\n",
      "trial values: 279.47,-6.8155,0.4239,-21.954,280.43,-5.2453,0.55557,-22.1,278.43,-9.0431,0.81481,-22.11,279.83,-5.7962,-22.613 -> logL = -2766.513\n",
      "trial values: 279.47,-6.8144,0.4239,-21.954,280.43,-5.2453,0.55557,-22.1,278.43,-9.0431,0.81481,-22.11,279.83,-5.7962,-22.613 -> logL = -2766.514\n",
      "trial values: 279.47,-6.8155,0.42462,-21.954,280.43,-5.2453,0.55557,-22.1,278.43,-9.0431,0.81481,-22.11,279.83,-5.7962,-22.613 -> logL = -2766.514\n",
      "trial values: 279.47,-6.8155,0.4239,-21.954,280.43,-5.2453,0.55557,-22.1,278.43,-9.0431,0.81481,-22.11,279.83,-5.7962,-22.613 -> logL = -2766.514\n",
      "trial values: 279.47,-6.8155,0.4239,-21.954,280.44,-5.2453,0.55557,-22.1,278.43,-9.0431,0.81481,-22.11,279.83,-5.7962,-22.613 -> logL = -2766.514\n",
      "trial values: 279.47,-6.8155,0.4239,-21.954,280.43,-5.2435,0.55557,-22.1,278.43,-9.0431,0.81481,-22.11,279.83,-5.7962,-22.613 -> logL = -2766.514\n",
      "trial values: 279.47,-6.8155,0.4239,-21.954,280.43,-5.2453,0.5566,-22.1,278.43,-9.0431,0.81481,-22.11,279.83,-5.7962,-22.613 -> logL = -2766.514\n",
      "trial values: 279.47,-6.8155,0.4239,-21.954,280.43,-5.2453,0.55557,-22.099,278.43,-9.0431,0.81481,-22.11,279.83,-5.7962,-22.613 -> logL = -2766.514\n",
      "trial values: 279.47,-6.8155,0.4239,-21.954,280.43,-5.2453,0.55557,-22.1,278.43,-9.0431,0.81481,-22.11,279.83,-5.7962,-22.613 -> logL = -2766.514\n",
      "trial values: 279.47,-6.8155,0.4239,-21.954,280.43,-5.2453,0.55557,-22.1,278.43,-9.0387,0.81481,-22.11,279.83,-5.7962,-22.613 -> logL = -2766.514\n",
      "trial values: 279.47,-6.8155,0.4239,-21.954,280.43,-5.2453,0.55557,-22.1,278.43,-9.0431,0.81679,-22.11,279.83,-5.7962,-22.613 -> logL = -2766.514\n",
      "trial values: 279.47,-6.8155,0.4239,-21.954,280.43,-5.2453,0.55557,-22.1,278.43,-9.0431,0.81481,-22.109,279.83,-5.7962,-22.613 -> logL = -2766.514\n",
      "trial values: 279.47,-6.8155,0.4239,-21.954,280.43,-5.2453,0.55557,-22.1,278.43,-9.0431,0.81481,-22.11,279.83,-5.7962,-22.613 -> logL = -2766.514\n",
      "trial values: 279.47,-6.8155,0.4239,-21.954,280.43,-5.2453,0.55557,-22.1,278.43,-9.0431,0.81481,-22.11,279.83,-5.7947,-22.613 -> logL = -2766.514\n",
      "trial values: 279.47,-6.8155,0.4239,-21.954,280.43,-5.2453,0.55557,-22.1,278.43,-9.0431,0.81481,-22.11,279.83,-5.7962,-22.611 -> logL = -2766.514\n",
      "trial values: 279.47,-6.8144,0.42462,-21.954,280.43,-5.2453,0.55557,-22.1,278.43,-9.0431,0.81481,-22.11,279.83,-5.7962,-22.613 -> logL = -2766.514\n",
      "trial values: 279.47,-6.8144,0.4239,-21.954,280.43,-5.2453,0.55557,-22.1,278.43,-9.0431,0.81481,-22.11,279.83,-5.7962,-22.613 -> logL = -2766.514\n",
      "trial values: 279.47,-6.8144,0.4239,-21.954,280.44,-5.2453,0.55557,-22.1,278.43,-9.0431,0.81481,-22.11,279.83,-5.7962,-22.613 -> logL = -2766.514\n",
      "trial values: 279.47,-6.8144,0.4239,-21.954,280.43,-5.2435,0.55557,-22.1,278.43,-9.0431,0.81481,-22.11,279.83,-5.7962,-22.613 -> logL = -2766.514\n",
      "trial values: 279.47,-6.8144,0.4239,-21.954,280.43,-5.2453,0.5566,-22.1,278.43,-9.0431,0.81481,-22.11,279.83,-5.7962,-22.613 -> logL = -2766.514\n",
      "trial values: 279.47,-6.8144,0.4239,-21.954,280.43,-5.2453,0.55557,-22.099,278.43,-9.0431,0.81481,-22.11,279.83,-5.7962,-22.613 -> logL = -2766.514\n",
      "trial values: 279.47,-6.8144,0.4239,-21.954,280.43,-5.2453,0.55557,-22.1,278.43,-9.0431,0.81481,-22.11,279.83,-5.7962,-22.613 -> logL = -2766.514\n",
      "trial values: 279.47,-6.8144,0.4239,-21.954,280.43,-5.2453,0.55557,-22.1,278.43,-9.0387,0.81481,-22.11,279.83,-5.7962,-22.613 -> logL = -2766.514\n",
      "trial values: 279.47,-6.8144,0.4239,-21.954,280.43,-5.2453,0.55557,-22.1,278.43,-9.0431,0.81679,-22.11,279.83,-5.7962,-22.613 -> logL = -2766.514\n",
      "trial values: 279.47,-6.8144,0.4239,-21.954,280.43,-5.2453,0.55557,-22.1,278.43,-9.0431,0.81481,-22.109,279.83,-5.7962,-22.613 -> logL = -2766.514\n",
      "trial values: 279.47,-6.8144,0.4239,-21.954,280.43,-5.2453,0.55557,-22.1,278.43,-9.0431,0.81481,-22.11,279.83,-5.7962,-22.613 -> logL = -2766.514\n",
      "trial values: 279.47,-6.8144,0.4239,-21.954,280.43,-5.2453,0.55557,-22.1,278.43,-9.0431,0.81481,-22.11,279.83,-5.7947,-22.613 -> logL = -2766.514\n",
      "trial values: 279.47,-6.8144,0.4239,-21.954,280.43,-5.2453,0.55557,-22.1,278.43,-9.0431,0.81481,-22.11,279.83,-5.7962,-22.611 -> logL = -2766.515\n",
      "trial values: 279.47,-6.8155,0.42462,-21.954,280.43,-5.2453,0.55557,-22.1,278.43,-9.0431,0.81481,-22.11,279.83,-5.7962,-22.613 -> logL = -2766.514\n",
      "trial values: 279.47,-6.8155,0.42462,-21.954,280.44,-5.2453,0.55557,-22.1,278.43,-9.0431,0.81481,-22.11,279.83,-5.7962,-22.613 -> logL = -2766.514\n",
      "trial values: 279.47,-6.8155,0.42462,-21.954,280.43,-5.2435,0.55557,-22.1,278.43,-9.0431,0.81481,-22.11,279.83,-5.7962,-22.613 -> logL = -2766.514\n",
      "trial values: 279.47,-6.8155,0.42462,-21.954,280.43,-5.2453,0.5566,-22.1,278.43,-9.0431,0.81481,-22.11,279.83,-5.7962,-22.613 -> logL = -2766.514\n",
      "trial values: 279.47,-6.8155,0.42462,-21.954,280.43,-5.2453,0.55557,-22.099,278.43,-9.0431,0.81481,-22.11,279.83,-5.7962,-22.613 -> logL = -2766.514\n",
      "trial values: 279.47,-6.8155,0.42462,-21.954,280.43,-5.2453,0.55557,-22.1,278.43,-9.0431,0.81481,-22.11,279.83,-5.7962,-22.613 -> logL = -2766.514\n",
      "trial values: 279.47,-6.8155,0.42462,-21.954,280.43,-5.2453,0.55557,-22.1,278.43,-9.0387,0.81481,-22.11,279.83,-5.7962,-22.613 -> logL = -2766.514\n",
      "trial values: 279.47,-6.8155,0.42462,-21.954,280.43,-5.2453,0.55557,-22.1,278.43,-9.0431,0.81679,-22.11,279.83,-5.7962,-22.613 -> logL = -2766.514\n",
      "trial values: 279.47,-6.8155,0.42462,-21.954,280.43,-5.2453,0.55557,-22.1,278.43,-9.0431,0.81481,-22.109,279.83,-5.7962,-22.613 -> logL = -2766.514\n",
      "trial values: 279.47,-6.8155,0.42462,-21.954,280.43,-5.2453,0.55557,-22.1,278.43,-9.0431,0.81481,-22.11,279.83,-5.7962,-22.613 -> logL = -2766.514\n",
      "trial values: 279.47,-6.8155,0.42462,-21.954,280.43,-5.2453,0.55557,-22.1,278.43,-9.0431,0.81481,-22.11,279.83,-5.7947,-22.613 -> logL = -2766.514\n",
      "trial values: 279.47,-6.8155,0.42462,-21.954,280.43,-5.2453,0.55557,-22.1,278.43,-9.0431,0.81481,-22.11,279.83,-5.7962,-22.611 -> logL = -2766.514\n",
      "trial values: 279.47,-6.8155,0.4239,-21.954,280.44,-5.2453,0.55557,-22.1,278.43,-9.0431,0.81481,-22.11,279.83,-5.7962,-22.613 -> logL = -2766.514\n",
      "trial values: 279.47,-6.8155,0.4239,-21.954,280.43,-5.2435,0.55557,-22.1,278.43,-9.0431,0.81481,-22.11,279.83,-5.7962,-22.613 -> logL = -2766.514\n",
      "trial values: 279.47,-6.8155,0.4239,-21.954,280.43,-5.2453,0.5566,-22.1,278.43,-9.0431,0.81481,-22.11,279.83,-5.7962,-22.613 -> logL = -2766.514\n",
      "trial values: 279.47,-6.8155,0.4239,-21.954,280.43,-5.2453,0.55557,-22.099,278.43,-9.0431,0.81481,-22.11,279.83,-5.7962,-22.613 -> logL = -2766.514\n",
      "trial values: 279.47,-6.8155,0.4239,-21.954,280.43,-5.2453,0.55557,-22.1,278.43,-9.0431,0.81481,-22.11,279.83,-5.7962,-22.613 -> logL = -2766.514\n",
      "trial values: 279.47,-6.8155,0.4239,-21.954,280.43,-5.2453,0.55557,-22.1,278.43,-9.0387,0.81481,-22.11,279.83,-5.7962,-22.613 -> logL = -2766.515\n",
      "trial values: 279.47,-6.8155,0.4239,-21.954,280.43,-5.2453,0.55557,-22.1,278.43,-9.0431,0.81679,-22.11,279.83,-5.7962,-22.613 -> logL = -2766.514\n",
      "trial values: 279.47,-6.8155,0.4239,-21.954,280.43,-5.2453,0.55557,-22.1,278.43,-9.0431,0.81481,-22.109,279.83,-5.7962,-22.613 -> logL = -2766.515\n",
      "trial values: 279.47,-6.8155,0.4239,-21.954,280.43,-5.2453,0.55557,-22.1,278.43,-9.0431,0.81481,-22.11,279.83,-5.7962,-22.613 -> logL = -2766.514\n",
      "trial values: 279.47,-6.8155,0.4239,-21.954,280.43,-5.2453,0.55557,-22.1,278.43,-9.0431,0.81481,-22.11,279.83,-5.7947,-22.613 -> logL = -2766.514\n",
      "trial values: 279.47,-6.8155,0.4239,-21.954,280.43,-5.2453,0.55557,-22.1,278.43,-9.0431,0.81481,-22.11,279.83,-5.7962,-22.611 -> logL = -2766.515\n",
      "trial values: 279.47,-6.8155,0.4239,-21.954,280.44,-5.2435,0.55557,-22.1,278.43,-9.0431,0.81481,-22.11,279.83,-5.7962,-22.613 -> logL = -2766.514\n",
      "trial values: 279.47,-6.8155,0.4239,-21.954,280.44,-5.2453,0.5566,-22.1,278.43,-9.0431,0.81481,-22.11,279.83,-5.7962,-22.613 -> logL = -2766.514\n",
      "trial values: 279.47,-6.8155,0.4239,-21.954,280.44,-5.2453,0.55557,-22.099,278.43,-9.0431,0.81481,-22.11,279.83,-5.7962,-22.613 -> logL = -2766.514\n",
      "trial values: 279.47,-6.8155,0.4239,-21.954,280.44,-5.2453,0.55557,-22.1,278.43,-9.0431,0.81481,-22.11,279.83,-5.7962,-22.613 -> logL = -2766.514\n",
      "trial values: 279.47,-6.8155,0.4239,-21.954,280.44,-5.2453,0.55557,-22.1,278.43,-9.0387,0.81481,-22.11,279.83,-5.7962,-22.613 -> logL = -2766.514\n",
      "trial values: 279.47,-6.8155,0.4239,-21.954,280.44,-5.2453,0.55557,-22.1,278.43,-9.0431,0.81679,-22.11,279.83,-5.7962,-22.613 -> logL = -2766.514\n",
      "trial values: 279.47,-6.8155,0.4239,-21.954,280.44,-5.2453,0.55557,-22.1,278.43,-9.0431,0.81481,-22.109,279.83,-5.7962,-22.613 -> logL = -2766.514\n",
      "trial values: 279.47,-6.8155,0.4239,-21.954,280.44,-5.2453,0.55557,-22.1,278.43,-9.0431,0.81481,-22.11,279.83,-5.7962,-22.613 -> logL = -2766.514\n",
      "trial values: 279.47,-6.8155,0.4239,-21.954,280.44,-5.2453,0.55557,-22.1,278.43,-9.0431,0.81481,-22.11,279.83,-5.7947,-22.613 -> logL = -2766.514\n",
      "trial values: 279.47,-6.8155,0.4239,-21.954,280.44,-5.2453,0.55557,-22.1,278.43,-9.0431,0.81481,-22.11,279.83,-5.7962,-22.611 -> logL = -2766.514\n",
      "trial values: 279.47,-6.8155,0.4239,-21.954,280.43,-5.2435,0.5566,-22.1,278.43,-9.0431,0.81481,-22.11,279.83,-5.7962,-22.613 -> logL = -2766.514\n",
      "trial values: 279.47,-6.8155,0.4239,-21.954,280.43,-5.2435,0.55557,-22.099,278.43,-9.0431,0.81481,-22.11,279.83,-5.7962,-22.613 -> logL = -2766.514\n",
      "trial values: 279.47,-6.8155,0.4239,-21.954,280.43,-5.2435,0.55557,-22.1,278.43,-9.0431,0.81481,-22.11,279.83,-5.7962,-22.613 -> logL = -2766.514\n",
      "trial values: 279.47,-6.8155,0.4239,-21.954,280.43,-5.2435,0.55557,-22.1,278.43,-9.0387,0.81481,-22.11,279.83,-5.7962,-22.613 -> logL = -2766.514\n",
      "trial values: 279.47,-6.8155,0.4239,-21.954,280.43,-5.2435,0.55557,-22.1,278.43,-9.0431,0.81679,-22.11,279.83,-5.7962,-22.613 -> logL = -2766.514\n",
      "trial values: 279.47,-6.8155,0.4239,-21.954,280.43,-5.2435,0.55557,-22.1,278.43,-9.0431,0.81481,-22.109,279.83,-5.7962,-22.613 -> logL = -2766.514\n",
      "trial values: 279.47,-6.8155,0.4239,-21.954,280.43,-5.2435,0.55557,-22.1,278.43,-9.0431,0.81481,-22.11,279.83,-5.7962,-22.613 -> logL = -2766.514\n",
      "trial values: 279.47,-6.8155,0.4239,-21.954,280.43,-5.2435,0.55557,-22.1,278.43,-9.0431,0.81481,-22.11,279.83,-5.7947,-22.613 -> logL = -2766.515\n",
      "trial values: 279.47,-6.8155,0.4239,-21.954,280.43,-5.2435,0.55557,-22.1,278.43,-9.0431,0.81481,-22.11,279.83,-5.7962,-22.611 -> logL = -2766.514\n",
      "trial values: 279.47,-6.8155,0.4239,-21.954,280.43,-5.2453,0.5566,-22.099,278.43,-9.0431,0.81481,-22.11,279.83,-5.7962,-22.613 -> logL = -2766.513\n",
      "trial values: 279.47,-6.8155,0.4239,-21.954,280.43,-5.2453,0.5566,-22.1,278.43,-9.0431,0.81481,-22.11,279.83,-5.7962,-22.613 -> logL = -2766.514\n",
      "trial values: 279.47,-6.8155,0.4239,-21.954,280.43,-5.2453,0.5566,-22.1,278.43,-9.0387,0.81481,-22.11,279.83,-5.7962,-22.613 -> logL = -2766.514\n",
      "trial values: 279.47,-6.8155,0.4239,-21.954,280.43,-5.2453,0.5566,-22.1,278.43,-9.0431,0.81679,-22.11,279.83,-5.7962,-22.613 -> logL = -2766.514\n",
      "trial values: 279.47,-6.8155,0.4239,-21.954,280.43,-5.2453,0.5566,-22.1,278.43,-9.0431,0.81481,-22.109,279.83,-5.7962,-22.613 -> logL = -2766.514\n",
      "trial values: 279.47,-6.8155,0.4239,-21.954,280.43,-5.2453,0.5566,-22.1,278.43,-9.0431,0.81481,-22.11,279.83,-5.7962,-22.613 -> logL = -2766.514\n",
      "trial values: 279.47,-6.8155,0.4239,-21.954,280.43,-5.2453,0.5566,-22.1,278.43,-9.0431,0.81481,-22.11,279.83,-5.7947,-22.613 -> logL = -2766.514\n",
      "trial values: 279.47,-6.8155,0.4239,-21.954,280.43,-5.2453,0.5566,-22.1,278.43,-9.0431,0.81481,-22.11,279.83,-5.7962,-22.611 -> logL = -2766.514\n",
      "trial values: 279.47,-6.8155,0.4239,-21.954,280.43,-5.2453,0.55557,-22.099,278.43,-9.0431,0.81481,-22.11,279.83,-5.7962,-22.613 -> logL = -2766.514\n",
      "trial values: 279.47,-6.8155,0.4239,-21.954,280.43,-5.2453,0.55557,-22.099,278.43,-9.0387,0.81481,-22.11,279.83,-5.7962,-22.613 -> logL = -2766.514\n",
      "trial values: 279.47,-6.8155,0.4239,-21.954,280.43,-5.2453,0.55557,-22.099,278.43,-9.0431,0.81679,-22.11,279.83,-5.7962,-22.613 -> logL = -2766.514\n",
      "trial values: 279.47,-6.8155,0.4239,-21.954,280.43,-5.2453,0.55557,-22.099,278.43,-9.0431,0.81481,-22.109,279.83,-5.7962,-22.613 -> logL = -2766.514\n",
      "trial values: 279.47,-6.8155,0.4239,-21.954,280.43,-5.2453,0.55557,-22.099,278.43,-9.0431,0.81481,-22.11,279.83,-5.7962,-22.613 -> logL = -2766.514\n",
      "trial values: 279.47,-6.8155,0.4239,-21.954,280.43,-5.2453,0.55557,-22.099,278.43,-9.0431,0.81481,-22.11,279.83,-5.7947,-22.613 -> logL = -2766.514\n",
      "trial values: 279.47,-6.8155,0.4239,-21.954,280.43,-5.2453,0.55557,-22.099,278.43,-9.0431,0.81481,-22.11,279.83,-5.7962,-22.611 -> logL = -2766.515\n",
      "trial values: 279.47,-6.8155,0.4239,-21.954,280.43,-5.2453,0.55557,-22.1,278.43,-9.0387,0.81481,-22.11,279.83,-5.7962,-22.613 -> logL = -2766.514\n",
      "trial values: 279.47,-6.8155,0.4239,-21.954,280.43,-5.2453,0.55557,-22.1,278.43,-9.0431,0.81679,-22.11,279.83,-5.7962,-22.613 -> logL = -2766.514\n",
      "trial values: 279.47,-6.8155,0.4239,-21.954,280.43,-5.2453,0.55557,-22.1,278.43,-9.0431,0.81481,-22.109,279.83,-5.7962,-22.613 -> logL = -2766.515\n",
      "trial values: 279.47,-6.8155,0.4239,-21.954,280.43,-5.2453,0.55557,-22.1,278.43,-9.0431,0.81481,-22.11,279.83,-5.7962,-22.613 -> logL = -2766.514\n",
      "trial values: 279.47,-6.8155,0.4239,-21.954,280.43,-5.2453,0.55557,-22.1,278.43,-9.0431,0.81481,-22.11,279.83,-5.7947,-22.613 -> logL = -2766.514\n",
      "trial values: 279.47,-6.8155,0.4239,-21.954,280.43,-5.2453,0.55557,-22.1,278.43,-9.0431,0.81481,-22.11,279.83,-5.7962,-22.611 -> logL = -2766.514\n",
      "trial values: 279.47,-6.8155,0.4239,-21.954,280.43,-5.2453,0.55557,-22.1,278.43,-9.0387,0.81679,-22.11,279.83,-5.7962,-22.613 -> logL = -2766.514\n",
      "trial values: 279.47,-6.8155,0.4239,-21.954,280.43,-5.2453,0.55557,-22.1,278.43,-9.0387,0.81481,-22.109,279.83,-5.7962,-22.613 -> logL = -2766.515\n",
      "trial values: 279.47,-6.8155,0.4239,-21.954,280.43,-5.2453,0.55557,-22.1,278.43,-9.0387,0.81481,-22.11,279.83,-5.7962,-22.613 -> logL = -2766.514\n",
      "trial values: 279.47,-6.8155,0.4239,-21.954,280.43,-5.2453,0.55557,-22.1,278.43,-9.0387,0.81481,-22.11,279.83,-5.7947,-22.613 -> logL = -2766.514\n",
      "trial values: 279.47,-6.8155,0.4239,-21.954,280.43,-5.2453,0.55557,-22.1,278.43,-9.0387,0.81481,-22.11,279.83,-5.7962,-22.611 -> logL = -2766.514\n",
      "trial values: 279.47,-6.8155,0.4239,-21.954,280.43,-5.2453,0.55557,-22.1,278.43,-9.0431,0.81679,-22.109,279.83,-5.7962,-22.613 -> logL = -2766.513\n",
      "trial values: 279.47,-6.8155,0.4239,-21.954,280.43,-5.2453,0.55557,-22.1,278.43,-9.0431,0.81679,-22.11,279.83,-5.7962,-22.613 -> logL = -2766.514\n",
      "trial values: 279.47,-6.8155,0.4239,-21.954,280.43,-5.2453,0.55557,-22.1,278.43,-9.0431,0.81679,-22.11,279.83,-5.7947,-22.613 -> logL = -2766.514\n",
      "trial values: 279.47,-6.8155,0.4239,-21.954,280.43,-5.2453,0.55557,-22.1,278.43,-9.0431,0.81679,-22.11,279.83,-5.7962,-22.611 -> logL = -2766.514\n",
      "trial values: 279.47,-6.8155,0.4239,-21.954,280.43,-5.2453,0.55557,-22.1,278.43,-9.0431,0.81481,-22.109,279.83,-5.7962,-22.613 -> logL = -2766.514\n",
      "trial values: 279.47,-6.8155,0.4239,-21.954,280.43,-5.2453,0.55557,-22.1,278.43,-9.0431,0.81481,-22.109,279.83,-5.7947,-22.613 -> logL = -2766.514\n",
      "trial values: 279.47,-6.8155,0.4239,-21.954,280.43,-5.2453,0.55557,-22.1,278.43,-9.0431,0.81481,-22.109,279.83,-5.7962,-22.611 -> logL = -2766.514\n",
      "trial values: 279.47,-6.8155,0.4239,-21.954,280.43,-5.2453,0.55557,-22.1,278.43,-9.0431,0.81481,-22.11,279.83,-5.7947,-22.613 -> logL = -2766.514\n",
      "trial values: 279.47,-6.8155,0.4239,-21.954,280.43,-5.2453,0.55557,-22.1,278.43,-9.0431,0.81481,-22.11,279.83,-5.7962,-22.611 -> logL = -2766.514\n",
      "trial values: 279.47,-6.8155,0.4239,-21.954,280.43,-5.2453,0.55557,-22.1,278.43,-9.0431,0.81481,-22.11,279.83,-5.7947,-22.611 -> logL = -2766.514\n",
      "trial values: 279.47,-6.8155,0.4239,-21.954,280.43,-5.2453,0.55557,-22.1,278.43,-9.0431,0.81481,-22.11,279.83,-5.7962,-22.613 -> logL = -2766.513\n",
      "trial values: 279.47,-6.8155,0.4239,-21.954,280.43,-5.2453,0.55557,-22.1,278.43,-9.0431,0.81481,-22.11,279.83,-5.7962,-22.613 -> logL = -2766.513\n",
      "trial values: 279.47,-6.8155,0.4239,-21.954,280.43,-5.2453,0.55557,-22.1,278.43,-9.0431,0.81481,-22.11,279.83,-5.7962,-22.613 -> logL = -2766.513\n",
      "trial values: 279.47,-6.8155,0.4239,-21.954,280.43,-5.2453,0.55557,-22.1,278.43,-9.0431,0.81481,-22.11,279.83,-5.7962,-22.613 -> logL = -2766.513\n",
      "trial values: 279.47,-6.8155,0.4239,-21.954,280.43,-5.2453,0.55557,-22.1,278.43,-9.0431,0.81481,-22.11,279.83,-5.7962,-22.613 -> logL = -2766.513\n",
      "trial values: 279.47,-6.8155,0.42405,-21.954,280.43,-5.2453,0.55557,-22.1,278.43,-9.0431,0.81481,-22.11,279.83,-5.7962,-22.613 -> logL = -2766.513\n",
      "trial values: 279.47,-6.8155,0.42376,-21.954,280.43,-5.2453,0.55557,-22.1,278.43,-9.0431,0.81481,-22.11,279.83,-5.7962,-22.613 -> logL = -2766.513\n",
      "trial values: 279.47,-6.8155,0.4239,-21.954,280.43,-5.2453,0.55557,-22.1,278.43,-9.0431,0.81481,-22.11,279.83,-5.7962,-22.613 -> logL = -2766.513\n",
      "trial values: 279.47,-6.8155,0.4239,-21.955,280.43,-5.2453,0.55557,-22.1,278.43,-9.0431,0.81481,-22.11,279.83,-5.7962,-22.613 -> logL = -2766.513\n",
      "trial values: 279.47,-6.8155,0.4239,-21.954,280.43,-5.2453,0.55557,-22.1,278.43,-9.0431,0.81481,-22.11,279.83,-5.7962,-22.613 -> logL = -2766.513\n",
      "trial values: 279.47,-6.8155,0.4239,-21.954,280.43,-5.2453,0.55557,-22.1,278.43,-9.0431,0.81481,-22.11,279.83,-5.7962,-22.613 -> logL = -2766.513\n",
      "trial values: 279.47,-6.8155,0.4239,-21.954,280.43,-5.2452,0.55557,-22.1,278.43,-9.0431,0.81481,-22.11,279.83,-5.7962,-22.613 -> logL = -2766.513\n",
      "trial values: 279.47,-6.8155,0.4239,-21.954,280.43,-5.2453,0.55557,-22.1,278.43,-9.0431,0.81481,-22.11,279.83,-5.7962,-22.613 -> logL = -2766.513\n",
      "trial values: 279.47,-6.8155,0.4239,-21.954,280.43,-5.2453,0.55577,-22.1,278.43,-9.0431,0.81481,-22.11,279.83,-5.7962,-22.613 -> logL = -2766.513\n",
      "trial values: 279.47,-6.8155,0.4239,-21.954,280.43,-5.2453,0.55536,-22.1,278.43,-9.0431,0.81481,-22.11,279.83,-5.7962,-22.613 -> logL = -2766.513\n",
      "trial values: 279.47,-6.8155,0.4239,-21.954,280.43,-5.2453,0.55557,-22.1,278.43,-9.0431,0.81481,-22.11,279.83,-5.7962,-22.613 -> logL = -2766.513\n",
      "trial values: 279.47,-6.8155,0.4239,-21.954,280.43,-5.2453,0.55557,-22.1,278.43,-9.0431,0.81481,-22.11,279.83,-5.7962,-22.613 -> logL = -2766.513\n",
      "trial values: 279.47,-6.8155,0.4239,-21.954,280.43,-5.2453,0.55557,-22.1,278.43,-9.0431,0.81481,-22.11,279.83,-5.7962,-22.613 -> logL = -2766.513\n",
      "trial values: 279.47,-6.8155,0.4239,-21.954,280.43,-5.2453,0.55557,-22.1,278.43,-9.0431,0.81481,-22.11,279.83,-5.7962,-22.613 -> logL = -2766.513\n",
      "trial values: 279.47,-6.8155,0.4239,-21.954,280.43,-5.2453,0.55557,-22.1,278.43,-9.0429,0.81481,-22.11,279.83,-5.7962,-22.613 -> logL = -2766.513\n",
      "trial values: 279.47,-6.8155,0.4239,-21.954,280.43,-5.2453,0.55557,-22.1,278.43,-9.0432,0.81481,-22.11,279.83,-5.7962,-22.613 -> logL = -2766.513\n",
      "trial values: 279.47,-6.8155,0.4239,-21.954,280.43,-5.2453,0.55557,-22.1,278.43,-9.0431,0.81521,-22.11,279.83,-5.7962,-22.613 -> logL = -2766.513\n",
      "trial values: 279.47,-6.8155,0.4239,-21.954,280.43,-5.2453,0.55557,-22.1,278.43,-9.0431,0.81441,-22.11,279.83,-5.7962,-22.613 -> logL = -2766.513\n",
      "trial values: 279.47,-6.8155,0.4239,-21.954,280.43,-5.2453,0.55557,-22.1,278.43,-9.0431,0.81481,-22.11,279.83,-5.7962,-22.613 -> logL = -2766.513\n",
      "trial values: 279.47,-6.8155,0.4239,-21.954,280.43,-5.2453,0.55557,-22.1,278.43,-9.0431,0.81481,-22.11,279.83,-5.7962,-22.613 -> logL = -2766.513\n",
      "trial values: 279.47,-6.8155,0.4239,-21.954,280.43,-5.2453,0.55557,-22.1,278.43,-9.0431,0.81481,-22.11,279.83,-5.7962,-22.613 -> logL = -2766.513\n",
      "trial values: 279.47,-6.8155,0.4239,-21.954,280.43,-5.2453,0.55557,-22.1,278.43,-9.0431,0.81481,-22.11,279.83,-5.7962,-22.613 -> logL = -2766.513\n",
      "trial values: 279.47,-6.8155,0.4239,-21.954,280.43,-5.2453,0.55557,-22.1,278.43,-9.0431,0.81481,-22.11,279.83,-5.7961,-22.613 -> logL = -2766.513\n",
      "trial values: 279.47,-6.8155,0.4239,-21.954,280.43,-5.2453,0.55557,-22.1,278.43,-9.0431,0.81481,-22.11,279.83,-5.7963,-22.613 -> logL = -2766.513\n",
      "trial values: 279.47,-6.8155,0.4239,-21.954,280.43,-5.2453,0.55557,-22.1,278.43,-9.0431,0.81481,-22.11,279.83,-5.7962,-22.613 -> logL = -2766.513\n",
      "trial values: 279.47,-6.8155,0.4239,-21.954,280.43,-5.2453,0.55557,-22.1,278.43,-9.0431,0.81481,-22.11,279.83,-5.7962,-22.613 -> logL = -2766.513\n",
      "trial values: 279.47,-6.8155,0.4239,-21.954,280.43,-5.2453,0.55557,-22.1,278.43,-9.0431,0.81481,-22.11,279.83,-5.7962,-22.613 -> logL = -2766.513\n",
      "trial values: 279.47,-6.8155,0.4239,-21.954,280.43,-5.2453,0.55557,-22.1,278.43,-9.0431,0.81481,-22.11,279.83,-5.7962,-22.613 -> logL = -2766.513\n",
      "trial values: 279.47,-6.8155,0.4239,-21.954,280.43,-5.2453,0.55557,-22.1,278.43,-9.0431,0.81481,-22.11,279.83,-5.7962,-22.613 -> logL = -2766.513\n",
      "trial values: 279.47,-6.8155,0.4239,-21.954,280.43,-5.2453,0.55557,-22.1,278.43,-9.0431,0.81481,-22.11,279.83,-5.7962,-22.613 -> logL = -2766.513\n",
      "trial values: 279.47,-6.8155,0.42393,-21.954,280.43,-5.2453,0.55557,-22.1,278.43,-9.0431,0.81481,-22.11,279.83,-5.7962,-22.613 -> logL = -2766.513\n",
      "trial values: 279.47,-6.8155,0.42387,-21.954,280.43,-5.2453,0.55557,-22.1,278.43,-9.0431,0.81481,-22.11,279.83,-5.7962,-22.613 -> logL = -2766.513\n",
      "trial values: 279.47,-6.8155,0.4239,-21.954,280.43,-5.2453,0.55557,-22.1,278.43,-9.0431,0.81481,-22.11,279.83,-5.7962,-22.613 -> logL = -2766.513\n",
      "trial values: 279.47,-6.8155,0.4239,-21.955,280.43,-5.2453,0.55557,-22.1,278.43,-9.0431,0.81481,-22.11,279.83,-5.7962,-22.613 -> logL = -2766.513\n",
      "trial values: 279.47,-6.8155,0.4239,-21.954,280.43,-5.2453,0.55557,-22.1,278.43,-9.0431,0.81481,-22.11,279.83,-5.7962,-22.613 -> logL = -2766.513\n",
      "trial values: 279.47,-6.8155,0.4239,-21.954,280.43,-5.2453,0.55557,-22.1,278.43,-9.0431,0.81481,-22.11,279.83,-5.7962,-22.613 -> logL = -2766.513\n",
      "trial values: 279.47,-6.8155,0.4239,-21.954,280.43,-5.2453,0.55557,-22.1,278.43,-9.0431,0.81481,-22.11,279.83,-5.7962,-22.613 -> logL = -2766.513\n",
      "trial values: 279.47,-6.8155,0.4239,-21.954,280.43,-5.2453,0.55557,-22.1,278.43,-9.0431,0.81481,-22.11,279.83,-5.7962,-22.613 -> logL = -2766.513\n",
      "trial values: 279.47,-6.8155,0.4239,-21.954,280.43,-5.2453,0.55561,-22.1,278.43,-9.0431,0.81481,-22.11,279.83,-5.7962,-22.613 -> logL = -2766.513\n",
      "trial values: 279.47,-6.8155,0.4239,-21.954,280.43,-5.2453,0.55552,-22.1,278.43,-9.0431,0.81481,-22.11,279.83,-5.7962,-22.613 -> logL = -2766.513\n",
      "trial values: 279.47,-6.8155,0.4239,-21.954,280.43,-5.2453,0.55557,-22.1,278.43,-9.0431,0.81481,-22.11,279.83,-5.7962,-22.613 -> logL = -2766.513\n",
      "trial values: 279.47,-6.8155,0.4239,-21.954,280.43,-5.2453,0.55557,-22.1,278.43,-9.0431,0.81481,-22.11,279.83,-5.7962,-22.613 -> logL = -2766.513\n",
      "trial values: 279.47,-6.8155,0.4239,-21.954,280.43,-5.2453,0.55557,-22.1,278.43,-9.0431,0.81481,-22.11,279.83,-5.7962,-22.613 -> logL = -2766.513\n",
      "trial values: 279.47,-6.8155,0.4239,-21.954,280.43,-5.2453,0.55557,-22.1,278.43,-9.0431,0.81481,-22.11,279.83,-5.7962,-22.613 -> logL = -2766.513\n",
      "trial values: 279.47,-6.8155,0.4239,-21.954,280.43,-5.2453,0.55557,-22.1,278.43,-9.043,0.81481,-22.11,279.83,-5.7962,-22.613 -> logL = -2766.513\n",
      "trial values: 279.47,-6.8155,0.4239,-21.954,280.43,-5.2453,0.55557,-22.1,278.43,-9.0431,0.81481,-22.11,279.83,-5.7962,-22.613 -> logL = -2766.513\n",
      "trial values: 279.47,-6.8155,0.4239,-21.954,280.43,-5.2453,0.55557,-22.1,278.43,-9.0431,0.81489,-22.11,279.83,-5.7962,-22.613 -> logL = -2766.513\n",
      "trial values: 279.47,-6.8155,0.4239,-21.954,280.43,-5.2453,0.55557,-22.1,278.43,-9.0431,0.81473,-22.11,279.83,-5.7962,-22.613 -> logL = -2766.513\n",
      "trial values: 279.47,-6.8155,0.4239,-21.954,280.43,-5.2453,0.55557,-22.1,278.43,-9.0431,0.81481,-22.11,279.83,-5.7962,-22.613 -> logL = -2766.513\n",
      "trial values: 279.47,-6.8155,0.4239,-21.954,280.43,-5.2453,0.55557,-22.1,278.43,-9.0431,0.81481,-22.11,279.83,-5.7962,-22.613 -> logL = -2766.513\n",
      "trial values: 279.47,-6.8155,0.4239,-21.954,280.43,-5.2453,0.55557,-22.1,278.43,-9.0431,0.81481,-22.11,279.83,-5.7962,-22.613 -> logL = -2766.513\n",
      "trial values: 279.47,-6.8155,0.4239,-21.954,280.43,-5.2453,0.55557,-22.1,278.43,-9.0431,0.81481,-22.11,279.83,-5.7962,-22.613 -> logL = -2766.513\n",
      "trial values: 279.47,-6.8155,0.4239,-21.954,280.43,-5.2453,0.55557,-22.1,278.43,-9.0431,0.81481,-22.11,279.83,-5.7962,-22.613 -> logL = -2766.513\n",
      "trial values: 279.47,-6.8155,0.4239,-21.954,280.43,-5.2453,0.55557,-22.1,278.43,-9.0431,0.81481,-22.11,279.83,-5.7962,-22.613 -> logL = -2766.513\n",
      "trial values: 279.47,-6.8155,0.4239,-21.954,280.43,-5.2453,0.55557,-22.1,278.43,-9.0431,0.81481,-22.11,279.83,-5.7962,-22.613 -> logL = -2766.513\n",
      "trial values: 279.47,-6.8155,0.4239,-21.954,280.43,-5.2453,0.55557,-22.1,278.43,-9.0431,0.81481,-22.11,279.83,-5.7962,-22.613 -> logL = -2766.513\n",
      "trial values: 279.47,-6.8155,0.4239,-21.954,280.43,-5.2453,0.55557,-22.1,278.43,-9.0431,0.81481,-22.11,279.83,-5.7962,-22.613 -> logL = -2766.513\n",
      "trial values: 279.47,-6.8155,0.4239,-21.954,280.43,-5.2453,0.55557,-22.1,278.43,-9.0431,0.81481,-22.11,279.83,-5.7962,-22.613 -> logL = -2766.513\n",
      "trial values: 279.47,-6.8155,0.4239,-21.954,280.43,-5.2453,0.55557,-22.1,278.43,-9.0431,0.81481,-22.11,279.83,-5.7962,-22.613 -> logL = -2766.513\n",
      "trial values: 279.47,-6.8155,0.42405,-21.954,280.43,-5.2453,0.55557,-22.1,278.43,-9.0431,0.81481,-22.11,279.83,-5.7962,-22.613 -> logL = -2766.513\n",
      "trial values: 279.47,-6.8155,0.4239,-21.954,280.43,-5.2453,0.55557,-22.1,278.43,-9.0431,0.81481,-22.11,279.83,-5.7962,-22.613 -> logL = -2766.513\n",
      "trial values: 279.47,-6.8155,0.4239,-21.954,280.43,-5.2453,0.55557,-22.1,278.43,-9.0431,0.81481,-22.11,279.83,-5.7962,-22.613 -> logL = -2766.513\n",
      "trial values: 279.47,-6.8155,0.4239,-21.954,280.43,-5.2452,0.55557,-22.1,278.43,-9.0431,0.81481,-22.11,279.83,-5.7962,-22.613 -> logL = -2766.513\n",
      "trial values: 279.47,-6.8155,0.4239,-21.954,280.43,-5.2453,0.55577,-22.1,278.43,-9.0431,0.81481,-22.11,279.83,-5.7962,-22.613 -> logL = -2766.513\n",
      "trial values: 279.47,-6.8155,0.4239,-21.954,280.43,-5.2453,0.55557,-22.1,278.43,-9.0431,0.81481,-22.11,279.83,-5.7962,-22.613 -> logL = -2766.513\n",
      "trial values: 279.47,-6.8155,0.4239,-21.954,280.43,-5.2453,0.55557,-22.1,278.43,-9.0431,0.81481,-22.11,279.83,-5.7962,-22.613 -> logL = -2766.513\n",
      "trial values: 279.47,-6.8155,0.4239,-21.954,280.43,-5.2453,0.55557,-22.1,278.43,-9.0429,0.81481,-22.11,279.83,-5.7962,-22.613 -> logL = -2766.513\n",
      "trial values: 279.47,-6.8155,0.4239,-21.954,280.43,-5.2453,0.55557,-22.1,278.43,-9.0431,0.81521,-22.11,279.83,-5.7962,-22.613 -> logL = -2766.513\n",
      "trial values: 279.47,-6.8155,0.4239,-21.954,280.43,-5.2453,0.55557,-22.1,278.43,-9.0431,0.81481,-22.11,279.83,-5.7962,-22.613 -> logL = -2766.513\n",
      "trial values: 279.47,-6.8155,0.4239,-21.954,280.43,-5.2453,0.55557,-22.1,278.43,-9.0431,0.81481,-22.11,279.83,-5.7962,-22.613 -> logL = -2766.513\n",
      "trial values: 279.47,-6.8155,0.4239,-21.954,280.43,-5.2453,0.55557,-22.1,278.43,-9.0431,0.81481,-22.11,279.83,-5.7961,-22.613 -> logL = -2766.513\n",
      "trial values: 279.47,-6.8155,0.4239,-21.954,280.43,-5.2453,0.55557,-22.1,278.43,-9.0431,0.81481,-22.11,279.83,-5.7962,-22.613 -> logL = -2766.513\n",
      "trial values: 279.47,-6.8155,0.42405,-21.954,280.43,-5.2453,0.55557,-22.1,278.43,-9.0431,0.81481,-22.11,279.83,-5.7962,-22.613 -> logL = -2766.513\n",
      "trial values: 279.47,-6.8155,0.4239,-21.954,280.43,-5.2453,0.55557,-22.1,278.43,-9.0431,0.81481,-22.11,279.83,-5.7962,-22.613 -> logL = -2766.513\n",
      "trial values: 279.47,-6.8155,0.4239,-21.954,280.43,-5.2453,0.55557,-22.1,278.43,-9.0431,0.81481,-22.11,279.83,-5.7962,-22.613 -> logL = -2766.513\n",
      "trial values: 279.47,-6.8155,0.4239,-21.954,280.43,-5.2452,0.55557,-22.1,278.43,-9.0431,0.81481,-22.11,279.83,-5.7962,-22.613 -> logL = -2766.513\n",
      "trial values: 279.47,-6.8155,0.4239,-21.954,280.43,-5.2453,0.55577,-22.1,278.43,-9.0431,0.81481,-22.11,279.83,-5.7962,-22.613 -> logL = -2766.513\n",
      "trial values: 279.47,-6.8155,0.4239,-21.954,280.43,-5.2453,0.55557,-22.1,278.43,-9.0431,0.81481,-22.11,279.83,-5.7962,-22.613 -> logL = -2766.513\n",
      "trial values: 279.47,-6.8155,0.4239,-21.954,280.43,-5.2453,0.55557,-22.1,278.43,-9.0431,0.81481,-22.11,279.83,-5.7962,-22.613 -> logL = -2766.513\n",
      "trial values: 279.47,-6.8155,0.4239,-21.954,280.43,-5.2453,0.55557,-22.1,278.43,-9.0429,0.81481,-22.11,279.83,-5.7962,-22.613 -> logL = -2766.513\n",
      "trial values: 279.47,-6.8155,0.4239,-21.954,280.43,-5.2453,0.55557,-22.1,278.43,-9.0431,0.81521,-22.11,279.83,-5.7962,-22.613 -> logL = -2766.513\n",
      "trial values: 279.47,-6.8155,0.4239,-21.954,280.43,-5.2453,0.55557,-22.1,278.43,-9.0431,0.81481,-22.11,279.83,-5.7962,-22.613 -> logL = -2766.513\n",
      "trial values: 279.47,-6.8155,0.4239,-21.954,280.43,-5.2453,0.55557,-22.1,278.43,-9.0431,0.81481,-22.11,279.83,-5.7962,-22.613 -> logL = -2766.513\n",
      "trial values: 279.47,-6.8155,0.4239,-21.954,280.43,-5.2453,0.55557,-22.1,278.43,-9.0431,0.81481,-22.11,279.83,-5.7961,-22.613 -> logL = -2766.513\n",
      "trial values: 279.47,-6.8155,0.4239,-21.954,280.43,-5.2453,0.55557,-22.1,278.43,-9.0431,0.81481,-22.11,279.83,-5.7962,-22.613 -> logL = -2766.513\n",
      "trial values: 279.47,-6.8155,0.42405,-21.954,280.43,-5.2453,0.55557,-22.1,278.43,-9.0431,0.81481,-22.11,279.83,-5.7962,-22.613 -> logL = -2766.513\n",
      "trial values: 279.47,-6.8155,0.42405,-21.954,280.43,-5.2453,0.55557,-22.1,278.43,-9.0431,0.81481,-22.11,279.83,-5.7962,-22.613 -> logL = -2766.513\n",
      "trial values: 279.47,-6.8155,0.42405,-21.954,280.43,-5.2452,0.55557,-22.1,278.43,-9.0431,0.81481,-22.11,279.83,-5.7962,-22.613 -> logL = -2766.513\n",
      "trial values: 279.47,-6.8155,0.42405,-21.954,280.43,-5.2453,0.55577,-22.1,278.43,-9.0431,0.81481,-22.11,279.83,-5.7962,-22.613 -> logL = -2766.513\n",
      "trial values: 279.47,-6.8155,0.42405,-21.954,280.43,-5.2453,0.55557,-22.1,278.43,-9.0431,0.81481,-22.11,279.83,-5.7962,-22.613 -> logL = -2766.513\n",
      "trial values: 279.47,-6.8155,0.42405,-21.954,280.43,-5.2453,0.55557,-22.1,278.43,-9.0431,0.81481,-22.11,279.83,-5.7962,-22.613 -> logL = -2766.513\n",
      "trial values: 279.47,-6.8155,0.42405,-21.954,280.43,-5.2453,0.55557,-22.1,278.43,-9.0429,0.81481,-22.11,279.83,-5.7962,-22.613 -> logL = -2766.513\n",
      "trial values: 279.47,-6.8155,0.42405,-21.954,280.43,-5.2453,0.55557,-22.1,278.43,-9.0431,0.81521,-22.11,279.83,-5.7962,-22.613 -> logL = -2766.513\n",
      "trial values: 279.47,-6.8155,0.42405,-21.954,280.43,-5.2453,0.55557,-22.1,278.43,-9.0431,0.81481,-22.11,279.83,-5.7962,-22.613 -> logL = -2766.513\n",
      "trial values: 279.47,-6.8155,0.42405,-21.954,280.43,-5.2453,0.55557,-22.1,278.43,-9.0431,0.81481,-22.11,279.83,-5.7962,-22.613 -> logL = -2766.513\n",
      "trial values: 279.47,-6.8155,0.42405,-21.954,280.43,-5.2453,0.55557,-22.1,278.43,-9.0431,0.81481,-22.11,279.83,-5.7961,-22.613 -> logL = -2766.513\n",
      "trial values: 279.47,-6.8155,0.42405,-21.954,280.43,-5.2453,0.55557,-22.1,278.43,-9.0431,0.81481,-22.11,279.83,-5.7962,-22.613 -> logL = -2766.513\n",
      "trial values: 279.47,-6.8155,0.4239,-21.954,280.43,-5.2453,0.55557,-22.1,278.43,-9.0431,0.81481,-22.11,279.83,-5.7962,-22.613 -> logL = -2766.513\n",
      "trial values: 279.47,-6.8155,0.4239,-21.954,280.43,-5.2452,0.55557,-22.1,278.43,-9.0431,0.81481,-22.11,279.83,-5.7962,-22.613 -> logL = -2766.513\n",
      "trial values: 279.47,-6.8155,0.4239,-21.954,280.43,-5.2453,0.55577,-22.1,278.43,-9.0431,0.81481,-22.11,279.83,-5.7962,-22.613 -> logL = -2766.513\n",
      "trial values: 279.47,-6.8155,0.4239,-21.954,280.43,-5.2453,0.55557,-22.1,278.43,-9.0431,0.81481,-22.11,279.83,-5.7962,-22.613 -> logL = -2766.513\n",
      "trial values: 279.47,-6.8155,0.4239,-21.954,280.43,-5.2453,0.55557,-22.1,278.43,-9.0431,0.81481,-22.11,279.83,-5.7962,-22.613 -> logL = -2766.513\n",
      "trial values: 279.47,-6.8155,0.4239,-21.954,280.43,-5.2453,0.55557,-22.1,278.43,-9.0429,0.81481,-22.11,279.83,-5.7962,-22.613 -> logL = -2766.513\n",
      "trial values: 279.47,-6.8155,0.4239,-21.954,280.43,-5.2453,0.55557,-22.1,278.43,-9.0431,0.81521,-22.11,279.83,-5.7962,-22.613 -> logL = -2766.513\n",
      "trial values: 279.47,-6.8155,0.4239,-21.954,280.43,-5.2453,0.55557,-22.1,278.43,-9.0431,0.81481,-22.11,279.83,-5.7962,-22.613 -> logL = -2766.513\n",
      "trial values: 279.47,-6.8155,0.4239,-21.954,280.43,-5.2453,0.55557,-22.1,278.43,-9.0431,0.81481,-22.11,279.83,-5.7962,-22.613 -> logL = -2766.513\n",
      "trial values: 279.47,-6.8155,0.4239,-21.954,280.43,-5.2453,0.55557,-22.1,278.43,-9.0431,0.81481,-22.11,279.83,-5.7961,-22.613 -> logL = -2766.513\n",
      "trial values: 279.47,-6.8155,0.4239,-21.954,280.43,-5.2453,0.55557,-22.1,278.43,-9.0431,0.81481,-22.11,279.83,-5.7962,-22.613 -> logL = -2766.513\n",
      "trial values: 279.47,-6.8155,0.4239,-21.954,280.43,-5.2452,0.55557,-22.1,278.43,-9.0431,0.81481,-22.11,279.83,-5.7962,-22.613 -> logL = -2766.513\n",
      "trial values: 279.47,-6.8155,0.4239,-21.954,280.43,-5.2453,0.55577,-22.1,278.43,-9.0431,0.81481,-22.11,279.83,-5.7962,-22.613 -> logL = -2766.513\n",
      "trial values: 279.47,-6.8155,0.4239,-21.954,280.43,-5.2453,0.55557,-22.1,278.43,-9.0431,0.81481,-22.11,279.83,-5.7962,-22.613 -> logL = -2766.513\n",
      "trial values: 279.47,-6.8155,0.4239,-21.954,280.43,-5.2453,0.55557,-22.1,278.43,-9.0431,0.81481,-22.11,279.83,-5.7962,-22.613 -> logL = -2766.513\n",
      "trial values: 279.47,-6.8155,0.4239,-21.954,280.43,-5.2453,0.55557,-22.1,278.43,-9.0429,0.81481,-22.11,279.83,-5.7962,-22.613 -> logL = -2766.513\n",
      "trial values: 279.47,-6.8155,0.4239,-21.954,280.43,-5.2453,0.55557,-22.1,278.43,-9.0431,0.81521,-22.11,279.83,-5.7962,-22.613 -> logL = -2766.513\n",
      "trial values: 279.47,-6.8155,0.4239,-21.954,280.43,-5.2453,0.55557,-22.1,278.43,-9.0431,0.81481,-22.11,279.83,-5.7962,-22.613 -> logL = -2766.513\n",
      "trial values: 279.47,-6.8155,0.4239,-21.954,280.43,-5.2453,0.55557,-22.1,278.43,-9.0431,0.81481,-22.11,279.83,-5.7962,-22.613 -> logL = -2766.513\n",
      "trial values: 279.47,-6.8155,0.4239,-21.954,280.43,-5.2453,0.55557,-22.1,278.43,-9.0431,0.81481,-22.11,279.83,-5.7961,-22.613 -> logL = -2766.513\n",
      "trial values: 279.47,-6.8155,0.4239,-21.954,280.43,-5.2453,0.55557,-22.1,278.43,-9.0431,0.81481,-22.11,279.83,-5.7962,-22.613 -> logL = -2766.513\n",
      "trial values: 279.47,-6.8155,0.4239,-21.954,280.43,-5.2452,0.55577,-22.1,278.43,-9.0431,0.81481,-22.11,279.83,-5.7962,-22.613 -> logL = -2766.513\n",
      "trial values: 279.47,-6.8155,0.4239,-21.954,280.43,-5.2452,0.55557,-22.1,278.43,-9.0431,0.81481,-22.11,279.83,-5.7962,-22.613 -> logL = -2766.513\n",
      "trial values: 279.47,-6.8155,0.4239,-21.954,280.43,-5.2452,0.55557,-22.1,278.43,-9.0431,0.81481,-22.11,279.83,-5.7962,-22.613 -> logL = -2766.513\n",
      "trial values: 279.47,-6.8155,0.4239,-21.954,280.43,-5.2452,0.55557,-22.1,278.43,-9.0429,0.81481,-22.11,279.83,-5.7962,-22.613 -> logL = -2766.513\n",
      "trial values: 279.47,-6.8155,0.4239,-21.954,280.43,-5.2452,0.55557,-22.1,278.43,-9.0431,0.81521,-22.11,279.83,-5.7962,-22.613 -> logL = -2766.513\n",
      "trial values: 279.47,-6.8155,0.4239,-21.954,280.43,-5.2452,0.55557,-22.1,278.43,-9.0431,0.81481,-22.11,279.83,-5.7962,-22.613 -> logL = -2766.513\n",
      "trial values: 279.47,-6.8155,0.4239,-21.954,280.43,-5.2452,0.55557,-22.1,278.43,-9.0431,0.81481,-22.11,279.83,-5.7962,-22.613 -> logL = -2766.513\n",
      "trial values: 279.47,-6.8155,0.4239,-21.954,280.43,-5.2452,0.55557,-22.1,278.43,-9.0431,0.81481,-22.11,279.83,-5.7961,-22.613 -> logL = -2766.513\n",
      "trial values: 279.47,-6.8155,0.4239,-21.954,280.43,-5.2452,0.55557,-22.1,278.43,-9.0431,0.81481,-22.11,279.83,-5.7962,-22.613 -> logL = -2766.513\n",
      "trial values: 279.47,-6.8155,0.4239,-21.954,280.43,-5.2453,0.55577,-22.1,278.43,-9.0431,0.81481,-22.11,279.83,-5.7962,-22.613 -> logL = -2766.513\n",
      "trial values: 279.47,-6.8155,0.4239,-21.954,280.43,-5.2453,0.55577,-22.1,278.43,-9.0431,0.81481,-22.11,279.83,-5.7962,-22.613 -> logL = -2766.513\n",
      "trial values: 279.47,-6.8155,0.4239,-21.954,280.43,-5.2453,0.55577,-22.1,278.43,-9.0429,0.81481,-22.11,279.83,-5.7962,-22.613 -> logL = -2766.513\n",
      "trial values: 279.47,-6.8155,0.4239,-21.954,280.43,-5.2453,0.55577,-22.1,278.43,-9.0431,0.81521,-22.11,279.83,-5.7962,-22.613 -> logL = -2766.513\n",
      "trial values: 279.47,-6.8155,0.4239,-21.954,280.43,-5.2453,0.55577,-22.1,278.43,-9.0431,0.81481,-22.11,279.83,-5.7962,-22.613 -> logL = -2766.513\n",
      "trial values: 279.47,-6.8155,0.4239,-21.954,280.43,-5.2453,0.55577,-22.1,278.43,-9.0431,0.81481,-22.11,279.83,-5.7962,-22.613 -> logL = -2766.513\n",
      "trial values: 279.47,-6.8155,0.4239,-21.954,280.43,-5.2453,0.55577,-22.1,278.43,-9.0431,0.81481,-22.11,279.83,-5.7961,-22.613 -> logL = -2766.513\n",
      "trial values: 279.47,-6.8155,0.4239,-21.954,280.43,-5.2453,0.55577,-22.1,278.43,-9.0431,0.81481,-22.11,279.83,-5.7962,-22.613 -> logL = -2766.513\n",
      "trial values: 279.47,-6.8155,0.4239,-21.954,280.43,-5.2453,0.55557,-22.1,278.43,-9.0431,0.81481,-22.11,279.83,-5.7962,-22.613 -> logL = -2766.513\n",
      "trial values: 279.47,-6.8155,0.4239,-21.954,280.43,-5.2453,0.55557,-22.1,278.43,-9.0429,0.81481,-22.11,279.83,-5.7962,-22.613 -> logL = -2766.513\n",
      "trial values: 279.47,-6.8155,0.4239,-21.954,280.43,-5.2453,0.55557,-22.1,278.43,-9.0431,0.81521,-22.11,279.83,-5.7962,-22.613 -> logL = -2766.513\n",
      "trial values: 279.47,-6.8155,0.4239,-21.954,280.43,-5.2453,0.55557,-22.1,278.43,-9.0431,0.81481,-22.11,279.83,-5.7962,-22.613 -> logL = -2766.513\n",
      "trial values: 279.47,-6.8155,0.4239,-21.954,280.43,-5.2453,0.55557,-22.1,278.43,-9.0431,0.81481,-22.11,279.83,-5.7962,-22.613 -> logL = -2766.513\n",
      "trial values: 279.47,-6.8155,0.4239,-21.954,280.43,-5.2453,0.55557,-22.1,278.43,-9.0431,0.81481,-22.11,279.83,-5.7961,-22.613 -> logL = -2766.513\n",
      "trial values: 279.47,-6.8155,0.4239,-21.954,280.43,-5.2453,0.55557,-22.1,278.43,-9.0431,0.81481,-22.11,279.83,-5.7962,-22.613 -> logL = -2766.513\n",
      "trial values: 279.47,-6.8155,0.4239,-21.954,280.43,-5.2453,0.55557,-22.1,278.43,-9.0429,0.81481,-22.11,279.83,-5.7962,-22.613 -> logL = -2766.513\n",
      "trial values: 279.47,-6.8155,0.4239,-21.954,280.43,-5.2453,0.55557,-22.1,278.43,-9.0431,0.81521,-22.11,279.83,-5.7962,-22.613 -> logL = -2766.513\n",
      "trial values: 279.47,-6.8155,0.4239,-21.954,280.43,-5.2453,0.55557,-22.1,278.43,-9.0431,0.81481,-22.11,279.83,-5.7962,-22.613 -> logL = -2766.513\n",
      "trial values: 279.47,-6.8155,0.4239,-21.954,280.43,-5.2453,0.55557,-22.1,278.43,-9.0431,0.81481,-22.11,279.83,-5.7962,-22.613 -> logL = -2766.513\n",
      "trial values: 279.47,-6.8155,0.4239,-21.954,280.43,-5.2453,0.55557,-22.1,278.43,-9.0431,0.81481,-22.11,279.83,-5.7961,-22.613 -> logL = -2766.513\n",
      "trial values: 279.47,-6.8155,0.4239,-21.954,280.43,-5.2453,0.55557,-22.1,278.43,-9.0431,0.81481,-22.11,279.83,-5.7962,-22.613 -> logL = -2766.513\n",
      "trial values: 279.47,-6.8155,0.4239,-21.954,280.43,-5.2453,0.55557,-22.1,278.43,-9.0429,0.81521,-22.11,279.83,-5.7962,-22.613 -> logL = -2766.513\n",
      "trial values: 279.47,-6.8155,0.4239,-21.954,280.43,-5.2453,0.55557,-22.1,278.43,-9.0429,0.81481,-22.11,279.83,-5.7962,-22.613 -> logL = -2766.513\n",
      "trial values: 279.47,-6.8155,0.4239,-21.954,280.43,-5.2453,0.55557,-22.1,278.43,-9.0429,0.81481,-22.11,279.83,-5.7962,-22.613 -> logL = -2766.513\n",
      "trial values: 279.47,-6.8155,0.4239,-21.954,280.43,-5.2453,0.55557,-22.1,278.43,-9.0429,0.81481,-22.11,279.83,-5.7961,-22.613 -> logL = -2766.513\n",
      "trial values: 279.47,-6.8155,0.4239,-21.954,280.43,-5.2453,0.55557,-22.1,278.43,-9.0429,0.81481,-22.11,279.83,-5.7962,-22.613 -> logL = -2766.513\n",
      "trial values: 279.47,-6.8155,0.4239,-21.954,280.43,-5.2453,0.55557,-22.1,278.43,-9.0431,0.81521,-22.11,279.83,-5.7962,-22.613 -> logL = -2766.513\n",
      "trial values: 279.47,-6.8155,0.4239,-21.954,280.43,-5.2453,0.55557,-22.1,278.43,-9.0431,0.81521,-22.11,279.83,-5.7962,-22.613 -> logL = -2766.513\n",
      "trial values: 279.47,-6.8155,0.4239,-21.954,280.43,-5.2453,0.55557,-22.1,278.43,-9.0431,0.81521,-22.11,279.83,-5.7961,-22.613 -> logL = -2766.513\n",
      "trial values: 279.47,-6.8155,0.4239,-21.954,280.43,-5.2453,0.55557,-22.1,278.43,-9.0431,0.81521,-22.11,279.83,-5.7962,-22.613 -> logL = -2766.513\n",
      "trial values: 279.47,-6.8155,0.4239,-21.954,280.43,-5.2453,0.55557,-22.1,278.43,-9.0431,0.81481,-22.11,279.83,-5.7962,-22.613 -> logL = -2766.513\n",
      "trial values: 279.47,-6.8155,0.4239,-21.954,280.43,-5.2453,0.55557,-22.1,278.43,-9.0431,0.81481,-22.11,279.83,-5.7961,-22.613 -> logL = -2766.513\n",
      "trial values: 279.47,-6.8155,0.4239,-21.954,280.43,-5.2453,0.55557,-22.1,278.43,-9.0431,0.81481,-22.11,279.83,-5.7962,-22.613 -> logL = -2766.513\n",
      "trial values: 279.47,-6.8155,0.4239,-21.954,280.43,-5.2453,0.55557,-22.1,278.43,-9.0431,0.81481,-22.11,279.83,-5.7961,-22.613 -> logL = -2766.513\n",
      "trial values: 279.47,-6.8155,0.4239,-21.954,280.43,-5.2453,0.55557,-22.1,278.43,-9.0431,0.81481,-22.11,279.83,-5.7962,-22.613 -> logL = -2766.513\n",
      "trial values: 279.47,-6.8155,0.4239,-21.954,280.43,-5.2453,0.55557,-22.1,278.43,-9.0431,0.81481,-22.11,279.83,-5.7961,-22.613 -> logL = -2766.513\n"
     ]
    },
    {
     "name": "stdout",
     "output_type": "stream",
     "text": [
      "Best fit values:\n",
      "\n"
     ]
    },
    {
     "data": {
      "text/html": [
       "<div>\n",
       "<style scoped>\n",
       "    .dataframe tbody tr th:only-of-type {\n",
       "        vertical-align: middle;\n",
       "    }\n",
       "\n",
       "    .dataframe tbody tr th {\n",
       "        vertical-align: top;\n",
       "    }\n",
       "\n",
       "    .dataframe thead th {\n",
       "        text-align: right;\n",
       "    }\n",
       "</style>\n",
       "<table border=\"1\" class=\"dataframe\">\n",
       "  <thead>\n",
       "    <tr style=\"text-align: right;\">\n",
       "      <th></th>\n",
       "      <th>result</th>\n",
       "      <th>unit</th>\n",
       "    </tr>\n",
       "    <tr>\n",
       "      <th>parameter</th>\n",
       "      <th></th>\n",
       "      <th></th>\n",
       "    </tr>\n",
       "  </thead>\n",
       "  <tbody>\n",
       "    <tr>\n",
       "      <th>ext1.Gaussian_on_sphere.lon0</th>\n",
       "      <td>(2.79471 +/- 0.00031) x 10^2</td>\n",
       "      <td>deg</td>\n",
       "    </tr>\n",
       "    <tr>\n",
       "      <th>ext1.Gaussian_on_sphere.lat0</th>\n",
       "      <td>-6.82 +/- 0.04</td>\n",
       "      <td>deg</td>\n",
       "    </tr>\n",
       "    <tr>\n",
       "      <th>ext1.Gaussian_on_sphere.sigma</th>\n",
       "      <td>(4.24 +/- 0.29) x 10^-1</td>\n",
       "      <td>deg</td>\n",
       "    </tr>\n",
       "    <tr>\n",
       "      <th>ext1.spectrum.main.Powerlaw.K</th>\n",
       "      <td>(1.11 +/- 0.08) x 10^-22</td>\n",
       "      <td>1 / (cm2 keV s)</td>\n",
       "    </tr>\n",
       "    <tr>\n",
       "      <th>ext2.Gaussian_on_sphere.lon0</th>\n",
       "      <td>(2.8043 +/- 0.0005) x 10^2</td>\n",
       "      <td>deg</td>\n",
       "    </tr>\n",
       "    <tr>\n",
       "      <th>ext2.Gaussian_on_sphere.lat0</th>\n",
       "      <td>-5.25 +/- 0.06</td>\n",
       "      <td>deg</td>\n",
       "    </tr>\n",
       "    <tr>\n",
       "      <th>ext2.Gaussian_on_sphere.sigma</th>\n",
       "      <td>(5.6 +/- 0.5) x 10^-1</td>\n",
       "      <td>deg</td>\n",
       "    </tr>\n",
       "    <tr>\n",
       "      <th>ext2.spectrum.main.Powerlaw.K</th>\n",
       "      <td>(7.9 +/- 0.7) x 10^-23</td>\n",
       "      <td>1 / (cm2 keV s)</td>\n",
       "    </tr>\n",
       "    <tr>\n",
       "      <th>ext3.Gaussian_on_sphere.lon0</th>\n",
       "      <td>(2.7843 +/- 0.0011) x 10^2</td>\n",
       "      <td>deg</td>\n",
       "    </tr>\n",
       "    <tr>\n",
       "      <th>ext3.Gaussian_on_sphere.lat0</th>\n",
       "      <td>-9.04 +/- 0.15</td>\n",
       "      <td>deg</td>\n",
       "    </tr>\n",
       "    <tr>\n",
       "      <th>ext3.Gaussian_on_sphere.sigma</th>\n",
       "      <td>(8.1 +/- 1.1) x 10^-1</td>\n",
       "      <td>deg</td>\n",
       "    </tr>\n",
       "    <tr>\n",
       "      <th>ext3.spectrum.main.Powerlaw.K</th>\n",
       "      <td>(7.8 -1.2 +1.4) x 10^-23</td>\n",
       "      <td>1 / (cm2 keV s)</td>\n",
       "    </tr>\n",
       "    <tr>\n",
       "      <th>pt1.position.ra</th>\n",
       "      <td>(2.7983 +/- 0.0005) x 10^2</td>\n",
       "      <td>deg</td>\n",
       "    </tr>\n",
       "    <tr>\n",
       "      <th>pt1.position.dec</th>\n",
       "      <td>-5.80 +/- 0.05</td>\n",
       "      <td>deg</td>\n",
       "    </tr>\n",
       "    <tr>\n",
       "      <th>pt1.spectrum.main.Powerlaw.K</th>\n",
       "      <td>(2.4 +/- 0.4) x 10^-23</td>\n",
       "      <td>1 / (cm2 keV s)</td>\n",
       "    </tr>\n",
       "  </tbody>\n",
       "</table>\n",
       "</div>"
      ],
      "text/plain": [
       "                                                     result             unit\n",
       "parameter                                                                   \n",
       "ext1.Gaussian_on_sphere.lon0   (2.79471 +/- 0.00031) x 10^2              deg\n",
       "ext1.Gaussian_on_sphere.lat0                 -6.82 +/- 0.04              deg\n",
       "ext1.Gaussian_on_sphere.sigma       (4.24 +/- 0.29) x 10^-1              deg\n",
       "ext1.spectrum.main.Powerlaw.K      (1.11 +/- 0.08) x 10^-22  1 / (cm2 keV s)\n",
       "ext2.Gaussian_on_sphere.lon0     (2.8043 +/- 0.0005) x 10^2              deg\n",
       "ext2.Gaussian_on_sphere.lat0                 -5.25 +/- 0.06              deg\n",
       "ext2.Gaussian_on_sphere.sigma         (5.6 +/- 0.5) x 10^-1              deg\n",
       "ext2.spectrum.main.Powerlaw.K        (7.9 +/- 0.7) x 10^-23  1 / (cm2 keV s)\n",
       "ext3.Gaussian_on_sphere.lon0     (2.7843 +/- 0.0011) x 10^2              deg\n",
       "ext3.Gaussian_on_sphere.lat0                 -9.04 +/- 0.15              deg\n",
       "ext3.Gaussian_on_sphere.sigma         (8.1 +/- 1.1) x 10^-1              deg\n",
       "ext3.spectrum.main.Powerlaw.K      (7.8 -1.2 +1.4) x 10^-23  1 / (cm2 keV s)\n",
       "pt1.position.ra                  (2.7983 +/- 0.0005) x 10^2              deg\n",
       "pt1.position.dec                             -5.80 +/- 0.05              deg\n",
       "pt1.spectrum.main.Powerlaw.K         (2.4 +/- 0.4) x 10^-23  1 / (cm2 keV s)"
      ]
     },
     "metadata": {},
     "output_type": "display_data"
    },
    {
     "name": "stdout",
     "output_type": "stream",
     "text": [
      "\n",
      "Correlation matrix:\n",
      "\n"
     ]
    },
    {
     "data": {
      "text/html": [
       "<table id=\"table140614587176552\">\n",
       "<tr><td>1.00</td><td>0.22</td><td>0.08</td><td>0.12</td><td>0.10</td><td>0.18</td><td>-0.15</td><td>-0.20</td><td>-0.00</td><td>0.10</td><td>0.08</td><td>0.08</td><td>0.00</td><td>0.16</td><td>0.00</td></tr>\n",
       "<tr><td>0.22</td><td>1.00</td><td>0.20</td><td>0.27</td><td>0.23</td><td>0.22</td><td>-0.19</td><td>-0.30</td><td>0.09</td><td>0.14</td><td>0.13</td><td>0.13</td><td>0.19</td><td>0.32</td><td>-0.11</td></tr>\n",
       "<tr><td>0.08</td><td>0.20</td><td>1.00</td><td>0.72</td><td>0.18</td><td>0.22</td><td>-0.20</td><td>-0.29</td><td>-0.08</td><td>-0.18</td><td>-0.19</td><td>-0.19</td><td>0.11</td><td>0.18</td><td>-0.09</td></tr>\n",
       "<tr><td>0.12</td><td>0.27</td><td>0.72</td><td>1.00</td><td>0.26</td><td>0.29</td><td>-0.28</td><td>-0.39</td><td>-0.08</td><td>-0.19</td><td>-0.23</td><td>-0.23</td><td>0.15</td><td>0.27</td><td>-0.06</td></tr>\n",
       "<tr><td>0.10</td><td>0.23</td><td>0.18</td><td>0.26</td><td>1.00</td><td>0.35</td><td>-0.13</td><td>-0.31</td><td>-0.00</td><td>-0.00</td><td>-0.01</td><td>-0.01</td><td>0.08</td><td>0.26</td><td>0.42</td></tr>\n",
       "<tr><td>0.18</td><td>0.22</td><td>0.22</td><td>0.29</td><td>0.35</td><td>1.00</td><td>0.12</td><td>-0.11</td><td>-0.01</td><td>-0.01</td><td>-0.01</td><td>-0.01</td><td>0.30</td><td>0.15</td><td>0.36</td></tr>\n",
       "<tr><td>-0.15</td><td>-0.19</td><td>-0.20</td><td>-0.28</td><td>-0.13</td><td>0.12</td><td>1.00</td><td>0.73</td><td>0.01</td><td>0.01</td><td>0.01</td><td>0.01</td><td>0.21</td><td>0.05</td><td>-0.06</td></tr>\n",
       "<tr><td>-0.20</td><td>-0.30</td><td>-0.29</td><td>-0.39</td><td>-0.31</td><td>-0.11</td><td>0.73</td><td>1.00</td><td>0.01</td><td>0.02</td><td>0.02</td><td>0.02</td><td>-0.03</td><td>-0.17</td><td>-0.31</td></tr>\n",
       "<tr><td>-0.00</td><td>0.09</td><td>-0.08</td><td>-0.08</td><td>-0.00</td><td>-0.01</td><td>0.01</td><td>0.01</td><td>1.00</td><td>0.35</td><td>-0.28</td><td>-0.32</td><td>0.01</td><td>0.01</td><td>-0.00</td></tr>\n",
       "<tr><td>0.10</td><td>0.14</td><td>-0.18</td><td>-0.19</td><td>-0.00</td><td>-0.01</td><td>0.01</td><td>0.02</td><td>0.35</td><td>1.00</td><td>-0.29</td><td>-0.36</td><td>0.00</td><td>0.01</td><td>0.00</td></tr>\n",
       "<tr><td>0.08</td><td>0.13</td><td>-0.19</td><td>-0.23</td><td>-0.01</td><td>-0.01</td><td>0.01</td><td>0.02</td><td>-0.28</td><td>-0.29</td><td>1.00</td><td>0.87</td><td>-0.00</td><td>0.00</td><td>0.00</td></tr>\n",
       "<tr><td>0.08</td><td>0.13</td><td>-0.19</td><td>-0.23</td><td>-0.01</td><td>-0.01</td><td>0.01</td><td>0.02</td><td>-0.32</td><td>-0.36</td><td>0.87</td><td>1.00</td><td>-0.00</td><td>0.00</td><td>0.00</td></tr>\n",
       "<tr><td>0.00</td><td>0.19</td><td>0.11</td><td>0.15</td><td>0.08</td><td>0.30</td><td>0.21</td><td>-0.03</td><td>0.01</td><td>0.00</td><td>-0.00</td><td>-0.00</td><td>1.00</td><td>0.21</td><td>0.08</td></tr>\n",
       "<tr><td>0.16</td><td>0.32</td><td>0.18</td><td>0.27</td><td>0.26</td><td>0.15</td><td>0.05</td><td>-0.17</td><td>0.01</td><td>0.01</td><td>0.00</td><td>0.00</td><td>0.21</td><td>1.00</td><td>0.04</td></tr>\n",
       "<tr><td>0.00</td><td>-0.11</td><td>-0.09</td><td>-0.06</td><td>0.42</td><td>0.36</td><td>-0.06</td><td>-0.31</td><td>-0.00</td><td>0.00</td><td>0.00</td><td>0.00</td><td>0.08</td><td>0.04</td><td>1.00</td></tr>\n",
       "</table>"
      ],
      "text/plain": [
       " 1.00  0.22  0.08  0.12  0.10  0.18 ...  0.10  0.08  0.08  0.00  0.16  0.00\n",
       " 0.22  1.00  0.20  0.27  0.23  0.22 ...  0.14  0.13  0.13  0.19  0.32 -0.11\n",
       " 0.08  0.20  1.00  0.72  0.18  0.22 ... -0.18 -0.19 -0.19  0.11  0.18 -0.09\n",
       " 0.12  0.27  0.72  1.00  0.26  0.29 ... -0.19 -0.23 -0.23  0.15  0.27 -0.06\n",
       " 0.10  0.23  0.18  0.26  1.00  0.35 ... -0.00 -0.01 -0.01  0.08  0.26  0.42\n",
       " 0.18  0.22  0.22  0.29  0.35  1.00 ... -0.01 -0.01 -0.01  0.30  0.15  0.36\n",
       "-0.15 -0.19 -0.20 -0.28 -0.13  0.12 ...  0.01  0.01  0.01  0.21  0.05 -0.06\n",
       "-0.20 -0.30 -0.29 -0.39 -0.31 -0.11 ...  0.02  0.02  0.02 -0.03 -0.17 -0.31\n",
       "-0.00  0.09 -0.08 -0.08 -0.00 -0.01 ...  0.35 -0.28 -0.32  0.01  0.01 -0.00\n",
       " 0.10  0.14 -0.18 -0.19 -0.00 -0.01 ...  1.00 -0.29 -0.36  0.00  0.01  0.00\n",
       " 0.08  0.13 -0.19 -0.23 -0.01 -0.01 ... -0.29  1.00  0.87 -0.00  0.00  0.00\n",
       " 0.08  0.13 -0.19 -0.23 -0.01 -0.01 ... -0.36  0.87  1.00 -0.00  0.00  0.00\n",
       " 0.00  0.19  0.11  0.15  0.08  0.30 ...  0.00 -0.00 -0.00  1.00  0.21  0.08\n",
       " 0.16  0.32  0.18  0.27  0.26  0.15 ...  0.01  0.00  0.00  0.21  1.00  0.04\n",
       " 0.00 -0.11 -0.09 -0.06  0.42  0.36 ...  0.00  0.00  0.00  0.08  0.04  1.00"
      ]
     },
     "metadata": {},
     "output_type": "display_data"
    },
    {
     "name": "stdout",
     "output_type": "stream",
     "text": [
      "\n",
      "Values of -log(likelihood) at the minimum:\n",
      "\n"
     ]
    },
    {
     "data": {
      "text/html": [
       "<div>\n",
       "<style scoped>\n",
       "    .dataframe tbody tr th:only-of-type {\n",
       "        vertical-align: middle;\n",
       "    }\n",
       "\n",
       "    .dataframe tbody tr th {\n",
       "        vertical-align: top;\n",
       "    }\n",
       "\n",
       "    .dataframe thead th {\n",
       "        text-align: right;\n",
       "    }\n",
       "</style>\n",
       "<table border=\"1\" class=\"dataframe\">\n",
       "  <thead>\n",
       "    <tr style=\"text-align: right;\">\n",
       "      <th></th>\n",
       "      <th>-log(likelihood)</th>\n",
       "    </tr>\n",
       "  </thead>\n",
       "  <tbody>\n",
       "    <tr>\n",
       "      <th>WCDA</th>\n",
       "      <td>2766.513013</td>\n",
       "    </tr>\n",
       "    <tr>\n",
       "      <th>total</th>\n",
       "      <td>2766.513013</td>\n",
       "    </tr>\n",
       "  </tbody>\n",
       "</table>\n",
       "</div>"
      ],
      "text/plain": [
       "       -log(likelihood)\n",
       "WCDA        2766.513013\n",
       "total       2766.513013"
      ]
     },
     "metadata": {},
     "output_type": "display_data"
    },
    {
     "name": "stdout",
     "output_type": "stream",
     "text": [
      "\n",
      "Values of statistical measures:\n",
      "\n"
     ]
    },
    {
     "data": {
      "text/html": [
       "<div>\n",
       "<style scoped>\n",
       "    .dataframe tbody tr th:only-of-type {\n",
       "        vertical-align: middle;\n",
       "    }\n",
       "\n",
       "    .dataframe tbody tr th {\n",
       "        vertical-align: top;\n",
       "    }\n",
       "\n",
       "    .dataframe thead th {\n",
       "        text-align: right;\n",
       "    }\n",
       "</style>\n",
       "<table border=\"1\" class=\"dataframe\">\n",
       "  <thead>\n",
       "    <tr style=\"text-align: right;\">\n",
       "      <th></th>\n",
       "      <th>statistical measures</th>\n",
       "    </tr>\n",
       "  </thead>\n",
       "  <tbody>\n",
       "    <tr>\n",
       "      <th>AIC</th>\n",
       "      <td>5563.030005</td>\n",
       "    </tr>\n",
       "    <tr>\n",
       "      <th>BIC</th>\n",
       "      <td>5708.534270</td>\n",
       "    </tr>\n",
       "  </tbody>\n",
       "</table>\n",
       "</div>"
      ],
      "text/plain": [
       "     statistical measures\n",
       "AIC           5563.030005\n",
       "BIC           5708.534270"
      ]
     },
     "metadata": {},
     "output_type": "display_data"
    },
    {
     "data": {
      "application/vnd.jupyter.widget-view+json": {
       "model_id": "47afc56e69bf470ebfc9287fb454fc8a",
       "version_major": 2,
       "version_minor": 0
      },
      "text/plain": [
       "Smoothing planes:   0%|          | 0/1 [00:00<?, ?it/s]"
      ]
     },
     "metadata": {},
     "output_type": "display_data"
    },
    {
     "name": "stdout",
     "output_type": "stream",
     "text": [
      "[\u001b[32mINFO    \u001b[0m]\u001b[32m Considering 8 dec bins for extended source ext2\u001b[0m\n",
      "[\u001b[32mINFO    \u001b[0m]\u001b[32m Central bin is bin at Declination = -5.245\u001b[0m\n",
      "[\u001b[32mINFO    \u001b[0m]\u001b[32m Considering 8 dec bins for extended source ext3\u001b[0m\n",
      "[\u001b[32mINFO    \u001b[0m]\u001b[32m Central bin is bin at Declination = -9.043\u001b[0m\n",
      "[\u001b[32mINFO    \u001b[0m]\u001b[32m set the minimizer to <threeML.minimizer.minimization.LocalMinimization object at 0x7fe36289ec50>\u001b[0m\n",
      "[\u001b[32mINFO    \u001b[0m]\u001b[32m set the minimizer to <threeML.minimizer.minimization.LocalMinimization object at 0x7fe3c2ffdc18>\u001b[0m\n",
      "[\u001b[32mINFO    \u001b[0m]\u001b[32m Considering 9 dec bins for extended source ext1\u001b[0m\n",
      "[\u001b[32mINFO    \u001b[0m]\u001b[32m Central bin is bin at Declination = -6.815\u001b[0m\n",
      "[\u001b[32mINFO    \u001b[0m]\u001b[32m Considering 8 dec bins for extended source ext2\u001b[0m\n",
      "[\u001b[32mINFO    \u001b[0m]\u001b[32m Central bin is bin at Declination = -5.245\u001b[0m\n",
      "[\u001b[32mINFO    \u001b[0m]\u001b[32m Considering 8 dec bins for extended source ext3\u001b[0m\n",
      "[\u001b[32mINFO    \u001b[0m]\u001b[32m Central bin is bin at Declination = -9.043\u001b[0m\n",
      "[\u001b[32mINFO    \u001b[0m]\u001b[32m Considering 9 dec bins for extended source ext1\u001b[0m\n",
      "[\u001b[32mINFO    \u001b[0m]\u001b[32m Central bin is bin at Declination = -6.815\u001b[0m\n",
      "[\u001b[32mINFO    \u001b[0m]\u001b[32m Considering 8 dec bins for extended source ext3\u001b[0m\n",
      "[\u001b[32mINFO    \u001b[0m]\u001b[32m Central bin is bin at Declination = -9.043\u001b[0m\n",
      "[\u001b[32mINFO    \u001b[0m]\u001b[32m set the minimizer to <threeML.minimizer.minimization.LocalMinimization object at 0x7fe362503278>\u001b[0m\n",
      "[\u001b[32mINFO    \u001b[0m]\u001b[32m set the minimizer to <threeML.minimizer.minimization.LocalMinimization object at 0x7fe3c2ffdc18>\u001b[0m\n",
      "[\u001b[32mINFO    \u001b[0m]\u001b[32m Considering 9 dec bins for extended source ext1\u001b[0m\n",
      "[\u001b[32mINFO    \u001b[0m]\u001b[32m Central bin is bin at Declination = -6.815\u001b[0m\n",
      "[\u001b[32mINFO    \u001b[0m]\u001b[32m Considering 8 dec bins for extended source ext2\u001b[0m\n",
      "[\u001b[32mINFO    \u001b[0m]\u001b[32m Central bin is bin at Declination = -5.245\u001b[0m\n",
      "[\u001b[32mINFO    \u001b[0m]\u001b[32m Considering 8 dec bins for extended source ext3\u001b[0m\n",
      "[\u001b[32mINFO    \u001b[0m]\u001b[32m Central bin is bin at Declination = -9.043\u001b[0m\n",
      "[\u001b[32mINFO    \u001b[0m]\u001b[32m Considering 9 dec bins for extended source ext1\u001b[0m\n",
      "[\u001b[32mINFO    \u001b[0m]\u001b[32m Central bin is bin at Declination = -6.815\u001b[0m\n",
      "[\u001b[32mINFO    \u001b[0m]\u001b[32m Considering 8 dec bins for extended source ext2\u001b[0m\n",
      "[\u001b[32mINFO    \u001b[0m]\u001b[32m Central bin is bin at Declination = -5.245\u001b[0m\n",
      "[\u001b[32mINFO    \u001b[0m]\u001b[32m set the minimizer to <threeML.minimizer.minimization.LocalMinimization object at 0x7fe3626f85f8>\u001b[0m\n",
      "[\u001b[32mINFO    \u001b[0m]\u001b[32m set the minimizer to <threeML.minimizer.minimization.LocalMinimization object at 0x7fe3c2ffdc18>\u001b[0m\n",
      "[\u001b[32mINFO    \u001b[0m]\u001b[32m Considering 9 dec bins for extended source ext1\u001b[0m\n",
      "[\u001b[32mINFO    \u001b[0m]\u001b[32m Central bin is bin at Declination = -6.815\u001b[0m\n",
      "[\u001b[32mINFO    \u001b[0m]\u001b[32m Considering 8 dec bins for extended source ext2\u001b[0m\n",
      "[\u001b[32mINFO    \u001b[0m]\u001b[32m Central bin is bin at Declination = -5.245\u001b[0m\n",
      "[\u001b[32mINFO    \u001b[0m]\u001b[32m Considering 8 dec bins for extended source ext3\u001b[0m\n",
      "[\u001b[32mINFO    \u001b[0m]\u001b[32m Central bin is bin at Declination = -9.043\u001b[0m\n",
      "[\u001b[32mINFO    \u001b[0m]\u001b[32m Considering 9 dec bins for extended source ext1\u001b[0m\n",
      "[\u001b[32mINFO    \u001b[0m]\u001b[32m Central bin is bin at Declination = -6.815\u001b[0m\n",
      "[\u001b[32mINFO    \u001b[0m]\u001b[32m Considering 8 dec bins for extended source ext2\u001b[0m\n",
      "[\u001b[32mINFO    \u001b[0m]\u001b[32m Central bin is bin at Declination = -5.245\u001b[0m\n",
      "[\u001b[32mINFO    \u001b[0m]\u001b[32m Considering 8 dec bins for extended source ext3\u001b[0m\n",
      "[\u001b[32mINFO    \u001b[0m]\u001b[32m Central bin is bin at Declination = -9.043\u001b[0m\n",
      "[\u001b[32mINFO    \u001b[0m]\u001b[32m set the minimizer to <threeML.minimizer.minimization.LocalMinimization object at 0x7fe3623f7e10>\u001b[0m\n",
      "[\u001b[32mINFO    \u001b[0m]\u001b[32m set the minimizer to <threeML.minimizer.minimization.LocalMinimization object at 0x7fe3c2ffdc18>\u001b[0m\n",
      "[\u001b[32mINFO    \u001b[0m]\u001b[32m Considering 9 dec bins for extended source ext1\u001b[0m\n",
      "[\u001b[32mINFO    \u001b[0m]\u001b[32m Central bin is bin at Declination = -6.815\u001b[0m\n",
      "[\u001b[32mINFO    \u001b[0m]\u001b[32m Considering 8 dec bins for extended source ext2\u001b[0m\n",
      "[\u001b[32mINFO    \u001b[0m]\u001b[32m Central bin is bin at Declination = -5.245\u001b[0m\n",
      "[\u001b[32mINFO    \u001b[0m]\u001b[32m Considering 8 dec bins for extended source ext3\u001b[0m\n",
      "[\u001b[32mINFO    \u001b[0m]\u001b[32m Central bin is bin at Declination = -9.043\u001b[0m\n",
      "[\u001b[32mINFO    \u001b[0m]\u001b[32m Considering 9 dec bins for extended source ext1\u001b[0m\n",
      "[\u001b[32mINFO    \u001b[0m]\u001b[32m Central bin is bin at Declination = -6.815\u001b[0m\n",
      "[\u001b[32mINFO    \u001b[0m]\u001b[32m Considering 8 dec bins for extended source ext2\u001b[0m\n",
      "[\u001b[32mINFO    \u001b[0m]\u001b[32m Central bin is bin at Declination = -5.245\u001b[0m\n",
      "[\u001b[32mINFO    \u001b[0m]\u001b[32m Considering 8 dec bins for extended source ext3\u001b[0m\n",
      "[\u001b[32mINFO    \u001b[0m]\u001b[32m Central bin is bin at Declination = -9.043\u001b[0m\n",
      "0\n",
      "1000000\n",
      "2000000\n",
      "3000000\n",
      "4000000\n",
      "5000000\n",
      "6000000\n",
      "7000000\n",
      "8000000\n",
      "9000000\n",
      "10000000\n",
      "11000000\n",
      "12000000\n",
      "0\n",
      "1000000\n",
      "2000000\n",
      "3000000\n",
      "4000000\n",
      "5000000\n",
      "6000000\n",
      "7000000\n",
      "8000000\n",
      "9000000\n",
      "10000000\n",
      "11000000\n",
      "12000000\n",
      "[[13, 204.4330045597817, 204.4055890296222, 190.56175390634598, 2308.537322232449, -2766.513012741114]]\n"
     ]
    },
    {
     "name": "stderr",
     "output_type": "stream",
     "text": [
      "mkdir: cannot create directory ‘./05-15-23/’: File exists\n"
     ]
    },
    {
     "data": {
      "image/png": "[encoded data removed]",
      "text/plain": [
       "<Figure size 777.6x144 with 8 Axes>"
      ]
     },
     "metadata": {
      "needs_background": "light"
     },
     "output_type": "display_data"
    }
   ],
   "source": [
    "time1 = strftime(\"%m-%d-%H\", localtime())\n",
    "os.system('mkdir ./%s/'%time1)\n",
    "a=[]\n",
    "activate_progress_bars()\n",
    "# for i in trange(10, desc=\"progressive\"):\n",
    "#     pass\n",
    "# for i in trange(13, desc=\"progressive\"):\n",
    "i=13\n",
    "ii = str(i)\n",
    "try:\n",
    "    WCDA.set_active_measurements(i,i)\n",
    "    datalist = DataList(WCDA)\n",
    "    jl_0 = JointLikelihood(lm0, datalist, verbose=True)\n",
    "    lll0=WCDA.get_log_like()\n",
    "    jl = JointLikelihood(lm, datalist, verbose=True)\n",
    "    jl.set_minimizer(\"minuit\")\n",
    "    param_df, like_df = jl.fit()\n",
    "    results=jl.results\n",
    "    fig = WCDA.display_fit(smoothing_kernel_sigma=0.25, display_colorbar=True)\n",
    "    fig.savefig(\"./%s/fit_result_%i.pdf\"%(time1,i))\n",
    "\n",
    "    TS1 = jl.compute_TS(\"ext1\",like_df).values[0][2]\n",
    "    TS2 = jl.compute_TS(\"ext2\",like_df).values[0][2]\n",
    "    TS3 = jl.compute_TS(\"ext3\",like_df).values[0][2]\n",
    "    TS_pt = jl.compute_TS(\"pt1\",like_df).values[0][2]\n",
    "    lll=WCDA.get_log_like()\n",
    "    TS_all=2*(lll-lll0)\n",
    "    a.append([i,TS1,TS2,TS3,TS_all,lll])\n",
    "    #for bid in (\"0\"):\n",
    "    pixid=roi.active_pixels(1024)\n",
    "    WCDA.set_active_measurements(i,i)\n",
    "    active_bin=WCDA._maptree._analysis_bins[ii]\n",
    "    obs_raw=active_bin.observation_map.as_partial()\n",
    "    bkg_raw=active_bin.background_map.as_partial()\n",
    "    ex1=WCDA._get_expectation(active_bin,ii,0,1)\n",
    "    ex2=WCDA._get_expectation(active_bin,ii,0,2)\n",
    "    ex3=WCDA._get_expectation(active_bin,ii,0,3)\n",
    "    pt1=WCDA._get_expectation(active_bin,ii,1,3)\n",
    "    nombre=['all','W43']\n",
    "    # if(ii==0):\n",
    "    mode=\"recreate\"\n",
    "    # else:\n",
    "        # mode=\"update\"\n",
    "\n",
    "    freepars = []\n",
    "    fixedpars = []\n",
    "    mat=param_df.as_matrix()\n",
    "    for ipar in range (0,len(param_df.index)):\n",
    "        freepars.append(\"%-35s %3.6g %3.2g +%3.2g (%3.2g) %s\" % (param_df.index[ipar],mat[ipar][0],mat[ipar][1],mat[ipar][2],mat[ipar][3],mat[ipar][4]))\n",
    "    for p in lm.parameters:\n",
    "        par = lm.parameters[p]\n",
    "        #     if par.free:\n",
    "            #        freepars.append(\"%-45s %35.6g %s\" % (p, par.value, par._unit))\n",
    "        if par.fix:\n",
    "            fixedpars.append(\"%-45s %35.6g %s\" % (p, par.value, par._unit))\n",
    "    with open(\"./%s/output_fit_%s.txt\"%(time1,time1), \"a+\") as f:\n",
    "        f.write(\"\\n#################################%i\\nBin%d\\n\"%(i,i))\n",
    "        f.write(\"Test statistic: %g\\n\" % TS_all)\n",
    "        f.write(\"EXT1:\"+ str(TS1)  + \";    G25:\" + str(TS2) + \";    EXT2:\" + str(TS3) + \";     PT1:\" + str(TS_pt) + \"\\r\\n\")\n",
    "        f.write(\"\\nFree parameters:\\n\")\n",
    "        for l in freepars:\n",
    "            f.write(\"%s\\n\" % l)\n",
    "        f.write(\"\\nFixed parameters:\\n\")\n",
    "        for l in fixedpars:\n",
    "            f.write(\"%s\\n\" % l)\n",
    "\n",
    "    for name in nombre:\n",
    "        if (name=='all'):\n",
    "            model=pt1\n",
    "        elif(name=='G25'):\n",
    "            model=ex3\n",
    "        neof=ROOT.TFile.Open((\"./%s/result_%s_nhit%i.root\"%(time1,name,i)),mode)\n",
    "        f0=ROOT.TFile.Open(\"/eos/user/l/luoyu/wcda_skysurvey2/20210305_20220205_0h/20210305_20220205_pinc_new3.root\",'read')\n",
    "        #neof=neof=ROOT.TFile.Open('/eos/user/z/zhanghongfei/geminga/geminga_linked_res_20220308_13.root',mode)\n",
    "        n10=neof.mkdir('nHit%02d'%i,'nHit%02d'%i)\n",
    "        toFill=np.zeros(1,dtype=float)\n",
    "        toFill_d=np.zeros(1,dtype=float)\n",
    "        toFill_m=np.zeros(1,dtype=float)\n",
    "        tree=ROOT.TTree('bkg_model','bkg_model')\n",
    "        tree1=ROOT.TTree('data','data')\n",
    "        tree2=ROOT.TTree('bkg','bkg')\n",
    "        tree.SetDirectory(n10)\n",
    "        tree.SetEntries(hp.nside2npix(1024))\n",
    "        tree1.SetDirectory(n10)\n",
    "        tree1.SetEntries(hp.nside2npix(1024))\n",
    "        tree2.SetDirectory(n10)\n",
    "        tree2.SetEntries(hp.nside2npix(1024))\n",
    "        newb=tree.Branch(\"count\",toFill,\"count/D\")\n",
    "        b_d=tree1.Branch(\"count\",toFill_d,\"count/D\")\n",
    "        b_d2=tree2.Branch(\"count\",toFill_m,\"count/D\")\n",
    "        tdata=f0.Get(\"nHit%02d\"%i).data\n",
    "        tbkg=f0.Get(\"nHit%02d\"%i).bkg\n",
    "        for idx in range(hp.nside2npix(1024)):\n",
    "                if(idx%1000000==0): print(idx)\n",
    "                if(idx%1==0):\n",
    "                    tree.GetEntry(idx)\n",
    "                    tree1.GetEntry(idx)\n",
    "                    tdata.GetEntry(idx)\n",
    "                    tbkg.GetEntry(idx)\n",
    "                    toFill_d[0]=tdata.count\n",
    "                    b_d.Fill()\n",
    "                    toFill_m[0]=tbkg.count\n",
    "                    b_d2.Fill()\n",
    "                    if idx in pixid:\n",
    "                        roiid=np.argwhere(pixid==idx)[0][0]\n",
    "                        toFill[0]=tbkg.count+model[roiid]\n",
    "                        newb.Fill()#count=tbkg.count+model[roiid]\n",
    "                    else:\n",
    "                        toFill[0]=tbkg.count#+model[roiid]\n",
    "                        newb.Fill()\n",
    "\n",
    "        neof.Write(\"\",ROOT.TFile.kOverwrite)\n",
    "        neof.Close()\n",
    "        f0.Close()\n",
    "except Exception as e:\n",
    "    with open(\"./%s/output_fit_%s.txt\"%(time1,time1), \"a+\") as f:\n",
    "        f.write(\"\\n#################################%i\\nBin%d ERR!!!\\n\"%{i,i})\n",
    "        f.write(str(e.args))\n",
    "        f.write(\"=========\")\n",
    "        f.write(traceback.format_exc())\n",
    "    pass\n",
    "print(a)\n"
   ]
  },
  {
   "cell_type": "code",
   "execution_count": null,
   "metadata": {},
   "outputs": [],
   "source": [
    "param_df"
   ]
  },
  {
   "cell_type": "code",
   "execution_count": null,
   "metadata": {},
   "outputs": [],
   "source": [
    "print(TS1,TS2,TS3,lll)"
   ]
  },
  {
   "cell_type": "code",
   "execution_count": null,
   "metadata": {},
   "outputs": [],
   "source": [
    "#display fit result  model,excess,background,residuals\n",
    "fig = WCDA.display_fit(smoothing_kernel_sigma=0.25, display_colorbar=True)\n",
    "#fig.savefig(\"fit_result.pdf\")"
   ]
  },
  {
   "cell_type": "code",
   "execution_count": null,
   "metadata": {},
   "outputs": [],
   "source": [
    "#display excess\n",
    "fig =WCDA.display_spectrum()\n",
    "#fig.savefig(\"excess.pdf\")"
   ]
  },
  {
   "cell_type": "code",
   "execution_count": null,
   "metadata": {},
   "outputs": [],
   "source": [
    "gof_obj = GoodnessOfFit(jl)\n",
    "gof, data_frame, like_data_frame = gof_obj.by_mc(n_iterations=200)"
   ]
  },
  {
   "cell_type": "code",
   "execution_count": null,
   "metadata": {},
   "outputs": [],
   "source": [
    "p = gof[\"total\"]\n",
    "print(\"Goodness of fit (p-value:)\", p)\n",
    "print(\n",
    "    \"Meaning that {:.1f}% of simulations have a larger (worse) likelihood\".format(\n",
    "        100 * p\n",
    "    )\n",
    ")\n",
    "print(\n",
    "    \"and {:.1f}% of simulations have a smaller (better) likelihood than seen in data\".format(\n",
    "        100 * (1 - p)\n",
    "    )\n",
    ")\n",
    "\n",
    "df = like_data_frame.reset_index()\n",
    "df = df[df.level_1 == \"total\"]\n",
    "\n",
    "fig, ax = plt.subplots()\n",
    "ax.hist(\n",
    "    df[\"-log(likelihood)\"],\n",
    "    label=\"fluctuated source models\",\n",
    "    bins=range(18000, 19000, 50),\n",
    ")\n",
    "ax.axvline(\n",
    "    like_df.loc[\"total\", \"-log(likelihood)\"], label=\"fit to data\", color=\"orange\"\n",
    ")\n",
    "ax.xlabel = \"-log(likelihood)\"\n",
    "ax.legend(loc=\"best\")"
   ]
  },
  {
   "cell_type": "code",
   "execution_count": null,
   "metadata": {},
   "outputs": [],
   "source": [
    "fig, ax = plt.subplots()\n",
    "\n",
    "plot_spectra(\n",
    "    results,\n",
    "    ene_min=0.0,\n",
    "    ene_max=30,\n",
    "    num_ene=50,\n",
    "    energy_unit=\"TeV\",\n",
    "    flux_unit=\"TeV/(s cm2)\",\n",
    "    subplot=ax,\n",
    ")\n",
    "ax.set_xlim(0.5, 60)\n",
    "ax.set_ylim(3e-12,2e-10)\n",
    "ax.set_ylabel(r\"$E^2\\,dN/dE$ [TeV cm$^{-2}$ s$^{-1}$]\")\n",
    "ax.set_xlabel(\"Energy [TeV]\")"
   ]
  }
 ],
 "metadata": {
  "interpreter": {
   "hash": "12fc3e023bbef031cae98eb231bfd95e012c33bc45266ace6bb8d8f6da29f1ba"
  },
  "kernelspec": {
   "display_name": "Python 3.7.1 64-bit",
   "language": "python",
   "name": "python3"
  },
  "language_info": {
   "codemirror_mode": {
    "name": "ipython",
    "version": 3
   },
   "file_extension": ".py",
   "mimetype": "text/x-python",
   "name": "python",
   "nbconvert_exporter": "python",
   "pygments_lexer": "ipython3",
   "version": "3.9.15"
  },
  "orig_nbformat": 4
 },
 "nbformat": 4,
 "nbformat_minor": 2
}
