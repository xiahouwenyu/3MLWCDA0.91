{
 "cells": [
  {
   "cell_type": "code",
   "execution_count": 2,
   "metadata": {},
   "outputs": [
    {
     "name": "stdout",
     "output_type": "stream",
     "text": [
      "Welcome to JupyROOT 6.24/06\n"
     ]
    },
    {
     "data": {
      "text/html": [
       "<pre style=\"white-space:pre;overflow-x:auto;line-height:normal;font-family:Menlo,'DejaVu Sans Mono',consolas,'Courier New',monospace\"><span style=\"color: #00ff00; text-decoration-color: #00ff00\">17:59:42 </span><span style=\"color: #af5fd7; text-decoration-color: #af5fd7\">WARNING </span> <span style=\"color: #c6c6c6; text-decoration-color: #c6c6c6; font-weight: bold\"> The GSL library or the pygsl wrapper cannot be loaded. Models that depend on it  </span><a href=\"file:///data/home/cwy/.mylib/miniconda3/envs/3ML/lib/python3.9/site-packages/astromodels/functions/functions_1D/functions.py\" target=\"_blank\"><span style=\"color: #7f7f7f; text-decoration-color: #7f7f7f\">functions.py</span></a><span style=\"color: #7f7f7f; text-decoration-color: #7f7f7f\">:</span><a href=\"file:///data/home/cwy/.mylib/miniconda3/envs/3ML/lib/python3.9/site-packages/astromodels/functions/functions_1D/functions.py#71\" target=\"_blank\"><span style=\"color: #7f7f7f; text-decoration-color: #7f7f7f\">71</span></a>\n",
       "<span style=\"color: #00ff00; text-decoration-color: #00ff00\">         </span>         <span style=\"color: #c6c6c6; text-decoration-color: #c6c6c6; font-weight: bold\">will not be available.                                                            </span><span style=\"color: #7f7f7f; text-decoration-color: #7f7f7f\">               </span>\n",
       "</pre>\n"
      ],
      "text/plain": [
       "\u001b[38;5;46m17:59:42\u001b[0m\u001b[38;5;46m \u001b[0m\u001b[38;5;134mWARNING \u001b[0m \u001b[1;38;5;251m The GSL library or the pygsl wrapper cannot be loaded. Models that depend on it \u001b[0m\u001b[1;38;5;251m \u001b[0m\u001b]8;id=413114;file:///data/home/cwy/.mylib/miniconda3/envs/3ML/lib/python3.9/site-packages/astromodels/functions/functions_1D/functions.py\u001b\\\u001b[2mfunctions.py\u001b[0m\u001b]8;;\u001b\\\u001b[2m:\u001b[0m\u001b]8;id=741109;file:///data/home/cwy/.mylib/miniconda3/envs/3ML/lib/python3.9/site-packages/astromodels/functions/functions_1D/functions.py#71\u001b\\\u001b[2m71\u001b[0m\u001b]8;;\u001b\\\n",
       "\u001b[38;5;46m         \u001b[0m         \u001b[1;38;5;251mwill not be available.                                                           \u001b[0m\u001b[1;38;5;251m \u001b[0m\u001b[2m               \u001b[0m\n"
      ]
     },
     "metadata": {},
     "output_type": "display_data"
    },
    {
     "data": {
      "text/html": [
       "<pre style=\"white-space:pre;overflow-x:auto;line-height:normal;font-family:Menlo,'DejaVu Sans Mono',consolas,'Courier New',monospace\"><span style=\"color: #00ff00; text-decoration-color: #00ff00\">17:59:44 </span><span style=\"color: #00ffaf; text-decoration-color: #00ffaf\">INFO    </span> <span style=\"color: #c6c6c6; text-decoration-color: #c6c6c6; font-weight: bold\"> Starting 3ML!                                                                     </span><a href=\"file:///data/home/cwy/.mylib/miniconda3/envs/3ML/lib/python3.9/site-packages/threeML/__init__.py\" target=\"_blank\"><span style=\"color: #7f7f7f; text-decoration-color: #7f7f7f\">__init__.py</span></a><span style=\"color: #7f7f7f; text-decoration-color: #7f7f7f\">:</span><a href=\"file:///data/home/cwy/.mylib/miniconda3/envs/3ML/lib/python3.9/site-packages/threeML/__init__.py#35\" target=\"_blank\"><span style=\"color: #7f7f7f; text-decoration-color: #7f7f7f\">35</span></a>\n",
       "</pre>\n"
      ],
      "text/plain": [
       "\u001b[38;5;46m17:59:44\u001b[0m\u001b[38;5;46m \u001b[0m\u001b[38;5;49mINFO    \u001b[0m \u001b[1;38;5;251m Starting 3ML!                                                                    \u001b[0m\u001b[1;38;5;251m \u001b[0m\u001b]8;id=354009;file:///data/home/cwy/.mylib/miniconda3/envs/3ML/lib/python3.9/site-packages/threeML/__init__.py\u001b\\\u001b[2m__init__.py\u001b[0m\u001b]8;;\u001b\\\u001b[2m:\u001b[0m\u001b]8;id=634959;file:///data/home/cwy/.mylib/miniconda3/envs/3ML/lib/python3.9/site-packages/threeML/__init__.py#35\u001b\\\u001b[2m35\u001b[0m\u001b]8;;\u001b\\\n"
      ]
     },
     "metadata": {},
     "output_type": "display_data"
    },
    {
     "data": {
      "text/html": [
       "<pre style=\"white-space:pre;overflow-x:auto;line-height:normal;font-family:Menlo,'DejaVu Sans Mono',consolas,'Courier New',monospace\"><span style=\"color: #00ff00; text-decoration-color: #00ff00\">         </span><span style=\"color: #af5fd7; text-decoration-color: #af5fd7\">WARNING </span> <span style=\"color: #c6c6c6; text-decoration-color: #c6c6c6; font-weight: bold\"> WARNINGs here are </span><span style=\"color: #800000; text-decoration-color: #800000; font-weight: bold\">NOT</span><span style=\"color: #c6c6c6; text-decoration-color: #c6c6c6; font-weight: bold\"> errors                                                      </span><a href=\"file:///data/home/cwy/.mylib/miniconda3/envs/3ML/lib/python3.9/site-packages/threeML/__init__.py\" target=\"_blank\"><span style=\"color: #7f7f7f; text-decoration-color: #7f7f7f\">__init__.py</span></a><span style=\"color: #7f7f7f; text-decoration-color: #7f7f7f\">:</span><a href=\"file:///data/home/cwy/.mylib/miniconda3/envs/3ML/lib/python3.9/site-packages/threeML/__init__.py#36\" target=\"_blank\"><span style=\"color: #7f7f7f; text-decoration-color: #7f7f7f\">36</span></a>\n",
       "</pre>\n"
      ],
      "text/plain": [
       "\u001b[38;5;46m        \u001b[0m\u001b[38;5;46m \u001b[0m\u001b[38;5;134mWARNING \u001b[0m \u001b[1;38;5;251m WARNINGs here are \u001b[0m\u001b[1;31mNOT\u001b[0m\u001b[1;38;5;251m errors                                                     \u001b[0m\u001b[1;38;5;251m \u001b[0m\u001b]8;id=895888;file:///data/home/cwy/.mylib/miniconda3/envs/3ML/lib/python3.9/site-packages/threeML/__init__.py\u001b\\\u001b[2m__init__.py\u001b[0m\u001b]8;;\u001b\\\u001b[2m:\u001b[0m\u001b]8;id=571815;file:///data/home/cwy/.mylib/miniconda3/envs/3ML/lib/python3.9/site-packages/threeML/__init__.py#36\u001b\\\u001b[2m36\u001b[0m\u001b]8;;\u001b\\\n"
      ]
     },
     "metadata": {},
     "output_type": "display_data"
    },
    {
     "data": {
      "text/html": [
       "<pre style=\"white-space:pre;overflow-x:auto;line-height:normal;font-family:Menlo,'DejaVu Sans Mono',consolas,'Courier New',monospace\"><span style=\"color: #00ff00; text-decoration-color: #00ff00\">         </span><span style=\"color: #af5fd7; text-decoration-color: #af5fd7\">WARNING </span> <span style=\"color: #c6c6c6; text-decoration-color: #c6c6c6; font-weight: bold\"> but are inform you about optional packages that can be installed                  </span><a href=\"file:///data/home/cwy/.mylib/miniconda3/envs/3ML/lib/python3.9/site-packages/threeML/__init__.py\" target=\"_blank\"><span style=\"color: #7f7f7f; text-decoration-color: #7f7f7f\">__init__.py</span></a><span style=\"color: #7f7f7f; text-decoration-color: #7f7f7f\">:</span><a href=\"file:///data/home/cwy/.mylib/miniconda3/envs/3ML/lib/python3.9/site-packages/threeML/__init__.py#37\" target=\"_blank\"><span style=\"color: #7f7f7f; text-decoration-color: #7f7f7f\">37</span></a>\n",
       "</pre>\n"
      ],
      "text/plain": [
       "\u001b[38;5;46m        \u001b[0m\u001b[38;5;46m \u001b[0m\u001b[38;5;134mWARNING \u001b[0m \u001b[1;38;5;251m but are inform you about optional packages that can be installed                 \u001b[0m\u001b[1;38;5;251m \u001b[0m\u001b]8;id=758575;file:///data/home/cwy/.mylib/miniconda3/envs/3ML/lib/python3.9/site-packages/threeML/__init__.py\u001b\\\u001b[2m__init__.py\u001b[0m\u001b]8;;\u001b\\\u001b[2m:\u001b[0m\u001b]8;id=325935;file:///data/home/cwy/.mylib/miniconda3/envs/3ML/lib/python3.9/site-packages/threeML/__init__.py#37\u001b\\\u001b[2m37\u001b[0m\u001b]8;;\u001b\\\n"
      ]
     },
     "metadata": {},
     "output_type": "display_data"
    },
    {
     "data": {
      "text/html": [
       "<pre style=\"white-space:pre;overflow-x:auto;line-height:normal;font-family:Menlo,'DejaVu Sans Mono',consolas,'Courier New',monospace\"><span style=\"color: #00ff00; text-decoration-color: #00ff00\">         </span><span style=\"color: #af5fd7; text-decoration-color: #af5fd7\">WARNING </span> <span style=\"color: #c6c6c6; text-decoration-color: #c6c6c6; font-weight: bold\"> </span><span style=\"color: #800000; text-decoration-color: #800000; font-weight: bold\"> to disable these messages, turn off start_warning in your config file</span><span style=\"color: #c6c6c6; text-decoration-color: #c6c6c6; font-weight: bold\">            </span><a href=\"file:///data/home/cwy/.mylib/miniconda3/envs/3ML/lib/python3.9/site-packages/threeML/__init__.py\" target=\"_blank\"><span style=\"color: #7f7f7f; text-decoration-color: #7f7f7f\">__init__.py</span></a><span style=\"color: #7f7f7f; text-decoration-color: #7f7f7f\">:</span><a href=\"file:///data/home/cwy/.mylib/miniconda3/envs/3ML/lib/python3.9/site-packages/threeML/__init__.py#40\" target=\"_blank\"><span style=\"color: #7f7f7f; text-decoration-color: #7f7f7f\">40</span></a>\n",
       "</pre>\n"
      ],
      "text/plain": [
       "\u001b[38;5;46m        \u001b[0m\u001b[38;5;46m \u001b[0m\u001b[38;5;134mWARNING \u001b[0m \u001b[1;38;5;251m \u001b[0m\u001b[1;31m to disable these messages, turn off start_warning in your config file\u001b[0m\u001b[1;38;5;251m           \u001b[0m\u001b[1;38;5;251m \u001b[0m\u001b]8;id=185591;file:///data/home/cwy/.mylib/miniconda3/envs/3ML/lib/python3.9/site-packages/threeML/__init__.py\u001b\\\u001b[2m__init__.py\u001b[0m\u001b]8;;\u001b\\\u001b[2m:\u001b[0m\u001b]8;id=993011;file:///data/home/cwy/.mylib/miniconda3/envs/3ML/lib/python3.9/site-packages/threeML/__init__.py#40\u001b\\\u001b[2m40\u001b[0m\u001b]8;;\u001b\\\n"
      ]
     },
     "metadata": {},
     "output_type": "display_data"
    },
    {
     "data": {
      "text/html": [
       "<pre style=\"white-space:pre;overflow-x:auto;line-height:normal;font-family:Menlo,'DejaVu Sans Mono',consolas,'Courier New',monospace\"><span style=\"color: #00ff00; text-decoration-color: #00ff00\">17:59:47 </span><span style=\"color: #af5fd7; text-decoration-color: #af5fd7\">WARNING </span> <span style=\"color: #c6c6c6; text-decoration-color: #c6c6c6; font-weight: bold\"> The cthreeML package is not installed. You will not be able to use plugins which  </span><a href=\"file:///data/home/cwy/.mylib/miniconda3/envs/3ML/lib/python3.9/site-packages/threeML/__init__.py\" target=\"_blank\"><span style=\"color: #7f7f7f; text-decoration-color: #7f7f7f\">__init__.py</span></a><span style=\"color: #7f7f7f; text-decoration-color: #7f7f7f\">:</span><a href=\"file:///data/home/cwy/.mylib/miniconda3/envs/3ML/lib/python3.9/site-packages/threeML/__init__.py#94\" target=\"_blank\"><span style=\"color: #7f7f7f; text-decoration-color: #7f7f7f\">94</span></a>\n",
       "<span style=\"color: #00ff00; text-decoration-color: #00ff00\">         </span>         <span style=\"color: #c6c6c6; text-decoration-color: #c6c6c6; font-weight: bold\">require the C/C++ interface (currently HAWC)                                       </span><span style=\"color: #7f7f7f; text-decoration-color: #7f7f7f\">              </span>\n",
       "</pre>\n"
      ],
      "text/plain": [
       "\u001b[38;5;46m17:59:47\u001b[0m\u001b[38;5;46m \u001b[0m\u001b[38;5;134mWARNING \u001b[0m \u001b[1;38;5;251m The cthreeML package is not installed. You will not be able to use plugins which \u001b[0m\u001b[1;38;5;251m \u001b[0m\u001b]8;id=764906;file:///data/home/cwy/.mylib/miniconda3/envs/3ML/lib/python3.9/site-packages/threeML/__init__.py\u001b\\\u001b[2m__init__.py\u001b[0m\u001b]8;;\u001b\\\u001b[2m:\u001b[0m\u001b]8;id=500673;file:///data/home/cwy/.mylib/miniconda3/envs/3ML/lib/python3.9/site-packages/threeML/__init__.py#94\u001b\\\u001b[2m94\u001b[0m\u001b]8;;\u001b\\\n",
       "\u001b[38;5;46m         \u001b[0m         \u001b[1;38;5;251mrequire the C/C++ interface \u001b[0m\u001b[1;38;5;251m(\u001b[0m\u001b[1;38;5;251mcurrently HAWC\u001b[0m\u001b[1;38;5;251m)\u001b[0m\u001b[1;38;5;251m                                      \u001b[0m\u001b[1;38;5;251m \u001b[0m\u001b[2m              \u001b[0m\n"
      ]
     },
     "metadata": {},
     "output_type": "display_data"
    },
    {
     "data": {
      "text/html": [
       "<pre style=\"white-space:pre;overflow-x:auto;line-height:normal;font-family:Menlo,'DejaVu Sans Mono',consolas,'Courier New',monospace\"><span style=\"color: #00ff00; text-decoration-color: #00ff00\">         </span><span style=\"color: #af5fd7; text-decoration-color: #af5fd7\">WARNING </span> <span style=\"color: #c6c6c6; text-decoration-color: #c6c6c6; font-weight: bold\"> Could not import plugin FermiLATLike.py. Do you have the relative instrument     </span><a href=\"file:///data/home/cwy/.mylib/miniconda3/envs/3ML/lib/python3.9/site-packages/threeML/__init__.py\" target=\"_blank\"><span style=\"color: #7f7f7f; text-decoration-color: #7f7f7f\">__init__.py</span></a><span style=\"color: #7f7f7f; text-decoration-color: #7f7f7f\">:</span><a href=\"file:///data/home/cwy/.mylib/miniconda3/envs/3ML/lib/python3.9/site-packages/threeML/__init__.py#144\" target=\"_blank\"><span style=\"color: #7f7f7f; text-decoration-color: #7f7f7f\">144</span></a>\n",
       "<span style=\"color: #00ff00; text-decoration-color: #00ff00\">         </span>         <span style=\"color: #c6c6c6; text-decoration-color: #c6c6c6; font-weight: bold\">software installed and configured?                                                </span><span style=\"color: #7f7f7f; text-decoration-color: #7f7f7f\">               </span>\n",
       "</pre>\n"
      ],
      "text/plain": [
       "\u001b[38;5;46m        \u001b[0m\u001b[38;5;46m \u001b[0m\u001b[38;5;134mWARNING \u001b[0m \u001b[1;38;5;251m Could not import plugin FermiLATLike.py. Do you have the relative instrument    \u001b[0m\u001b[1;38;5;251m \u001b[0m\u001b]8;id=494554;file:///data/home/cwy/.mylib/miniconda3/envs/3ML/lib/python3.9/site-packages/threeML/__init__.py\u001b\\\u001b[2m__init__.py\u001b[0m\u001b]8;;\u001b\\\u001b[2m:\u001b[0m\u001b]8;id=211033;file:///data/home/cwy/.mylib/miniconda3/envs/3ML/lib/python3.9/site-packages/threeML/__init__.py#144\u001b\\\u001b[2m144\u001b[0m\u001b]8;;\u001b\\\n",
       "\u001b[38;5;46m         \u001b[0m         \u001b[1;38;5;251msoftware installed and configured?                                               \u001b[0m\u001b[1;38;5;251m \u001b[0m\u001b[2m               \u001b[0m\n"
      ]
     },
     "metadata": {},
     "output_type": "display_data"
    },
    {
     "data": {
      "text/html": [
       "<pre style=\"white-space:pre;overflow-x:auto;line-height:normal;font-family:Menlo,'DejaVu Sans Mono',consolas,'Courier New',monospace\"><span style=\"color: #00ff00; text-decoration-color: #00ff00\">         </span><span style=\"color: #af5fd7; text-decoration-color: #af5fd7\">WARNING </span> <span style=\"color: #c6c6c6; text-decoration-color: #c6c6c6; font-weight: bold\"> Could not import plugin HAWCLike.py. Do you have the relative instrument         </span><a href=\"file:///data/home/cwy/.mylib/miniconda3/envs/3ML/lib/python3.9/site-packages/threeML/__init__.py\" target=\"_blank\"><span style=\"color: #7f7f7f; text-decoration-color: #7f7f7f\">__init__.py</span></a><span style=\"color: #7f7f7f; text-decoration-color: #7f7f7f\">:</span><a href=\"file:///data/home/cwy/.mylib/miniconda3/envs/3ML/lib/python3.9/site-packages/threeML/__init__.py#144\" target=\"_blank\"><span style=\"color: #7f7f7f; text-decoration-color: #7f7f7f\">144</span></a>\n",
       "<span style=\"color: #00ff00; text-decoration-color: #00ff00\">         </span>         <span style=\"color: #c6c6c6; text-decoration-color: #c6c6c6; font-weight: bold\">software installed and configured?                                                </span><span style=\"color: #7f7f7f; text-decoration-color: #7f7f7f\">               </span>\n",
       "</pre>\n"
      ],
      "text/plain": [
       "\u001b[38;5;46m        \u001b[0m\u001b[38;5;46m \u001b[0m\u001b[38;5;134mWARNING \u001b[0m \u001b[1;38;5;251m Could not import plugin HAWCLike.py. Do you have the relative instrument        \u001b[0m\u001b[1;38;5;251m \u001b[0m\u001b]8;id=122051;file:///data/home/cwy/.mylib/miniconda3/envs/3ML/lib/python3.9/site-packages/threeML/__init__.py\u001b\\\u001b[2m__init__.py\u001b[0m\u001b]8;;\u001b\\\u001b[2m:\u001b[0m\u001b]8;id=337526;file:///data/home/cwy/.mylib/miniconda3/envs/3ML/lib/python3.9/site-packages/threeML/__init__.py#144\u001b\\\u001b[2m144\u001b[0m\u001b]8;;\u001b\\\n",
       "\u001b[38;5;46m         \u001b[0m         \u001b[1;38;5;251msoftware installed and configured?                                               \u001b[0m\u001b[1;38;5;251m \u001b[0m\u001b[2m               \u001b[0m\n"
      ]
     },
     "metadata": {},
     "output_type": "display_data"
    },
    {
     "data": {
      "text/html": [
       "<pre style=\"white-space:pre;overflow-x:auto;line-height:normal;font-family:Menlo,'DejaVu Sans Mono',consolas,'Courier New',monospace\"><span style=\"color: #00ff00; text-decoration-color: #00ff00\">17:59:47 </span><span style=\"color: #af5fd7; text-decoration-color: #af5fd7\">WARNING </span> <span style=\"color: #c6c6c6; text-decoration-color: #c6c6c6; font-weight: bold\"> No fermitools installed                                              </span><a href=\"file:///data/home/cwy/.mylib/miniconda3/envs/3ML/lib/python3.9/site-packages/threeML/utils/data_builders/fermi/lat_transient_builder.py\" target=\"_blank\"><span style=\"color: #7f7f7f; text-decoration-color: #7f7f7f\">lat_transient_builder.py</span></a><span style=\"color: #7f7f7f; text-decoration-color: #7f7f7f\">:</span><a href=\"file:///data/home/cwy/.mylib/miniconda3/envs/3ML/lib/python3.9/site-packages/threeML/utils/data_builders/fermi/lat_transient_builder.py#44\" target=\"_blank\"><span style=\"color: #7f7f7f; text-decoration-color: #7f7f7f\">44</span></a>\n",
       "</pre>\n"
      ],
      "text/plain": [
       "\u001b[38;5;46m17:59:47\u001b[0m\u001b[38;5;46m \u001b[0m\u001b[38;5;134mWARNING \u001b[0m \u001b[1;38;5;251m No fermitools installed                                             \u001b[0m\u001b[1;38;5;251m \u001b[0m\u001b]8;id=432859;file:///data/home/cwy/.mylib/miniconda3/envs/3ML/lib/python3.9/site-packages/threeML/utils/data_builders/fermi/lat_transient_builder.py\u001b\\\u001b[2mlat_transient_builder.py\u001b[0m\u001b]8;;\u001b\\\u001b[2m:\u001b[0m\u001b]8;id=116834;file:///data/home/cwy/.mylib/miniconda3/envs/3ML/lib/python3.9/site-packages/threeML/utils/data_builders/fermi/lat_transient_builder.py#44\u001b\\\u001b[2m44\u001b[0m\u001b]8;;\u001b\\\n"
      ]
     },
     "metadata": {},
     "output_type": "display_data"
    },
    {
     "name": "stderr",
     "output_type": "stream",
     "text": [
      "\n",
      "WARNING NumbaWarning: \u001b[1m\n",
      "Compilation is falling back to object mode WITH looplifting enabled because Function \"process_dec_bins\" failed type inference due to: \u001b[1m\u001b[1mUse of unsupported NumPy function 'numpy.einsum' or unsupported use of the function.\n",
      "\u001b[1m\n",
      "File \"../../../../.mylib/miniconda3/envs/3ML/lib/python3.9/site-packages/WCDA_hal/convolved_source/convolved_extended_source.py\", line 39:\u001b[0m\n",
      "\u001b[1mdef process_dec_bins(sflux, w1, w2, ss1, ss2):\n",
      "\u001b[1m    ss1_sum = np.einsum('ij,j->i', sflux, ss1) * w1\n",
      "\u001b[0m    \u001b[1m^\u001b[0m\u001b[0m\n",
      "\u001b[0m\n",
      "\u001b[0m\u001b[1mDuring: typing of get attribute at /data/home/cwy/.mylib/miniconda3/envs/3ML/lib/python3.9/site-packages/WCDA_hal/convolved_source/convolved_extended_source.py (39)\u001b[0m\n",
      "\u001b[1m\n",
      "File \"../../../../.mylib/miniconda3/envs/3ML/lib/python3.9/site-packages/WCDA_hal/convolved_source/convolved_extended_source.py\", line 39:\u001b[0m\n",
      "\u001b[1mdef process_dec_bins(sflux, w1, w2, ss1, ss2):\n",
      "\u001b[1m    ss1_sum = np.einsum('ij,j->i', sflux, ss1) * w1\n",
      "\u001b[0m    \u001b[1m^\u001b[0m\u001b[0m\n",
      "\u001b[0m\n",
      "\n",
      "\n",
      "WARNING NumbaWarning: \u001b[1mFunction \"process_dec_bins\" was compiled in object mode without forceobj=True.\n",
      "\u001b[1m\n",
      "File \"../../../../.mylib/miniconda3/envs/3ML/lib/python3.9/site-packages/WCDA_hal/convolved_source/convolved_extended_source.py\", line 38:\u001b[0m\n",
      "\u001b[1m@jit([\"float64[:](float64[:,:], float64[:], float64[:], float64[:], float64[:])\"], parallel=False)\n",
      "\u001b[1mdef process_dec_bins(sflux, w1, w2, ss1, ss2):\n",
      "\u001b[0m\u001b[1m^\u001b[0m\u001b[0m\n",
      "\u001b[0m\n",
      "\n",
      "\n",
      "WARNING NumbaDeprecationWarning: \u001b[1m\n",
      "Fall-back from the nopython compilation path to the object mode compilation path has been detected, this is deprecated behaviour.\n",
      "\n",
      "For more information visit https://numba.readthedocs.io/en/stable/reference/deprecation.html#deprecation-of-object-mode-fall-back-behaviour-when-using-jit\n",
      "\u001b[1m\n",
      "File \"../../../../.mylib/miniconda3/envs/3ML/lib/python3.9/site-packages/WCDA_hal/convolved_source/convolved_extended_source.py\", line 38:\u001b[0m\n",
      "\u001b[1m@jit([\"float64[:](float64[:,:], float64[:], float64[:], float64[:], float64[:])\"], parallel=False)\n",
      "\u001b[1mdef process_dec_bins(sflux, w1, w2, ss1, ss2):\n",
      "\u001b[0m\u001b[1m^\u001b[0m\u001b[0m\n",
      "\u001b[0m\n",
      "\n",
      "Load sub from Mystat: : 40it [00:00, 45.70it/s]                            "
     ]
    },
    {
     "name": "stdout",
     "output_type": "stream",
     "text": [
      "Yourlib init successfully!!!\n"
     ]
    }
   ],
   "source": [
    "import matplotlib, sys,  os\n",
    "os.environ['OPENBLAS_NUM_THREADS'] = '1'\n",
    "os.environ['OMP_NUM_THREADS'] = '1'\n",
    "os.environ['MKL_NUM_THREADS'] = '1'\n",
    "os.environ['NUMEXPR_NUM_THREADS'] = '1'\n",
    "os.environ[\"KMP_DUPLICATE_LIB_OK\"]=\"TRUE\"\n",
    "sys.path.append(\"./mylib/\")\n",
    "sys.path.append(\"../../Env/\")\n",
    "\n",
    "import numpy as np\n",
    "import matplotlib.pyplot as plt\n",
    "\n",
    "np.seterr(all=\"ignore\")\n",
    "from threeML import *\n",
    "from WCDA_hal import HAL, HealpixConeROI, HealpixMapROI\n",
    "import traceback\n",
    "silence_warnings()\n",
    "import warnings\n",
    "warnings.simplefilter(\"ignore\")\n",
    "silence_warnings()\n",
    "from threeML import silence_progress_bars, activate_progress_bars, toggle_progress_bars\n",
    "from threeML.utils.progress_bar import trange\n",
    "\n",
    "from astropy.io import fits\n",
    "from astropy.wcs import WCS\n",
    "from astropy.coordinates import SkyCoord\n",
    "from astropy import units as u\n",
    "# from astropy.visualization import astropy_mpl_style, imshAow_norm\n",
    "from astropy.coordinates import Angle\n",
    "\n",
    "import healpy as hp\n",
    "\n",
    "from tqdm import tqdm\n",
    "\n",
    "# from mylib import *\n",
    "import mylib as my\n",
    "from importlib import reload"
   ]
  },
  {
   "cell_type": "code",
   "execution_count": 3,
   "metadata": {},
   "outputs": [],
   "source": [
    "%matplotlib inline\n",
    "region_name=\"GRB221009A\"\n",
    "if not os.path.exists(f'../res/{region_name}/'):\n",
    "    os.system(f'mkdir ../res/{region_name}/')\n",
    "\n",
    "GRB221009A = my.lc(\"../../data/lc_data/GRB221009A/GRBlcunbin.root\", ebin=11, funcfile=\"../../data/lc_data/GRB221009A/func.root\") #funcfile=\"../../data/lc_data/GRB221009A/bkg.npy\"\n",
    "# GRB221009A = my.lc(\"/data/home/cwy/Science/3MLWCDA/data/lc_data/GRB221009A/GRB221009A_2psfcut_wz_nkg.root\", ebin=11, bkgfile=\"/data/home/cwy/Science/3MLWCDA/data/lc_data/GRB221009A/GRB221009A_2psfcut_wz_nkg_bkg.root\")\n",
    "\n",
    "# GRB221009A = my.lc(\"/data/home/cwy/Science/3MLWCDA/data/lc_data/GRB221009A/GRB221009A_ihep_2psfcut_unbin_haozhou.root\", ebin=15, bkgfile=\"/data/home/cwy/Science/3MLWCDA/data/lc_data/GRB221009A/GRB221009A_ihep_2psfcut_unbin_haozhou_bkg.root\")\n",
    "# GRB221009A = my.lc(\"/data/home/cwy/Science/3MLWCDA/data/lc_data/GRB221009A/GRB221009A_ihep_3psfcut_unbin_haozhou.root\", ebin=15, bkgfile=\"/data/home/cwy/Science/3MLWCDA/data/lc_data/GRB221009A/GRB221009A_ihep_3psfcut_unbin_haozhou_bkg.root\")\n",
    "\n",
    "GRB221009A_trig = my.lc(\"../../data/lc_data/GRB221009A/1009_nf_dt.root\", tname=\"h;1\", bkgfile=\"../../data/lc_data/GRB221009A/1008_nf_dt.root\", bkgscale=2)"
   ]
  },
  {
   "cell_type": "code",
   "execution_count": 4,
   "metadata": {},
   "outputs": [
    {
     "data": {
      "image/png": "[encoded data removed]",
      "text/plain": [
       "<Figure size 640x480 with 1 Axes>"
      ]
     },
     "metadata": {},
     "output_type": "display_data"
    },
    {
     "data": {
      "image/png": "[encoded data removed]",
      "text/plain": [
       "<Figure size 640x480 with 1 Axes>"
      ]
     },
     "metadata": {},
     "output_type": "display_data"
    },
    {
     "data": {
      "image/png": "[encoded data removed]",
      "text/plain": [
       "<Figure size 640x480 with 1 Axes>"
      ]
     },
     "metadata": {},
     "output_type": "display_data"
    },
    {
     "data": {
      "image/png": "[encoded data removed]",
      "text/plain": [
       "<Figure size 640x480 with 1 Axes>"
      ]
     },
     "metadata": {},
     "output_type": "display_data"
    },
    {
     "name": "stderr",
     "output_type": "stream",
     "text": [
      "100%|██████████| 700/700 [00:00<00:00, 30309.73it/s]\n"
     ]
    },
    {
     "data": {
      "image/png": "[encoded data removed]",
      "text/plain": [
       "<Figure size 640x480 with 1 Axes>"
      ]
     },
     "metadata": {},
     "output_type": "display_data"
    },
    {
     "data": {
      "image/png": "[encoded data removed]",
      "text/plain": [
       "<Figure size 640x480 with 1 Axes>"
      ]
     },
     "metadata": {},
     "output_type": "display_data"
    }
   ],
   "source": [
    "bin_t = 1\n",
    "rebins = int(10000*bin_t)\n",
    "GRB221009A.rebin(rebins)\n",
    "GRB221009A.fitbkg(my.poly, -100, 2000, p0=[2, 2, 20, 2], plot=True, rebin=int(20/bin_t))\n",
    "GRB221009A.drawlc() #drawbkg=True\n",
    "\n",
    "GRB221009A_trig.rebin(rebins)\n",
    "GRB221009A_trig.fitbkg(my.poly, 150, 650, p0=[2, 2, 20, 2], plot=True, rebin=int(10/bin_t))\n",
    "GRB221009A_trig.drawlc()\n",
    "\n",
    "GRB221009Aall = GRB221009A + GRB221009A_trig\n",
    "GRB221009Aall.fitbkg(my.poly, 150, 650, p0=[2, 2, 20, 2], plot=True)\n",
    "GRB221009Aall.drawlc(200,300)"
   ]
  },
  {
   "cell_type": "code",
   "execution_count": 5,
   "metadata": {},
   "outputs": [
    {
     "data": {
      "image/png": "[encoded data removed]",
      "text/plain": [
       "<Figure size 640x480 with 1 Axes>"
      ]
     },
     "metadata": {},
     "output_type": "display_data"
    }
   ],
   "source": [
    "GRB221009A_prompr = my.lc('../../data/lc_data/GRB221009A/hebs-2.txt')\n",
    "# GRB221009A_prompr.rebin(10)\n",
    "GRB221009A_prompr.drawlc(200,300)"
   ]
  },
  {
   "cell_type": "code",
   "execution_count": 6,
   "metadata": {},
   "outputs": [],
   "source": [
    "t0=200\n",
    "te=600\n",
    "datafgrb = GRB221009Aall.getdatafram(subbkg=False)\n",
    "# datafgrb = GRB221009A.getdatafram(subbkg=False)\n",
    "datafgrb = datafgrb[(datafgrb[\"x\"]>=t0) & (datafgrb[\"x\"]<=te)]"
   ]
  },
  {
   "cell_type": "code",
   "execution_count": 7,
   "metadata": {},
   "outputs": [
    {
     "data": {
      "text/html": [
       "<pre style=\"white-space:pre;overflow-x:auto;line-height:normal;font-family:Menlo,'DejaVu Sans Mono',consolas,'Courier New',monospace\"><span style=\"color: #00ff00; text-decoration-color: #00ff00\">11:30:21 </span><span style=\"color: #00ffaf; text-decoration-color: #00ffaf\">INFO    </span> <span style=\"color: #c6c6c6; text-decoration-color: #c6c6c6; font-weight: bold\"> Using Poisson log-likelihood                                                       </span><a href=\"file:///data/home/cwy/.mylib/miniconda3/envs/3ML/lib/python3.9/site-packages/threeML/plugins/XYLike.py\" target=\"_blank\"><span style=\"color: #7f7f7f; text-decoration-color: #7f7f7f\">XYLike.py</span></a><span style=\"color: #7f7f7f; text-decoration-color: #7f7f7f\">:</span><a href=\"file:///data/home/cwy/.mylib/miniconda3/envs/3ML/lib/python3.9/site-packages/threeML/plugins/XYLike.py#111\" target=\"_blank\"><span style=\"color: #7f7f7f; text-decoration-color: #7f7f7f\">111</span></a>\n",
       "</pre>\n"
      ],
      "text/plain": [
       "\u001b[38;5;46m11:30:21\u001b[0m\u001b[38;5;46m \u001b[0m\u001b[38;5;49mINFO    \u001b[0m \u001b[1;38;5;251m Using Poisson log-likelihood                                                      \u001b[0m\u001b[1;38;5;251m \u001b[0m\u001b]8;id=743443;file:///data/home/cwy/.mylib/miniconda3/envs/3ML/lib/python3.9/site-packages/threeML/plugins/XYLike.py\u001b\\\u001b[2mXYLike.py\u001b[0m\u001b]8;;\u001b\\\u001b[2m:\u001b[0m\u001b]8;id=611375;file:///data/home/cwy/.mylib/miniconda3/envs/3ML/lib/python3.9/site-packages/threeML/plugins/XYLike.py#111\u001b\\\u001b[2m111\u001b[0m\u001b]8;;\u001b\\\n"
      ]
     },
     "metadata": {},
     "output_type": "display_data"
    },
    {
     "data": {
      "image/png": "[encoded data removed]",
      "text/plain": [
       "<Figure size 640x480 with 1 Axes>"
      ]
     },
     "metadata": {},
     "output_type": "display_data"
    }
   ],
   "source": [
    "GRBlike = XYLike.from_dataframe(\"GRB221009A\", datafgrb, poisson=True)\n",
    "fig = GRBlike.plot(x_label=\"T\", y_label=\"counts\")"
   ]
  },
  {
   "cell_type": "code",
   "execution_count": 8,
   "metadata": {},
   "outputs": [],
   "source": [
    "lcmodel = my.SBPL()\n",
    "lcmodel.alpha1.bounds = (0,10)\n",
    "lcmodel.alpha2.bounds = (-10,0)\n",
    "lcmodel.F0 = 1000\n",
    "lcmodel.F0.bounds = (0.1,1000000)\n",
    "lcmodel.t0=226\n",
    "lcmodel.t0.bounds = (220, 235)\n",
    "lcmodel.t0.fix=False\n",
    "\n",
    "lcmodelT = my.TPLM()\n",
    "lcmodelT.Fc.bounds = (0,10000)\n",
    "lcmodelT.alpha_c.bounds = (0,100)\n",
    "# lcmodelT.Tc = 21.899\n",
    "lcmodelT.Tc.bounds = (-10000,10000)\n",
    "# lcmodelT.tc = 23.4169\n",
    "lcmodelT.tc.bounds = (-1000,1000)\n",
    "lcmodelT.t0=226\n",
    "lcmodelT.t0.bounds = (220, 235)\n",
    "lcmodelT.t0.fix=False\n",
    "\n",
    "# linebkg = Cubic()\n",
    "# linebkg.a = 113.27776\n",
    "# linebkg.a.fix = True\n",
    "# linebkg.b = -0.03\n",
    "# linebkg.b.fix = True\n",
    "# linebkg.c = 2.6e-06\n",
    "# linebkg.c.fix = True\n",
    "# linebkg.d = -6.18e-11\n",
    "# linebkg.d.fix = True\n",
    "\n",
    "# linebkgtri = Cubic()\n",
    "# linebkgtri.a = 3.22202619e+02\n",
    "# linebkgtri.a.fix = True\n",
    "# linebkgtri.b = -1.06140647e-01\n",
    "# linebkgtri.b.fix = True\n",
    "# linebkgtri.c = 2.37156727e-04\n",
    "# linebkgtri.c.fix = True\n",
    "# linebkgtri.d = -2.03058449e-07\n",
    "# linebkgtri.d.fix = True\n",
    "\n",
    "# linebkg = Cubic()\n",
    "# linebkg.a = GRB221009A.bkgp[0]\n",
    "# linebkg.a.fix = True\n",
    "# linebkg.b = GRB221009A.bkgp[1]\n",
    "# linebkg.b.fix = True\n",
    "# linebkg.c = GRB221009A.bkgp[2]\n",
    "# linebkg.c.fix = True\n",
    "# linebkg.d = GRB221009A.bkgp[3]\n",
    "# linebkg.d.fix = True\n",
    "\n",
    "linebkg = Cubic()\n",
    "linebkg.a = GRB221009Aall.bkgp[0]\n",
    "linebkg.a.fix = True\n",
    "linebkg.b = GRB221009Aall.bkgp[1]\n",
    "linebkg.b.fix = True\n",
    "linebkg.c = GRB221009Aall.bkgp[2]\n",
    "linebkg.c.fix = True\n",
    "linebkg.d = GRB221009Aall.bkgp[3]\n",
    "linebkg.d.fix = True\n",
    "\n",
    "linebkgtri = Cubic()\n",
    "linebkgtri.a = 0\n",
    "linebkgtri.a.fix = True\n",
    "linebkgtri.b = 0\n",
    "linebkgtri.b.fix = True\n",
    "linebkgtri.c = 0\n",
    "linebkgtri.c.fix = True\n",
    "linebkgtri.d = 0\n",
    "linebkgtri.d.fix = True\n",
    "\n",
    "linebkgeff = linebkg/linebkg(226)\n",
    "\n",
    "lineafterglow = Cubic()\n",
    "# lineafterglow.a.bounds = (0,1000)\n",
    "# lineafterglow.b.bounds = (-10,10)\n",
    "# lineafterglow.c.bounds = (-10,10)\n",
    "\n",
    "\n",
    "gauss = Gaussian()\n",
    "gauss.F=1000\n",
    "gauss.F.bounds = (0,20000)\n",
    "gauss.mu.bounds = (235,255)\n",
    "gauss.sigma = 5\n",
    "# gauss.sigma.min = 0.1\n",
    "# gauss.sigma.max = 3\n",
    "gauss.sigma.bounds = (1,8)\n",
    "\n",
    "gauss2 = Gaussian()\n",
    "gauss2.F.bounds = (0,20000)\n",
    "gauss2.mu.bounds = (250,270)\n",
    "gauss2.sigma = 2\n",
    "# gauss2.sigma.min = 0.1\n",
    "# gauss2.sigma.max = 3\n",
    "gauss2.sigma.bounds = (1,5)\n",
    "\n",
    "step = StepFunction()\n",
    "step.value.bouds = (0,2000)\n",
    "step.lower_bound.bouds=(255, 265)\n",
    "step.upper_bound.bouds=(265, 272)\n",
    "\n",
    "gauss3 = Gaussian()\n",
    "gauss3.F.bounds = (0,20000)\n",
    "gauss3.mu.bounds = (227,240)\n",
    "gauss3.sigma = 2\n",
    "# gauss3.sigma.min = 0.1\n",
    "# gauss3.sigma.max = 3\n",
    "gauss3.sigma.bounds = (0.5, 4)\n",
    "\n",
    "hebs = my.HEBS()\n",
    "hebs.A.bounds = (1,2e15)\n",
    "hebs.ts = 250               #!!!!!!!!!!!!!!!!!!\n",
    "hebs.ts.fix = True\n",
    "# hebs.ts.bounds = (226, 235)\n",
    "hebs.te = 270\n",
    "hebs.dt.bounds = (-1,3)\n",
    "hebs.bint=bin_t/4 #\n",
    "hebs.bint.fix = True\n",
    "\n",
    "hebs2 = my.HEBS()\n",
    "hebs2.A.bounds = (1,20000)\n",
    "hebs2.ts = 229               #!!!!!!!!!!!!!!!!!!\n",
    "hebs2.te = 235\n",
    "hebs2.dt.bounds = (0,2)\n",
    "hebs2.bint=bin_t\n",
    "\n",
    "hebs3 = my.HEBS()\n",
    "hebs3.A.bounds = (1,20000)\n",
    "hebs3.ts = 239               #!!!!!!!!!!!!!!!!!!\n",
    "hebs3.te = 242\n",
    "hebs3.dt.bounds = (0,2)\n",
    "hebs3.bint=bin_t"
   ]
  },
  {
   "cell_type": "code",
   "execution_count": 34,
   "metadata": {},
   "outputs": [],
   "source": [
    "\n",
    "# lcmodelf22 = lcmodel + linebkg*bin_t + linebkgtri*bin_t + gauss + gauss3\n",
    "# lcmodelf3 = lcmodel + linebkg*bin_t + linebkgtri*bin_t + gauss + gauss2\n",
    "# lcmodelf32 = lcmodel + linebkg*bin_t + linebkgtri*bin_t + gauss + gauss2 + gauss3\n",
    "\n",
    "# lcmodelf42 = lcmodel + linebkg*bin_t + linebkgtri*bin_t + gauss + hebs + gauss3\n",
    "# lcmodelf5 = lcmodel + linebkg*bin_t + linebkgtri*bin_t + gauss + hebs + hebs2\n",
    "# lcmodelf6 = lcmodel + linebkg*bin_t + linebkgtri*bin_t + gauss + hebs + hebs2 + hebs3\n",
    "# linehebs2 = lineafterglow + linebkg*bin_t + linebkgtri*bin_t + hebs\n",
    "\n",
    "\n",
    "# src22 = PointSource(\"GRB221009A\", ra=0.0, dec=0.0, spectral_shape=lcmodelf22)\n",
    "# src3 = PointSource(\"GRB221009A\", ra=0.0, dec=0.0, spectral_shape=lcmodelf3)\n",
    "# src32 = PointSource(\"GRB221009A\", ra=0.0, dec=0.0, spectral_shape=lcmodelf32)\n",
    "\n",
    "# src42 = PointSource(\"GRB221009A\", ra=0.0, dec=0.0, spectral_shape=lcmodelf42)\n",
    "# src5 = PointSource(\"GRB221009A\", ra=0.0, dec=0.0, spectral_shape=lcmodelf5)\n",
    "# src6 = PointSource(\"GRB221009A\", ra=0.0, dec=0.0, spectral_shape=lcmodelf6)\n",
    "\n",
    "# srcline2 = PointSource(\"GRB221009A\", ra=0.0, dec=0.0, spectral_shape=linehebs2)\n",
    "\n",
    "\n",
    "\n",
    "# model22 = Model(src22)\n",
    "# model3 = Model(src3)\n",
    "# model32 = Model(src32)\n",
    "\n",
    "# lcmodelf = linebkgeff*(lcmodel + linebkg*bin_t + linebkgtri*bin_t)\n",
    "# src = PointSource(\"GRB221009A\", ra=0.0, dec=0.0, spectral_shape=lcmodelf)\n",
    "# model1 = Model(src)\n",
    "\n",
    "# lcmodelf2 = linebkgeff*(lcmodel + linebkg*bin_t + linebkgtri*bin_t + gauss)\n",
    "# src2 = PointSource(\"GRB221009A\", ra=0.0, dec=0.0, spectral_shape=lcmodelf2)\n",
    "# model2 = Model(src2)\n",
    "\n",
    "# lcmodelf4 = linebkgeff*(lcmodel + linebkg*bin_t + linebkgtri*bin_t + gauss + hebs)\n",
    "# src4 = PointSource(\"GRB221009A\", ra=0.0, dec=0.0, spectral_shape=lcmodelf4)\n",
    "# model4 = Model(src4)\n",
    "\n",
    "\n",
    "# lcmodelf7 = linebkgeff*(lcmodelT + linebkg*bin_t + linebkgtri*bin_t)\n",
    "# src7 = PointSource(\"GRB221009A\", ra=0.0, dec=0.0, spectral_shape=lcmodelf7)\n",
    "# model7 = Model(src7)\n",
    "\n",
    "# lcmodelf9 = linebkgeff*(lcmodelT + linebkg*bin_t + linebkgtri*bin_t + gauss)\n",
    "# src9 = PointSource(\"GRB221009A\", ra=0.0, dec=0.0, spectral_shape=lcmodelf9)\n",
    "# model9 = Model(src9)\n",
    "\n",
    "# lcmodelf8 = linebkgeff*(lcmodelT + linebkg*bin_t + linebkgtri*bin_t + gauss + hebs)\n",
    "# src8 = PointSource(\"GRB221009A\", ra=0.0, dec=0.0, spectral_shape=lcmodelf8)\n",
    "# model8 = Model(src8)\n",
    "\n",
    "# lcmodelf10 = linebkgeff*(lcmodelT + linebkg*bin_t + linebkgtri*bin_t +hebs)\n",
    "# src10 = PointSource(\"GRB221009A\", ra=0.0, dec=0.0, spectral_shape=lcmodelf10)\n",
    "# model10 = Model(src10)\n",
    "\n",
    "# lcmodelf11 = linebkgeff*(lcmodelT + linebkg*bin_t + linebkgtri*bin_t + gauss + step)\n",
    "# src11 = PointSource(\"GRB221009A\", ra=0.0, dec=0.0, spectral_shape=lcmodelf11)\n",
    "# model11 = Model(src11)\n",
    "\n",
    "lcmodelf12 = linebkgeff*(lcmodelT + linebkg*bin_t + linebkgtri*bin_t + gauss + gauss2)\n",
    "src12 = PointSource(\"GRB221009A\", ra=0.0, dec=0.0, spectral_shape=lcmodelf12)\n",
    "model12 = Model(src12)\n",
    "\n",
    "\n",
    "\n",
    "\n",
    "\n",
    "\n",
    "# lcmodelf8 = linebkgeff*(lcmodel + linebkg*bin_t + linebkgtri*bin_t + gauss + hebs)\n",
    "# src8 = PointSource(\"GRB221009A\", ra=0.0, dec=0.0, spectral_shape=lcmodelf8)\n",
    "# model8 = Model(src8)\n",
    "\n",
    "# lcmodelf9 = linebkgeff*(lcmodel + linebkg*bin_t + linebkgtri*bin_t + gauss)\n",
    "# src9 = PointSource(\"GRB221009A\", ra=0.0, dec=0.0, spectral_shape=lcmodelf9)\n",
    "# model9 = Model(src9)\n",
    "\n",
    "#, model9.GRB221009A.spectrum.main.composite.dt_5: np.linspace(0.1, 1.9, 5)\n",
    "\n",
    "# model42 = Model(src42)\n",
    "\n",
    "# modelline3 = Model(srcline2)\n",
    "# model5 = Model(src5)\n",
    "# model6 = Model(src6)\n",
    "# model1.display(complete=True)\n",
    "# model2.display(complete=True)\n",
    "# model22.display(complete=True)\n",
    "# model3.display(complete=True)\n",
    "# model32.display(complete=True)\n",
    "# model4.display(complete=True)\n",
    "# model42.display(complete=True)\n",
    "# model5.display(complete=True)\n",
    "# model6.display(complete=True)"
   ]
  },
  {
   "cell_type": "code",
   "execution_count": 35,
   "metadata": {},
   "outputs": [
    {
     "data": {
      "text/html": [
       "<pre style=\"white-space:pre;overflow-x:auto;line-height:normal;font-family:Menlo,'DejaVu Sans Mono',consolas,'Courier New',monospace\"><span style=\"color: #00ff00; text-decoration-color: #00ff00\">10:33:01 </span><span style=\"color: #00ffaf; text-decoration-color: #00ffaf\">INFO    </span> <span style=\"color: #c6c6c6; text-decoration-color: #c6c6c6; font-weight: bold\"> set the minimizer to minuit                                             </span><a href=\"file:///data/home/cwy/.mylib/miniconda3/envs/3ML/lib/python3.9/site-packages/threeML/classicMLE/joint_likelihood.py\" target=\"_blank\"><span style=\"color: #7f7f7f; text-decoration-color: #7f7f7f\">joint_likelihood.py</span></a><span style=\"color: #7f7f7f; text-decoration-color: #7f7f7f\">:</span><a href=\"file:///data/home/cwy/.mylib/miniconda3/envs/3ML/lib/python3.9/site-packages/threeML/classicMLE/joint_likelihood.py#1042\" target=\"_blank\"><span style=\"color: #7f7f7f; text-decoration-color: #7f7f7f\">1042</span></a>\n",
       "</pre>\n"
      ],
      "text/plain": [
       "\u001b[38;5;46m10:33:01\u001b[0m\u001b[38;5;46m \u001b[0m\u001b[38;5;49mINFO    \u001b[0m \u001b[1;38;5;251m set the minimizer to minuit                                            \u001b[0m\u001b[1;38;5;251m \u001b[0m\u001b]8;id=821517;file:///data/home/cwy/.mylib/miniconda3/envs/3ML/lib/python3.9/site-packages/threeML/classicMLE/joint_likelihood.py\u001b\\\u001b[2mjoint_likelihood.py\u001b[0m\u001b]8;;\u001b\\\u001b[2m:\u001b[0m\u001b]8;id=611876;file:///data/home/cwy/.mylib/miniconda3/envs/3ML/lib/python3.9/site-packages/threeML/classicMLE/joint_likelihood.py#1042\u001b\\\u001b[2m1042\u001b[0m\u001b]8;;\u001b\\\n"
      ]
     },
     "metadata": {},
     "output_type": "display_data"
    },
    {
     "data": {
      "text/html": [
       "<pre style=\"white-space:pre;overflow-x:auto;line-height:normal;font-family:Menlo,'DejaVu Sans Mono',consolas,'Courier New',monospace\"><span style=\"color: #00ff00; text-decoration-color: #00ff00\">         </span><span style=\"color: #00ffaf; text-decoration-color: #00ffaf\">INFO    </span> <span style=\"color: #c6c6c6; text-decoration-color: #c6c6c6; font-weight: bold\"> set the minimizer to grid                                               </span><a href=\"file:///data/home/cwy/.mylib/miniconda3/envs/3ML/lib/python3.9/site-packages/threeML/classicMLE/joint_likelihood.py\" target=\"_blank\"><span style=\"color: #7f7f7f; text-decoration-color: #7f7f7f\">joint_likelihood.py</span></a><span style=\"color: #7f7f7f; text-decoration-color: #7f7f7f\">:</span><a href=\"file:///data/home/cwy/.mylib/miniconda3/envs/3ML/lib/python3.9/site-packages/threeML/classicMLE/joint_likelihood.py#1042\" target=\"_blank\"><span style=\"color: #7f7f7f; text-decoration-color: #7f7f7f\">1042</span></a>\n",
       "</pre>\n"
      ],
      "text/plain": [
       "\u001b[38;5;46m        \u001b[0m\u001b[38;5;46m \u001b[0m\u001b[38;5;49mINFO    \u001b[0m \u001b[1;38;5;251m set the minimizer to grid                                              \u001b[0m\u001b[1;38;5;251m \u001b[0m\u001b]8;id=506579;file:///data/home/cwy/.mylib/miniconda3/envs/3ML/lib/python3.9/site-packages/threeML/classicMLE/joint_likelihood.py\u001b\\\u001b[2mjoint_likelihood.py\u001b[0m\u001b]8;;\u001b\\\u001b[2m:\u001b[0m\u001b]8;id=976989;file:///data/home/cwy/.mylib/miniconda3/envs/3ML/lib/python3.9/site-packages/threeML/classicMLE/joint_likelihood.py#1042\u001b\\\u001b[2m1042\u001b[0m\u001b]8;;\u001b\\\n"
      ]
     },
     "metadata": {},
     "output_type": "display_data"
    },
    {
     "data": {
      "application/vnd.jupyter.widget-view+json": {
       "model_id": "d125544d7dee46ff9c4ea3a73742abec",
       "version_major": 2,
       "version_minor": 0
      },
      "text/plain": [
       "Grid Minimization:   0%|          | 0/9 [00:00<?, ?it/s]"
      ]
     },
     "metadata": {},
     "output_type": "display_data"
    },
    {
     "data": {
      "text/html": [
       "<pre style=\"white-space:pre;overflow-x:auto;line-height:normal;font-family:Menlo,'DejaVu Sans Mono',consolas,'Courier New',monospace\"><span style=\"color: #00ff00; text-decoration-color: #00ff00\">10:33:06 </span><span style=\"color: #00ffaf; text-decoration-color: #00ffaf\">INFO    </span> <span style=\"color: #c6c6c6; text-decoration-color: #c6c6c6; font-weight: bold\">                                                                          </span><a href=\"file:///data/home/cwy/.mylib/miniconda3/envs/3ML/lib/python3.9/site-packages/threeML/classicMLE/joint_likelihood.py\" target=\"_blank\"><span style=\"color: #7f7f7f; text-decoration-color: #7f7f7f\">joint_likelihood.py</span></a><span style=\"color: #7f7f7f; text-decoration-color: #7f7f7f\">:</span><a href=\"file:///data/home/cwy/.mylib/miniconda3/envs/3ML/lib/python3.9/site-packages/threeML/classicMLE/joint_likelihood.py#294\" target=\"_blank\"><span style=\"color: #7f7f7f; text-decoration-color: #7f7f7f\">294</span></a>\n",
       "<span style=\"color: #00ff00; text-decoration-color: #00ff00\">         </span>         <span style=\"color: #c6c6c6; text-decoration-color: #c6c6c6; font-weight: bold\">                                                                          </span><span style=\"color: #7f7f7f; text-decoration-color: #7f7f7f\">                       </span>\n",
       "<span style=\"color: #00ff00; text-decoration-color: #00ff00\">         </span>         <span style=\"color: #c6c6c6; text-decoration-color: #c6c6c6; font-weight: bold\">Results after global minimizer (before secondary optimization):           </span><span style=\"color: #7f7f7f; text-decoration-color: #7f7f7f\">                       </span>\n",
       "</pre>\n"
      ],
      "text/plain": [
       "\u001b[38;5;46m10:33:06\u001b[0m\u001b[38;5;46m \u001b[0m\u001b[38;5;49mINFO    \u001b[0m \u001b[1;38;5;251m                                                                         \u001b[0m\u001b[1;38;5;251m \u001b[0m\u001b]8;id=97895;file:///data/home/cwy/.mylib/miniconda3/envs/3ML/lib/python3.9/site-packages/threeML/classicMLE/joint_likelihood.py\u001b\\\u001b[2mjoint_likelihood.py\u001b[0m\u001b]8;;\u001b\\\u001b[2m:\u001b[0m\u001b]8;id=988428;file:///data/home/cwy/.mylib/miniconda3/envs/3ML/lib/python3.9/site-packages/threeML/classicMLE/joint_likelihood.py#294\u001b\\\u001b[2m294\u001b[0m\u001b]8;;\u001b\\\n",
       "\u001b[38;5;46m         \u001b[0m         \u001b[1;38;5;251m                                                                         \u001b[0m\u001b[1;38;5;251m \u001b[0m\u001b[2m                       \u001b[0m\n",
       "\u001b[38;5;46m         \u001b[0m         \u001b[1;38;5;251mResults after global minimizer \u001b[0m\u001b[1;38;5;251m(\u001b[0m\u001b[1;38;5;251mbefore secondary optimization\u001b[0m\u001b[1;38;5;251m)\u001b[0m\u001b[1;38;5;251m:          \u001b[0m\u001b[1;38;5;251m \u001b[0m\u001b[2m                       \u001b[0m\n"
      ]
     },
     "metadata": {},
     "output_type": "display_data"
    },
    {
     "data": {
      "text/html": [
       "<div>\n",
       "<style scoped>\n",
       "    .dataframe tbody tr th:only-of-type {\n",
       "        vertical-align: middle;\n",
       "    }\n",
       "\n",
       "    .dataframe tbody tr th {\n",
       "        vertical-align: top;\n",
       "    }\n",
       "\n",
       "    .dataframe thead th {\n",
       "        text-align: right;\n",
       "    }\n",
       "</style>\n",
       "<table border=\"1\" class=\"dataframe\">\n",
       "  <thead>\n",
       "    <tr style=\"text-align: right;\">\n",
       "      <th></th>\n",
       "      <th>result</th>\n",
       "      <th>unit</th>\n",
       "    </tr>\n",
       "    <tr>\n",
       "      <th>parameter</th>\n",
       "      <th></th>\n",
       "      <th></th>\n",
       "    </tr>\n",
       "  </thead>\n",
       "  <tbody>\n",
       "    <tr>\n",
       "      <th>GRB221009A.spectrum.main.composite.Fc_2</th>\n",
       "      <td>(5.414716743516902 +/- 0) x 10^2</td>\n",
       "      <td></td>\n",
       "    </tr>\n",
       "    <tr>\n",
       "      <th>GRB221009A.spectrum.main.composite.alpha_c_2</th>\n",
       "      <td>1.2150944646066308 +/- 0</td>\n",
       "      <td></td>\n",
       "    </tr>\n",
       "    <tr>\n",
       "      <th>GRB221009A.spectrum.main.composite.Tc_2</th>\n",
       "      <td>(-1.7261167478457082 +/- 0) x 10^2</td>\n",
       "      <td>s</td>\n",
       "    </tr>\n",
       "    <tr>\n",
       "      <th>GRB221009A.spectrum.main.composite.tc_2</th>\n",
       "      <td>6.658404223860771 +/- 0</td>\n",
       "      <td>s</td>\n",
       "    </tr>\n",
       "    <tr>\n",
       "      <th>GRB221009A.spectrum.main.composite.t0_2</th>\n",
       "      <td>(2.2808999414334483 +/- 0) x 10^2</td>\n",
       "      <td>s</td>\n",
       "    </tr>\n",
       "    <tr>\n",
       "      <th>GRB221009A.spectrum.main.composite.F_4</th>\n",
       "      <td>(2.9885350699478717 +/- 0) x 10^3</td>\n",
       "      <td>1 / (s cm2)</td>\n",
       "    </tr>\n",
       "    <tr>\n",
       "      <th>GRB221009A.spectrum.main.composite.mu_4</th>\n",
       "      <td>(2.440568944572451 +/- 0) x 10^2</td>\n",
       "      <td>keV</td>\n",
       "    </tr>\n",
       "    <tr>\n",
       "      <th>GRB221009A.spectrum.main.composite.sigma_4</th>\n",
       "      <td>4.520444156184336 +/- 0</td>\n",
       "      <td>keV</td>\n",
       "    </tr>\n",
       "    <tr>\n",
       "      <th>GRB221009A.spectrum.main.composite.F_5</th>\n",
       "      <td>(4.375464878378977 +/- 0) x 10^2</td>\n",
       "      <td>1 / (s cm2)</td>\n",
       "    </tr>\n",
       "    <tr>\n",
       "      <th>GRB221009A.spectrum.main.composite.mu_5</th>\n",
       "      <td>(2.63442204414188 +/- 0) x 10^2</td>\n",
       "      <td>keV</td>\n",
       "    </tr>\n",
       "    <tr>\n",
       "      <th>GRB221009A.spectrum.main.composite.sigma_5</th>\n",
       "      <td>1.8529308755817904 +/- 0</td>\n",
       "      <td>keV</td>\n",
       "    </tr>\n",
       "  </tbody>\n",
       "</table>\n",
       "</div>"
      ],
      "text/plain": [
       "                                                                          result   \n",
       "parameter                                                                          \n",
       "GRB221009A.spectrum.main.composite.Fc_2         (5.414716743516902 +/- 0) x 10^2  \\\n",
       "GRB221009A.spectrum.main.composite.alpha_c_2            1.2150944646066308 +/- 0   \n",
       "GRB221009A.spectrum.main.composite.Tc_2       (-1.7261167478457082 +/- 0) x 10^2   \n",
       "GRB221009A.spectrum.main.composite.tc_2                  6.658404223860771 +/- 0   \n",
       "GRB221009A.spectrum.main.composite.t0_2        (2.2808999414334483 +/- 0) x 10^2   \n",
       "GRB221009A.spectrum.main.composite.F_4         (2.9885350699478717 +/- 0) x 10^3   \n",
       "GRB221009A.spectrum.main.composite.mu_4         (2.440568944572451 +/- 0) x 10^2   \n",
       "GRB221009A.spectrum.main.composite.sigma_4               4.520444156184336 +/- 0   \n",
       "GRB221009A.spectrum.main.composite.F_5          (4.375464878378977 +/- 0) x 10^2   \n",
       "GRB221009A.spectrum.main.composite.mu_5          (2.63442204414188 +/- 0) x 10^2   \n",
       "GRB221009A.spectrum.main.composite.sigma_5              1.8529308755817904 +/- 0   \n",
       "\n",
       "                                                     unit  \n",
       "parameter                                                  \n",
       "GRB221009A.spectrum.main.composite.Fc_2                    \n",
       "GRB221009A.spectrum.main.composite.alpha_c_2               \n",
       "GRB221009A.spectrum.main.composite.Tc_2                 s  \n",
       "GRB221009A.spectrum.main.composite.tc_2                 s  \n",
       "GRB221009A.spectrum.main.composite.t0_2                 s  \n",
       "GRB221009A.spectrum.main.composite.F_4        1 / (s cm2)  \n",
       "GRB221009A.spectrum.main.composite.mu_4               keV  \n",
       "GRB221009A.spectrum.main.composite.sigma_4            keV  \n",
       "GRB221009A.spectrum.main.composite.F_5        1 / (s cm2)  \n",
       "GRB221009A.spectrum.main.composite.mu_5               keV  \n",
       "GRB221009A.spectrum.main.composite.sigma_5            keV  "
      ]
     },
     "metadata": {},
     "output_type": "display_data"
    },
    {
     "data": {
      "text/html": [
       "<pre style=\"white-space:pre;overflow-x:auto;line-height:normal;font-family:Menlo,'DejaVu Sans Mono',consolas,'Courier New',monospace\"><span style=\"color: #00ff00; text-decoration-color: #00ff00\">         </span><span style=\"color: #00ffaf; text-decoration-color: #00ffaf\">INFO    </span> <span style=\"color: #c6c6c6; text-decoration-color: #c6c6c6; font-weight: bold\">                                                                          </span><a href=\"file:///data/home/cwy/.mylib/miniconda3/envs/3ML/lib/python3.9/site-packages/threeML/classicMLE/joint_likelihood.py\" target=\"_blank\"><span style=\"color: #7f7f7f; text-decoration-color: #7f7f7f\">joint_likelihood.py</span></a><span style=\"color: #7f7f7f; text-decoration-color: #7f7f7f\">:</span><a href=\"file:///data/home/cwy/.mylib/miniconda3/envs/3ML/lib/python3.9/site-packages/threeML/classicMLE/joint_likelihood.py#300\" target=\"_blank\"><span style=\"color: #7f7f7f; text-decoration-color: #7f7f7f\">300</span></a>\n",
       "<span style=\"color: #00ff00; text-decoration-color: #00ff00\">         </span>         <span style=\"color: #c6c6c6; text-decoration-color: #c6c6c6; font-weight: bold\">Total log-likelihood minimum: </span><span style=\"color: #c0c0c0; text-decoration-color: #c0c0c0; font-weight: bold\">1865.557</span><span style=\"color: #c6c6c6; text-decoration-color: #c6c6c6; font-weight: bold\">                                    </span><span style=\"color: #7f7f7f; text-decoration-color: #7f7f7f\">                       </span>\n",
       "<span style=\"color: #00ff00; text-decoration-color: #00ff00\">         </span>         <span style=\"color: #c6c6c6; text-decoration-color: #c6c6c6; font-weight: bold\">                                                                          </span><span style=\"color: #7f7f7f; text-decoration-color: #7f7f7f\">                       </span>\n",
       "</pre>\n"
      ],
      "text/plain": [
       "\u001b[38;5;46m        \u001b[0m\u001b[38;5;46m \u001b[0m\u001b[38;5;49mINFO    \u001b[0m \u001b[1;38;5;251m                                                                         \u001b[0m\u001b[1;38;5;251m \u001b[0m\u001b]8;id=759805;file:///data/home/cwy/.mylib/miniconda3/envs/3ML/lib/python3.9/site-packages/threeML/classicMLE/joint_likelihood.py\u001b\\\u001b[2mjoint_likelihood.py\u001b[0m\u001b]8;;\u001b\\\u001b[2m:\u001b[0m\u001b]8;id=355638;file:///data/home/cwy/.mylib/miniconda3/envs/3ML/lib/python3.9/site-packages/threeML/classicMLE/joint_likelihood.py#300\u001b\\\u001b[2m300\u001b[0m\u001b]8;;\u001b\\\n",
       "\u001b[38;5;46m         \u001b[0m         \u001b[1;38;5;251mTotal log-likelihood minimum: \u001b[0m\u001b[1;37m1865.557\u001b[0m\u001b[1;38;5;251m                                   \u001b[0m\u001b[1;38;5;251m \u001b[0m\u001b[2m                       \u001b[0m\n",
       "\u001b[38;5;46m         \u001b[0m         \u001b[1;38;5;251m                                                                         \u001b[0m\u001b[1;38;5;251m \u001b[0m\u001b[2m                       \u001b[0m\n"
      ]
     },
     "metadata": {},
     "output_type": "display_data"
    },
    {
     "data": {
      "text/html": [
       "<pre style=\"white-space:pre;overflow-x:auto;line-height:normal;font-family:Menlo,'DejaVu Sans Mono',consolas,'Courier New',monospace\"><span style=\"color: #00ffaf; text-decoration-color: #00ffaf; font-weight: bold; text-decoration: underline\">Best fit values:</span>\n",
       "\n",
       "</pre>\n"
      ],
      "text/plain": [
       "\u001b[1;4;38;5;49mBest fit values:\u001b[0m\n",
       "\n"
      ]
     },
     "metadata": {},
     "output_type": "display_data"
    },
    {
     "data": {
      "text/html": [
       "<div>\n",
       "<style scoped>\n",
       "    .dataframe tbody tr th:only-of-type {\n",
       "        vertical-align: middle;\n",
       "    }\n",
       "\n",
       "    .dataframe tbody tr th {\n",
       "        vertical-align: top;\n",
       "    }\n",
       "\n",
       "    .dataframe thead th {\n",
       "        text-align: right;\n",
       "    }\n",
       "</style>\n",
       "<table border=\"1\" class=\"dataframe\">\n",
       "  <thead>\n",
       "    <tr style=\"text-align: right;\">\n",
       "      <th></th>\n",
       "      <th>result</th>\n",
       "      <th>unit</th>\n",
       "    </tr>\n",
       "    <tr>\n",
       "      <th>parameter</th>\n",
       "      <th></th>\n",
       "      <th></th>\n",
       "    </tr>\n",
       "  </thead>\n",
       "  <tbody>\n",
       "    <tr>\n",
       "      <th>GRB221009A.spectrum.main.composite.Fc_2</th>\n",
       "      <td>(5.4 +/- 0.6) x 10^2</td>\n",
       "      <td></td>\n",
       "    </tr>\n",
       "    <tr>\n",
       "      <th>GRB221009A.spectrum.main.composite.alpha_c_2</th>\n",
       "      <td>1.215 +/- 0.018</td>\n",
       "      <td></td>\n",
       "    </tr>\n",
       "    <tr>\n",
       "      <th>GRB221009A.spectrum.main.composite.Tc_2</th>\n",
       "      <td>(-1.73 +/- 0.05) x 10^2</td>\n",
       "      <td>s</td>\n",
       "    </tr>\n",
       "    <tr>\n",
       "      <th>GRB221009A.spectrum.main.composite.tc_2</th>\n",
       "      <td>6.7 +/- 0.9</td>\n",
       "      <td>s</td>\n",
       "    </tr>\n",
       "    <tr>\n",
       "      <th>GRB221009A.spectrum.main.composite.t0_2</th>\n",
       "      <td>(2.2809 +/- 0.0034) x 10^2</td>\n",
       "      <td>s</td>\n",
       "    </tr>\n",
       "    <tr>\n",
       "      <th>GRB221009A.spectrum.main.composite.F_4</th>\n",
       "      <td>(3.0 +/- 0.9) x 10^3</td>\n",
       "      <td>1 / (s cm2)</td>\n",
       "    </tr>\n",
       "    <tr>\n",
       "      <th>GRB221009A.spectrum.main.composite.mu_4</th>\n",
       "      <td>(2.441 +/- 0.004) x 10^2</td>\n",
       "      <td>keV</td>\n",
       "    </tr>\n",
       "    <tr>\n",
       "      <th>GRB221009A.spectrum.main.composite.sigma_4</th>\n",
       "      <td>4.5 +/- 0.9</td>\n",
       "      <td>keV</td>\n",
       "    </tr>\n",
       "    <tr>\n",
       "      <th>GRB221009A.spectrum.main.composite.F_5</th>\n",
       "      <td>(4.4 +/- 1.8) x 10^2</td>\n",
       "      <td>1 / (s cm2)</td>\n",
       "    </tr>\n",
       "    <tr>\n",
       "      <th>GRB221009A.spectrum.main.composite.mu_5</th>\n",
       "      <td>(2.634 +/- 0.006) x 10^2</td>\n",
       "      <td>keV</td>\n",
       "    </tr>\n",
       "    <tr>\n",
       "      <th>GRB221009A.spectrum.main.composite.sigma_5</th>\n",
       "      <td>1.9 +/- 0.6</td>\n",
       "      <td>keV</td>\n",
       "    </tr>\n",
       "  </tbody>\n",
       "</table>\n",
       "</div>"
      ],
      "text/plain": [
       "                                                                  result   \n",
       "parameter                                                                  \n",
       "GRB221009A.spectrum.main.composite.Fc_2             (5.4 +/- 0.6) x 10^2  \\\n",
       "GRB221009A.spectrum.main.composite.alpha_c_2             1.215 +/- 0.018   \n",
       "GRB221009A.spectrum.main.composite.Tc_2          (-1.73 +/- 0.05) x 10^2   \n",
       "GRB221009A.spectrum.main.composite.tc_2                      6.7 +/- 0.9   \n",
       "GRB221009A.spectrum.main.composite.t0_2       (2.2809 +/- 0.0034) x 10^2   \n",
       "GRB221009A.spectrum.main.composite.F_4              (3.0 +/- 0.9) x 10^3   \n",
       "GRB221009A.spectrum.main.composite.mu_4         (2.441 +/- 0.004) x 10^2   \n",
       "GRB221009A.spectrum.main.composite.sigma_4                   4.5 +/- 0.9   \n",
       "GRB221009A.spectrum.main.composite.F_5              (4.4 +/- 1.8) x 10^2   \n",
       "GRB221009A.spectrum.main.composite.mu_5         (2.634 +/- 0.006) x 10^2   \n",
       "GRB221009A.spectrum.main.composite.sigma_5                   1.9 +/- 0.6   \n",
       "\n",
       "                                                     unit  \n",
       "parameter                                                  \n",
       "GRB221009A.spectrum.main.composite.Fc_2                    \n",
       "GRB221009A.spectrum.main.composite.alpha_c_2               \n",
       "GRB221009A.spectrum.main.composite.Tc_2                 s  \n",
       "GRB221009A.spectrum.main.composite.tc_2                 s  \n",
       "GRB221009A.spectrum.main.composite.t0_2                 s  \n",
       "GRB221009A.spectrum.main.composite.F_4        1 / (s cm2)  \n",
       "GRB221009A.spectrum.main.composite.mu_4               keV  \n",
       "GRB221009A.spectrum.main.composite.sigma_4            keV  \n",
       "GRB221009A.spectrum.main.composite.F_5        1 / (s cm2)  \n",
       "GRB221009A.spectrum.main.composite.mu_5               keV  \n",
       "GRB221009A.spectrum.main.composite.sigma_5            keV  "
      ]
     },
     "metadata": {},
     "output_type": "display_data"
    },
    {
     "data": {
      "text/html": [
       "<pre style=\"white-space:pre;overflow-x:auto;line-height:normal;font-family:Menlo,'DejaVu Sans Mono',consolas,'Courier New',monospace\">\n",
       "<span style=\"color: #00ffaf; text-decoration-color: #00ffaf; font-weight: bold; text-decoration: underline\">Correlation matrix:</span>\n",
       "\n",
       "</pre>\n"
      ],
      "text/plain": [
       "\n",
       "\u001b[1;4;38;5;49mCorrelation matrix:\u001b[0m\n",
       "\n"
      ]
     },
     "metadata": {},
     "output_type": "display_data"
    },
    {
     "data": {
      "text/html": [
       "<div><table id=\"table140468895388192\">\n",
       "<tr><td>1.00</td><td>-0.14</td><td>-0.96</td><td>0.66</td><td>-0.51</td><td>-0.75</td><td>-0.41</td><td>-0.67</td><td>-0.71</td><td>0.31</td><td>-0.54</td></tr>\n",
       "<tr><td>-0.14</td><td>1.00</td><td>0.34</td><td>0.41</td><td>-0.47</td><td>0.30</td><td>-0.28</td><td>0.28</td><td>0.03</td><td>-0.06</td><td>0.03</td></tr>\n",
       "<tr><td>-0.96</td><td>0.34</td><td>1.00</td><td>-0.45</td><td>0.28</td><td>0.84</td><td>0.29</td><td>0.75</td><td>0.71</td><td>-0.32</td><td>0.54</td></tr>\n",
       "<tr><td>0.66</td><td>0.41</td><td>-0.45</td><td>1.00</td><td>-0.93</td><td>-0.06</td><td>-0.59</td><td>-0.01</td><td>-0.29</td><td>0.12</td><td>-0.22</td></tr>\n",
       "<tr><td>-0.51</td><td>-0.47</td><td>0.28</td><td>-0.93</td><td>1.00</td><td>-0.05</td><td>0.48</td><td>-0.06</td><td>0.17</td><td>-0.07</td><td>0.13</td></tr>\n",
       "<tr><td>-0.75</td><td>0.30</td><td>0.84</td><td>-0.06</td><td>-0.05</td><td>1.00</td><td>0.09</td><td>0.95</td><td>0.75</td><td>-0.31</td><td>0.57</td></tr>\n",
       "<tr><td>-0.41</td><td>-0.28</td><td>0.29</td><td>-0.59</td><td>0.48</td><td>0.09</td><td>1.00</td><td>0.07</td><td>0.23</td><td>-0.09</td><td>0.17</td></tr>\n",
       "<tr><td>-0.67</td><td>0.28</td><td>0.75</td><td>-0.01</td><td>-0.06</td><td>0.95</td><td>0.07</td><td>1.00</td><td>0.69</td><td>-0.28</td><td>0.52</td></tr>\n",
       "<tr><td>-0.71</td><td>0.03</td><td>0.71</td><td>-0.29</td><td>0.17</td><td>0.75</td><td>0.23</td><td>0.69</td><td>1.00</td><td>-0.34</td><td>0.75</td></tr>\n",
       "<tr><td>0.31</td><td>-0.06</td><td>-0.32</td><td>0.12</td><td>-0.07</td><td>-0.31</td><td>-0.09</td><td>-0.28</td><td>-0.34</td><td>1.00</td><td>-0.36</td></tr>\n",
       "<tr><td>-0.54</td><td>0.03</td><td>0.54</td><td>-0.22</td><td>0.13</td><td>0.57</td><td>0.17</td><td>0.52</td><td>0.75</td><td>-0.36</td><td>1.00</td></tr>\n",
       "</table></div>"
      ],
      "text/plain": [
       " 1.00 -0.14 -0.96  0.66 -0.51 -0.75 -0.41 -0.67 -0.71  0.31 -0.54\n",
       "-0.14  1.00  0.34  0.41 -0.47  0.30 -0.28  0.28  0.03 -0.06  0.03\n",
       "-0.96  0.34  1.00 -0.45  0.28  0.84  0.29  0.75  0.71 -0.32  0.54\n",
       " 0.66  0.41 -0.45  1.00 -0.93 -0.06 -0.59 -0.01 -0.29  0.12 -0.22\n",
       "-0.51 -0.47  0.28 -0.93  1.00 -0.05  0.48 -0.06  0.17 -0.07  0.13\n",
       "-0.75  0.30  0.84 -0.06 -0.05  1.00  0.09  0.95  0.75 -0.31  0.57\n",
       "-0.41 -0.28  0.29 -0.59  0.48  0.09  1.00  0.07  0.23 -0.09  0.17\n",
       "-0.67  0.28  0.75 -0.01 -0.06  0.95  0.07  1.00  0.69 -0.28  0.52\n",
       "-0.71  0.03  0.71 -0.29  0.17  0.75  0.23  0.69  1.00 -0.34  0.75\n",
       " 0.31 -0.06 -0.32  0.12 -0.07 -0.31 -0.09 -0.28 -0.34  1.00 -0.36\n",
       "-0.54  0.03  0.54 -0.22  0.13  0.57  0.17  0.52  0.75 -0.36  1.00"
      ]
     },
     "metadata": {},
     "output_type": "display_data"
    },
    {
     "data": {
      "text/html": [
       "<pre style=\"white-space:pre;overflow-x:auto;line-height:normal;font-family:Menlo,'DejaVu Sans Mono',consolas,'Courier New',monospace\">\n",
       "<span style=\"color: #00ffaf; text-decoration-color: #00ffaf; font-weight: bold; text-decoration: underline\">Values of -log(likelihood) at the minimum:</span>\n",
       "\n",
       "</pre>\n"
      ],
      "text/plain": [
       "\n",
       "\u001b[1;4;38;5;49mValues of -\u001b[0m\u001b[1;4;38;5;49mlog\u001b[0m\u001b[1;4;38;5;49m(\u001b[0m\u001b[1;4;38;5;49mlikelihood\u001b[0m\u001b[1;4;38;5;49m)\u001b[0m\u001b[1;4;38;5;49m at the minimum:\u001b[0m\n",
       "\n"
      ]
     },
     "metadata": {},
     "output_type": "display_data"
    },
    {
     "data": {
      "text/html": [
       "<div>\n",
       "<style scoped>\n",
       "    .dataframe tbody tr th:only-of-type {\n",
       "        vertical-align: middle;\n",
       "    }\n",
       "\n",
       "    .dataframe tbody tr th {\n",
       "        vertical-align: top;\n",
       "    }\n",
       "\n",
       "    .dataframe thead th {\n",
       "        text-align: right;\n",
       "    }\n",
       "</style>\n",
       "<table border=\"1\" class=\"dataframe\">\n",
       "  <thead>\n",
       "    <tr style=\"text-align: right;\">\n",
       "      <th></th>\n",
       "      <th>-log(likelihood)</th>\n",
       "    </tr>\n",
       "  </thead>\n",
       "  <tbody>\n",
       "    <tr>\n",
       "      <th>GRB221009A</th>\n",
       "      <td>1865.556758</td>\n",
       "    </tr>\n",
       "    <tr>\n",
       "      <th>total</th>\n",
       "      <td>1865.556758</td>\n",
       "    </tr>\n",
       "  </tbody>\n",
       "</table>\n",
       "</div>"
      ],
      "text/plain": [
       "            -log(likelihood)\n",
       "GRB221009A       1865.556758\n",
       "total            1865.556758"
      ]
     },
     "metadata": {},
     "output_type": "display_data"
    },
    {
     "data": {
      "text/html": [
       "<pre style=\"white-space:pre;overflow-x:auto;line-height:normal;font-family:Menlo,'DejaVu Sans Mono',consolas,'Courier New',monospace\">\n",
       "<span style=\"color: #00ffaf; text-decoration-color: #00ffaf; font-weight: bold; text-decoration: underline\">Values of statistical measures:</span>\n",
       "\n",
       "</pre>\n"
      ],
      "text/plain": [
       "\n",
       "\u001b[1;4;38;5;49mValues of statistical measures:\u001b[0m\n",
       "\n"
      ]
     },
     "metadata": {},
     "output_type": "display_data"
    },
    {
     "data": {
      "text/html": [
       "<div>\n",
       "<style scoped>\n",
       "    .dataframe tbody tr th:only-of-type {\n",
       "        vertical-align: middle;\n",
       "    }\n",
       "\n",
       "    .dataframe tbody tr th {\n",
       "        vertical-align: top;\n",
       "    }\n",
       "\n",
       "    .dataframe thead th {\n",
       "        text-align: right;\n",
       "    }\n",
       "</style>\n",
       "<table border=\"1\" class=\"dataframe\">\n",
       "  <thead>\n",
       "    <tr style=\"text-align: right;\">\n",
       "      <th></th>\n",
       "      <th>statistical measures</th>\n",
       "    </tr>\n",
       "  </thead>\n",
       "  <tbody>\n",
       "    <tr>\n",
       "      <th>AIC</th>\n",
       "      <td>3753.793928</td>\n",
       "    </tr>\n",
       "    <tr>\n",
       "      <th>BIC</th>\n",
       "      <td>3797.019625</td>\n",
       "    </tr>\n",
       "  </tbody>\n",
       "</table>\n",
       "</div>"
      ],
      "text/plain": [
       "     statistical measures\n",
       "AIC           3753.793928\n",
       "BIC           3797.019625"
      ]
     },
     "metadata": {},
     "output_type": "display_data"
    }
   ],
   "source": [
    "if lcmodelT.t0.fix:\n",
    "    fixtxt=f\"fixt0{lcmodelT.t0.value}\"\n",
    "else:\n",
    "    fixtxt=f\"freet0\"\n",
    "\n",
    "dataname=\"lcwz_opt\"\n",
    "\n",
    "# Modelname=f\"{dataname}{bin_t}+TPLM{fixtxt}+linebkg\"\n",
    "# if not os.path.exists(f'../res/{region_name}/{Modelname}/'):\n",
    "#     os.system(f'mkdir ../res/{region_name}/{Modelname}/')\n",
    "# model7.save(f\"../res/{region_name}/{Modelname}/Model_init.yml\", overwrite=True)\n",
    "# result = my.fit(region_name, Modelname, GRBlike, model7, mini=\"ROOT\", donwtlimit=False)\n",
    "\n",
    "# Modelname=f\"{dataname}{bin_t}+TPLM{fixtxt}+linebkg+hebs_250_270\"\n",
    "# if not os.path.exists(f'../res/{region_name}/{Modelname}/'):\n",
    "#     os.system(f'mkdir ../res/{region_name}/{Modelname}/')\n",
    "# model10.save(f\"../res/{region_name}/{Modelname}/Model_init.yml\", overwrite=True)\n",
    "# result = my.fit(region_name, Modelname, GRBlike, model10, mini=\"ROOT\", grids={model10.GRB221009A.spectrum.main.composite.dt_4: np.linspace(0.1, 1.9, 5)}, donwtlimit=False) \n",
    "\n",
    "# Modelname=f\"{dataname}{bin_t}+TPLM{fixtxt}+linebkg+gauss\"\n",
    "# if not os.path.exists(f'../res/{region_name}/{Modelname}/'):\n",
    "#     os.system(f'mkdir ../res/{region_name}/{Modelname}/')\n",
    "# model9.save(f\"../res/{region_name}/{Modelname}/Model_init.yml\", overwrite=True)\n",
    "# result = my.fit(region_name, Modelname, GRBlike, model9, mini=\"ROOT\", grids={model9.GRB221009A.spectrum.main.composite.mu_4: np.linspace(236, 254, 5)}, donwtlimit=False) #, model9.GRB221009A.spectrum.main.composite.dt_5: np.linspace(0.1, 1.9, 5)\n",
    "\n",
    "# Modelname=f\"{dataname}{bin_t}+TPLM{fixtxt}+linebkg+gauss+hebs_250_270\"\n",
    "# if not os.path.exists(f'../res/{region_name}/{Modelname}/'):\n",
    "#     os.system(f'mkdir ../res/{region_name}/{Modelname}/')\n",
    "# model8.save(f\"../res/{region_name}/{Modelname}/Model_init.yml\", overwrite=True)\n",
    "# result = my.fit(region_name, Modelname, GRBlike, model8, mini=\"ROOT\", grids={model8.GRB221009A.spectrum.main.composite.mu_4: np.linspace(236, 254, 10), model8.GRB221009A.spectrum.main.composite.dt_5: np.linspace(0.1, 1.9, 10)}, donwtlimit=False) \n",
    "\n",
    "# Modelname=f\"{dataname}{bin_t}+TPLM{fixtxt}+linebkg+gauss+step\"\n",
    "# if not os.path.exists(f'../res/{region_name}/{Modelname}/'):\n",
    "#     os.system(f'mkdir ../res/{region_name}/{Modelname}/')\n",
    "# model11.save(f\"../res/{region_name}/{Modelname}/Model_init.yml\", overwrite=True)\n",
    "# result = my.fit(region_name, Modelname, GRBlike, model11, mini=\"ROOT\", donwtlimit=False, grids={model11.GRB221009A.spectrum.main.composite.lower_bound_5: np.linspace(255, 265, 6), model11.GRB221009A.spectrum.main.composite.upper_bound_5: np.linspace(265, 274, 6)} )\n",
    "\n",
    "Modelname=f\"{dataname}{bin_t}+TPLM{fixtxt}+linebkg+gauss+gauss2\"\n",
    "if not os.path.exists(f'../res/{region_name}/{Modelname}/'):\n",
    "    os.system(f'mkdir ../res/{region_name}/{Modelname}/')\n",
    "model12.save(f\"../res/{region_name}/{Modelname}/Model_init.yml\", overwrite=True)\n",
    "result = my.fit(region_name, Modelname, GRBlike, model12, mini=\"ROOT\", grids={model12.GRB221009A.spectrum.main.composite.mu_4: np.linspace(236, 254, 3), model12.GRB221009A.spectrum.main.composite.mu_5: np.linspace(252, 268, 3)}, donwtlimit=False) "
   ]
  },
  {
   "cell_type": "code",
   "execution_count": 36,
   "metadata": {},
   "outputs": [
    {
     "data": {
      "image/png": "[encoded data removed]",
      "text/plain": [
       "<Figure size 640x480 with 1 Axes>"
      ]
     },
     "metadata": {},
     "output_type": "display_data"
    }
   ],
   "source": [
    "%matplotlib inline\n",
    "GRBlike.plot()\n",
    "\n",
    "xx = np.arange(t0,te,0.001)\n",
    "\n",
    "yy = (linebkgeff*(linebkg*bin_t+linebkgtri*bin_t+lcmodelT))(xx)\n",
    "plt.plot(xx,yy, color=\"red\")\n",
    "\n",
    "yy = (linebkgeff*(linebkg*bin_t+linebkgtri*bin_t+gauss))(xx)\n",
    "plt.plot(xx,yy, color=\"green\")\n",
    "\n",
    "# yy = (linebkgeff*(linebkg*bin_t+linebkgtri*bin_t+hebs))(xx)\n",
    "# plt.plot(xx,yy, color=\"orange\") \n",
    "\n",
    "yy = (linebkgeff*(linebkg*bin_t+linebkgtri*bin_t+gauss2))(xx)\n",
    "plt.plot(xx,yy, color=\"orange\") \n",
    "\n",
    "# yy = (linebkgeff*(linebkg*bin_t+linebkgtri*bin_t+step))(xx)\n",
    "# plt.plot(xx,yy, color=\"orange\")\n",
    "\n",
    "# yy = (linebkgeff*(linebkg*bin_t+linebkgtri*bin_t+lcmodelT))(xx)\n",
    "# plt.plot(xx,yy, color=\"red\")\n",
    "\n",
    "# yy = (linebkgeff*(linebkg*bin_t+linebkgtri*bin_t+lcmodel))(xx)\n",
    "# plt.plot(xx,yy, color=\"red\")\n",
    "\n",
    "# yy = linehebs3(xx)\n",
    "# plt.plot(xx,yy, color=\"red\")\n",
    "\n",
    "# yy0 = (linebkg*bin_t+linebkgtri*bin_t+gauss3)(xx)\n",
    "# plt.plot(xx,yy0, color=\"blue\")\n",
    "\n",
    "# yy2 = (linebkgeff*(linebkg*bin_t+linebkgtri*bin_t+gauss))(xx)\n",
    "# plt.plot(xx,yy2, color=\"black\")\n",
    "\n",
    "# yy3 = (linebkg*bin_t+linebkgtri*bin_t+gauss2)(xx)\n",
    "# plt.plot(xx,yy3, color=\"green\")\n",
    "\n",
    "# yy4 = (linebkgeff*(linebkg*bin_t+linebkgtri*bin_t+hebs))(xx)\n",
    "# plt.plot(xx,yy4, color=\"orange\")\n",
    "\n",
    "# yy5 = (linebkg*bin_t+hebs2)(xx)\n",
    "# plt.plot(xx,yy5, color=\"orange\")\n",
    "\n",
    "# yy6 = (linebkg*bin_t+hebs3)(xx)\n",
    "# plt.plot(xx,yy6, color=\"orange\")\n",
    "\n",
    "\n",
    "plt.xlim(200,300)\n",
    "plt.annotate(f\"sig: {my.calculate_significance(2, 1873.159393, 1865.556758):.2f}\", (260, 600), color=\"orange\")\n",
    "\n",
    "plt.savefig(f\"../res/{region_name}/{Modelname}/lc.png\", dpi=300)\n",
    "plt.savefig(f\"../res/{region_name}/{Modelname}/lc.pdf\", dpi=300)\n",
    "\n",
    "plt.show()"
   ]
  },
  {
   "cell_type": "code",
   "execution_count": 43,
   "metadata": {},
   "outputs": [
    {
     "data": {
      "text/plain": [
       "5.129156893015179"
      ]
     },
     "execution_count": 43,
     "metadata": {},
     "output_type": "execute_result"
    }
   ],
   "source": [
    "my.calculate_significance(2, 284.780755, 269.037812)"
   ]
  },
  {
   "cell_type": "code",
   "execution_count": 156,
   "metadata": {},
   "outputs": [
    {
     "data": {
      "text/html": [
       "<pre style=\"white-space:pre;overflow-x:auto;line-height:normal;font-family:Menlo,'DejaVu Sans Mono',consolas,'Courier New',monospace\"><span style=\"color: #00ff00; text-decoration-color: #00ff00\">12:36:04 </span><span style=\"color: #00ffaf; text-decoration-color: #00ffaf\">INFO    </span> <span style=\"color: #c6c6c6; text-decoration-color: #c6c6c6; font-weight: bold\"> set the minimizer to minuit                                             </span><a href=\"file:///data/home/cwy/.mylib/miniconda3/envs/3ML/lib/python3.9/site-packages/threeML/classicMLE/joint_likelihood.py\" target=\"_blank\"><span style=\"color: #7f7f7f; text-decoration-color: #7f7f7f\">joint_likelihood.py</span></a><span style=\"color: #7f7f7f; text-decoration-color: #7f7f7f\">:</span><a href=\"file:///data/home/cwy/.mylib/miniconda3/envs/3ML/lib/python3.9/site-packages/threeML/classicMLE/joint_likelihood.py#1042\" target=\"_blank\"><span style=\"color: #7f7f7f; text-decoration-color: #7f7f7f\">1042</span></a>\n",
       "</pre>\n"
      ],
      "text/plain": [
       "\u001b[38;5;46m12:36:04\u001b[0m\u001b[38;5;46m \u001b[0m\u001b[38;5;49mINFO    \u001b[0m \u001b[1;38;5;251m set the minimizer to minuit                                            \u001b[0m\u001b[1;38;5;251m \u001b[0m\u001b]8;id=911010;file:///data/home/cwy/.mylib/miniconda3/envs/3ML/lib/python3.9/site-packages/threeML/classicMLE/joint_likelihood.py\u001b\\\u001b[2mjoint_likelihood.py\u001b[0m\u001b]8;;\u001b\\\u001b[2m:\u001b[0m\u001b]8;id=315949;file:///data/home/cwy/.mylib/miniconda3/envs/3ML/lib/python3.9/site-packages/threeML/classicMLE/joint_likelihood.py#1042\u001b\\\u001b[2m1042\u001b[0m\u001b]8;;\u001b\\\n"
      ]
     },
     "metadata": {},
     "output_type": "display_data"
    },
    {
     "data": {
      "text/html": [
       "<pre style=\"white-space:pre;overflow-x:auto;line-height:normal;font-family:Menlo,'DejaVu Sans Mono',consolas,'Courier New',monospace\"><span style=\"color: #00ff00; text-decoration-color: #00ff00\">         </span><span style=\"color: #00ffaf; text-decoration-color: #00ffaf\">INFO    </span> <span style=\"color: #c6c6c6; text-decoration-color: #c6c6c6; font-weight: bold\"> set the minimizer to grid                                               </span><a href=\"file:///data/home/cwy/.mylib/miniconda3/envs/3ML/lib/python3.9/site-packages/threeML/classicMLE/joint_likelihood.py\" target=\"_blank\"><span style=\"color: #7f7f7f; text-decoration-color: #7f7f7f\">joint_likelihood.py</span></a><span style=\"color: #7f7f7f; text-decoration-color: #7f7f7f\">:</span><a href=\"file:///data/home/cwy/.mylib/miniconda3/envs/3ML/lib/python3.9/site-packages/threeML/classicMLE/joint_likelihood.py#1042\" target=\"_blank\"><span style=\"color: #7f7f7f; text-decoration-color: #7f7f7f\">1042</span></a>\n",
       "</pre>\n"
      ],
      "text/plain": [
       "\u001b[38;5;46m        \u001b[0m\u001b[38;5;46m \u001b[0m\u001b[38;5;49mINFO    \u001b[0m \u001b[1;38;5;251m set the minimizer to grid                                              \u001b[0m\u001b[1;38;5;251m \u001b[0m\u001b]8;id=207802;file:///data/home/cwy/.mylib/miniconda3/envs/3ML/lib/python3.9/site-packages/threeML/classicMLE/joint_likelihood.py\u001b\\\u001b[2mjoint_likelihood.py\u001b[0m\u001b]8;;\u001b\\\u001b[2m:\u001b[0m\u001b]8;id=143882;file:///data/home/cwy/.mylib/miniconda3/envs/3ML/lib/python3.9/site-packages/threeML/classicMLE/joint_likelihood.py#1042\u001b\\\u001b[2m1042\u001b[0m\u001b]8;;\u001b\\\n"
      ]
     },
     "metadata": {},
     "output_type": "display_data"
    },
    {
     "data": {
      "application/vnd.jupyter.widget-view+json": {
       "model_id": "a685f3fb8aea4203aeadf5ae947cb259",
       "version_major": 2,
       "version_minor": 0
      },
      "text/plain": [
       "Grid Minimization:   0%|          | 0/5 [00:00<?, ?it/s]"
      ]
     },
     "metadata": {},
     "output_type": "display_data"
    },
    {
     "data": {
      "text/html": [
       "<pre style=\"white-space:pre;overflow-x:auto;line-height:normal;font-family:Menlo,'DejaVu Sans Mono',consolas,'Courier New',monospace\"><span style=\"color: #00ff00; text-decoration-color: #00ff00\">12:36:05 </span><span style=\"color: #00ffaf; text-decoration-color: #00ffaf\">INFO    </span> <span style=\"color: #c6c6c6; text-decoration-color: #c6c6c6; font-weight: bold\">                                                                          </span><a href=\"file:///data/home/cwy/.mylib/miniconda3/envs/3ML/lib/python3.9/site-packages/threeML/classicMLE/joint_likelihood.py\" target=\"_blank\"><span style=\"color: #7f7f7f; text-decoration-color: #7f7f7f\">joint_likelihood.py</span></a><span style=\"color: #7f7f7f; text-decoration-color: #7f7f7f\">:</span><a href=\"file:///data/home/cwy/.mylib/miniconda3/envs/3ML/lib/python3.9/site-packages/threeML/classicMLE/joint_likelihood.py#294\" target=\"_blank\"><span style=\"color: #7f7f7f; text-decoration-color: #7f7f7f\">294</span></a>\n",
       "<span style=\"color: #00ff00; text-decoration-color: #00ff00\">         </span>         <span style=\"color: #c6c6c6; text-decoration-color: #c6c6c6; font-weight: bold\">                                                                          </span><span style=\"color: #7f7f7f; text-decoration-color: #7f7f7f\">                       </span>\n",
       "<span style=\"color: #00ff00; text-decoration-color: #00ff00\">         </span>         <span style=\"color: #c6c6c6; text-decoration-color: #c6c6c6; font-weight: bold\">Results after global minimizer (before secondary optimization):           </span><span style=\"color: #7f7f7f; text-decoration-color: #7f7f7f\">                       </span>\n",
       "</pre>\n"
      ],
      "text/plain": [
       "\u001b[38;5;46m12:36:05\u001b[0m\u001b[38;5;46m \u001b[0m\u001b[38;5;49mINFO    \u001b[0m \u001b[1;38;5;251m                                                                         \u001b[0m\u001b[1;38;5;251m \u001b[0m\u001b]8;id=754764;file:///data/home/cwy/.mylib/miniconda3/envs/3ML/lib/python3.9/site-packages/threeML/classicMLE/joint_likelihood.py\u001b\\\u001b[2mjoint_likelihood.py\u001b[0m\u001b]8;;\u001b\\\u001b[2m:\u001b[0m\u001b]8;id=17762;file:///data/home/cwy/.mylib/miniconda3/envs/3ML/lib/python3.9/site-packages/threeML/classicMLE/joint_likelihood.py#294\u001b\\\u001b[2m294\u001b[0m\u001b]8;;\u001b\\\n",
       "\u001b[38;5;46m         \u001b[0m         \u001b[1;38;5;251m                                                                         \u001b[0m\u001b[1;38;5;251m \u001b[0m\u001b[2m                       \u001b[0m\n",
       "\u001b[38;5;46m         \u001b[0m         \u001b[1;38;5;251mResults after global minimizer \u001b[0m\u001b[1;38;5;251m(\u001b[0m\u001b[1;38;5;251mbefore secondary optimization\u001b[0m\u001b[1;38;5;251m)\u001b[0m\u001b[1;38;5;251m:          \u001b[0m\u001b[1;38;5;251m \u001b[0m\u001b[2m                       \u001b[0m\n"
      ]
     },
     "metadata": {},
     "output_type": "display_data"
    },
    {
     "data": {
      "text/html": [
       "<div>\n",
       "<style scoped>\n",
       "    .dataframe tbody tr th:only-of-type {\n",
       "        vertical-align: middle;\n",
       "    }\n",
       "\n",
       "    .dataframe tbody tr th {\n",
       "        vertical-align: top;\n",
       "    }\n",
       "\n",
       "    .dataframe thead th {\n",
       "        text-align: right;\n",
       "    }\n",
       "</style>\n",
       "<table border=\"1\" class=\"dataframe\">\n",
       "  <thead>\n",
       "    <tr style=\"text-align: right;\">\n",
       "      <th></th>\n",
       "      <th>result</th>\n",
       "      <th>unit</th>\n",
       "    </tr>\n",
       "    <tr>\n",
       "      <th>parameter</th>\n",
       "      <th></th>\n",
       "      <th></th>\n",
       "    </tr>\n",
       "  </thead>\n",
       "  <tbody>\n",
       "    <tr>\n",
       "      <th>GRB221009A.spectrum.main.composite.Fc_2</th>\n",
       "      <td>(6.064491135765853 +/- 0) x 10^2</td>\n",
       "      <td></td>\n",
       "    </tr>\n",
       "    <tr>\n",
       "      <th>GRB221009A.spectrum.main.composite.alpha_c_2</th>\n",
       "      <td>1.2691912054971137 +/- 0</td>\n",
       "      <td></td>\n",
       "    </tr>\n",
       "    <tr>\n",
       "      <th>GRB221009A.spectrum.main.composite.Tc_2</th>\n",
       "      <td>(-1.7514337838173197 +/- 0) x 10^2</td>\n",
       "      <td>s</td>\n",
       "    </tr>\n",
       "    <tr>\n",
       "      <th>GRB221009A.spectrum.main.composite.tc_2</th>\n",
       "      <td>7.478773453669874 +/- 0</td>\n",
       "      <td>s</td>\n",
       "    </tr>\n",
       "    <tr>\n",
       "      <th>GRB221009A.spectrum.main.composite.t0_2</th>\n",
       "      <td>(2.2793537942470006 +/- 0) x 10^2</td>\n",
       "      <td>s</td>\n",
       "    </tr>\n",
       "    <tr>\n",
       "      <th>GRB221009A.spectrum.main.composite.F_4</th>\n",
       "      <td>(2.392946811425256 +/- 0) x 10^3</td>\n",
       "      <td>1 / (s cm2)</td>\n",
       "    </tr>\n",
       "    <tr>\n",
       "      <th>GRB221009A.spectrum.main.composite.mu_4</th>\n",
       "      <td>(2.4376735028560206 +/- 0) x 10^2</td>\n",
       "      <td>keV</td>\n",
       "    </tr>\n",
       "    <tr>\n",
       "      <th>GRB221009A.spectrum.main.composite.sigma_4</th>\n",
       "      <td>3.980000082855341 +/- 0</td>\n",
       "      <td>keV</td>\n",
       "    </tr>\n",
       "  </tbody>\n",
       "</table>\n",
       "</div>"
      ],
      "text/plain": [
       "                                                                          result   \n",
       "parameter                                                                          \n",
       "GRB221009A.spectrum.main.composite.Fc_2         (6.064491135765853 +/- 0) x 10^2  \\\n",
       "GRB221009A.spectrum.main.composite.alpha_c_2            1.2691912054971137 +/- 0   \n",
       "GRB221009A.spectrum.main.composite.Tc_2       (-1.7514337838173197 +/- 0) x 10^2   \n",
       "GRB221009A.spectrum.main.composite.tc_2                  7.478773453669874 +/- 0   \n",
       "GRB221009A.spectrum.main.composite.t0_2        (2.2793537942470006 +/- 0) x 10^2   \n",
       "GRB221009A.spectrum.main.composite.F_4          (2.392946811425256 +/- 0) x 10^3   \n",
       "GRB221009A.spectrum.main.composite.mu_4        (2.4376735028560206 +/- 0) x 10^2   \n",
       "GRB221009A.spectrum.main.composite.sigma_4               3.980000082855341 +/- 0   \n",
       "\n",
       "                                                     unit  \n",
       "parameter                                                  \n",
       "GRB221009A.spectrum.main.composite.Fc_2                    \n",
       "GRB221009A.spectrum.main.composite.alpha_c_2               \n",
       "GRB221009A.spectrum.main.composite.Tc_2                 s  \n",
       "GRB221009A.spectrum.main.composite.tc_2                 s  \n",
       "GRB221009A.spectrum.main.composite.t0_2                 s  \n",
       "GRB221009A.spectrum.main.composite.F_4        1 / (s cm2)  \n",
       "GRB221009A.spectrum.main.composite.mu_4               keV  \n",
       "GRB221009A.spectrum.main.composite.sigma_4            keV  "
      ]
     },
     "metadata": {},
     "output_type": "display_data"
    },
    {
     "data": {
      "text/html": [
       "<pre style=\"white-space:pre;overflow-x:auto;line-height:normal;font-family:Menlo,'DejaVu Sans Mono',consolas,'Courier New',monospace\"><span style=\"color: #00ff00; text-decoration-color: #00ff00\">         </span><span style=\"color: #00ffaf; text-decoration-color: #00ffaf\">INFO    </span> <span style=\"color: #c6c6c6; text-decoration-color: #c6c6c6; font-weight: bold\">                                                                          </span><a href=\"file:///data/home/cwy/.mylib/miniconda3/envs/3ML/lib/python3.9/site-packages/threeML/classicMLE/joint_likelihood.py\" target=\"_blank\"><span style=\"color: #7f7f7f; text-decoration-color: #7f7f7f\">joint_likelihood.py</span></a><span style=\"color: #7f7f7f; text-decoration-color: #7f7f7f\">:</span><a href=\"file:///data/home/cwy/.mylib/miniconda3/envs/3ML/lib/python3.9/site-packages/threeML/classicMLE/joint_likelihood.py#300\" target=\"_blank\"><span style=\"color: #7f7f7f; text-decoration-color: #7f7f7f\">300</span></a>\n",
       "<span style=\"color: #00ff00; text-decoration-color: #00ff00\">         </span>         <span style=\"color: #c6c6c6; text-decoration-color: #c6c6c6; font-weight: bold\">Total log-likelihood minimum: </span><span style=\"color: #c0c0c0; text-decoration-color: #c0c0c0; font-weight: bold\">937.822</span><span style=\"color: #c6c6c6; text-decoration-color: #c6c6c6; font-weight: bold\">                                     </span><span style=\"color: #7f7f7f; text-decoration-color: #7f7f7f\">                       </span>\n",
       "<span style=\"color: #00ff00; text-decoration-color: #00ff00\">         </span>         <span style=\"color: #c6c6c6; text-decoration-color: #c6c6c6; font-weight: bold\">                                                                          </span><span style=\"color: #7f7f7f; text-decoration-color: #7f7f7f\">                       </span>\n",
       "</pre>\n"
      ],
      "text/plain": [
       "\u001b[38;5;46m        \u001b[0m\u001b[38;5;46m \u001b[0m\u001b[38;5;49mINFO    \u001b[0m \u001b[1;38;5;251m                                                                         \u001b[0m\u001b[1;38;5;251m \u001b[0m\u001b]8;id=455367;file:///data/home/cwy/.mylib/miniconda3/envs/3ML/lib/python3.9/site-packages/threeML/classicMLE/joint_likelihood.py\u001b\\\u001b[2mjoint_likelihood.py\u001b[0m\u001b]8;;\u001b\\\u001b[2m:\u001b[0m\u001b]8;id=241888;file:///data/home/cwy/.mylib/miniconda3/envs/3ML/lib/python3.9/site-packages/threeML/classicMLE/joint_likelihood.py#300\u001b\\\u001b[2m300\u001b[0m\u001b]8;;\u001b\\\n",
       "\u001b[38;5;46m         \u001b[0m         \u001b[1;38;5;251mTotal log-likelihood minimum: \u001b[0m\u001b[1;37m937.822\u001b[0m\u001b[1;38;5;251m                                    \u001b[0m\u001b[1;38;5;251m \u001b[0m\u001b[2m                       \u001b[0m\n",
       "\u001b[38;5;46m         \u001b[0m         \u001b[1;38;5;251m                                                                         \u001b[0m\u001b[1;38;5;251m \u001b[0m\u001b[2m                       \u001b[0m\n"
      ]
     },
     "metadata": {},
     "output_type": "display_data"
    },
    {
     "data": {
      "text/html": [
       "<pre style=\"white-space:pre;overflow-x:auto;line-height:normal;font-family:Menlo,'DejaVu Sans Mono',consolas,'Courier New',monospace\"><span style=\"color: #00ffaf; text-decoration-color: #00ffaf; font-weight: bold; text-decoration: underline\">Best fit values:</span>\n",
       "\n",
       "</pre>\n"
      ],
      "text/plain": [
       "\u001b[1;4;38;5;49mBest fit values:\u001b[0m\n",
       "\n"
      ]
     },
     "metadata": {},
     "output_type": "display_data"
    },
    {
     "data": {
      "text/html": [
       "<div>\n",
       "<style scoped>\n",
       "    .dataframe tbody tr th:only-of-type {\n",
       "        vertical-align: middle;\n",
       "    }\n",
       "\n",
       "    .dataframe tbody tr th {\n",
       "        vertical-align: top;\n",
       "    }\n",
       "\n",
       "    .dataframe thead th {\n",
       "        text-align: right;\n",
       "    }\n",
       "</style>\n",
       "<table border=\"1\" class=\"dataframe\">\n",
       "  <thead>\n",
       "    <tr style=\"text-align: right;\">\n",
       "      <th></th>\n",
       "      <th>result</th>\n",
       "      <th>unit</th>\n",
       "    </tr>\n",
       "    <tr>\n",
       "      <th>parameter</th>\n",
       "      <th></th>\n",
       "      <th></th>\n",
       "    </tr>\n",
       "  </thead>\n",
       "  <tbody>\n",
       "    <tr>\n",
       "      <th>GRB221009A.spectrum.main.composite.Fc_2</th>\n",
       "      <td>(6.1 +/- 0.5) x 10^2</td>\n",
       "      <td></td>\n",
       "    </tr>\n",
       "    <tr>\n",
       "      <th>GRB221009A.spectrum.main.composite.alpha_c_2</th>\n",
       "      <td>1.269 +/- 0.025</td>\n",
       "      <td></td>\n",
       "    </tr>\n",
       "    <tr>\n",
       "      <th>GRB221009A.spectrum.main.composite.Tc_2</th>\n",
       "      <td>(-1.751 +/- 0.030) x 10^2</td>\n",
       "      <td>s</td>\n",
       "    </tr>\n",
       "    <tr>\n",
       "      <th>GRB221009A.spectrum.main.composite.tc_2</th>\n",
       "      <td>7.5 +/- 0.8</td>\n",
       "      <td>s</td>\n",
       "    </tr>\n",
       "    <tr>\n",
       "      <th>GRB221009A.spectrum.main.composite.t0_2</th>\n",
       "      <td>(2.2794 +/- 0.0032) x 10^2</td>\n",
       "      <td>s</td>\n",
       "    </tr>\n",
       "    <tr>\n",
       "      <th>GRB221009A.spectrum.main.composite.F_4</th>\n",
       "      <td>(2.4 +/- 0.4) x 10^3</td>\n",
       "      <td>1 / (s cm2)</td>\n",
       "    </tr>\n",
       "    <tr>\n",
       "      <th>GRB221009A.spectrum.main.composite.mu_4</th>\n",
       "      <td>(2.438 +/- 0.004) x 10^2</td>\n",
       "      <td>keV</td>\n",
       "    </tr>\n",
       "    <tr>\n",
       "      <th>GRB221009A.spectrum.main.composite.sigma_4</th>\n",
       "      <td>4.0 +/- 0.5</td>\n",
       "      <td>keV</td>\n",
       "    </tr>\n",
       "  </tbody>\n",
       "</table>\n",
       "</div>"
      ],
      "text/plain": [
       "                                                                  result   \n",
       "parameter                                                                  \n",
       "GRB221009A.spectrum.main.composite.Fc_2             (6.1 +/- 0.5) x 10^2  \\\n",
       "GRB221009A.spectrum.main.composite.alpha_c_2             1.269 +/- 0.025   \n",
       "GRB221009A.spectrum.main.composite.Tc_2        (-1.751 +/- 0.030) x 10^2   \n",
       "GRB221009A.spectrum.main.composite.tc_2                      7.5 +/- 0.8   \n",
       "GRB221009A.spectrum.main.composite.t0_2       (2.2794 +/- 0.0032) x 10^2   \n",
       "GRB221009A.spectrum.main.composite.F_4              (2.4 +/- 0.4) x 10^3   \n",
       "GRB221009A.spectrum.main.composite.mu_4         (2.438 +/- 0.004) x 10^2   \n",
       "GRB221009A.spectrum.main.composite.sigma_4                   4.0 +/- 0.5   \n",
       "\n",
       "                                                     unit  \n",
       "parameter                                                  \n",
       "GRB221009A.spectrum.main.composite.Fc_2                    \n",
       "GRB221009A.spectrum.main.composite.alpha_c_2               \n",
       "GRB221009A.spectrum.main.composite.Tc_2                 s  \n",
       "GRB221009A.spectrum.main.composite.tc_2                 s  \n",
       "GRB221009A.spectrum.main.composite.t0_2                 s  \n",
       "GRB221009A.spectrum.main.composite.F_4        1 / (s cm2)  \n",
       "GRB221009A.spectrum.main.composite.mu_4               keV  \n",
       "GRB221009A.spectrum.main.composite.sigma_4            keV  "
      ]
     },
     "metadata": {},
     "output_type": "display_data"
    },
    {
     "data": {
      "text/html": [
       "<pre style=\"white-space:pre;overflow-x:auto;line-height:normal;font-family:Menlo,'DejaVu Sans Mono',consolas,'Courier New',monospace\">\n",
       "<span style=\"color: #00ffaf; text-decoration-color: #00ffaf; font-weight: bold; text-decoration: underline\">Correlation matrix:</span>\n",
       "\n",
       "</pre>\n"
      ],
      "text/plain": [
       "\n",
       "\u001b[1;4;38;5;49mCorrelation matrix:\u001b[0m\n",
       "\n"
      ]
     },
     "metadata": {},
     "output_type": "display_data"
    },
    {
     "data": {
      "text/html": [
       "<div><table id=\"table139619619137136\">\n",
       "<tr><td>1.00</td><td>-0.30</td><td>-0.93</td><td>0.73</td><td>-0.59</td><td>-0.42</td><td>-0.34</td><td>-0.27</td></tr>\n",
       "<tr><td>-0.30</td><td>1.00</td><td>0.57</td><td>0.30</td><td>-0.38</td><td>0.40</td><td>-0.22</td><td>0.33</td></tr>\n",
       "<tr><td>-0.93</td><td>0.57</td><td>1.00</td><td>-0.43</td><td>0.26</td><td>0.60</td><td>0.18</td><td>0.43</td></tr>\n",
       "<tr><td>0.73</td><td>0.30</td><td>-0.43</td><td>1.00</td><td>-0.94</td><td>0.16</td><td>-0.53</td><td>0.22</td></tr>\n",
       "<tr><td>-0.59</td><td>-0.38</td><td>0.26</td><td>-0.94</td><td>1.00</td><td>-0.24</td><td>0.45</td><td>-0.25</td></tr>\n",
       "<tr><td>-0.42</td><td>0.40</td><td>0.60</td><td>0.16</td><td>-0.24</td><td>1.00</td><td>-0.10</td><td>0.84</td></tr>\n",
       "<tr><td>-0.34</td><td>-0.22</td><td>0.18</td><td>-0.53</td><td>0.45</td><td>-0.10</td><td>1.00</td><td>-0.10</td></tr>\n",
       "<tr><td>-0.27</td><td>0.33</td><td>0.43</td><td>0.22</td><td>-0.25</td><td>0.84</td><td>-0.10</td><td>1.00</td></tr>\n",
       "</table></div>"
      ],
      "text/plain": [
       " 1.00 -0.30 -0.93  0.73 -0.59 -0.42 -0.34 -0.27\n",
       "-0.30  1.00  0.57  0.30 -0.38  0.40 -0.22  0.33\n",
       "-0.93  0.57  1.00 -0.43  0.26  0.60  0.18  0.43\n",
       " 0.73  0.30 -0.43  1.00 -0.94  0.16 -0.53  0.22\n",
       "-0.59 -0.38  0.26 -0.94  1.00 -0.24  0.45 -0.25\n",
       "-0.42  0.40  0.60  0.16 -0.24  1.00 -0.10  0.84\n",
       "-0.34 -0.22  0.18 -0.53  0.45 -0.10  1.00 -0.10\n",
       "-0.27  0.33  0.43  0.22 -0.25  0.84 -0.10  1.00"
      ]
     },
     "metadata": {},
     "output_type": "display_data"
    },
    {
     "data": {
      "text/html": [
       "<pre style=\"white-space:pre;overflow-x:auto;line-height:normal;font-family:Menlo,'DejaVu Sans Mono',consolas,'Courier New',monospace\">\n",
       "<span style=\"color: #00ffaf; text-decoration-color: #00ffaf; font-weight: bold; text-decoration: underline\">Values of -log(likelihood) at the minimum:</span>\n",
       "\n",
       "</pre>\n"
      ],
      "text/plain": [
       "\n",
       "\u001b[1;4;38;5;49mValues of -\u001b[0m\u001b[1;4;38;5;49mlog\u001b[0m\u001b[1;4;38;5;49m(\u001b[0m\u001b[1;4;38;5;49mlikelihood\u001b[0m\u001b[1;4;38;5;49m)\u001b[0m\u001b[1;4;38;5;49m at the minimum:\u001b[0m\n",
       "\n"
      ]
     },
     "metadata": {},
     "output_type": "display_data"
    },
    {
     "data": {
      "text/html": [
       "<div>\n",
       "<style scoped>\n",
       "    .dataframe tbody tr th:only-of-type {\n",
       "        vertical-align: middle;\n",
       "    }\n",
       "\n",
       "    .dataframe tbody tr th {\n",
       "        vertical-align: top;\n",
       "    }\n",
       "\n",
       "    .dataframe thead th {\n",
       "        text-align: right;\n",
       "    }\n",
       "</style>\n",
       "<table border=\"1\" class=\"dataframe\">\n",
       "  <thead>\n",
       "    <tr style=\"text-align: right;\">\n",
       "      <th></th>\n",
       "      <th>-log(likelihood)</th>\n",
       "    </tr>\n",
       "  </thead>\n",
       "  <tbody>\n",
       "    <tr>\n",
       "      <th>GRB221009A</th>\n",
       "      <td>937.821664</td>\n",
       "    </tr>\n",
       "    <tr>\n",
       "      <th>total</th>\n",
       "      <td>937.821664</td>\n",
       "    </tr>\n",
       "  </tbody>\n",
       "</table>\n",
       "</div>"
      ],
      "text/plain": [
       "            -log(likelihood)\n",
       "GRB221009A        937.821664\n",
       "total             937.821664"
      ]
     },
     "metadata": {},
     "output_type": "display_data"
    },
    {
     "data": {
      "text/html": [
       "<pre style=\"white-space:pre;overflow-x:auto;line-height:normal;font-family:Menlo,'DejaVu Sans Mono',consolas,'Courier New',monospace\">\n",
       "<span style=\"color: #00ffaf; text-decoration-color: #00ffaf; font-weight: bold; text-decoration: underline\">Values of statistical measures:</span>\n",
       "\n",
       "</pre>\n"
      ],
      "text/plain": [
       "\n",
       "\u001b[1;4;38;5;49mValues of statistical measures:\u001b[0m\n",
       "\n"
      ]
     },
     "metadata": {},
     "output_type": "display_data"
    },
    {
     "data": {
      "text/html": [
       "<div>\n",
       "<style scoped>\n",
       "    .dataframe tbody tr th:only-of-type {\n",
       "        vertical-align: middle;\n",
       "    }\n",
       "\n",
       "    .dataframe tbody tr th {\n",
       "        vertical-align: top;\n",
       "    }\n",
       "\n",
       "    .dataframe thead th {\n",
       "        text-align: right;\n",
       "    }\n",
       "</style>\n",
       "<table border=\"1\" class=\"dataframe\">\n",
       "  <thead>\n",
       "    <tr style=\"text-align: right;\">\n",
       "      <th></th>\n",
       "      <th>statistical measures</th>\n",
       "    </tr>\n",
       "  </thead>\n",
       "  <tbody>\n",
       "    <tr>\n",
       "      <th>AIC</th>\n",
       "      <td>1892.397255</td>\n",
       "    </tr>\n",
       "    <tr>\n",
       "      <th>BIC</th>\n",
       "      <td>1918.029868</td>\n",
       "    </tr>\n",
       "  </tbody>\n",
       "</table>\n",
       "</div>"
      ],
      "text/plain": [
       "     statistical measures\n",
       "AIC           1892.397255\n",
       "BIC           1918.029868"
      ]
     },
     "metadata": {},
     "output_type": "display_data"
    }
   ],
   "source": [
    "if lcmodel.t0.fix:\n",
    "    fixtxt=f\"fixt0{lcmodel.t0.value}\"\n",
    "else:\n",
    "    fixtxt=f\"freet0\"\n",
    "\n",
    "# Modelname=f\"lc{bin_t}+cubic+linebkg+hebs_250_270\"\n",
    "# if not os.path.exists(f'../res/{region_name}/{Modelname}/'):\n",
    "#     os.system(f'mkdir ../res/{region_name}/{Modelname}/')\n",
    "# modelline3.save(f\"../res/{region_name}/{Modelname}/Model_init.yml\", overwrite=True)\n",
    "# result = my.fit(region_name, Modelname, GRBlike, modelline3, mini=\"ROOT\", grids={modelline3.GRB221009A.spectrum.main.composite.dt_4: np.linspace(-0.9, 2.9, 10)}, donwtlimit=False)\n",
    "#, model4.GRB221009A.spectrum.main.composite.ts_5: np.linspace(230, 234, 2)\n",
    "\n",
    "\n",
    "\n",
    "\n",
    "# Modelname=f\"lc{bin_t}+SBPL{fixtxt}+linebkg\"\n",
    "# if not os.path.exists(f'../res/{region_name}/{Modelname}/'):\n",
    "#     os.system(f'mkdir ../res/{region_name}/{Modelname}/')\n",
    "# model1.save(f\"../res/{region_name}/{Modelname}/Model_init.yml\", overwrite=True)\n",
    "# result = my.fit(region_name, Modelname, GRBlike, model1, mini=\"ROOT\", donwtlimit=False)\n",
    "\n",
    "# Modelname=f\"{dataname}{bin_t}+SBPL{fixtxt}+linebkg\"\n",
    "# if not os.path.exists(f'../res/{region_name}/{Modelname}/'):\n",
    "#     os.system(f'mkdir ../res/{region_name}/{Modelname}/')\n",
    "# model1.save(f\"../res/{region_name}/{Modelname}/Model_init.yml\", overwrite=True)\n",
    "# result = my.fit(region_name, Modelname, GRBlike, model1, mini=\"ROOT\", donwtlimit=False)\n",
    "\n",
    "\n",
    "# Modelname=f\"lc{bin_t}+SBPL{fixtxt}+linebkg+gauss\"\n",
    "# if not os.path.exists(f'../res/{region_name}/{Modelname}/'):\n",
    "#     os.system(f'mkdir ../res/{region_name}/{Modelname}/')\n",
    "# model2.save(f\"../res/{region_name}/{Modelname}/Model_init.yml\", overwrite=True)\n",
    "# result = my.fit(region_name, Modelname, GRBlike, model2, mini=\"ROOT\", grids={model2.GRB221009A.spectrum.main.composite.mu_4: np.linspace(231, 254, 10), model2.GRB221009A.spectrum.main.composite.sigma_4: np.linspace(2, 6, 10)}, donwtlimit=False)\n",
    "\n",
    "# Modelname=f\"lchebs{bin_t}+SBPL{fixtxt}+linebkg+gauss\"\n",
    "# if not os.path.exists(f'../res/{region_name}/{Modelname}/'):\n",
    "#     os.system(f'mkdir ../res/{region_name}/{Modelname}/')\n",
    "# model2.save(f\"../res/{region_name}/{Modelname}/Model_init.yml\", overwrite=True)\n",
    "# result = my.fit(region_name, Modelname, GRBlike, model2, mini=\"ROOT\", grids={model2.GRB221009A.spectrum.main.composite.mu_4: np.linspace(231, 254, 10), model2.GRB221009A.spectrum.main.composite.sigma_4: np.linspace(2, 6, 10)}, donwtlimit=False)\n",
    "\n",
    "# Modelname=f\"lc{bin_t}+SBPL{fixtxt}+linebkg+gauss3+gauss\"\n",
    "# if not os.path.exists(f'../res/{region_name}/{Modelname}/'):\n",
    "#     os.system(f'mkdir ../res/{region_name}/{Modelname}/')\n",
    "# model22.save(f\"../res/{region_name}/{Modelname}/Model_init.yml\", overwrite=True)\n",
    "# result = my.fit(region_name, Modelname, GRBlike, model22, mini=\"ROOT\", grids={model22.GRB221009A.spectrum.main.composite.mu_5: np.linspace(230, 244, 10), model22.GRB221009A.spectrum.main.composite.sigma_5: np.linspace(0.5, 3, 10)}, donwtlimit=False)\n",
    "\n",
    "# Modelname=\"lc1+SBPLfreet0+linebkg+2*gauss\"\n",
    "# if not os.path.exists(f'../res/{region_name}/{Modelname}/'):\n",
    "#     os.system(f'mkdir ../res/{region_name}/{Modelname}/')\n",
    "# model3.save(f\"../res/{region_name}/{Modelname}/Model_init.yml\", overwrite=True)\n",
    "# result = my.fit(region_name, Modelname, GRBlike, model3, mini=\"ROOT\", grids={model3.GRB221009A.spectrum.main.composite.mu_5: np.linspace(256, 269, 10), model3.GRB221009A.spectrum.main.composite.sigma_5: np.linspace(0.5, 4, 10)}, donwtlimit=False)\n",
    "\n",
    "# Modelname=f\"lc{bin_t}+SBPL{fixtxt}+linebkg+gauss3+2gauss\"\n",
    "# if not os.path.exists(f'../res/{region_name}/{Modelname}/'):\n",
    "#     os.system(f'mkdir ../res/{region_name}/{Modelname}/')\n",
    "# model32.save(f\"../res/{region_name}/{Modelname}/Model_init.yml\", overwrite=True)\n",
    "# result = my.fit(region_name, Modelname, GRBlike, model32, mini=\"ROOT\", grids={model32.GRB221009A.spectrum.main.composite.mu_4: np.linspace(231, 254, 10), model32.GRB221009A.spectrum.main.composite.sigma_4: np.linspace(1, 7, 10)}, donwtlimit=False)\n",
    "\n",
    "# Modelname=f\"lc{bin_t}+SBPL{fixtxt}+linebkg+gauss+hebs_229_270\"\n",
    "# if not os.path.exists(f'../res/{region_name}/{Modelname}/'):\n",
    "#     os.system(f'mkdir ../res/{region_name}/{Modelname}/')\n",
    "# model4.save(f\"../res/{region_name}/{Modelname}/Model_init.yml\", overwrite=True)\n",
    "# result = my.fit(region_name, Modelname, GRBlike, model4, mini=\"ROOT\", grids={model4.GRB221009A.spectrum.main.composite.mu_4: np.linspace(231, 254, 2), model4.GRB221009A.spectrum.main.composite.dt_5: np.linspace(0.1, 1.9, 2)}, donwtlimit=False)\n",
    "# #, model4.GRB221009A.spectrum.main.composite.ts_5: np.linspace(230, 234, 2)\n",
    "\n",
    "# Modelname=f\"lc{bin_t}+SBPL{fixtxt}+linebkg+gauss+hebs_250_270+gauss3\"\n",
    "# if not os.path.exists(f'../res/{region_name}/{Modelname}/'):\n",
    "#     os.system(f'mkdir ../res/{region_name}/{Modelname}/')\n",
    "# model42.save(f\"../res/{region_name}/{Modelname}/Model_init.yml\", overwrite=True)\n",
    "# result = my.fit(region_name, Modelname, GRBlike, model42, mini=\"ROOT\", grids={model42.GRB221009A.spectrum.main.composite.mu_4: np.linspace(231, 254, 2), model42.GRB221009A.spectrum.main.composite.dt_5: np.linspace(0.1, 1.9, 2)}, donwtlimit=False)\n",
    "\n",
    "# Modelname=f\"{dataname}{bin_t}+SBPL{fixtxt}+linebkg+gauss+hebs_250_270\"\n",
    "# if not os.path.exists(f'../res/{region_name}/{Modelname}/'):\n",
    "#     os.system(f'mkdir ../res/{region_name}/{Modelname}/')\n",
    "# model4.save(f\"../res/{region_name}/{Modelname}/Model_init.yml\", overwrite=True)\n",
    "# result = my.fit(region_name, Modelname, GRBlike, model4, mini=\"ROOT\", grids={model4.GRB221009A.spectrum.main.composite.mu_4: np.linspace(231, 254, 5), model4.GRB221009A.spectrum.main.composite.dt_5: np.linspace(0.1, 1.9, 5)}, donwtlimit=False) #\n",
    "\n",
    "# Modelname=f\"{dataname}{bin_t}+TPLM{fixtxt}+linebkg+gauss+hebs_250_270\"\n",
    "# if not os.path.exists(f'../res/{region_name}/{Modelname}/'):\n",
    "#     os.system(f'mkdir ../res/{region_name}/{Modelname}/')\n",
    "# model9.save(f\"../res/{region_name}/{Modelname}/Model_init.yml\", overwrite=True)\n",
    "# result = my.fit(region_name, Modelname, GRBlike, model9, mini=\"ROOT\", grids={model9.GRB221009A.spectrum.main.composite.mu_4: np.linspace(231, 254, 5)}, donwtlimit=False) #, model9.GRB221009A.spectrum.main.composite.dt_5: np.linspace(0.1, 1.9, 5)\n",
    "\n",
    "# Modelname=f\"{dataname}{bin_t}+TPLM{fixtxt}+linebkg+gauss+hebs_250_270\"\n",
    "# if not os.path.exists(f'../res/{region_name}/{Modelname}/'):\n",
    "#     os.system(f'mkdir ../res/{region_name}/{Modelname}/')\n",
    "# model9.save(f\"../res/{region_name}/{Modelname}/Model_init.yml\", overwrite=True)\n",
    "# result = my.fit(region_name, Modelname, GRBlike, model9, mini=\"ROOT\", grids={model9.GRB221009A.spectrum.main.composite.mu_4: np.linspace(231, 254, 5)}, donwtlimit=False) #, model9.GRB221009A.spectrum.main.composite.dt_5: np.linspace(0.1, 1.9, 5)\n",
    "\n",
    "\n",
    "# Modelname=\"lc0.1+SBPL+linebkg+gauss+hebs_250_270+hebs_239_242\"\n",
    "# if not os.path.exists(f'../res/{region_name}/{Modelname}/'):\n",
    "#     os.system(f'mkdir ../res/{region_name}/{Modelname}/')\n",
    "# model5.save(f\"../res/{region_name}/{Modelname}/Model_init.yml\", overwrite=True)\n",
    "# result = my.fit(region_name, Modelname, GRBlike, model5, mini=\"ROOT\", grids={model5.GRB221009A.spectrum.main.composite.mu_3: np.linspace(230, 290, 5)}, donwtlimit=False) #, model5.GRB221009A.spectrum.main.composite.dt_4: np.linspace(-2, 2, 5)\n",
    "\n",
    "# Modelname=\"lc0.1+SBPL+linebkg+gauss+hebs_250_270+hebs_229_235\"\n",
    "# if not os.path.exists(f'../res/{region_name}/{Modelname}/'):\n",
    "#     os.system(f'mkdir ../res/{region_name}/{Modelname}/')\n",
    "# model5.save(f\"../res/{region_name}/{Modelname}/Model_init.yml\", overwrite=True)\n",
    "# result = my.fit(region_name, Modelname, GRBlike, model5, mini=\"ROOT\", grids={model5.GRB221009A.spectrum.main.composite.mu_3: np.linspace(230, 290, 5)}, donwtlimit=False) # model5.GRB221009A.spectrum.main.composite.dt_4: np.linspace(-2, 2, 5), model5.GRB221009A.spectrum.main.composite.dt_5: np.linspace(-2, 2, 5)\n",
    "\n",
    "\n",
    "# Modelname=\"lc0.1+SBPL+linebkg+gauss+hebs_250_270+hebs_229_235+hebs_239_242\"\n",
    "# if not os.path.exists(f'../res/{region_name}/{Modelname}/'):\n",
    "#     os.system(f'mkdir ../res/{region_name}/{Modelname}/')\n",
    "# model6.save(f\"../res/{region_name}/{Modelname}/Model_init.yml\", overwrite=True)\n",
    "# result = my.fit(region_name, Modelname, GRBlike, model6, mini=\"ROOT\", donwtlimit=False) # model5.GRB221009A.spectrum.main.composite.dt_4: np.linspace(-2, 2, 5), model5.GRB221009A.spectrum.main.composite.dt_5: np.linspace(-2, 2, 5) , grids={model6.GRB221009A.spectrum.main.composite.mu_3: np.linspace(228, 254, 1)}"
   ]
  },
  {
   "cell_type": "code",
   "execution_count": null,
   "metadata": {},
   "outputs": [],
   "source": [
    "datas = GRB221009A.getdatafram(subbkg=False)\n",
    "xx = np.linspace(200, 700, 10000)\n",
    "                            #  F0,  tb,    o1,   a1,    a2, t0,  o2,   tB,      a3,  tb0,   a0\n",
    "# plt.plot(xx,fSSQPL(xx-226, [240, 13.72, 0.71, 2.30, -1.14, 0, 4.49, 666.64, -2.59, 4.96, 11.21])+45)\n",
    "# plt.plot(xx,SBPL(xx-226, [240, 13.72, 0.71, 2.30, -1.14, 0, 4.49, 666.64, -2.59, 4.96, 11.21])+45)\n",
    "plt.plot(datas[\"x\"], datas[\"y\"])\n",
    "plt.plot(xx,my.fSSQPL(xx-226, [185, 14.9, 1.07, 1.82, -1.115, 0, 7.4, 670, -2.21, 4.85, 14.9])+35, label=\"SSQPL model fitting results\")\n",
    "plt.plot(xx,my.fSBPL(xx-226, [185, 14.9, 1.07, 1.82, -1.115, 0, 7.4, 670, -2.21, 4.85, 14.9])+35, label=\"SBPL(SSQPL without rapid raise)\")\n",
    "plt.plot(xx,my.fSBPL(xx-226, [360, 9.89, 0.41, 3.81, -1.16, 0, 4.8, 678, -2.6])+45, label=\"SBPL model fitting results\")\n",
    "plt.legend()\n",
    "# plt.ylim(30, 200)\n",
    "plt.xlim(226,300)"
   ]
  },
  {
   "cell_type": "code",
   "execution_count": null,
   "metadata": {},
   "outputs": [],
   "source": [
    "def powerlawlc(t, A, index, t0):\n",
    "    result = A*(t-t0)**(index)\n",
    "    result[t<=237]=0\n",
    "    return result\n",
    "\n",
    "promptdata = GRB221009A_prompr.getdatafram(subbkg=False)\n",
    "plt.plot(promptdata[\"x\"], promptdata[\"y\"]-powerlawlc(promptdata[\"x\"], 0.5e5, -1.5, 230)) #\n",
    "xx = np.linspace(200,300,1000)\n",
    "plt.plot(xx, powerlawlc(xx, 0.5e5, -1.5, 230))\n",
    "plt.xlim(230, 250)\n",
    "plt.ylim(1e2, 5000)\n",
    "# plt.xscale(\"log\")\n",
    "# plt.yscale(\"log\")"
   ]
  },
  {
   "cell_type": "code",
   "execution_count": null,
   "metadata": {},
   "outputs": [],
   "source": []
  }
 ],
 "metadata": {
  "kernelspec": {
   "display_name": "3ML",
   "language": "python",
   "name": "python3"
  },
  "language_info": {
   "codemirror_mode": {
    "name": "ipython",
    "version": 3
   },
   "file_extension": ".py",
   "mimetype": "text/x-python",
   "name": "python",
   "nbconvert_exporter": "python",
   "pygments_lexer": "ipython3",
   "version": "3.9.15"
  }
 },
 "nbformat": 4,
 "nbformat_minor": 2
}
