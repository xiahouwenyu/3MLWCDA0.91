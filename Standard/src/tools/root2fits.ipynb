{
 "cells": [
  {
   "cell_type": "code",
   "execution_count": 2,
   "metadata": {},
   "outputs": [
    {
     "name": "stdout",
     "output_type": "stream",
     "text": [
      "Welcome to JupyROOT 6.24/06\n"
     ]
    }
   ],
   "source": [
    "import argparse\n",
    "from ROOT import TFile, TH2D\n",
    "import numpy as np\n",
    "from astropy.io import fits"
   ]
  },
  {
   "cell_type": "code",
   "execution_count": 4,
   "metadata": {},
   "outputs": [
    {
     "name": "stdout",
     "output_type": "stream",
     "text": [
      "NbinsX=3600, NbinsY=1800\n",
      "WbinX=0.10, WbinY=0.10\n",
      "X0=0.00, Y0=-90.00\n",
      "SIMPLE  =                    T / conforms to FITS standard                      BITPIX  =                  -64 / array data type                                NAXIS   =                    2 / number of array dimensions                     NAXIS1  =                 3600                                                  NAXIS2  =                 1800                                                  EXTEND  =                    T                                                  CRVAL1  =                -0.05                                                  CDELT1  =                  0.1                                                  CRPIX1  =                    1                                                  CTYPE1  = 'RA---TAN'                                                            CRVAL2  =               -90.05                                                  CDELT2  =                  0.1                                                  CRPIX2  =                    1                                                  CTYPE2  = 'DEC--TAN'                                                            CONTENT = 'Source significance map of 25TeV<E<100TeV'                           END                                                                                                                                                                                                                                                                                                                                                                                                                                                                                                                                                                                                                                                                                                                                                                                                                                                                                                                                                                                                                                                                                                                                                                                                                                                                                                                                                                                                                                                                                                                                                                                                                                                                                                                                             \n"
     ]
    }
   ],
   "source": [
    "Fmap = TFile.Open(\"/data/home/cwy/Science/3MLWCDA/data/dust-allsky-2.root\")\n",
    "Hmap = Fmap.Get(\"h2\")\n",
    "NbinsX = int(Hmap.GetNbinsX())\n",
    "NbinsY = int(Hmap.GetNbinsY())\n",
    "WbinX = Hmap.GetXaxis().GetBinWidth(1)\n",
    "WbinY = Hmap.GetYaxis().GetBinWidth(1)\n",
    "X0 = Hmap.GetXaxis().GetBinLowEdge(1)\n",
    "Y0 = Hmap.GetYaxis().GetBinLowEdge(1)\n",
    "print(\"NbinsX=%d, NbinsY=%d\"%(NbinsX, NbinsY))\n",
    "print(\"WbinX=%.2lf, WbinY=%.2lf\"%(WbinX, WbinY))\n",
    "print(\"X0=%.2lf, Y0=%.2lf\"%(X0, Y0))\n",
    "\n",
    "Data = np.zeros((NbinsY, NbinsX))\n",
    "for ix in range(0, NbinsX):\n",
    "    for iy in range(0, NbinsY):\n",
    "        Data[iy][ix] = Hmap.GetBinContent(ix+1, iy+1)\n",
    "\n",
    "# 创建一个PrimaryHDU对象，并将数据存储在其中\n",
    "hdu = fits.PrimaryHDU(Data)\n",
    "hdr = hdu.header\n",
    "hdr.set('CRVAL1', X0-WbinX/2)\n",
    "hdr.set('CDELT1', WbinX)\n",
    "hdr.set('CRPIX1', 1)\n",
    "hdr.set('CTYPE1', \"RA---TAN\")\n",
    "hdr.set('CRVAL2', Y0-WbinY/2)\n",
    "hdr.set('CDELT2', WbinY)\n",
    "hdr.set('CRPIX2', 1)\n",
    "hdr.set('CTYPE2', \"DEC--TAN\")\n",
    "hdr.set('Content', 'Source significance map of 25TeV<E<100TeV')\n",
    "# 写入头信息\n",
    "print(hdu.header)\n",
    "# 将HDU对象保存为FITS文件\n",
    "hdu.writeto('dust_fullsky.fits', overwrite=True)"
   ]
  },
  {
   "cell_type": "code",
   "execution_count": 6,
   "metadata": {},
   "outputs": [
    {
     "name": "stdout",
     "output_type": "stream",
     "text": [
      "NbinsX=3600, NbinsY=1800\n",
      "WbinX=0.10, WbinY=0.10\n",
      "X0=0.00, Y0=-90.00\n",
      "SIMPLE  =                    T / conforms to FITS standard                      BITPIX  =                  -64 / array data type                                NAXIS   =                    2 / number of array dimensions                     NAXIS1  =                 3600                                                  NAXIS2  =                 1800                                                  WCSAXES =                    2 / Number of coordinate axes                      CRPIX1  =               1800.5 / Pixel coordinate of reference point            CRPIX2  =                900.5 / Pixel coordinate of reference point            CDELT1  =                  0.1 / [deg] Coordinate increment at reference point  CDELT2  =                  0.1 / [deg] Coordinate increment at reference point  CUNIT1  = 'deg'                / Units of coordinate increment and value        CUNIT2  = 'deg'                / Units of coordinate increment and value        CTYPE1  = 'RA---CAR'           / Right ascension, plate caree projection        CTYPE2  = 'DEC--CAR'           / Declination, plate caree projection            CRVAL1  =                180.0 / [deg] Coordinate value at reference point      CRVAL2  =                  0.0 / [deg] Coordinate value at reference point      LONPOLE =                  0.0 / [deg] Native longitude of celestial pole       LATPOLE =                 90.0 / [deg] Native latitude of celestial pole        MJDREF  =                  0.0 / [d] MJD of fiducial time                       RADESYS = 'ICRS'               / Equatorial coordinate system                   CONTENT = 'Source significance map of 25TeV<E<100TeV'                           END                                                                                                                                                                                                                                                                                                                                                                                                                                                                                                                                                                                                                                                                                                                                                                                                                                                                                                                                                                                                                                                                                                                                                                                                                                             \n"
     ]
    }
   ],
   "source": [
    "import numpy as np\n",
    "from astropy.io import fits\n",
    "from astropy.wcs import WCS\n",
    "import ROOT\n",
    "\n",
    "def create_fits_from_root(root_file_path, hist_name, output_fits_name, content_desc):\n",
    "    \"\"\"\n",
    "    从ROOT文件生成FITS文件。\n",
    "\n",
    "    Parameters:\n",
    "        root_file_path (str): ROOT文件路径\n",
    "        hist_name (str): ROOT文件中TH2D直方图的名称\n",
    "        output_fits_name (str): 输出FITS文件的名称\n",
    "        content_desc (str): FITS头文件中的内容描述\n",
    "\n",
    "    Returns:\n",
    "        None\n",
    "    \"\"\"\n",
    "    # 打开ROOT文件并获取TH2D直方图\n",
    "    Fmap = ROOT.TFile.Open(root_file_path)\n",
    "    Hmap = Fmap.Get(hist_name)\n",
    "\n",
    "    # 获取直方图的基本信息\n",
    "    NbinsX = int(Hmap.GetNbinsX())\n",
    "    NbinsY = int(Hmap.GetNbinsY())\n",
    "    WbinX = Hmap.GetXaxis().GetBinWidth(1)\n",
    "    WbinY = Hmap.GetYaxis().GetBinWidth(1)\n",
    "    X0 = Hmap.GetXaxis().GetBinLowEdge(1)\n",
    "    Y0 = Hmap.GetYaxis().GetBinLowEdge(1)\n",
    "\n",
    "    print(\"NbinsX=%d, NbinsY=%d\" % (NbinsX, NbinsY))\n",
    "    print(\"WbinX=%.2lf, WbinY=%.2lf\" % (WbinX, WbinY))\n",
    "    print(\"X0=%.2lf, Y0=%.2lf\" % (X0, Y0))\n",
    "\n",
    "    # 将ROOT直方图的数据导出为numpy数组\n",
    "    Data = np.zeros((NbinsY, NbinsX))\n",
    "    for ix in range(NbinsX):\n",
    "        for iy in range(NbinsY):\n",
    "            Data[iy][ix] = Hmap.GetBinContent(ix + 1, iy + 1)\n",
    "\n",
    "    # 创建FITS头文件并设置关键字\n",
    "    wcs = WCS(naxis=2)\n",
    "    wcs.wcs.crpix = [NbinsX / 2 + 0.5, NbinsY / 2 + 0.5]  # 修改为中心像素\n",
    "    wcs.wcs.cdelt = [WbinX, WbinY]\n",
    "    wcs.wcs.crval = [X0 + (NbinsX * WbinX) / 2, Y0 + (NbinsY * WbinY) / 2]  # 修改参考坐标为中心\n",
    "    wcs.wcs.ctype = [\"RA---CAR\", \"DEC--CAR\"]  # 尝试使用 CAR 投影\n",
    "\n",
    "    # 创建FITS文件并写入数据和头文件\n",
    "    hdu = fits.PrimaryHDU(data=Data, header=wcs.to_header())\n",
    "    hdr = hdu.header\n",
    "    hdr.set('Content', content_desc)\n",
    "    print(hdr)\n",
    "    hdu.writeto(output_fits_name, overwrite=True)\n",
    "\n",
    "# 使用函数\n",
    "root_file_path = \"/data/home/cwy/Science/3MLWCDA/data/dust-allsky-2.root\"\n",
    "hist_name = \"h2\"\n",
    "output_fits_name = \"dust_fullsky.fits\"\n",
    "content_desc = \"Source significance map of 25TeV<E<100TeV\"\n",
    "\n",
    "create_fits_from_root(root_file_path, hist_name, output_fits_name, content_desc)\n"
   ]
  },
  {
   "cell_type": "code",
   "execution_count": null,
   "metadata": {},
   "outputs": [],
   "source": []
  }
 ],
 "metadata": {
  "kernelspec": {
   "display_name": "3ML",
   "language": "python",
   "name": "python3"
  },
  "language_info": {
   "codemirror_mode": {
    "name": "ipython",
    "version": 3
   },
   "file_extension": ".py",
   "mimetype": "text/x-python",
   "name": "python",
   "nbconvert_exporter": "python",
   "pygments_lexer": "ipython3",
   "version": "3.9.15"
  }
 },
 "nbformat": 4,
 "nbformat_minor": 2
}
