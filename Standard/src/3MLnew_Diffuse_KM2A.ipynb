{
 "cells": [
  {
   "cell_type": "code",
   "execution_count": 1,
   "metadata": {},
   "outputs": [
    {
     "name": "stdout",
     "output_type": "stream",
     "text": [
      "Welcome to JupyROOT 6.24/06\n"
     ]
    },
    {
     "data": {
      "text/html": [
       "<pre style=\"white-space:pre;overflow-x:auto;line-height:normal;font-family:Menlo,'DejaVu Sans Mono',consolas,'Courier New',monospace\"><span style=\"color: #00ff00; text-decoration-color: #00ff00\">21:56:06 </span><span style=\"color: #af5fd7; text-decoration-color: #af5fd7\">WARNING </span> <span style=\"color: #c6c6c6; text-decoration-color: #c6c6c6; font-weight: bold\"> The GSL library or the pygsl wrapper cannot be loaded. Models that depend on it  </span><a href=\"file:///data/home/cwy/.mylib/miniconda3/envs/3ML/lib/python3.9/site-packages/astromodels/functions/functions_1D/functions.py\" target=\"_blank\"><span style=\"color: #7f7f7f; text-decoration-color: #7f7f7f\">functions.py</span></a><span style=\"color: #7f7f7f; text-decoration-color: #7f7f7f\">:</span><a href=\"file:///data/home/cwy/.mylib/miniconda3/envs/3ML/lib/python3.9/site-packages/astromodels/functions/functions_1D/functions.py#71\" target=\"_blank\"><span style=\"color: #7f7f7f; text-decoration-color: #7f7f7f\">71</span></a>\n",
       "<span style=\"color: #00ff00; text-decoration-color: #00ff00\">         </span>         <span style=\"color: #c6c6c6; text-decoration-color: #c6c6c6; font-weight: bold\">will not be available.                                                            </span><span style=\"color: #7f7f7f; text-decoration-color: #7f7f7f\">               </span>\n",
       "</pre>\n"
      ],
      "text/plain": [
       "\u001b[38;5;46m21:56:06\u001b[0m\u001b[38;5;46m \u001b[0m\u001b[38;5;134mWARNING \u001b[0m \u001b[1;38;5;251m The GSL library or the pygsl wrapper cannot be loaded. Models that depend on it \u001b[0m\u001b[1;38;5;251m \u001b[0m\u001b]8;id=199762;file:///data/home/cwy/.mylib/miniconda3/envs/3ML/lib/python3.9/site-packages/astromodels/functions/functions_1D/functions.py\u001b\\\u001b[2mfunctions.py\u001b[0m\u001b]8;;\u001b\\\u001b[2m:\u001b[0m\u001b]8;id=607684;file:///data/home/cwy/.mylib/miniconda3/envs/3ML/lib/python3.9/site-packages/astromodels/functions/functions_1D/functions.py#71\u001b\\\u001b[2m71\u001b[0m\u001b]8;;\u001b\\\n",
       "\u001b[38;5;46m         \u001b[0m         \u001b[1;38;5;251mwill not be available.                                                           \u001b[0m\u001b[1;38;5;251m \u001b[0m\u001b[2m               \u001b[0m\n"
      ]
     },
     "metadata": {},
     "output_type": "display_data"
    },
    {
     "data": {
      "text/html": [
       "<pre style=\"white-space:pre;overflow-x:auto;line-height:normal;font-family:Menlo,'DejaVu Sans Mono',consolas,'Courier New',monospace\"><span style=\"color: #00ff00; text-decoration-color: #00ff00\">21:56:08 </span><span style=\"color: #af5fd7; text-decoration-color: #af5fd7\">WARNING </span> <span style=\"color: #c6c6c6; text-decoration-color: #c6c6c6; font-weight: bold\"> The ebltable package is not available. Models that depend on it will not be     </span><a href=\"file:///data/home/cwy/.mylib/miniconda3/envs/3ML/lib/python3.9/site-packages/astromodels/functions/functions_1D/absorption.py\" target=\"_blank\"><span style=\"color: #7f7f7f; text-decoration-color: #7f7f7f\">absorption.py</span></a><span style=\"color: #7f7f7f; text-decoration-color: #7f7f7f\">:</span><a href=\"file:///data/home/cwy/.mylib/miniconda3/envs/3ML/lib/python3.9/site-packages/astromodels/functions/functions_1D/absorption.py#36\" target=\"_blank\"><span style=\"color: #7f7f7f; text-decoration-color: #7f7f7f\">36</span></a>\n",
       "<span style=\"color: #00ff00; text-decoration-color: #00ff00\">         </span>         <span style=\"color: #c6c6c6; text-decoration-color: #c6c6c6; font-weight: bold\">available                                                                        </span><span style=\"color: #7f7f7f; text-decoration-color: #7f7f7f\">                </span>\n",
       "</pre>\n"
      ],
      "text/plain": [
       "\u001b[38;5;46m21:56:08\u001b[0m\u001b[38;5;46m \u001b[0m\u001b[38;5;134mWARNING \u001b[0m \u001b[1;38;5;251m The ebltable package is not available. Models that depend on it will not be    \u001b[0m\u001b[1;38;5;251m \u001b[0m\u001b]8;id=989186;file:///data/home/cwy/.mylib/miniconda3/envs/3ML/lib/python3.9/site-packages/astromodels/functions/functions_1D/absorption.py\u001b\\\u001b[2mabsorption.py\u001b[0m\u001b]8;;\u001b\\\u001b[2m:\u001b[0m\u001b]8;id=163424;file:///data/home/cwy/.mylib/miniconda3/envs/3ML/lib/python3.9/site-packages/astromodels/functions/functions_1D/absorption.py#36\u001b\\\u001b[2m36\u001b[0m\u001b]8;;\u001b\\\n",
       "\u001b[38;5;46m         \u001b[0m         \u001b[1;38;5;251mavailable                                                                       \u001b[0m\u001b[1;38;5;251m \u001b[0m\u001b[2m                \u001b[0m\n"
      ]
     },
     "metadata": {},
     "output_type": "display_data"
    },
    {
     "data": {
      "text/html": [
       "<pre style=\"white-space:pre;overflow-x:auto;line-height:normal;font-family:Menlo,'DejaVu Sans Mono',consolas,'Courier New',monospace\"><span style=\"color: #00ff00; text-decoration-color: #00ff00\">21:56:09 </span><span style=\"color: #00ffaf; text-decoration-color: #00ffaf\">INFO    </span> <span style=\"color: #c6c6c6; text-decoration-color: #c6c6c6; font-weight: bold\"> Starting 3ML!                                                                     </span><a href=\"file:///data/home/cwy/.mylib/miniconda3/envs/3ML/lib/python3.9/site-packages/threeML/__init__.py\" target=\"_blank\"><span style=\"color: #7f7f7f; text-decoration-color: #7f7f7f\">__init__.py</span></a><span style=\"color: #7f7f7f; text-decoration-color: #7f7f7f\">:</span><a href=\"file:///data/home/cwy/.mylib/miniconda3/envs/3ML/lib/python3.9/site-packages/threeML/__init__.py#35\" target=\"_blank\"><span style=\"color: #7f7f7f; text-decoration-color: #7f7f7f\">35</span></a>\n",
       "</pre>\n"
      ],
      "text/plain": [
       "\u001b[38;5;46m21:56:09\u001b[0m\u001b[38;5;46m \u001b[0m\u001b[38;5;49mINFO    \u001b[0m \u001b[1;38;5;251m Starting 3ML!                                                                    \u001b[0m\u001b[1;38;5;251m \u001b[0m\u001b]8;id=55262;file:///data/home/cwy/.mylib/miniconda3/envs/3ML/lib/python3.9/site-packages/threeML/__init__.py\u001b\\\u001b[2m__init__.py\u001b[0m\u001b]8;;\u001b\\\u001b[2m:\u001b[0m\u001b]8;id=351926;file:///data/home/cwy/.mylib/miniconda3/envs/3ML/lib/python3.9/site-packages/threeML/__init__.py#35\u001b\\\u001b[2m35\u001b[0m\u001b]8;;\u001b\\\n"
      ]
     },
     "metadata": {},
     "output_type": "display_data"
    },
    {
     "data": {
      "text/html": [
       "<pre style=\"white-space:pre;overflow-x:auto;line-height:normal;font-family:Menlo,'DejaVu Sans Mono',consolas,'Courier New',monospace\"><span style=\"color: #00ff00; text-decoration-color: #00ff00\">         </span><span style=\"color: #af5fd7; text-decoration-color: #af5fd7\">WARNING </span> <span style=\"color: #c6c6c6; text-decoration-color: #c6c6c6; font-weight: bold\"> WARNINGs here are </span><span style=\"color: #800000; text-decoration-color: #800000; font-weight: bold\">NOT</span><span style=\"color: #c6c6c6; text-decoration-color: #c6c6c6; font-weight: bold\"> errors                                                      </span><a href=\"file:///data/home/cwy/.mylib/miniconda3/envs/3ML/lib/python3.9/site-packages/threeML/__init__.py\" target=\"_blank\"><span style=\"color: #7f7f7f; text-decoration-color: #7f7f7f\">__init__.py</span></a><span style=\"color: #7f7f7f; text-decoration-color: #7f7f7f\">:</span><a href=\"file:///data/home/cwy/.mylib/miniconda3/envs/3ML/lib/python3.9/site-packages/threeML/__init__.py#36\" target=\"_blank\"><span style=\"color: #7f7f7f; text-decoration-color: #7f7f7f\">36</span></a>\n",
       "</pre>\n"
      ],
      "text/plain": [
       "\u001b[38;5;46m        \u001b[0m\u001b[38;5;46m \u001b[0m\u001b[38;5;134mWARNING \u001b[0m \u001b[1;38;5;251m WARNINGs here are \u001b[0m\u001b[1;31mNOT\u001b[0m\u001b[1;38;5;251m errors                                                     \u001b[0m\u001b[1;38;5;251m \u001b[0m\u001b]8;id=195001;file:///data/home/cwy/.mylib/miniconda3/envs/3ML/lib/python3.9/site-packages/threeML/__init__.py\u001b\\\u001b[2m__init__.py\u001b[0m\u001b]8;;\u001b\\\u001b[2m:\u001b[0m\u001b]8;id=249470;file:///data/home/cwy/.mylib/miniconda3/envs/3ML/lib/python3.9/site-packages/threeML/__init__.py#36\u001b\\\u001b[2m36\u001b[0m\u001b]8;;\u001b\\\n"
      ]
     },
     "metadata": {},
     "output_type": "display_data"
    },
    {
     "data": {
      "text/html": [
       "<pre style=\"white-space:pre;overflow-x:auto;line-height:normal;font-family:Menlo,'DejaVu Sans Mono',consolas,'Courier New',monospace\"><span style=\"color: #00ff00; text-decoration-color: #00ff00\">         </span><span style=\"color: #af5fd7; text-decoration-color: #af5fd7\">WARNING </span> <span style=\"color: #c6c6c6; text-decoration-color: #c6c6c6; font-weight: bold\"> but are inform you about optional packages that can be installed                  </span><a href=\"file:///data/home/cwy/.mylib/miniconda3/envs/3ML/lib/python3.9/site-packages/threeML/__init__.py\" target=\"_blank\"><span style=\"color: #7f7f7f; text-decoration-color: #7f7f7f\">__init__.py</span></a><span style=\"color: #7f7f7f; text-decoration-color: #7f7f7f\">:</span><a href=\"file:///data/home/cwy/.mylib/miniconda3/envs/3ML/lib/python3.9/site-packages/threeML/__init__.py#37\" target=\"_blank\"><span style=\"color: #7f7f7f; text-decoration-color: #7f7f7f\">37</span></a>\n",
       "</pre>\n"
      ],
      "text/plain": [
       "\u001b[38;5;46m        \u001b[0m\u001b[38;5;46m \u001b[0m\u001b[38;5;134mWARNING \u001b[0m \u001b[1;38;5;251m but are inform you about optional packages that can be installed                 \u001b[0m\u001b[1;38;5;251m \u001b[0m\u001b]8;id=142472;file:///data/home/cwy/.mylib/miniconda3/envs/3ML/lib/python3.9/site-packages/threeML/__init__.py\u001b\\\u001b[2m__init__.py\u001b[0m\u001b]8;;\u001b\\\u001b[2m:\u001b[0m\u001b]8;id=809584;file:///data/home/cwy/.mylib/miniconda3/envs/3ML/lib/python3.9/site-packages/threeML/__init__.py#37\u001b\\\u001b[2m37\u001b[0m\u001b]8;;\u001b\\\n"
      ]
     },
     "metadata": {},
     "output_type": "display_data"
    },
    {
     "data": {
      "text/html": [
       "<pre style=\"white-space:pre;overflow-x:auto;line-height:normal;font-family:Menlo,'DejaVu Sans Mono',consolas,'Courier New',monospace\"><span style=\"color: #00ff00; text-decoration-color: #00ff00\">         </span><span style=\"color: #af5fd7; text-decoration-color: #af5fd7\">WARNING </span> <span style=\"color: #c6c6c6; text-decoration-color: #c6c6c6; font-weight: bold\"> </span><span style=\"color: #800000; text-decoration-color: #800000; font-weight: bold\"> to disable these messages, turn off start_warning in your config file</span><span style=\"color: #c6c6c6; text-decoration-color: #c6c6c6; font-weight: bold\">            </span><a href=\"file:///data/home/cwy/.mylib/miniconda3/envs/3ML/lib/python3.9/site-packages/threeML/__init__.py\" target=\"_blank\"><span style=\"color: #7f7f7f; text-decoration-color: #7f7f7f\">__init__.py</span></a><span style=\"color: #7f7f7f; text-decoration-color: #7f7f7f\">:</span><a href=\"file:///data/home/cwy/.mylib/miniconda3/envs/3ML/lib/python3.9/site-packages/threeML/__init__.py#40\" target=\"_blank\"><span style=\"color: #7f7f7f; text-decoration-color: #7f7f7f\">40</span></a>\n",
       "</pre>\n"
      ],
      "text/plain": [
       "\u001b[38;5;46m        \u001b[0m\u001b[38;5;46m \u001b[0m\u001b[38;5;134mWARNING \u001b[0m \u001b[1;38;5;251m \u001b[0m\u001b[1;31m to disable these messages, turn off start_warning in your config file\u001b[0m\u001b[1;38;5;251m           \u001b[0m\u001b[1;38;5;251m \u001b[0m\u001b]8;id=283849;file:///data/home/cwy/.mylib/miniconda3/envs/3ML/lib/python3.9/site-packages/threeML/__init__.py\u001b\\\u001b[2m__init__.py\u001b[0m\u001b]8;;\u001b\\\u001b[2m:\u001b[0m\u001b]8;id=459986;file:///data/home/cwy/.mylib/miniconda3/envs/3ML/lib/python3.9/site-packages/threeML/__init__.py#40\u001b\\\u001b[2m40\u001b[0m\u001b]8;;\u001b\\\n"
      ]
     },
     "metadata": {},
     "output_type": "display_data"
    },
    {
     "data": {
      "text/html": [
       "<pre style=\"white-space:pre;overflow-x:auto;line-height:normal;font-family:Menlo,'DejaVu Sans Mono',consolas,'Courier New',monospace\"><span style=\"color: #00ff00; text-decoration-color: #00ff00\">21:56:11 </span><span style=\"color: #af5fd7; text-decoration-color: #af5fd7\">WARNING </span> <span style=\"color: #c6c6c6; text-decoration-color: #c6c6c6; font-weight: bold\"> Multinest minimizer not available                                           </span><a href=\"file:///data/home/cwy/.mylib/miniconda3/envs/3ML/lib/python3.9/site-packages/threeML/minimizer/minimization.py\" target=\"_blank\"><span style=\"color: #7f7f7f; text-decoration-color: #7f7f7f\">minimization.py</span></a><span style=\"color: #7f7f7f; text-decoration-color: #7f7f7f\">:</span><a href=\"file:///data/home/cwy/.mylib/miniconda3/envs/3ML/lib/python3.9/site-packages/threeML/minimizer/minimization.py#1357\" target=\"_blank\"><span style=\"color: #7f7f7f; text-decoration-color: #7f7f7f\">1357</span></a>\n",
       "</pre>\n"
      ],
      "text/plain": [
       "\u001b[38;5;46m21:56:11\u001b[0m\u001b[38;5;46m \u001b[0m\u001b[38;5;134mWARNING \u001b[0m \u001b[1;38;5;251m Multinest minimizer not available                                          \u001b[0m\u001b[1;38;5;251m \u001b[0m\u001b]8;id=163382;file:///data/home/cwy/.mylib/miniconda3/envs/3ML/lib/python3.9/site-packages/threeML/minimizer/minimization.py\u001b\\\u001b[2mminimization.py\u001b[0m\u001b]8;;\u001b\\\u001b[2m:\u001b[0m\u001b]8;id=661373;file:///data/home/cwy/.mylib/miniconda3/envs/3ML/lib/python3.9/site-packages/threeML/minimizer/minimization.py#1357\u001b\\\u001b[2m1357\u001b[0m\u001b]8;;\u001b\\\n"
      ]
     },
     "metadata": {},
     "output_type": "display_data"
    },
    {
     "data": {
      "text/html": [
       "<pre style=\"white-space:pre;overflow-x:auto;line-height:normal;font-family:Menlo,'DejaVu Sans Mono',consolas,'Courier New',monospace\"><span style=\"color: #00ff00; text-decoration-color: #00ff00\">         </span><span style=\"color: #af5fd7; text-decoration-color: #af5fd7\">WARNING </span> <span style=\"color: #c6c6c6; text-decoration-color: #c6c6c6; font-weight: bold\"> PyGMO is not available                                                      </span><a href=\"file:///data/home/cwy/.mylib/miniconda3/envs/3ML/lib/python3.9/site-packages/threeML/minimizer/minimization.py\" target=\"_blank\"><span style=\"color: #7f7f7f; text-decoration-color: #7f7f7f\">minimization.py</span></a><span style=\"color: #7f7f7f; text-decoration-color: #7f7f7f\">:</span><a href=\"file:///data/home/cwy/.mylib/miniconda3/envs/3ML/lib/python3.9/site-packages/threeML/minimizer/minimization.py#1369\" target=\"_blank\"><span style=\"color: #7f7f7f; text-decoration-color: #7f7f7f\">1369</span></a>\n",
       "</pre>\n"
      ],
      "text/plain": [
       "\u001b[38;5;46m        \u001b[0m\u001b[38;5;46m \u001b[0m\u001b[38;5;134mWARNING \u001b[0m \u001b[1;38;5;251m PyGMO is not available                                                     \u001b[0m\u001b[1;38;5;251m \u001b[0m\u001b]8;id=907711;file:///data/home/cwy/.mylib/miniconda3/envs/3ML/lib/python3.9/site-packages/threeML/minimizer/minimization.py\u001b\\\u001b[2mminimization.py\u001b[0m\u001b]8;;\u001b\\\u001b[2m:\u001b[0m\u001b]8;id=258587;file:///data/home/cwy/.mylib/miniconda3/envs/3ML/lib/python3.9/site-packages/threeML/minimizer/minimization.py#1369\u001b\\\u001b[2m1369\u001b[0m\u001b]8;;\u001b\\\n"
      ]
     },
     "metadata": {},
     "output_type": "display_data"
    },
    {
     "data": {
      "text/html": [
       "<pre style=\"white-space:pre;overflow-x:auto;line-height:normal;font-family:Menlo,'DejaVu Sans Mono',consolas,'Courier New',monospace\"><span style=\"color: #00ff00; text-decoration-color: #00ff00\">21:56:12 </span><span style=\"color: #af5fd7; text-decoration-color: #af5fd7\">WARNING </span> <span style=\"color: #c6c6c6; text-decoration-color: #c6c6c6; font-weight: bold\"> The cthreeML package is not installed. You will not be able to use plugins which  </span><a href=\"file:///data/home/cwy/.mylib/miniconda3/envs/3ML/lib/python3.9/site-packages/threeML/__init__.py\" target=\"_blank\"><span style=\"color: #7f7f7f; text-decoration-color: #7f7f7f\">__init__.py</span></a><span style=\"color: #7f7f7f; text-decoration-color: #7f7f7f\">:</span><a href=\"file:///data/home/cwy/.mylib/miniconda3/envs/3ML/lib/python3.9/site-packages/threeML/__init__.py#94\" target=\"_blank\"><span style=\"color: #7f7f7f; text-decoration-color: #7f7f7f\">94</span></a>\n",
       "<span style=\"color: #00ff00; text-decoration-color: #00ff00\">         </span>         <span style=\"color: #c6c6c6; text-decoration-color: #c6c6c6; font-weight: bold\">require the C/C++ interface (currently HAWC)                                       </span><span style=\"color: #7f7f7f; text-decoration-color: #7f7f7f\">              </span>\n",
       "</pre>\n"
      ],
      "text/plain": [
       "\u001b[38;5;46m21:56:12\u001b[0m\u001b[38;5;46m \u001b[0m\u001b[38;5;134mWARNING \u001b[0m \u001b[1;38;5;251m The cthreeML package is not installed. You will not be able to use plugins which \u001b[0m\u001b[1;38;5;251m \u001b[0m\u001b]8;id=631053;file:///data/home/cwy/.mylib/miniconda3/envs/3ML/lib/python3.9/site-packages/threeML/__init__.py\u001b\\\u001b[2m__init__.py\u001b[0m\u001b]8;;\u001b\\\u001b[2m:\u001b[0m\u001b]8;id=506637;file:///data/home/cwy/.mylib/miniconda3/envs/3ML/lib/python3.9/site-packages/threeML/__init__.py#94\u001b\\\u001b[2m94\u001b[0m\u001b]8;;\u001b\\\n",
       "\u001b[38;5;46m         \u001b[0m         \u001b[1;38;5;251mrequire the C/C++ interface \u001b[0m\u001b[1;38;5;251m(\u001b[0m\u001b[1;38;5;251mcurrently HAWC\u001b[0m\u001b[1;38;5;251m)\u001b[0m\u001b[1;38;5;251m                                      \u001b[0m\u001b[1;38;5;251m \u001b[0m\u001b[2m              \u001b[0m\n"
      ]
     },
     "metadata": {},
     "output_type": "display_data"
    },
    {
     "data": {
      "text/html": [
       "<pre style=\"white-space:pre;overflow-x:auto;line-height:normal;font-family:Menlo,'DejaVu Sans Mono',consolas,'Courier New',monospace\"><span style=\"color: #00ff00; text-decoration-color: #00ff00\">         </span><span style=\"color: #af5fd7; text-decoration-color: #af5fd7\">WARNING </span> <span style=\"color: #c6c6c6; text-decoration-color: #c6c6c6; font-weight: bold\"> Could not import plugin FermiLATLike.py. Do you have the relative instrument     </span><a href=\"file:///data/home/cwy/.mylib/miniconda3/envs/3ML/lib/python3.9/site-packages/threeML/__init__.py\" target=\"_blank\"><span style=\"color: #7f7f7f; text-decoration-color: #7f7f7f\">__init__.py</span></a><span style=\"color: #7f7f7f; text-decoration-color: #7f7f7f\">:</span><a href=\"file:///data/home/cwy/.mylib/miniconda3/envs/3ML/lib/python3.9/site-packages/threeML/__init__.py#144\" target=\"_blank\"><span style=\"color: #7f7f7f; text-decoration-color: #7f7f7f\">144</span></a>\n",
       "<span style=\"color: #00ff00; text-decoration-color: #00ff00\">         </span>         <span style=\"color: #c6c6c6; text-decoration-color: #c6c6c6; font-weight: bold\">software installed and configured?                                                </span><span style=\"color: #7f7f7f; text-decoration-color: #7f7f7f\">               </span>\n",
       "</pre>\n"
      ],
      "text/plain": [
       "\u001b[38;5;46m        \u001b[0m\u001b[38;5;46m \u001b[0m\u001b[38;5;134mWARNING \u001b[0m \u001b[1;38;5;251m Could not import plugin FermiLATLike.py. Do you have the relative instrument    \u001b[0m\u001b[1;38;5;251m \u001b[0m\u001b]8;id=825776;file:///data/home/cwy/.mylib/miniconda3/envs/3ML/lib/python3.9/site-packages/threeML/__init__.py\u001b\\\u001b[2m__init__.py\u001b[0m\u001b]8;;\u001b\\\u001b[2m:\u001b[0m\u001b]8;id=785440;file:///data/home/cwy/.mylib/miniconda3/envs/3ML/lib/python3.9/site-packages/threeML/__init__.py#144\u001b\\\u001b[2m144\u001b[0m\u001b]8;;\u001b\\\n",
       "\u001b[38;5;46m         \u001b[0m         \u001b[1;38;5;251msoftware installed and configured?                                               \u001b[0m\u001b[1;38;5;251m \u001b[0m\u001b[2m               \u001b[0m\n"
      ]
     },
     "metadata": {},
     "output_type": "display_data"
    },
    {
     "data": {
      "text/html": [
       "<pre style=\"white-space:pre;overflow-x:auto;line-height:normal;font-family:Menlo,'DejaVu Sans Mono',consolas,'Courier New',monospace\"><span style=\"color: #00ff00; text-decoration-color: #00ff00\">         </span><span style=\"color: #af5fd7; text-decoration-color: #af5fd7\">WARNING </span> <span style=\"color: #c6c6c6; text-decoration-color: #c6c6c6; font-weight: bold\"> Could not import plugin HAWCLike.py. Do you have the relative instrument         </span><a href=\"file:///data/home/cwy/.mylib/miniconda3/envs/3ML/lib/python3.9/site-packages/threeML/__init__.py\" target=\"_blank\"><span style=\"color: #7f7f7f; text-decoration-color: #7f7f7f\">__init__.py</span></a><span style=\"color: #7f7f7f; text-decoration-color: #7f7f7f\">:</span><a href=\"file:///data/home/cwy/.mylib/miniconda3/envs/3ML/lib/python3.9/site-packages/threeML/__init__.py#144\" target=\"_blank\"><span style=\"color: #7f7f7f; text-decoration-color: #7f7f7f\">144</span></a>\n",
       "<span style=\"color: #00ff00; text-decoration-color: #00ff00\">         </span>         <span style=\"color: #c6c6c6; text-decoration-color: #c6c6c6; font-weight: bold\">software installed and configured?                                                </span><span style=\"color: #7f7f7f; text-decoration-color: #7f7f7f\">               </span>\n",
       "</pre>\n"
      ],
      "text/plain": [
       "\u001b[38;5;46m        \u001b[0m\u001b[38;5;46m \u001b[0m\u001b[38;5;134mWARNING \u001b[0m \u001b[1;38;5;251m Could not import plugin HAWCLike.py. Do you have the relative instrument        \u001b[0m\u001b[1;38;5;251m \u001b[0m\u001b]8;id=606032;file:///data/home/cwy/.mylib/miniconda3/envs/3ML/lib/python3.9/site-packages/threeML/__init__.py\u001b\\\u001b[2m__init__.py\u001b[0m\u001b]8;;\u001b\\\u001b[2m:\u001b[0m\u001b]8;id=348265;file:///data/home/cwy/.mylib/miniconda3/envs/3ML/lib/python3.9/site-packages/threeML/__init__.py#144\u001b\\\u001b[2m144\u001b[0m\u001b]8;;\u001b\\\n",
       "\u001b[38;5;46m         \u001b[0m         \u001b[1;38;5;251msoftware installed and configured?                                               \u001b[0m\u001b[1;38;5;251m \u001b[0m\u001b[2m               \u001b[0m\n"
      ]
     },
     "metadata": {},
     "output_type": "display_data"
    },
    {
     "data": {
      "text/html": [
       "<pre style=\"white-space:pre;overflow-x:auto;line-height:normal;font-family:Menlo,'DejaVu Sans Mono',consolas,'Courier New',monospace\"><span style=\"color: #00ff00; text-decoration-color: #00ff00\">21:56:14 </span><span style=\"color: #af5fd7; text-decoration-color: #af5fd7\">WARNING </span> <span style=\"color: #c6c6c6; text-decoration-color: #c6c6c6; font-weight: bold\"> No fermitools installed                                              </span><a href=\"file:///data/home/cwy/.mylib/miniconda3/envs/3ML/lib/python3.9/site-packages/threeML/utils/data_builders/fermi/lat_transient_builder.py\" target=\"_blank\"><span style=\"color: #7f7f7f; text-decoration-color: #7f7f7f\">lat_transient_builder.py</span></a><span style=\"color: #7f7f7f; text-decoration-color: #7f7f7f\">:</span><a href=\"file:///data/home/cwy/.mylib/miniconda3/envs/3ML/lib/python3.9/site-packages/threeML/utils/data_builders/fermi/lat_transient_builder.py#44\" target=\"_blank\"><span style=\"color: #7f7f7f; text-decoration-color: #7f7f7f\">44</span></a>\n",
       "</pre>\n"
      ],
      "text/plain": [
       "\u001b[38;5;46m21:56:14\u001b[0m\u001b[38;5;46m \u001b[0m\u001b[38;5;134mWARNING \u001b[0m \u001b[1;38;5;251m No fermitools installed                                             \u001b[0m\u001b[1;38;5;251m \u001b[0m\u001b]8;id=722527;file:///data/home/cwy/.mylib/miniconda3/envs/3ML/lib/python3.9/site-packages/threeML/utils/data_builders/fermi/lat_transient_builder.py\u001b\\\u001b[2mlat_transient_builder.py\u001b[0m\u001b]8;;\u001b\\\u001b[2m:\u001b[0m\u001b]8;id=454924;file:///data/home/cwy/.mylib/miniconda3/envs/3ML/lib/python3.9/site-packages/threeML/utils/data_builders/fermi/lat_transient_builder.py#44\u001b\\\u001b[2m44\u001b[0m\u001b]8;;\u001b\\\n"
      ]
     },
     "metadata": {},
     "output_type": "display_data"
    },
    {
     "name": "stderr",
     "output_type": "stream",
     "text": [
      "Load sub from Myspeedup: 100%|██████████| 31/31 [00:00<00:00, 32.77it/s] "
     ]
    },
    {
     "name": "stdout",
     "output_type": "stream",
     "text": [
      "Yourlib init successfully!!!\n"
     ]
    },
    {
     "name": "stderr",
     "output_type": "stream",
     "text": [
      "Load sub from Myspeedup: 100%|██████████| 31/31 [00:19<00:00, 32.77it/s]"
     ]
    }
   ],
   "source": [
    "import matplotlib, sys,  os\n",
    "os.environ['OPENBLAS_NUM_THREADS'] = '1'\n",
    "os.environ['OMP_NUM_THREADS'] = '1'\n",
    "os.environ['MKL_NUM_THREADS'] = '1'\n",
    "os.environ['NUMEXPR_NUM_THREADS'] = '1'\n",
    "os.environ[\"KMP_DUPLICATE_LIB_OK\"]=\"TRUE\"\n",
    "sys.path.append(\"./mylib/\")\n",
    "\n",
    "import numpy as np\n",
    "matplotlib.use('Agg')\n",
    "import matplotlib.pyplot as plt\n",
    "\n",
    "np.seterr(all=\"ignore\")\n",
    "from threeML import *\n",
    "from WCDA_hal import HAL, HealpixConeROI, HealpixMapROI\n",
    "import traceback\n",
    "silence_warnings()\n",
    "import warnings\n",
    "warnings.simplefilter(\"ignore\")\n",
    "silence_warnings()\n",
    "from threeML import silence_progress_bars, activate_progress_bars, toggle_progress_bars\n",
    "from threeML.utils.progress_bar import trange\n",
    "\n",
    "from astropy.io import fits\n",
    "from astropy.wcs import WCS\n",
    "from astropy.coordinates import SkyCoord\n",
    "from astropy import units as u\n",
    "# from astropy.visualization import astropy_mpl_style, imshAow_norm\n",
    "from astropy.coordinates import Angle\n",
    "\n",
    "import healpy as hp\n",
    "\n",
    "from tqdm import tqdm\n",
    "\n",
    "# from mylib import *\n",
    "import mylib as my\n",
    "from importlib import reload"
   ]
  },
  {
   "cell_type": "code",
   "execution_count": 4,
   "metadata": {},
   "outputs": [
    {
     "name": "stderr",
     "output_type": "stream",
     "text": []
    },
    {
     "data": {
      "text/html": [
       "<pre style=\"white-space:pre;overflow-x:auto;line-height:normal;font-family:Menlo,'DejaVu Sans Mono',consolas,'Courier New',monospace\"><span style=\"color: #00ff00; text-decoration-color: #00ff00\">22:07:48 </span><span style=\"color: #00ffaf; text-decoration-color: #00ffaf\">INFO    </span> <span style=\"color: #c6c6c6; text-decoration-color: #c6c6c6; font-weight: bold\"> Creating singleton for                                                            </span><a href=\"file:///data/home/cwy/.mylib/miniconda3/envs/3ML/lib/python3.9/site-packages/WCDA_hal/response/response.py\" target=\"_blank\"><span style=\"color: #7f7f7f; text-decoration-color: #7f7f7f\">response.py</span></a><span style=\"color: #7f7f7f; text-decoration-color: #7f7f7f\">:</span><a href=\"file:///data/home/cwy/.mylib/miniconda3/envs/3ML/lib/python3.9/site-packages/WCDA_hal/response/response.py#41\" target=\"_blank\"><span style=\"color: #7f7f7f; text-decoration-color: #7f7f7f\">41</span></a>\n",
       "<span style=\"color: #00ff00; text-decoration-color: #00ff00\">         </span>         <span style=\"color: #5f5f5f; text-decoration-color: #5f5f5f; font-weight: bold\">/data/home/cwy/Science/3MLWCDA/Standard/src/../../data/</span><span style=\"color: #000080; text-decoration-color: #000080; font-weight: bold\">KM2A1234full_mcpsf_DRfinal.</span><span style=\"color: #c6c6c6; text-decoration-color: #c6c6c6; font-weight: bold\"> </span><span style=\"color: #7f7f7f; text-decoration-color: #7f7f7f\">              </span>\n",
       "<span style=\"color: #00ff00; text-decoration-color: #00ff00\">         </span>         <span style=\"color: #000080; text-decoration-color: #000080; font-weight: bold\">root</span><span style=\"color: #c6c6c6; text-decoration-color: #c6c6c6; font-weight: bold\">                                                                               </span><span style=\"color: #7f7f7f; text-decoration-color: #7f7f7f\">              </span>\n",
       "</pre>\n"
      ],
      "text/plain": [
       "\u001b[38;5;46m22:07:48\u001b[0m\u001b[38;5;46m \u001b[0m\u001b[38;5;49mINFO    \u001b[0m \u001b[1;38;5;251m Creating singleton for                                                           \u001b[0m\u001b[1;38;5;251m \u001b[0m\u001b]8;id=35834;file:///data/home/cwy/.mylib/miniconda3/envs/3ML/lib/python3.9/site-packages/WCDA_hal/response/response.py\u001b\\\u001b[2mresponse.py\u001b[0m\u001b]8;;\u001b\\\u001b[2m:\u001b[0m\u001b]8;id=691097;file:///data/home/cwy/.mylib/miniconda3/envs/3ML/lib/python3.9/site-packages/WCDA_hal/response/response.py#41\u001b\\\u001b[2m41\u001b[0m\u001b]8;;\u001b\\\n",
       "\u001b[38;5;46m         \u001b[0m         \u001b[1;38;5;59m/data/home/cwy/Science/3MLWCDA/Standard/src/../../data/\u001b[0m\u001b[1;34mKM2A1234full_mcpsf_DRfinal.\u001b[0m\u001b[1;38;5;251m \u001b[0m\u001b[2m              \u001b[0m\n",
       "\u001b[38;5;46m         \u001b[0m         \u001b[1;34mroot\u001b[0m\u001b[1;38;5;251m                                                                              \u001b[0m\u001b[1;38;5;251m \u001b[0m\u001b[2m              \u001b[0m\n"
      ]
     },
     "metadata": {},
     "output_type": "display_data"
    },
    {
     "name": "stderr",
     "output_type": "stream",
     "text": [
      "  0%|          | 0/35 [00:10<?, ?it/s]\n"
     ]
    },
    {
     "ename": "KeyboardInterrupt",
     "evalue": "",
     "output_type": "error",
     "traceback": [
      "\u001b[0;31m---------------------------------------------------------------------------\u001b[0m",
      "\u001b[0;31mKeyboardInterrupt\u001b[0m                         Traceback (most recent call last)",
      "Cell \u001b[0;32mIn[4], line 40\u001b[0m\n\u001b[1;32m     36\u001b[0m model_radius \u001b[38;5;241m=\u001b[39m \u001b[38;5;241m8.0\u001b[39m\n\u001b[1;32m     38\u001b[0m roi \u001b[38;5;241m=\u001b[39m HealpixMapROI(ra\u001b[38;5;241m=\u001b[39mra1,dec\u001b[38;5;241m=\u001b[39mdec1, data_radius\u001b[38;5;241m=\u001b[39mdata_radius, model_radius\u001b[38;5;241m=\u001b[39mmodel_radius, roimap\u001b[38;5;241m=\u001b[39msignal)\n\u001b[0;32m---> 40\u001b[0m KM2A \u001b[38;5;241m=\u001b[39m \u001b[43mHAL\u001b[49m\u001b[43m(\u001b[49m\u001b[38;5;124;43m\"\u001b[39;49m\u001b[38;5;124;43mKM2A\u001b[39;49m\u001b[38;5;124;43m\"\u001b[39;49m\u001b[43m,\u001b[49m\u001b[43m \u001b[49m\u001b[43mmaptree\u001b[49m\u001b[43m,\u001b[49m\u001b[43m \u001b[49m\u001b[43mresponse\u001b[49m\u001b[43m,\u001b[49m\u001b[43m \u001b[49m\u001b[43mroi\u001b[49m\u001b[43m,\u001b[49m\u001b[43m \u001b[49m\u001b[43mflat_sky_pixels_size\u001b[49m\u001b[38;5;241;43m=\u001b[39;49m\u001b[38;5;241;43m0.17\u001b[39;49m\u001b[43m)\u001b[49m\n\u001b[1;32m     42\u001b[0m \u001b[38;5;66;03m#####   Data Situation\u001b[39;00m\n\u001b[1;32m     43\u001b[0m get_ipython()\u001b[38;5;241m.\u001b[39mrun_line_magic(\u001b[38;5;124m'\u001b[39m\u001b[38;5;124mmatplotlib\u001b[39m\u001b[38;5;124m'\u001b[39m, \u001b[38;5;124m'\u001b[39m\u001b[38;5;124minline\u001b[39m\u001b[38;5;124m'\u001b[39m)\n",
      "File \u001b[0;32m~/.mylib/miniconda3/envs/3ML/lib/python3.9/site-packages/WCDA_hal/HAL.py:66\u001b[0m, in \u001b[0;36mHAL.__init__\u001b[0;34m(self, name, maptree, response_file, roi, flat_sky_pixels_size)\u001b[0m\n\u001b[1;32m     63\u001b[0m \u001b[38;5;28mself\u001b[39m\u001b[38;5;241m.\u001b[39m_maptree \u001b[38;5;241m=\u001b[39m map_tree_factory(maptree, roi\u001b[38;5;241m=\u001b[39mroi)\n\u001b[1;32m     65\u001b[0m \u001b[38;5;66;03m# Read detector response_file\u001b[39;00m\n\u001b[0;32m---> 66\u001b[0m \u001b[38;5;28mself\u001b[39m\u001b[38;5;241m.\u001b[39m_response \u001b[38;5;241m=\u001b[39m \u001b[43mWCDA_response_factory\u001b[49m\u001b[43m(\u001b[49m\u001b[43mresponse_file\u001b[49m\u001b[43m)\u001b[49m\n\u001b[1;32m     68\u001b[0m \u001b[38;5;66;03m# Use a renormalization of the background as nuisance parameter\u001b[39;00m\n\u001b[1;32m     69\u001b[0m \u001b[38;5;66;03m# NOTE: it is fixed to 1.0 unless the user explicitly sets it free (experimental)\u001b[39;00m\n\u001b[1;32m     70\u001b[0m \u001b[38;5;28mself\u001b[39m\u001b[38;5;241m.\u001b[39m_nuisance_parameters \u001b[38;5;241m=\u001b[39m collections\u001b[38;5;241m.\u001b[39mOrderedDict()\n",
      "File \u001b[0;32m~/.mylib/miniconda3/envs/3ML/lib/python3.9/site-packages/WCDA_hal/response/response.py:49\u001b[0m, in \u001b[0;36mWCDA_response_factory\u001b[0;34m(response_file_name)\u001b[0m\n\u001b[1;32m     45\u001b[0m extension \u001b[38;5;241m=\u001b[39m os\u001b[38;5;241m.\u001b[39mpath\u001b[38;5;241m.\u001b[39msplitext(response_file_name)[\u001b[38;5;241m-\u001b[39m\u001b[38;5;241m1\u001b[39m]\n\u001b[1;32m     47\u001b[0m \u001b[38;5;28;01mif\u001b[39;00m extension \u001b[38;5;241m==\u001b[39m \u001b[38;5;124m\"\u001b[39m\u001b[38;5;124m.root\u001b[39m\u001b[38;5;124m\"\u001b[39m:\n\u001b[0;32m---> 49\u001b[0m     new_instance \u001b[38;5;241m=\u001b[39m \u001b[43mWCDAResponse\u001b[49m\u001b[38;5;241;43m.\u001b[39;49m\u001b[43mfrom_root_file\u001b[49m\u001b[43m(\u001b[49m\u001b[43mresponse_file_name\u001b[49m\u001b[43m)\u001b[49m\n\u001b[1;32m     51\u001b[0m \u001b[38;5;28;01melif\u001b[39;00m extension \u001b[38;5;129;01min\u001b[39;00m [\u001b[38;5;124m'\u001b[39m\u001b[38;5;124m.hd5\u001b[39m\u001b[38;5;124m'\u001b[39m, \u001b[38;5;124m'\u001b[39m\u001b[38;5;124m.hdf5\u001b[39m\u001b[38;5;124m'\u001b[39m, \u001b[38;5;124m'\u001b[39m\u001b[38;5;124m.hdf\u001b[39m\u001b[38;5;124m'\u001b[39m]:\n\u001b[1;32m     53\u001b[0m     new_instance \u001b[38;5;241m=\u001b[39m WCDAResponse\u001b[38;5;241m.\u001b[39mfrom_hdf5(response_file_name)\n",
      "File \u001b[0;32m~/.mylib/miniconda3/envs/3ML/lib/python3.9/site-packages/WCDA_hal/response/response.py:248\u001b[0m, in \u001b[0;36mWCDAResponse.from_root_file\u001b[0;34m(cls, response_file_name)\u001b[0m\n\u001b[1;32m    245\u001b[0m     response_bins_ids \u001b[38;5;241m=\u001b[39m \u001b[38;5;28mlist\u001b[39m(\u001b[38;5;28mrange\u001b[39m(n_energy_bins))\n\u001b[1;32m    247\u001b[0m \u001b[38;5;28;01mfor\u001b[39;00m response_bin_id \u001b[38;5;129;01min\u001b[39;00m response_bins_ids:\n\u001b[0;32m--> 248\u001b[0m     this_response_bin \u001b[38;5;241m=\u001b[39m \u001b[43mResponseBin\u001b[49m\u001b[38;5;241;43m.\u001b[39;49m\u001b[43mfrom_ttree\u001b[49m\u001b[43m(\u001b[49m\u001b[43mroot_file\u001b[49m\u001b[43m,\u001b[49m\u001b[43m \u001b[49m\u001b[43mdec_id\u001b[49m\u001b[43m,\u001b[49m\u001b[43m \u001b[49m\u001b[43mresponse_bin_id\u001b[49m\u001b[43m,\u001b[49m\u001b[43m \u001b[49m\u001b[43mlog_log_spectrum\u001b[49m\u001b[43m,\u001b[49m\n\u001b[1;32m    249\u001b[0m \u001b[43m                                               \u001b[49m\u001b[43mmin_dec\u001b[49m\u001b[43m,\u001b[49m\u001b[43m \u001b[49m\u001b[43mdec_center\u001b[49m\u001b[43m,\u001b[49m\u001b[43m \u001b[49m\u001b[43mmax_dec\u001b[49m\u001b[43m)\u001b[49m\n\u001b[1;32m    251\u001b[0m     this_response_bins[response_bin_id] \u001b[38;5;241m=\u001b[39m this_response_bin\n\u001b[1;32m    253\u001b[0m response_bins[dec_bins[dec_id][\u001b[38;5;241m1\u001b[39m]] \u001b[38;5;241m=\u001b[39m this_response_bins\n",
      "File \u001b[0;32m~/.mylib/miniconda3/envs/3ML/lib/python3.9/site-packages/WCDA_hal/response/response_bin.py:108\u001b[0m, in \u001b[0;36mResponseBin.from_ttree\u001b[0;34m(cls, open_ttree, dec_id, analysis_bin_id, log_log_spectrum, min_dec, dec_center, max_dec)\u001b[0m\n\u001b[1;32m    104\u001b[0m psf_label_tf1 \u001b[38;5;241m=\u001b[39m \u001b[38;5;124m\"\u001b[39m\u001b[38;5;124mPSF_dec\u001b[39m\u001b[38;5;132;01m%i\u001b[39;00m\u001b[38;5;124m_nh\u001b[39m\u001b[38;5;132;01m%s\u001b[39;00m\u001b[38;5;124m_fit\u001b[39m\u001b[38;5;124m\"\u001b[39m \u001b[38;5;241m%\u001b[39m (dec_id, analysis_bin_id)\n\u001b[1;32m    106\u001b[0m tf1 \u001b[38;5;241m=\u001b[39m open_ttree\u001b[38;5;241m.\u001b[39mFindObjectAny(psf_label_tf1)\n\u001b[0;32m--> 108\u001b[0m psf_fun \u001b[38;5;241m=\u001b[39m \u001b[43mPSFWrapper\u001b[49m\u001b[38;5;241;43m.\u001b[39;49m\u001b[43mfrom_TF1\u001b[49m\u001b[43m(\u001b[49m\u001b[43mtf1\u001b[49m\u001b[43m)\u001b[49m\n\u001b[1;32m    110\u001b[0m \u001b[38;5;28;01mreturn\u001b[39;00m \u001b[38;5;28mcls\u001b[39m(analysis_bin_id, min_dec, max_dec, dec_center, sim_n_sig_events, sim_n_bg_events,\n\u001b[1;32m    111\u001b[0m            sim_energy_bin_low,\n\u001b[1;32m    112\u001b[0m            sim_energy_bin_centers,\n\u001b[1;32m    113\u001b[0m            sim_energy_bin_hi,\n\u001b[1;32m    114\u001b[0m            sim_differential_photon_fluxes, sim_signal_events_per_bin,\n\u001b[1;32m    115\u001b[0m            psf_fun)\n",
      "File \u001b[0;32m~/.mylib/miniconda3/envs/3ML/lib/python3.9/site-packages/WCDA_hal/psf_fast/psf_wrapper.py:155\u001b[0m, in \u001b[0;36mPSFWrapper.from_TF1\u001b[0;34m(cls, tf1_instance)\u001b[0m\n\u001b[1;32m    149\u001b[0m \u001b[38;5;129m@classmethod\u001b[39m\n\u001b[1;32m    150\u001b[0m \u001b[38;5;28;01mdef\u001b[39;00m \u001b[38;5;21mfrom_TF1\u001b[39m(\u001b[38;5;28mcls\u001b[39m, tf1_instance):\n\u001b[1;32m    151\u001b[0m \n\u001b[1;32m    152\u001b[0m     \u001b[38;5;66;03m# Annoyingly, some PSFs for some Dec bins (at large Zenith angles) have\u001b[39;00m\n\u001b[1;32m    153\u001b[0m     \u001b[38;5;66;03m# zero or negative integrals, i.e., they are useless. Return an unusable PSF\u001b[39;00m\n\u001b[1;32m    154\u001b[0m     \u001b[38;5;66;03m# object in that case\u001b[39;00m\n\u001b[0;32m--> 155\u001b[0m     \u001b[38;5;28;01mif\u001b[39;00m \u001b[43mtf1_instance\u001b[49m\u001b[38;5;241;43m.\u001b[39;49m\u001b[43mIntegral\u001b[49m\u001b[43m(\u001b[49m\u001b[38;5;241;43m0\u001b[39;49m\u001b[43m,\u001b[49m\u001b[43m \u001b[49m\u001b[43m_INTEGRAL_OUTER_RADIUS\u001b[49m\u001b[43m)\u001b[49m \u001b[38;5;241m<\u001b[39m\u001b[38;5;241m=\u001b[39m \u001b[38;5;241m0.0\u001b[39m:\n\u001b[1;32m    157\u001b[0m         \u001b[38;5;28;01mreturn\u001b[39;00m InvalidPSF()\n\u001b[1;32m    159\u001b[0m     \u001b[38;5;66;03m# Make interpolation\u001b[39;00m\n",
      "\u001b[0;31mKeyboardInterrupt\u001b[0m: "
     ]
    },
    {
     "name": "stderr",
     "output_type": "stream",
     "text": [
      "Error in <TTreeFormula::Compile>:  Bad numerical expression : \"name\"\n",
      "cling::DynamicLibraryManager::loadLibrary(): libgsl.so.25: cannot open shared object file: No such file or directory\n",
      "Error in <TInterpreter::TCling::AutoLoad>: failure loading library libMathMore.so for ROOT::Math::GSLIntegrator\n",
      "cling::DynamicLibraryManager::loadLibrary(): libgsl.so.25: cannot open shared object file: No such file or directory\n",
      "Warning in <ROOT::Math::IntegratorOneDim::CreateIntegrator>: Error loading one dimensional GSL integrator - use Gauss integrator\n"
     ]
    }
   ],
   "source": [
    "%matplotlib inline\n",
    "#####   Data Initialize\n",
    "\n",
    "maptree = \"../../data/KM2A1234full_skymap_rcy.root\"\n",
    "response = \"../../data/KM2A1234full_mcpsf_DRfinal.root\"\n",
    "\n",
    "region_name=\"Diffuse_KM2A\"\n",
    "if not os.path.exists(f'../res/{region_name}/'):\n",
    "    os.system(f'mkdir ../res/{region_name}/')\n",
    "\n",
    "nside=2**10\n",
    "npix=hp.nside2npix(nside)\n",
    "pixarea = 4 * np.pi/npix\n",
    "\n",
    "pixIdx = hp.nside2npix(nside) # number of pixels I can get from this nside\n",
    "pixIdx = np.arange(pixIdx) # pixel index numbers\n",
    "new_lats = hp.pix2ang(nside, pixIdx)[0] # thetas I need to populate with interpolated theta values\n",
    "new_lons = hp.pix2ang(nside, pixIdx)[1] # phis, same\n",
    "c_icrs = SkyCoord(ra=new_lons*180/np.pi*u.degree, dec=90*u.degree-new_lats*180/np.pi*u.degree, frame='icrs')\n",
    "c_l=c_icrs.galactic.l.deg\n",
    "c_b=c_icrs.galactic.b.deg\n",
    "\n",
    "resultsall = []\n",
    "for i,gl in enumerate(tqdm(range(15,365,10))):\n",
    "    c_gal = SkyCoord(l=(gl)*u.degree, b=0*u.degree, frame='galactic')\n",
    "    RA_center=c_gal.icrs.ra.deg\n",
    "    Dec_center=c_gal.icrs.dec.deg\n",
    "    if (Dec_center<-20. or Dec_center>80.): continue\n",
    "    signal=np.zeros(npix,dtype=np.float64)\n",
    "    mask = ( (c_l< gl + 5) & (c_l > gl - 5) & (c_b <5.) & (c_b>-5) & (90-new_lats/np.pi*180>-20) & (90-new_lats/np.pi*180<80)) #&(new_lats<110/180*np.pi )  & (new_lats > 10/180*np.pi )\n",
    "        \n",
    "    signal[mask]=1\n",
    "    ra1,dec1=RA_center, Dec_center\n",
    "\n",
    "    data_radius = 6.0\n",
    "    model_radius = 8.0\n",
    "\n",
    "    roi = HealpixMapROI(ra=ra1,dec=dec1, data_radius=data_radius, model_radius=model_radius, roimap=signal)\n",
    "\n",
    "    KM2A = HAL(\"KM2A\", maptree, response, roi, flat_sky_pixels_size=0.17)\n",
    "\n",
    "    #####   Data Situation\n",
    "    %matplotlib inline\n",
    "    KM2A.set_active_measurements(4, 13)\n",
    "    KM2A.display()\n",
    "\n",
    "    fig = KM2A.display_stacked_image(smoothing_kernel_sigma=0.25)\n",
    "    fig.savefig(f\"../res/{region_name}/{Modelname}_counts_all.png\",dpi=300)\n",
    "\n",
    "    Modelname=f\"roi_{gl - 5}-{gl + 5}\"\n",
    "    lm = my.getcatModel(ra1, dec1, data_radius, model_radius, rtsigma=2,  detector=\"KM2A\", roi=roi, pf=True)\n",
    "\n",
    "    Diffuse = my.set_diffusebkg(\n",
    "                ra1, dec1, 7, 7, Kf=False, indexf=False, piv=50\n",
    "                )\n",
    "    \n",
    "    lm.add_source(Diffuse)\n",
    "\n",
    "    lm.save(f\"../res/{region_name}/{Modelname}/Model_init.yml\", overwrite=True)\n",
    "    lm.display(complete=True)\n",
    "\n",
    "    result = my.fit(region_name, Modelname, KM2A, lm, 4, 13, mini=\"ROOT\")\n",
    "    sources = my.get_sources(lm,result)\n",
    "    resultsall.append([result, sources])\n",
    "\n",
    "    resu = my.getressimple(KM2A, lm)\n",
    "    new_source_idx = np.where(resu==np.ma.max(resu))[0][0]\n",
    "    new_source_lon_lat=hp.pix2ang(1024,new_source_idx,lonlat=True)\n",
    "    print(new_source_lon_lat)\n",
    "\n",
    "    plt.figure()\n",
    "    hp.gnomview(resu,norm='',rot=[ra1,dec1],xsize=200,ysize=200,reso=6,title=Modelname)\n",
    "    plt.scatter(new_source_lon_lat[0],new_source_lon_lat[1],marker='x',color='red')\n",
    "    plt.show()\n",
    "    plt.savefig(f\"../res/{region_name}/{Modelname}_res.png\",dpi=300)\n",
    "\n",
    "    map2, skymapHeader = hp.read_map(\"../../data/fullsky_KM2A_llh-3.5_new.fits.gz\",h=True)\n",
    "    map2 = my.maskroi(map2, roi)\n",
    "    sources.pop(\"Diffuse\")\n",
    "    fig = my.drawmap(region_name, Modelname, sources, map2, ra1, dec1, rad=2*data_radius, contours=[10000],save=1, \n",
    "                    color=\"Fermi\"\n",
    "                    )\n"
   ]
  },
  {
   "cell_type": "code",
   "execution_count": 96,
   "metadata": {},
   "outputs": [],
   "source": [
    "gc = []\n",
    "dk = []\n",
    "de = []\n",
    "di = []\n",
    "die = []\n",
    "den = []\n",
    "dep = []\n",
    "dien = []\n",
    "diep = []\n",
    "for i in range(len(resultsall)):\n",
    "    gc.append(range(15,365,10)[i])\n",
    "    dk.append(resultsall[i][0][1][0].loc[\"Diffuse.spectrum.main.Powerlaw.K\"][\"value\"])\n",
    "    de.append(resultsall[i][0][1][0].loc[\"Diffuse.spectrum.main.Powerlaw.K\"][\"error\"])\n",
    "    den.append(abs(resultsall[i][0][1][0].loc[\"Diffuse.spectrum.main.Powerlaw.K\"][\"negative_error\"]))\n",
    "    dep.append(abs(resultsall[i][0][1][0].loc[\"Diffuse.spectrum.main.Powerlaw.K\"][\"positive_error\"]))\n",
    "    di.append(resultsall[i][0][1][0].loc[\"Diffuse.spectrum.main.Powerlaw.index\"][\"value\"])\n",
    "    die.append(resultsall[i][0][1][0].loc[\"Diffuse.spectrum.main.Powerlaw.index\"][\"error\"])\n",
    "    dien.append(abs(resultsall[i][0][1][0].loc[\"Diffuse.spectrum.main.Powerlaw.index\"][\"negative_error\"]))\n",
    "    diep.append(abs(resultsall[i][0][1][0].loc[\"Diffuse.spectrum.main.Powerlaw.index\"][\"positive_error\"]))\n",
    "results=[gc,dk,de,den,dep,di,die,dien,diep]\n",
    "np.save(f\"../res/{region_name}/resultsall.npy\",results)"
   ]
  },
  {
   "cell_type": "code",
   "execution_count": 115,
   "metadata": {},
   "outputs": [
    {
     "data": {
      "text/plain": [
       "Text(0.5, 0, '$GLON^{o}$')"
      ]
     },
     "execution_count": 115,
     "metadata": {},
     "output_type": "execute_result"
    },
    {
     "data": {
      "image/png": "[encoded data removed]",
      "text/plain": [
       "<Figure size 1000x400 with 1 Axes>"
      ]
     },
     "metadata": {},
     "output_type": "display_data"
    }
   ],
   "source": [
    "plt.figure(figsize=(10,4))\n",
    "plt.errorbar(gc, np.array(dk)*1e9, [np.array(den)*1e9, np.array(dep)*1e9], fmt=\"o\")\n",
    "plt.yscale(\"log\")\n",
    "plt.title(\"Flux\")\n",
    "plt.ylabel(r\"$1/(TeV cm^{2} s)$\")\n",
    "plt.grid()\n",
    "plt.xlabel(r\"$GLON^{o}$\")"
   ]
  },
  {
   "cell_type": "code",
   "execution_count": 112,
   "metadata": {},
   "outputs": [
    {
     "data": {
      "image/png": "[encoded data removed]",
      "text/plain": [
       "<Figure size 1000x400 with 1 Axes>"
      ]
     },
     "metadata": {},
     "output_type": "display_data"
    }
   ],
   "source": [
    "plt.figure(figsize=(10,4))\n",
    "plt.errorbar(gc, di, [die, diep], fmt=\"o\")\n",
    "plt.ylim(-1,-4)\n",
    "plt.title(\"Index\")\n",
    "plt.ylabel(r\"$index$\")\n",
    "plt.xlabel(r\"$GLON^{o}$\")\n",
    "plt.grid()"
   ]
  },
  {
   "cell_type": "code",
   "execution_count": null,
   "metadata": {},
   "outputs": [],
   "source": []
  }
 ],
 "metadata": {
  "kernelspec": {
   "display_name": "3ML",
   "language": "python",
   "name": "python3"
  },
  "language_info": {
   "codemirror_mode": {
    "name": "ipython",
    "version": 3
   },
   "file_extension": ".py",
   "mimetype": "text/x-python",
   "name": "python",
   "nbconvert_exporter": "python",
   "pygments_lexer": "ipython3",
   "version": "3.9.15"
  }
 },
 "nbformat": 4,
 "nbformat_minor": 2
}
