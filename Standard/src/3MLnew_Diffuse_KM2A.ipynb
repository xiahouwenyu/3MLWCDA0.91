{
 "cells": [
  {
   "cell_type": "code",
   "execution_count": 1,
   "metadata": {},
   "outputs": [
    {
     "name": "stdout",
     "output_type": "stream",
     "text": [
      "Welcome to JupyROOT 6.24/06\n"
     ]
    },
    {
     "data": {
      "text/html": [
       "<pre style=\"white-space:pre;overflow-x:auto;line-height:normal;font-family:Menlo,'DejaVu Sans Mono',consolas,'Courier New',monospace\"><span style=\"color: #00ff00; text-decoration-color: #00ff00\">23:50:22 </span><span style=\"color: #af5fd7; text-decoration-color: #af5fd7\">WARNING </span> <span style=\"color: #c6c6c6; text-decoration-color: #c6c6c6; font-weight: bold\"> The GSL library or the pygsl wrapper cannot be loaded. Models that depend on it  </span><a href=\"file:///data/home/cwy/.mylib/miniconda3/envs/3ML/lib/python3.9/site-packages/astromodels/functions/functions_1D/functions.py\" target=\"_blank\"><span style=\"color: #7f7f7f; text-decoration-color: #7f7f7f\">functions.py</span></a><span style=\"color: #7f7f7f; text-decoration-color: #7f7f7f\">:</span><a href=\"file:///data/home/cwy/.mylib/miniconda3/envs/3ML/lib/python3.9/site-packages/astromodels/functions/functions_1D/functions.py#71\" target=\"_blank\"><span style=\"color: #7f7f7f; text-decoration-color: #7f7f7f\">71</span></a>\n",
       "<span style=\"color: #00ff00; text-decoration-color: #00ff00\">         </span>         <span style=\"color: #c6c6c6; text-decoration-color: #c6c6c6; font-weight: bold\">will not be available.                                                            </span><span style=\"color: #7f7f7f; text-decoration-color: #7f7f7f\">               </span>\n",
       "</pre>\n"
      ],
      "text/plain": [
       "\u001b[38;5;46m23:50:22\u001b[0m\u001b[38;5;46m \u001b[0m\u001b[38;5;134mWARNING \u001b[0m \u001b[1;38;5;251m The GSL library or the pygsl wrapper cannot be loaded. Models that depend on it \u001b[0m\u001b[1;38;5;251m \u001b[0m\u001b]8;id=531126;file:///data/home/cwy/.mylib/miniconda3/envs/3ML/lib/python3.9/site-packages/astromodels/functions/functions_1D/functions.py\u001b\\\u001b[2mfunctions.py\u001b[0m\u001b]8;;\u001b\\\u001b[2m:\u001b[0m\u001b]8;id=507640;file:///data/home/cwy/.mylib/miniconda3/envs/3ML/lib/python3.9/site-packages/astromodels/functions/functions_1D/functions.py#71\u001b\\\u001b[2m71\u001b[0m\u001b]8;;\u001b\\\n",
       "\u001b[38;5;46m         \u001b[0m         \u001b[1;38;5;251mwill not be available.                                                           \u001b[0m\u001b[1;38;5;251m \u001b[0m\u001b[2m               \u001b[0m\n"
      ]
     },
     "metadata": {},
     "output_type": "display_data"
    },
    {
     "name": "stderr",
     "output_type": "stream",
     "text": [
      "/data/home/cwy/.mylib/miniconda3/envs/3ML/lib/python3.9/site-packages/numba/core/decorators.py:262: NumbaDeprecationWarning: \u001b[1mnumba.generated_jit is deprecated. Please see the documentation at: https://numba.readthedocs.io/en/stable/reference/deprecation.html#deprecation-of-generated-jit for more information and advice on a suitable replacement.\u001b[0m\n",
      "  warnings.warn(msg, NumbaDeprecationWarning)\n",
      "/data/home/cwy/.mylib/miniconda3/envs/3ML/lib/python3.9/site-packages/numba/core/decorators.py:262: NumbaDeprecationWarning: \u001b[1mnumba.generated_jit is deprecated. Please see the documentation at: https://numba.readthedocs.io/en/stable/reference/deprecation.html#deprecation-of-generated-jit for more information and advice on a suitable replacement.\u001b[0m\n",
      "  warnings.warn(msg, NumbaDeprecationWarning)\n"
     ]
    },
    {
     "data": {
      "text/html": [
       "<pre style=\"white-space:pre;overflow-x:auto;line-height:normal;font-family:Menlo,'DejaVu Sans Mono',consolas,'Courier New',monospace\"><span style=\"color: #00ff00; text-decoration-color: #00ff00\">23:50:27 </span><span style=\"color: #00ffaf; text-decoration-color: #00ffaf\">INFO    </span> <span style=\"color: #c6c6c6; text-decoration-color: #c6c6c6; font-weight: bold\"> Starting 3ML!                                                                     </span><a href=\"file:///data/home/cwy/.mylib/miniconda3/envs/3ML/lib/python3.9/site-packages/threeML/__init__.py\" target=\"_blank\"><span style=\"color: #7f7f7f; text-decoration-color: #7f7f7f\">__init__.py</span></a><span style=\"color: #7f7f7f; text-decoration-color: #7f7f7f\">:</span><a href=\"file:///data/home/cwy/.mylib/miniconda3/envs/3ML/lib/python3.9/site-packages/threeML/__init__.py#35\" target=\"_blank\"><span style=\"color: #7f7f7f; text-decoration-color: #7f7f7f\">35</span></a>\n",
       "</pre>\n"
      ],
      "text/plain": [
       "\u001b[38;5;46m23:50:27\u001b[0m\u001b[38;5;46m \u001b[0m\u001b[38;5;49mINFO    \u001b[0m \u001b[1;38;5;251m Starting 3ML!                                                                    \u001b[0m\u001b[1;38;5;251m \u001b[0m\u001b]8;id=619207;file:///data/home/cwy/.mylib/miniconda3/envs/3ML/lib/python3.9/site-packages/threeML/__init__.py\u001b\\\u001b[2m__init__.py\u001b[0m\u001b]8;;\u001b\\\u001b[2m:\u001b[0m\u001b]8;id=566990;file:///data/home/cwy/.mylib/miniconda3/envs/3ML/lib/python3.9/site-packages/threeML/__init__.py#35\u001b\\\u001b[2m35\u001b[0m\u001b]8;;\u001b\\\n"
      ]
     },
     "metadata": {},
     "output_type": "display_data"
    },
    {
     "data": {
      "text/html": [
       "<pre style=\"white-space:pre;overflow-x:auto;line-height:normal;font-family:Menlo,'DejaVu Sans Mono',consolas,'Courier New',monospace\"><span style=\"color: #00ff00; text-decoration-color: #00ff00\">         </span><span style=\"color: #af5fd7; text-decoration-color: #af5fd7\">WARNING </span> <span style=\"color: #c6c6c6; text-decoration-color: #c6c6c6; font-weight: bold\"> WARNINGs here are </span><span style=\"color: #800000; text-decoration-color: #800000; font-weight: bold\">NOT</span><span style=\"color: #c6c6c6; text-decoration-color: #c6c6c6; font-weight: bold\"> errors                                                      </span><a href=\"file:///data/home/cwy/.mylib/miniconda3/envs/3ML/lib/python3.9/site-packages/threeML/__init__.py\" target=\"_blank\"><span style=\"color: #7f7f7f; text-decoration-color: #7f7f7f\">__init__.py</span></a><span style=\"color: #7f7f7f; text-decoration-color: #7f7f7f\">:</span><a href=\"file:///data/home/cwy/.mylib/miniconda3/envs/3ML/lib/python3.9/site-packages/threeML/__init__.py#36\" target=\"_blank\"><span style=\"color: #7f7f7f; text-decoration-color: #7f7f7f\">36</span></a>\n",
       "</pre>\n"
      ],
      "text/plain": [
       "\u001b[38;5;46m        \u001b[0m\u001b[38;5;46m \u001b[0m\u001b[38;5;134mWARNING \u001b[0m \u001b[1;38;5;251m WARNINGs here are \u001b[0m\u001b[1;31mNOT\u001b[0m\u001b[1;38;5;251m errors                                                     \u001b[0m\u001b[1;38;5;251m \u001b[0m\u001b]8;id=371177;file:///data/home/cwy/.mylib/miniconda3/envs/3ML/lib/python3.9/site-packages/threeML/__init__.py\u001b\\\u001b[2m__init__.py\u001b[0m\u001b]8;;\u001b\\\u001b[2m:\u001b[0m\u001b]8;id=621474;file:///data/home/cwy/.mylib/miniconda3/envs/3ML/lib/python3.9/site-packages/threeML/__init__.py#36\u001b\\\u001b[2m36\u001b[0m\u001b]8;;\u001b\\\n"
      ]
     },
     "metadata": {},
     "output_type": "display_data"
    },
    {
     "data": {
      "text/html": [
       "<pre style=\"white-space:pre;overflow-x:auto;line-height:normal;font-family:Menlo,'DejaVu Sans Mono',consolas,'Courier New',monospace\"><span style=\"color: #00ff00; text-decoration-color: #00ff00\">         </span><span style=\"color: #af5fd7; text-decoration-color: #af5fd7\">WARNING </span> <span style=\"color: #c6c6c6; text-decoration-color: #c6c6c6; font-weight: bold\"> but are inform you about optional packages that can be installed                  </span><a href=\"file:///data/home/cwy/.mylib/miniconda3/envs/3ML/lib/python3.9/site-packages/threeML/__init__.py\" target=\"_blank\"><span style=\"color: #7f7f7f; text-decoration-color: #7f7f7f\">__init__.py</span></a><span style=\"color: #7f7f7f; text-decoration-color: #7f7f7f\">:</span><a href=\"file:///data/home/cwy/.mylib/miniconda3/envs/3ML/lib/python3.9/site-packages/threeML/__init__.py#37\" target=\"_blank\"><span style=\"color: #7f7f7f; text-decoration-color: #7f7f7f\">37</span></a>\n",
       "</pre>\n"
      ],
      "text/plain": [
       "\u001b[38;5;46m        \u001b[0m\u001b[38;5;46m \u001b[0m\u001b[38;5;134mWARNING \u001b[0m \u001b[1;38;5;251m but are inform you about optional packages that can be installed                 \u001b[0m\u001b[1;38;5;251m \u001b[0m\u001b]8;id=335442;file:///data/home/cwy/.mylib/miniconda3/envs/3ML/lib/python3.9/site-packages/threeML/__init__.py\u001b\\\u001b[2m__init__.py\u001b[0m\u001b]8;;\u001b\\\u001b[2m:\u001b[0m\u001b]8;id=245030;file:///data/home/cwy/.mylib/miniconda3/envs/3ML/lib/python3.9/site-packages/threeML/__init__.py#37\u001b\\\u001b[2m37\u001b[0m\u001b]8;;\u001b\\\n"
      ]
     },
     "metadata": {},
     "output_type": "display_data"
    },
    {
     "data": {
      "text/html": [
       "<pre style=\"white-space:pre;overflow-x:auto;line-height:normal;font-family:Menlo,'DejaVu Sans Mono',consolas,'Courier New',monospace\"><span style=\"color: #00ff00; text-decoration-color: #00ff00\">         </span><span style=\"color: #af5fd7; text-decoration-color: #af5fd7\">WARNING </span> <span style=\"color: #c6c6c6; text-decoration-color: #c6c6c6; font-weight: bold\"> </span><span style=\"color: #800000; text-decoration-color: #800000; font-weight: bold\"> to disable these messages, turn off start_warning in your config file</span><span style=\"color: #c6c6c6; text-decoration-color: #c6c6c6; font-weight: bold\">            </span><a href=\"file:///data/home/cwy/.mylib/miniconda3/envs/3ML/lib/python3.9/site-packages/threeML/__init__.py\" target=\"_blank\"><span style=\"color: #7f7f7f; text-decoration-color: #7f7f7f\">__init__.py</span></a><span style=\"color: #7f7f7f; text-decoration-color: #7f7f7f\">:</span><a href=\"file:///data/home/cwy/.mylib/miniconda3/envs/3ML/lib/python3.9/site-packages/threeML/__init__.py#40\" target=\"_blank\"><span style=\"color: #7f7f7f; text-decoration-color: #7f7f7f\">40</span></a>\n",
       "</pre>\n"
      ],
      "text/plain": [
       "\u001b[38;5;46m        \u001b[0m\u001b[38;5;46m \u001b[0m\u001b[38;5;134mWARNING \u001b[0m \u001b[1;38;5;251m \u001b[0m\u001b[1;31m to disable these messages, turn off start_warning in your config file\u001b[0m\u001b[1;38;5;251m           \u001b[0m\u001b[1;38;5;251m \u001b[0m\u001b]8;id=541029;file:///data/home/cwy/.mylib/miniconda3/envs/3ML/lib/python3.9/site-packages/threeML/__init__.py\u001b\\\u001b[2m__init__.py\u001b[0m\u001b]8;;\u001b\\\u001b[2m:\u001b[0m\u001b]8;id=517853;file:///data/home/cwy/.mylib/miniconda3/envs/3ML/lib/python3.9/site-packages/threeML/__init__.py#40\u001b\\\u001b[2m40\u001b[0m\u001b]8;;\u001b\\\n"
      ]
     },
     "metadata": {},
     "output_type": "display_data"
    },
    {
     "data": {
      "text/html": [
       "<pre style=\"white-space:pre;overflow-x:auto;line-height:normal;font-family:Menlo,'DejaVu Sans Mono',consolas,'Courier New',monospace\"><span style=\"color: #00ff00; text-decoration-color: #00ff00\">23:50:30 </span><span style=\"color: #af5fd7; text-decoration-color: #af5fd7\">WARNING </span> <span style=\"color: #c6c6c6; text-decoration-color: #c6c6c6; font-weight: bold\"> The cthreeML package is not installed. You will not be able to use plugins which  </span><a href=\"file:///data/home/cwy/.mylib/miniconda3/envs/3ML/lib/python3.9/site-packages/threeML/__init__.py\" target=\"_blank\"><span style=\"color: #7f7f7f; text-decoration-color: #7f7f7f\">__init__.py</span></a><span style=\"color: #7f7f7f; text-decoration-color: #7f7f7f\">:</span><a href=\"file:///data/home/cwy/.mylib/miniconda3/envs/3ML/lib/python3.9/site-packages/threeML/__init__.py#94\" target=\"_blank\"><span style=\"color: #7f7f7f; text-decoration-color: #7f7f7f\">94</span></a>\n",
       "<span style=\"color: #00ff00; text-decoration-color: #00ff00\">         </span>         <span style=\"color: #c6c6c6; text-decoration-color: #c6c6c6; font-weight: bold\">require the C/C++ interface (currently HAWC)                                       </span><span style=\"color: #7f7f7f; text-decoration-color: #7f7f7f\">              </span>\n",
       "</pre>\n"
      ],
      "text/plain": [
       "\u001b[38;5;46m23:50:30\u001b[0m\u001b[38;5;46m \u001b[0m\u001b[38;5;134mWARNING \u001b[0m \u001b[1;38;5;251m The cthreeML package is not installed. You will not be able to use plugins which \u001b[0m\u001b[1;38;5;251m \u001b[0m\u001b]8;id=559966;file:///data/home/cwy/.mylib/miniconda3/envs/3ML/lib/python3.9/site-packages/threeML/__init__.py\u001b\\\u001b[2m__init__.py\u001b[0m\u001b]8;;\u001b\\\u001b[2m:\u001b[0m\u001b]8;id=657216;file:///data/home/cwy/.mylib/miniconda3/envs/3ML/lib/python3.9/site-packages/threeML/__init__.py#94\u001b\\\u001b[2m94\u001b[0m\u001b]8;;\u001b\\\n",
       "\u001b[38;5;46m         \u001b[0m         \u001b[1;38;5;251mrequire the C/C++ interface \u001b[0m\u001b[1;38;5;251m(\u001b[0m\u001b[1;38;5;251mcurrently HAWC\u001b[0m\u001b[1;38;5;251m)\u001b[0m\u001b[1;38;5;251m                                      \u001b[0m\u001b[1;38;5;251m \u001b[0m\u001b[2m              \u001b[0m\n"
      ]
     },
     "metadata": {},
     "output_type": "display_data"
    },
    {
     "data": {
      "text/html": [
       "<pre style=\"white-space:pre;overflow-x:auto;line-height:normal;font-family:Menlo,'DejaVu Sans Mono',consolas,'Courier New',monospace\"><span style=\"color: #00ff00; text-decoration-color: #00ff00\">         </span><span style=\"color: #af5fd7; text-decoration-color: #af5fd7\">WARNING </span> <span style=\"color: #c6c6c6; text-decoration-color: #c6c6c6; font-weight: bold\"> Could not import plugin FermiLATLike.py. Do you have the relative instrument     </span><a href=\"file:///data/home/cwy/.mylib/miniconda3/envs/3ML/lib/python3.9/site-packages/threeML/__init__.py\" target=\"_blank\"><span style=\"color: #7f7f7f; text-decoration-color: #7f7f7f\">__init__.py</span></a><span style=\"color: #7f7f7f; text-decoration-color: #7f7f7f\">:</span><a href=\"file:///data/home/cwy/.mylib/miniconda3/envs/3ML/lib/python3.9/site-packages/threeML/__init__.py#144\" target=\"_blank\"><span style=\"color: #7f7f7f; text-decoration-color: #7f7f7f\">144</span></a>\n",
       "<span style=\"color: #00ff00; text-decoration-color: #00ff00\">         </span>         <span style=\"color: #c6c6c6; text-decoration-color: #c6c6c6; font-weight: bold\">software installed and configured?                                                </span><span style=\"color: #7f7f7f; text-decoration-color: #7f7f7f\">               </span>\n",
       "</pre>\n"
      ],
      "text/plain": [
       "\u001b[38;5;46m        \u001b[0m\u001b[38;5;46m \u001b[0m\u001b[38;5;134mWARNING \u001b[0m \u001b[1;38;5;251m Could not import plugin FermiLATLike.py. Do you have the relative instrument    \u001b[0m\u001b[1;38;5;251m \u001b[0m\u001b]8;id=13452;file:///data/home/cwy/.mylib/miniconda3/envs/3ML/lib/python3.9/site-packages/threeML/__init__.py\u001b\\\u001b[2m__init__.py\u001b[0m\u001b]8;;\u001b\\\u001b[2m:\u001b[0m\u001b]8;id=86538;file:///data/home/cwy/.mylib/miniconda3/envs/3ML/lib/python3.9/site-packages/threeML/__init__.py#144\u001b\\\u001b[2m144\u001b[0m\u001b]8;;\u001b\\\n",
       "\u001b[38;5;46m         \u001b[0m         \u001b[1;38;5;251msoftware installed and configured?                                               \u001b[0m\u001b[1;38;5;251m \u001b[0m\u001b[2m               \u001b[0m\n"
      ]
     },
     "metadata": {},
     "output_type": "display_data"
    },
    {
     "data": {
      "text/html": [
       "<pre style=\"white-space:pre;overflow-x:auto;line-height:normal;font-family:Menlo,'DejaVu Sans Mono',consolas,'Courier New',monospace\"><span style=\"color: #00ff00; text-decoration-color: #00ff00\">         </span><span style=\"color: #af5fd7; text-decoration-color: #af5fd7\">WARNING </span> <span style=\"color: #c6c6c6; text-decoration-color: #c6c6c6; font-weight: bold\"> Could not import plugin HAWCLike.py. Do you have the relative instrument         </span><a href=\"file:///data/home/cwy/.mylib/miniconda3/envs/3ML/lib/python3.9/site-packages/threeML/__init__.py\" target=\"_blank\"><span style=\"color: #7f7f7f; text-decoration-color: #7f7f7f\">__init__.py</span></a><span style=\"color: #7f7f7f; text-decoration-color: #7f7f7f\">:</span><a href=\"file:///data/home/cwy/.mylib/miniconda3/envs/3ML/lib/python3.9/site-packages/threeML/__init__.py#144\" target=\"_blank\"><span style=\"color: #7f7f7f; text-decoration-color: #7f7f7f\">144</span></a>\n",
       "<span style=\"color: #00ff00; text-decoration-color: #00ff00\">         </span>         <span style=\"color: #c6c6c6; text-decoration-color: #c6c6c6; font-weight: bold\">software installed and configured?                                                </span><span style=\"color: #7f7f7f; text-decoration-color: #7f7f7f\">               </span>\n",
       "</pre>\n"
      ],
      "text/plain": [
       "\u001b[38;5;46m        \u001b[0m\u001b[38;5;46m \u001b[0m\u001b[38;5;134mWARNING \u001b[0m \u001b[1;38;5;251m Could not import plugin HAWCLike.py. Do you have the relative instrument        \u001b[0m\u001b[1;38;5;251m \u001b[0m\u001b]8;id=190187;file:///data/home/cwy/.mylib/miniconda3/envs/3ML/lib/python3.9/site-packages/threeML/__init__.py\u001b\\\u001b[2m__init__.py\u001b[0m\u001b]8;;\u001b\\\u001b[2m:\u001b[0m\u001b]8;id=239296;file:///data/home/cwy/.mylib/miniconda3/envs/3ML/lib/python3.9/site-packages/threeML/__init__.py#144\u001b\\\u001b[2m144\u001b[0m\u001b]8;;\u001b\\\n",
       "\u001b[38;5;46m         \u001b[0m         \u001b[1;38;5;251msoftware installed and configured?                                               \u001b[0m\u001b[1;38;5;251m \u001b[0m\u001b[2m               \u001b[0m\n"
      ]
     },
     "metadata": {},
     "output_type": "display_data"
    },
    {
     "data": {
      "text/html": [
       "<pre style=\"white-space:pre;overflow-x:auto;line-height:normal;font-family:Menlo,'DejaVu Sans Mono',consolas,'Courier New',monospace\"><span style=\"color: #00ff00; text-decoration-color: #00ff00\">23:50:33 </span><span style=\"color: #af5fd7; text-decoration-color: #af5fd7\">WARNING </span> <span style=\"color: #c6c6c6; text-decoration-color: #c6c6c6; font-weight: bold\"> No fermitools installed                                              </span><a href=\"file:///data/home/cwy/.mylib/miniconda3/envs/3ML/lib/python3.9/site-packages/threeML/utils/data_builders/fermi/lat_transient_builder.py\" target=\"_blank\"><span style=\"color: #7f7f7f; text-decoration-color: #7f7f7f\">lat_transient_builder.py</span></a><span style=\"color: #7f7f7f; text-decoration-color: #7f7f7f\">:</span><a href=\"file:///data/home/cwy/.mylib/miniconda3/envs/3ML/lib/python3.9/site-packages/threeML/utils/data_builders/fermi/lat_transient_builder.py#44\" target=\"_blank\"><span style=\"color: #7f7f7f; text-decoration-color: #7f7f7f\">44</span></a>\n",
       "</pre>\n"
      ],
      "text/plain": [
       "\u001b[38;5;46m23:50:33\u001b[0m\u001b[38;5;46m \u001b[0m\u001b[38;5;134mWARNING \u001b[0m \u001b[1;38;5;251m No fermitools installed                                             \u001b[0m\u001b[1;38;5;251m \u001b[0m\u001b]8;id=92308;file:///data/home/cwy/.mylib/miniconda3/envs/3ML/lib/python3.9/site-packages/threeML/utils/data_builders/fermi/lat_transient_builder.py\u001b\\\u001b[2mlat_transient_builder.py\u001b[0m\u001b]8;;\u001b\\\u001b[2m:\u001b[0m\u001b]8;id=61942;file:///data/home/cwy/.mylib/miniconda3/envs/3ML/lib/python3.9/site-packages/threeML/utils/data_builders/fermi/lat_transient_builder.py#44\u001b\\\u001b[2m44\u001b[0m\u001b]8;;\u001b\\\n"
      ]
     },
     "metadata": {},
     "output_type": "display_data"
    },
    {
     "name": "stderr",
     "output_type": "stream",
     "text": [
      "Load sub from Myspeedup: 100%|██████████| 37/37 [00:00<00:00, 40.40it/s]   "
     ]
    },
    {
     "name": "stdout",
     "output_type": "stream",
     "text": [
      "Yourlib init successfully!!!\n"
     ]
    }
   ],
   "source": [
    "import matplotlib, sys,  os\n",
    "os.environ['OPENBLAS_NUM_THREADS'] = '1'\n",
    "os.environ['OMP_NUM_THREADS'] = '1'\n",
    "os.environ['MKL_NUM_THREADS'] = '1'\n",
    "os.environ['NUMEXPR_NUM_THREADS'] = '1'\n",
    "os.environ[\"KMP_DUPLICATE_LIB_OK\"]=\"TRUE\"\n",
    "sys.path.append(\"./mylib/\")\n",
    "\n",
    "import numpy as np\n",
    "matplotlib.use('Agg')\n",
    "import matplotlib.pyplot as plt\n",
    "\n",
    "np.seterr(all=\"ignore\")\n",
    "from threeML import *\n",
    "from WCDA_hal import HAL, HealpixConeROI, HealpixMapROI\n",
    "import traceback\n",
    "silence_warnings()\n",
    "import warnings\n",
    "warnings.simplefilter(\"ignore\")\n",
    "silence_warnings()\n",
    "from threeML import silence_progress_bars, activate_progress_bars, toggle_progress_bars\n",
    "from threeML.utils.progress_bar import trange\n",
    "\n",
    "from astropy.io import fits\n",
    "from astropy.wcs import WCS\n",
    "from astropy.coordinates import SkyCoord\n",
    "from astropy import units as u\n",
    "# from astropy.visualization import astropy_mpl_style, imshAow_norm\n",
    "from astropy.coordinates import Angle\n",
    "\n",
    "import healpy as hp\n",
    "\n",
    "from tqdm import tqdm\n",
    "\n",
    "# from mylib import *\n",
    "import mylib as my\n",
    "from importlib import reload"
   ]
  },
  {
   "cell_type": "code",
   "execution_count": 2,
   "metadata": {},
   "outputs": [
    {
     "data": {
      "text/html": [
       "<pre style=\"white-space:pre;overflow-x:auto;line-height:normal;font-family:Menlo,'DejaVu Sans Mono',consolas,'Courier New',monospace\"><span style=\"color: #00ffaf; text-decoration-color: #00ffaf; font-weight: bold; text-decoration: underline\">Best fit values:</span>\n",
       "\n",
       "</pre>\n"
      ],
      "text/plain": [
       "\u001b[1;4;38;5;49mBest fit values:\u001b[0m\n",
       "\n"
      ]
     },
     "metadata": {},
     "output_type": "display_data"
    },
    {
     "data": {
      "text/html": [
       "<div>\n",
       "<style scoped>\n",
       "    .dataframe tbody tr th:only-of-type {\n",
       "        vertical-align: middle;\n",
       "    }\n",
       "\n",
       "    .dataframe tbody tr th {\n",
       "        vertical-align: top;\n",
       "    }\n",
       "\n",
       "    .dataframe thead th {\n",
       "        text-align: right;\n",
       "    }\n",
       "</style>\n",
       "<table border=\"1\" class=\"dataframe\">\n",
       "  <thead>\n",
       "    <tr style=\"text-align: right;\">\n",
       "      <th></th>\n",
       "      <th>result</th>\n",
       "      <th>unit</th>\n",
       "    </tr>\n",
       "    <tr>\n",
       "      <th>parameter</th>\n",
       "      <th></th>\n",
       "      <th></th>\n",
       "    </tr>\n",
       "  </thead>\n",
       "  <tbody>\n",
       "    <tr>\n",
       "      <th>Diffuse.spectrum.main.PowerlawM.K</th>\n",
       "      <td>(4.5 +/- 2.2) x 10^-24</td>\n",
       "      <td>1 / (keV s cm2)</td>\n",
       "    </tr>\n",
       "  </tbody>\n",
       "</table>\n",
       "</div>"
      ],
      "text/plain": [
       "                                                   result             unit\n",
       "parameter                                                                 \n",
       "Diffuse.spectrum.main.PowerlawM.K  (4.5 +/- 2.2) x 10^-24  1 / (keV s cm2)"
      ]
     },
     "metadata": {},
     "output_type": "display_data"
    },
    {
     "data": {
      "text/html": [
       "<pre style=\"white-space:pre;overflow-x:auto;line-height:normal;font-family:Menlo,'DejaVu Sans Mono',consolas,'Courier New',monospace\">\n",
       "<span style=\"color: #00ffaf; text-decoration-color: #00ffaf; font-weight: bold; text-decoration: underline\">Correlation matrix:</span>\n",
       "\n",
       "</pre>\n"
      ],
      "text/plain": [
       "\n",
       "\u001b[1;4;38;5;49mCorrelation matrix:\u001b[0m\n",
       "\n"
      ]
     },
     "metadata": {},
     "output_type": "display_data"
    },
    {
     "data": {
      "text/html": [
       "<div><table id=\"table139989835546480\">\n",
       "<tr><td>1.00</td></tr>\n",
       "</table></div>"
      ],
      "text/plain": [
       "1.00"
      ]
     },
     "metadata": {},
     "output_type": "display_data"
    },
    {
     "data": {
      "text/html": [
       "<pre style=\"white-space:pre;overflow-x:auto;line-height:normal;font-family:Menlo,'DejaVu Sans Mono',consolas,'Courier New',monospace\">\n",
       "<span style=\"color: #00ffaf; text-decoration-color: #00ffaf; font-weight: bold; text-decoration: underline\">Values of -log(likelihood) at the minimum:</span>\n",
       "\n",
       "</pre>\n"
      ],
      "text/plain": [
       "\n",
       "\u001b[1;4;38;5;49mValues of -\u001b[0m\u001b[1;4;38;5;49mlog\u001b[0m\u001b[1;4;38;5;49m(\u001b[0m\u001b[1;4;38;5;49mlikelihood\u001b[0m\u001b[1;4;38;5;49m)\u001b[0m\u001b[1;4;38;5;49m at the minimum:\u001b[0m\n",
       "\n"
      ]
     },
     "metadata": {},
     "output_type": "display_data"
    },
    {
     "data": {
      "text/html": [
       "<div>\n",
       "<style scoped>\n",
       "    .dataframe tbody tr th:only-of-type {\n",
       "        vertical-align: middle;\n",
       "    }\n",
       "\n",
       "    .dataframe tbody tr th {\n",
       "        vertical-align: top;\n",
       "    }\n",
       "\n",
       "    .dataframe thead th {\n",
       "        text-align: right;\n",
       "    }\n",
       "</style>\n",
       "<table border=\"1\" class=\"dataframe\">\n",
       "  <thead>\n",
       "    <tr style=\"text-align: right;\">\n",
       "      <th></th>\n",
       "      <th>-log(likelihood)</th>\n",
       "    </tr>\n",
       "  </thead>\n",
       "  <tbody>\n",
       "    <tr>\n",
       "      <th>WCDA</th>\n",
       "      <td>154.603909</td>\n",
       "    </tr>\n",
       "    <tr>\n",
       "      <th>total</th>\n",
       "      <td>154.603909</td>\n",
       "    </tr>\n",
       "  </tbody>\n",
       "</table>\n",
       "</div>"
      ],
      "text/plain": [
       "       -log(likelihood)\n",
       "WCDA         154.603909\n",
       "total        154.603909"
      ]
     },
     "metadata": {},
     "output_type": "display_data"
    },
    {
     "data": {
      "text/html": [
       "<pre style=\"white-space:pre;overflow-x:auto;line-height:normal;font-family:Menlo,'DejaVu Sans Mono',consolas,'Courier New',monospace\">\n",
       "<span style=\"color: #00ffaf; text-decoration-color: #00ffaf; font-weight: bold; text-decoration: underline\">Values of statistical measures:</span>\n",
       "\n",
       "</pre>\n"
      ],
      "text/plain": [
       "\n",
       "\u001b[1;4;38;5;49mValues of statistical measures:\u001b[0m\n",
       "\n"
      ]
     },
     "metadata": {},
     "output_type": "display_data"
    },
    {
     "data": {
      "text/html": [
       "<div>\n",
       "<style scoped>\n",
       "    .dataframe tbody tr th:only-of-type {\n",
       "        vertical-align: middle;\n",
       "    }\n",
       "\n",
       "    .dataframe tbody tr th {\n",
       "        vertical-align: top;\n",
       "    }\n",
       "\n",
       "    .dataframe thead th {\n",
       "        text-align: right;\n",
       "    }\n",
       "</style>\n",
       "<table border=\"1\" class=\"dataframe\">\n",
       "  <thead>\n",
       "    <tr style=\"text-align: right;\">\n",
       "      <th></th>\n",
       "      <th>statistical measures</th>\n",
       "    </tr>\n",
       "  </thead>\n",
       "  <tbody>\n",
       "    <tr>\n",
       "      <th>AIC</th>\n",
       "      <td>311.207828</td>\n",
       "    </tr>\n",
       "    <tr>\n",
       "      <th>BIC</th>\n",
       "      <td>322.171112</td>\n",
       "    </tr>\n",
       "  </tbody>\n",
       "</table>\n",
       "</div>"
      ],
      "text/plain": [
       "     statistical measures\n",
       "AIC            311.207828\n",
       "BIC            322.171112"
      ]
     },
     "metadata": {},
     "output_type": "display_data"
    },
    {
     "name": "stderr",
     "output_type": "stream",
     "text": [
      "\n",
      "100%|██████████| 7/7 [01:21<00:00, 11.65s/it]\n"
     ]
    },
    {
     "data": {
      "application/vnd.jupyter.widget-view+json": {
       "model_id": "a5480a4c811f4046af8e68a9c5ee33cd",
       "version_major": 2,
       "version_minor": 0
      },
      "text/plain": [
       "processing MLE analyses:   0%|          | 0/1 [00:00<?, ?it/s]"
      ]
     },
     "metadata": {},
     "output_type": "display_data"
    },
    {
     "data": {
      "application/vnd.jupyter.widget-view+json": {
       "model_id": "c2f470fb398e472995622f5dcd965bcd",
       "version_major": 2,
       "version_minor": 0
      },
      "text/plain": [
       "Propagating errors:   0%|          | 0/30 [00:00<?, ?it/s]"
      ]
     },
     "metadata": {},
     "output_type": "display_data"
    },
    {
     "name": "stderr",
     "output_type": "stream",
     "text": []
    },
    {
     "data": {
      "text/html": [
       "<pre style=\"white-space:pre;overflow-x:auto;line-height:normal;font-family:Menlo,'DejaVu Sans Mono',consolas,'Courier New',monospace\"><span style=\"color: #00ff00; text-decoration-color: #00ff00\">00:07:15 </span><span style=\"color: #00ffaf; text-decoration-color: #00ffaf\">INFO    </span> <span style=\"color: #c6c6c6; text-decoration-color: #c6c6c6; font-weight: bold\"> Region of Interest:                                                                   </span><a href=\"file:///data/home/cwy/.mylib/miniconda3/envs/3ML/lib/python3.9/site-packages/WCDA_hal/HAL.py\" target=\"_blank\"><span style=\"color: #7f7f7f; text-decoration-color: #7f7f7f\">HAL.py</span></a><span style=\"color: #7f7f7f; text-decoration-color: #7f7f7f\">:</span><a href=\"file:///data/home/cwy/.mylib/miniconda3/envs/3ML/lib/python3.9/site-packages/WCDA_hal/HAL.py#291\" target=\"_blank\"><span style=\"color: #7f7f7f; text-decoration-color: #7f7f7f\">291</span></a>\n",
       "</pre>\n"
      ],
      "text/plain": [
       "\u001b[38;5;46m00:07:15\u001b[0m\u001b[38;5;46m \u001b[0m\u001b[38;5;49mINFO    \u001b[0m \u001b[1;38;5;251m Region of Interest:                                                                  \u001b[0m\u001b[1;38;5;251m \u001b[0m\u001b]8;id=849463;file:///data/home/cwy/.mylib/miniconda3/envs/3ML/lib/python3.9/site-packages/WCDA_hal/HAL.py\u001b\\\u001b[2mHAL.py\u001b[0m\u001b]8;;\u001b\\\u001b[2m:\u001b[0m\u001b]8;id=641408;file:///data/home/cwy/.mylib/miniconda3/envs/3ML/lib/python3.9/site-packages/WCDA_hal/HAL.py#291\u001b\\\u001b[2m291\u001b[0m\u001b]8;;\u001b\\\n"
      ]
     },
     "metadata": {},
     "output_type": "display_data"
    },
    {
     "data": {
      "text/html": [
       "<pre style=\"white-space:pre;overflow-x:auto;line-height:normal;font-family:Menlo,'DejaVu Sans Mono',consolas,'Courier New',monospace\"><span style=\"color: #00ff00; text-decoration-color: #00ff00\">         </span><span style=\"color: #00ffaf; text-decoration-color: #00ffaf\">INFO    </span> <span style=\"color: #c6c6c6; text-decoration-color: #c6c6c6; font-weight: bold\"> -------------------                                                                   </span><a href=\"file:///data/home/cwy/.mylib/miniconda3/envs/3ML/lib/python3.9/site-packages/WCDA_hal/HAL.py\" target=\"_blank\"><span style=\"color: #7f7f7f; text-decoration-color: #7f7f7f\">HAL.py</span></a><span style=\"color: #7f7f7f; text-decoration-color: #7f7f7f\">:</span><a href=\"file:///data/home/cwy/.mylib/miniconda3/envs/3ML/lib/python3.9/site-packages/WCDA_hal/HAL.py#292\" target=\"_blank\"><span style=\"color: #7f7f7f; text-decoration-color: #7f7f7f\">292</span></a>\n",
       "</pre>\n"
      ],
      "text/plain": [
       "\u001b[38;5;46m        \u001b[0m\u001b[38;5;46m \u001b[0m\u001b[38;5;49mINFO    \u001b[0m \u001b[1;38;5;251m -------------------                                                                  \u001b[0m\u001b[1;38;5;251m \u001b[0m\u001b]8;id=515994;file:///data/home/cwy/.mylib/miniconda3/envs/3ML/lib/python3.9/site-packages/WCDA_hal/HAL.py\u001b\\\u001b[2mHAL.py\u001b[0m\u001b]8;;\u001b\\\u001b[2m:\u001b[0m\u001b]8;id=27270;file:///data/home/cwy/.mylib/miniconda3/envs/3ML/lib/python3.9/site-packages/WCDA_hal/HAL.py#292\u001b\\\u001b[2m292\u001b[0m\u001b]8;;\u001b\\\n"
      ]
     },
     "metadata": {},
     "output_type": "display_data"
    },
    {
     "data": {
      "text/html": [
       "<pre style=\"white-space:pre;overflow-x:auto;line-height:normal;font-family:Menlo,'DejaVu Sans Mono',consolas,'Courier New',monospace\"><span style=\"color: #00ff00; text-decoration-color: #00ff00\">         </span><span style=\"color: #00ffaf; text-decoration-color: #00ffaf\">INFO    </span> <span style=\"color: #c6c6c6; text-decoration-color: #c6c6c6; font-weight: bold\"> HealpixMapROI: Center (R.A., Dec) = (</span><span style=\"color: #c0c0c0; text-decoration-color: #c0c0c0; font-weight: bold\">283.803</span><span style=\"color: #c6c6c6; text-decoration-color: #c6c6c6; font-weight: bold\">, </span><span style=\"color: #c0c0c0; text-decoration-color: #c0c0c0; font-weight: bold\">1.840</span><span style=\"color: #c6c6c6; text-decoration-color: #c6c6c6; font-weight: bold\">), model radius: </span><span style=\"color: #c0c0c0; text-decoration-color: #c0c0c0; font-weight: bold\">8.000</span><span style=\"color: #c6c6c6; text-decoration-color: #c6c6c6; font-weight: bold\"> </span><a href=\"file:///data/home/cwy/.mylib/miniconda3/envs/3ML/lib/python3.9/site-packages/WCDA_hal/region_of_interest/healpix_map_roi.py\" target=\"_blank\"><span style=\"color: #7f7f7f; text-decoration-color: #7f7f7f\">healpix_map_roi.py</span></a><span style=\"color: #7f7f7f; text-decoration-color: #7f7f7f\">:</span><a href=\"file:///data/home/cwy/.mylib/miniconda3/envs/3ML/lib/python3.9/site-packages/WCDA_hal/region_of_interest/healpix_map_roi.py#134\" target=\"_blank\"><span style=\"color: #7f7f7f; text-decoration-color: #7f7f7f\">134</span></a>\n",
       "<span style=\"color: #00ff00; text-decoration-color: #00ff00\">         </span>         <span style=\"color: #c6c6c6; text-decoration-color: #c6c6c6; font-weight: bold\">deg, display radius: </span><span style=\"color: #c0c0c0; text-decoration-color: #c0c0c0; font-weight: bold\">6.000</span><span style=\"color: #c6c6c6; text-decoration-color: #c6c6c6; font-weight: bold\"> deg, threshold = </span><span style=\"color: #c0c0c0; text-decoration-color: #c0c0c0; font-weight: bold\">0.50</span><span style=\"color: #c6c6c6; text-decoration-color: #c6c6c6; font-weight: bold\">                           </span><span style=\"color: #7f7f7f; text-decoration-color: #7f7f7f\">                      </span>\n",
       "</pre>\n"
      ],
      "text/plain": [
       "\u001b[38;5;46m        \u001b[0m\u001b[38;5;46m \u001b[0m\u001b[38;5;49mINFO    \u001b[0m \u001b[1;38;5;251m HealpixMapROI: Center \u001b[0m\u001b[1;38;5;251m(\u001b[0m\u001b[1;38;5;251mR.A., Dec\u001b[0m\u001b[1;38;5;251m)\u001b[0m\u001b[1;38;5;251m = \u001b[0m\u001b[1;38;5;251m(\u001b[0m\u001b[1;37m283.803\u001b[0m\u001b[1;38;5;251m, \u001b[0m\u001b[1;37m1.840\u001b[0m\u001b[1;38;5;251m)\u001b[0m\u001b[1;38;5;251m, model radius: \u001b[0m\u001b[1;37m8.000\u001b[0m\u001b[1;38;5;251m \u001b[0m\u001b]8;id=880576;file:///data/home/cwy/.mylib/miniconda3/envs/3ML/lib/python3.9/site-packages/WCDA_hal/region_of_interest/healpix_map_roi.py\u001b\\\u001b[2mhealpix_map_roi.py\u001b[0m\u001b]8;;\u001b\\\u001b[2m:\u001b[0m\u001b]8;id=934451;file:///data/home/cwy/.mylib/miniconda3/envs/3ML/lib/python3.9/site-packages/WCDA_hal/region_of_interest/healpix_map_roi.py#134\u001b\\\u001b[2m134\u001b[0m\u001b]8;;\u001b\\\n",
       "\u001b[38;5;46m         \u001b[0m         \u001b[1;38;5;251mdeg, display radius: \u001b[0m\u001b[1;37m6.000\u001b[0m\u001b[1;38;5;251m deg, threshold = \u001b[0m\u001b[1;37m0.50\u001b[0m\u001b[1;38;5;251m                          \u001b[0m\u001b[1;38;5;251m \u001b[0m\u001b[2m                      \u001b[0m\n"
      ]
     },
     "metadata": {},
     "output_type": "display_data"
    },
    {
     "data": {
      "text/html": [
       "<pre style=\"white-space:pre;overflow-x:auto;line-height:normal;font-family:Menlo,'DejaVu Sans Mono',consolas,'Courier New',monospace\"><span style=\"color: #00ff00; text-decoration-color: #00ff00\">         </span><span style=\"color: #00ffaf; text-decoration-color: #00ffaf\">INFO    </span> <span style=\"color: #c6c6c6; text-decoration-color: #c6c6c6; font-weight: bold\">                                                                                       </span><a href=\"file:///data/home/cwy/.mylib/miniconda3/envs/3ML/lib/python3.9/site-packages/WCDA_hal/HAL.py\" target=\"_blank\"><span style=\"color: #7f7f7f; text-decoration-color: #7f7f7f\">HAL.py</span></a><span style=\"color: #7f7f7f; text-decoration-color: #7f7f7f\">:</span><a href=\"file:///data/home/cwy/.mylib/miniconda3/envs/3ML/lib/python3.9/site-packages/WCDA_hal/HAL.py#295\" target=\"_blank\"><span style=\"color: #7f7f7f; text-decoration-color: #7f7f7f\">295</span></a>\n",
       "</pre>\n"
      ],
      "text/plain": [
       "\u001b[38;5;46m        \u001b[0m\u001b[38;5;46m \u001b[0m\u001b[38;5;49mINFO    \u001b[0m \u001b[1;38;5;251m                                                                                      \u001b[0m\u001b[1;38;5;251m \u001b[0m\u001b]8;id=521661;file:///data/home/cwy/.mylib/miniconda3/envs/3ML/lib/python3.9/site-packages/WCDA_hal/HAL.py\u001b\\\u001b[2mHAL.py\u001b[0m\u001b]8;;\u001b\\\u001b[2m:\u001b[0m\u001b]8;id=137889;file:///data/home/cwy/.mylib/miniconda3/envs/3ML/lib/python3.9/site-packages/WCDA_hal/HAL.py#295\u001b\\\u001b[2m295\u001b[0m\u001b]8;;\u001b\\\n"
      ]
     },
     "metadata": {},
     "output_type": "display_data"
    },
    {
     "data": {
      "text/html": [
       "<pre style=\"white-space:pre;overflow-x:auto;line-height:normal;font-family:Menlo,'DejaVu Sans Mono',consolas,'Courier New',monospace\"><span style=\"color: #00ff00; text-decoration-color: #00ff00\">         </span><span style=\"color: #00ffaf; text-decoration-color: #00ffaf\">INFO    </span> <span style=\"color: #c6c6c6; text-decoration-color: #c6c6c6; font-weight: bold\"> Flat sky projection:                                                                  </span><a href=\"file:///data/home/cwy/.mylib/miniconda3/envs/3ML/lib/python3.9/site-packages/WCDA_hal/HAL.py\" target=\"_blank\"><span style=\"color: #7f7f7f; text-decoration-color: #7f7f7f\">HAL.py</span></a><span style=\"color: #7f7f7f; text-decoration-color: #7f7f7f\">:</span><a href=\"file:///data/home/cwy/.mylib/miniconda3/envs/3ML/lib/python3.9/site-packages/WCDA_hal/HAL.py#296\" target=\"_blank\"><span style=\"color: #7f7f7f; text-decoration-color: #7f7f7f\">296</span></a>\n",
       "</pre>\n"
      ],
      "text/plain": [
       "\u001b[38;5;46m        \u001b[0m\u001b[38;5;46m \u001b[0m\u001b[38;5;49mINFO    \u001b[0m \u001b[1;38;5;251m Flat sky projection:                                                                 \u001b[0m\u001b[1;38;5;251m \u001b[0m\u001b]8;id=327305;file:///data/home/cwy/.mylib/miniconda3/envs/3ML/lib/python3.9/site-packages/WCDA_hal/HAL.py\u001b\\\u001b[2mHAL.py\u001b[0m\u001b]8;;\u001b\\\u001b[2m:\u001b[0m\u001b]8;id=415872;file:///data/home/cwy/.mylib/miniconda3/envs/3ML/lib/python3.9/site-packages/WCDA_hal/HAL.py#296\u001b\\\u001b[2m296\u001b[0m\u001b]8;;\u001b\\\n"
      ]
     },
     "metadata": {},
     "output_type": "display_data"
    },
    {
     "data": {
      "text/html": [
       "<pre style=\"white-space:pre;overflow-x:auto;line-height:normal;font-family:Menlo,'DejaVu Sans Mono',consolas,'Courier New',monospace\"><span style=\"color: #00ff00; text-decoration-color: #00ff00\">         </span><span style=\"color: #00ffaf; text-decoration-color: #00ffaf\">INFO    </span> <span style=\"color: #c6c6c6; text-decoration-color: #c6c6c6; font-weight: bold\"> --------------------                                                                  </span><a href=\"file:///data/home/cwy/.mylib/miniconda3/envs/3ML/lib/python3.9/site-packages/WCDA_hal/HAL.py\" target=\"_blank\"><span style=\"color: #7f7f7f; text-decoration-color: #7f7f7f\">HAL.py</span></a><span style=\"color: #7f7f7f; text-decoration-color: #7f7f7f\">:</span><a href=\"file:///data/home/cwy/.mylib/miniconda3/envs/3ML/lib/python3.9/site-packages/WCDA_hal/HAL.py#297\" target=\"_blank\"><span style=\"color: #7f7f7f; text-decoration-color: #7f7f7f\">297</span></a>\n",
       "</pre>\n"
      ],
      "text/plain": [
       "\u001b[38;5;46m        \u001b[0m\u001b[38;5;46m \u001b[0m\u001b[38;5;49mINFO    \u001b[0m \u001b[1;38;5;251m --------------------                                                                 \u001b[0m\u001b[1;38;5;251m \u001b[0m\u001b]8;id=127908;file:///data/home/cwy/.mylib/miniconda3/envs/3ML/lib/python3.9/site-packages/WCDA_hal/HAL.py\u001b\\\u001b[2mHAL.py\u001b[0m\u001b]8;;\u001b\\\u001b[2m:\u001b[0m\u001b]8;id=865787;file:///data/home/cwy/.mylib/miniconda3/envs/3ML/lib/python3.9/site-packages/WCDA_hal/HAL.py#297\u001b\\\u001b[2m297\u001b[0m\u001b]8;;\u001b\\\n"
      ]
     },
     "metadata": {},
     "output_type": "display_data"
    },
    {
     "data": {
      "text/html": [
       "<pre style=\"white-space:pre;overflow-x:auto;line-height:normal;font-family:Menlo,'DejaVu Sans Mono',consolas,'Courier New',monospace\"><span style=\"color: #00ff00; text-decoration-color: #00ff00\">         </span><span style=\"color: #00ffaf; text-decoration-color: #00ffaf\">INFO    </span> <span style=\"color: #c6c6c6; text-decoration-color: #c6c6c6; font-weight: bold\"> Width x height </span><span style=\"color: #c0c0c0; text-decoration-color: #c0c0c0; font-weight: bold\">96</span><span style=\"color: #c6c6c6; text-decoration-color: #c6c6c6; font-weight: bold\"> x </span><span style=\"color: #c0c0c0; text-decoration-color: #c0c0c0; font-weight: bold\">96</span><span style=\"color: #c6c6c6; text-decoration-color: #c6c6c6; font-weight: bold\"> px                                                             </span><a href=\"file:///data/home/cwy/.mylib/miniconda3/envs/3ML/lib/python3.9/site-packages/WCDA_hal/HAL.py\" target=\"_blank\"><span style=\"color: #7f7f7f; text-decoration-color: #7f7f7f\">HAL.py</span></a><span style=\"color: #7f7f7f; text-decoration-color: #7f7f7f\">:</span><a href=\"file:///data/home/cwy/.mylib/miniconda3/envs/3ML/lib/python3.9/site-packages/WCDA_hal/HAL.py#299\" target=\"_blank\"><span style=\"color: #7f7f7f; text-decoration-color: #7f7f7f\">299</span></a>\n",
       "</pre>\n"
      ],
      "text/plain": [
       "\u001b[38;5;46m        \u001b[0m\u001b[38;5;46m \u001b[0m\u001b[38;5;49mINFO    \u001b[0m \u001b[1;38;5;251m Width x height \u001b[0m\u001b[1;37m96\u001b[0m\u001b[1;38;5;251m x \u001b[0m\u001b[1;37m96\u001b[0m\u001b[1;38;5;251m px                                                            \u001b[0m\u001b[1;38;5;251m \u001b[0m\u001b]8;id=814467;file:///data/home/cwy/.mylib/miniconda3/envs/3ML/lib/python3.9/site-packages/WCDA_hal/HAL.py\u001b\\\u001b[2mHAL.py\u001b[0m\u001b]8;;\u001b\\\u001b[2m:\u001b[0m\u001b]8;id=869365;file:///data/home/cwy/.mylib/miniconda3/envs/3ML/lib/python3.9/site-packages/WCDA_hal/HAL.py#299\u001b\\\u001b[2m299\u001b[0m\u001b]8;;\u001b\\\n"
      ]
     },
     "metadata": {},
     "output_type": "display_data"
    },
    {
     "data": {
      "text/html": [
       "<pre style=\"white-space:pre;overflow-x:auto;line-height:normal;font-family:Menlo,'DejaVu Sans Mono',consolas,'Courier New',monospace\"><span style=\"color: #00ff00; text-decoration-color: #00ff00\">         </span><span style=\"color: #00ffaf; text-decoration-color: #00ffaf\">INFO    </span> <span style=\"color: #c6c6c6; text-decoration-color: #c6c6c6; font-weight: bold\"> Pixel sizes: </span><span style=\"color: #c0c0c0; text-decoration-color: #c0c0c0; font-weight: bold\">0.17</span><span style=\"color: #c6c6c6; text-decoration-color: #c6c6c6; font-weight: bold\"> deg                                                                 </span><a href=\"file:///data/home/cwy/.mylib/miniconda3/envs/3ML/lib/python3.9/site-packages/WCDA_hal/HAL.py\" target=\"_blank\"><span style=\"color: #7f7f7f; text-decoration-color: #7f7f7f\">HAL.py</span></a><span style=\"color: #7f7f7f; text-decoration-color: #7f7f7f\">:</span><a href=\"file:///data/home/cwy/.mylib/miniconda3/envs/3ML/lib/python3.9/site-packages/WCDA_hal/HAL.py#304\" target=\"_blank\"><span style=\"color: #7f7f7f; text-decoration-color: #7f7f7f\">304</span></a>\n",
       "</pre>\n"
      ],
      "text/plain": [
       "\u001b[38;5;46m        \u001b[0m\u001b[38;5;46m \u001b[0m\u001b[38;5;49mINFO    \u001b[0m \u001b[1;38;5;251m Pixel sizes: \u001b[0m\u001b[1;37m0.17\u001b[0m\u001b[1;38;5;251m deg                                                                \u001b[0m\u001b[1;38;5;251m \u001b[0m\u001b]8;id=320899;file:///data/home/cwy/.mylib/miniconda3/envs/3ML/lib/python3.9/site-packages/WCDA_hal/HAL.py\u001b\\\u001b[2mHAL.py\u001b[0m\u001b]8;;\u001b\\\u001b[2m:\u001b[0m\u001b]8;id=151349;file:///data/home/cwy/.mylib/miniconda3/envs/3ML/lib/python3.9/site-packages/WCDA_hal/HAL.py#304\u001b\\\u001b[2m304\u001b[0m\u001b]8;;\u001b\\\n"
      ]
     },
     "metadata": {},
     "output_type": "display_data"
    },
    {
     "data": {
      "text/html": [
       "<pre style=\"white-space:pre;overflow-x:auto;line-height:normal;font-family:Menlo,'DejaVu Sans Mono',consolas,'Courier New',monospace\"><span style=\"color: #00ff00; text-decoration-color: #00ff00\">         </span><span style=\"color: #00ffaf; text-decoration-color: #00ffaf\">INFO    </span> <span style=\"color: #c6c6c6; text-decoration-color: #c6c6c6; font-weight: bold\">                                                                                       </span><a href=\"file:///data/home/cwy/.mylib/miniconda3/envs/3ML/lib/python3.9/site-packages/WCDA_hal/HAL.py\" target=\"_blank\"><span style=\"color: #7f7f7f; text-decoration-color: #7f7f7f\">HAL.py</span></a><span style=\"color: #7f7f7f; text-decoration-color: #7f7f7f\">:</span><a href=\"file:///data/home/cwy/.mylib/miniconda3/envs/3ML/lib/python3.9/site-packages/WCDA_hal/HAL.py#307\" target=\"_blank\"><span style=\"color: #7f7f7f; text-decoration-color: #7f7f7f\">307</span></a>\n",
       "</pre>\n"
      ],
      "text/plain": [
       "\u001b[38;5;46m        \u001b[0m\u001b[38;5;46m \u001b[0m\u001b[38;5;49mINFO    \u001b[0m \u001b[1;38;5;251m                                                                                      \u001b[0m\u001b[1;38;5;251m \u001b[0m\u001b]8;id=557927;file:///data/home/cwy/.mylib/miniconda3/envs/3ML/lib/python3.9/site-packages/WCDA_hal/HAL.py\u001b\\\u001b[2mHAL.py\u001b[0m\u001b]8;;\u001b\\\u001b[2m:\u001b[0m\u001b]8;id=737931;file:///data/home/cwy/.mylib/miniconda3/envs/3ML/lib/python3.9/site-packages/WCDA_hal/HAL.py#307\u001b\\\u001b[2m307\u001b[0m\u001b]8;;\u001b\\\n"
      ]
     },
     "metadata": {},
     "output_type": "display_data"
    },
    {
     "data": {
      "text/html": [
       "<pre style=\"white-space:pre;overflow-x:auto;line-height:normal;font-family:Menlo,'DejaVu Sans Mono',consolas,'Courier New',monospace\"><span style=\"color: #00ff00; text-decoration-color: #00ff00\">         </span><span style=\"color: #00ffaf; text-decoration-color: #00ffaf\">INFO    </span> <span style=\"color: #c6c6c6; text-decoration-color: #c6c6c6; font-weight: bold\"> Response:                                                                             </span><a href=\"file:///data/home/cwy/.mylib/miniconda3/envs/3ML/lib/python3.9/site-packages/WCDA_hal/HAL.py\" target=\"_blank\"><span style=\"color: #7f7f7f; text-decoration-color: #7f7f7f\">HAL.py</span></a><span style=\"color: #7f7f7f; text-decoration-color: #7f7f7f\">:</span><a href=\"file:///data/home/cwy/.mylib/miniconda3/envs/3ML/lib/python3.9/site-packages/WCDA_hal/HAL.py#308\" target=\"_blank\"><span style=\"color: #7f7f7f; text-decoration-color: #7f7f7f\">308</span></a>\n",
       "</pre>\n"
      ],
      "text/plain": [
       "\u001b[38;5;46m        \u001b[0m\u001b[38;5;46m \u001b[0m\u001b[38;5;49mINFO    \u001b[0m \u001b[1;38;5;251m Response:                                                                            \u001b[0m\u001b[1;38;5;251m \u001b[0m\u001b]8;id=43429;file:///data/home/cwy/.mylib/miniconda3/envs/3ML/lib/python3.9/site-packages/WCDA_hal/HAL.py\u001b\\\u001b[2mHAL.py\u001b[0m\u001b]8;;\u001b\\\u001b[2m:\u001b[0m\u001b]8;id=526332;file:///data/home/cwy/.mylib/miniconda3/envs/3ML/lib/python3.9/site-packages/WCDA_hal/HAL.py#308\u001b\\\u001b[2m308\u001b[0m\u001b]8;;\u001b\\\n"
      ]
     },
     "metadata": {},
     "output_type": "display_data"
    },
    {
     "data": {
      "text/html": [
       "<pre style=\"white-space:pre;overflow-x:auto;line-height:normal;font-family:Menlo,'DejaVu Sans Mono',consolas,'Courier New',monospace\"><span style=\"color: #00ff00; text-decoration-color: #00ff00\">         </span><span style=\"color: #00ffaf; text-decoration-color: #00ffaf\">INFO    </span> <span style=\"color: #c6c6c6; text-decoration-color: #c6c6c6; font-weight: bold\"> ---------                                                                             </span><a href=\"file:///data/home/cwy/.mylib/miniconda3/envs/3ML/lib/python3.9/site-packages/WCDA_hal/HAL.py\" target=\"_blank\"><span style=\"color: #7f7f7f; text-decoration-color: #7f7f7f\">HAL.py</span></a><span style=\"color: #7f7f7f; text-decoration-color: #7f7f7f\">:</span><a href=\"file:///data/home/cwy/.mylib/miniconda3/envs/3ML/lib/python3.9/site-packages/WCDA_hal/HAL.py#309\" target=\"_blank\"><span style=\"color: #7f7f7f; text-decoration-color: #7f7f7f\">309</span></a>\n",
       "</pre>\n"
      ],
      "text/plain": [
       "\u001b[38;5;46m        \u001b[0m\u001b[38;5;46m \u001b[0m\u001b[38;5;49mINFO    \u001b[0m \u001b[1;38;5;251m ---------                                                                            \u001b[0m\u001b[1;38;5;251m \u001b[0m\u001b]8;id=702748;file:///data/home/cwy/.mylib/miniconda3/envs/3ML/lib/python3.9/site-packages/WCDA_hal/HAL.py\u001b\\\u001b[2mHAL.py\u001b[0m\u001b]8;;\u001b\\\u001b[2m:\u001b[0m\u001b]8;id=169548;file:///data/home/cwy/.mylib/miniconda3/envs/3ML/lib/python3.9/site-packages/WCDA_hal/HAL.py#309\u001b\\\u001b[2m309\u001b[0m\u001b]8;;\u001b\\\n"
      ]
     },
     "metadata": {},
     "output_type": "display_data"
    },
    {
     "data": {
      "text/html": [
       "<pre style=\"white-space:pre;overflow-x:auto;line-height:normal;font-family:Menlo,'DejaVu Sans Mono',consolas,'Courier New',monospace\"><span style=\"color: #00ff00; text-decoration-color: #00ff00\">         </span><span style=\"color: #00ffaf; text-decoration-color: #00ffaf\">INFO    </span> <span style=\"color: #c6c6c6; text-decoration-color: #c6c6c6; font-weight: bold\"> Response file:                                                                   </span><a href=\"file:///data/home/cwy/.mylib/miniconda3/envs/3ML/lib/python3.9/site-packages/WCDA_hal/response/response.py\" target=\"_blank\"><span style=\"color: #7f7f7f; text-decoration-color: #7f7f7f\">response.py</span></a><span style=\"color: #7f7f7f; text-decoration-color: #7f7f7f\">:</span><a href=\"file:///data/home/cwy/.mylib/miniconda3/envs/3ML/lib/python3.9/site-packages/WCDA_hal/response/response.py#340\" target=\"_blank\"><span style=\"color: #7f7f7f; text-decoration-color: #7f7f7f\">340</span></a>\n",
       "<span style=\"color: #00ff00; text-decoration-color: #00ff00\">         </span>         <span style=\"color: #5f5f5f; text-decoration-color: #5f5f5f; font-weight: bold\">/data/home/cwy/Science/3MLWCDA/Standard/src/../../data/</span><span style=\"color: #000080; text-decoration-color: #000080; font-weight: bold\">KM2A1234full_mcpsfnewfix13</span><span style=\"color: #c6c6c6; text-decoration-color: #c6c6c6; font-weight: bold\"> </span><span style=\"color: #7f7f7f; text-decoration-color: #7f7f7f\">               </span>\n",
       "<span style=\"color: #00ff00; text-decoration-color: #00ff00\">         </span>         <span style=\"color: #000080; text-decoration-color: #000080; font-weight: bold\">.root</span><span style=\"color: #c6c6c6; text-decoration-color: #c6c6c6; font-weight: bold\">                                                                             </span><span style=\"color: #7f7f7f; text-decoration-color: #7f7f7f\">               </span>\n",
       "</pre>\n"
      ],
      "text/plain": [
       "\u001b[38;5;46m        \u001b[0m\u001b[38;5;46m \u001b[0m\u001b[38;5;49mINFO    \u001b[0m \u001b[1;38;5;251m Response file:                                                                  \u001b[0m\u001b[1;38;5;251m \u001b[0m\u001b]8;id=347152;file:///data/home/cwy/.mylib/miniconda3/envs/3ML/lib/python3.9/site-packages/WCDA_hal/response/response.py\u001b\\\u001b[2mresponse.py\u001b[0m\u001b]8;;\u001b\\\u001b[2m:\u001b[0m\u001b]8;id=741774;file:///data/home/cwy/.mylib/miniconda3/envs/3ML/lib/python3.9/site-packages/WCDA_hal/response/response.py#340\u001b\\\u001b[2m340\u001b[0m\u001b]8;;\u001b\\\n",
       "\u001b[38;5;46m         \u001b[0m         \u001b[1;38;5;59m/data/home/cwy/Science/3MLWCDA/Standard/src/../../data/\u001b[0m\u001b[1;34mKM2A1234full_mcpsfnewfix13\u001b[0m\u001b[1;38;5;251m \u001b[0m\u001b[2m               \u001b[0m\n",
       "\u001b[38;5;46m         \u001b[0m         \u001b[1;34m.root\u001b[0m\u001b[1;38;5;251m                                                                            \u001b[0m\u001b[1;38;5;251m \u001b[0m\u001b[2m               \u001b[0m\n"
      ]
     },
     "metadata": {},
     "output_type": "display_data"
    },
    {
     "data": {
      "text/html": [
       "<pre style=\"white-space:pre;overflow-x:auto;line-height:normal;font-family:Menlo,'DejaVu Sans Mono',consolas,'Courier New',monospace\"><span style=\"color: #00ff00; text-decoration-color: #00ff00\">         </span><span style=\"color: #00ffaf; text-decoration-color: #00ffaf\">INFO    </span> <span style=\"color: #c6c6c6; text-decoration-color: #c6c6c6; font-weight: bold\"> Number of dec bins: </span><span style=\"color: #c0c0c0; text-decoration-color: #c0c0c0; font-weight: bold\">110</span><span style=\"color: #c6c6c6; text-decoration-color: #c6c6c6; font-weight: bold\">                                                          </span><a href=\"file:///data/home/cwy/.mylib/miniconda3/envs/3ML/lib/python3.9/site-packages/WCDA_hal/response/response.py\" target=\"_blank\"><span style=\"color: #7f7f7f; text-decoration-color: #7f7f7f\">response.py</span></a><span style=\"color: #7f7f7f; text-decoration-color: #7f7f7f\">:</span><a href=\"file:///data/home/cwy/.mylib/miniconda3/envs/3ML/lib/python3.9/site-packages/WCDA_hal/response/response.py#341\" target=\"_blank\"><span style=\"color: #7f7f7f; text-decoration-color: #7f7f7f\">341</span></a>\n",
       "</pre>\n"
      ],
      "text/plain": [
       "\u001b[38;5;46m        \u001b[0m\u001b[38;5;46m \u001b[0m\u001b[38;5;49mINFO    \u001b[0m \u001b[1;38;5;251m Number of dec bins: \u001b[0m\u001b[1;37m110\u001b[0m\u001b[1;38;5;251m                                                         \u001b[0m\u001b[1;38;5;251m \u001b[0m\u001b]8;id=57524;file:///data/home/cwy/.mylib/miniconda3/envs/3ML/lib/python3.9/site-packages/WCDA_hal/response/response.py\u001b\\\u001b[2mresponse.py\u001b[0m\u001b]8;;\u001b\\\u001b[2m:\u001b[0m\u001b]8;id=813877;file:///data/home/cwy/.mylib/miniconda3/envs/3ML/lib/python3.9/site-packages/WCDA_hal/response/response.py#341\u001b\\\u001b[2m341\u001b[0m\u001b]8;;\u001b\\\n"
      ]
     },
     "metadata": {},
     "output_type": "display_data"
    },
    {
     "data": {
      "text/html": [
       "<pre style=\"white-space:pre;overflow-x:auto;line-height:normal;font-family:Menlo,'DejaVu Sans Mono',consolas,'Courier New',monospace\"><span style=\"color: #00ff00; text-decoration-color: #00ff00\">         </span><span style=\"color: #00ffaf; text-decoration-color: #00ffaf\">INFO    </span> <span style=\"color: #c6c6c6; text-decoration-color: #c6c6c6; font-weight: bold\"> Number of energy/nHit planes per dec bin_name: </span><span style=\"color: #c0c0c0; text-decoration-color: #c0c0c0; font-weight: bold\">14</span><span style=\"color: #c6c6c6; text-decoration-color: #c6c6c6; font-weight: bold\">                                </span><a href=\"file:///data/home/cwy/.mylib/miniconda3/envs/3ML/lib/python3.9/site-packages/WCDA_hal/response/response.py\" target=\"_blank\"><span style=\"color: #7f7f7f; text-decoration-color: #7f7f7f\">response.py</span></a><span style=\"color: #7f7f7f; text-decoration-color: #7f7f7f\">:</span><a href=\"file:///data/home/cwy/.mylib/miniconda3/envs/3ML/lib/python3.9/site-packages/WCDA_hal/response/response.py#344\" target=\"_blank\"><span style=\"color: #7f7f7f; text-decoration-color: #7f7f7f\">344</span></a>\n",
       "</pre>\n"
      ],
      "text/plain": [
       "\u001b[38;5;46m        \u001b[0m\u001b[38;5;46m \u001b[0m\u001b[38;5;49mINFO    \u001b[0m \u001b[1;38;5;251m Number of energy/nHit planes per dec bin_name: \u001b[0m\u001b[1;37m14\u001b[0m\u001b[1;38;5;251m                               \u001b[0m\u001b[1;38;5;251m \u001b[0m\u001b]8;id=936353;file:///data/home/cwy/.mylib/miniconda3/envs/3ML/lib/python3.9/site-packages/WCDA_hal/response/response.py\u001b\\\u001b[2mresponse.py\u001b[0m\u001b]8;;\u001b\\\u001b[2m:\u001b[0m\u001b]8;id=283112;file:///data/home/cwy/.mylib/miniconda3/envs/3ML/lib/python3.9/site-packages/WCDA_hal/response/response.py#344\u001b\\\u001b[2m344\u001b[0m\u001b]8;;\u001b\\\n"
      ]
     },
     "metadata": {},
     "output_type": "display_data"
    },
    {
     "data": {
      "text/html": [
       "<pre style=\"white-space:pre;overflow-x:auto;line-height:normal;font-family:Menlo,'DejaVu Sans Mono',consolas,'Courier New',monospace\"><span style=\"color: #00ff00; text-decoration-color: #00ff00\">         </span><span style=\"color: #00ffaf; text-decoration-color: #00ffaf\">INFO    </span> <span style=\"color: #c6c6c6; text-decoration-color: #c6c6c6; font-weight: bold\">                                                                                       </span><a href=\"file:///data/home/cwy/.mylib/miniconda3/envs/3ML/lib/python3.9/site-packages/WCDA_hal/HAL.py\" target=\"_blank\"><span style=\"color: #7f7f7f; text-decoration-color: #7f7f7f\">HAL.py</span></a><span style=\"color: #7f7f7f; text-decoration-color: #7f7f7f\">:</span><a href=\"file:///data/home/cwy/.mylib/miniconda3/envs/3ML/lib/python3.9/site-packages/WCDA_hal/HAL.py#313\" target=\"_blank\"><span style=\"color: #7f7f7f; text-decoration-color: #7f7f7f\">313</span></a>\n",
       "</pre>\n"
      ],
      "text/plain": [
       "\u001b[38;5;46m        \u001b[0m\u001b[38;5;46m \u001b[0m\u001b[38;5;49mINFO    \u001b[0m \u001b[1;38;5;251m                                                                                      \u001b[0m\u001b[1;38;5;251m \u001b[0m\u001b]8;id=337242;file:///data/home/cwy/.mylib/miniconda3/envs/3ML/lib/python3.9/site-packages/WCDA_hal/HAL.py\u001b\\\u001b[2mHAL.py\u001b[0m\u001b]8;;\u001b\\\u001b[2m:\u001b[0m\u001b]8;id=416436;file:///data/home/cwy/.mylib/miniconda3/envs/3ML/lib/python3.9/site-packages/WCDA_hal/HAL.py#313\u001b\\\u001b[2m313\u001b[0m\u001b]8;;\u001b\\\n"
      ]
     },
     "metadata": {},
     "output_type": "display_data"
    },
    {
     "data": {
      "text/html": [
       "<pre style=\"white-space:pre;overflow-x:auto;line-height:normal;font-family:Menlo,'DejaVu Sans Mono',consolas,'Courier New',monospace\"><span style=\"color: #00ff00; text-decoration-color: #00ff00\">         </span><span style=\"color: #00ffaf; text-decoration-color: #00ffaf\">INFO    </span> <span style=\"color: #c6c6c6; text-decoration-color: #c6c6c6; font-weight: bold\"> Map Tree:                                                                             </span><a href=\"file:///data/home/cwy/.mylib/miniconda3/envs/3ML/lib/python3.9/site-packages/WCDA_hal/HAL.py\" target=\"_blank\"><span style=\"color: #7f7f7f; text-decoration-color: #7f7f7f\">HAL.py</span></a><span style=\"color: #7f7f7f; text-decoration-color: #7f7f7f\">:</span><a href=\"file:///data/home/cwy/.mylib/miniconda3/envs/3ML/lib/python3.9/site-packages/WCDA_hal/HAL.py#314\" target=\"_blank\"><span style=\"color: #7f7f7f; text-decoration-color: #7f7f7f\">314</span></a>\n",
       "</pre>\n"
      ],
      "text/plain": [
       "\u001b[38;5;46m        \u001b[0m\u001b[38;5;46m \u001b[0m\u001b[38;5;49mINFO    \u001b[0m \u001b[1;38;5;251m Map Tree:                                                                            \u001b[0m\u001b[1;38;5;251m \u001b[0m\u001b]8;id=470340;file:///data/home/cwy/.mylib/miniconda3/envs/3ML/lib/python3.9/site-packages/WCDA_hal/HAL.py\u001b\\\u001b[2mHAL.py\u001b[0m\u001b]8;;\u001b\\\u001b[2m:\u001b[0m\u001b]8;id=304855;file:///data/home/cwy/.mylib/miniconda3/envs/3ML/lib/python3.9/site-packages/WCDA_hal/HAL.py#314\u001b\\\u001b[2m314\u001b[0m\u001b]8;;\u001b\\\n"
      ]
     },
     "metadata": {},
     "output_type": "display_data"
    },
    {
     "data": {
      "text/html": [
       "<pre style=\"white-space:pre;overflow-x:auto;line-height:normal;font-family:Menlo,'DejaVu Sans Mono',consolas,'Courier New',monospace\"><span style=\"color: #00ff00; text-decoration-color: #00ff00\">         </span><span style=\"color: #00ffaf; text-decoration-color: #00ffaf\">INFO    </span> <span style=\"color: #c6c6c6; text-decoration-color: #c6c6c6; font-weight: bold\"> ----------                                                                            </span><a href=\"file:///data/home/cwy/.mylib/miniconda3/envs/3ML/lib/python3.9/site-packages/WCDA_hal/HAL.py\" target=\"_blank\"><span style=\"color: #7f7f7f; text-decoration-color: #7f7f7f\">HAL.py</span></a><span style=\"color: #7f7f7f; text-decoration-color: #7f7f7f\">:</span><a href=\"file:///data/home/cwy/.mylib/miniconda3/envs/3ML/lib/python3.9/site-packages/WCDA_hal/HAL.py#315\" target=\"_blank\"><span style=\"color: #7f7f7f; text-decoration-color: #7f7f7f\">315</span></a>\n",
       "</pre>\n"
      ],
      "text/plain": [
       "\u001b[38;5;46m        \u001b[0m\u001b[38;5;46m \u001b[0m\u001b[38;5;49mINFO    \u001b[0m \u001b[1;38;5;251m ----------                                                                           \u001b[0m\u001b[1;38;5;251m \u001b[0m\u001b]8;id=933697;file:///data/home/cwy/.mylib/miniconda3/envs/3ML/lib/python3.9/site-packages/WCDA_hal/HAL.py\u001b\\\u001b[2mHAL.py\u001b[0m\u001b]8;;\u001b\\\u001b[2m:\u001b[0m\u001b]8;id=964559;file:///data/home/cwy/.mylib/miniconda3/envs/3ML/lib/python3.9/site-packages/WCDA_hal/HAL.py#315\u001b\\\u001b[2m315\u001b[0m\u001b]8;;\u001b\\\n"
      ]
     },
     "metadata": {},
     "output_type": "display_data"
    },
    {
     "data": {
      "text/html": [
       "<div>\n",
       "<style scoped>\n",
       "    .dataframe tbody tr th:only-of-type {\n",
       "        vertical-align: middle;\n",
       "    }\n",
       "\n",
       "    .dataframe tbody tr th {\n",
       "        vertical-align: top;\n",
       "    }\n",
       "\n",
       "    .dataframe thead th {\n",
       "        text-align: right;\n",
       "    }\n",
       "</style>\n",
       "<table border=\"1\" class=\"dataframe\">\n",
       "  <thead>\n",
       "    <tr style=\"text-align: right;\">\n",
       "      <th></th>\n",
       "      <th>Bin</th>\n",
       "      <th>Nside</th>\n",
       "      <th>Scheme</th>\n",
       "      <th>Obs counts</th>\n",
       "      <th>Bkg counts</th>\n",
       "      <th>obs/bkg</th>\n",
       "      <th>Pixels in ROI</th>\n",
       "      <th>Area (deg^2)</th>\n",
       "    </tr>\n",
       "  </thead>\n",
       "  <tbody>\n",
       "    <tr>\n",
       "      <th>0</th>\n",
       "      <td>0</td>\n",
       "      <td>1024</td>\n",
       "      <td>RING</td>\n",
       "      <td>1.961588e+05</td>\n",
       "      <td>1.950619e+05</td>\n",
       "      <td>1.005623</td>\n",
       "      <td>30468</td>\n",
       "      <td>99.889058</td>\n",
       "    </tr>\n",
       "    <tr>\n",
       "      <th>1</th>\n",
       "      <td>1</td>\n",
       "      <td>1024</td>\n",
       "      <td>RING</td>\n",
       "      <td>1.284082e+06</td>\n",
       "      <td>1.268299e+06</td>\n",
       "      <td>1.012444</td>\n",
       "      <td>30468</td>\n",
       "      <td>99.889058</td>\n",
       "    </tr>\n",
       "    <tr>\n",
       "      <th>2</th>\n",
       "      <td>2</td>\n",
       "      <td>1024</td>\n",
       "      <td>RING</td>\n",
       "      <td>1.650184e+06</td>\n",
       "      <td>1.617126e+06</td>\n",
       "      <td>1.020442</td>\n",
       "      <td>30468</td>\n",
       "      <td>99.889058</td>\n",
       "    </tr>\n",
       "    <tr>\n",
       "      <th>3</th>\n",
       "      <td>3</td>\n",
       "      <td>1024</td>\n",
       "      <td>RING</td>\n",
       "      <td>6.716988e+05</td>\n",
       "      <td>6.499699e+05</td>\n",
       "      <td>1.033431</td>\n",
       "      <td>30468</td>\n",
       "      <td>99.889058</td>\n",
       "    </tr>\n",
       "    <tr>\n",
       "      <th>4</th>\n",
       "      <td>4</td>\n",
       "      <td>1024</td>\n",
       "      <td>RING</td>\n",
       "      <td>5.528613e+04</td>\n",
       "      <td>4.798877e+04</td>\n",
       "      <td>1.152064</td>\n",
       "      <td>30468</td>\n",
       "      <td>99.889058</td>\n",
       "    </tr>\n",
       "    <tr>\n",
       "      <th>5</th>\n",
       "      <td>5</td>\n",
       "      <td>1024</td>\n",
       "      <td>RING</td>\n",
       "      <td>1.225695e+04</td>\n",
       "      <td>8.689102e+03</td>\n",
       "      <td>1.410612</td>\n",
       "      <td>30468</td>\n",
       "      <td>99.889058</td>\n",
       "    </tr>\n",
       "    <tr>\n",
       "      <th>6</th>\n",
       "      <td>6</td>\n",
       "      <td>1024</td>\n",
       "      <td>RING</td>\n",
       "      <td>6.491896e+03</td>\n",
       "      <td>4.449079e+03</td>\n",
       "      <td>1.459155</td>\n",
       "      <td>30468</td>\n",
       "      <td>99.889058</td>\n",
       "    </tr>\n",
       "    <tr>\n",
       "      <th>7</th>\n",
       "      <td>7</td>\n",
       "      <td>1024</td>\n",
       "      <td>RING</td>\n",
       "      <td>1.617117e+03</td>\n",
       "      <td>8.532094e+02</td>\n",
       "      <td>1.895334</td>\n",
       "      <td>30468</td>\n",
       "      <td>99.889058</td>\n",
       "    </tr>\n",
       "    <tr>\n",
       "      <th>8</th>\n",
       "      <td>8</td>\n",
       "      <td>1024</td>\n",
       "      <td>RING</td>\n",
       "      <td>5.054361e+02</td>\n",
       "      <td>2.292361e+02</td>\n",
       "      <td>2.204871</td>\n",
       "      <td>30468</td>\n",
       "      <td>99.889058</td>\n",
       "    </tr>\n",
       "    <tr>\n",
       "      <th>9</th>\n",
       "      <td>9</td>\n",
       "      <td>1024</td>\n",
       "      <td>RING</td>\n",
       "      <td>2.033491e+02</td>\n",
       "      <td>8.352693e+01</td>\n",
       "      <td>2.434533</td>\n",
       "      <td>30468</td>\n",
       "      <td>99.889058</td>\n",
       "    </tr>\n",
       "    <tr>\n",
       "      <th>10</th>\n",
       "      <td>10</td>\n",
       "      <td>1024</td>\n",
       "      <td>RING</td>\n",
       "      <td>6.254178e+01</td>\n",
       "      <td>2.587414e+01</td>\n",
       "      <td>2.417154</td>\n",
       "      <td>30468</td>\n",
       "      <td>99.889058</td>\n",
       "    </tr>\n",
       "    <tr>\n",
       "      <th>11</th>\n",
       "      <td>11</td>\n",
       "      <td>1024</td>\n",
       "      <td>RING</td>\n",
       "      <td>2.122628e+01</td>\n",
       "      <td>9.095029e+00</td>\n",
       "      <td>2.333833</td>\n",
       "      <td>30468</td>\n",
       "      <td>99.889058</td>\n",
       "    </tr>\n",
       "    <tr>\n",
       "      <th>12</th>\n",
       "      <td>12</td>\n",
       "      <td>1024</td>\n",
       "      <td>RING</td>\n",
       "      <td>5.023828e+00</td>\n",
       "      <td>2.688102e+00</td>\n",
       "      <td>1.868913</td>\n",
       "      <td>30468</td>\n",
       "      <td>99.889058</td>\n",
       "    </tr>\n",
       "    <tr>\n",
       "      <th>13</th>\n",
       "      <td>13</td>\n",
       "      <td>1024</td>\n",
       "      <td>RING</td>\n",
       "      <td>9.713689e-01</td>\n",
       "      <td>1.376514e+00</td>\n",
       "      <td>0.705673</td>\n",
       "      <td>30468</td>\n",
       "      <td>99.889058</td>\n",
       "    </tr>\n",
       "  </tbody>\n",
       "</table>\n",
       "</div>"
      ],
      "text/plain": [
       "   Bin  Nside Scheme    Obs counts    Bkg counts   obs/bkg  Pixels in ROI   \n",
       "0    0   1024   RING  1.961588e+05  1.950619e+05  1.005623          30468  \\\n",
       "1    1   1024   RING  1.284082e+06  1.268299e+06  1.012444          30468   \n",
       "2    2   1024   RING  1.650184e+06  1.617126e+06  1.020442          30468   \n",
       "3    3   1024   RING  6.716988e+05  6.499699e+05  1.033431          30468   \n",
       "4    4   1024   RING  5.528613e+04  4.798877e+04  1.152064          30468   \n",
       "5    5   1024   RING  1.225695e+04  8.689102e+03  1.410612          30468   \n",
       "6    6   1024   RING  6.491896e+03  4.449079e+03  1.459155          30468   \n",
       "7    7   1024   RING  1.617117e+03  8.532094e+02  1.895334          30468   \n",
       "8    8   1024   RING  5.054361e+02  2.292361e+02  2.204871          30468   \n",
       "9    9   1024   RING  2.033491e+02  8.352693e+01  2.434533          30468   \n",
       "10  10   1024   RING  6.254178e+01  2.587414e+01  2.417154          30468   \n",
       "11  11   1024   RING  2.122628e+01  9.095029e+00  2.333833          30468   \n",
       "12  12   1024   RING  5.023828e+00  2.688102e+00  1.868913          30468   \n",
       "13  13   1024   RING  9.713689e-01  1.376514e+00  0.705673          30468   \n",
       "\n",
       "    Area (deg^2)  \n",
       "0      99.889058  \n",
       "1      99.889058  \n",
       "2      99.889058  \n",
       "3      99.889058  \n",
       "4      99.889058  \n",
       "5      99.889058  \n",
       "6      99.889058  \n",
       "7      99.889058  \n",
       "8      99.889058  \n",
       "9      99.889058  \n",
       "10     99.889058  \n",
       "11     99.889058  \n",
       "12     99.889058  \n",
       "13     99.889058  "
      ]
     },
     "metadata": {},
     "output_type": "display_data"
    },
    {
     "data": {
      "text/html": [
       "<pre style=\"white-space:pre;overflow-x:auto;line-height:normal;font-family:Menlo,'DejaVu Sans Mono',consolas,'Courier New',monospace\"><span style=\"color: #00ff00; text-decoration-color: #00ff00\">00:07:16 </span><span style=\"color: #00ffaf; text-decoration-color: #00ffaf\">INFO    </span> <span style=\"color: #c6c6c6; text-decoration-color: #c6c6c6; font-weight: bold\"> This Map Tree contains </span><span style=\"color: #c0c0c0; text-decoration-color: #c0c0c0; font-weight: bold\">1216.239</span><span style=\"color: #c6c6c6; text-decoration-color: #c6c6c6; font-weight: bold\"> transits in the first bin                        </span><a href=\"file:///data/home/cwy/.mylib/miniconda3/envs/3ML/lib/python3.9/site-packages/WCDA_hal/maptree/map_tree.py\" target=\"_blank\"><span style=\"color: #7f7f7f; text-decoration-color: #7f7f7f\">map_tree.py</span></a><span style=\"color: #7f7f7f; text-decoration-color: #7f7f7f\">:</span><a href=\"file:///data/home/cwy/.mylib/miniconda3/envs/3ML/lib/python3.9/site-packages/WCDA_hal/maptree/map_tree.py#149\" target=\"_blank\"><span style=\"color: #7f7f7f; text-decoration-color: #7f7f7f\">149</span></a>\n",
       "</pre>\n"
      ],
      "text/plain": [
       "\u001b[38;5;46m00:07:16\u001b[0m\u001b[38;5;46m \u001b[0m\u001b[38;5;49mINFO    \u001b[0m \u001b[1;38;5;251m This Map Tree contains \u001b[0m\u001b[1;37m1216.239\u001b[0m\u001b[1;38;5;251m transits in the first bin                       \u001b[0m\u001b[1;38;5;251m \u001b[0m\u001b]8;id=696394;file:///data/home/cwy/.mylib/miniconda3/envs/3ML/lib/python3.9/site-packages/WCDA_hal/maptree/map_tree.py\u001b\\\u001b[2mmap_tree.py\u001b[0m\u001b]8;;\u001b\\\u001b[2m:\u001b[0m\u001b]8;id=860258;file:///data/home/cwy/.mylib/miniconda3/envs/3ML/lib/python3.9/site-packages/WCDA_hal/maptree/map_tree.py#149\u001b\\\u001b[2m149\u001b[0m\u001b]8;;\u001b\\\n"
      ]
     },
     "metadata": {},
     "output_type": "display_data"
    },
    {
     "data": {
      "text/html": [
       "<pre style=\"white-space:pre;overflow-x:auto;line-height:normal;font-family:Menlo,'DejaVu Sans Mono',consolas,'Courier New',monospace\"><span style=\"color: #00ff00; text-decoration-color: #00ff00\">         </span><span style=\"color: #00ffaf; text-decoration-color: #00ffaf\">INFO    </span> <span style=\"color: #c6c6c6; text-decoration-color: #c6c6c6; font-weight: bold\"> Total data size: </span><span style=\"color: #c0c0c0; text-decoration-color: #c0c0c0; font-weight: bold\">6.82</span><span style=\"color: #c6c6c6; text-decoration-color: #c6c6c6; font-weight: bold\"> Mb                                                         </span><a href=\"file:///data/home/cwy/.mylib/miniconda3/envs/3ML/lib/python3.9/site-packages/WCDA_hal/maptree/map_tree.py\" target=\"_blank\"><span style=\"color: #7f7f7f; text-decoration-color: #7f7f7f\">map_tree.py</span></a><span style=\"color: #7f7f7f; text-decoration-color: #7f7f7f\">:</span><a href=\"file:///data/home/cwy/.mylib/miniconda3/envs/3ML/lib/python3.9/site-packages/WCDA_hal/maptree/map_tree.py#151\" target=\"_blank\"><span style=\"color: #7f7f7f; text-decoration-color: #7f7f7f\">151</span></a>\n",
       "</pre>\n"
      ],
      "text/plain": [
       "\u001b[38;5;46m        \u001b[0m\u001b[38;5;46m \u001b[0m\u001b[38;5;49mINFO    \u001b[0m \u001b[1;38;5;251m Total data size: \u001b[0m\u001b[1;37m6.82\u001b[0m\u001b[1;38;5;251m Mb                                                        \u001b[0m\u001b[1;38;5;251m \u001b[0m\u001b]8;id=717986;file:///data/home/cwy/.mylib/miniconda3/envs/3ML/lib/python3.9/site-packages/WCDA_hal/maptree/map_tree.py\u001b\\\u001b[2mmap_tree.py\u001b[0m\u001b]8;;\u001b\\\u001b[2m:\u001b[0m\u001b]8;id=514953;file:///data/home/cwy/.mylib/miniconda3/envs/3ML/lib/python3.9/site-packages/WCDA_hal/maptree/map_tree.py#151\u001b\\\u001b[2m151\u001b[0m\u001b]8;;\u001b\\\n"
      ]
     },
     "metadata": {},
     "output_type": "display_data"
    },
    {
     "data": {
      "text/html": [
       "<pre style=\"white-space:pre;overflow-x:auto;line-height:normal;font-family:Menlo,'DejaVu Sans Mono',consolas,'Courier New',monospace\"><span style=\"color: #00ff00; text-decoration-color: #00ff00\">         </span><span style=\"color: #00ffaf; text-decoration-color: #00ffaf\">INFO    </span> <span style=\"color: #c6c6c6; text-decoration-color: #c6c6c6; font-weight: bold\">                                                                                       </span><a href=\"file:///data/home/cwy/.mylib/miniconda3/envs/3ML/lib/python3.9/site-packages/WCDA_hal/HAL.py\" target=\"_blank\"><span style=\"color: #7f7f7f; text-decoration-color: #7f7f7f\">HAL.py</span></a><span style=\"color: #7f7f7f; text-decoration-color: #7f7f7f\">:</span><a href=\"file:///data/home/cwy/.mylib/miniconda3/envs/3ML/lib/python3.9/site-packages/WCDA_hal/HAL.py#319\" target=\"_blank\"><span style=\"color: #7f7f7f; text-decoration-color: #7f7f7f\">319</span></a>\n",
       "</pre>\n"
      ],
      "text/plain": [
       "\u001b[38;5;46m        \u001b[0m\u001b[38;5;46m \u001b[0m\u001b[38;5;49mINFO    \u001b[0m \u001b[1;38;5;251m                                                                                      \u001b[0m\u001b[1;38;5;251m \u001b[0m\u001b]8;id=95707;file:///data/home/cwy/.mylib/miniconda3/envs/3ML/lib/python3.9/site-packages/WCDA_hal/HAL.py\u001b\\\u001b[2mHAL.py\u001b[0m\u001b]8;;\u001b\\\u001b[2m:\u001b[0m\u001b]8;id=129800;file:///data/home/cwy/.mylib/miniconda3/envs/3ML/lib/python3.9/site-packages/WCDA_hal/HAL.py#319\u001b\\\u001b[2m319\u001b[0m\u001b]8;;\u001b\\\n"
      ]
     },
     "metadata": {},
     "output_type": "display_data"
    },
    {
     "data": {
      "text/html": [
       "<pre style=\"white-space:pre;overflow-x:auto;line-height:normal;font-family:Menlo,'DejaVu Sans Mono',consolas,'Courier New',monospace\"><span style=\"color: #00ff00; text-decoration-color: #00ff00\">         </span><span style=\"color: #00ffaf; text-decoration-color: #00ffaf\">INFO    </span> <span style=\"color: #c6c6c6; text-decoration-color: #c6c6c6; font-weight: bold\"> Active energy/nHit planes (</span><span style=\"color: #c0c0c0; text-decoration-color: #c0c0c0; font-weight: bold\">10</span><span style=\"color: #c6c6c6; text-decoration-color: #c6c6c6; font-weight: bold\">):                                                       </span><a href=\"file:///data/home/cwy/.mylib/miniconda3/envs/3ML/lib/python3.9/site-packages/WCDA_hal/HAL.py\" target=\"_blank\"><span style=\"color: #7f7f7f; text-decoration-color: #7f7f7f\">HAL.py</span></a><span style=\"color: #7f7f7f; text-decoration-color: #7f7f7f\">:</span><a href=\"file:///data/home/cwy/.mylib/miniconda3/envs/3ML/lib/python3.9/site-packages/WCDA_hal/HAL.py#321\" target=\"_blank\"><span style=\"color: #7f7f7f; text-decoration-color: #7f7f7f\">321</span></a>\n",
       "</pre>\n"
      ],
      "text/plain": [
       "\u001b[38;5;46m        \u001b[0m\u001b[38;5;46m \u001b[0m\u001b[38;5;49mINFO    \u001b[0m \u001b[1;38;5;251m Active energy/nHit planes \u001b[0m\u001b[1;38;5;251m(\u001b[0m\u001b[1;37m10\u001b[0m\u001b[1;38;5;251m)\u001b[0m\u001b[1;38;5;251m:                                                      \u001b[0m\u001b[1;38;5;251m \u001b[0m\u001b]8;id=759495;file:///data/home/cwy/.mylib/miniconda3/envs/3ML/lib/python3.9/site-packages/WCDA_hal/HAL.py\u001b\\\u001b[2mHAL.py\u001b[0m\u001b]8;;\u001b\\\u001b[2m:\u001b[0m\u001b]8;id=173731;file:///data/home/cwy/.mylib/miniconda3/envs/3ML/lib/python3.9/site-packages/WCDA_hal/HAL.py#321\u001b\\\u001b[2m321\u001b[0m\u001b]8;;\u001b\\\n"
      ]
     },
     "metadata": {},
     "output_type": "display_data"
    },
    {
     "data": {
      "text/html": [
       "<pre style=\"white-space:pre;overflow-x:auto;line-height:normal;font-family:Menlo,'DejaVu Sans Mono',consolas,'Courier New',monospace\"><span style=\"color: #00ff00; text-decoration-color: #00ff00\">         </span><span style=\"color: #00ffaf; text-decoration-color: #00ffaf\">INFO    </span> <span style=\"color: #c6c6c6; text-decoration-color: #c6c6c6; font-weight: bold\"> -------------------------------                                                       </span><a href=\"file:///data/home/cwy/.mylib/miniconda3/envs/3ML/lib/python3.9/site-packages/WCDA_hal/HAL.py\" target=\"_blank\"><span style=\"color: #7f7f7f; text-decoration-color: #7f7f7f\">HAL.py</span></a><span style=\"color: #7f7f7f; text-decoration-color: #7f7f7f\">:</span><a href=\"file:///data/home/cwy/.mylib/miniconda3/envs/3ML/lib/python3.9/site-packages/WCDA_hal/HAL.py#322\" target=\"_blank\"><span style=\"color: #7f7f7f; text-decoration-color: #7f7f7f\">322</span></a>\n",
       "</pre>\n"
      ],
      "text/plain": [
       "\u001b[38;5;46m        \u001b[0m\u001b[38;5;46m \u001b[0m\u001b[38;5;49mINFO    \u001b[0m \u001b[1;38;5;251m -------------------------------                                                      \u001b[0m\u001b[1;38;5;251m \u001b[0m\u001b]8;id=83696;file:///data/home/cwy/.mylib/miniconda3/envs/3ML/lib/python3.9/site-packages/WCDA_hal/HAL.py\u001b\\\u001b[2mHAL.py\u001b[0m\u001b]8;;\u001b\\\u001b[2m:\u001b[0m\u001b]8;id=13599;file:///data/home/cwy/.mylib/miniconda3/envs/3ML/lib/python3.9/site-packages/WCDA_hal/HAL.py#322\u001b\\\u001b[2m322\u001b[0m\u001b]8;;\u001b\\\n"
      ]
     },
     "metadata": {},
     "output_type": "display_data"
    },
    {
     "data": {
      "text/html": [
       "<pre style=\"white-space:pre;overflow-x:auto;line-height:normal;font-family:Menlo,'DejaVu Sans Mono',consolas,'Courier New',monospace\"><span style=\"color: #00ff00; text-decoration-color: #00ff00\">         </span><span style=\"color: #00ffaf; text-decoration-color: #00ffaf\">INFO    </span> <span style=\"color: #c6c6c6; text-decoration-color: #c6c6c6; font-weight: bold\"> [</span><span style=\"color: #5f5f5f; text-decoration-color: #5f5f5f; font-weight: bold\">'4'</span><span style=\"color: #c6c6c6; text-decoration-color: #c6c6c6; font-weight: bold\">, </span><span style=\"color: #5f5f5f; text-decoration-color: #5f5f5f; font-weight: bold\">'5'</span><span style=\"color: #c6c6c6; text-decoration-color: #c6c6c6; font-weight: bold\">, </span><span style=\"color: #5f5f5f; text-decoration-color: #5f5f5f; font-weight: bold\">'6'</span><span style=\"color: #c6c6c6; text-decoration-color: #c6c6c6; font-weight: bold\">, </span><span style=\"color: #5f5f5f; text-decoration-color: #5f5f5f; font-weight: bold\">'7'</span><span style=\"color: #c6c6c6; text-decoration-color: #c6c6c6; font-weight: bold\">, </span><span style=\"color: #5f5f5f; text-decoration-color: #5f5f5f; font-weight: bold\">'8'</span><span style=\"color: #c6c6c6; text-decoration-color: #c6c6c6; font-weight: bold\">, </span><span style=\"color: #5f5f5f; text-decoration-color: #5f5f5f; font-weight: bold\">'9'</span><span style=\"color: #c6c6c6; text-decoration-color: #c6c6c6; font-weight: bold\">, </span><span style=\"color: #5f5f5f; text-decoration-color: #5f5f5f; font-weight: bold\">'10'</span><span style=\"color: #c6c6c6; text-decoration-color: #c6c6c6; font-weight: bold\">, </span><span style=\"color: #5f5f5f; text-decoration-color: #5f5f5f; font-weight: bold\">'11'</span><span style=\"color: #c6c6c6; text-decoration-color: #c6c6c6; font-weight: bold\">, </span><span style=\"color: #5f5f5f; text-decoration-color: #5f5f5f; font-weight: bold\">'12'</span><span style=\"color: #c6c6c6; text-decoration-color: #c6c6c6; font-weight: bold\">, </span><span style=\"color: #5f5f5f; text-decoration-color: #5f5f5f; font-weight: bold\">'13'</span><span style=\"color: #c6c6c6; text-decoration-color: #c6c6c6; font-weight: bold\">]                                </span><a href=\"file:///data/home/cwy/.mylib/miniconda3/envs/3ML/lib/python3.9/site-packages/WCDA_hal/HAL.py\" target=\"_blank\"><span style=\"color: #7f7f7f; text-decoration-color: #7f7f7f\">HAL.py</span></a><span style=\"color: #7f7f7f; text-decoration-color: #7f7f7f\">:</span><a href=\"file:///data/home/cwy/.mylib/miniconda3/envs/3ML/lib/python3.9/site-packages/WCDA_hal/HAL.py#323\" target=\"_blank\"><span style=\"color: #7f7f7f; text-decoration-color: #7f7f7f\">323</span></a>\n",
       "</pre>\n"
      ],
      "text/plain": [
       "\u001b[38;5;46m        \u001b[0m\u001b[38;5;46m \u001b[0m\u001b[38;5;49mINFO    \u001b[0m \u001b[1;38;5;251m \u001b[0m\u001b[1;38;5;251m[\u001b[0m\u001b[1;38;5;59m'4'\u001b[0m\u001b[1;38;5;251m, \u001b[0m\u001b[1;38;5;59m'5'\u001b[0m\u001b[1;38;5;251m, \u001b[0m\u001b[1;38;5;59m'6'\u001b[0m\u001b[1;38;5;251m, \u001b[0m\u001b[1;38;5;59m'7'\u001b[0m\u001b[1;38;5;251m, \u001b[0m\u001b[1;38;5;59m'8'\u001b[0m\u001b[1;38;5;251m, \u001b[0m\u001b[1;38;5;59m'9'\u001b[0m\u001b[1;38;5;251m, \u001b[0m\u001b[1;38;5;59m'10'\u001b[0m\u001b[1;38;5;251m, \u001b[0m\u001b[1;38;5;59m'11'\u001b[0m\u001b[1;38;5;251m, \u001b[0m\u001b[1;38;5;59m'12'\u001b[0m\u001b[1;38;5;251m, \u001b[0m\u001b[1;38;5;59m'13'\u001b[0m\u001b[1;38;5;251m]\u001b[0m\u001b[1;38;5;251m                               \u001b[0m\u001b[1;38;5;251m \u001b[0m\u001b]8;id=863690;file:///data/home/cwy/.mylib/miniconda3/envs/3ML/lib/python3.9/site-packages/WCDA_hal/HAL.py\u001b\\\u001b[2mHAL.py\u001b[0m\u001b]8;;\u001b\\\u001b[2m:\u001b[0m\u001b]8;id=254895;file:///data/home/cwy/.mylib/miniconda3/envs/3ML/lib/python3.9/site-packages/WCDA_hal/HAL.py#323\u001b\\\u001b[2m323\u001b[0m\u001b]8;;\u001b\\\n"
      ]
     },
     "metadata": {},
     "output_type": "display_data"
    },
    {
     "data": {
      "text/html": [
       "<pre style=\"white-space:pre;overflow-x:auto;line-height:normal;font-family:Menlo,'DejaVu Sans Mono',consolas,'Courier New',monospace\"><span style=\"color: #00ff00; text-decoration-color: #00ff00\">00:07:22 </span><span style=\"color: #00ffaf; text-decoration-color: #00ffaf\">INFO    </span> <span style=\"color: #c6c6c6; text-decoration-color: #c6c6c6; font-weight: bold\"> J1841M0519 in model_radius: </span><span style=\"color: #c0c0c0; text-decoration-color: #c0c0c0; font-weight: bold\">8.0</span><span style=\"color: #c6c6c6; text-decoration-color: #c6c6c6; font-weight: bold\"> have been fixed!!                                   </span><a href=\"file:///data/home/cwy/Science/3MLWCDA/Standard/src/./mylib/Myfit.py\" target=\"_blank\"><span style=\"color: #7f7f7f; text-decoration-color: #7f7f7f\">Myfit.py</span></a><span style=\"color: #7f7f7f; text-decoration-color: #7f7f7f\">:</span><a href=\"file:///data/home/cwy/Science/3MLWCDA/Standard/src/./mylib/Myfit.py#287\" target=\"_blank\"><span style=\"color: #7f7f7f; text-decoration-color: #7f7f7f\">287</span></a>\n",
       "</pre>\n"
      ],
      "text/plain": [
       "\u001b[38;5;46m00:07:22\u001b[0m\u001b[38;5;46m \u001b[0m\u001b[38;5;49mINFO    \u001b[0m \u001b[1;38;5;251m J1841M0519 in model_radius: \u001b[0m\u001b[1;37m8.0\u001b[0m\u001b[1;38;5;251m have been fixed!!                                  \u001b[0m\u001b[1;38;5;251m \u001b[0m\u001b]8;id=242725;file:///data/home/cwy/Science/3MLWCDA/Standard/src/./mylib/Myfit.py\u001b\\\u001b[2mMyfit.py\u001b[0m\u001b]8;;\u001b\\\u001b[2m:\u001b[0m\u001b]8;id=394160;file:///data/home/cwy/Science/3MLWCDA/Standard/src/./mylib/Myfit.py#287\u001b\\\u001b[2m287\u001b[0m\u001b]8;;\u001b\\\n"
      ]
     },
     "metadata": {},
     "output_type": "display_data"
    },
    {
     "data": {
      "text/html": [
       "<pre style=\"white-space:pre;overflow-x:auto;line-height:normal;font-family:Menlo,'DejaVu Sans Mono',consolas,'Courier New',monospace\"><span style=\"color: #00ff00; text-decoration-color: #00ff00\">         </span><span style=\"color: #00ffaf; text-decoration-color: #00ffaf\">INFO    </span> <span style=\"color: #c6c6c6; text-decoration-color: #c6c6c6; font-weight: bold\"> J1843M0335u in model_radius: </span><span style=\"color: #c0c0c0; text-decoration-color: #c0c0c0; font-weight: bold\">8.0</span><span style=\"color: #c6c6c6; text-decoration-color: #c6c6c6; font-weight: bold\"> have been fixed!!                                  </span><a href=\"file:///data/home/cwy/Science/3MLWCDA/Standard/src/./mylib/Myfit.py\" target=\"_blank\"><span style=\"color: #7f7f7f; text-decoration-color: #7f7f7f\">Myfit.py</span></a><span style=\"color: #7f7f7f; text-decoration-color: #7f7f7f\">:</span><a href=\"file:///data/home/cwy/Science/3MLWCDA/Standard/src/./mylib/Myfit.py#287\" target=\"_blank\"><span style=\"color: #7f7f7f; text-decoration-color: #7f7f7f\">287</span></a>\n",
       "</pre>\n"
      ],
      "text/plain": [
       "\u001b[38;5;46m        \u001b[0m\u001b[38;5;46m \u001b[0m\u001b[38;5;49mINFO    \u001b[0m \u001b[1;38;5;251m J1843M0335u in model_radius: \u001b[0m\u001b[1;37m8.0\u001b[0m\u001b[1;38;5;251m have been fixed!!                                 \u001b[0m\u001b[1;38;5;251m \u001b[0m\u001b]8;id=297320;file:///data/home/cwy/Science/3MLWCDA/Standard/src/./mylib/Myfit.py\u001b\\\u001b[2mMyfit.py\u001b[0m\u001b]8;;\u001b\\\u001b[2m:\u001b[0m\u001b]8;id=437491;file:///data/home/cwy/Science/3MLWCDA/Standard/src/./mylib/Myfit.py#287\u001b\\\u001b[2m287\u001b[0m\u001b]8;;\u001b\\\n"
      ]
     },
     "metadata": {},
     "output_type": "display_data"
    },
    {
     "data": {
      "text/html": [
       "<pre style=\"white-space:pre;overflow-x:auto;line-height:normal;font-family:Menlo,'DejaVu Sans Mono',consolas,'Courier New',monospace\"><span style=\"color: #00ff00; text-decoration-color: #00ff00\">00:07:23 </span><span style=\"color: #00ffaf; text-decoration-color: #00ffaf\">INFO    </span> <span style=\"color: #c6c6c6; text-decoration-color: #c6c6c6; font-weight: bold\"> J1848M0153u in data_radius: </span><span style=\"color: #c0c0c0; text-decoration-color: #c0c0c0; font-weight: bold\">6.0</span><span style=\"color: #c6c6c6; text-decoration-color: #c6c6c6; font-weight: bold\">                                                     </span><a href=\"file:///data/home/cwy/Science/3MLWCDA/Standard/src/./mylib/Myfit.py\" target=\"_blank\"><span style=\"color: #7f7f7f; text-decoration-color: #7f7f7f\">Myfit.py</span></a><span style=\"color: #7f7f7f; text-decoration-color: #7f7f7f\">:</span><a href=\"file:///data/home/cwy/Science/3MLWCDA/Standard/src/./mylib/Myfit.py#271\" target=\"_blank\"><span style=\"color: #7f7f7f; text-decoration-color: #7f7f7f\">271</span></a>\n",
       "</pre>\n"
      ],
      "text/plain": [
       "\u001b[38;5;46m00:07:23\u001b[0m\u001b[38;5;46m \u001b[0m\u001b[38;5;49mINFO    \u001b[0m \u001b[1;38;5;251m J1848M0153u in data_radius: \u001b[0m\u001b[1;37m6.0\u001b[0m\u001b[1;38;5;251m                                                    \u001b[0m\u001b[1;38;5;251m \u001b[0m\u001b]8;id=565055;file:///data/home/cwy/Science/3MLWCDA/Standard/src/./mylib/Myfit.py\u001b\\\u001b[2mMyfit.py\u001b[0m\u001b]8;;\u001b\\\u001b[2m:\u001b[0m\u001b]8;id=130384;file:///data/home/cwy/Science/3MLWCDA/Standard/src/./mylib/Myfit.py#271\u001b\\\u001b[2m271\u001b[0m\u001b]8;;\u001b\\\n"
      ]
     },
     "metadata": {},
     "output_type": "display_data"
    },
    {
     "data": {
      "text/html": [
       "<pre style=\"white-space:pre;overflow-x:auto;line-height:normal;font-family:Menlo,'DejaVu Sans Mono',consolas,'Courier New',monospace\"><span style=\"color: #00ff00; text-decoration-color: #00ff00\">         </span><span style=\"color: #00ffaf; text-decoration-color: #00ffaf\">INFO    </span> <span style=\"color: #c6c6c6; text-decoration-color: #c6c6c6; font-weight: bold\"> J1848M0001u in data_radius: </span><span style=\"color: #c0c0c0; text-decoration-color: #c0c0c0; font-weight: bold\">6.0</span><span style=\"color: #c6c6c6; text-decoration-color: #c6c6c6; font-weight: bold\">                                                     </span><a href=\"file:///data/home/cwy/Science/3MLWCDA/Standard/src/./mylib/Myfit.py\" target=\"_blank\"><span style=\"color: #7f7f7f; text-decoration-color: #7f7f7f\">Myfit.py</span></a><span style=\"color: #7f7f7f; text-decoration-color: #7f7f7f\">:</span><a href=\"file:///data/home/cwy/Science/3MLWCDA/Standard/src/./mylib/Myfit.py#271\" target=\"_blank\"><span style=\"color: #7f7f7f; text-decoration-color: #7f7f7f\">271</span></a>\n",
       "</pre>\n"
      ],
      "text/plain": [
       "\u001b[38;5;46m        \u001b[0m\u001b[38;5;46m \u001b[0m\u001b[38;5;49mINFO    \u001b[0m \u001b[1;38;5;251m J1848M0001u in data_radius: \u001b[0m\u001b[1;37m6.0\u001b[0m\u001b[1;38;5;251m                                                    \u001b[0m\u001b[1;38;5;251m \u001b[0m\u001b]8;id=105454;file:///data/home/cwy/Science/3MLWCDA/Standard/src/./mylib/Myfit.py\u001b\\\u001b[2mMyfit.py\u001b[0m\u001b]8;;\u001b\\\u001b[2m:\u001b[0m\u001b]8;id=806564;file:///data/home/cwy/Science/3MLWCDA/Standard/src/./mylib/Myfit.py#271\u001b\\\u001b[2m271\u001b[0m\u001b]8;;\u001b\\\n"
      ]
     },
     "metadata": {},
     "output_type": "display_data"
    },
    {
     "data": {
      "text/html": [
       "<pre style=\"white-space:pre;overflow-x:auto;line-height:normal;font-family:Menlo,'DejaVu Sans Mono',consolas,'Courier New',monospace\"><span style=\"color: #00ff00; text-decoration-color: #00ff00\">         </span><span style=\"color: #00ffaf; text-decoration-color: #00ffaf\">INFO    </span> <span style=\"color: #c6c6c6; text-decoration-color: #c6c6c6; font-weight: bold\"> J1850M0004u in data_radius: </span><span style=\"color: #c0c0c0; text-decoration-color: #c0c0c0; font-weight: bold\">6.0</span><span style=\"color: #c6c6c6; text-decoration-color: #c6c6c6; font-weight: bold\">                                                     </span><a href=\"file:///data/home/cwy/Science/3MLWCDA/Standard/src/./mylib/Myfit.py\" target=\"_blank\"><span style=\"color: #7f7f7f; text-decoration-color: #7f7f7f\">Myfit.py</span></a><span style=\"color: #7f7f7f; text-decoration-color: #7f7f7f\">:</span><a href=\"file:///data/home/cwy/Science/3MLWCDA/Standard/src/./mylib/Myfit.py#271\" target=\"_blank\"><span style=\"color: #7f7f7f; text-decoration-color: #7f7f7f\">271</span></a>\n",
       "</pre>\n"
      ],
      "text/plain": [
       "\u001b[38;5;46m        \u001b[0m\u001b[38;5;46m \u001b[0m\u001b[38;5;49mINFO    \u001b[0m \u001b[1;38;5;251m J1850M0004u in data_radius: \u001b[0m\u001b[1;37m6.0\u001b[0m\u001b[1;38;5;251m                                                    \u001b[0m\u001b[1;38;5;251m \u001b[0m\u001b]8;id=350984;file:///data/home/cwy/Science/3MLWCDA/Standard/src/./mylib/Myfit.py\u001b\\\u001b[2mMyfit.py\u001b[0m\u001b]8;;\u001b\\\u001b[2m:\u001b[0m\u001b]8;id=840849;file:///data/home/cwy/Science/3MLWCDA/Standard/src/./mylib/Myfit.py#271\u001b\\\u001b[2m271\u001b[0m\u001b]8;;\u001b\\\n"
      ]
     },
     "metadata": {},
     "output_type": "display_data"
    },
    {
     "data": {
      "text/html": [
       "<pre style=\"white-space:pre;overflow-x:auto;line-height:normal;font-family:Menlo,'DejaVu Sans Mono',consolas,'Courier New',monospace\"><span style=\"color: #00ff00; text-decoration-color: #00ff00\">         </span><span style=\"color: #00ffaf; text-decoration-color: #00ffaf\">INFO    </span> <span style=\"color: #c6c6c6; text-decoration-color: #c6c6c6; font-weight: bold\"> J1852P0050u in data_radius: </span><span style=\"color: #c0c0c0; text-decoration-color: #c0c0c0; font-weight: bold\">6.0</span><span style=\"color: #c6c6c6; text-decoration-color: #c6c6c6; font-weight: bold\">                                                     </span><a href=\"file:///data/home/cwy/Science/3MLWCDA/Standard/src/./mylib/Myfit.py\" target=\"_blank\"><span style=\"color: #7f7f7f; text-decoration-color: #7f7f7f\">Myfit.py</span></a><span style=\"color: #7f7f7f; text-decoration-color: #7f7f7f\">:</span><a href=\"file:///data/home/cwy/Science/3MLWCDA/Standard/src/./mylib/Myfit.py#271\" target=\"_blank\"><span style=\"color: #7f7f7f; text-decoration-color: #7f7f7f\">271</span></a>\n",
       "</pre>\n"
      ],
      "text/plain": [
       "\u001b[38;5;46m        \u001b[0m\u001b[38;5;46m \u001b[0m\u001b[38;5;49mINFO    \u001b[0m \u001b[1;38;5;251m J1852P0050u in data_radius: \u001b[0m\u001b[1;37m6.0\u001b[0m\u001b[1;38;5;251m                                                    \u001b[0m\u001b[1;38;5;251m \u001b[0m\u001b]8;id=898636;file:///data/home/cwy/Science/3MLWCDA/Standard/src/./mylib/Myfit.py\u001b\\\u001b[2mMyfit.py\u001b[0m\u001b]8;;\u001b\\\u001b[2m:\u001b[0m\u001b]8;id=643779;file:///data/home/cwy/Science/3MLWCDA/Standard/src/./mylib/Myfit.py#271\u001b\\\u001b[2m271\u001b[0m\u001b]8;;\u001b\\\n"
      ]
     },
     "metadata": {},
     "output_type": "display_data"
    },
    {
     "data": {
      "text/html": [
       "<pre style=\"white-space:pre;overflow-x:auto;line-height:normal;font-family:Menlo,'DejaVu Sans Mono',consolas,'Courier New',monospace\"><span style=\"color: #00ff00; text-decoration-color: #00ff00\">         </span><span style=\"color: #00ffaf; text-decoration-color: #00ffaf\">INFO    </span> <span style=\"color: #c6c6c6; text-decoration-color: #c6c6c6; font-weight: bold\"> J1857P0203u in data_radius: </span><span style=\"color: #c0c0c0; text-decoration-color: #c0c0c0; font-weight: bold\">6.0</span><span style=\"color: #c6c6c6; text-decoration-color: #c6c6c6; font-weight: bold\">                                                     </span><a href=\"file:///data/home/cwy/Science/3MLWCDA/Standard/src/./mylib/Myfit.py\" target=\"_blank\"><span style=\"color: #7f7f7f; text-decoration-color: #7f7f7f\">Myfit.py</span></a><span style=\"color: #7f7f7f; text-decoration-color: #7f7f7f\">:</span><a href=\"file:///data/home/cwy/Science/3MLWCDA/Standard/src/./mylib/Myfit.py#271\" target=\"_blank\"><span style=\"color: #7f7f7f; text-decoration-color: #7f7f7f\">271</span></a>\n",
       "</pre>\n"
      ],
      "text/plain": [
       "\u001b[38;5;46m        \u001b[0m\u001b[38;5;46m \u001b[0m\u001b[38;5;49mINFO    \u001b[0m \u001b[1;38;5;251m J1857P0203u in data_radius: \u001b[0m\u001b[1;37m6.0\u001b[0m\u001b[1;38;5;251m                                                    \u001b[0m\u001b[1;38;5;251m \u001b[0m\u001b]8;id=665902;file:///data/home/cwy/Science/3MLWCDA/Standard/src/./mylib/Myfit.py\u001b\\\u001b[2mMyfit.py\u001b[0m\u001b]8;;\u001b\\\u001b[2m:\u001b[0m\u001b]8;id=911717;file:///data/home/cwy/Science/3MLWCDA/Standard/src/./mylib/Myfit.py#271\u001b\\\u001b[2m271\u001b[0m\u001b]8;;\u001b\\\n"
      ]
     },
     "metadata": {},
     "output_type": "display_data"
    },
    {
     "data": {
      "text/html": [
       "<pre style=\"white-space:pre;overflow-x:auto;line-height:normal;font-family:Menlo,'DejaVu Sans Mono',consolas,'Courier New',monospace\"><span style=\"color: #00ff00; text-decoration-color: #00ff00\">         </span><span style=\"color: #00ffaf; text-decoration-color: #00ffaf\">INFO    </span> <span style=\"color: #c6c6c6; text-decoration-color: #c6c6c6; font-weight: bold\"> J1858P0330 in data_radius: </span><span style=\"color: #c0c0c0; text-decoration-color: #c0c0c0; font-weight: bold\">6.0</span><span style=\"color: #c6c6c6; text-decoration-color: #c6c6c6; font-weight: bold\">                                                      </span><a href=\"file:///data/home/cwy/Science/3MLWCDA/Standard/src/./mylib/Myfit.py\" target=\"_blank\"><span style=\"color: #7f7f7f; text-decoration-color: #7f7f7f\">Myfit.py</span></a><span style=\"color: #7f7f7f; text-decoration-color: #7f7f7f\">:</span><a href=\"file:///data/home/cwy/Science/3MLWCDA/Standard/src/./mylib/Myfit.py#271\" target=\"_blank\"><span style=\"color: #7f7f7f; text-decoration-color: #7f7f7f\">271</span></a>\n",
       "</pre>\n"
      ],
      "text/plain": [
       "\u001b[38;5;46m        \u001b[0m\u001b[38;5;46m \u001b[0m\u001b[38;5;49mINFO    \u001b[0m \u001b[1;38;5;251m J1858P0330 in data_radius: \u001b[0m\u001b[1;37m6.0\u001b[0m\u001b[1;38;5;251m                                                     \u001b[0m\u001b[1;38;5;251m \u001b[0m\u001b]8;id=630968;file:///data/home/cwy/Science/3MLWCDA/Standard/src/./mylib/Myfit.py\u001b\\\u001b[2mMyfit.py\u001b[0m\u001b]8;;\u001b\\\u001b[2m:\u001b[0m\u001b]8;id=634775;file:///data/home/cwy/Science/3MLWCDA/Standard/src/./mylib/Myfit.py#271\u001b\\\u001b[2m271\u001b[0m\u001b]8;;\u001b\\\n"
      ]
     },
     "metadata": {},
     "output_type": "display_data"
    },
    {
     "data": {
      "text/html": [
       "<pre style=\"white-space:pre;overflow-x:auto;line-height:normal;font-family:Menlo,'DejaVu Sans Mono',consolas,'Courier New',monospace\"><span style=\"color: #00ff00; text-decoration-color: #00ff00\">         </span><span style=\"color: #00ffaf; text-decoration-color: #00ffaf\">INFO    </span> <span style=\"color: #c6c6c6; text-decoration-color: #c6c6c6; font-weight: bold\"> J1908P0615u in model_radius: </span><span style=\"color: #c0c0c0; text-decoration-color: #c0c0c0; font-weight: bold\">8.0</span><span style=\"color: #c6c6c6; text-decoration-color: #c6c6c6; font-weight: bold\"> have been fixed!!                                  </span><a href=\"file:///data/home/cwy/Science/3MLWCDA/Standard/src/./mylib/Myfit.py\" target=\"_blank\"><span style=\"color: #7f7f7f; text-decoration-color: #7f7f7f\">Myfit.py</span></a><span style=\"color: #7f7f7f; text-decoration-color: #7f7f7f\">:</span><a href=\"file:///data/home/cwy/Science/3MLWCDA/Standard/src/./mylib/Myfit.py#287\" target=\"_blank\"><span style=\"color: #7f7f7f; text-decoration-color: #7f7f7f\">287</span></a>\n",
       "</pre>\n"
      ],
      "text/plain": [
       "\u001b[38;5;46m        \u001b[0m\u001b[38;5;46m \u001b[0m\u001b[38;5;49mINFO    \u001b[0m \u001b[1;38;5;251m J1908P0615u in model_radius: \u001b[0m\u001b[1;37m8.0\u001b[0m\u001b[1;38;5;251m have been fixed!!                                 \u001b[0m\u001b[1;38;5;251m \u001b[0m\u001b]8;id=231054;file:///data/home/cwy/Science/3MLWCDA/Standard/src/./mylib/Myfit.py\u001b\\\u001b[2mMyfit.py\u001b[0m\u001b]8;;\u001b\\\u001b[2m:\u001b[0m\u001b]8;id=402346;file:///data/home/cwy/Science/3MLWCDA/Standard/src/./mylib/Myfit.py#287\u001b\\\u001b[2m287\u001b[0m\u001b]8;;\u001b\\\n"
      ]
     },
     "metadata": {},
     "output_type": "display_data"
    },
    {
     "data": {
      "text/html": [
       "<pre style=\"white-space:pre;overflow-x:auto;line-height:normal;font-family:Menlo,'DejaVu Sans Mono',consolas,'Courier New',monospace\"><span style=\"color: #00ff00; text-decoration-color: #00ff00\">         </span><span style=\"color: #00ffaf; text-decoration-color: #00ffaf\">INFO    </span> <span style=\"color: #c6c6c6; text-decoration-color: #c6c6c6; font-weight: bold\"> J1910P0516 in data_radius: </span><span style=\"color: #c0c0c0; text-decoration-color: #c0c0c0; font-weight: bold\">6.0</span><span style=\"color: #c6c6c6; text-decoration-color: #c6c6c6; font-weight: bold\">                                                      </span><a href=\"file:///data/home/cwy/Science/3MLWCDA/Standard/src/./mylib/Myfit.py\" target=\"_blank\"><span style=\"color: #7f7f7f; text-decoration-color: #7f7f7f\">Myfit.py</span></a><span style=\"color: #7f7f7f; text-decoration-color: #7f7f7f\">:</span><a href=\"file:///data/home/cwy/Science/3MLWCDA/Standard/src/./mylib/Myfit.py#271\" target=\"_blank\"><span style=\"color: #7f7f7f; text-decoration-color: #7f7f7f\">271</span></a>\n",
       "</pre>\n"
      ],
      "text/plain": [
       "\u001b[38;5;46m        \u001b[0m\u001b[38;5;46m \u001b[0m\u001b[38;5;49mINFO    \u001b[0m \u001b[1;38;5;251m J1910P0516 in data_radius: \u001b[0m\u001b[1;37m6.0\u001b[0m\u001b[1;38;5;251m                                                     \u001b[0m\u001b[1;38;5;251m \u001b[0m\u001b]8;id=564514;file:///data/home/cwy/Science/3MLWCDA/Standard/src/./mylib/Myfit.py\u001b\\\u001b[2mMyfit.py\u001b[0m\u001b]8;;\u001b\\\u001b[2m:\u001b[0m\u001b]8;id=117030;file:///data/home/cwy/Science/3MLWCDA/Standard/src/./mylib/Myfit.py#271\u001b\\\u001b[2m271\u001b[0m\u001b]8;;\u001b\\\n"
      ]
     },
     "metadata": {},
     "output_type": "display_data"
    },
    {
     "data": {
      "text/html": [
       "<pre style=\"white-space:pre;overflow-x:auto;line-height:normal;font-family:Menlo,'DejaVu Sans Mono',consolas,'Courier New',monospace\"><span style=\"color: #00ff00; text-decoration-color: #00ff00\">         </span><span style=\"color: #00ffaf; text-decoration-color: #00ffaf\">INFO    </span> <span style=\"color: #c6c6c6; text-decoration-color: #c6c6c6; font-weight: bold\"> J1913P0501 in data_radius: </span><span style=\"color: #c0c0c0; text-decoration-color: #c0c0c0; font-weight: bold\">6.0</span><span style=\"color: #c6c6c6; text-decoration-color: #c6c6c6; font-weight: bold\">                                                      </span><a href=\"file:///data/home/cwy/Science/3MLWCDA/Standard/src/./mylib/Myfit.py\" target=\"_blank\"><span style=\"color: #7f7f7f; text-decoration-color: #7f7f7f\">Myfit.py</span></a><span style=\"color: #7f7f7f; text-decoration-color: #7f7f7f\">:</span><a href=\"file:///data/home/cwy/Science/3MLWCDA/Standard/src/./mylib/Myfit.py#271\" target=\"_blank\"><span style=\"color: #7f7f7f; text-decoration-color: #7f7f7f\">271</span></a>\n",
       "</pre>\n"
      ],
      "text/plain": [
       "\u001b[38;5;46m        \u001b[0m\u001b[38;5;46m \u001b[0m\u001b[38;5;49mINFO    \u001b[0m \u001b[1;38;5;251m J1913P0501 in data_radius: \u001b[0m\u001b[1;37m6.0\u001b[0m\u001b[1;38;5;251m                                                     \u001b[0m\u001b[1;38;5;251m \u001b[0m\u001b]8;id=536519;file:///data/home/cwy/Science/3MLWCDA/Standard/src/./mylib/Myfit.py\u001b\\\u001b[2mMyfit.py\u001b[0m\u001b]8;;\u001b\\\u001b[2m:\u001b[0m\u001b]8;id=205937;file:///data/home/cwy/Science/3MLWCDA/Standard/src/./mylib/Myfit.py#271\u001b\\\u001b[2m271\u001b[0m\u001b]8;;\u001b\\\n"
      ]
     },
     "metadata": {},
     "output_type": "display_data"
    },
    {
     "data": {
      "text/html": [
       "<pre style=\"white-space:pre;overflow-x:auto;line-height:normal;font-family:Menlo,'DejaVu Sans Mono',consolas,'Courier New',monospace\"><span style=\"color: #00ff00; text-decoration-color: #00ff00\">         </span><span style=\"color: #00ffaf; text-decoration-color: #00ffaf\">INFO    </span> <span style=\"color: #c6c6c6; text-decoration-color: #c6c6c6; font-weight: bold\"> Set diffuse range: [</span><span style=\"color: #c0c0c0; text-decoration-color: #c0c0c0; font-weight: bold\">29</span><span style=\"color: #c6c6c6; text-decoration-color: #c6c6c6; font-weight: bold\">, </span><span style=\"color: #c0c0c0; text-decoration-color: #c0c0c0; font-weight: bold\">41</span><span style=\"color: #c6c6c6; text-decoration-color: #c6c6c6; font-weight: bold\">] [</span><span style=\"color: #c0c0c0; text-decoration-color: #c0c0c0; font-weight: bold\">-6</span><span style=\"color: #c6c6c6; text-decoration-color: #c6c6c6; font-weight: bold\">, </span><span style=\"color: #c0c0c0; text-decoration-color: #c0c0c0; font-weight: bold\">6</span><span style=\"color: #c6c6c6; text-decoration-color: #c6c6c6; font-weight: bold\">]                                                 </span><a href=\"file:///data/home/cwy/Science/3MLWCDA/Standard/src/./mylib/Myfit.py\" target=\"_blank\"><span style=\"color: #7f7f7f; text-decoration-color: #7f7f7f\">Myfit.py</span></a><span style=\"color: #7f7f7f; text-decoration-color: #7f7f7f\">:</span><a href=\"file:///data/home/cwy/Science/3MLWCDA/Standard/src/./mylib/Myfit.py#852\" target=\"_blank\"><span style=\"color: #7f7f7f; text-decoration-color: #7f7f7f\">852</span></a>\n",
       "</pre>\n"
      ],
      "text/plain": [
       "\u001b[38;5;46m        \u001b[0m\u001b[38;5;46m \u001b[0m\u001b[38;5;49mINFO    \u001b[0m \u001b[1;38;5;251m Set diffuse range: \u001b[0m\u001b[1;38;5;251m[\u001b[0m\u001b[1;37m29\u001b[0m\u001b[1;38;5;251m, \u001b[0m\u001b[1;37m41\u001b[0m\u001b[1;38;5;251m]\u001b[0m\u001b[1;38;5;251m \u001b[0m\u001b[1;38;5;251m[\u001b[0m\u001b[1;37m-6\u001b[0m\u001b[1;38;5;251m, \u001b[0m\u001b[1;37m6\u001b[0m\u001b[1;38;5;251m]\u001b[0m\u001b[1;38;5;251m                                                \u001b[0m\u001b[1;38;5;251m \u001b[0m\u001b]8;id=588662;file:///data/home/cwy/Science/3MLWCDA/Standard/src/./mylib/Myfit.py\u001b\\\u001b[2mMyfit.py\u001b[0m\u001b]8;;\u001b\\\u001b[2m:\u001b[0m\u001b]8;id=41062;file:///data/home/cwy/Science/3MLWCDA/Standard/src/./mylib/Myfit.py#852\u001b\\\u001b[2m852\u001b[0m\u001b]8;;\u001b\\\n"
      ]
     },
     "metadata": {},
     "output_type": "display_data"
    },
    {
     "data": {
      "text/html": [
       "<pre style=\"white-space:pre;overflow-x:auto;line-height:normal;font-family:Menlo,'DejaVu Sans Mono',consolas,'Courier New',monospace\"><span style=\"color: #00ff00; text-decoration-color: #00ff00\">         </span><span style=\"color: #00ffaf; text-decoration-color: #00ffaf\">INFO    </span> <span style=\"color: #c6c6c6; text-decoration-color: #c6c6c6; font-weight: bold\"> ra dec coner:                                                                       </span><a href=\"file:///data/home/cwy/Science/3MLWCDA/Standard/src/./mylib/Myfit.py\" target=\"_blank\"><span style=\"color: #7f7f7f; text-decoration-color: #7f7f7f\">Myfit.py</span></a><span style=\"color: #7f7f7f; text-decoration-color: #7f7f7f\">:</span><a href=\"file:///data/home/cwy/Science/3MLWCDA/Standard/src/./mylib/Myfit.py#853\" target=\"_blank\"><span style=\"color: #7f7f7f; text-decoration-color: #7f7f7f\">853</span></a>\n",
       "</pre>\n"
      ],
      "text/plain": [
       "\u001b[38;5;46m        \u001b[0m\u001b[38;5;46m \u001b[0m\u001b[38;5;49mINFO    \u001b[0m \u001b[1;38;5;251m ra dec coner:                                                                      \u001b[0m\u001b[1;38;5;251m \u001b[0m\u001b]8;id=341908;file:///data/home/cwy/Science/3MLWCDA/Standard/src/./mylib/Myfit.py\u001b\\\u001b[2mMyfit.py\u001b[0m\u001b]8;;\u001b\\\u001b[2m:\u001b[0m\u001b]8;id=94169;file:///data/home/cwy/Science/3MLWCDA/Standard/src/./mylib/Myfit.py#853\u001b\\\u001b[2m853\u001b[0m\u001b]8;;\u001b\\\n"
      ]
     },
     "metadata": {},
     "output_type": "display_data"
    },
    {
     "data": {
      "text/html": [
       "<pre style=\"white-space:pre;overflow-x:auto;line-height:normal;font-family:Menlo,'DejaVu Sans Mono',consolas,'Courier New',monospace\"><span style=\"color: #00ff00; text-decoration-color: #00ff00\">         </span><span style=\"color: #00ffaf; text-decoration-color: #00ffaf\">INFO    </span> <span style=\"color: #c6c6c6; text-decoration-color: #c6c6c6; font-weight: bold\"> (</span><span style=\"color: #c0c0c0; text-decoration-color: #c0c0c0; font-weight: bold\">286.43130848544473</span><span style=\"color: #c6c6c6; text-decoration-color: #c6c6c6; font-weight: bold\">, </span><span style=\"color: #c0c0c0; text-decoration-color: #c0c0c0; font-weight: bold\">-6.220584433278956</span><span style=\"color: #c6c6c6; text-decoration-color: #c6c6c6; font-weight: bold\">)                                            </span><a href=\"file:///data/home/cwy/Science/3MLWCDA/Standard/src/./mylib/Myfit.py\" target=\"_blank\"><span style=\"color: #7f7f7f; text-decoration-color: #7f7f7f\">Myfit.py</span></a><span style=\"color: #7f7f7f; text-decoration-color: #7f7f7f\">:</span><a href=\"file:///data/home/cwy/Science/3MLWCDA/Standard/src/./mylib/Myfit.py#854\" target=\"_blank\"><span style=\"color: #7f7f7f; text-decoration-color: #7f7f7f\">854</span></a>\n",
       "</pre>\n"
      ],
      "text/plain": [
       "\u001b[38;5;46m        \u001b[0m\u001b[38;5;46m \u001b[0m\u001b[38;5;49mINFO    \u001b[0m \u001b[1;38;5;251m \u001b[0m\u001b[1;38;5;251m(\u001b[0m\u001b[1;37m286.43130848544473\u001b[0m\u001b[1;38;5;251m, \u001b[0m\u001b[1;37m-6.220584433278956\u001b[0m\u001b[1;38;5;251m)\u001b[0m\u001b[1;38;5;251m                                           \u001b[0m\u001b[1;38;5;251m \u001b[0m\u001b]8;id=119510;file:///data/home/cwy/Science/3MLWCDA/Standard/src/./mylib/Myfit.py\u001b\\\u001b[2mMyfit.py\u001b[0m\u001b]8;;\u001b\\\u001b[2m:\u001b[0m\u001b]8;id=612810;file:///data/home/cwy/Science/3MLWCDA/Standard/src/./mylib/Myfit.py#854\u001b\\\u001b[2m854\u001b[0m\u001b]8;;\u001b\\\n"
      ]
     },
     "metadata": {},
     "output_type": "display_data"
    },
    {
     "data": {
      "text/html": [
       "<pre style=\"white-space:pre;overflow-x:auto;line-height:normal;font-family:Menlo,'DejaVu Sans Mono',consolas,'Courier New',monospace\"><span style=\"color: #00ff00; text-decoration-color: #00ff00\">         </span><span style=\"color: #00ffaf; text-decoration-color: #00ffaf\">INFO    </span> <span style=\"color: #c6c6c6; text-decoration-color: #c6c6c6; font-weight: bold\"> (</span><span style=\"color: #c0c0c0; text-decoration-color: #c0c0c0; font-weight: bold\">291.900225914779</span><span style=\"color: #c6c6c6; text-decoration-color: #c6c6c6; font-weight: bold\">, </span><span style=\"color: #c0c0c0; text-decoration-color: #c0c0c0; font-weight: bold\">4.390969899281148</span><span style=\"color: #c6c6c6; text-decoration-color: #c6c6c6; font-weight: bold\">)                                               </span><a href=\"file:///data/home/cwy/Science/3MLWCDA/Standard/src/./mylib/Myfit.py\" target=\"_blank\"><span style=\"color: #7f7f7f; text-decoration-color: #7f7f7f\">Myfit.py</span></a><span style=\"color: #7f7f7f; text-decoration-color: #7f7f7f\">:</span><a href=\"file:///data/home/cwy/Science/3MLWCDA/Standard/src/./mylib/Myfit.py#855\" target=\"_blank\"><span style=\"color: #7f7f7f; text-decoration-color: #7f7f7f\">855</span></a>\n",
       "</pre>\n"
      ],
      "text/plain": [
       "\u001b[38;5;46m        \u001b[0m\u001b[38;5;46m \u001b[0m\u001b[38;5;49mINFO    \u001b[0m \u001b[1;38;5;251m \u001b[0m\u001b[1;38;5;251m(\u001b[0m\u001b[1;37m291.900225914779\u001b[0m\u001b[1;38;5;251m, \u001b[0m\u001b[1;37m4.390969899281148\u001b[0m\u001b[1;38;5;251m)\u001b[0m\u001b[1;38;5;251m                                              \u001b[0m\u001b[1;38;5;251m \u001b[0m\u001b]8;id=166383;file:///data/home/cwy/Science/3MLWCDA/Standard/src/./mylib/Myfit.py\u001b\\\u001b[2mMyfit.py\u001b[0m\u001b]8;;\u001b\\\u001b[2m:\u001b[0m\u001b]8;id=318304;file:///data/home/cwy/Science/3MLWCDA/Standard/src/./mylib/Myfit.py#855\u001b\\\u001b[2m855\u001b[0m\u001b]8;;\u001b\\\n"
      ]
     },
     "metadata": {},
     "output_type": "display_data"
    },
    {
     "data": {
      "text/html": [
       "<pre style=\"white-space:pre;overflow-x:auto;line-height:normal;font-family:Menlo,'DejaVu Sans Mono',consolas,'Courier New',monospace\"><span style=\"color: #00ff00; text-decoration-color: #00ff00\">         </span><span style=\"color: #00ffaf; text-decoration-color: #00ffaf\">INFO    </span> <span style=\"color: #c6c6c6; text-decoration-color: #c6c6c6; font-weight: bold\"> (</span><span style=\"color: #c0c0c0; text-decoration-color: #c0c0c0; font-weight: bold\">281.1502940571333</span><span style=\"color: #c6c6c6; text-decoration-color: #c6c6c6; font-weight: bold\">, </span><span style=\"color: #c0c0c0; text-decoration-color: #c0c0c0; font-weight: bold\">9.897636371827181</span><span style=\"color: #c6c6c6; text-decoration-color: #c6c6c6; font-weight: bold\">)                                              </span><a href=\"file:///data/home/cwy/Science/3MLWCDA/Standard/src/./mylib/Myfit.py\" target=\"_blank\"><span style=\"color: #7f7f7f; text-decoration-color: #7f7f7f\">Myfit.py</span></a><span style=\"color: #7f7f7f; text-decoration-color: #7f7f7f\">:</span><a href=\"file:///data/home/cwy/Science/3MLWCDA/Standard/src/./mylib/Myfit.py#856\" target=\"_blank\"><span style=\"color: #7f7f7f; text-decoration-color: #7f7f7f\">856</span></a>\n",
       "</pre>\n"
      ],
      "text/plain": [
       "\u001b[38;5;46m        \u001b[0m\u001b[38;5;46m \u001b[0m\u001b[38;5;49mINFO    \u001b[0m \u001b[1;38;5;251m \u001b[0m\u001b[1;38;5;251m(\u001b[0m\u001b[1;37m281.1502940571333\u001b[0m\u001b[1;38;5;251m, \u001b[0m\u001b[1;37m9.897636371827181\u001b[0m\u001b[1;38;5;251m)\u001b[0m\u001b[1;38;5;251m                                             \u001b[0m\u001b[1;38;5;251m \u001b[0m\u001b]8;id=323600;file:///data/home/cwy/Science/3MLWCDA/Standard/src/./mylib/Myfit.py\u001b\\\u001b[2mMyfit.py\u001b[0m\u001b]8;;\u001b\\\u001b[2m:\u001b[0m\u001b]8;id=498836;file:///data/home/cwy/Science/3MLWCDA/Standard/src/./mylib/Myfit.py#856\u001b\\\u001b[2m856\u001b[0m\u001b]8;;\u001b\\\n"
      ]
     },
     "metadata": {},
     "output_type": "display_data"
    },
    {
     "data": {
      "text/html": [
       "<pre style=\"white-space:pre;overflow-x:auto;line-height:normal;font-family:Menlo,'DejaVu Sans Mono',consolas,'Courier New',monospace\"><span style=\"color: #00ff00; text-decoration-color: #00ff00\">         </span><span style=\"color: #00ffaf; text-decoration-color: #00ffaf\">INFO    </span> <span style=\"color: #c6c6c6; text-decoration-color: #c6c6c6; font-weight: bold\"> (</span><span style=\"color: #c0c0c0; text-decoration-color: #c0c0c0; font-weight: bold\">275.728632143653</span><span style=\"color: #c6c6c6; text-decoration-color: #c6c6c6; font-weight: bold\">, </span><span style=\"color: #c0c0c0; text-decoration-color: #c0c0c0; font-weight: bold\">-0.7465816309208658</span><span style=\"color: #c6c6c6; text-decoration-color: #c6c6c6; font-weight: bold\">)                                             </span><a href=\"file:///data/home/cwy/Science/3MLWCDA/Standard/src/./mylib/Myfit.py\" target=\"_blank\"><span style=\"color: #7f7f7f; text-decoration-color: #7f7f7f\">Myfit.py</span></a><span style=\"color: #7f7f7f; text-decoration-color: #7f7f7f\">:</span><a href=\"file:///data/home/cwy/Science/3MLWCDA/Standard/src/./mylib/Myfit.py#857\" target=\"_blank\"><span style=\"color: #7f7f7f; text-decoration-color: #7f7f7f\">857</span></a>\n",
       "</pre>\n"
      ],
      "text/plain": [
       "\u001b[38;5;46m        \u001b[0m\u001b[38;5;46m \u001b[0m\u001b[38;5;49mINFO    \u001b[0m \u001b[1;38;5;251m \u001b[0m\u001b[1;38;5;251m(\u001b[0m\u001b[1;37m275.728632143653\u001b[0m\u001b[1;38;5;251m, \u001b[0m\u001b[1;37m-0.7465816309208658\u001b[0m\u001b[1;38;5;251m)\u001b[0m\u001b[1;38;5;251m                                            \u001b[0m\u001b[1;38;5;251m \u001b[0m\u001b]8;id=384993;file:///data/home/cwy/Science/3MLWCDA/Standard/src/./mylib/Myfit.py\u001b\\\u001b[2mMyfit.py\u001b[0m\u001b]8;;\u001b\\\u001b[2m:\u001b[0m\u001b]8;id=584284;file:///data/home/cwy/Science/3MLWCDA/Standard/src/./mylib/Myfit.py#857\u001b\\\u001b[2m857\u001b[0m\u001b]8;;\u001b\\\n"
      ]
     },
     "metadata": {},
     "output_type": "display_data"
    },
    {
     "data": {
      "text/html": [
       "<pre style=\"white-space:pre;overflow-x:auto;line-height:normal;font-family:Menlo,'DejaVu Sans Mono',consolas,'Courier New',monospace\"><span style=\"color: #00ff00; text-decoration-color: #00ff00\">         </span><span style=\"color: #00ffaf; text-decoration-color: #00ffaf\">INFO    </span> <span style=\"color: #c6c6c6; text-decoration-color: #c6c6c6; font-weight: bold\"> diffuse file path: ..</span><span style=\"color: #5f5f5f; text-decoration-color: #5f5f5f; font-weight: bold\">/../data/</span><span style=\"color: #000080; text-decoration-color: #000080; font-weight: bold\">Diffuse_KM2A_dust_bkg_template.fits</span><span style=\"color: #c6c6c6; text-decoration-color: #c6c6c6; font-weight: bold\">                   </span><a href=\"file:///data/home/cwy/Science/3MLWCDA/Standard/src/./mylib/Myfit.py\" target=\"_blank\"><span style=\"color: #7f7f7f; text-decoration-color: #7f7f7f\">Myfit.py</span></a><span style=\"color: #7f7f7f; text-decoration-color: #7f7f7f\">:</span><a href=\"file:///data/home/cwy/Science/3MLWCDA/Standard/src/./mylib/Myfit.py#914\" target=\"_blank\"><span style=\"color: #7f7f7f; text-decoration-color: #7f7f7f\">914</span></a>\n",
       "</pre>\n"
      ],
      "text/plain": [
       "\u001b[38;5;46m        \u001b[0m\u001b[38;5;46m \u001b[0m\u001b[38;5;49mINFO    \u001b[0m \u001b[1;38;5;251m diffuse file path: ..\u001b[0m\u001b[1;38;5;59m/../data/\u001b[0m\u001b[1;34mDiffuse_KM2A_dust_bkg_template.fits\u001b[0m\u001b[1;38;5;251m                  \u001b[0m\u001b[1;38;5;251m \u001b[0m\u001b]8;id=249947;file:///data/home/cwy/Science/3MLWCDA/Standard/src/./mylib/Myfit.py\u001b\\\u001b[2mMyfit.py\u001b[0m\u001b]8;;\u001b\\\u001b[2m:\u001b[0m\u001b]8;id=488127;file:///data/home/cwy/Science/3MLWCDA/Standard/src/./mylib/Myfit.py#914\u001b\\\u001b[2m914\u001b[0m\u001b]8;;\u001b\\\n"
      ]
     },
     "metadata": {},
     "output_type": "display_data"
    },
    {
     "data": {
      "text/html": [
       "Model summary:<br><br><div>\n",
       "<style scoped>\n",
       "    .dataframe tbody tr th:only-of-type {\n",
       "        vertical-align: middle;\n",
       "    }\n",
       "\n",
       "    .dataframe tbody tr th {\n",
       "        vertical-align: top;\n",
       "    }\n",
       "\n",
       "    .dataframe thead th {\n",
       "        text-align: right;\n",
       "    }\n",
       "</style>\n",
       "<table border=\"1\" class=\"dataframe\">\n",
       "  <thead>\n",
       "    <tr style=\"text-align: right;\">\n",
       "      <th></th>\n",
       "      <th>N</th>\n",
       "    </tr>\n",
       "  </thead>\n",
       "  <tbody>\n",
       "    <tr>\n",
       "      <th>Point sources</th>\n",
       "      <td>3</td>\n",
       "    </tr>\n",
       "    <tr>\n",
       "      <th>Extended sources</th>\n",
       "      <td>9</td>\n",
       "    </tr>\n",
       "    <tr>\n",
       "      <th>Particle sources</th>\n",
       "      <td>0</td>\n",
       "    </tr>\n",
       "  </tbody>\n",
       "</table>\n",
       "</div><br><br>Free parameters (18):<br><br><div>\n",
       "<style scoped>\n",
       "    .dataframe tbody tr th:only-of-type {\n",
       "        vertical-align: middle;\n",
       "    }\n",
       "\n",
       "    .dataframe tbody tr th {\n",
       "        vertical-align: top;\n",
       "    }\n",
       "\n",
       "    .dataframe thead th {\n",
       "        text-align: right;\n",
       "    }\n",
       "</style>\n",
       "<table border=\"1\" class=\"dataframe\">\n",
       "  <thead>\n",
       "    <tr style=\"text-align: right;\">\n",
       "      <th></th>\n",
       "      <th>value</th>\n",
       "      <th>min_value</th>\n",
       "      <th>max_value</th>\n",
       "      <th>unit</th>\n",
       "    </tr>\n",
       "  </thead>\n",
       "  <tbody>\n",
       "    <tr>\n",
       "      <th>J1848M0153u.spectrum.main.Powerlaw.K</th>\n",
       "      <td>0.0</td>\n",
       "      <td>0.0</td>\n",
       "      <td>0.0</td>\n",
       "      <td>keV-1 s-1 cm-2</td>\n",
       "    </tr>\n",
       "    <tr>\n",
       "      <th>J1848M0153u.spectrum.main.Powerlaw.index</th>\n",
       "      <td>-3.69</td>\n",
       "      <td>-4.69</td>\n",
       "      <td>-2.69</td>\n",
       "      <td></td>\n",
       "    </tr>\n",
       "    <tr>\n",
       "      <th>J1848M0001u.spectrum.main.Powerlaw.K</th>\n",
       "      <td>0.0</td>\n",
       "      <td>0.0</td>\n",
       "      <td>0.0</td>\n",
       "      <td>keV-1 s-1 cm-2</td>\n",
       "    </tr>\n",
       "    <tr>\n",
       "      <th>J1848M0001u.spectrum.main.Powerlaw.index</th>\n",
       "      <td>-2.75</td>\n",
       "      <td>-3.45</td>\n",
       "      <td>-2.05</td>\n",
       "      <td></td>\n",
       "    </tr>\n",
       "    <tr>\n",
       "      <th>J1850M0004u.spectrum.main.Powerlaw.K</th>\n",
       "      <td>0.0</td>\n",
       "      <td>0.0</td>\n",
       "      <td>0.0</td>\n",
       "      <td>keV-1 s-1 cm-2</td>\n",
       "    </tr>\n",
       "    <tr>\n",
       "      <th>J1850M0004u.spectrum.main.Powerlaw.index</th>\n",
       "      <td>-3.15</td>\n",
       "      <td>-4.05</td>\n",
       "      <td>-2.25</td>\n",
       "      <td></td>\n",
       "    </tr>\n",
       "    <tr>\n",
       "      <th>J1852P0050u.spectrum.main.Powerlaw.K</th>\n",
       "      <td>0.0</td>\n",
       "      <td>0.0</td>\n",
       "      <td>0.0</td>\n",
       "      <td>keV-1 s-1 cm-2</td>\n",
       "    </tr>\n",
       "    <tr>\n",
       "      <th>J1852P0050u.spectrum.main.Powerlaw.index</th>\n",
       "      <td>-3.64</td>\n",
       "      <td>-4.84</td>\n",
       "      <td>-2.44</td>\n",
       "      <td></td>\n",
       "    </tr>\n",
       "    <tr>\n",
       "      <th>J1857P0203u.spectrum.main.Powerlaw.K</th>\n",
       "      <td>0.0</td>\n",
       "      <td>0.0</td>\n",
       "      <td>0.0</td>\n",
       "      <td>keV-1 s-1 cm-2</td>\n",
       "    </tr>\n",
       "    <tr>\n",
       "      <th>J1857P0203u.spectrum.main.Powerlaw.index</th>\n",
       "      <td>-3.31</td>\n",
       "      <td>-4.31</td>\n",
       "      <td>-2.31</td>\n",
       "      <td></td>\n",
       "    </tr>\n",
       "    <tr>\n",
       "      <th>J1858P0330.spectrum.main.Powerlaw.K</th>\n",
       "      <td>0.0</td>\n",
       "      <td>0.0</td>\n",
       "      <td>0.0</td>\n",
       "      <td>keV-1 s-1 cm-2</td>\n",
       "    </tr>\n",
       "    <tr>\n",
       "      <th>J1858P0330.spectrum.main.Powerlaw.index</th>\n",
       "      <td>-3.78</td>\n",
       "      <td>-5.28</td>\n",
       "      <td>-2.28</td>\n",
       "      <td></td>\n",
       "    </tr>\n",
       "    <tr>\n",
       "      <th>J1910P0516.spectrum.main.Powerlaw.K</th>\n",
       "      <td>0.0</td>\n",
       "      <td>0.0</td>\n",
       "      <td>0.0</td>\n",
       "      <td>keV-1 s-1 cm-2</td>\n",
       "    </tr>\n",
       "    <tr>\n",
       "      <th>J1910P0516.spectrum.main.Powerlaw.index</th>\n",
       "      <td>-3.15</td>\n",
       "      <td>-4.95</td>\n",
       "      <td>-1.35</td>\n",
       "      <td></td>\n",
       "    </tr>\n",
       "    <tr>\n",
       "      <th>J1913P0501.spectrum.main.Powerlaw.K</th>\n",
       "      <td>0.0</td>\n",
       "      <td>0.0</td>\n",
       "      <td>0.0</td>\n",
       "      <td>keV-1 s-1 cm-2</td>\n",
       "    </tr>\n",
       "    <tr>\n",
       "      <th>J1913P0501.spectrum.main.Powerlaw.index</th>\n",
       "      <td>-3.3</td>\n",
       "      <td>-5.1</td>\n",
       "      <td>-1.5</td>\n",
       "      <td></td>\n",
       "    </tr>\n",
       "    <tr>\n",
       "      <th>Diffuse.spectrum.main.Powerlaw.K</th>\n",
       "      <td>0.0</td>\n",
       "      <td>0.0</td>\n",
       "      <td>0.0</td>\n",
       "      <td>keV-1 s-1 cm-2</td>\n",
       "    </tr>\n",
       "    <tr>\n",
       "      <th>Diffuse.spectrum.main.Powerlaw.index</th>\n",
       "      <td>-2.733</td>\n",
       "      <td>-4.0</td>\n",
       "      <td>-1.0</td>\n",
       "      <td></td>\n",
       "    </tr>\n",
       "  </tbody>\n",
       "</table>\n",
       "</div><br><br>Fixed parameters (51):<br><br><div>\n",
       "<style scoped>\n",
       "    .dataframe tbody tr th:only-of-type {\n",
       "        vertical-align: middle;\n",
       "    }\n",
       "\n",
       "    .dataframe tbody tr th {\n",
       "        vertical-align: top;\n",
       "    }\n",
       "\n",
       "    .dataframe thead th {\n",
       "        text-align: right;\n",
       "    }\n",
       "</style>\n",
       "<table border=\"1\" class=\"dataframe\">\n",
       "  <thead>\n",
       "    <tr style=\"text-align: right;\">\n",
       "      <th></th>\n",
       "      <th>value</th>\n",
       "      <th>min_value</th>\n",
       "      <th>max_value</th>\n",
       "      <th>unit</th>\n",
       "    </tr>\n",
       "  </thead>\n",
       "  <tbody>\n",
       "    <tr>\n",
       "      <th>J1841M0519.Gaussian_on_sphere.lon0</th>\n",
       "      <td>280.21</td>\n",
       "      <td>0.0</td>\n",
       "      <td>360.0</td>\n",
       "      <td>deg</td>\n",
       "    </tr>\n",
       "    <tr>\n",
       "      <th>J1841M0519.Gaussian_on_sphere.lat0</th>\n",
       "      <td>-5.23</td>\n",
       "      <td>-90.0</td>\n",
       "      <td>90.0</td>\n",
       "      <td>deg</td>\n",
       "    </tr>\n",
       "    <tr>\n",
       "      <th>J1841M0519.Gaussian_on_sphere.sigma</th>\n",
       "      <td>0.62</td>\n",
       "      <td>0.0</td>\n",
       "      <td>20.0</td>\n",
       "      <td>deg</td>\n",
       "    </tr>\n",
       "    <tr>\n",
       "      <th>J1841M0519.spectrum.main.Powerlaw.K</th>\n",
       "      <td>0.0</td>\n",
       "      <td>0.0</td>\n",
       "      <td>1000.0</td>\n",
       "      <td>keV-1 s-1 cm-2</td>\n",
       "    </tr>\n",
       "    <tr>\n",
       "      <th>J1841M0519.spectrum.main.Powerlaw.piv</th>\n",
       "      <td>50000000000.0</td>\n",
       "      <td>None</td>\n",
       "      <td>None</td>\n",
       "      <td>keV</td>\n",
       "    </tr>\n",
       "    <tr>\n",
       "      <th>J1841M0519.spectrum.main.Powerlaw.index</th>\n",
       "      <td>-3.85</td>\n",
       "      <td>-10.0</td>\n",
       "      <td>10.0</td>\n",
       "      <td></td>\n",
       "    </tr>\n",
       "    <tr>\n",
       "      <th>J1843M0335u.Gaussian_on_sphere.lon0</th>\n",
       "      <td>280.91</td>\n",
       "      <td>0.0</td>\n",
       "      <td>360.0</td>\n",
       "      <td>deg</td>\n",
       "    </tr>\n",
       "    <tr>\n",
       "      <th>J1843M0335u.Gaussian_on_sphere.lat0</th>\n",
       "      <td>-3.6</td>\n",
       "      <td>-90.0</td>\n",
       "      <td>90.0</td>\n",
       "      <td>deg</td>\n",
       "    </tr>\n",
       "    <tr>\n",
       "      <th>J1843M0335u.Gaussian_on_sphere.sigma</th>\n",
       "      <td>0.36</td>\n",
       "      <td>0.0</td>\n",
       "      <td>20.0</td>\n",
       "      <td>deg</td>\n",
       "    </tr>\n",
       "    <tr>\n",
       "      <th>J1843M0335u.spectrum.main.Powerlaw.K</th>\n",
       "      <td>0.0</td>\n",
       "      <td>0.0</td>\n",
       "      <td>1000.0</td>\n",
       "      <td>keV-1 s-1 cm-2</td>\n",
       "    </tr>\n",
       "    <tr>\n",
       "      <th>J1843M0335u.spectrum.main.Powerlaw.piv</th>\n",
       "      <td>50000000000.0</td>\n",
       "      <td>None</td>\n",
       "      <td>None</td>\n",
       "      <td>keV</td>\n",
       "    </tr>\n",
       "    <tr>\n",
       "      <th>J1843M0335u.spectrum.main.Powerlaw.index</th>\n",
       "      <td>-3.44</td>\n",
       "      <td>-10.0</td>\n",
       "      <td>10.0</td>\n",
       "      <td></td>\n",
       "    </tr>\n",
       "    <tr>\n",
       "      <th>J1848M0153u.Gaussian_on_sphere.lon0</th>\n",
       "      <td>282.02</td>\n",
       "      <td>280.92</td>\n",
       "      <td>283.12</td>\n",
       "      <td>deg</td>\n",
       "    </tr>\n",
       "    <tr>\n",
       "      <th>J1848M0153u.Gaussian_on_sphere.lat0</th>\n",
       "      <td>-1.78</td>\n",
       "      <td>-2.88</td>\n",
       "      <td>-0.68</td>\n",
       "      <td>deg</td>\n",
       "    </tr>\n",
       "    <tr>\n",
       "      <th>J1848M0153u.Gaussian_on_sphere.sigma</th>\n",
       "      <td>0.56</td>\n",
       "      <td>0.26</td>\n",
       "      <td>0.86</td>\n",
       "      <td>deg</td>\n",
       "    </tr>\n",
       "    <tr>\n",
       "      <th>J1848M0153u.spectrum.main.Powerlaw.piv</th>\n",
       "      <td>50000000000.0</td>\n",
       "      <td>None</td>\n",
       "      <td>None</td>\n",
       "      <td>keV</td>\n",
       "    </tr>\n",
       "    <tr>\n",
       "      <th>J1848M0001u.position.ra</th>\n",
       "      <td>282.19</td>\n",
       "      <td>281.79</td>\n",
       "      <td>282.59</td>\n",
       "      <td>deg</td>\n",
       "    </tr>\n",
       "    <tr>\n",
       "      <th>J1848M0001u.position.dec</th>\n",
       "      <td>-0.02</td>\n",
       "      <td>-0.42</td>\n",
       "      <td>0.38</td>\n",
       "      <td>deg</td>\n",
       "    </tr>\n",
       "    <tr>\n",
       "      <th>J1848M0001u.spectrum.main.Powerlaw.piv</th>\n",
       "      <td>50000000000.0</td>\n",
       "      <td>None</td>\n",
       "      <td>None</td>\n",
       "      <td>keV</td>\n",
       "    </tr>\n",
       "    <tr>\n",
       "      <th>J1850M0004u.Gaussian_on_sphere.lon0</th>\n",
       "      <td>282.89</td>\n",
       "      <td>282.19</td>\n",
       "      <td>283.59</td>\n",
       "      <td>deg</td>\n",
       "    </tr>\n",
       "    <tr>\n",
       "      <th>J1850M0004u.Gaussian_on_sphere.lat0</th>\n",
       "      <td>-0.07</td>\n",
       "      <td>-0.77</td>\n",
       "      <td>0.63</td>\n",
       "      <td>deg</td>\n",
       "    </tr>\n",
       "    <tr>\n",
       "      <th>J1850M0004u.Gaussian_on_sphere.sigma</th>\n",
       "      <td>0.21</td>\n",
       "      <td>0.0</td>\n",
       "      <td>0.51</td>\n",
       "      <td>deg</td>\n",
       "    </tr>\n",
       "    <tr>\n",
       "      <th>J1850M0004u.spectrum.main.Powerlaw.piv</th>\n",
       "      <td>50000000000.0</td>\n",
       "      <td>None</td>\n",
       "      <td>None</td>\n",
       "      <td>keV</td>\n",
       "    </tr>\n",
       "    <tr>\n",
       "      <th>J1852P0050u.Gaussian_on_sphere.lon0</th>\n",
       "      <td>283.1</td>\n",
       "      <td>280.5</td>\n",
       "      <td>285.7</td>\n",
       "      <td>deg</td>\n",
       "    </tr>\n",
       "    <tr>\n",
       "      <th>J1852P0050u.Gaussian_on_sphere.lat0</th>\n",
       "      <td>0.84</td>\n",
       "      <td>-1.76</td>\n",
       "      <td>3.44</td>\n",
       "      <td>deg</td>\n",
       "    </tr>\n",
       "    <tr>\n",
       "      <th>J1852P0050u.Gaussian_on_sphere.sigma</th>\n",
       "      <td>0.85</td>\n",
       "      <td>0.25</td>\n",
       "      <td>1.45</td>\n",
       "      <td>deg</td>\n",
       "    </tr>\n",
       "    <tr>\n",
       "      <th>J1852P0050u.spectrum.main.Powerlaw.piv</th>\n",
       "      <td>50000000000.0</td>\n",
       "      <td>None</td>\n",
       "      <td>None</td>\n",
       "      <td>keV</td>\n",
       "    </tr>\n",
       "    <tr>\n",
       "      <th>J1857P0203u.Gaussian_on_sphere.lon0</th>\n",
       "      <td>284.38</td>\n",
       "      <td>283.68</td>\n",
       "      <td>285.08</td>\n",
       "      <td>deg</td>\n",
       "    </tr>\n",
       "    <tr>\n",
       "      <th>J1857P0203u.Gaussian_on_sphere.lat0</th>\n",
       "      <td>2.06</td>\n",
       "      <td>1.36</td>\n",
       "      <td>2.76</td>\n",
       "      <td>deg</td>\n",
       "    </tr>\n",
       "    <tr>\n",
       "      <th>J1857P0203u.Gaussian_on_sphere.sigma</th>\n",
       "      <td>0.28</td>\n",
       "      <td>0.0</td>\n",
       "      <td>0.58</td>\n",
       "      <td>deg</td>\n",
       "    </tr>\n",
       "    <tr>\n",
       "      <th>J1857P0203u.spectrum.main.Powerlaw.piv</th>\n",
       "      <td>50000000000.0</td>\n",
       "      <td>None</td>\n",
       "      <td>None</td>\n",
       "      <td>keV</td>\n",
       "    </tr>\n",
       "    <tr>\n",
       "      <th>J1858P0330.Gaussian_on_sphere.lon0</th>\n",
       "      <td>284.59</td>\n",
       "      <td>283.39</td>\n",
       "      <td>285.79</td>\n",
       "      <td>deg</td>\n",
       "    </tr>\n",
       "    <tr>\n",
       "      <th>J1858P0330.Gaussian_on_sphere.lat0</th>\n",
       "      <td>3.51</td>\n",
       "      <td>2.31</td>\n",
       "      <td>4.71</td>\n",
       "      <td>deg</td>\n",
       "    </tr>\n",
       "    <tr>\n",
       "      <th>J1858P0330.Gaussian_on_sphere.sigma</th>\n",
       "      <td>0.43</td>\n",
       "      <td>0.03</td>\n",
       "      <td>0.83</td>\n",
       "      <td>deg</td>\n",
       "    </tr>\n",
       "    <tr>\n",
       "      <th>J1858P0330.spectrum.main.Powerlaw.piv</th>\n",
       "      <td>50000000000.0</td>\n",
       "      <td>None</td>\n",
       "      <td>None</td>\n",
       "      <td>keV</td>\n",
       "    </tr>\n",
       "    <tr>\n",
       "      <th>J1908P0615u.Gaussian_on_sphere.lon0</th>\n",
       "      <td>287.05</td>\n",
       "      <td>0.0</td>\n",
       "      <td>360.0</td>\n",
       "      <td>deg</td>\n",
       "    </tr>\n",
       "    <tr>\n",
       "      <th>J1908P0615u.Gaussian_on_sphere.lat0</th>\n",
       "      <td>6.26</td>\n",
       "      <td>-90.0</td>\n",
       "      <td>90.0</td>\n",
       "      <td>deg</td>\n",
       "    </tr>\n",
       "    <tr>\n",
       "      <th>J1908P0615u.Gaussian_on_sphere.sigma</th>\n",
       "      <td>0.36</td>\n",
       "      <td>0.0</td>\n",
       "      <td>20.0</td>\n",
       "      <td>deg</td>\n",
       "    </tr>\n",
       "    <tr>\n",
       "      <th>J1908P0615u.spectrum.main.Powerlaw.K</th>\n",
       "      <td>0.0</td>\n",
       "      <td>0.0</td>\n",
       "      <td>1000.0</td>\n",
       "      <td>keV-1 s-1 cm-2</td>\n",
       "    </tr>\n",
       "    <tr>\n",
       "      <th>J1908P0615u.spectrum.main.Powerlaw.piv</th>\n",
       "      <td>50000000000.0</td>\n",
       "      <td>None</td>\n",
       "      <td>None</td>\n",
       "      <td>keV</td>\n",
       "    </tr>\n",
       "    <tr>\n",
       "      <th>J1908P0615u.spectrum.main.Powerlaw.index</th>\n",
       "      <td>-2.82</td>\n",
       "      <td>-10.0</td>\n",
       "      <td>10.0</td>\n",
       "      <td></td>\n",
       "    </tr>\n",
       "    <tr>\n",
       "      <th>J1910P0516.position.ra</th>\n",
       "      <td>287.55</td>\n",
       "      <td>286.05</td>\n",
       "      <td>289.05</td>\n",
       "      <td>deg</td>\n",
       "    </tr>\n",
       "    <tr>\n",
       "      <th>J1910P0516.position.dec</th>\n",
       "      <td>5.28</td>\n",
       "      <td>3.78</td>\n",
       "      <td>6.78</td>\n",
       "      <td>deg</td>\n",
       "    </tr>\n",
       "    <tr>\n",
       "      <th>J1910P0516.spectrum.main.Powerlaw.piv</th>\n",
       "      <td>50000000000.0</td>\n",
       "      <td>None</td>\n",
       "      <td>None</td>\n",
       "      <td>keV</td>\n",
       "    </tr>\n",
       "    <tr>\n",
       "      <th>J1913P0501.position.ra</th>\n",
       "      <td>288.28</td>\n",
       "      <td>287.18</td>\n",
       "      <td>289.38</td>\n",
       "      <td>deg</td>\n",
       "    </tr>\n",
       "    <tr>\n",
       "      <th>J1913P0501.position.dec</th>\n",
       "      <td>5.03</td>\n",
       "      <td>3.93</td>\n",
       "      <td>6.13</td>\n",
       "      <td>deg</td>\n",
       "    </tr>\n",
       "    <tr>\n",
       "      <th>J1913P0501.spectrum.main.Powerlaw.piv</th>\n",
       "      <td>50000000000.0</td>\n",
       "      <td>None</td>\n",
       "      <td>None</td>\n",
       "      <td>keV</td>\n",
       "    </tr>\n",
       "    <tr>\n",
       "      <th>Diffuse.SpatialTemplate_2D.K</th>\n",
       "      <td>1.0</td>\n",
       "      <td>None</td>\n",
       "      <td>None</td>\n",
       "      <td>deg-2</td>\n",
       "    </tr>\n",
       "    <tr>\n",
       "      <th>Diffuse.SpatialTemplate_2D.hash</th>\n",
       "      <td>4867077308007271864485342874620513282309777165...</td>\n",
       "      <td>None</td>\n",
       "      <td>None</td>\n",
       "      <td></td>\n",
       "    </tr>\n",
       "    <tr>\n",
       "      <th>Diffuse.SpatialTemplate_2D.ihdu</th>\n",
       "      <td>0.0</td>\n",
       "      <td>0.0</td>\n",
       "      <td>None</td>\n",
       "      <td></td>\n",
       "    </tr>\n",
       "    <tr>\n",
       "      <th>Diffuse.spectrum.main.Powerlaw.piv</th>\n",
       "      <td>50000000000.0</td>\n",
       "      <td>None</td>\n",
       "      <td>None</td>\n",
       "      <td>keV</td>\n",
       "    </tr>\n",
       "  </tbody>\n",
       "</table>\n",
       "</div><br><br>Properties (2):<br><br><div>\n",
       "<style scoped>\n",
       "    .dataframe tbody tr th:only-of-type {\n",
       "        vertical-align: middle;\n",
       "    }\n",
       "\n",
       "    .dataframe tbody tr th {\n",
       "        vertical-align: top;\n",
       "    }\n",
       "\n",
       "    .dataframe thead th {\n",
       "        text-align: right;\n",
       "    }\n",
       "</style>\n",
       "<table border=\"1\" class=\"dataframe\">\n",
       "  <thead>\n",
       "    <tr style=\"text-align: right;\">\n",
       "      <th></th>\n",
       "      <th>value</th>\n",
       "      <th>allowed values</th>\n",
       "    </tr>\n",
       "  </thead>\n",
       "  <tbody>\n",
       "    <tr>\n",
       "      <th>Diffuse.SpatialTemplate_2D.fits_file</th>\n",
       "      <td>../../data/Diffuse_KM2A_dust_bkg_template.fits</td>\n",
       "      <td>None</td>\n",
       "    </tr>\n",
       "    <tr>\n",
       "      <th>Diffuse.SpatialTemplate_2D.frame</th>\n",
       "      <td>icrs</td>\n",
       "      <td>[icrs, galactic, fk5, fk4, fk4_no_e]</td>\n",
       "    </tr>\n",
       "  </tbody>\n",
       "</table>\n",
       "</div><br><br>Linked parameters (0):<br><br>(none)<br><br>Independent variables:<br><br>(none)<br><br>Linked functions (0):<br><br>(none)<br>"
      ],
      "text/plain": [
       "Model summary:\n",
       "==============\n",
       "\n",
       "                  N\n",
       "Point sources     3\n",
       "Extended sources  9\n",
       "Particle sources  0\n",
       "\n",
       "Free parameters (18):\n",
       "--------------------\n",
       "\n",
       "                                          value min_value max_value   \n",
       "J1848M0153u.spectrum.main.Powerlaw.K        0.0       0.0       0.0  \\\n",
       "J1848M0153u.spectrum.main.Powerlaw.index  -3.69     -4.69     -2.69   \n",
       "J1848M0001u.spectrum.main.Powerlaw.K        0.0       0.0       0.0   \n",
       "J1848M0001u.spectrum.main.Powerlaw.index  -2.75     -3.45     -2.05   \n",
       "J1850M0004u.spectrum.main.Powerlaw.K        0.0       0.0       0.0   \n",
       "J1850M0004u.spectrum.main.Powerlaw.index  -3.15     -4.05     -2.25   \n",
       "J1852P0050u.spectrum.main.Powerlaw.K        0.0       0.0       0.0   \n",
       "J1852P0050u.spectrum.main.Powerlaw.index  -3.64     -4.84     -2.44   \n",
       "J1857P0203u.spectrum.main.Powerlaw.K        0.0       0.0       0.0   \n",
       "J1857P0203u.spectrum.main.Powerlaw.index  -3.31     -4.31     -2.31   \n",
       "J1858P0330.spectrum.main.Powerlaw.K         0.0       0.0       0.0   \n",
       "J1858P0330.spectrum.main.Powerlaw.index   -3.78     -5.28     -2.28   \n",
       "J1910P0516.spectrum.main.Powerlaw.K         0.0       0.0       0.0   \n",
       "J1910P0516.spectrum.main.Powerlaw.index   -3.15     -4.95     -1.35   \n",
       "J1913P0501.spectrum.main.Powerlaw.K         0.0       0.0       0.0   \n",
       "J1913P0501.spectrum.main.Powerlaw.index    -3.3      -5.1      -1.5   \n",
       "Diffuse.spectrum.main.Powerlaw.K            0.0       0.0       0.0   \n",
       "Diffuse.spectrum.main.Powerlaw.index     -2.733      -4.0      -1.0   \n",
       "\n",
       "                                                    unit  \n",
       "J1848M0153u.spectrum.main.Powerlaw.K      keV-1 s-1 cm-2  \n",
       "J1848M0153u.spectrum.main.Powerlaw.index                  \n",
       "J1848M0001u.spectrum.main.Powerlaw.K      keV-1 s-1 cm-2  \n",
       "J1848M0001u.spectrum.main.Powerlaw.index                  \n",
       "J1850M0004u.spectrum.main.Powerlaw.K      keV-1 s-1 cm-2  \n",
       "J1850M0004u.spectrum.main.Powerlaw.index                  \n",
       "J1852P0050u.spectrum.main.Powerlaw.K      keV-1 s-1 cm-2  \n",
       "J1852P0050u.spectrum.main.Powerlaw.index                  \n",
       "J1857P0203u.spectrum.main.Powerlaw.K      keV-1 s-1 cm-2  \n",
       "J1857P0203u.spectrum.main.Powerlaw.index                  \n",
       "J1858P0330.spectrum.main.Powerlaw.K       keV-1 s-1 cm-2  \n",
       "J1858P0330.spectrum.main.Powerlaw.index                   \n",
       "J1910P0516.spectrum.main.Powerlaw.K       keV-1 s-1 cm-2  \n",
       "J1910P0516.spectrum.main.Powerlaw.index                   \n",
       "J1913P0501.spectrum.main.Powerlaw.K       keV-1 s-1 cm-2  \n",
       "J1913P0501.spectrum.main.Powerlaw.index                   \n",
       "Diffuse.spectrum.main.Powerlaw.K          keV-1 s-1 cm-2  \n",
       "Diffuse.spectrum.main.Powerlaw.index                      \n",
       "\n",
       "Fixed parameters (51):\n",
       "---------------------\n",
       "\n",
       "                                                                                      value   \n",
       "J1841M0519.Gaussian_on_sphere.lon0                                                   280.21  \\\n",
       "J1841M0519.Gaussian_on_sphere.lat0                                                    -5.23   \n",
       "J1841M0519.Gaussian_on_sphere.sigma                                                    0.62   \n",
       "J1841M0519.spectrum.main.Powerlaw.K                                                     0.0   \n",
       "J1841M0519.spectrum.main.Powerlaw.piv                                         50000000000.0   \n",
       "J1841M0519.spectrum.main.Powerlaw.index                                               -3.85   \n",
       "J1843M0335u.Gaussian_on_sphere.lon0                                                  280.91   \n",
       "J1843M0335u.Gaussian_on_sphere.lat0                                                    -3.6   \n",
       "J1843M0335u.Gaussian_on_sphere.sigma                                                   0.36   \n",
       "J1843M0335u.spectrum.main.Powerlaw.K                                                    0.0   \n",
       "J1843M0335u.spectrum.main.Powerlaw.piv                                        50000000000.0   \n",
       "J1843M0335u.spectrum.main.Powerlaw.index                                              -3.44   \n",
       "J1848M0153u.Gaussian_on_sphere.lon0                                                  282.02   \n",
       "J1848M0153u.Gaussian_on_sphere.lat0                                                   -1.78   \n",
       "J1848M0153u.Gaussian_on_sphere.sigma                                                   0.56   \n",
       "J1848M0153u.spectrum.main.Powerlaw.piv                                        50000000000.0   \n",
       "J1848M0001u.position.ra                                                              282.19   \n",
       "J1848M0001u.position.dec                                                              -0.02   \n",
       "J1848M0001u.spectrum.main.Powerlaw.piv                                        50000000000.0   \n",
       "J1850M0004u.Gaussian_on_sphere.lon0                                                  282.89   \n",
       "J1850M0004u.Gaussian_on_sphere.lat0                                                   -0.07   \n",
       "J1850M0004u.Gaussian_on_sphere.sigma                                                   0.21   \n",
       "J1850M0004u.spectrum.main.Powerlaw.piv                                        50000000000.0   \n",
       "J1852P0050u.Gaussian_on_sphere.lon0                                                   283.1   \n",
       "J1852P0050u.Gaussian_on_sphere.lat0                                                    0.84   \n",
       "J1852P0050u.Gaussian_on_sphere.sigma                                                   0.85   \n",
       "J1852P0050u.spectrum.main.Powerlaw.piv                                        50000000000.0   \n",
       "J1857P0203u.Gaussian_on_sphere.lon0                                                  284.38   \n",
       "J1857P0203u.Gaussian_on_sphere.lat0                                                    2.06   \n",
       "J1857P0203u.Gaussian_on_sphere.sigma                                                   0.28   \n",
       "J1857P0203u.spectrum.main.Powerlaw.piv                                        50000000000.0   \n",
       "J1858P0330.Gaussian_on_sphere.lon0                                                   284.59   \n",
       "J1858P0330.Gaussian_on_sphere.lat0                                                     3.51   \n",
       "J1858P0330.Gaussian_on_sphere.sigma                                                    0.43   \n",
       "J1858P0330.spectrum.main.Powerlaw.piv                                         50000000000.0   \n",
       "J1908P0615u.Gaussian_on_sphere.lon0                                                  287.05   \n",
       "J1908P0615u.Gaussian_on_sphere.lat0                                                    6.26   \n",
       "J1908P0615u.Gaussian_on_sphere.sigma                                                   0.36   \n",
       "J1908P0615u.spectrum.main.Powerlaw.K                                                    0.0   \n",
       "J1908P0615u.spectrum.main.Powerlaw.piv                                        50000000000.0   \n",
       "J1908P0615u.spectrum.main.Powerlaw.index                                              -2.82   \n",
       "J1910P0516.position.ra                                                               287.55   \n",
       "J1910P0516.position.dec                                                                5.28   \n",
       "J1910P0516.spectrum.main.Powerlaw.piv                                         50000000000.0   \n",
       "J1913P0501.position.ra                                                               288.28   \n",
       "J1913P0501.position.dec                                                                5.03   \n",
       "J1913P0501.spectrum.main.Powerlaw.piv                                         50000000000.0   \n",
       "Diffuse.SpatialTemplate_2D.K                                                            1.0   \n",
       "Diffuse.SpatialTemplate_2D.hash           4867077308007271864485342874620513282309777165...   \n",
       "Diffuse.SpatialTemplate_2D.ihdu                                                         0.0   \n",
       "Diffuse.spectrum.main.Powerlaw.piv                                            50000000000.0   \n",
       "\n",
       "                                         min_value max_value            unit  \n",
       "J1841M0519.Gaussian_on_sphere.lon0             0.0     360.0             deg  \n",
       "J1841M0519.Gaussian_on_sphere.lat0           -90.0      90.0             deg  \n",
       "J1841M0519.Gaussian_on_sphere.sigma            0.0      20.0             deg  \n",
       "J1841M0519.spectrum.main.Powerlaw.K            0.0    1000.0  keV-1 s-1 cm-2  \n",
       "J1841M0519.spectrum.main.Powerlaw.piv         None      None             keV  \n",
       "J1841M0519.spectrum.main.Powerlaw.index      -10.0      10.0                  \n",
       "J1843M0335u.Gaussian_on_sphere.lon0            0.0     360.0             deg  \n",
       "J1843M0335u.Gaussian_on_sphere.lat0          -90.0      90.0             deg  \n",
       "J1843M0335u.Gaussian_on_sphere.sigma           0.0      20.0             deg  \n",
       "J1843M0335u.spectrum.main.Powerlaw.K           0.0    1000.0  keV-1 s-1 cm-2  \n",
       "J1843M0335u.spectrum.main.Powerlaw.piv        None      None             keV  \n",
       "J1843M0335u.spectrum.main.Powerlaw.index     -10.0      10.0                  \n",
       "J1848M0153u.Gaussian_on_sphere.lon0         280.92    283.12             deg  \n",
       "J1848M0153u.Gaussian_on_sphere.lat0          -2.88     -0.68             deg  \n",
       "J1848M0153u.Gaussian_on_sphere.sigma          0.26      0.86             deg  \n",
       "J1848M0153u.spectrum.main.Powerlaw.piv        None      None             keV  \n",
       "J1848M0001u.position.ra                     281.79    282.59             deg  \n",
       "J1848M0001u.position.dec                     -0.42      0.38             deg  \n",
       "J1848M0001u.spectrum.main.Powerlaw.piv        None      None             keV  \n",
       "J1850M0004u.Gaussian_on_sphere.lon0         282.19    283.59             deg  \n",
       "J1850M0004u.Gaussian_on_sphere.lat0          -0.77      0.63             deg  \n",
       "J1850M0004u.Gaussian_on_sphere.sigma           0.0      0.51             deg  \n",
       "J1850M0004u.spectrum.main.Powerlaw.piv        None      None             keV  \n",
       "J1852P0050u.Gaussian_on_sphere.lon0          280.5     285.7             deg  \n",
       "J1852P0050u.Gaussian_on_sphere.lat0          -1.76      3.44             deg  \n",
       "J1852P0050u.Gaussian_on_sphere.sigma          0.25      1.45             deg  \n",
       "J1852P0050u.spectrum.main.Powerlaw.piv        None      None             keV  \n",
       "J1857P0203u.Gaussian_on_sphere.lon0         283.68    285.08             deg  \n",
       "J1857P0203u.Gaussian_on_sphere.lat0           1.36      2.76             deg  \n",
       "J1857P0203u.Gaussian_on_sphere.sigma           0.0      0.58             deg  \n",
       "J1857P0203u.spectrum.main.Powerlaw.piv        None      None             keV  \n",
       "J1858P0330.Gaussian_on_sphere.lon0          283.39    285.79             deg  \n",
       "J1858P0330.Gaussian_on_sphere.lat0            2.31      4.71             deg  \n",
       "J1858P0330.Gaussian_on_sphere.sigma           0.03      0.83             deg  \n",
       "J1858P0330.spectrum.main.Powerlaw.piv         None      None             keV  \n",
       "J1908P0615u.Gaussian_on_sphere.lon0            0.0     360.0             deg  \n",
       "J1908P0615u.Gaussian_on_sphere.lat0          -90.0      90.0             deg  \n",
       "J1908P0615u.Gaussian_on_sphere.sigma           0.0      20.0             deg  \n",
       "J1908P0615u.spectrum.main.Powerlaw.K           0.0    1000.0  keV-1 s-1 cm-2  \n",
       "J1908P0615u.spectrum.main.Powerlaw.piv        None      None             keV  \n",
       "J1908P0615u.spectrum.main.Powerlaw.index     -10.0      10.0                  \n",
       "J1910P0516.position.ra                      286.05    289.05             deg  \n",
       "J1910P0516.position.dec                       3.78      6.78             deg  \n",
       "J1910P0516.spectrum.main.Powerlaw.piv         None      None             keV  \n",
       "J1913P0501.position.ra                      287.18    289.38             deg  \n",
       "J1913P0501.position.dec                       3.93      6.13             deg  \n",
       "J1913P0501.spectrum.main.Powerlaw.piv         None      None             keV  \n",
       "Diffuse.SpatialTemplate_2D.K                  None      None           deg-2  \n",
       "Diffuse.SpatialTemplate_2D.hash               None      None                  \n",
       "Diffuse.SpatialTemplate_2D.ihdu                0.0      None                  \n",
       "Diffuse.spectrum.main.Powerlaw.piv            None      None             keV  \n",
       "\n",
       "Properties (2):\n",
       "--------------------\n",
       "\n",
       "                                                                               value   \n",
       "Diffuse.SpatialTemplate_2D.fits_file  ../../data/Diffuse_KM2A_dust_bkg_template.fits  \\\n",
       "Diffuse.SpatialTemplate_2D.frame                                                icrs   \n",
       "\n",
       "                                                            allowed values  \n",
       "Diffuse.SpatialTemplate_2D.fits_file                                  None  \n",
       "Diffuse.SpatialTemplate_2D.frame      [icrs, galactic, fk5, fk4, fk4_no_e]  \n",
       "\n",
       "Linked parameters (0):\n",
       "----------------------\n",
       "\n",
       "(none)\n",
       "\n",
       "Independent variables:\n",
       "----------------------\n",
       "\n",
       "(none)\n",
       "\n",
       "Linked functions (0):\n",
       "----------------------\n",
       "\n",
       "(none)"
      ]
     },
     "metadata": {},
     "output_type": "display_data"
    },
    {
     "data": {
      "text/html": [
       "<pre style=\"white-space:pre;overflow-x:auto;line-height:normal;font-family:Menlo,'DejaVu Sans Mono',consolas,'Courier New',monospace\"><span style=\"color: #00ff00; text-decoration-color: #00ff00\">00:07:23 </span><span style=\"color: #00ffaf; text-decoration-color: #00ffaf\">INFO    </span> <span style=\"color: #c6c6c6; text-decoration-color: #c6c6c6; font-weight: bold\"> Considering </span><span style=\"color: #c0c0c0; text-decoration-color: #c0c0c0; font-weight: bold\">19</span><span style=\"color: #c6c6c6; text-decoration-color: #c6c6c6; font-weight: bold\"> dec bins for extended source J1841M0519           </span><a href=\"file:///data/home/cwy/.mylib/miniconda3/envs/3ML/lib/python3.9/site-packages/WCDA_hal/convolved_source/convolved_extended_source.py\" target=\"_blank\"><span style=\"color: #7f7f7f; text-decoration-color: #7f7f7f\">convolved_extended_source.py</span></a><span style=\"color: #7f7f7f; text-decoration-color: #7f7f7f\">:</span><a href=\"file:///data/home/cwy/.mylib/miniconda3/envs/3ML/lib/python3.9/site-packages/WCDA_hal/convolved_source/convolved_extended_source.py#89\" target=\"_blank\"><span style=\"color: #7f7f7f; text-decoration-color: #7f7f7f\">89</span></a>\n",
       "</pre>\n"
      ],
      "text/plain": [
       "\u001b[38;5;46m00:07:23\u001b[0m\u001b[38;5;46m \u001b[0m\u001b[38;5;49mINFO    \u001b[0m \u001b[1;38;5;251m Considering \u001b[0m\u001b[1;37m19\u001b[0m\u001b[1;38;5;251m dec bins for extended source J1841M0519          \u001b[0m\u001b[1;38;5;251m \u001b[0m\u001b]8;id=152592;file:///data/home/cwy/.mylib/miniconda3/envs/3ML/lib/python3.9/site-packages/WCDA_hal/convolved_source/convolved_extended_source.py\u001b\\\u001b[2mconvolved_extended_source.py\u001b[0m\u001b]8;;\u001b\\\u001b[2m:\u001b[0m\u001b]8;id=141523;file:///data/home/cwy/.mylib/miniconda3/envs/3ML/lib/python3.9/site-packages/WCDA_hal/convolved_source/convolved_extended_source.py#89\u001b\\\u001b[2m89\u001b[0m\u001b]8;;\u001b\\\n"
      ]
     },
     "metadata": {},
     "output_type": "display_data"
    },
    {
     "data": {
      "text/html": [
       "<pre style=\"white-space:pre;overflow-x:auto;line-height:normal;font-family:Menlo,'DejaVu Sans Mono',consolas,'Courier New',monospace\"><span style=\"color: #00ff00; text-decoration-color: #00ff00\">         </span><span style=\"color: #00ffaf; text-decoration-color: #00ffaf\">INFO    </span> <span style=\"color: #c6c6c6; text-decoration-color: #c6c6c6; font-weight: bold\"> Central bin is bin at Declination = </span><span style=\"color: #c0c0c0; text-decoration-color: #c0c0c0; font-weight: bold\">-5.230</span><span style=\"color: #c6c6c6; text-decoration-color: #c6c6c6; font-weight: bold\">                       </span><a href=\"file:///data/home/cwy/.mylib/miniconda3/envs/3ML/lib/python3.9/site-packages/WCDA_hal/convolved_source/convolved_extended_source.py\" target=\"_blank\"><span style=\"color: #7f7f7f; text-decoration-color: #7f7f7f\">convolved_extended_source.py</span></a><span style=\"color: #7f7f7f; text-decoration-color: #7f7f7f\">:</span><a href=\"file:///data/home/cwy/.mylib/miniconda3/envs/3ML/lib/python3.9/site-packages/WCDA_hal/convolved_source/convolved_extended_source.py#98\" target=\"_blank\"><span style=\"color: #7f7f7f; text-decoration-color: #7f7f7f\">98</span></a>\n",
       "</pre>\n"
      ],
      "text/plain": [
       "\u001b[38;5;46m        \u001b[0m\u001b[38;5;46m \u001b[0m\u001b[38;5;49mINFO    \u001b[0m \u001b[1;38;5;251m Central bin is bin at Declination = \u001b[0m\u001b[1;37m-5.230\u001b[0m\u001b[1;38;5;251m                      \u001b[0m\u001b[1;38;5;251m \u001b[0m\u001b]8;id=326560;file:///data/home/cwy/.mylib/miniconda3/envs/3ML/lib/python3.9/site-packages/WCDA_hal/convolved_source/convolved_extended_source.py\u001b\\\u001b[2mconvolved_extended_source.py\u001b[0m\u001b]8;;\u001b\\\u001b[2m:\u001b[0m\u001b]8;id=649017;file:///data/home/cwy/.mylib/miniconda3/envs/3ML/lib/python3.9/site-packages/WCDA_hal/convolved_source/convolved_extended_source.py#98\u001b\\\u001b[2m98\u001b[0m\u001b]8;;\u001b\\\n"
      ]
     },
     "metadata": {},
     "output_type": "display_data"
    },
    {
     "data": {
      "text/html": [
       "<pre style=\"white-space:pre;overflow-x:auto;line-height:normal;font-family:Menlo,'DejaVu Sans Mono',consolas,'Courier New',monospace\"><span style=\"color: #00ff00; text-decoration-color: #00ff00\">         </span><span style=\"color: #00ffaf; text-decoration-color: #00ffaf\">INFO    </span> <span style=\"color: #c6c6c6; text-decoration-color: #c6c6c6; font-weight: bold\"> Considering </span><span style=\"color: #c0c0c0; text-decoration-color: #c0c0c0; font-weight: bold\">19</span><span style=\"color: #c6c6c6; text-decoration-color: #c6c6c6; font-weight: bold\"> dec bins for extended source J1843M0335u          </span><a href=\"file:///data/home/cwy/.mylib/miniconda3/envs/3ML/lib/python3.9/site-packages/WCDA_hal/convolved_source/convolved_extended_source.py\" target=\"_blank\"><span style=\"color: #7f7f7f; text-decoration-color: #7f7f7f\">convolved_extended_source.py</span></a><span style=\"color: #7f7f7f; text-decoration-color: #7f7f7f\">:</span><a href=\"file:///data/home/cwy/.mylib/miniconda3/envs/3ML/lib/python3.9/site-packages/WCDA_hal/convolved_source/convolved_extended_source.py#89\" target=\"_blank\"><span style=\"color: #7f7f7f; text-decoration-color: #7f7f7f\">89</span></a>\n",
       "</pre>\n"
      ],
      "text/plain": [
       "\u001b[38;5;46m        \u001b[0m\u001b[38;5;46m \u001b[0m\u001b[38;5;49mINFO    \u001b[0m \u001b[1;38;5;251m Considering \u001b[0m\u001b[1;37m19\u001b[0m\u001b[1;38;5;251m dec bins for extended source J1843M0335u         \u001b[0m\u001b[1;38;5;251m \u001b[0m\u001b]8;id=103948;file:///data/home/cwy/.mylib/miniconda3/envs/3ML/lib/python3.9/site-packages/WCDA_hal/convolved_source/convolved_extended_source.py\u001b\\\u001b[2mconvolved_extended_source.py\u001b[0m\u001b]8;;\u001b\\\u001b[2m:\u001b[0m\u001b]8;id=206773;file:///data/home/cwy/.mylib/miniconda3/envs/3ML/lib/python3.9/site-packages/WCDA_hal/convolved_source/convolved_extended_source.py#89\u001b\\\u001b[2m89\u001b[0m\u001b]8;;\u001b\\\n"
      ]
     },
     "metadata": {},
     "output_type": "display_data"
    },
    {
     "data": {
      "text/html": [
       "<pre style=\"white-space:pre;overflow-x:auto;line-height:normal;font-family:Menlo,'DejaVu Sans Mono',consolas,'Courier New',monospace\"><span style=\"color: #00ff00; text-decoration-color: #00ff00\">         </span><span style=\"color: #00ffaf; text-decoration-color: #00ffaf\">INFO    </span> <span style=\"color: #c6c6c6; text-decoration-color: #c6c6c6; font-weight: bold\"> Central bin is bin at Declination = </span><span style=\"color: #c0c0c0; text-decoration-color: #c0c0c0; font-weight: bold\">-3.600</span><span style=\"color: #c6c6c6; text-decoration-color: #c6c6c6; font-weight: bold\">                       </span><a href=\"file:///data/home/cwy/.mylib/miniconda3/envs/3ML/lib/python3.9/site-packages/WCDA_hal/convolved_source/convolved_extended_source.py\" target=\"_blank\"><span style=\"color: #7f7f7f; text-decoration-color: #7f7f7f\">convolved_extended_source.py</span></a><span style=\"color: #7f7f7f; text-decoration-color: #7f7f7f\">:</span><a href=\"file:///data/home/cwy/.mylib/miniconda3/envs/3ML/lib/python3.9/site-packages/WCDA_hal/convolved_source/convolved_extended_source.py#98\" target=\"_blank\"><span style=\"color: #7f7f7f; text-decoration-color: #7f7f7f\">98</span></a>\n",
       "</pre>\n"
      ],
      "text/plain": [
       "\u001b[38;5;46m        \u001b[0m\u001b[38;5;46m \u001b[0m\u001b[38;5;49mINFO    \u001b[0m \u001b[1;38;5;251m Central bin is bin at Declination = \u001b[0m\u001b[1;37m-3.600\u001b[0m\u001b[1;38;5;251m                      \u001b[0m\u001b[1;38;5;251m \u001b[0m\u001b]8;id=19326;file:///data/home/cwy/.mylib/miniconda3/envs/3ML/lib/python3.9/site-packages/WCDA_hal/convolved_source/convolved_extended_source.py\u001b\\\u001b[2mconvolved_extended_source.py\u001b[0m\u001b]8;;\u001b\\\u001b[2m:\u001b[0m\u001b]8;id=586911;file:///data/home/cwy/.mylib/miniconda3/envs/3ML/lib/python3.9/site-packages/WCDA_hal/convolved_source/convolved_extended_source.py#98\u001b\\\u001b[2m98\u001b[0m\u001b]8;;\u001b\\\n"
      ]
     },
     "metadata": {},
     "output_type": "display_data"
    },
    {
     "data": {
      "text/html": [
       "<pre style=\"white-space:pre;overflow-x:auto;line-height:normal;font-family:Menlo,'DejaVu Sans Mono',consolas,'Courier New',monospace\"><span style=\"color: #00ff00; text-decoration-color: #00ff00\">         </span><span style=\"color: #00ffaf; text-decoration-color: #00ffaf\">INFO    </span> <span style=\"color: #c6c6c6; text-decoration-color: #c6c6c6; font-weight: bold\"> Considering </span><span style=\"color: #c0c0c0; text-decoration-color: #c0c0c0; font-weight: bold\">7</span><span style=\"color: #c6c6c6; text-decoration-color: #c6c6c6; font-weight: bold\"> dec bins for extended source J1848M0153u           </span><a href=\"file:///data/home/cwy/.mylib/miniconda3/envs/3ML/lib/python3.9/site-packages/WCDA_hal/convolved_source/convolved_extended_source.py\" target=\"_blank\"><span style=\"color: #7f7f7f; text-decoration-color: #7f7f7f\">convolved_extended_source.py</span></a><span style=\"color: #7f7f7f; text-decoration-color: #7f7f7f\">:</span><a href=\"file:///data/home/cwy/.mylib/miniconda3/envs/3ML/lib/python3.9/site-packages/WCDA_hal/convolved_source/convolved_extended_source.py#89\" target=\"_blank\"><span style=\"color: #7f7f7f; text-decoration-color: #7f7f7f\">89</span></a>\n",
       "</pre>\n"
      ],
      "text/plain": [
       "\u001b[38;5;46m        \u001b[0m\u001b[38;5;46m \u001b[0m\u001b[38;5;49mINFO    \u001b[0m \u001b[1;38;5;251m Considering \u001b[0m\u001b[1;37m7\u001b[0m\u001b[1;38;5;251m dec bins for extended source J1848M0153u          \u001b[0m\u001b[1;38;5;251m \u001b[0m\u001b]8;id=423073;file:///data/home/cwy/.mylib/miniconda3/envs/3ML/lib/python3.9/site-packages/WCDA_hal/convolved_source/convolved_extended_source.py\u001b\\\u001b[2mconvolved_extended_source.py\u001b[0m\u001b]8;;\u001b\\\u001b[2m:\u001b[0m\u001b]8;id=370967;file:///data/home/cwy/.mylib/miniconda3/envs/3ML/lib/python3.9/site-packages/WCDA_hal/convolved_source/convolved_extended_source.py#89\u001b\\\u001b[2m89\u001b[0m\u001b]8;;\u001b\\\n"
      ]
     },
     "metadata": {},
     "output_type": "display_data"
    },
    {
     "data": {
      "text/html": [
       "<pre style=\"white-space:pre;overflow-x:auto;line-height:normal;font-family:Menlo,'DejaVu Sans Mono',consolas,'Courier New',monospace\"><span style=\"color: #00ff00; text-decoration-color: #00ff00\">         </span><span style=\"color: #00ffaf; text-decoration-color: #00ffaf\">INFO    </span> <span style=\"color: #c6c6c6; text-decoration-color: #c6c6c6; font-weight: bold\"> Central bin is bin at Declination = </span><span style=\"color: #c0c0c0; text-decoration-color: #c0c0c0; font-weight: bold\">-1.780</span><span style=\"color: #c6c6c6; text-decoration-color: #c6c6c6; font-weight: bold\">                       </span><a href=\"file:///data/home/cwy/.mylib/miniconda3/envs/3ML/lib/python3.9/site-packages/WCDA_hal/convolved_source/convolved_extended_source.py\" target=\"_blank\"><span style=\"color: #7f7f7f; text-decoration-color: #7f7f7f\">convolved_extended_source.py</span></a><span style=\"color: #7f7f7f; text-decoration-color: #7f7f7f\">:</span><a href=\"file:///data/home/cwy/.mylib/miniconda3/envs/3ML/lib/python3.9/site-packages/WCDA_hal/convolved_source/convolved_extended_source.py#98\" target=\"_blank\"><span style=\"color: #7f7f7f; text-decoration-color: #7f7f7f\">98</span></a>\n",
       "</pre>\n"
      ],
      "text/plain": [
       "\u001b[38;5;46m        \u001b[0m\u001b[38;5;46m \u001b[0m\u001b[38;5;49mINFO    \u001b[0m \u001b[1;38;5;251m Central bin is bin at Declination = \u001b[0m\u001b[1;37m-1.780\u001b[0m\u001b[1;38;5;251m                      \u001b[0m\u001b[1;38;5;251m \u001b[0m\u001b]8;id=542551;file:///data/home/cwy/.mylib/miniconda3/envs/3ML/lib/python3.9/site-packages/WCDA_hal/convolved_source/convolved_extended_source.py\u001b\\\u001b[2mconvolved_extended_source.py\u001b[0m\u001b]8;;\u001b\\\u001b[2m:\u001b[0m\u001b]8;id=180087;file:///data/home/cwy/.mylib/miniconda3/envs/3ML/lib/python3.9/site-packages/WCDA_hal/convolved_source/convolved_extended_source.py#98\u001b\\\u001b[2m98\u001b[0m\u001b]8;;\u001b\\\n"
      ]
     },
     "metadata": {},
     "output_type": "display_data"
    },
    {
     "data": {
      "text/html": [
       "<pre style=\"white-space:pre;overflow-x:auto;line-height:normal;font-family:Menlo,'DejaVu Sans Mono',consolas,'Courier New',monospace\"><span style=\"color: #00ff00; text-decoration-color: #00ff00\">         </span><span style=\"color: #00ffaf; text-decoration-color: #00ffaf\">INFO    </span> <span style=\"color: #c6c6c6; text-decoration-color: #c6c6c6; font-weight: bold\"> Considering </span><span style=\"color: #c0c0c0; text-decoration-color: #c0c0c0; font-weight: bold\">5</span><span style=\"color: #c6c6c6; text-decoration-color: #c6c6c6; font-weight: bold\"> dec bins for extended source J1850M0004u           </span><a href=\"file:///data/home/cwy/.mylib/miniconda3/envs/3ML/lib/python3.9/site-packages/WCDA_hal/convolved_source/convolved_extended_source.py\" target=\"_blank\"><span style=\"color: #7f7f7f; text-decoration-color: #7f7f7f\">convolved_extended_source.py</span></a><span style=\"color: #7f7f7f; text-decoration-color: #7f7f7f\">:</span><a href=\"file:///data/home/cwy/.mylib/miniconda3/envs/3ML/lib/python3.9/site-packages/WCDA_hal/convolved_source/convolved_extended_source.py#89\" target=\"_blank\"><span style=\"color: #7f7f7f; text-decoration-color: #7f7f7f\">89</span></a>\n",
       "</pre>\n"
      ],
      "text/plain": [
       "\u001b[38;5;46m        \u001b[0m\u001b[38;5;46m \u001b[0m\u001b[38;5;49mINFO    \u001b[0m \u001b[1;38;5;251m Considering \u001b[0m\u001b[1;37m5\u001b[0m\u001b[1;38;5;251m dec bins for extended source J1850M0004u          \u001b[0m\u001b[1;38;5;251m \u001b[0m\u001b]8;id=360561;file:///data/home/cwy/.mylib/miniconda3/envs/3ML/lib/python3.9/site-packages/WCDA_hal/convolved_source/convolved_extended_source.py\u001b\\\u001b[2mconvolved_extended_source.py\u001b[0m\u001b]8;;\u001b\\\u001b[2m:\u001b[0m\u001b]8;id=256048;file:///data/home/cwy/.mylib/miniconda3/envs/3ML/lib/python3.9/site-packages/WCDA_hal/convolved_source/convolved_extended_source.py#89\u001b\\\u001b[2m89\u001b[0m\u001b]8;;\u001b\\\n"
      ]
     },
     "metadata": {},
     "output_type": "display_data"
    },
    {
     "data": {
      "text/html": [
       "<pre style=\"white-space:pre;overflow-x:auto;line-height:normal;font-family:Menlo,'DejaVu Sans Mono',consolas,'Courier New',monospace\"><span style=\"color: #00ff00; text-decoration-color: #00ff00\">         </span><span style=\"color: #00ffaf; text-decoration-color: #00ffaf\">INFO    </span> <span style=\"color: #c6c6c6; text-decoration-color: #c6c6c6; font-weight: bold\"> Central bin is bin at Declination = </span><span style=\"color: #c0c0c0; text-decoration-color: #c0c0c0; font-weight: bold\">-0.070</span><span style=\"color: #c6c6c6; text-decoration-color: #c6c6c6; font-weight: bold\">                       </span><a href=\"file:///data/home/cwy/.mylib/miniconda3/envs/3ML/lib/python3.9/site-packages/WCDA_hal/convolved_source/convolved_extended_source.py\" target=\"_blank\"><span style=\"color: #7f7f7f; text-decoration-color: #7f7f7f\">convolved_extended_source.py</span></a><span style=\"color: #7f7f7f; text-decoration-color: #7f7f7f\">:</span><a href=\"file:///data/home/cwy/.mylib/miniconda3/envs/3ML/lib/python3.9/site-packages/WCDA_hal/convolved_source/convolved_extended_source.py#98\" target=\"_blank\"><span style=\"color: #7f7f7f; text-decoration-color: #7f7f7f\">98</span></a>\n",
       "</pre>\n"
      ],
      "text/plain": [
       "\u001b[38;5;46m        \u001b[0m\u001b[38;5;46m \u001b[0m\u001b[38;5;49mINFO    \u001b[0m \u001b[1;38;5;251m Central bin is bin at Declination = \u001b[0m\u001b[1;37m-0.070\u001b[0m\u001b[1;38;5;251m                      \u001b[0m\u001b[1;38;5;251m \u001b[0m\u001b]8;id=20121;file:///data/home/cwy/.mylib/miniconda3/envs/3ML/lib/python3.9/site-packages/WCDA_hal/convolved_source/convolved_extended_source.py\u001b\\\u001b[2mconvolved_extended_source.py\u001b[0m\u001b]8;;\u001b\\\u001b[2m:\u001b[0m\u001b]8;id=887305;file:///data/home/cwy/.mylib/miniconda3/envs/3ML/lib/python3.9/site-packages/WCDA_hal/convolved_source/convolved_extended_source.py#98\u001b\\\u001b[2m98\u001b[0m\u001b]8;;\u001b\\\n"
      ]
     },
     "metadata": {},
     "output_type": "display_data"
    },
    {
     "data": {
      "text/html": [
       "<pre style=\"white-space:pre;overflow-x:auto;line-height:normal;font-family:Menlo,'DejaVu Sans Mono',consolas,'Courier New',monospace\"><span style=\"color: #00ff00; text-decoration-color: #00ff00\">         </span><span style=\"color: #00ffaf; text-decoration-color: #00ffaf\">INFO    </span> <span style=\"color: #c6c6c6; text-decoration-color: #c6c6c6; font-weight: bold\"> Considering </span><span style=\"color: #c0c0c0; text-decoration-color: #c0c0c0; font-weight: bold\">9</span><span style=\"color: #c6c6c6; text-decoration-color: #c6c6c6; font-weight: bold\"> dec bins for extended source J1852P0050u           </span><a href=\"file:///data/home/cwy/.mylib/miniconda3/envs/3ML/lib/python3.9/site-packages/WCDA_hal/convolved_source/convolved_extended_source.py\" target=\"_blank\"><span style=\"color: #7f7f7f; text-decoration-color: #7f7f7f\">convolved_extended_source.py</span></a><span style=\"color: #7f7f7f; text-decoration-color: #7f7f7f\">:</span><a href=\"file:///data/home/cwy/.mylib/miniconda3/envs/3ML/lib/python3.9/site-packages/WCDA_hal/convolved_source/convolved_extended_source.py#89\" target=\"_blank\"><span style=\"color: #7f7f7f; text-decoration-color: #7f7f7f\">89</span></a>\n",
       "</pre>\n"
      ],
      "text/plain": [
       "\u001b[38;5;46m        \u001b[0m\u001b[38;5;46m \u001b[0m\u001b[38;5;49mINFO    \u001b[0m \u001b[1;38;5;251m Considering \u001b[0m\u001b[1;37m9\u001b[0m\u001b[1;38;5;251m dec bins for extended source J1852P0050u          \u001b[0m\u001b[1;38;5;251m \u001b[0m\u001b]8;id=901872;file:///data/home/cwy/.mylib/miniconda3/envs/3ML/lib/python3.9/site-packages/WCDA_hal/convolved_source/convolved_extended_source.py\u001b\\\u001b[2mconvolved_extended_source.py\u001b[0m\u001b]8;;\u001b\\\u001b[2m:\u001b[0m\u001b]8;id=563039;file:///data/home/cwy/.mylib/miniconda3/envs/3ML/lib/python3.9/site-packages/WCDA_hal/convolved_source/convolved_extended_source.py#89\u001b\\\u001b[2m89\u001b[0m\u001b]8;;\u001b\\\n"
      ]
     },
     "metadata": {},
     "output_type": "display_data"
    },
    {
     "data": {
      "text/html": [
       "<pre style=\"white-space:pre;overflow-x:auto;line-height:normal;font-family:Menlo,'DejaVu Sans Mono',consolas,'Courier New',monospace\"><span style=\"color: #00ff00; text-decoration-color: #00ff00\">         </span><span style=\"color: #00ffaf; text-decoration-color: #00ffaf\">INFO    </span> <span style=\"color: #c6c6c6; text-decoration-color: #c6c6c6; font-weight: bold\"> Central bin is bin at Declination = </span><span style=\"color: #c0c0c0; text-decoration-color: #c0c0c0; font-weight: bold\">0.840</span><span style=\"color: #c6c6c6; text-decoration-color: #c6c6c6; font-weight: bold\">                        </span><a href=\"file:///data/home/cwy/.mylib/miniconda3/envs/3ML/lib/python3.9/site-packages/WCDA_hal/convolved_source/convolved_extended_source.py\" target=\"_blank\"><span style=\"color: #7f7f7f; text-decoration-color: #7f7f7f\">convolved_extended_source.py</span></a><span style=\"color: #7f7f7f; text-decoration-color: #7f7f7f\">:</span><a href=\"file:///data/home/cwy/.mylib/miniconda3/envs/3ML/lib/python3.9/site-packages/WCDA_hal/convolved_source/convolved_extended_source.py#98\" target=\"_blank\"><span style=\"color: #7f7f7f; text-decoration-color: #7f7f7f\">98</span></a>\n",
       "</pre>\n"
      ],
      "text/plain": [
       "\u001b[38;5;46m        \u001b[0m\u001b[38;5;46m \u001b[0m\u001b[38;5;49mINFO    \u001b[0m \u001b[1;38;5;251m Central bin is bin at Declination = \u001b[0m\u001b[1;37m0.840\u001b[0m\u001b[1;38;5;251m                       \u001b[0m\u001b[1;38;5;251m \u001b[0m\u001b]8;id=488186;file:///data/home/cwy/.mylib/miniconda3/envs/3ML/lib/python3.9/site-packages/WCDA_hal/convolved_source/convolved_extended_source.py\u001b\\\u001b[2mconvolved_extended_source.py\u001b[0m\u001b]8;;\u001b\\\u001b[2m:\u001b[0m\u001b]8;id=777124;file:///data/home/cwy/.mylib/miniconda3/envs/3ML/lib/python3.9/site-packages/WCDA_hal/convolved_source/convolved_extended_source.py#98\u001b\\\u001b[2m98\u001b[0m\u001b]8;;\u001b\\\n"
      ]
     },
     "metadata": {},
     "output_type": "display_data"
    },
    {
     "data": {
      "text/html": [
       "<pre style=\"white-space:pre;overflow-x:auto;line-height:normal;font-family:Menlo,'DejaVu Sans Mono',consolas,'Courier New',monospace\"><span style=\"color: #00ff00; text-decoration-color: #00ff00\">         </span><span style=\"color: #00ffaf; text-decoration-color: #00ffaf\">INFO    </span> <span style=\"color: #c6c6c6; text-decoration-color: #c6c6c6; font-weight: bold\"> Considering </span><span style=\"color: #c0c0c0; text-decoration-color: #c0c0c0; font-weight: bold\">5</span><span style=\"color: #c6c6c6; text-decoration-color: #c6c6c6; font-weight: bold\"> dec bins for extended source J1857P0203u           </span><a href=\"file:///data/home/cwy/.mylib/miniconda3/envs/3ML/lib/python3.9/site-packages/WCDA_hal/convolved_source/convolved_extended_source.py\" target=\"_blank\"><span style=\"color: #7f7f7f; text-decoration-color: #7f7f7f\">convolved_extended_source.py</span></a><span style=\"color: #7f7f7f; text-decoration-color: #7f7f7f\">:</span><a href=\"file:///data/home/cwy/.mylib/miniconda3/envs/3ML/lib/python3.9/site-packages/WCDA_hal/convolved_source/convolved_extended_source.py#89\" target=\"_blank\"><span style=\"color: #7f7f7f; text-decoration-color: #7f7f7f\">89</span></a>\n",
       "</pre>\n"
      ],
      "text/plain": [
       "\u001b[38;5;46m        \u001b[0m\u001b[38;5;46m \u001b[0m\u001b[38;5;49mINFO    \u001b[0m \u001b[1;38;5;251m Considering \u001b[0m\u001b[1;37m5\u001b[0m\u001b[1;38;5;251m dec bins for extended source J1857P0203u          \u001b[0m\u001b[1;38;5;251m \u001b[0m\u001b]8;id=689991;file:///data/home/cwy/.mylib/miniconda3/envs/3ML/lib/python3.9/site-packages/WCDA_hal/convolved_source/convolved_extended_source.py\u001b\\\u001b[2mconvolved_extended_source.py\u001b[0m\u001b]8;;\u001b\\\u001b[2m:\u001b[0m\u001b]8;id=498839;file:///data/home/cwy/.mylib/miniconda3/envs/3ML/lib/python3.9/site-packages/WCDA_hal/convolved_source/convolved_extended_source.py#89\u001b\\\u001b[2m89\u001b[0m\u001b]8;;\u001b\\\n"
      ]
     },
     "metadata": {},
     "output_type": "display_data"
    },
    {
     "data": {
      "text/html": [
       "<pre style=\"white-space:pre;overflow-x:auto;line-height:normal;font-family:Menlo,'DejaVu Sans Mono',consolas,'Courier New',monospace\"><span style=\"color: #00ff00; text-decoration-color: #00ff00\">         </span><span style=\"color: #00ffaf; text-decoration-color: #00ffaf\">INFO    </span> <span style=\"color: #c6c6c6; text-decoration-color: #c6c6c6; font-weight: bold\"> Central bin is bin at Declination = </span><span style=\"color: #c0c0c0; text-decoration-color: #c0c0c0; font-weight: bold\">2.060</span><span style=\"color: #c6c6c6; text-decoration-color: #c6c6c6; font-weight: bold\">                        </span><a href=\"file:///data/home/cwy/.mylib/miniconda3/envs/3ML/lib/python3.9/site-packages/WCDA_hal/convolved_source/convolved_extended_source.py\" target=\"_blank\"><span style=\"color: #7f7f7f; text-decoration-color: #7f7f7f\">convolved_extended_source.py</span></a><span style=\"color: #7f7f7f; text-decoration-color: #7f7f7f\">:</span><a href=\"file:///data/home/cwy/.mylib/miniconda3/envs/3ML/lib/python3.9/site-packages/WCDA_hal/convolved_source/convolved_extended_source.py#98\" target=\"_blank\"><span style=\"color: #7f7f7f; text-decoration-color: #7f7f7f\">98</span></a>\n",
       "</pre>\n"
      ],
      "text/plain": [
       "\u001b[38;5;46m        \u001b[0m\u001b[38;5;46m \u001b[0m\u001b[38;5;49mINFO    \u001b[0m \u001b[1;38;5;251m Central bin is bin at Declination = \u001b[0m\u001b[1;37m2.060\u001b[0m\u001b[1;38;5;251m                       \u001b[0m\u001b[1;38;5;251m \u001b[0m\u001b]8;id=765930;file:///data/home/cwy/.mylib/miniconda3/envs/3ML/lib/python3.9/site-packages/WCDA_hal/convolved_source/convolved_extended_source.py\u001b\\\u001b[2mconvolved_extended_source.py\u001b[0m\u001b]8;;\u001b\\\u001b[2m:\u001b[0m\u001b]8;id=780684;file:///data/home/cwy/.mylib/miniconda3/envs/3ML/lib/python3.9/site-packages/WCDA_hal/convolved_source/convolved_extended_source.py#98\u001b\\\u001b[2m98\u001b[0m\u001b]8;;\u001b\\\n"
      ]
     },
     "metadata": {},
     "output_type": "display_data"
    },
    {
     "data": {
      "text/html": [
       "<pre style=\"white-space:pre;overflow-x:auto;line-height:normal;font-family:Menlo,'DejaVu Sans Mono',consolas,'Courier New',monospace\"><span style=\"color: #00ff00; text-decoration-color: #00ff00\">         </span><span style=\"color: #00ffaf; text-decoration-color: #00ffaf\">INFO    </span> <span style=\"color: #c6c6c6; text-decoration-color: #c6c6c6; font-weight: bold\"> Considering </span><span style=\"color: #c0c0c0; text-decoration-color: #c0c0c0; font-weight: bold\">6</span><span style=\"color: #c6c6c6; text-decoration-color: #c6c6c6; font-weight: bold\"> dec bins for extended source J1858P0330            </span><a href=\"file:///data/home/cwy/.mylib/miniconda3/envs/3ML/lib/python3.9/site-packages/WCDA_hal/convolved_source/convolved_extended_source.py\" target=\"_blank\"><span style=\"color: #7f7f7f; text-decoration-color: #7f7f7f\">convolved_extended_source.py</span></a><span style=\"color: #7f7f7f; text-decoration-color: #7f7f7f\">:</span><a href=\"file:///data/home/cwy/.mylib/miniconda3/envs/3ML/lib/python3.9/site-packages/WCDA_hal/convolved_source/convolved_extended_source.py#89\" target=\"_blank\"><span style=\"color: #7f7f7f; text-decoration-color: #7f7f7f\">89</span></a>\n",
       "</pre>\n"
      ],
      "text/plain": [
       "\u001b[38;5;46m        \u001b[0m\u001b[38;5;46m \u001b[0m\u001b[38;5;49mINFO    \u001b[0m \u001b[1;38;5;251m Considering \u001b[0m\u001b[1;37m6\u001b[0m\u001b[1;38;5;251m dec bins for extended source J1858P0330           \u001b[0m\u001b[1;38;5;251m \u001b[0m\u001b]8;id=788790;file:///data/home/cwy/.mylib/miniconda3/envs/3ML/lib/python3.9/site-packages/WCDA_hal/convolved_source/convolved_extended_source.py\u001b\\\u001b[2mconvolved_extended_source.py\u001b[0m\u001b]8;;\u001b\\\u001b[2m:\u001b[0m\u001b]8;id=128432;file:///data/home/cwy/.mylib/miniconda3/envs/3ML/lib/python3.9/site-packages/WCDA_hal/convolved_source/convolved_extended_source.py#89\u001b\\\u001b[2m89\u001b[0m\u001b]8;;\u001b\\\n"
      ]
     },
     "metadata": {},
     "output_type": "display_data"
    },
    {
     "data": {
      "text/html": [
       "<pre style=\"white-space:pre;overflow-x:auto;line-height:normal;font-family:Menlo,'DejaVu Sans Mono',consolas,'Courier New',monospace\"><span style=\"color: #00ff00; text-decoration-color: #00ff00\">         </span><span style=\"color: #00ffaf; text-decoration-color: #00ffaf\">INFO    </span> <span style=\"color: #c6c6c6; text-decoration-color: #c6c6c6; font-weight: bold\"> Central bin is bin at Declination = </span><span style=\"color: #c0c0c0; text-decoration-color: #c0c0c0; font-weight: bold\">3.510</span><span style=\"color: #c6c6c6; text-decoration-color: #c6c6c6; font-weight: bold\">                        </span><a href=\"file:///data/home/cwy/.mylib/miniconda3/envs/3ML/lib/python3.9/site-packages/WCDA_hal/convolved_source/convolved_extended_source.py\" target=\"_blank\"><span style=\"color: #7f7f7f; text-decoration-color: #7f7f7f\">convolved_extended_source.py</span></a><span style=\"color: #7f7f7f; text-decoration-color: #7f7f7f\">:</span><a href=\"file:///data/home/cwy/.mylib/miniconda3/envs/3ML/lib/python3.9/site-packages/WCDA_hal/convolved_source/convolved_extended_source.py#98\" target=\"_blank\"><span style=\"color: #7f7f7f; text-decoration-color: #7f7f7f\">98</span></a>\n",
       "</pre>\n"
      ],
      "text/plain": [
       "\u001b[38;5;46m        \u001b[0m\u001b[38;5;46m \u001b[0m\u001b[38;5;49mINFO    \u001b[0m \u001b[1;38;5;251m Central bin is bin at Declination = \u001b[0m\u001b[1;37m3.510\u001b[0m\u001b[1;38;5;251m                       \u001b[0m\u001b[1;38;5;251m \u001b[0m\u001b]8;id=756809;file:///data/home/cwy/.mylib/miniconda3/envs/3ML/lib/python3.9/site-packages/WCDA_hal/convolved_source/convolved_extended_source.py\u001b\\\u001b[2mconvolved_extended_source.py\u001b[0m\u001b]8;;\u001b\\\u001b[2m:\u001b[0m\u001b]8;id=983473;file:///data/home/cwy/.mylib/miniconda3/envs/3ML/lib/python3.9/site-packages/WCDA_hal/convolved_source/convolved_extended_source.py#98\u001b\\\u001b[2m98\u001b[0m\u001b]8;;\u001b\\\n"
      ]
     },
     "metadata": {},
     "output_type": "display_data"
    },
    {
     "data": {
      "text/html": [
       "<pre style=\"white-space:pre;overflow-x:auto;line-height:normal;font-family:Menlo,'DejaVu Sans Mono',consolas,'Courier New',monospace\"><span style=\"color: #00ff00; text-decoration-color: #00ff00\">         </span><span style=\"color: #00ffaf; text-decoration-color: #00ffaf\">INFO    </span> <span style=\"color: #c6c6c6; text-decoration-color: #c6c6c6; font-weight: bold\"> Considering </span><span style=\"color: #c0c0c0; text-decoration-color: #c0c0c0; font-weight: bold\">19</span><span style=\"color: #c6c6c6; text-decoration-color: #c6c6c6; font-weight: bold\"> dec bins for extended source J1908P0615u          </span><a href=\"file:///data/home/cwy/.mylib/miniconda3/envs/3ML/lib/python3.9/site-packages/WCDA_hal/convolved_source/convolved_extended_source.py\" target=\"_blank\"><span style=\"color: #7f7f7f; text-decoration-color: #7f7f7f\">convolved_extended_source.py</span></a><span style=\"color: #7f7f7f; text-decoration-color: #7f7f7f\">:</span><a href=\"file:///data/home/cwy/.mylib/miniconda3/envs/3ML/lib/python3.9/site-packages/WCDA_hal/convolved_source/convolved_extended_source.py#89\" target=\"_blank\"><span style=\"color: #7f7f7f; text-decoration-color: #7f7f7f\">89</span></a>\n",
       "</pre>\n"
      ],
      "text/plain": [
       "\u001b[38;5;46m        \u001b[0m\u001b[38;5;46m \u001b[0m\u001b[38;5;49mINFO    \u001b[0m \u001b[1;38;5;251m Considering \u001b[0m\u001b[1;37m19\u001b[0m\u001b[1;38;5;251m dec bins for extended source J1908P0615u         \u001b[0m\u001b[1;38;5;251m \u001b[0m\u001b]8;id=266619;file:///data/home/cwy/.mylib/miniconda3/envs/3ML/lib/python3.9/site-packages/WCDA_hal/convolved_source/convolved_extended_source.py\u001b\\\u001b[2mconvolved_extended_source.py\u001b[0m\u001b]8;;\u001b\\\u001b[2m:\u001b[0m\u001b]8;id=471694;file:///data/home/cwy/.mylib/miniconda3/envs/3ML/lib/python3.9/site-packages/WCDA_hal/convolved_source/convolved_extended_source.py#89\u001b\\\u001b[2m89\u001b[0m\u001b]8;;\u001b\\\n"
      ]
     },
     "metadata": {},
     "output_type": "display_data"
    },
    {
     "data": {
      "text/html": [
       "<pre style=\"white-space:pre;overflow-x:auto;line-height:normal;font-family:Menlo,'DejaVu Sans Mono',consolas,'Courier New',monospace\"><span style=\"color: #00ff00; text-decoration-color: #00ff00\">         </span><span style=\"color: #00ffaf; text-decoration-color: #00ffaf\">INFO    </span> <span style=\"color: #c6c6c6; text-decoration-color: #c6c6c6; font-weight: bold\"> Central bin is bin at Declination = </span><span style=\"color: #c0c0c0; text-decoration-color: #c0c0c0; font-weight: bold\">6.260</span><span style=\"color: #c6c6c6; text-decoration-color: #c6c6c6; font-weight: bold\">                        </span><a href=\"file:///data/home/cwy/.mylib/miniconda3/envs/3ML/lib/python3.9/site-packages/WCDA_hal/convolved_source/convolved_extended_source.py\" target=\"_blank\"><span style=\"color: #7f7f7f; text-decoration-color: #7f7f7f\">convolved_extended_source.py</span></a><span style=\"color: #7f7f7f; text-decoration-color: #7f7f7f\">:</span><a href=\"file:///data/home/cwy/.mylib/miniconda3/envs/3ML/lib/python3.9/site-packages/WCDA_hal/convolved_source/convolved_extended_source.py#98\" target=\"_blank\"><span style=\"color: #7f7f7f; text-decoration-color: #7f7f7f\">98</span></a>\n",
       "</pre>\n"
      ],
      "text/plain": [
       "\u001b[38;5;46m        \u001b[0m\u001b[38;5;46m \u001b[0m\u001b[38;5;49mINFO    \u001b[0m \u001b[1;38;5;251m Central bin is bin at Declination = \u001b[0m\u001b[1;37m6.260\u001b[0m\u001b[1;38;5;251m                       \u001b[0m\u001b[1;38;5;251m \u001b[0m\u001b]8;id=470923;file:///data/home/cwy/.mylib/miniconda3/envs/3ML/lib/python3.9/site-packages/WCDA_hal/convolved_source/convolved_extended_source.py\u001b\\\u001b[2mconvolved_extended_source.py\u001b[0m\u001b]8;;\u001b\\\u001b[2m:\u001b[0m\u001b]8;id=691037;file:///data/home/cwy/.mylib/miniconda3/envs/3ML/lib/python3.9/site-packages/WCDA_hal/convolved_source/convolved_extended_source.py#98\u001b\\\u001b[2m98\u001b[0m\u001b]8;;\u001b\\\n"
      ]
     },
     "metadata": {},
     "output_type": "display_data"
    },
    {
     "data": {
      "text/html": [
       "<pre style=\"white-space:pre;overflow-x:auto;line-height:normal;font-family:Menlo,'DejaVu Sans Mono',consolas,'Courier New',monospace\"><span style=\"color: #00ff00; text-decoration-color: #00ff00\">         </span><span style=\"color: #00ffaf; text-decoration-color: #00ffaf\">INFO    </span> <span style=\"color: #c6c6c6; text-decoration-color: #c6c6c6; font-weight: bold\"> Considering </span><span style=\"color: #c0c0c0; text-decoration-color: #c0c0c0; font-weight: bold\">19</span><span style=\"color: #c6c6c6; text-decoration-color: #c6c6c6; font-weight: bold\"> dec bins for extended source Diffuse              </span><a href=\"file:///data/home/cwy/.mylib/miniconda3/envs/3ML/lib/python3.9/site-packages/WCDA_hal/convolved_source/convolved_extended_source.py\" target=\"_blank\"><span style=\"color: #7f7f7f; text-decoration-color: #7f7f7f\">convolved_extended_source.py</span></a><span style=\"color: #7f7f7f; text-decoration-color: #7f7f7f\">:</span><a href=\"file:///data/home/cwy/.mylib/miniconda3/envs/3ML/lib/python3.9/site-packages/WCDA_hal/convolved_source/convolved_extended_source.py#89\" target=\"_blank\"><span style=\"color: #7f7f7f; text-decoration-color: #7f7f7f\">89</span></a>\n",
       "</pre>\n"
      ],
      "text/plain": [
       "\u001b[38;5;46m        \u001b[0m\u001b[38;5;46m \u001b[0m\u001b[38;5;49mINFO    \u001b[0m \u001b[1;38;5;251m Considering \u001b[0m\u001b[1;37m19\u001b[0m\u001b[1;38;5;251m dec bins for extended source Diffuse             \u001b[0m\u001b[1;38;5;251m \u001b[0m\u001b]8;id=361765;file:///data/home/cwy/.mylib/miniconda3/envs/3ML/lib/python3.9/site-packages/WCDA_hal/convolved_source/convolved_extended_source.py\u001b\\\u001b[2mconvolved_extended_source.py\u001b[0m\u001b]8;;\u001b\\\u001b[2m:\u001b[0m\u001b]8;id=298842;file:///data/home/cwy/.mylib/miniconda3/envs/3ML/lib/python3.9/site-packages/WCDA_hal/convolved_source/convolved_extended_source.py#89\u001b\\\u001b[2m89\u001b[0m\u001b]8;;\u001b\\\n"
      ]
     },
     "metadata": {},
     "output_type": "display_data"
    },
    {
     "data": {
      "text/html": [
       "<pre style=\"white-space:pre;overflow-x:auto;line-height:normal;font-family:Menlo,'DejaVu Sans Mono',consolas,'Courier New',monospace\"><span style=\"color: #00ff00; text-decoration-color: #00ff00\">         </span><span style=\"color: #00ffaf; text-decoration-color: #00ffaf\">INFO    </span> <span style=\"color: #c6c6c6; text-decoration-color: #c6c6c6; font-weight: bold\"> Central bin is bin at Declination = </span><span style=\"color: #c0c0c0; text-decoration-color: #c0c0c0; font-weight: bold\">1.972</span><span style=\"color: #c6c6c6; text-decoration-color: #c6c6c6; font-weight: bold\">                        </span><a href=\"file:///data/home/cwy/.mylib/miniconda3/envs/3ML/lib/python3.9/site-packages/WCDA_hal/convolved_source/convolved_extended_source.py\" target=\"_blank\"><span style=\"color: #7f7f7f; text-decoration-color: #7f7f7f\">convolved_extended_source.py</span></a><span style=\"color: #7f7f7f; text-decoration-color: #7f7f7f\">:</span><a href=\"file:///data/home/cwy/.mylib/miniconda3/envs/3ML/lib/python3.9/site-packages/WCDA_hal/convolved_source/convolved_extended_source.py#98\" target=\"_blank\"><span style=\"color: #7f7f7f; text-decoration-color: #7f7f7f\">98</span></a>\n",
       "</pre>\n"
      ],
      "text/plain": [
       "\u001b[38;5;46m        \u001b[0m\u001b[38;5;46m \u001b[0m\u001b[38;5;49mINFO    \u001b[0m \u001b[1;38;5;251m Central bin is bin at Declination = \u001b[0m\u001b[1;37m1.972\u001b[0m\u001b[1;38;5;251m                       \u001b[0m\u001b[1;38;5;251m \u001b[0m\u001b]8;id=554824;file:///data/home/cwy/.mylib/miniconda3/envs/3ML/lib/python3.9/site-packages/WCDA_hal/convolved_source/convolved_extended_source.py\u001b\\\u001b[2mconvolved_extended_source.py\u001b[0m\u001b]8;;\u001b\\\u001b[2m:\u001b[0m\u001b]8;id=85163;file:///data/home/cwy/.mylib/miniconda3/envs/3ML/lib/python3.9/site-packages/WCDA_hal/convolved_source/convolved_extended_source.py#98\u001b\\\u001b[2m98\u001b[0m\u001b]8;;\u001b\\\n"
      ]
     },
     "metadata": {},
     "output_type": "display_data"
    },
    {
     "data": {
      "text/html": [
       "<pre style=\"white-space:pre;overflow-x:auto;line-height:normal;font-family:Menlo,'DejaVu Sans Mono',consolas,'Courier New',monospace\"><span style=\"color: #00ff00; text-decoration-color: #00ff00\">         </span><span style=\"color: #00ffaf; text-decoration-color: #00ffaf\">INFO    </span> <span style=\"color: #c6c6c6; text-decoration-color: #c6c6c6; font-weight: bold\"> set the minimizer to minuit                                             </span><a href=\"file:///data/home/cwy/.mylib/miniconda3/envs/3ML/lib/python3.9/site-packages/threeML/classicMLE/joint_likelihood.py\" target=\"_blank\"><span style=\"color: #7f7f7f; text-decoration-color: #7f7f7f\">joint_likelihood.py</span></a><span style=\"color: #7f7f7f; text-decoration-color: #7f7f7f\">:</span><a href=\"file:///data/home/cwy/.mylib/miniconda3/envs/3ML/lib/python3.9/site-packages/threeML/classicMLE/joint_likelihood.py#1042\" target=\"_blank\"><span style=\"color: #7f7f7f; text-decoration-color: #7f7f7f\">1042</span></a>\n",
       "</pre>\n"
      ],
      "text/plain": [
       "\u001b[38;5;46m        \u001b[0m\u001b[38;5;46m \u001b[0m\u001b[38;5;49mINFO    \u001b[0m \u001b[1;38;5;251m set the minimizer to minuit                                            \u001b[0m\u001b[1;38;5;251m \u001b[0m\u001b]8;id=635095;file:///data/home/cwy/.mylib/miniconda3/envs/3ML/lib/python3.9/site-packages/threeML/classicMLE/joint_likelihood.py\u001b\\\u001b[2mjoint_likelihood.py\u001b[0m\u001b]8;;\u001b\\\u001b[2m:\u001b[0m\u001b]8;id=279297;file:///data/home/cwy/.mylib/miniconda3/envs/3ML/lib/python3.9/site-packages/threeML/classicMLE/joint_likelihood.py#1042\u001b\\\u001b[2m1042\u001b[0m\u001b]8;;\u001b\\\n"
      ]
     },
     "metadata": {},
     "output_type": "display_data"
    },
    {
     "data": {
      "text/html": [
       "<pre style=\"white-space:pre;overflow-x:auto;line-height:normal;font-family:Menlo,'DejaVu Sans Mono',consolas,'Courier New',monospace\"><span style=\"color: #00ff00; text-decoration-color: #00ff00\">         </span><span style=\"color: #00ffaf; text-decoration-color: #00ffaf\">INFO    </span> <span style=\"color: #c6c6c6; text-decoration-color: #c6c6c6; font-weight: bold\"> set the minimizer to ROOT                                               </span><a href=\"file:///data/home/cwy/.mylib/miniconda3/envs/3ML/lib/python3.9/site-packages/threeML/classicMLE/joint_likelihood.py\" target=\"_blank\"><span style=\"color: #7f7f7f; text-decoration-color: #7f7f7f\">joint_likelihood.py</span></a><span style=\"color: #7f7f7f; text-decoration-color: #7f7f7f\">:</span><a href=\"file:///data/home/cwy/.mylib/miniconda3/envs/3ML/lib/python3.9/site-packages/threeML/classicMLE/joint_likelihood.py#1059\" target=\"_blank\"><span style=\"color: #7f7f7f; text-decoration-color: #7f7f7f\">1059</span></a>\n",
       "</pre>\n"
      ],
      "text/plain": [
       "\u001b[38;5;46m        \u001b[0m\u001b[38;5;46m \u001b[0m\u001b[38;5;49mINFO    \u001b[0m \u001b[1;38;5;251m set the minimizer to ROOT                                              \u001b[0m\u001b[1;38;5;251m \u001b[0m\u001b]8;id=571773;file:///data/home/cwy/.mylib/miniconda3/envs/3ML/lib/python3.9/site-packages/threeML/classicMLE/joint_likelihood.py\u001b\\\u001b[2mjoint_likelihood.py\u001b[0m\u001b]8;;\u001b\\\u001b[2m:\u001b[0m\u001b]8;id=20559;file:///data/home/cwy/.mylib/miniconda3/envs/3ML/lib/python3.9/site-packages/threeML/classicMLE/joint_likelihood.py#1059\u001b\\\u001b[2m1059\u001b[0m\u001b]8;;\u001b\\\n"
      ]
     },
     "metadata": {},
     "output_type": "display_data"
    },
    {
     "data": {
      "text/html": [
       "<pre style=\"white-space:pre;overflow-x:auto;line-height:normal;font-family:Menlo,'DejaVu Sans Mono',consolas,'Courier New',monospace\"><span style=\"color: #00ffaf; text-decoration-color: #00ffaf; font-weight: bold; text-decoration: underline\">Best fit values:</span>\n",
       "\n",
       "</pre>\n"
      ],
      "text/plain": [
       "\u001b[1;4;38;5;49mBest fit values:\u001b[0m\n",
       "\n"
      ]
     },
     "metadata": {},
     "output_type": "display_data"
    },
    {
     "data": {
      "text/html": [
       "<div>\n",
       "<style scoped>\n",
       "    .dataframe tbody tr th:only-of-type {\n",
       "        vertical-align: middle;\n",
       "    }\n",
       "\n",
       "    .dataframe tbody tr th {\n",
       "        vertical-align: top;\n",
       "    }\n",
       "\n",
       "    .dataframe thead th {\n",
       "        text-align: right;\n",
       "    }\n",
       "</style>\n",
       "<table border=\"1\" class=\"dataframe\">\n",
       "  <thead>\n",
       "    <tr style=\"text-align: right;\">\n",
       "      <th></th>\n",
       "      <th>result</th>\n",
       "      <th>unit</th>\n",
       "    </tr>\n",
       "    <tr>\n",
       "      <th>parameter</th>\n",
       "      <th></th>\n",
       "      <th></th>\n",
       "    </tr>\n",
       "  </thead>\n",
       "  <tbody>\n",
       "    <tr>\n",
       "      <th>J1848M0153u.spectrum.main.Powerlaw.K</th>\n",
       "      <td>(1.93 -0.16 +0.17) x 10^-25</td>\n",
       "      <td>1 / (keV s cm2)</td>\n",
       "    </tr>\n",
       "    <tr>\n",
       "      <th>J1848M0153u.spectrum.main.Powerlaw.index</th>\n",
       "      <td>-3.77 +/- 0.14</td>\n",
       "      <td></td>\n",
       "    </tr>\n",
       "    <tr>\n",
       "      <th>J1848M0001u.spectrum.main.Powerlaw.K</th>\n",
       "      <td>(1.39 -0.08 +0.09) x 10^-25</td>\n",
       "      <td>1 / (keV s cm2)</td>\n",
       "    </tr>\n",
       "    <tr>\n",
       "      <th>J1848M0001u.spectrum.main.Powerlaw.index</th>\n",
       "      <td>-2.64 +/- 0.07</td>\n",
       "      <td></td>\n",
       "    </tr>\n",
       "    <tr>\n",
       "      <th>J1850M0004u.spectrum.main.Powerlaw.K</th>\n",
       "      <td>(2.12 +/- 0.10) x 10^-25</td>\n",
       "      <td>1 / (keV s cm2)</td>\n",
       "    </tr>\n",
       "    <tr>\n",
       "      <th>J1850M0004u.spectrum.main.Powerlaw.index</th>\n",
       "      <td>-3.16 +/- 0.07</td>\n",
       "      <td></td>\n",
       "    </tr>\n",
       "    <tr>\n",
       "      <th>J1852P0050u.spectrum.main.Powerlaw.K</th>\n",
       "      <td>(1.46 -0.18 +0.21) x 10^-25</td>\n",
       "      <td>1 / (keV s cm2)</td>\n",
       "    </tr>\n",
       "    <tr>\n",
       "      <th>J1852P0050u.spectrum.main.Powerlaw.index</th>\n",
       "      <td>-3.67 +/- 0.20</td>\n",
       "      <td></td>\n",
       "    </tr>\n",
       "    <tr>\n",
       "      <th>J1857P0203u.spectrum.main.Powerlaw.K</th>\n",
       "      <td>(1.40 -0.08 +0.09) x 10^-25</td>\n",
       "      <td>1 / (keV s cm2)</td>\n",
       "    </tr>\n",
       "    <tr>\n",
       "      <th>J1857P0203u.spectrum.main.Powerlaw.index</th>\n",
       "      <td>-3.29 +/- 0.10</td>\n",
       "      <td></td>\n",
       "    </tr>\n",
       "    <tr>\n",
       "      <th>J1858P0330.spectrum.main.Powerlaw.K</th>\n",
       "      <td>(8.6 -1.0 +1.1) x 10^-26</td>\n",
       "      <td>1 / (keV s cm2)</td>\n",
       "    </tr>\n",
       "    <tr>\n",
       "      <th>J1858P0330.spectrum.main.Powerlaw.index</th>\n",
       "      <td>-3.96 +/- 0.20</td>\n",
       "      <td></td>\n",
       "    </tr>\n",
       "    <tr>\n",
       "      <th>J1910P0516.spectrum.main.Powerlaw.K</th>\n",
       "      <td>(6.1 -0.5 +0.6) x 10^-26</td>\n",
       "      <td>1 / (keV s cm2)</td>\n",
       "    </tr>\n",
       "    <tr>\n",
       "      <th>J1910P0516.spectrum.main.Powerlaw.index</th>\n",
       "      <td>-3.28 +/- 0.14</td>\n",
       "      <td></td>\n",
       "    </tr>\n",
       "    <tr>\n",
       "      <th>J1913P0501.spectrum.main.Powerlaw.K</th>\n",
       "      <td>(5.8 -0.5 +0.6) x 10^-26</td>\n",
       "      <td>1 / (keV s cm2)</td>\n",
       "    </tr>\n",
       "    <tr>\n",
       "      <th>J1913P0501.spectrum.main.Powerlaw.index</th>\n",
       "      <td>-3.25 +/- 0.15</td>\n",
       "      <td></td>\n",
       "    </tr>\n",
       "    <tr>\n",
       "      <th>Diffuse.spectrum.main.Powerlaw.K</th>\n",
       "      <td>(1.44 -0.05 +0.06) x 10^-24</td>\n",
       "      <td>1 / (keV s cm2)</td>\n",
       "    </tr>\n",
       "    <tr>\n",
       "      <th>Diffuse.spectrum.main.Powerlaw.index</th>\n",
       "      <td>-3.23 +/- 0.05</td>\n",
       "      <td></td>\n",
       "    </tr>\n",
       "  </tbody>\n",
       "</table>\n",
       "</div>"
      ],
      "text/plain": [
       "                                                               result   \n",
       "parameter                                                               \n",
       "J1848M0153u.spectrum.main.Powerlaw.K      (1.93 -0.16 +0.17) x 10^-25  \\\n",
       "J1848M0153u.spectrum.main.Powerlaw.index               -3.77 +/- 0.14   \n",
       "J1848M0001u.spectrum.main.Powerlaw.K      (1.39 -0.08 +0.09) x 10^-25   \n",
       "J1848M0001u.spectrum.main.Powerlaw.index               -2.64 +/- 0.07   \n",
       "J1850M0004u.spectrum.main.Powerlaw.K         (2.12 +/- 0.10) x 10^-25   \n",
       "J1850M0004u.spectrum.main.Powerlaw.index               -3.16 +/- 0.07   \n",
       "J1852P0050u.spectrum.main.Powerlaw.K      (1.46 -0.18 +0.21) x 10^-25   \n",
       "J1852P0050u.spectrum.main.Powerlaw.index               -3.67 +/- 0.20   \n",
       "J1857P0203u.spectrum.main.Powerlaw.K      (1.40 -0.08 +0.09) x 10^-25   \n",
       "J1857P0203u.spectrum.main.Powerlaw.index               -3.29 +/- 0.10   \n",
       "J1858P0330.spectrum.main.Powerlaw.K          (8.6 -1.0 +1.1) x 10^-26   \n",
       "J1858P0330.spectrum.main.Powerlaw.index                -3.96 +/- 0.20   \n",
       "J1910P0516.spectrum.main.Powerlaw.K          (6.1 -0.5 +0.6) x 10^-26   \n",
       "J1910P0516.spectrum.main.Powerlaw.index                -3.28 +/- 0.14   \n",
       "J1913P0501.spectrum.main.Powerlaw.K          (5.8 -0.5 +0.6) x 10^-26   \n",
       "J1913P0501.spectrum.main.Powerlaw.index                -3.25 +/- 0.15   \n",
       "Diffuse.spectrum.main.Powerlaw.K          (1.44 -0.05 +0.06) x 10^-24   \n",
       "Diffuse.spectrum.main.Powerlaw.index                   -3.23 +/- 0.05   \n",
       "\n",
       "                                                     unit  \n",
       "parameter                                                  \n",
       "J1848M0153u.spectrum.main.Powerlaw.K      1 / (keV s cm2)  \n",
       "J1848M0153u.spectrum.main.Powerlaw.index                   \n",
       "J1848M0001u.spectrum.main.Powerlaw.K      1 / (keV s cm2)  \n",
       "J1848M0001u.spectrum.main.Powerlaw.index                   \n",
       "J1850M0004u.spectrum.main.Powerlaw.K      1 / (keV s cm2)  \n",
       "J1850M0004u.spectrum.main.Powerlaw.index                   \n",
       "J1852P0050u.spectrum.main.Powerlaw.K      1 / (keV s cm2)  \n",
       "J1852P0050u.spectrum.main.Powerlaw.index                   \n",
       "J1857P0203u.spectrum.main.Powerlaw.K      1 / (keV s cm2)  \n",
       "J1857P0203u.spectrum.main.Powerlaw.index                   \n",
       "J1858P0330.spectrum.main.Powerlaw.K       1 / (keV s cm2)  \n",
       "J1858P0330.spectrum.main.Powerlaw.index                    \n",
       "J1910P0516.spectrum.main.Powerlaw.K       1 / (keV s cm2)  \n",
       "J1910P0516.spectrum.main.Powerlaw.index                    \n",
       "J1913P0501.spectrum.main.Powerlaw.K       1 / (keV s cm2)  \n",
       "J1913P0501.spectrum.main.Powerlaw.index                    \n",
       "Diffuse.spectrum.main.Powerlaw.K          1 / (keV s cm2)  \n",
       "Diffuse.spectrum.main.Powerlaw.index                       "
      ]
     },
     "metadata": {},
     "output_type": "display_data"
    },
    {
     "data": {
      "text/html": [
       "<pre style=\"white-space:pre;overflow-x:auto;line-height:normal;font-family:Menlo,'DejaVu Sans Mono',consolas,'Courier New',monospace\">\n",
       "<span style=\"color: #00ffaf; text-decoration-color: #00ffaf; font-weight: bold; text-decoration: underline\">Correlation matrix:</span>\n",
       "\n",
       "</pre>\n"
      ],
      "text/plain": [
       "\n",
       "\u001b[1;4;38;5;49mCorrelation matrix:\u001b[0m\n",
       "\n"
      ]
     },
     "metadata": {},
     "output_type": "display_data"
    },
    {
     "data": {
      "text/html": [
       "<div><table id=\"table139990917746112\">\n",
       "<tr><td>1.00</td><td>0.55</td><td>0.00</td><td>0.00</td><td>-0.01</td><td>0.01</td><td>0.15</td><td>0.04</td><td>0.07</td><td>0.01</td><td>0.14</td><td>0.06</td><td>0.02</td><td>-0.00</td><td>0.01</td><td>0.00</td><td>-0.38</td><td>-0.07</td></tr>\n",
       "<tr><td>0.55</td><td>1.00</td><td>0.00</td><td>-0.00</td><td>0.00</td><td>-0.00</td><td>0.04</td><td>0.09</td><td>0.01</td><td>0.05</td><td>0.05</td><td>0.09</td><td>0.00</td><td>0.01</td><td>0.00</td><td>0.01</td><td>-0.06</td><td>-0.32</td></tr>\n",
       "<tr><td>0.00</td><td>0.00</td><td>1.00</td><td>-0.46</td><td>-0.19</td><td>0.07</td><td>-0.06</td><td>0.01</td><td>0.02</td><td>-0.01</td><td>0.01</td><td>-0.00</td><td>0.00</td><td>-0.00</td><td>0.00</td><td>-0.00</td><td>-0.04</td><td>0.02</td></tr>\n",
       "<tr><td>0.00</td><td>-0.00</td><td>-0.46</td><td>1.00</td><td>0.08</td><td>-0.12</td><td>0.02</td><td>-0.04</td><td>-0.01</td><td>0.01</td><td>-0.00</td><td>0.01</td><td>-0.00</td><td>0.00</td><td>-0.00</td><td>0.00</td><td>0.02</td><td>-0.03</td></tr>\n",
       "<tr><td>-0.01</td><td>0.00</td><td>-0.19</td><td>0.08</td><td>1.00</td><td>-0.01</td><td>-0.25</td><td>-0.00</td><td>0.04</td><td>-0.01</td><td>-0.00</td><td>0.00</td><td>-0.00</td><td>0.00</td><td>-0.00</td><td>0.00</td><td>0.01</td><td>-0.01</td></tr>\n",
       "<tr><td>0.01</td><td>-0.00</td><td>0.07</td><td>-0.12</td><td>-0.01</td><td>1.00</td><td>0.00</td><td>-0.19</td><td>-0.01</td><td>0.02</td><td>0.01</td><td>0.01</td><td>0.00</td><td>0.00</td><td>0.00</td><td>0.00</td><td>-0.01</td><td>-0.02</td></tr>\n",
       "<tr><td>0.15</td><td>0.04</td><td>-0.06</td><td>0.02</td><td>-0.25</td><td>0.00</td><td>1.00</td><td>0.38</td><td>-0.03</td><td>0.00</td><td>0.15</td><td>0.05</td><td>0.02</td><td>-0.00</td><td>0.01</td><td>-0.00</td><td>-0.42</td><td>-0.01</td></tr>\n",
       "<tr><td>0.04</td><td>0.09</td><td>0.01</td><td>-0.04</td><td>-0.00</td><td>-0.19</td><td>0.38</td><td>1.00</td><td>0.00</td><td>-0.04</td><td>0.04</td><td>0.08</td><td>-0.00</td><td>0.01</td><td>0.00</td><td>0.01</td><td>-0.04</td><td>-0.31</td></tr>\n",
       "<tr><td>0.07</td><td>0.01</td><td>0.02</td><td>-0.01</td><td>0.04</td><td>-0.01</td><td>-0.03</td><td>0.00</td><td>1.00</td><td>0.09</td><td>0.01</td><td>0.00</td><td>0.01</td><td>-0.00</td><td>0.01</td><td>-0.00</td><td>-0.19</td><td>0.04</td></tr>\n",
       "<tr><td>0.01</td><td>0.05</td><td>-0.01</td><td>0.01</td><td>-0.01</td><td>0.02</td><td>0.00</td><td>-0.04</td><td>0.09</td><td>1.00</td><td>-0.00</td><td>-0.01</td><td>-0.00</td><td>0.01</td><td>-0.00</td><td>0.00</td><td>0.03</td><td>-0.14</td></tr>\n",
       "<tr><td>0.14</td><td>0.05</td><td>0.01</td><td>-0.00</td><td>-0.00</td><td>0.01</td><td>0.15</td><td>0.04</td><td>0.01</td><td>-0.00</td><td>1.00</td><td>0.67</td><td>0.02</td><td>-0.00</td><td>0.01</td><td>0.00</td><td>-0.35</td><td>-0.05</td></tr>\n",
       "<tr><td>0.06</td><td>0.09</td><td>-0.00</td><td>0.01</td><td>0.00</td><td>0.01</td><td>0.05</td><td>0.08</td><td>0.00</td><td>-0.01</td><td>0.67</td><td>1.00</td><td>0.00</td><td>0.01</td><td>0.00</td><td>0.00</td><td>-0.07</td><td>-0.26</td></tr>\n",
       "<tr><td>0.02</td><td>0.00</td><td>0.00</td><td>-0.00</td><td>-0.00</td><td>0.00</td><td>0.02</td><td>-0.00</td><td>0.01</td><td>-0.00</td><td>0.02</td><td>0.00</td><td>1.00</td><td>0.05</td><td>-0.11</td><td>0.04</td><td>-0.05</td><td>0.01</td></tr>\n",
       "<tr><td>-0.00</td><td>0.01</td><td>-0.00</td><td>0.00</td><td>0.00</td><td>0.00</td><td>-0.00</td><td>0.01</td><td>-0.00</td><td>0.01</td><td>-0.00</td><td>0.01</td><td>0.05</td><td>1.00</td><td>0.04</td><td>-0.07</td><td>0.01</td><td>-0.04</td></tr>\n",
       "<tr><td>0.01</td><td>0.00</td><td>0.00</td><td>-0.00</td><td>-0.00</td><td>0.00</td><td>0.01</td><td>0.00</td><td>0.01</td><td>-0.00</td><td>0.01</td><td>0.00</td><td>-0.11</td><td>0.04</td><td>1.00</td><td>0.02</td><td>-0.03</td><td>0.01</td></tr>\n",
       "<tr><td>0.00</td><td>0.01</td><td>-0.00</td><td>0.00</td><td>0.00</td><td>0.00</td><td>-0.00</td><td>0.01</td><td>-0.00</td><td>0.00</td><td>0.00</td><td>0.00</td><td>0.04</td><td>-0.07</td><td>0.02</td><td>1.00</td><td>0.00</td><td>-0.02</td></tr>\n",
       "<tr><td>-0.38</td><td>-0.06</td><td>-0.04</td><td>0.02</td><td>0.01</td><td>-0.01</td><td>-0.42</td><td>-0.04</td><td>-0.19</td><td>0.03</td><td>-0.35</td><td>-0.07</td><td>-0.05</td><td>0.01</td><td>-0.03</td><td>0.00</td><td>1.00</td><td>-0.14</td></tr>\n",
       "<tr><td>-0.07</td><td>-0.32</td><td>0.02</td><td>-0.03</td><td>-0.01</td><td>-0.02</td><td>-0.01</td><td>-0.31</td><td>0.04</td><td>-0.14</td><td>-0.05</td><td>-0.26</td><td>0.01</td><td>-0.04</td><td>0.01</td><td>-0.02</td><td>-0.14</td><td>1.00</td></tr>\n",
       "</table></div>"
      ],
      "text/plain": [
       " 1.00  0.55  0.00  0.00 -0.01  0.01 ...  0.02 -0.00  0.01  0.00 -0.38 -0.07\n",
       " 0.55  1.00  0.00 -0.00  0.00 -0.00 ...  0.00  0.01  0.00  0.01 -0.06 -0.32\n",
       " 0.00  0.00  1.00 -0.46 -0.19  0.07 ...  0.00 -0.00  0.00 -0.00 -0.04  0.02\n",
       " 0.00 -0.00 -0.46  1.00  0.08 -0.12 ... -0.00  0.00 -0.00  0.00  0.02 -0.03\n",
       "-0.01  0.00 -0.19  0.08  1.00 -0.01 ... -0.00  0.00 -0.00  0.00  0.01 -0.01\n",
       " 0.01 -0.00  0.07 -0.12 -0.01  1.00 ...  0.00  0.00  0.00  0.00 -0.01 -0.02\n",
       " 0.15  0.04 -0.06  0.02 -0.25  0.00 ...  0.02 -0.00  0.01 -0.00 -0.42 -0.01\n",
       " 0.04  0.09  0.01 -0.04 -0.00 -0.19 ... -0.00  0.01  0.00  0.01 -0.04 -0.31\n",
       " 0.07  0.01  0.02 -0.01  0.04 -0.01 ...  0.01 -0.00  0.01 -0.00 -0.19  0.04\n",
       " 0.01  0.05 -0.01  0.01 -0.01  0.02 ... -0.00  0.01 -0.00  0.00  0.03 -0.14\n",
       " 0.14  0.05  0.01 -0.00 -0.00  0.01 ...  0.02 -0.00  0.01  0.00 -0.35 -0.05\n",
       " 0.06  0.09 -0.00  0.01  0.00  0.01 ...  0.00  0.01  0.00  0.00 -0.07 -0.26\n",
       " 0.02  0.00  0.00 -0.00 -0.00  0.00 ...  1.00  0.05 -0.11  0.04 -0.05  0.01\n",
       "-0.00  0.01 -0.00  0.00  0.00  0.00 ...  0.05  1.00  0.04 -0.07  0.01 -0.04\n",
       " 0.01  0.00  0.00 -0.00 -0.00  0.00 ... -0.11  0.04  1.00  0.02 -0.03  0.01\n",
       " 0.00  0.01 -0.00  0.00  0.00  0.00 ...  0.04 -0.07  0.02  1.00  0.00 -0.02\n",
       "-0.38 -0.06 -0.04  0.02  0.01 -0.01 ... -0.05  0.01 -0.03  0.00  1.00 -0.14\n",
       "-0.07 -0.32  0.02 -0.03 -0.01 -0.02 ...  0.01 -0.04  0.01 -0.02 -0.14  1.00"
      ]
     },
     "metadata": {},
     "output_type": "display_data"
    },
    {
     "data": {
      "text/html": [
       "<pre style=\"white-space:pre;overflow-x:auto;line-height:normal;font-family:Menlo,'DejaVu Sans Mono',consolas,'Courier New',monospace\">\n",
       "<span style=\"color: #00ffaf; text-decoration-color: #00ffaf; font-weight: bold; text-decoration: underline\">Values of -log(likelihood) at the minimum:</span>\n",
       "\n",
       "</pre>\n"
      ],
      "text/plain": [
       "\n",
       "\u001b[1;4;38;5;49mValues of -\u001b[0m\u001b[1;4;38;5;49mlog\u001b[0m\u001b[1;4;38;5;49m(\u001b[0m\u001b[1;4;38;5;49mlikelihood\u001b[0m\u001b[1;4;38;5;49m)\u001b[0m\u001b[1;4;38;5;49m at the minimum:\u001b[0m\n",
       "\n"
      ]
     },
     "metadata": {},
     "output_type": "display_data"
    },
    {
     "data": {
      "text/html": [
       "<div>\n",
       "<style scoped>\n",
       "    .dataframe tbody tr th:only-of-type {\n",
       "        vertical-align: middle;\n",
       "    }\n",
       "\n",
       "    .dataframe tbody tr th {\n",
       "        vertical-align: top;\n",
       "    }\n",
       "\n",
       "    .dataframe thead th {\n",
       "        text-align: right;\n",
       "    }\n",
       "</style>\n",
       "<table border=\"1\" class=\"dataframe\">\n",
       "  <thead>\n",
       "    <tr style=\"text-align: right;\">\n",
       "      <th></th>\n",
       "      <th>-log(likelihood)</th>\n",
       "    </tr>\n",
       "  </thead>\n",
       "  <tbody>\n",
       "    <tr>\n",
       "      <th>KM2A</th>\n",
       "      <td>6805.62381</td>\n",
       "    </tr>\n",
       "    <tr>\n",
       "      <th>total</th>\n",
       "      <td>6805.62381</td>\n",
       "    </tr>\n",
       "  </tbody>\n",
       "</table>\n",
       "</div>"
      ],
      "text/plain": [
       "       -log(likelihood)\n",
       "KM2A         6805.62381\n",
       "total        6805.62381"
      ]
     },
     "metadata": {},
     "output_type": "display_data"
    },
    {
     "data": {
      "text/html": [
       "<pre style=\"white-space:pre;overflow-x:auto;line-height:normal;font-family:Menlo,'DejaVu Sans Mono',consolas,'Courier New',monospace\">\n",
       "<span style=\"color: #00ffaf; text-decoration-color: #00ffaf; font-weight: bold; text-decoration: underline\">Values of statistical measures:</span>\n",
       "\n",
       "</pre>\n"
      ],
      "text/plain": [
       "\n",
       "\u001b[1;4;38;5;49mValues of statistical measures:\u001b[0m\n",
       "\n"
      ]
     },
     "metadata": {},
     "output_type": "display_data"
    },
    {
     "data": {
      "text/html": [
       "<div>\n",
       "<style scoped>\n",
       "    .dataframe tbody tr th:only-of-type {\n",
       "        vertical-align: middle;\n",
       "    }\n",
       "\n",
       "    .dataframe tbody tr th {\n",
       "        vertical-align: top;\n",
       "    }\n",
       "\n",
       "    .dataframe thead th {\n",
       "        text-align: right;\n",
       "    }\n",
       "</style>\n",
       "<table border=\"1\" class=\"dataframe\">\n",
       "  <thead>\n",
       "    <tr style=\"text-align: right;\">\n",
       "      <th></th>\n",
       "      <th>statistical measures</th>\n",
       "    </tr>\n",
       "  </thead>\n",
       "  <tbody>\n",
       "    <tr>\n",
       "      <th>AIC</th>\n",
       "      <td>13647.249224</td>\n",
       "    </tr>\n",
       "    <tr>\n",
       "      <th>BIC</th>\n",
       "      <td>13844.590432</td>\n",
       "    </tr>\n",
       "  </tbody>\n",
       "</table>\n",
       "</div>"
      ],
      "text/plain": [
       "     statistical measures\n",
       "AIC          13647.249224\n",
       "BIC          13844.590432"
      ]
     },
     "metadata": {},
     "output_type": "display_data"
    },
    {
     "data": {
      "application/vnd.jupyter.widget-view+json": {
       "model_id": "3a8ccf8107584711a9e8dc5322ee1a89",
       "version_major": 2,
       "version_minor": 0
      },
      "text/plain": [
       "Smoothing planes:   0%|          | 0/7 [00:00<?, ?it/s]"
      ]
     },
     "metadata": {},
     "output_type": "display_data"
    },
    {
     "ename": "",
     "evalue": "",
     "output_type": "error",
     "traceback": [
      "\u001b[1;31mThe Kernel crashed while executing code in the the current cell or a previous cell. Please review the code in the cell(s) to identify a possible cause of the failure. Click <a href='https://aka.ms/vscodeJupyterKernelCrash'>here</a> for more info. View Jupyter <a href='command:jupyter.viewOutput'>log</a> for further details."
     ]
    }
   ],
   "source": [
    "%matplotlib inline\n",
    "#####   Data Initialize\n",
    "\n",
    "maptree = \"../../data/KM2A1234full_skymap_rcy.root\"\n",
    "# response = \"../../data/KM2A1234full_mcpsf_DRfinal.root\"\n",
    "response = \"../../data/KM2A1234full_mcpsfnewfix13.root\"\n",
    "\n",
    "region_name=\"Diffuse_KM2A\"\n",
    "if not os.path.exists(f'../res/{region_name}/'):\n",
    "    os.system(f'mkdir ../res/{region_name}/')\n",
    "\n",
    "nside=2**10\n",
    "npix=hp.nside2npix(nside)\n",
    "pixarea = 4 * np.pi/npix\n",
    "\n",
    "pixIdx = hp.nside2npix(nside) # number of pixels I can get from this nside\n",
    "pixIdx = np.arange(pixIdx) # pixel index numbers\n",
    "new_lats = hp.pix2ang(nside, pixIdx)[0] # thetas I need to populate with interpolated theta values\n",
    "new_lons = hp.pix2ang(nside, pixIdx)[1] # phis, same\n",
    "c_icrs = SkyCoord(ra=new_lons*180/np.pi*u.degree, dec=90*u.degree-new_lats*180/np.pi*u.degree, frame='icrs')\n",
    "c_l=c_icrs.galactic.l.deg\n",
    "c_b=c_icrs.galactic.b.deg\n",
    "\n",
    "resultsall = []\n",
    "for i,gl in enumerate(tqdm(range(15,365,10))): #15\n",
    "    c_gal = SkyCoord(l=(gl)*u.degree, b=0*u.degree, frame='galactic')\n",
    "    RA_center=c_gal.icrs.ra.deg\n",
    "    Dec_center=c_gal.icrs.dec.deg\n",
    "    if (Dec_center<-20. or Dec_center>80.): continue\n",
    "    signal=np.zeros(npix,dtype=np.float64)\n",
    "    mask = ( (c_l< gl + 5) & (c_l > gl - 5) & (c_b <5.) & (c_b>-5) & (90-new_lats/np.pi*180>-20) & (90-new_lats/np.pi*180<80)) #&(new_lats<110/180*np.pi )  & (new_lats > 10/180*np.pi )\n",
    "        \n",
    "    signal[mask]=1\n",
    "    ra1,dec1=RA_center, Dec_center\n",
    "\n",
    "    data_radius = 6.0\n",
    "    model_radius = 8.0\n",
    "\n",
    "    roi = HealpixMapROI(ra=ra1,dec=dec1, data_radius=data_radius, model_radius=model_radius, roimap=signal)\n",
    "\n",
    "    KM2A = HAL(\"KM2A\", maptree, response, roi, flat_sky_pixels_size=0.17)\n",
    "\n",
    "    #####   Data Situation\n",
    "    %matplotlib inline\n",
    "    KM2A.set_active_measurements(4, 13)\n",
    "    KM2A.display()\n",
    "\n",
    "\n",
    "    Modelname=f\"roi_{gl - 5}-{gl + 5}\"\n",
    "    if not os.path.exists(f'../res/{region_name}/{Modelname}/'):\n",
    "        os.system(f'mkdir ../res/{region_name}/{Modelname}/')\n",
    "    fig = KM2A.display_stacked_image(smoothing_kernel_sigma=0.25)\n",
    "    fig.savefig(f\"../res/{region_name}/{Modelname}_counts_all.png\",dpi=300)\n",
    "\n",
    "    lm = my.getcatModel(ra1, dec1, data_radius, model_radius, rtsigma=10,  detector=\"KM2A\", roi=roi, pf=True)\n",
    "\n",
    "    Diffuse = my.set_diffusebkg(\n",
    "                ra1, dec1, 6, 6, Kf=False, indexf=False, piv=50, name=region_name\n",
    "                )\n",
    "    \n",
    "    lm.add_source(Diffuse)\n",
    "\n",
    "    lm.save(f\"../res/{region_name}/{Modelname}/Model_init.yml\", overwrite=True)\n",
    "    lm.display(complete=True)\n",
    "\n",
    "    result = my.fit(region_name, Modelname, KM2A, lm, 4, 10, mini=\"ROOT\") #, ifgeterror=True\n",
    "    sources = my.get_sources(lm,result)\n",
    "    resultsall.append([result, sources])\n",
    "\n",
    "    resu = my.getressimple(KM2A, lm)\n",
    "    new_source_idx = np.where(resu==np.ma.max(resu))[0][0]\n",
    "    new_source_lon_lat=hp.pix2ang(1024,new_source_idx,lonlat=True)\n",
    "    print(new_source_lon_lat)\n",
    "\n",
    "    plt.figure()\n",
    "    hp.gnomview(resu,norm='',rot=[ra1,dec1],xsize=200,ysize=200,reso=6,title=Modelname)\n",
    "    plt.scatter(new_source_lon_lat[0],new_source_lon_lat[1],marker='x',color='red')\n",
    "    plt.show()\n",
    "    plt.savefig(f\"../res/{region_name}/{Modelname}_res.png\",dpi=300)\n",
    "\n",
    "    map2, skymapHeader = hp.read_map(\"../../data/fullsky_KM2A_llh-3.5_new.fits.gz\",h=True)\n",
    "    map2 = my.maskroi(map2, roi)\n",
    "    sources.pop(\"Diffuse\")\n",
    "    fig = my.drawmap(region_name, Modelname, sources, map2, ra1, dec1, rad=2*data_radius, contours=[10000],save=1, \n",
    "                    color=\"Fermi\",\n",
    "                    colors = my.colorall\n",
    "                    )\n",
    "    \n",
    "    Flux_WCDA0, jls0  = my.getdatapoint(KM2A, lm, maptree, response, roi, \"Diffuse\", ifpowerlawM=1, piv=50)\n",
    "    import matplotlib as mpl\n",
    "\n",
    "    x_Max=10000.\n",
    "    x_Min=1\n",
    "    y_Min=0.2e-15\n",
    "    y_Max=1e-11\n",
    "    fig,ax = plt.subplots()\n",
    "    plot_spectra(\n",
    "        result[0].results,\n",
    "        sources_to_use=[\"Diffuse\"], #,\"ext1\",\"ext2\",\"ext4\",\"ext5\",\"ext6\",\"ext7\"|\n",
    "        include_extended=True,\n",
    "        ene_min=x_Min,\n",
    "        ene_max=x_Max,\n",
    "        num_ene=30,\n",
    "        energy_unit=\"TeV\",\n",
    "        flux_unit=\"TeV/(s cm2)\",\n",
    "        subplot=ax,\n",
    "        )\n",
    "\n",
    "    my.Draw_sepctrum_points(region_name, Modelname, Flux_WCDA0,\"Diffuse\",\"tab:red\")\n",
    "\n",
    "    ax.set_xlim(x_Min,x_Max)\n",
    "    ax.set_ylim(y_Min,y_Max)\n",
    "    ax.set_xscale('log')\n",
    "    ax.set_yscale('log')\n",
    "    ax.set_ylabel(r\"$E^2\\,dN/dE$ [TeV cm$^{-2}$ s$^{-1}$]\")\n",
    "    ax.set_xlabel(\"Energy [TeV]\")\n",
    "    plt.legend()\n",
    "    plt.savefig(f'../res/{region_name}/{Modelname}/Spectrum.png', dpi=300)\n",
    "    plt.savefig(f'../res/{region_name}/{Modelname}/Spectrum.pdf')\n"
   ]
  },
  {
   "cell_type": "markdown",
   "metadata": {},
   "source": []
  },
  {
   "cell_type": "code",
   "execution_count": null,
   "metadata": {},
   "outputs": [],
   "source": [
    "gc = []\n",
    "dk = []\n",
    "de = []\n",
    "di = []\n",
    "die = []\n",
    "den = []\n",
    "dep = []\n",
    "dien = []\n",
    "diep = []\n",
    "for i in range(len(resultsall)):\n",
    "    gc.append(range(15,365,10)[i])\n",
    "    dk.append(resultsall[i][0][1][0].loc[\"Diffuse.spectrum.main.Powerlaw.K\"][\"value\"])\n",
    "    de.append(resultsall[i][0][1][0].loc[\"Diffuse.spectrum.main.Powerlaw.K\"][\"error\"])\n",
    "    den.append(abs(resultsall[i][0][1][0].loc[\"Diffuse.spectrum.main.Powerlaw.K\"][\"negative_error\"]))\n",
    "    dep.append(abs(resultsall[i][0][1][0].loc[\"Diffuse.spectrum.main.Powerlaw.K\"][\"positive_error\"]))\n",
    "    di.append(resultsall[i][0][1][0].loc[\"Diffuse.spectrum.main.Powerlaw.index\"][\"value\"])\n",
    "    die.append(resultsall[i][0][1][0].loc[\"Diffuse.spectrum.main.Powerlaw.index\"][\"error\"])\n",
    "    dien.append(abs(resultsall[i][0][1][0].loc[\"Diffuse.spectrum.main.Powerlaw.index\"][\"negative_error\"]))\n",
    "    diep.append(abs(resultsall[i][0][1][0].loc[\"Diffuse.spectrum.main.Powerlaw.index\"][\"positive_error\"]))\n",
    "results=[gc,dk,de,den,dep,di,die,dien,diep]\n",
    "np.save(f\"../res/{region_name}/resultsall2.npy\",results)"
   ]
  },
  {
   "cell_type": "code",
   "execution_count": null,
   "metadata": {},
   "outputs": [],
   "source": [
    "region_name=\"Diffuse_KM2A\"\n",
    "results = np.load(f\"../res/{region_name}/resultsall2.npy\")\n",
    "gc=results[0]\n",
    "dk=results[1]\n",
    "den=results[3]\n",
    "dep=results[4]\n",
    "di = results[5]\n",
    "die = results[6]\n",
    "dien = results[7]\n",
    "diep = results[8]"
   ]
  },
  {
   "cell_type": "code",
   "execution_count": null,
   "metadata": {},
   "outputs": [],
   "source": [
    "%matplotlib inline\n",
    "plt.figure() #figsize=(10,10)\n",
    "plt.errorbar(gc, np.array(dk)*1e9, [np.array(den)*1e9, np.array(dep)*1e9], fmt=\"o\") #\n",
    "plt.yscale(\"log\")\n",
    "plt.title(\"Flux KM2A\")\n",
    "plt.ylim(4e-17,4e-15)\n",
    "plt.ylabel(r\"$1/(TeV cm^{2} s)$\")\n",
    "plt.grid()\n",
    "plt.xlabel(r\"$GLON^{o}$\")\n",
    "# my.drawDig(\"/data/home/cwy/Science/3MLWCDA/data/km2adiffusepaper.csv\", fixx=1, fixy=1e-16, logx=0, logy=0, upthereshold=0, xbias=5)"
   ]
  },
  {
   "cell_type": "code",
   "execution_count": null,
   "metadata": {},
   "outputs": [],
   "source": [
    "plt.figure() #figsize=(10,10)\n",
    "\n",
    "plt.errorbar(gc, di, [die, diep], fmt=\"o\")\n",
    "plt.ylim(-2,-4)\n",
    "plt.title(\"Index KM2A\")\n",
    "plt.ylabel(r\"$index$\")\n",
    "plt.xlabel(r\"$GLON^{o}$\")\n",
    "plt.grid()"
   ]
  },
  {
   "cell_type": "code",
   "execution_count": null,
   "metadata": {},
   "outputs": [],
   "source": []
  }
 ],
 "metadata": {
  "kernelspec": {
   "display_name": "3ML",
   "language": "python",
   "name": "python3"
  },
  "language_info": {
   "codemirror_mode": {
    "name": "ipython",
    "version": 3
   },
   "file_extension": ".py",
   "mimetype": "text/x-python",
   "name": "python",
   "nbconvert_exporter": "python",
   "pygments_lexer": "ipython3",
   "version": "3.9.15"
  }
 },
 "nbformat": 4,
 "nbformat_minor": 2
}
