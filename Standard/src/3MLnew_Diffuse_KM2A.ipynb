{
 "cells": [
  {
   "cell_type": "code",
   "execution_count": 1,
   "metadata": {},
   "outputs": [
    {
     "name": "stdout",
     "output_type": "stream",
     "text": [
      "Welcome to JupyROOT 6.24/06\n"
     ]
    },
    {
     "data": {
      "text/html": [
       "<pre style=\"white-space:pre;overflow-x:auto;line-height:normal;font-family:Menlo,'DejaVu Sans Mono',consolas,'Courier New',monospace\"><span style=\"color: #00ff00; text-decoration-color: #00ff00\">22:51:11 </span><span style=\"color: #af5fd7; text-decoration-color: #af5fd7\">WARNING </span> <span style=\"color: #c6c6c6; text-decoration-color: #c6c6c6; font-weight: bold\"> The naima package is not available. Models that depend on it will not be         </span><a href=\"file:///data/home/cwy/.mylib/miniconda3/envs/3MLpure/lib/python3.9/site-packages/astromodels/functions/functions_1D/functions.py\" target=\"_blank\"><span style=\"color: #7f7f7f; text-decoration-color: #7f7f7f\">functions.py</span></a><span style=\"color: #7f7f7f; text-decoration-color: #7f7f7f\">:</span><a href=\"file:///data/home/cwy/.mylib/miniconda3/envs/3MLpure/lib/python3.9/site-packages/astromodels/functions/functions_1D/functions.py#50\" target=\"_blank\"><span style=\"color: #7f7f7f; text-decoration-color: #7f7f7f\">50</span></a>\n",
       "<span style=\"color: #00ff00; text-decoration-color: #00ff00\">         </span>         <span style=\"color: #c6c6c6; text-decoration-color: #c6c6c6; font-weight: bold\">available                                                                         </span><span style=\"color: #7f7f7f; text-decoration-color: #7f7f7f\">               </span>\n",
       "</pre>\n"
      ],
      "text/plain": [
       "\u001b[38;5;46m22:51:11\u001b[0m\u001b[38;5;46m \u001b[0m\u001b[38;5;134mWARNING \u001b[0m \u001b[1;38;5;251m The naima package is not available. Models that depend on it will not be        \u001b[0m\u001b[1;38;5;251m \u001b[0m\u001b]8;id=701365;file:///data/home/cwy/.mylib/miniconda3/envs/3MLpure/lib/python3.9/site-packages/astromodels/functions/functions_1D/functions.py\u001b\\\u001b[2mfunctions.py\u001b[0m\u001b]8;;\u001b\\\u001b[2m:\u001b[0m\u001b]8;id=790856;file:///data/home/cwy/.mylib/miniconda3/envs/3MLpure/lib/python3.9/site-packages/astromodels/functions/functions_1D/functions.py#50\u001b\\\u001b[2m50\u001b[0m\u001b]8;;\u001b\\\n",
       "\u001b[38;5;46m         \u001b[0m         \u001b[1;38;5;251mavailable                                                                        \u001b[0m\u001b[1;38;5;251m \u001b[0m\u001b[2m               \u001b[0m\n"
      ]
     },
     "metadata": {},
     "output_type": "display_data"
    },
    {
     "data": {
      "text/html": [
       "<pre style=\"white-space:pre;overflow-x:auto;line-height:normal;font-family:Menlo,'DejaVu Sans Mono',consolas,'Courier New',monospace\"><span style=\"color: #00ff00; text-decoration-color: #00ff00\">         </span><span style=\"color: #af5fd7; text-decoration-color: #af5fd7\">WARNING </span> <span style=\"color: #c6c6c6; text-decoration-color: #c6c6c6; font-weight: bold\"> The GSL library or the pygsl wrapper cannot be loaded. Models that depend on it  </span><a href=\"file:///data/home/cwy/.mylib/miniconda3/envs/3MLpure/lib/python3.9/site-packages/astromodels/functions/functions_1D/functions.py\" target=\"_blank\"><span style=\"color: #7f7f7f; text-decoration-color: #7f7f7f\">functions.py</span></a><span style=\"color: #7f7f7f; text-decoration-color: #7f7f7f\">:</span><a href=\"file:///data/home/cwy/.mylib/miniconda3/envs/3MLpure/lib/python3.9/site-packages/astromodels/functions/functions_1D/functions.py#71\" target=\"_blank\"><span style=\"color: #7f7f7f; text-decoration-color: #7f7f7f\">71</span></a>\n",
       "<span style=\"color: #00ff00; text-decoration-color: #00ff00\">         </span>         <span style=\"color: #c6c6c6; text-decoration-color: #c6c6c6; font-weight: bold\">will not be available.                                                            </span><span style=\"color: #7f7f7f; text-decoration-color: #7f7f7f\">               </span>\n",
       "</pre>\n"
      ],
      "text/plain": [
       "\u001b[38;5;46m        \u001b[0m\u001b[38;5;46m \u001b[0m\u001b[38;5;134mWARNING \u001b[0m \u001b[1;38;5;251m The GSL library or the pygsl wrapper cannot be loaded. Models that depend on it \u001b[0m\u001b[1;38;5;251m \u001b[0m\u001b]8;id=366468;file:///data/home/cwy/.mylib/miniconda3/envs/3MLpure/lib/python3.9/site-packages/astromodels/functions/functions_1D/functions.py\u001b\\\u001b[2mfunctions.py\u001b[0m\u001b]8;;\u001b\\\u001b[2m:\u001b[0m\u001b]8;id=867339;file:///data/home/cwy/.mylib/miniconda3/envs/3MLpure/lib/python3.9/site-packages/astromodels/functions/functions_1D/functions.py#71\u001b\\\u001b[2m71\u001b[0m\u001b]8;;\u001b\\\n",
       "\u001b[38;5;46m         \u001b[0m         \u001b[1;38;5;251mwill not be available.                                                           \u001b[0m\u001b[1;38;5;251m \u001b[0m\u001b[2m               \u001b[0m\n"
      ]
     },
     "metadata": {},
     "output_type": "display_data"
    },
    {
     "data": {
      "text/html": [
       "<pre style=\"white-space:pre;overflow-x:auto;line-height:normal;font-family:Menlo,'DejaVu Sans Mono',consolas,'Courier New',monospace\"><span style=\"color: #00ff00; text-decoration-color: #00ff00\">22:51:12 </span><span style=\"color: #af5fd7; text-decoration-color: #af5fd7\">WARNING </span> <span style=\"color: #c6c6c6; text-decoration-color: #c6c6c6; font-weight: bold\"> The ebltable package is not available. Models that depend on it will not be     </span><a href=\"file:///data/home/cwy/.mylib/miniconda3/envs/3MLpure/lib/python3.9/site-packages/astromodels/functions/functions_1D/absorption.py\" target=\"_blank\"><span style=\"color: #7f7f7f; text-decoration-color: #7f7f7f\">absorption.py</span></a><span style=\"color: #7f7f7f; text-decoration-color: #7f7f7f\">:</span><a href=\"file:///data/home/cwy/.mylib/miniconda3/envs/3MLpure/lib/python3.9/site-packages/astromodels/functions/functions_1D/absorption.py#36\" target=\"_blank\"><span style=\"color: #7f7f7f; text-decoration-color: #7f7f7f\">36</span></a>\n",
       "<span style=\"color: #00ff00; text-decoration-color: #00ff00\">         </span>         <span style=\"color: #c6c6c6; text-decoration-color: #c6c6c6; font-weight: bold\">available                                                                        </span><span style=\"color: #7f7f7f; text-decoration-color: #7f7f7f\">                </span>\n",
       "</pre>\n"
      ],
      "text/plain": [
       "\u001b[38;5;46m22:51:12\u001b[0m\u001b[38;5;46m \u001b[0m\u001b[38;5;134mWARNING \u001b[0m \u001b[1;38;5;251m The ebltable package is not available. Models that depend on it will not be    \u001b[0m\u001b[1;38;5;251m \u001b[0m\u001b]8;id=899984;file:///data/home/cwy/.mylib/miniconda3/envs/3MLpure/lib/python3.9/site-packages/astromodels/functions/functions_1D/absorption.py\u001b\\\u001b[2mabsorption.py\u001b[0m\u001b]8;;\u001b\\\u001b[2m:\u001b[0m\u001b]8;id=593249;file:///data/home/cwy/.mylib/miniconda3/envs/3MLpure/lib/python3.9/site-packages/astromodels/functions/functions_1D/absorption.py#36\u001b\\\u001b[2m36\u001b[0m\u001b]8;;\u001b\\\n",
       "\u001b[38;5;46m         \u001b[0m         \u001b[1;38;5;251mavailable                                                                       \u001b[0m\u001b[1;38;5;251m \u001b[0m\u001b[2m                \u001b[0m\n"
      ]
     },
     "metadata": {},
     "output_type": "display_data"
    },
    {
     "data": {
      "text/html": [
       "<pre style=\"white-space:pre;overflow-x:auto;line-height:normal;font-family:Menlo,'DejaVu Sans Mono',consolas,'Courier New',monospace\"><span style=\"color: #00ff00; text-decoration-color: #00ff00\">22:51:12 </span><span style=\"color: #00ffaf; text-decoration-color: #00ffaf\">INFO    </span> <span style=\"color: #c6c6c6; text-decoration-color: #c6c6c6; font-weight: bold\"> Starting 3ML!                                                                     </span><a href=\"file:///data/home/cwy/.mylib/miniconda3/envs/3MLpure/lib/python3.9/site-packages/threeML/__init__.py\" target=\"_blank\"><span style=\"color: #7f7f7f; text-decoration-color: #7f7f7f\">__init__.py</span></a><span style=\"color: #7f7f7f; text-decoration-color: #7f7f7f\">:</span><a href=\"file:///data/home/cwy/.mylib/miniconda3/envs/3MLpure/lib/python3.9/site-packages/threeML/__init__.py#35\" target=\"_blank\"><span style=\"color: #7f7f7f; text-decoration-color: #7f7f7f\">35</span></a>\n",
       "</pre>\n"
      ],
      "text/plain": [
       "\u001b[38;5;46m22:51:12\u001b[0m\u001b[38;5;46m \u001b[0m\u001b[38;5;49mINFO    \u001b[0m \u001b[1;38;5;251m Starting 3ML!                                                                    \u001b[0m\u001b[1;38;5;251m \u001b[0m\u001b]8;id=730261;file:///data/home/cwy/.mylib/miniconda3/envs/3MLpure/lib/python3.9/site-packages/threeML/__init__.py\u001b\\\u001b[2m__init__.py\u001b[0m\u001b]8;;\u001b\\\u001b[2m:\u001b[0m\u001b]8;id=148994;file:///data/home/cwy/.mylib/miniconda3/envs/3MLpure/lib/python3.9/site-packages/threeML/__init__.py#35\u001b\\\u001b[2m35\u001b[0m\u001b]8;;\u001b\\\n"
      ]
     },
     "metadata": {},
     "output_type": "display_data"
    },
    {
     "data": {
      "text/html": [
       "<pre style=\"white-space:pre;overflow-x:auto;line-height:normal;font-family:Menlo,'DejaVu Sans Mono',consolas,'Courier New',monospace\"><span style=\"color: #00ff00; text-decoration-color: #00ff00\">         </span><span style=\"color: #af5fd7; text-decoration-color: #af5fd7\">WARNING </span> <span style=\"color: #c6c6c6; text-decoration-color: #c6c6c6; font-weight: bold\"> WARNINGs here are </span><span style=\"color: #800000; text-decoration-color: #800000; font-weight: bold\">NOT</span><span style=\"color: #c6c6c6; text-decoration-color: #c6c6c6; font-weight: bold\"> errors                                                      </span><a href=\"file:///data/home/cwy/.mylib/miniconda3/envs/3MLpure/lib/python3.9/site-packages/threeML/__init__.py\" target=\"_blank\"><span style=\"color: #7f7f7f; text-decoration-color: #7f7f7f\">__init__.py</span></a><span style=\"color: #7f7f7f; text-decoration-color: #7f7f7f\">:</span><a href=\"file:///data/home/cwy/.mylib/miniconda3/envs/3MLpure/lib/python3.9/site-packages/threeML/__init__.py#36\" target=\"_blank\"><span style=\"color: #7f7f7f; text-decoration-color: #7f7f7f\">36</span></a>\n",
       "</pre>\n"
      ],
      "text/plain": [
       "\u001b[38;5;46m        \u001b[0m\u001b[38;5;46m \u001b[0m\u001b[38;5;134mWARNING \u001b[0m \u001b[1;38;5;251m WARNINGs here are \u001b[0m\u001b[1;31mNOT\u001b[0m\u001b[1;38;5;251m errors                                                     \u001b[0m\u001b[1;38;5;251m \u001b[0m\u001b]8;id=825858;file:///data/home/cwy/.mylib/miniconda3/envs/3MLpure/lib/python3.9/site-packages/threeML/__init__.py\u001b\\\u001b[2m__init__.py\u001b[0m\u001b]8;;\u001b\\\u001b[2m:\u001b[0m\u001b]8;id=461842;file:///data/home/cwy/.mylib/miniconda3/envs/3MLpure/lib/python3.9/site-packages/threeML/__init__.py#36\u001b\\\u001b[2m36\u001b[0m\u001b]8;;\u001b\\\n"
      ]
     },
     "metadata": {},
     "output_type": "display_data"
    },
    {
     "data": {
      "text/html": [
       "<pre style=\"white-space:pre;overflow-x:auto;line-height:normal;font-family:Menlo,'DejaVu Sans Mono',consolas,'Courier New',monospace\"><span style=\"color: #00ff00; text-decoration-color: #00ff00\">         </span><span style=\"color: #af5fd7; text-decoration-color: #af5fd7\">WARNING </span> <span style=\"color: #c6c6c6; text-decoration-color: #c6c6c6; font-weight: bold\"> but are inform you about optional packages that can be installed                  </span><a href=\"file:///data/home/cwy/.mylib/miniconda3/envs/3MLpure/lib/python3.9/site-packages/threeML/__init__.py\" target=\"_blank\"><span style=\"color: #7f7f7f; text-decoration-color: #7f7f7f\">__init__.py</span></a><span style=\"color: #7f7f7f; text-decoration-color: #7f7f7f\">:</span><a href=\"file:///data/home/cwy/.mylib/miniconda3/envs/3MLpure/lib/python3.9/site-packages/threeML/__init__.py#37\" target=\"_blank\"><span style=\"color: #7f7f7f; text-decoration-color: #7f7f7f\">37</span></a>\n",
       "</pre>\n"
      ],
      "text/plain": [
       "\u001b[38;5;46m        \u001b[0m\u001b[38;5;46m \u001b[0m\u001b[38;5;134mWARNING \u001b[0m \u001b[1;38;5;251m but are inform you about optional packages that can be installed                 \u001b[0m\u001b[1;38;5;251m \u001b[0m\u001b]8;id=29089;file:///data/home/cwy/.mylib/miniconda3/envs/3MLpure/lib/python3.9/site-packages/threeML/__init__.py\u001b\\\u001b[2m__init__.py\u001b[0m\u001b]8;;\u001b\\\u001b[2m:\u001b[0m\u001b]8;id=459603;file:///data/home/cwy/.mylib/miniconda3/envs/3MLpure/lib/python3.9/site-packages/threeML/__init__.py#37\u001b\\\u001b[2m37\u001b[0m\u001b]8;;\u001b\\\n"
      ]
     },
     "metadata": {},
     "output_type": "display_data"
    },
    {
     "data": {
      "text/html": [
       "<pre style=\"white-space:pre;overflow-x:auto;line-height:normal;font-family:Menlo,'DejaVu Sans Mono',consolas,'Courier New',monospace\"><span style=\"color: #00ff00; text-decoration-color: #00ff00\">         </span><span style=\"color: #af5fd7; text-decoration-color: #af5fd7\">WARNING </span> <span style=\"color: #c6c6c6; text-decoration-color: #c6c6c6; font-weight: bold\"> </span><span style=\"color: #800000; text-decoration-color: #800000; font-weight: bold\"> to disable these messages, turn off start_warning in your config file</span><span style=\"color: #c6c6c6; text-decoration-color: #c6c6c6; font-weight: bold\">            </span><a href=\"file:///data/home/cwy/.mylib/miniconda3/envs/3MLpure/lib/python3.9/site-packages/threeML/__init__.py\" target=\"_blank\"><span style=\"color: #7f7f7f; text-decoration-color: #7f7f7f\">__init__.py</span></a><span style=\"color: #7f7f7f; text-decoration-color: #7f7f7f\">:</span><a href=\"file:///data/home/cwy/.mylib/miniconda3/envs/3MLpure/lib/python3.9/site-packages/threeML/__init__.py#40\" target=\"_blank\"><span style=\"color: #7f7f7f; text-decoration-color: #7f7f7f\">40</span></a>\n",
       "</pre>\n"
      ],
      "text/plain": [
       "\u001b[38;5;46m        \u001b[0m\u001b[38;5;46m \u001b[0m\u001b[38;5;134mWARNING \u001b[0m \u001b[1;38;5;251m \u001b[0m\u001b[1;31m to disable these messages, turn off start_warning in your config file\u001b[0m\u001b[1;38;5;251m           \u001b[0m\u001b[1;38;5;251m \u001b[0m\u001b]8;id=468433;file:///data/home/cwy/.mylib/miniconda3/envs/3MLpure/lib/python3.9/site-packages/threeML/__init__.py\u001b\\\u001b[2m__init__.py\u001b[0m\u001b]8;;\u001b\\\u001b[2m:\u001b[0m\u001b]8;id=256879;file:///data/home/cwy/.mylib/miniconda3/envs/3MLpure/lib/python3.9/site-packages/threeML/__init__.py#40\u001b\\\u001b[2m40\u001b[0m\u001b]8;;\u001b\\\n"
      ]
     },
     "metadata": {},
     "output_type": "display_data"
    },
    {
     "data": {
      "text/html": [
       "<pre style=\"white-space:pre;overflow-x:auto;line-height:normal;font-family:Menlo,'DejaVu Sans Mono',consolas,'Courier New',monospace\"><span style=\"color: #00ff00; text-decoration-color: #00ff00\">         </span><span style=\"color: #af5fd7; text-decoration-color: #af5fd7\">WARNING </span> <span style=\"color: #c6c6c6; text-decoration-color: #c6c6c6; font-weight: bold\"> Multinest minimizer not available                                           </span><a href=\"file:///data/home/cwy/.mylib/miniconda3/envs/3MLpure/lib/python3.9/site-packages/threeML/minimizer/minimization.py\" target=\"_blank\"><span style=\"color: #7f7f7f; text-decoration-color: #7f7f7f\">minimization.py</span></a><span style=\"color: #7f7f7f; text-decoration-color: #7f7f7f\">:</span><a href=\"file:///data/home/cwy/.mylib/miniconda3/envs/3MLpure/lib/python3.9/site-packages/threeML/minimizer/minimization.py#1357\" target=\"_blank\"><span style=\"color: #7f7f7f; text-decoration-color: #7f7f7f\">1357</span></a>\n",
       "</pre>\n"
      ],
      "text/plain": [
       "\u001b[38;5;46m        \u001b[0m\u001b[38;5;46m \u001b[0m\u001b[38;5;134mWARNING \u001b[0m \u001b[1;38;5;251m Multinest minimizer not available                                          \u001b[0m\u001b[1;38;5;251m \u001b[0m\u001b]8;id=735704;file:///data/home/cwy/.mylib/miniconda3/envs/3MLpure/lib/python3.9/site-packages/threeML/minimizer/minimization.py\u001b\\\u001b[2mminimization.py\u001b[0m\u001b]8;;\u001b\\\u001b[2m:\u001b[0m\u001b]8;id=634386;file:///data/home/cwy/.mylib/miniconda3/envs/3MLpure/lib/python3.9/site-packages/threeML/minimizer/minimization.py#1357\u001b\\\u001b[2m1357\u001b[0m\u001b]8;;\u001b\\\n"
      ]
     },
     "metadata": {},
     "output_type": "display_data"
    },
    {
     "data": {
      "text/html": [
       "<pre style=\"white-space:pre;overflow-x:auto;line-height:normal;font-family:Menlo,'DejaVu Sans Mono',consolas,'Courier New',monospace\"><span style=\"color: #00ff00; text-decoration-color: #00ff00\">         </span><span style=\"color: #af5fd7; text-decoration-color: #af5fd7\">WARNING </span> <span style=\"color: #c6c6c6; text-decoration-color: #c6c6c6; font-weight: bold\"> PyGMO is not available                                                      </span><a href=\"file:///data/home/cwy/.mylib/miniconda3/envs/3MLpure/lib/python3.9/site-packages/threeML/minimizer/minimization.py\" target=\"_blank\"><span style=\"color: #7f7f7f; text-decoration-color: #7f7f7f\">minimization.py</span></a><span style=\"color: #7f7f7f; text-decoration-color: #7f7f7f\">:</span><a href=\"file:///data/home/cwy/.mylib/miniconda3/envs/3MLpure/lib/python3.9/site-packages/threeML/minimizer/minimization.py#1369\" target=\"_blank\"><span style=\"color: #7f7f7f; text-decoration-color: #7f7f7f\">1369</span></a>\n",
       "</pre>\n"
      ],
      "text/plain": [
       "\u001b[38;5;46m        \u001b[0m\u001b[38;5;46m \u001b[0m\u001b[38;5;134mWARNING \u001b[0m \u001b[1;38;5;251m PyGMO is not available                                                     \u001b[0m\u001b[1;38;5;251m \u001b[0m\u001b]8;id=165852;file:///data/home/cwy/.mylib/miniconda3/envs/3MLpure/lib/python3.9/site-packages/threeML/minimizer/minimization.py\u001b\\\u001b[2mminimization.py\u001b[0m\u001b]8;;\u001b\\\u001b[2m:\u001b[0m\u001b]8;id=76481;file:///data/home/cwy/.mylib/miniconda3/envs/3MLpure/lib/python3.9/site-packages/threeML/minimizer/minimization.py#1369\u001b\\\u001b[2m1369\u001b[0m\u001b]8;;\u001b\\\n"
      ]
     },
     "metadata": {},
     "output_type": "display_data"
    },
    {
     "data": {
      "text/html": [
       "<pre style=\"white-space:pre;overflow-x:auto;line-height:normal;font-family:Menlo,'DejaVu Sans Mono',consolas,'Courier New',monospace\"><span style=\"color: #00ff00; text-decoration-color: #00ff00\">22:51:13 </span><span style=\"color: #af5fd7; text-decoration-color: #af5fd7\">WARNING </span> <span style=\"color: #c6c6c6; text-decoration-color: #c6c6c6; font-weight: bold\"> The cthreeML package is not installed. You will not be able to use plugins which  </span><a href=\"file:///data/home/cwy/.mylib/miniconda3/envs/3MLpure/lib/python3.9/site-packages/threeML/__init__.py\" target=\"_blank\"><span style=\"color: #7f7f7f; text-decoration-color: #7f7f7f\">__init__.py</span></a><span style=\"color: #7f7f7f; text-decoration-color: #7f7f7f\">:</span><a href=\"file:///data/home/cwy/.mylib/miniconda3/envs/3MLpure/lib/python3.9/site-packages/threeML/__init__.py#94\" target=\"_blank\"><span style=\"color: #7f7f7f; text-decoration-color: #7f7f7f\">94</span></a>\n",
       "<span style=\"color: #00ff00; text-decoration-color: #00ff00\">         </span>         <span style=\"color: #c6c6c6; text-decoration-color: #c6c6c6; font-weight: bold\">require the C/C++ interface (currently HAWC)                                       </span><span style=\"color: #7f7f7f; text-decoration-color: #7f7f7f\">              </span>\n",
       "</pre>\n"
      ],
      "text/plain": [
       "\u001b[38;5;46m22:51:13\u001b[0m\u001b[38;5;46m \u001b[0m\u001b[38;5;134mWARNING \u001b[0m \u001b[1;38;5;251m The cthreeML package is not installed. You will not be able to use plugins which \u001b[0m\u001b[1;38;5;251m \u001b[0m\u001b]8;id=203542;file:///data/home/cwy/.mylib/miniconda3/envs/3MLpure/lib/python3.9/site-packages/threeML/__init__.py\u001b\\\u001b[2m__init__.py\u001b[0m\u001b]8;;\u001b\\\u001b[2m:\u001b[0m\u001b]8;id=515080;file:///data/home/cwy/.mylib/miniconda3/envs/3MLpure/lib/python3.9/site-packages/threeML/__init__.py#94\u001b\\\u001b[2m94\u001b[0m\u001b]8;;\u001b\\\n",
       "\u001b[38;5;46m         \u001b[0m         \u001b[1;38;5;251mrequire the C/C++ interface \u001b[0m\u001b[1;38;5;251m(\u001b[0m\u001b[1;38;5;251mcurrently HAWC\u001b[0m\u001b[1;38;5;251m)\u001b[0m\u001b[1;38;5;251m                                      \u001b[0m\u001b[1;38;5;251m \u001b[0m\u001b[2m              \u001b[0m\n"
      ]
     },
     "metadata": {},
     "output_type": "display_data"
    },
    {
     "data": {
      "text/html": [
       "<pre style=\"white-space:pre;overflow-x:auto;line-height:normal;font-family:Menlo,'DejaVu Sans Mono',consolas,'Courier New',monospace\"><span style=\"color: #00ff00; text-decoration-color: #00ff00\">         </span><span style=\"color: #af5fd7; text-decoration-color: #af5fd7\">WARNING </span> <span style=\"color: #c6c6c6; text-decoration-color: #c6c6c6; font-weight: bold\"> Could not import plugin FermiLATLike.py. Do you have the relative instrument     </span><a href=\"file:///data/home/cwy/.mylib/miniconda3/envs/3MLpure/lib/python3.9/site-packages/threeML/__init__.py\" target=\"_blank\"><span style=\"color: #7f7f7f; text-decoration-color: #7f7f7f\">__init__.py</span></a><span style=\"color: #7f7f7f; text-decoration-color: #7f7f7f\">:</span><a href=\"file:///data/home/cwy/.mylib/miniconda3/envs/3MLpure/lib/python3.9/site-packages/threeML/__init__.py#144\" target=\"_blank\"><span style=\"color: #7f7f7f; text-decoration-color: #7f7f7f\">144</span></a>\n",
       "<span style=\"color: #00ff00; text-decoration-color: #00ff00\">         </span>         <span style=\"color: #c6c6c6; text-decoration-color: #c6c6c6; font-weight: bold\">software installed and configured?                                                </span><span style=\"color: #7f7f7f; text-decoration-color: #7f7f7f\">               </span>\n",
       "</pre>\n"
      ],
      "text/plain": [
       "\u001b[38;5;46m        \u001b[0m\u001b[38;5;46m \u001b[0m\u001b[38;5;134mWARNING \u001b[0m \u001b[1;38;5;251m Could not import plugin FermiLATLike.py. Do you have the relative instrument    \u001b[0m\u001b[1;38;5;251m \u001b[0m\u001b]8;id=75342;file:///data/home/cwy/.mylib/miniconda3/envs/3MLpure/lib/python3.9/site-packages/threeML/__init__.py\u001b\\\u001b[2m__init__.py\u001b[0m\u001b]8;;\u001b\\\u001b[2m:\u001b[0m\u001b]8;id=759034;file:///data/home/cwy/.mylib/miniconda3/envs/3MLpure/lib/python3.9/site-packages/threeML/__init__.py#144\u001b\\\u001b[2m144\u001b[0m\u001b]8;;\u001b\\\n",
       "\u001b[38;5;46m         \u001b[0m         \u001b[1;38;5;251msoftware installed and configured?                                               \u001b[0m\u001b[1;38;5;251m \u001b[0m\u001b[2m               \u001b[0m\n"
      ]
     },
     "metadata": {},
     "output_type": "display_data"
    },
    {
     "data": {
      "text/html": [
       "<pre style=\"white-space:pre;overflow-x:auto;line-height:normal;font-family:Menlo,'DejaVu Sans Mono',consolas,'Courier New',monospace\"><span style=\"color: #00ff00; text-decoration-color: #00ff00\">         </span><span style=\"color: #af5fd7; text-decoration-color: #af5fd7\">WARNING </span> <span style=\"color: #c6c6c6; text-decoration-color: #c6c6c6; font-weight: bold\"> Could not import plugin HAWCLike.py. Do you have the relative instrument         </span><a href=\"file:///data/home/cwy/.mylib/miniconda3/envs/3MLpure/lib/python3.9/site-packages/threeML/__init__.py\" target=\"_blank\"><span style=\"color: #7f7f7f; text-decoration-color: #7f7f7f\">__init__.py</span></a><span style=\"color: #7f7f7f; text-decoration-color: #7f7f7f\">:</span><a href=\"file:///data/home/cwy/.mylib/miniconda3/envs/3MLpure/lib/python3.9/site-packages/threeML/__init__.py#144\" target=\"_blank\"><span style=\"color: #7f7f7f; text-decoration-color: #7f7f7f\">144</span></a>\n",
       "<span style=\"color: #00ff00; text-decoration-color: #00ff00\">         </span>         <span style=\"color: #c6c6c6; text-decoration-color: #c6c6c6; font-weight: bold\">software installed and configured?                                                </span><span style=\"color: #7f7f7f; text-decoration-color: #7f7f7f\">               </span>\n",
       "</pre>\n"
      ],
      "text/plain": [
       "\u001b[38;5;46m        \u001b[0m\u001b[38;5;46m \u001b[0m\u001b[38;5;134mWARNING \u001b[0m \u001b[1;38;5;251m Could not import plugin HAWCLike.py. Do you have the relative instrument        \u001b[0m\u001b[1;38;5;251m \u001b[0m\u001b]8;id=292210;file:///data/home/cwy/.mylib/miniconda3/envs/3MLpure/lib/python3.9/site-packages/threeML/__init__.py\u001b\\\u001b[2m__init__.py\u001b[0m\u001b]8;;\u001b\\\u001b[2m:\u001b[0m\u001b]8;id=946526;file:///data/home/cwy/.mylib/miniconda3/envs/3MLpure/lib/python3.9/site-packages/threeML/__init__.py#144\u001b\\\u001b[2m144\u001b[0m\u001b]8;;\u001b\\\n",
       "\u001b[38;5;46m         \u001b[0m         \u001b[1;38;5;251msoftware installed and configured?                                               \u001b[0m\u001b[1;38;5;251m \u001b[0m\u001b[2m               \u001b[0m\n"
      ]
     },
     "metadata": {},
     "output_type": "display_data"
    },
    {
     "data": {
      "text/html": [
       "<pre style=\"white-space:pre;overflow-x:auto;line-height:normal;font-family:Menlo,'DejaVu Sans Mono',consolas,'Courier New',monospace\"><span style=\"color: #00ff00; text-decoration-color: #00ff00\">22:51:13 </span><span style=\"color: #af5fd7; text-decoration-color: #af5fd7\">WARNING </span> <span style=\"color: #c6c6c6; text-decoration-color: #c6c6c6; font-weight: bold\"> No fermitools installed                                              </span><a href=\"file:///data/home/cwy/.mylib/miniconda3/envs/3MLpure/lib/python3.9/site-packages/threeML/utils/data_builders/fermi/lat_transient_builder.py\" target=\"_blank\"><span style=\"color: #7f7f7f; text-decoration-color: #7f7f7f\">lat_transient_builder.py</span></a><span style=\"color: #7f7f7f; text-decoration-color: #7f7f7f\">:</span><a href=\"file:///data/home/cwy/.mylib/miniconda3/envs/3MLpure/lib/python3.9/site-packages/threeML/utils/data_builders/fermi/lat_transient_builder.py#44\" target=\"_blank\"><span style=\"color: #7f7f7f; text-decoration-color: #7f7f7f\">44</span></a>\n",
       "</pre>\n"
      ],
      "text/plain": [
       "\u001b[38;5;46m22:51:13\u001b[0m\u001b[38;5;46m \u001b[0m\u001b[38;5;134mWARNING \u001b[0m \u001b[1;38;5;251m No fermitools installed                                             \u001b[0m\u001b[1;38;5;251m \u001b[0m\u001b]8;id=768603;file:///data/home/cwy/.mylib/miniconda3/envs/3MLpure/lib/python3.9/site-packages/threeML/utils/data_builders/fermi/lat_transient_builder.py\u001b\\\u001b[2mlat_transient_builder.py\u001b[0m\u001b]8;;\u001b\\\u001b[2m:\u001b[0m\u001b]8;id=186058;file:///data/home/cwy/.mylib/miniconda3/envs/3MLpure/lib/python3.9/site-packages/threeML/utils/data_builders/fermi/lat_transient_builder.py#44\u001b\\\u001b[2m44\u001b[0m\u001b]8;;\u001b\\\n"
      ]
     },
     "metadata": {},
     "output_type": "display_data"
    },
    {
     "name": "stderr",
     "output_type": "stream",
     "text": [
      "Load Mymap:  11%|█         | 4/37 [00:00<00:00, 409.10it/s]     \n",
      "WARNING VisibleDeprecationWarning: Reading unicode strings without specifying the encoding argument is deprecated. Set the encoding, use None for the system default.\n",
      "\n",
      "\n",
      "WARNING RuntimeWarning: numpy.ndarray size changed, may indicate binary incompatibility. Expected 96, got 80\n",
      "\n",
      "\n",
      "WARNING RuntimeWarning: numpy.ufunc size changed, may indicate binary incompatibility. Expected 232, got 216\n",
      "\n",
      "ReLoad Mycatalog:  59%|█████▉    | 22/37 [00:00<00:00, 35.63it/s] \n",
      "WARNING VisibleDeprecationWarning: Reading unicode strings without specifying the encoding argument is deprecated. Set the encoding, use None for the system default.\n",
      "\n",
      "Load sub from Myspeedup: 100%|██████████| 37/37 [00:00<00:00, 35.63it/s]   "
     ]
    },
    {
     "name": "stdout",
     "output_type": "stream",
     "text": [
      "Yourlib init successfully!!!\n"
     ]
    }
   ],
   "source": [
    "import matplotlib, sys,  os\n",
    "os.environ['OPENBLAS_NUM_THREADS'] = '1'\n",
    "os.environ['OMP_NUM_THREADS'] = '1'\n",
    "os.environ['MKL_NUM_THREADS'] = '1'\n",
    "os.environ['NUMEXPR_NUM_THREADS'] = '1'\n",
    "os.environ[\"KMP_DUPLICATE_LIB_OK\"]=\"TRUE\"\n",
    "sys.path.append(\"./mylib/\")\n",
    "\n",
    "import numpy as np\n",
    "matplotlib.use('Agg')\n",
    "import matplotlib.pyplot as plt\n",
    "\n",
    "# np.seterr(all=\"ignore\")\n",
    "from threeML import *\n",
    "from WCDA_hal import HAL, HealpixConeROI, HealpixMapROI\n",
    "import traceback\n",
    "\n",
    "# import warnings\n",
    "# warnings.simplefilter(\"ignore\")\n",
    "silence_warnings()\n",
    "from threeML import silence_progress_bars, activate_progress_bars, toggle_progress_bars\n",
    "from threeML.utils.progress_bar import trange\n",
    "\n",
    "from astropy.io import fits\n",
    "from astropy.wcs import WCS\n",
    "from astropy.coordinates import SkyCoord\n",
    "from astropy import units as u\n",
    "# from astropy.visualization import astropy_mpl_style, imshAow_norm\n",
    "from astropy.coordinates import Angle\n",
    "\n",
    "import healpy as hp\n",
    "\n",
    "from tqdm import tqdm\n",
    "\n",
    "# from mylib import *\n",
    "import mylib as my\n",
    "from importlib import reload"
   ]
  },
  {
   "cell_type": "code",
   "execution_count": 58,
   "metadata": {},
   "outputs": [
    {
     "name": "stderr",
     "output_type": "stream",
     "text": []
    },
    {
     "data": {
      "text/html": [
       "<pre style=\"white-space:pre;overflow-x:auto;line-height:normal;font-family:Menlo,'DejaVu Sans Mono',consolas,'Courier New',monospace\"><span style=\"color: #00ff00; text-decoration-color: #00ff00\">17:35:08 </span><span style=\"color: #00ffaf; text-decoration-color: #00ffaf\">INFO    </span> <span style=\"color: #c6c6c6; text-decoration-color: #c6c6c6; font-weight: bold\"> Region of Interest:                                                                   </span><a href=\"file:///data/home/cwy/.mylib/miniconda3/envs/3MLpure/lib/python3.9/site-packages/WCDA_hal/HAL.py\" target=\"_blank\"><span style=\"color: #7f7f7f; text-decoration-color: #7f7f7f\">HAL.py</span></a><span style=\"color: #7f7f7f; text-decoration-color: #7f7f7f\">:</span><a href=\"file:///data/home/cwy/.mylib/miniconda3/envs/3MLpure/lib/python3.9/site-packages/WCDA_hal/HAL.py#291\" target=\"_blank\"><span style=\"color: #7f7f7f; text-decoration-color: #7f7f7f\">291</span></a>\n",
       "</pre>\n"
      ],
      "text/plain": [
       "\u001b[38;5;46m17:35:08\u001b[0m\u001b[38;5;46m \u001b[0m\u001b[38;5;49mINFO    \u001b[0m \u001b[1;38;5;251m Region of Interest:                                                                  \u001b[0m\u001b[1;38;5;251m \u001b[0m\u001b]8;id=330603;file:///data/home/cwy/.mylib/miniconda3/envs/3MLpure/lib/python3.9/site-packages/WCDA_hal/HAL.py\u001b\\\u001b[2mHAL.py\u001b[0m\u001b]8;;\u001b\\\u001b[2m:\u001b[0m\u001b]8;id=300646;file:///data/home/cwy/.mylib/miniconda3/envs/3MLpure/lib/python3.9/site-packages/WCDA_hal/HAL.py#291\u001b\\\u001b[2m291\u001b[0m\u001b]8;;\u001b\\\n"
      ]
     },
     "metadata": {},
     "output_type": "display_data"
    },
    {
     "data": {
      "text/html": [
       "<pre style=\"white-space:pre;overflow-x:auto;line-height:normal;font-family:Menlo,'DejaVu Sans Mono',consolas,'Courier New',monospace\"><span style=\"color: #00ff00; text-decoration-color: #00ff00\">         </span><span style=\"color: #00ffaf; text-decoration-color: #00ffaf\">INFO    </span> <span style=\"color: #c6c6c6; text-decoration-color: #c6c6c6; font-weight: bold\"> -------------------                                                                   </span><a href=\"file:///data/home/cwy/.mylib/miniconda3/envs/3MLpure/lib/python3.9/site-packages/WCDA_hal/HAL.py\" target=\"_blank\"><span style=\"color: #7f7f7f; text-decoration-color: #7f7f7f\">HAL.py</span></a><span style=\"color: #7f7f7f; text-decoration-color: #7f7f7f\">:</span><a href=\"file:///data/home/cwy/.mylib/miniconda3/envs/3MLpure/lib/python3.9/site-packages/WCDA_hal/HAL.py#292\" target=\"_blank\"><span style=\"color: #7f7f7f; text-decoration-color: #7f7f7f\">292</span></a>\n",
       "</pre>\n"
      ],
      "text/plain": [
       "\u001b[38;5;46m        \u001b[0m\u001b[38;5;46m \u001b[0m\u001b[38;5;49mINFO    \u001b[0m \u001b[1;38;5;251m -------------------                                                                  \u001b[0m\u001b[1;38;5;251m \u001b[0m\u001b]8;id=324976;file:///data/home/cwy/.mylib/miniconda3/envs/3MLpure/lib/python3.9/site-packages/WCDA_hal/HAL.py\u001b\\\u001b[2mHAL.py\u001b[0m\u001b]8;;\u001b\\\u001b[2m:\u001b[0m\u001b]8;id=841994;file:///data/home/cwy/.mylib/miniconda3/envs/3MLpure/lib/python3.9/site-packages/WCDA_hal/HAL.py#292\u001b\\\u001b[2m292\u001b[0m\u001b]8;;\u001b\\\n"
      ]
     },
     "metadata": {},
     "output_type": "display_data"
    },
    {
     "data": {
      "text/html": [
       "<pre style=\"white-space:pre;overflow-x:auto;line-height:normal;font-family:Menlo,'DejaVu Sans Mono',consolas,'Courier New',monospace\"><span style=\"color: #00ff00; text-decoration-color: #00ff00\">         </span><span style=\"color: #00ffaf; text-decoration-color: #00ffaf\">INFO    </span> <span style=\"color: #c6c6c6; text-decoration-color: #c6c6c6; font-weight: bold\"> HealpixMapROI: Center (R.A., Dec) = (</span><span style=\"color: #c0c0c0; text-decoration-color: #c0c0c0; font-weight: bold\">286.095</span><span style=\"color: #c6c6c6; text-decoration-color: #c6c6c6; font-weight: bold\">, </span><span style=\"color: #c0c0c0; text-decoration-color: #c0c0c0; font-weight: bold\">6.287</span><span style=\"color: #c6c6c6; text-decoration-color: #c6c6c6; font-weight: bold\">), model radius: </span><span style=\"color: #c0c0c0; text-decoration-color: #c0c0c0; font-weight: bold\">7.500</span><span style=\"color: #c6c6c6; text-decoration-color: #c6c6c6; font-weight: bold\"> </span><a href=\"file:///data/home/cwy/.mylib/miniconda3/envs/3MLpure/lib/python3.9/site-packages/WCDA_hal/region_of_interest/healpix_map_roi.py\" target=\"_blank\"><span style=\"color: #7f7f7f; text-decoration-color: #7f7f7f\">healpix_map_roi.py</span></a><span style=\"color: #7f7f7f; text-decoration-color: #7f7f7f\">:</span><a href=\"file:///data/home/cwy/.mylib/miniconda3/envs/3MLpure/lib/python3.9/site-packages/WCDA_hal/region_of_interest/healpix_map_roi.py#134\" target=\"_blank\"><span style=\"color: #7f7f7f; text-decoration-color: #7f7f7f\">134</span></a>\n",
       "<span style=\"color: #00ff00; text-decoration-color: #00ff00\">         </span>         <span style=\"color: #c6c6c6; text-decoration-color: #c6c6c6; font-weight: bold\">deg, display radius: </span><span style=\"color: #c0c0c0; text-decoration-color: #c0c0c0; font-weight: bold\">7.000</span><span style=\"color: #c6c6c6; text-decoration-color: #c6c6c6; font-weight: bold\"> deg, threshold = </span><span style=\"color: #c0c0c0; text-decoration-color: #c0c0c0; font-weight: bold\">0.50</span><span style=\"color: #c6c6c6; text-decoration-color: #c6c6c6; font-weight: bold\">                           </span><span style=\"color: #7f7f7f; text-decoration-color: #7f7f7f\">                      </span>\n",
       "</pre>\n"
      ],
      "text/plain": [
       "\u001b[38;5;46m        \u001b[0m\u001b[38;5;46m \u001b[0m\u001b[38;5;49mINFO    \u001b[0m \u001b[1;38;5;251m HealpixMapROI: Center \u001b[0m\u001b[1;38;5;251m(\u001b[0m\u001b[1;38;5;251mR.A., Dec\u001b[0m\u001b[1;38;5;251m)\u001b[0m\u001b[1;38;5;251m = \u001b[0m\u001b[1;38;5;251m(\u001b[0m\u001b[1;37m286.095\u001b[0m\u001b[1;38;5;251m, \u001b[0m\u001b[1;37m6.287\u001b[0m\u001b[1;38;5;251m)\u001b[0m\u001b[1;38;5;251m, model radius: \u001b[0m\u001b[1;37m7.500\u001b[0m\u001b[1;38;5;251m \u001b[0m\u001b]8;id=747159;file:///data/home/cwy/.mylib/miniconda3/envs/3MLpure/lib/python3.9/site-packages/WCDA_hal/region_of_interest/healpix_map_roi.py\u001b\\\u001b[2mhealpix_map_roi.py\u001b[0m\u001b]8;;\u001b\\\u001b[2m:\u001b[0m\u001b]8;id=798249;file:///data/home/cwy/.mylib/miniconda3/envs/3MLpure/lib/python3.9/site-packages/WCDA_hal/region_of_interest/healpix_map_roi.py#134\u001b\\\u001b[2m134\u001b[0m\u001b]8;;\u001b\\\n",
       "\u001b[38;5;46m         \u001b[0m         \u001b[1;38;5;251mdeg, display radius: \u001b[0m\u001b[1;37m7.000\u001b[0m\u001b[1;38;5;251m deg, threshold = \u001b[0m\u001b[1;37m0.50\u001b[0m\u001b[1;38;5;251m                          \u001b[0m\u001b[1;38;5;251m \u001b[0m\u001b[2m                      \u001b[0m\n"
      ]
     },
     "metadata": {},
     "output_type": "display_data"
    },
    {
     "data": {
      "text/html": [
       "<pre style=\"white-space:pre;overflow-x:auto;line-height:normal;font-family:Menlo,'DejaVu Sans Mono',consolas,'Courier New',monospace\"><span style=\"color: #00ff00; text-decoration-color: #00ff00\">         </span><span style=\"color: #00ffaf; text-decoration-color: #00ffaf\">INFO    </span> <span style=\"color: #c6c6c6; text-decoration-color: #c6c6c6; font-weight: bold\">                                                                                       </span><a href=\"file:///data/home/cwy/.mylib/miniconda3/envs/3MLpure/lib/python3.9/site-packages/WCDA_hal/HAL.py\" target=\"_blank\"><span style=\"color: #7f7f7f; text-decoration-color: #7f7f7f\">HAL.py</span></a><span style=\"color: #7f7f7f; text-decoration-color: #7f7f7f\">:</span><a href=\"file:///data/home/cwy/.mylib/miniconda3/envs/3MLpure/lib/python3.9/site-packages/WCDA_hal/HAL.py#295\" target=\"_blank\"><span style=\"color: #7f7f7f; text-decoration-color: #7f7f7f\">295</span></a>\n",
       "</pre>\n"
      ],
      "text/plain": [
       "\u001b[38;5;46m        \u001b[0m\u001b[38;5;46m \u001b[0m\u001b[38;5;49mINFO    \u001b[0m \u001b[1;38;5;251m                                                                                      \u001b[0m\u001b[1;38;5;251m \u001b[0m\u001b]8;id=905740;file:///data/home/cwy/.mylib/miniconda3/envs/3MLpure/lib/python3.9/site-packages/WCDA_hal/HAL.py\u001b\\\u001b[2mHAL.py\u001b[0m\u001b]8;;\u001b\\\u001b[2m:\u001b[0m\u001b]8;id=213032;file:///data/home/cwy/.mylib/miniconda3/envs/3MLpure/lib/python3.9/site-packages/WCDA_hal/HAL.py#295\u001b\\\u001b[2m295\u001b[0m\u001b]8;;\u001b\\\n"
      ]
     },
     "metadata": {},
     "output_type": "display_data"
    },
    {
     "data": {
      "text/html": [
       "<pre style=\"white-space:pre;overflow-x:auto;line-height:normal;font-family:Menlo,'DejaVu Sans Mono',consolas,'Courier New',monospace\"><span style=\"color: #00ff00; text-decoration-color: #00ff00\">         </span><span style=\"color: #00ffaf; text-decoration-color: #00ffaf\">INFO    </span> <span style=\"color: #c6c6c6; text-decoration-color: #c6c6c6; font-weight: bold\"> Flat sky projection:                                                                  </span><a href=\"file:///data/home/cwy/.mylib/miniconda3/envs/3MLpure/lib/python3.9/site-packages/WCDA_hal/HAL.py\" target=\"_blank\"><span style=\"color: #7f7f7f; text-decoration-color: #7f7f7f\">HAL.py</span></a><span style=\"color: #7f7f7f; text-decoration-color: #7f7f7f\">:</span><a href=\"file:///data/home/cwy/.mylib/miniconda3/envs/3MLpure/lib/python3.9/site-packages/WCDA_hal/HAL.py#296\" target=\"_blank\"><span style=\"color: #7f7f7f; text-decoration-color: #7f7f7f\">296</span></a>\n",
       "</pre>\n"
      ],
      "text/plain": [
       "\u001b[38;5;46m        \u001b[0m\u001b[38;5;46m \u001b[0m\u001b[38;5;49mINFO    \u001b[0m \u001b[1;38;5;251m Flat sky projection:                                                                 \u001b[0m\u001b[1;38;5;251m \u001b[0m\u001b]8;id=478226;file:///data/home/cwy/.mylib/miniconda3/envs/3MLpure/lib/python3.9/site-packages/WCDA_hal/HAL.py\u001b\\\u001b[2mHAL.py\u001b[0m\u001b]8;;\u001b\\\u001b[2m:\u001b[0m\u001b]8;id=431713;file:///data/home/cwy/.mylib/miniconda3/envs/3MLpure/lib/python3.9/site-packages/WCDA_hal/HAL.py#296\u001b\\\u001b[2m296\u001b[0m\u001b]8;;\u001b\\\n"
      ]
     },
     "metadata": {},
     "output_type": "display_data"
    },
    {
     "data": {
      "text/html": [
       "<pre style=\"white-space:pre;overflow-x:auto;line-height:normal;font-family:Menlo,'DejaVu Sans Mono',consolas,'Courier New',monospace\"><span style=\"color: #00ff00; text-decoration-color: #00ff00\">         </span><span style=\"color: #00ffaf; text-decoration-color: #00ffaf\">INFO    </span> <span style=\"color: #c6c6c6; text-decoration-color: #c6c6c6; font-weight: bold\"> --------------------                                                                  </span><a href=\"file:///data/home/cwy/.mylib/miniconda3/envs/3MLpure/lib/python3.9/site-packages/WCDA_hal/HAL.py\" target=\"_blank\"><span style=\"color: #7f7f7f; text-decoration-color: #7f7f7f\">HAL.py</span></a><span style=\"color: #7f7f7f; text-decoration-color: #7f7f7f\">:</span><a href=\"file:///data/home/cwy/.mylib/miniconda3/envs/3MLpure/lib/python3.9/site-packages/WCDA_hal/HAL.py#297\" target=\"_blank\"><span style=\"color: #7f7f7f; text-decoration-color: #7f7f7f\">297</span></a>\n",
       "</pre>\n"
      ],
      "text/plain": [
       "\u001b[38;5;46m        \u001b[0m\u001b[38;5;46m \u001b[0m\u001b[38;5;49mINFO    \u001b[0m \u001b[1;38;5;251m --------------------                                                                 \u001b[0m\u001b[1;38;5;251m \u001b[0m\u001b]8;id=157734;file:///data/home/cwy/.mylib/miniconda3/envs/3MLpure/lib/python3.9/site-packages/WCDA_hal/HAL.py\u001b\\\u001b[2mHAL.py\u001b[0m\u001b]8;;\u001b\\\u001b[2m:\u001b[0m\u001b]8;id=791976;file:///data/home/cwy/.mylib/miniconda3/envs/3MLpure/lib/python3.9/site-packages/WCDA_hal/HAL.py#297\u001b\\\u001b[2m297\u001b[0m\u001b]8;;\u001b\\\n"
      ]
     },
     "metadata": {},
     "output_type": "display_data"
    },
    {
     "data": {
      "text/html": [
       "<pre style=\"white-space:pre;overflow-x:auto;line-height:normal;font-family:Menlo,'DejaVu Sans Mono',consolas,'Courier New',monospace\"><span style=\"color: #00ff00; text-decoration-color: #00ff00\">         </span><span style=\"color: #00ffaf; text-decoration-color: #00ffaf\">INFO    </span> <span style=\"color: #c6c6c6; text-decoration-color: #c6c6c6; font-weight: bold\"> Width x height </span><span style=\"color: #c0c0c0; text-decoration-color: #c0c0c0; font-weight: bold\">90</span><span style=\"color: #c6c6c6; text-decoration-color: #c6c6c6; font-weight: bold\"> x </span><span style=\"color: #c0c0c0; text-decoration-color: #c0c0c0; font-weight: bold\">90</span><span style=\"color: #c6c6c6; text-decoration-color: #c6c6c6; font-weight: bold\"> px                                                             </span><a href=\"file:///data/home/cwy/.mylib/miniconda3/envs/3MLpure/lib/python3.9/site-packages/WCDA_hal/HAL.py\" target=\"_blank\"><span style=\"color: #7f7f7f; text-decoration-color: #7f7f7f\">HAL.py</span></a><span style=\"color: #7f7f7f; text-decoration-color: #7f7f7f\">:</span><a href=\"file:///data/home/cwy/.mylib/miniconda3/envs/3MLpure/lib/python3.9/site-packages/WCDA_hal/HAL.py#299\" target=\"_blank\"><span style=\"color: #7f7f7f; text-decoration-color: #7f7f7f\">299</span></a>\n",
       "</pre>\n"
      ],
      "text/plain": [
       "\u001b[38;5;46m        \u001b[0m\u001b[38;5;46m \u001b[0m\u001b[38;5;49mINFO    \u001b[0m \u001b[1;38;5;251m Width x height \u001b[0m\u001b[1;37m90\u001b[0m\u001b[1;38;5;251m x \u001b[0m\u001b[1;37m90\u001b[0m\u001b[1;38;5;251m px                                                            \u001b[0m\u001b[1;38;5;251m \u001b[0m\u001b]8;id=320574;file:///data/home/cwy/.mylib/miniconda3/envs/3MLpure/lib/python3.9/site-packages/WCDA_hal/HAL.py\u001b\\\u001b[2mHAL.py\u001b[0m\u001b]8;;\u001b\\\u001b[2m:\u001b[0m\u001b]8;id=254555;file:///data/home/cwy/.mylib/miniconda3/envs/3MLpure/lib/python3.9/site-packages/WCDA_hal/HAL.py#299\u001b\\\u001b[2m299\u001b[0m\u001b]8;;\u001b\\\n"
      ]
     },
     "metadata": {},
     "output_type": "display_data"
    },
    {
     "data": {
      "text/html": [
       "<pre style=\"white-space:pre;overflow-x:auto;line-height:normal;font-family:Menlo,'DejaVu Sans Mono',consolas,'Courier New',monospace\"><span style=\"color: #00ff00; text-decoration-color: #00ff00\">         </span><span style=\"color: #00ffaf; text-decoration-color: #00ffaf\">INFO    </span> <span style=\"color: #c6c6c6; text-decoration-color: #c6c6c6; font-weight: bold\"> Pixel sizes: </span><span style=\"color: #c0c0c0; text-decoration-color: #c0c0c0; font-weight: bold\">0.17</span><span style=\"color: #c6c6c6; text-decoration-color: #c6c6c6; font-weight: bold\"> deg                                                                 </span><a href=\"file:///data/home/cwy/.mylib/miniconda3/envs/3MLpure/lib/python3.9/site-packages/WCDA_hal/HAL.py\" target=\"_blank\"><span style=\"color: #7f7f7f; text-decoration-color: #7f7f7f\">HAL.py</span></a><span style=\"color: #7f7f7f; text-decoration-color: #7f7f7f\">:</span><a href=\"file:///data/home/cwy/.mylib/miniconda3/envs/3MLpure/lib/python3.9/site-packages/WCDA_hal/HAL.py#304\" target=\"_blank\"><span style=\"color: #7f7f7f; text-decoration-color: #7f7f7f\">304</span></a>\n",
       "</pre>\n"
      ],
      "text/plain": [
       "\u001b[38;5;46m        \u001b[0m\u001b[38;5;46m \u001b[0m\u001b[38;5;49mINFO    \u001b[0m \u001b[1;38;5;251m Pixel sizes: \u001b[0m\u001b[1;37m0.17\u001b[0m\u001b[1;38;5;251m deg                                                                \u001b[0m\u001b[1;38;5;251m \u001b[0m\u001b]8;id=681168;file:///data/home/cwy/.mylib/miniconda3/envs/3MLpure/lib/python3.9/site-packages/WCDA_hal/HAL.py\u001b\\\u001b[2mHAL.py\u001b[0m\u001b]8;;\u001b\\\u001b[2m:\u001b[0m\u001b]8;id=139269;file:///data/home/cwy/.mylib/miniconda3/envs/3MLpure/lib/python3.9/site-packages/WCDA_hal/HAL.py#304\u001b\\\u001b[2m304\u001b[0m\u001b]8;;\u001b\\\n"
      ]
     },
     "metadata": {},
     "output_type": "display_data"
    },
    {
     "data": {
      "text/html": [
       "<pre style=\"white-space:pre;overflow-x:auto;line-height:normal;font-family:Menlo,'DejaVu Sans Mono',consolas,'Courier New',monospace\"><span style=\"color: #00ff00; text-decoration-color: #00ff00\">         </span><span style=\"color: #00ffaf; text-decoration-color: #00ffaf\">INFO    </span> <span style=\"color: #c6c6c6; text-decoration-color: #c6c6c6; font-weight: bold\">                                                                                       </span><a href=\"file:///data/home/cwy/.mylib/miniconda3/envs/3MLpure/lib/python3.9/site-packages/WCDA_hal/HAL.py\" target=\"_blank\"><span style=\"color: #7f7f7f; text-decoration-color: #7f7f7f\">HAL.py</span></a><span style=\"color: #7f7f7f; text-decoration-color: #7f7f7f\">:</span><a href=\"file:///data/home/cwy/.mylib/miniconda3/envs/3MLpure/lib/python3.9/site-packages/WCDA_hal/HAL.py#307\" target=\"_blank\"><span style=\"color: #7f7f7f; text-decoration-color: #7f7f7f\">307</span></a>\n",
       "</pre>\n"
      ],
      "text/plain": [
       "\u001b[38;5;46m        \u001b[0m\u001b[38;5;46m \u001b[0m\u001b[38;5;49mINFO    \u001b[0m \u001b[1;38;5;251m                                                                                      \u001b[0m\u001b[1;38;5;251m \u001b[0m\u001b]8;id=224799;file:///data/home/cwy/.mylib/miniconda3/envs/3MLpure/lib/python3.9/site-packages/WCDA_hal/HAL.py\u001b\\\u001b[2mHAL.py\u001b[0m\u001b]8;;\u001b\\\u001b[2m:\u001b[0m\u001b]8;id=821476;file:///data/home/cwy/.mylib/miniconda3/envs/3MLpure/lib/python3.9/site-packages/WCDA_hal/HAL.py#307\u001b\\\u001b[2m307\u001b[0m\u001b]8;;\u001b\\\n"
      ]
     },
     "metadata": {},
     "output_type": "display_data"
    },
    {
     "data": {
      "text/html": [
       "<pre style=\"white-space:pre;overflow-x:auto;line-height:normal;font-family:Menlo,'DejaVu Sans Mono',consolas,'Courier New',monospace\"><span style=\"color: #00ff00; text-decoration-color: #00ff00\">         </span><span style=\"color: #00ffaf; text-decoration-color: #00ffaf\">INFO    </span> <span style=\"color: #c6c6c6; text-decoration-color: #c6c6c6; font-weight: bold\"> Response:                                                                             </span><a href=\"file:///data/home/cwy/.mylib/miniconda3/envs/3MLpure/lib/python3.9/site-packages/WCDA_hal/HAL.py\" target=\"_blank\"><span style=\"color: #7f7f7f; text-decoration-color: #7f7f7f\">HAL.py</span></a><span style=\"color: #7f7f7f; text-decoration-color: #7f7f7f\">:</span><a href=\"file:///data/home/cwy/.mylib/miniconda3/envs/3MLpure/lib/python3.9/site-packages/WCDA_hal/HAL.py#308\" target=\"_blank\"><span style=\"color: #7f7f7f; text-decoration-color: #7f7f7f\">308</span></a>\n",
       "</pre>\n"
      ],
      "text/plain": [
       "\u001b[38;5;46m        \u001b[0m\u001b[38;5;46m \u001b[0m\u001b[38;5;49mINFO    \u001b[0m \u001b[1;38;5;251m Response:                                                                            \u001b[0m\u001b[1;38;5;251m \u001b[0m\u001b]8;id=554539;file:///data/home/cwy/.mylib/miniconda3/envs/3MLpure/lib/python3.9/site-packages/WCDA_hal/HAL.py\u001b\\\u001b[2mHAL.py\u001b[0m\u001b]8;;\u001b\\\u001b[2m:\u001b[0m\u001b]8;id=262530;file:///data/home/cwy/.mylib/miniconda3/envs/3MLpure/lib/python3.9/site-packages/WCDA_hal/HAL.py#308\u001b\\\u001b[2m308\u001b[0m\u001b]8;;\u001b\\\n"
      ]
     },
     "metadata": {},
     "output_type": "display_data"
    },
    {
     "data": {
      "text/html": [
       "<pre style=\"white-space:pre;overflow-x:auto;line-height:normal;font-family:Menlo,'DejaVu Sans Mono',consolas,'Courier New',monospace\"><span style=\"color: #00ff00; text-decoration-color: #00ff00\">         </span><span style=\"color: #00ffaf; text-decoration-color: #00ffaf\">INFO    </span> <span style=\"color: #c6c6c6; text-decoration-color: #c6c6c6; font-weight: bold\"> ---------                                                                             </span><a href=\"file:///data/home/cwy/.mylib/miniconda3/envs/3MLpure/lib/python3.9/site-packages/WCDA_hal/HAL.py\" target=\"_blank\"><span style=\"color: #7f7f7f; text-decoration-color: #7f7f7f\">HAL.py</span></a><span style=\"color: #7f7f7f; text-decoration-color: #7f7f7f\">:</span><a href=\"file:///data/home/cwy/.mylib/miniconda3/envs/3MLpure/lib/python3.9/site-packages/WCDA_hal/HAL.py#309\" target=\"_blank\"><span style=\"color: #7f7f7f; text-decoration-color: #7f7f7f\">309</span></a>\n",
       "</pre>\n"
      ],
      "text/plain": [
       "\u001b[38;5;46m        \u001b[0m\u001b[38;5;46m \u001b[0m\u001b[38;5;49mINFO    \u001b[0m \u001b[1;38;5;251m ---------                                                                            \u001b[0m\u001b[1;38;5;251m \u001b[0m\u001b]8;id=375728;file:///data/home/cwy/.mylib/miniconda3/envs/3MLpure/lib/python3.9/site-packages/WCDA_hal/HAL.py\u001b\\\u001b[2mHAL.py\u001b[0m\u001b]8;;\u001b\\\u001b[2m:\u001b[0m\u001b]8;id=570354;file:///data/home/cwy/.mylib/miniconda3/envs/3MLpure/lib/python3.9/site-packages/WCDA_hal/HAL.py#309\u001b\\\u001b[2m309\u001b[0m\u001b]8;;\u001b\\\n"
      ]
     },
     "metadata": {},
     "output_type": "display_data"
    },
    {
     "data": {
      "text/html": [
       "<pre style=\"white-space:pre;overflow-x:auto;line-height:normal;font-family:Menlo,'DejaVu Sans Mono',consolas,'Courier New',monospace\"><span style=\"color: #00ff00; text-decoration-color: #00ff00\">         </span><span style=\"color: #00ffaf; text-decoration-color: #00ffaf\">INFO    </span> <span style=\"color: #c6c6c6; text-decoration-color: #c6c6c6; font-weight: bold\"> Response file:                                                                   </span><a href=\"file:///data/home/cwy/.mylib/miniconda3/envs/3MLpure/lib/python3.9/site-packages/WCDA_hal/response/response.py\" target=\"_blank\"><span style=\"color: #7f7f7f; text-decoration-color: #7f7f7f\">response.py</span></a><span style=\"color: #7f7f7f; text-decoration-color: #7f7f7f\">:</span><a href=\"file:///data/home/cwy/.mylib/miniconda3/envs/3MLpure/lib/python3.9/site-packages/WCDA_hal/response/response.py#340\" target=\"_blank\"><span style=\"color: #7f7f7f; text-decoration-color: #7f7f7f\">340</span></a>\n",
       "<span style=\"color: #00ff00; text-decoration-color: #00ff00\">         </span>         <span style=\"color: #5f5f5f; text-decoration-color: #5f5f5f; font-weight: bold\">/data/home/cwy/Science/3MLWCDA/Standard/src/../../data/</span><span style=\"color: #000080; text-decoration-color: #000080; font-weight: bold\">KM2A1234full_mcpsfnewfix13</span><span style=\"color: #c6c6c6; text-decoration-color: #c6c6c6; font-weight: bold\"> </span><span style=\"color: #7f7f7f; text-decoration-color: #7f7f7f\">               </span>\n",
       "<span style=\"color: #00ff00; text-decoration-color: #00ff00\">         </span>         <span style=\"color: #000080; text-decoration-color: #000080; font-weight: bold\">.root</span><span style=\"color: #c6c6c6; text-decoration-color: #c6c6c6; font-weight: bold\">                                                                             </span><span style=\"color: #7f7f7f; text-decoration-color: #7f7f7f\">               </span>\n",
       "</pre>\n"
      ],
      "text/plain": [
       "\u001b[38;5;46m        \u001b[0m\u001b[38;5;46m \u001b[0m\u001b[38;5;49mINFO    \u001b[0m \u001b[1;38;5;251m Response file:                                                                  \u001b[0m\u001b[1;38;5;251m \u001b[0m\u001b]8;id=809714;file:///data/home/cwy/.mylib/miniconda3/envs/3MLpure/lib/python3.9/site-packages/WCDA_hal/response/response.py\u001b\\\u001b[2mresponse.py\u001b[0m\u001b]8;;\u001b\\\u001b[2m:\u001b[0m\u001b]8;id=82646;file:///data/home/cwy/.mylib/miniconda3/envs/3MLpure/lib/python3.9/site-packages/WCDA_hal/response/response.py#340\u001b\\\u001b[2m340\u001b[0m\u001b]8;;\u001b\\\n",
       "\u001b[38;5;46m         \u001b[0m         \u001b[1;38;5;59m/data/home/cwy/Science/3MLWCDA/Standard/src/../../data/\u001b[0m\u001b[1;34mKM2A1234full_mcpsfnewfix13\u001b[0m\u001b[1;38;5;251m \u001b[0m\u001b[2m               \u001b[0m\n",
       "\u001b[38;5;46m         \u001b[0m         \u001b[1;34m.root\u001b[0m\u001b[1;38;5;251m                                                                            \u001b[0m\u001b[1;38;5;251m \u001b[0m\u001b[2m               \u001b[0m\n"
      ]
     },
     "metadata": {},
     "output_type": "display_data"
    },
    {
     "data": {
      "text/html": [
       "<pre style=\"white-space:pre;overflow-x:auto;line-height:normal;font-family:Menlo,'DejaVu Sans Mono',consolas,'Courier New',monospace\"><span style=\"color: #00ff00; text-decoration-color: #00ff00\">         </span><span style=\"color: #00ffaf; text-decoration-color: #00ffaf\">INFO    </span> <span style=\"color: #c6c6c6; text-decoration-color: #c6c6c6; font-weight: bold\"> Number of dec bins: </span><span style=\"color: #c0c0c0; text-decoration-color: #c0c0c0; font-weight: bold\">110</span><span style=\"color: #c6c6c6; text-decoration-color: #c6c6c6; font-weight: bold\">                                                          </span><a href=\"file:///data/home/cwy/.mylib/miniconda3/envs/3MLpure/lib/python3.9/site-packages/WCDA_hal/response/response.py\" target=\"_blank\"><span style=\"color: #7f7f7f; text-decoration-color: #7f7f7f\">response.py</span></a><span style=\"color: #7f7f7f; text-decoration-color: #7f7f7f\">:</span><a href=\"file:///data/home/cwy/.mylib/miniconda3/envs/3MLpure/lib/python3.9/site-packages/WCDA_hal/response/response.py#341\" target=\"_blank\"><span style=\"color: #7f7f7f; text-decoration-color: #7f7f7f\">341</span></a>\n",
       "</pre>\n"
      ],
      "text/plain": [
       "\u001b[38;5;46m        \u001b[0m\u001b[38;5;46m \u001b[0m\u001b[38;5;49mINFO    \u001b[0m \u001b[1;38;5;251m Number of dec bins: \u001b[0m\u001b[1;37m110\u001b[0m\u001b[1;38;5;251m                                                         \u001b[0m\u001b[1;38;5;251m \u001b[0m\u001b]8;id=199758;file:///data/home/cwy/.mylib/miniconda3/envs/3MLpure/lib/python3.9/site-packages/WCDA_hal/response/response.py\u001b\\\u001b[2mresponse.py\u001b[0m\u001b]8;;\u001b\\\u001b[2m:\u001b[0m\u001b]8;id=925118;file:///data/home/cwy/.mylib/miniconda3/envs/3MLpure/lib/python3.9/site-packages/WCDA_hal/response/response.py#341\u001b\\\u001b[2m341\u001b[0m\u001b]8;;\u001b\\\n"
      ]
     },
     "metadata": {},
     "output_type": "display_data"
    },
    {
     "data": {
      "text/html": [
       "<pre style=\"white-space:pre;overflow-x:auto;line-height:normal;font-family:Menlo,'DejaVu Sans Mono',consolas,'Courier New',monospace\"><span style=\"color: #00ff00; text-decoration-color: #00ff00\">         </span><span style=\"color: #00ffaf; text-decoration-color: #00ffaf\">INFO    </span> <span style=\"color: #c6c6c6; text-decoration-color: #c6c6c6; font-weight: bold\"> Number of energy/nHit planes per dec bin_name: </span><span style=\"color: #c0c0c0; text-decoration-color: #c0c0c0; font-weight: bold\">14</span><span style=\"color: #c6c6c6; text-decoration-color: #c6c6c6; font-weight: bold\">                                </span><a href=\"file:///data/home/cwy/.mylib/miniconda3/envs/3MLpure/lib/python3.9/site-packages/WCDA_hal/response/response.py\" target=\"_blank\"><span style=\"color: #7f7f7f; text-decoration-color: #7f7f7f\">response.py</span></a><span style=\"color: #7f7f7f; text-decoration-color: #7f7f7f\">:</span><a href=\"file:///data/home/cwy/.mylib/miniconda3/envs/3MLpure/lib/python3.9/site-packages/WCDA_hal/response/response.py#344\" target=\"_blank\"><span style=\"color: #7f7f7f; text-decoration-color: #7f7f7f\">344</span></a>\n",
       "</pre>\n"
      ],
      "text/plain": [
       "\u001b[38;5;46m        \u001b[0m\u001b[38;5;46m \u001b[0m\u001b[38;5;49mINFO    \u001b[0m \u001b[1;38;5;251m Number of energy/nHit planes per dec bin_name: \u001b[0m\u001b[1;37m14\u001b[0m\u001b[1;38;5;251m                               \u001b[0m\u001b[1;38;5;251m \u001b[0m\u001b]8;id=35391;file:///data/home/cwy/.mylib/miniconda3/envs/3MLpure/lib/python3.9/site-packages/WCDA_hal/response/response.py\u001b\\\u001b[2mresponse.py\u001b[0m\u001b]8;;\u001b\\\u001b[2m:\u001b[0m\u001b]8;id=412084;file:///data/home/cwy/.mylib/miniconda3/envs/3MLpure/lib/python3.9/site-packages/WCDA_hal/response/response.py#344\u001b\\\u001b[2m344\u001b[0m\u001b]8;;\u001b\\\n"
      ]
     },
     "metadata": {},
     "output_type": "display_data"
    },
    {
     "data": {
      "text/html": [
       "<pre style=\"white-space:pre;overflow-x:auto;line-height:normal;font-family:Menlo,'DejaVu Sans Mono',consolas,'Courier New',monospace\"><span style=\"color: #00ff00; text-decoration-color: #00ff00\">         </span><span style=\"color: #00ffaf; text-decoration-color: #00ffaf\">INFO    </span> <span style=\"color: #c6c6c6; text-decoration-color: #c6c6c6; font-weight: bold\">                                                                                       </span><a href=\"file:///data/home/cwy/.mylib/miniconda3/envs/3MLpure/lib/python3.9/site-packages/WCDA_hal/HAL.py\" target=\"_blank\"><span style=\"color: #7f7f7f; text-decoration-color: #7f7f7f\">HAL.py</span></a><span style=\"color: #7f7f7f; text-decoration-color: #7f7f7f\">:</span><a href=\"file:///data/home/cwy/.mylib/miniconda3/envs/3MLpure/lib/python3.9/site-packages/WCDA_hal/HAL.py#313\" target=\"_blank\"><span style=\"color: #7f7f7f; text-decoration-color: #7f7f7f\">313</span></a>\n",
       "</pre>\n"
      ],
      "text/plain": [
       "\u001b[38;5;46m        \u001b[0m\u001b[38;5;46m \u001b[0m\u001b[38;5;49mINFO    \u001b[0m \u001b[1;38;5;251m                                                                                      \u001b[0m\u001b[1;38;5;251m \u001b[0m\u001b]8;id=55446;file:///data/home/cwy/.mylib/miniconda3/envs/3MLpure/lib/python3.9/site-packages/WCDA_hal/HAL.py\u001b\\\u001b[2mHAL.py\u001b[0m\u001b]8;;\u001b\\\u001b[2m:\u001b[0m\u001b]8;id=997008;file:///data/home/cwy/.mylib/miniconda3/envs/3MLpure/lib/python3.9/site-packages/WCDA_hal/HAL.py#313\u001b\\\u001b[2m313\u001b[0m\u001b]8;;\u001b\\\n"
      ]
     },
     "metadata": {},
     "output_type": "display_data"
    },
    {
     "data": {
      "text/html": [
       "<pre style=\"white-space:pre;overflow-x:auto;line-height:normal;font-family:Menlo,'DejaVu Sans Mono',consolas,'Courier New',monospace\"><span style=\"color: #00ff00; text-decoration-color: #00ff00\">         </span><span style=\"color: #00ffaf; text-decoration-color: #00ffaf\">INFO    </span> <span style=\"color: #c6c6c6; text-decoration-color: #c6c6c6; font-weight: bold\"> Map Tree:                                                                             </span><a href=\"file:///data/home/cwy/.mylib/miniconda3/envs/3MLpure/lib/python3.9/site-packages/WCDA_hal/HAL.py\" target=\"_blank\"><span style=\"color: #7f7f7f; text-decoration-color: #7f7f7f\">HAL.py</span></a><span style=\"color: #7f7f7f; text-decoration-color: #7f7f7f\">:</span><a href=\"file:///data/home/cwy/.mylib/miniconda3/envs/3MLpure/lib/python3.9/site-packages/WCDA_hal/HAL.py#314\" target=\"_blank\"><span style=\"color: #7f7f7f; text-decoration-color: #7f7f7f\">314</span></a>\n",
       "</pre>\n"
      ],
      "text/plain": [
       "\u001b[38;5;46m        \u001b[0m\u001b[38;5;46m \u001b[0m\u001b[38;5;49mINFO    \u001b[0m \u001b[1;38;5;251m Map Tree:                                                                            \u001b[0m\u001b[1;38;5;251m \u001b[0m\u001b]8;id=648715;file:///data/home/cwy/.mylib/miniconda3/envs/3MLpure/lib/python3.9/site-packages/WCDA_hal/HAL.py\u001b\\\u001b[2mHAL.py\u001b[0m\u001b]8;;\u001b\\\u001b[2m:\u001b[0m\u001b]8;id=227855;file:///data/home/cwy/.mylib/miniconda3/envs/3MLpure/lib/python3.9/site-packages/WCDA_hal/HAL.py#314\u001b\\\u001b[2m314\u001b[0m\u001b]8;;\u001b\\\n"
      ]
     },
     "metadata": {},
     "output_type": "display_data"
    },
    {
     "data": {
      "text/html": [
       "<pre style=\"white-space:pre;overflow-x:auto;line-height:normal;font-family:Menlo,'DejaVu Sans Mono',consolas,'Courier New',monospace\"><span style=\"color: #00ff00; text-decoration-color: #00ff00\">         </span><span style=\"color: #00ffaf; text-decoration-color: #00ffaf\">INFO    </span> <span style=\"color: #c6c6c6; text-decoration-color: #c6c6c6; font-weight: bold\"> ----------                                                                            </span><a href=\"file:///data/home/cwy/.mylib/miniconda3/envs/3MLpure/lib/python3.9/site-packages/WCDA_hal/HAL.py\" target=\"_blank\"><span style=\"color: #7f7f7f; text-decoration-color: #7f7f7f\">HAL.py</span></a><span style=\"color: #7f7f7f; text-decoration-color: #7f7f7f\">:</span><a href=\"file:///data/home/cwy/.mylib/miniconda3/envs/3MLpure/lib/python3.9/site-packages/WCDA_hal/HAL.py#315\" target=\"_blank\"><span style=\"color: #7f7f7f; text-decoration-color: #7f7f7f\">315</span></a>\n",
       "</pre>\n"
      ],
      "text/plain": [
       "\u001b[38;5;46m        \u001b[0m\u001b[38;5;46m \u001b[0m\u001b[38;5;49mINFO    \u001b[0m \u001b[1;38;5;251m ----------                                                                           \u001b[0m\u001b[1;38;5;251m \u001b[0m\u001b]8;id=33729;file:///data/home/cwy/.mylib/miniconda3/envs/3MLpure/lib/python3.9/site-packages/WCDA_hal/HAL.py\u001b\\\u001b[2mHAL.py\u001b[0m\u001b]8;;\u001b\\\u001b[2m:\u001b[0m\u001b]8;id=353968;file:///data/home/cwy/.mylib/miniconda3/envs/3MLpure/lib/python3.9/site-packages/WCDA_hal/HAL.py#315\u001b\\\u001b[2m315\u001b[0m\u001b]8;;\u001b\\\n"
      ]
     },
     "metadata": {},
     "output_type": "display_data"
    },
    {
     "data": {
      "text/html": [
       "<div>\n",
       "<style scoped>\n",
       "    .dataframe tbody tr th:only-of-type {\n",
       "        vertical-align: middle;\n",
       "    }\n",
       "\n",
       "    .dataframe tbody tr th {\n",
       "        vertical-align: top;\n",
       "    }\n",
       "\n",
       "    .dataframe thead th {\n",
       "        text-align: right;\n",
       "    }\n",
       "</style>\n",
       "<table border=\"1\" class=\"dataframe\">\n",
       "  <thead>\n",
       "    <tr style=\"text-align: right;\">\n",
       "      <th></th>\n",
       "      <th>Bin</th>\n",
       "      <th>Nside</th>\n",
       "      <th>Scheme</th>\n",
       "      <th>Obs counts</th>\n",
       "      <th>Bkg counts</th>\n",
       "      <th>obs/bkg</th>\n",
       "      <th>Pixels in ROI</th>\n",
       "      <th>Area (deg^2)</th>\n",
       "    </tr>\n",
       "  </thead>\n",
       "  <tbody>\n",
       "    <tr>\n",
       "      <th>0</th>\n",
       "      <td>0</td>\n",
       "      <td>1024</td>\n",
       "      <td>RING</td>\n",
       "      <td>4.945588e+05</td>\n",
       "      <td>4.914533e+05</td>\n",
       "      <td>1.006319</td>\n",
       "      <td>30462</td>\n",
       "      <td>99.869387</td>\n",
       "    </tr>\n",
       "    <tr>\n",
       "      <th>1</th>\n",
       "      <td>1</td>\n",
       "      <td>1024</td>\n",
       "      <td>RING</td>\n",
       "      <td>2.190529e+06</td>\n",
       "      <td>2.166272e+06</td>\n",
       "      <td>1.011197</td>\n",
       "      <td>30462</td>\n",
       "      <td>99.869387</td>\n",
       "    </tr>\n",
       "    <tr>\n",
       "      <th>2</th>\n",
       "      <td>2</td>\n",
       "      <td>1024</td>\n",
       "      <td>RING</td>\n",
       "      <td>2.024008e+06</td>\n",
       "      <td>1.984553e+06</td>\n",
       "      <td>1.019881</td>\n",
       "      <td>30462</td>\n",
       "      <td>99.869387</td>\n",
       "    </tr>\n",
       "    <tr>\n",
       "      <th>3</th>\n",
       "      <td>3</td>\n",
       "      <td>1024</td>\n",
       "      <td>RING</td>\n",
       "      <td>7.011795e+05</td>\n",
       "      <td>6.762147e+05</td>\n",
       "      <td>1.036918</td>\n",
       "      <td>30462</td>\n",
       "      <td>99.869387</td>\n",
       "    </tr>\n",
       "    <tr>\n",
       "      <th>4</th>\n",
       "      <td>4</td>\n",
       "      <td>1024</td>\n",
       "      <td>RING</td>\n",
       "      <td>6.139265e+04</td>\n",
       "      <td>5.279565e+04</td>\n",
       "      <td>1.162835</td>\n",
       "      <td>30462</td>\n",
       "      <td>99.869387</td>\n",
       "    </tr>\n",
       "    <tr>\n",
       "      <th>5</th>\n",
       "      <td>5</td>\n",
       "      <td>1024</td>\n",
       "      <td>RING</td>\n",
       "      <td>1.319086e+04</td>\n",
       "      <td>9.003487e+03</td>\n",
       "      <td>1.465083</td>\n",
       "      <td>30462</td>\n",
       "      <td>99.869387</td>\n",
       "    </tr>\n",
       "    <tr>\n",
       "      <th>6</th>\n",
       "      <td>6</td>\n",
       "      <td>1024</td>\n",
       "      <td>RING</td>\n",
       "      <td>7.239654e+03</td>\n",
       "      <td>4.613361e+03</td>\n",
       "      <td>1.569280</td>\n",
       "      <td>30462</td>\n",
       "      <td>99.869387</td>\n",
       "    </tr>\n",
       "    <tr>\n",
       "      <th>7</th>\n",
       "      <td>7</td>\n",
       "      <td>1024</td>\n",
       "      <td>RING</td>\n",
       "      <td>1.942301e+03</td>\n",
       "      <td>8.992171e+02</td>\n",
       "      <td>2.159992</td>\n",
       "      <td>30462</td>\n",
       "      <td>99.869387</td>\n",
       "    </tr>\n",
       "    <tr>\n",
       "      <th>8</th>\n",
       "      <td>8</td>\n",
       "      <td>1024</td>\n",
       "      <td>RING</td>\n",
       "      <td>6.117919e+02</td>\n",
       "      <td>2.490885e+02</td>\n",
       "      <td>2.456122</td>\n",
       "      <td>30462</td>\n",
       "      <td>99.869387</td>\n",
       "    </tr>\n",
       "    <tr>\n",
       "      <th>9</th>\n",
       "      <td>9</td>\n",
       "      <td>1024</td>\n",
       "      <td>RING</td>\n",
       "      <td>2.330879e+02</td>\n",
       "      <td>9.129735e+01</td>\n",
       "      <td>2.553064</td>\n",
       "      <td>30462</td>\n",
       "      <td>99.869387</td>\n",
       "    </tr>\n",
       "    <tr>\n",
       "      <th>10</th>\n",
       "      <td>10</td>\n",
       "      <td>1024</td>\n",
       "      <td>RING</td>\n",
       "      <td>8.100212e+01</td>\n",
       "      <td>2.800314e+01</td>\n",
       "      <td>2.892608</td>\n",
       "      <td>30462</td>\n",
       "      <td>99.869387</td>\n",
       "    </tr>\n",
       "    <tr>\n",
       "      <th>11</th>\n",
       "      <td>11</td>\n",
       "      <td>1024</td>\n",
       "      <td>RING</td>\n",
       "      <td>3.062795e+01</td>\n",
       "      <td>1.031782e+01</td>\n",
       "      <td>2.968452</td>\n",
       "      <td>30462</td>\n",
       "      <td>99.869387</td>\n",
       "    </tr>\n",
       "    <tr>\n",
       "      <th>12</th>\n",
       "      <td>12</td>\n",
       "      <td>1024</td>\n",
       "      <td>RING</td>\n",
       "      <td>1.090300e+01</td>\n",
       "      <td>3.080862e+00</td>\n",
       "      <td>3.538945</td>\n",
       "      <td>30462</td>\n",
       "      <td>99.869387</td>\n",
       "    </tr>\n",
       "    <tr>\n",
       "      <th>13</th>\n",
       "      <td>13</td>\n",
       "      <td>1024</td>\n",
       "      <td>RING</td>\n",
       "      <td>1.988225e+00</td>\n",
       "      <td>1.546421e+00</td>\n",
       "      <td>1.285694</td>\n",
       "      <td>30462</td>\n",
       "      <td>99.869387</td>\n",
       "    </tr>\n",
       "  </tbody>\n",
       "</table>\n",
       "</div>"
      ],
      "text/plain": [
       "   Bin  Nside Scheme    Obs counts    Bkg counts   obs/bkg  Pixels in ROI   \n",
       "0    0   1024   RING  4.945588e+05  4.914533e+05  1.006319          30462  \\\n",
       "1    1   1024   RING  2.190529e+06  2.166272e+06  1.011197          30462   \n",
       "2    2   1024   RING  2.024008e+06  1.984553e+06  1.019881          30462   \n",
       "3    3   1024   RING  7.011795e+05  6.762147e+05  1.036918          30462   \n",
       "4    4   1024   RING  6.139265e+04  5.279565e+04  1.162835          30462   \n",
       "5    5   1024   RING  1.319086e+04  9.003487e+03  1.465083          30462   \n",
       "6    6   1024   RING  7.239654e+03  4.613361e+03  1.569280          30462   \n",
       "7    7   1024   RING  1.942301e+03  8.992171e+02  2.159992          30462   \n",
       "8    8   1024   RING  6.117919e+02  2.490885e+02  2.456122          30462   \n",
       "9    9   1024   RING  2.330879e+02  9.129735e+01  2.553064          30462   \n",
       "10  10   1024   RING  8.100212e+01  2.800314e+01  2.892608          30462   \n",
       "11  11   1024   RING  3.062795e+01  1.031782e+01  2.968452          30462   \n",
       "12  12   1024   RING  1.090300e+01  3.080862e+00  3.538945          30462   \n",
       "13  13   1024   RING  1.988225e+00  1.546421e+00  1.285694          30462   \n",
       "\n",
       "    Area (deg^2)  \n",
       "0      99.869387  \n",
       "1      99.869387  \n",
       "2      99.869387  \n",
       "3      99.869387  \n",
       "4      99.869387  \n",
       "5      99.869387  \n",
       "6      99.869387  \n",
       "7      99.869387  \n",
       "8      99.869387  \n",
       "9      99.869387  \n",
       "10     99.869387  \n",
       "11     99.869387  \n",
       "12     99.869387  \n",
       "13     99.869387  "
      ]
     },
     "metadata": {},
     "output_type": "display_data"
    },
    {
     "data": {
      "text/html": [
       "<pre style=\"white-space:pre;overflow-x:auto;line-height:normal;font-family:Menlo,'DejaVu Sans Mono',consolas,'Courier New',monospace\"><span style=\"color: #00ff00; text-decoration-color: #00ff00\">         </span><span style=\"color: #00ffaf; text-decoration-color: #00ffaf\">INFO    </span> <span style=\"color: #c6c6c6; text-decoration-color: #c6c6c6; font-weight: bold\"> This Map Tree contains </span><span style=\"color: #c0c0c0; text-decoration-color: #c0c0c0; font-weight: bold\">1216.239</span><span style=\"color: #c6c6c6; text-decoration-color: #c6c6c6; font-weight: bold\"> transits in the first bin                        </span><a href=\"file:///data/home/cwy/.mylib/miniconda3/envs/3MLpure/lib/python3.9/site-packages/WCDA_hal/maptree/map_tree.py\" target=\"_blank\"><span style=\"color: #7f7f7f; text-decoration-color: #7f7f7f\">map_tree.py</span></a><span style=\"color: #7f7f7f; text-decoration-color: #7f7f7f\">:</span><a href=\"file:///data/home/cwy/.mylib/miniconda3/envs/3MLpure/lib/python3.9/site-packages/WCDA_hal/maptree/map_tree.py#149\" target=\"_blank\"><span style=\"color: #7f7f7f; text-decoration-color: #7f7f7f\">149</span></a>\n",
       "</pre>\n"
      ],
      "text/plain": [
       "\u001b[38;5;46m        \u001b[0m\u001b[38;5;46m \u001b[0m\u001b[38;5;49mINFO    \u001b[0m \u001b[1;38;5;251m This Map Tree contains \u001b[0m\u001b[1;37m1216.239\u001b[0m\u001b[1;38;5;251m transits in the first bin                       \u001b[0m\u001b[1;38;5;251m \u001b[0m\u001b]8;id=11807;file:///data/home/cwy/.mylib/miniconda3/envs/3MLpure/lib/python3.9/site-packages/WCDA_hal/maptree/map_tree.py\u001b\\\u001b[2mmap_tree.py\u001b[0m\u001b]8;;\u001b\\\u001b[2m:\u001b[0m\u001b]8;id=123626;file:///data/home/cwy/.mylib/miniconda3/envs/3MLpure/lib/python3.9/site-packages/WCDA_hal/maptree/map_tree.py#149\u001b\\\u001b[2m149\u001b[0m\u001b]8;;\u001b\\\n"
      ]
     },
     "metadata": {},
     "output_type": "display_data"
    },
    {
     "data": {
      "text/html": [
       "<pre style=\"white-space:pre;overflow-x:auto;line-height:normal;font-family:Menlo,'DejaVu Sans Mono',consolas,'Courier New',monospace\"><span style=\"color: #00ff00; text-decoration-color: #00ff00\">         </span><span style=\"color: #00ffaf; text-decoration-color: #00ffaf\">INFO    </span> <span style=\"color: #c6c6c6; text-decoration-color: #c6c6c6; font-weight: bold\"> Total data size: </span><span style=\"color: #c0c0c0; text-decoration-color: #c0c0c0; font-weight: bold\">6.82</span><span style=\"color: #c6c6c6; text-decoration-color: #c6c6c6; font-weight: bold\"> Mb                                                         </span><a href=\"file:///data/home/cwy/.mylib/miniconda3/envs/3MLpure/lib/python3.9/site-packages/WCDA_hal/maptree/map_tree.py\" target=\"_blank\"><span style=\"color: #7f7f7f; text-decoration-color: #7f7f7f\">map_tree.py</span></a><span style=\"color: #7f7f7f; text-decoration-color: #7f7f7f\">:</span><a href=\"file:///data/home/cwy/.mylib/miniconda3/envs/3MLpure/lib/python3.9/site-packages/WCDA_hal/maptree/map_tree.py#151\" target=\"_blank\"><span style=\"color: #7f7f7f; text-decoration-color: #7f7f7f\">151</span></a>\n",
       "</pre>\n"
      ],
      "text/plain": [
       "\u001b[38;5;46m        \u001b[0m\u001b[38;5;46m \u001b[0m\u001b[38;5;49mINFO    \u001b[0m \u001b[1;38;5;251m Total data size: \u001b[0m\u001b[1;37m6.82\u001b[0m\u001b[1;38;5;251m Mb                                                        \u001b[0m\u001b[1;38;5;251m \u001b[0m\u001b]8;id=277917;file:///data/home/cwy/.mylib/miniconda3/envs/3MLpure/lib/python3.9/site-packages/WCDA_hal/maptree/map_tree.py\u001b\\\u001b[2mmap_tree.py\u001b[0m\u001b]8;;\u001b\\\u001b[2m:\u001b[0m\u001b]8;id=13943;file:///data/home/cwy/.mylib/miniconda3/envs/3MLpure/lib/python3.9/site-packages/WCDA_hal/maptree/map_tree.py#151\u001b\\\u001b[2m151\u001b[0m\u001b]8;;\u001b\\\n"
      ]
     },
     "metadata": {},
     "output_type": "display_data"
    },
    {
     "data": {
      "text/html": [
       "<pre style=\"white-space:pre;overflow-x:auto;line-height:normal;font-family:Menlo,'DejaVu Sans Mono',consolas,'Courier New',monospace\"><span style=\"color: #00ff00; text-decoration-color: #00ff00\">         </span><span style=\"color: #00ffaf; text-decoration-color: #00ffaf\">INFO    </span> <span style=\"color: #c6c6c6; text-decoration-color: #c6c6c6; font-weight: bold\">                                                                                       </span><a href=\"file:///data/home/cwy/.mylib/miniconda3/envs/3MLpure/lib/python3.9/site-packages/WCDA_hal/HAL.py\" target=\"_blank\"><span style=\"color: #7f7f7f; text-decoration-color: #7f7f7f\">HAL.py</span></a><span style=\"color: #7f7f7f; text-decoration-color: #7f7f7f\">:</span><a href=\"file:///data/home/cwy/.mylib/miniconda3/envs/3MLpure/lib/python3.9/site-packages/WCDA_hal/HAL.py#319\" target=\"_blank\"><span style=\"color: #7f7f7f; text-decoration-color: #7f7f7f\">319</span></a>\n",
       "</pre>\n"
      ],
      "text/plain": [
       "\u001b[38;5;46m        \u001b[0m\u001b[38;5;46m \u001b[0m\u001b[38;5;49mINFO    \u001b[0m \u001b[1;38;5;251m                                                                                      \u001b[0m\u001b[1;38;5;251m \u001b[0m\u001b]8;id=505561;file:///data/home/cwy/.mylib/miniconda3/envs/3MLpure/lib/python3.9/site-packages/WCDA_hal/HAL.py\u001b\\\u001b[2mHAL.py\u001b[0m\u001b]8;;\u001b\\\u001b[2m:\u001b[0m\u001b]8;id=280478;file:///data/home/cwy/.mylib/miniconda3/envs/3MLpure/lib/python3.9/site-packages/WCDA_hal/HAL.py#319\u001b\\\u001b[2m319\u001b[0m\u001b]8;;\u001b\\\n"
      ]
     },
     "metadata": {},
     "output_type": "display_data"
    },
    {
     "data": {
      "text/html": [
       "<pre style=\"white-space:pre;overflow-x:auto;line-height:normal;font-family:Menlo,'DejaVu Sans Mono',consolas,'Courier New',monospace\"><span style=\"color: #00ff00; text-decoration-color: #00ff00\">         </span><span style=\"color: #00ffaf; text-decoration-color: #00ffaf\">INFO    </span> <span style=\"color: #c6c6c6; text-decoration-color: #c6c6c6; font-weight: bold\"> Active energy/nHit planes (</span><span style=\"color: #c0c0c0; text-decoration-color: #c0c0c0; font-weight: bold\">10</span><span style=\"color: #c6c6c6; text-decoration-color: #c6c6c6; font-weight: bold\">):                                                       </span><a href=\"file:///data/home/cwy/.mylib/miniconda3/envs/3MLpure/lib/python3.9/site-packages/WCDA_hal/HAL.py\" target=\"_blank\"><span style=\"color: #7f7f7f; text-decoration-color: #7f7f7f\">HAL.py</span></a><span style=\"color: #7f7f7f; text-decoration-color: #7f7f7f\">:</span><a href=\"file:///data/home/cwy/.mylib/miniconda3/envs/3MLpure/lib/python3.9/site-packages/WCDA_hal/HAL.py#321\" target=\"_blank\"><span style=\"color: #7f7f7f; text-decoration-color: #7f7f7f\">321</span></a>\n",
       "</pre>\n"
      ],
      "text/plain": [
       "\u001b[38;5;46m        \u001b[0m\u001b[38;5;46m \u001b[0m\u001b[38;5;49mINFO    \u001b[0m \u001b[1;38;5;251m Active energy/nHit planes \u001b[0m\u001b[1;38;5;251m(\u001b[0m\u001b[1;37m10\u001b[0m\u001b[1;38;5;251m)\u001b[0m\u001b[1;38;5;251m:                                                      \u001b[0m\u001b[1;38;5;251m \u001b[0m\u001b]8;id=43253;file:///data/home/cwy/.mylib/miniconda3/envs/3MLpure/lib/python3.9/site-packages/WCDA_hal/HAL.py\u001b\\\u001b[2mHAL.py\u001b[0m\u001b]8;;\u001b\\\u001b[2m:\u001b[0m\u001b]8;id=356410;file:///data/home/cwy/.mylib/miniconda3/envs/3MLpure/lib/python3.9/site-packages/WCDA_hal/HAL.py#321\u001b\\\u001b[2m321\u001b[0m\u001b]8;;\u001b\\\n"
      ]
     },
     "metadata": {},
     "output_type": "display_data"
    },
    {
     "data": {
      "text/html": [
       "<pre style=\"white-space:pre;overflow-x:auto;line-height:normal;font-family:Menlo,'DejaVu Sans Mono',consolas,'Courier New',monospace\"><span style=\"color: #00ff00; text-decoration-color: #00ff00\">         </span><span style=\"color: #00ffaf; text-decoration-color: #00ffaf\">INFO    </span> <span style=\"color: #c6c6c6; text-decoration-color: #c6c6c6; font-weight: bold\"> -------------------------------                                                       </span><a href=\"file:///data/home/cwy/.mylib/miniconda3/envs/3MLpure/lib/python3.9/site-packages/WCDA_hal/HAL.py\" target=\"_blank\"><span style=\"color: #7f7f7f; text-decoration-color: #7f7f7f\">HAL.py</span></a><span style=\"color: #7f7f7f; text-decoration-color: #7f7f7f\">:</span><a href=\"file:///data/home/cwy/.mylib/miniconda3/envs/3MLpure/lib/python3.9/site-packages/WCDA_hal/HAL.py#322\" target=\"_blank\"><span style=\"color: #7f7f7f; text-decoration-color: #7f7f7f\">322</span></a>\n",
       "</pre>\n"
      ],
      "text/plain": [
       "\u001b[38;5;46m        \u001b[0m\u001b[38;5;46m \u001b[0m\u001b[38;5;49mINFO    \u001b[0m \u001b[1;38;5;251m -------------------------------                                                      \u001b[0m\u001b[1;38;5;251m \u001b[0m\u001b]8;id=476193;file:///data/home/cwy/.mylib/miniconda3/envs/3MLpure/lib/python3.9/site-packages/WCDA_hal/HAL.py\u001b\\\u001b[2mHAL.py\u001b[0m\u001b]8;;\u001b\\\u001b[2m:\u001b[0m\u001b]8;id=977394;file:///data/home/cwy/.mylib/miniconda3/envs/3MLpure/lib/python3.9/site-packages/WCDA_hal/HAL.py#322\u001b\\\u001b[2m322\u001b[0m\u001b]8;;\u001b\\\n"
      ]
     },
     "metadata": {},
     "output_type": "display_data"
    },
    {
     "data": {
      "text/html": [
       "<pre style=\"white-space:pre;overflow-x:auto;line-height:normal;font-family:Menlo,'DejaVu Sans Mono',consolas,'Courier New',monospace\"><span style=\"color: #00ff00; text-decoration-color: #00ff00\">         </span><span style=\"color: #00ffaf; text-decoration-color: #00ffaf\">INFO    </span> <span style=\"color: #c6c6c6; text-decoration-color: #c6c6c6; font-weight: bold\"> [</span><span style=\"color: #5f5f5f; text-decoration-color: #5f5f5f; font-weight: bold\">'4'</span><span style=\"color: #c6c6c6; text-decoration-color: #c6c6c6; font-weight: bold\">, </span><span style=\"color: #5f5f5f; text-decoration-color: #5f5f5f; font-weight: bold\">'5'</span><span style=\"color: #c6c6c6; text-decoration-color: #c6c6c6; font-weight: bold\">, </span><span style=\"color: #5f5f5f; text-decoration-color: #5f5f5f; font-weight: bold\">'6'</span><span style=\"color: #c6c6c6; text-decoration-color: #c6c6c6; font-weight: bold\">, </span><span style=\"color: #5f5f5f; text-decoration-color: #5f5f5f; font-weight: bold\">'7'</span><span style=\"color: #c6c6c6; text-decoration-color: #c6c6c6; font-weight: bold\">, </span><span style=\"color: #5f5f5f; text-decoration-color: #5f5f5f; font-weight: bold\">'8'</span><span style=\"color: #c6c6c6; text-decoration-color: #c6c6c6; font-weight: bold\">, </span><span style=\"color: #5f5f5f; text-decoration-color: #5f5f5f; font-weight: bold\">'9'</span><span style=\"color: #c6c6c6; text-decoration-color: #c6c6c6; font-weight: bold\">, </span><span style=\"color: #5f5f5f; text-decoration-color: #5f5f5f; font-weight: bold\">'10'</span><span style=\"color: #c6c6c6; text-decoration-color: #c6c6c6; font-weight: bold\">, </span><span style=\"color: #5f5f5f; text-decoration-color: #5f5f5f; font-weight: bold\">'11'</span><span style=\"color: #c6c6c6; text-decoration-color: #c6c6c6; font-weight: bold\">, </span><span style=\"color: #5f5f5f; text-decoration-color: #5f5f5f; font-weight: bold\">'12'</span><span style=\"color: #c6c6c6; text-decoration-color: #c6c6c6; font-weight: bold\">, </span><span style=\"color: #5f5f5f; text-decoration-color: #5f5f5f; font-weight: bold\">'13'</span><span style=\"color: #c6c6c6; text-decoration-color: #c6c6c6; font-weight: bold\">]                                </span><a href=\"file:///data/home/cwy/.mylib/miniconda3/envs/3MLpure/lib/python3.9/site-packages/WCDA_hal/HAL.py\" target=\"_blank\"><span style=\"color: #7f7f7f; text-decoration-color: #7f7f7f\">HAL.py</span></a><span style=\"color: #7f7f7f; text-decoration-color: #7f7f7f\">:</span><a href=\"file:///data/home/cwy/.mylib/miniconda3/envs/3MLpure/lib/python3.9/site-packages/WCDA_hal/HAL.py#323\" target=\"_blank\"><span style=\"color: #7f7f7f; text-decoration-color: #7f7f7f\">323</span></a>\n",
       "</pre>\n"
      ],
      "text/plain": [
       "\u001b[38;5;46m        \u001b[0m\u001b[38;5;46m \u001b[0m\u001b[38;5;49mINFO    \u001b[0m \u001b[1;38;5;251m \u001b[0m\u001b[1;38;5;251m[\u001b[0m\u001b[1;38;5;59m'4'\u001b[0m\u001b[1;38;5;251m, \u001b[0m\u001b[1;38;5;59m'5'\u001b[0m\u001b[1;38;5;251m, \u001b[0m\u001b[1;38;5;59m'6'\u001b[0m\u001b[1;38;5;251m, \u001b[0m\u001b[1;38;5;59m'7'\u001b[0m\u001b[1;38;5;251m, \u001b[0m\u001b[1;38;5;59m'8'\u001b[0m\u001b[1;38;5;251m, \u001b[0m\u001b[1;38;5;59m'9'\u001b[0m\u001b[1;38;5;251m, \u001b[0m\u001b[1;38;5;59m'10'\u001b[0m\u001b[1;38;5;251m, \u001b[0m\u001b[1;38;5;59m'11'\u001b[0m\u001b[1;38;5;251m, \u001b[0m\u001b[1;38;5;59m'12'\u001b[0m\u001b[1;38;5;251m, \u001b[0m\u001b[1;38;5;59m'13'\u001b[0m\u001b[1;38;5;251m]\u001b[0m\u001b[1;38;5;251m                               \u001b[0m\u001b[1;38;5;251m \u001b[0m\u001b]8;id=307792;file:///data/home/cwy/.mylib/miniconda3/envs/3MLpure/lib/python3.9/site-packages/WCDA_hal/HAL.py\u001b\\\u001b[2mHAL.py\u001b[0m\u001b]8;;\u001b\\\u001b[2m:\u001b[0m\u001b]8;id=735353;file:///data/home/cwy/.mylib/miniconda3/envs/3MLpure/lib/python3.9/site-packages/WCDA_hal/HAL.py#323\u001b\\\u001b[2m323\u001b[0m\u001b]8;;\u001b\\\n"
      ]
     },
     "metadata": {},
     "output_type": "display_data"
    },
    {
     "data": {
      "text/html": [
       "<pre style=\"white-space:pre;overflow-x:auto;line-height:normal;font-family:Menlo,'DejaVu Sans Mono',consolas,'Courier New',monospace\"><span style=\"color: #00ff00; text-decoration-color: #00ff00\">17:35:09 </span><span style=\"color: #00ffaf; text-decoration-color: #00ffaf\">INFO    </span> <span style=\"color: #c6c6c6; text-decoration-color: #c6c6c6; font-weight: bold\"> J1848M0001u in model_radius: </span><span style=\"color: #c0c0c0; text-decoration-color: #c0c0c0; font-weight: bold\">7.5</span><span style=\"color: #c6c6c6; text-decoration-color: #c6c6c6; font-weight: bold\"> sf:</span><span style=\"color: #00ff00; text-decoration-color: #00ff00; font-weight: bold; font-style: italic\">True</span><span style=\"color: #c6c6c6; text-decoration-color: #c6c6c6; font-weight: bold\"> pf:</span><span style=\"color: #00ff00; text-decoration-color: #00ff00; font-weight: bold; font-style: italic\">True</span><span style=\"color: #c6c6c6; text-decoration-color: #c6c6c6; font-weight: bold\"> k</span><span style=\"color: #00ff00; text-decoration-color: #00ff00; font-weight: bold\">f:Fa</span><span style=\"color: #c6c6c6; text-decoration-color: #c6c6c6; font-weight: bold\">lse index</span><span style=\"color: #00ff00; text-decoration-color: #00ff00; font-weight: bold\">f:Fa</span><span style=\"color: #c6c6c6; text-decoration-color: #c6c6c6; font-weight: bold\">lse              </span><a href=\"file:///data/home/cwy/Science/3MLWCDA/Standard/src/./mylib/Myfit.py\" target=\"_blank\"><span style=\"color: #7f7f7f; text-decoration-color: #7f7f7f\">Myfit.py</span></a><span style=\"color: #7f7f7f; text-decoration-color: #7f7f7f\">:</span><a href=\"file:///data/home/cwy/Science/3MLWCDA/Standard/src/./mylib/Myfit.py#327\" target=\"_blank\"><span style=\"color: #7f7f7f; text-decoration-color: #7f7f7f\">327</span></a>\n",
       "</pre>\n"
      ],
      "text/plain": [
       "\u001b[38;5;46m17:35:09\u001b[0m\u001b[38;5;46m \u001b[0m\u001b[38;5;49mINFO    \u001b[0m \u001b[1;38;5;251m J1848M0001u in model_radius: \u001b[0m\u001b[1;37m7.5\u001b[0m\u001b[1;38;5;251m sf:\u001b[0m\u001b[1;3;92mTrue\u001b[0m\u001b[1;38;5;251m pf:\u001b[0m\u001b[1;3;92mTrue\u001b[0m\u001b[1;38;5;251m k\u001b[0m\u001b[1;92mf:Fa\u001b[0m\u001b[1;38;5;251mlse index\u001b[0m\u001b[1;92mf:Fa\u001b[0m\u001b[1;38;5;251mlse             \u001b[0m\u001b[1;38;5;251m \u001b[0m\u001b]8;id=259390;file:///data/home/cwy/Science/3MLWCDA/Standard/src/./mylib/Myfit.py\u001b\\\u001b[2mMyfit.py\u001b[0m\u001b]8;;\u001b\\\u001b[2m:\u001b[0m\u001b]8;id=736480;file:///data/home/cwy/Science/3MLWCDA/Standard/src/./mylib/Myfit.py#327\u001b\\\u001b[2m327\u001b[0m\u001b]8;;\u001b\\\n"
      ]
     },
     "metadata": {},
     "output_type": "display_data"
    },
    {
     "data": {
      "text/html": [
       "<pre style=\"white-space:pre;overflow-x:auto;line-height:normal;font-family:Menlo,'DejaVu Sans Mono',consolas,'Courier New',monospace\"><span style=\"color: #00ff00; text-decoration-color: #00ff00\">         </span><span style=\"color: #00ffaf; text-decoration-color: #00ffaf\">INFO    </span> <span style=\"color: #c6c6c6; text-decoration-color: #c6c6c6; font-weight: bold\"> Spec:                                                                               </span><a href=\"file:///data/home/cwy/Science/3MLWCDA/Standard/src/./mylib/Myfit.py\" target=\"_blank\"><span style=\"color: #7f7f7f; text-decoration-color: #7f7f7f\">Myfit.py</span></a><span style=\"color: #7f7f7f; text-decoration-color: #7f7f7f\">:</span><a href=\"file:///data/home/cwy/Science/3MLWCDA/Standard/src/./mylib/Myfit.py#348\" target=\"_blank\"><span style=\"color: #7f7f7f; text-decoration-color: #7f7f7f\">348</span></a>\n",
       "<span style=\"color: #00ff00; text-decoration-color: #00ff00\">         </span>         <span style=\"color: #c6c6c6; text-decoration-color: #c6c6c6; font-weight: bold\"> </span><span style=\"color: #808000; text-decoration-color: #808000; font-weight: bold\">K</span><span style=\"color: #c6c6c6; text-decoration-color: #c6c6c6; font-weight: bold\">=</span><span style=\"color: #c0c0c0; text-decoration-color: #c0c0c0; font-weight: bold\">1</span><span style=\"color: #c0c0c0; text-decoration-color: #c0c0c0; font-weight: bold\">.64e-16</span><span style=\"color: #c6c6c6; text-decoration-color: #c6c6c6; font-weight: bold\"> </span><span style=\"color: #808000; text-decoration-color: #808000; font-weight: bold\">kb</span><span style=\"color: #c6c6c6; text-decoration-color: #c6c6c6; font-weight: bold\">=(</span><span style=\"color: #c0c0c0; text-decoration-color: #c0c0c0; font-weight: bold\">1.64e-18</span><span style=\"color: #c6c6c6; text-decoration-color: #c6c6c6; font-weight: bold\">, </span><span style=\"color: #c0c0c0; text-decoration-color: #c0c0c0; font-weight: bold\">3.64e-16</span><span style=\"color: #c6c6c6; text-decoration-color: #c6c6c6; font-weight: bold\">) </span><span style=\"color: #808000; text-decoration-color: #808000; font-weight: bold\">index</span><span style=\"color: #c6c6c6; text-decoration-color: #c6c6c6; font-weight: bold\">=</span><span style=\"color: #c0c0c0; text-decoration-color: #c0c0c0; font-weight: bold\">-2.75</span><span style=\"color: #c6c6c6; text-decoration-color: #c6c6c6; font-weight: bold\"> </span><span style=\"color: #808000; text-decoration-color: #808000; font-weight: bold\">indexb</span><span style=\"color: #c6c6c6; text-decoration-color: #c6c6c6; font-weight: bold\">=(</span><span style=\"color: #c0c0c0; text-decoration-color: #c0c0c0; font-weight: bold\">-3.45</span><span style=\"color: #c6c6c6; text-decoration-color: #c6c6c6; font-weight: bold\">,</span><span style=\"color: #c0c0c0; text-decoration-color: #c0c0c0; font-weight: bold\">-2.05</span><span style=\"color: #c6c6c6; text-decoration-color: #c6c6c6; font-weight: bold\">)                 </span><span style=\"color: #7f7f7f; text-decoration-color: #7f7f7f\">            </span>\n",
       "</pre>\n"
      ],
      "text/plain": [
       "\u001b[38;5;46m        \u001b[0m\u001b[38;5;46m \u001b[0m\u001b[38;5;49mINFO    \u001b[0m \u001b[1;38;5;251m Spec:                                                                              \u001b[0m\u001b[1;38;5;251m \u001b[0m\u001b]8;id=641535;file:///data/home/cwy/Science/3MLWCDA/Standard/src/./mylib/Myfit.py\u001b\\\u001b[2mMyfit.py\u001b[0m\u001b]8;;\u001b\\\u001b[2m:\u001b[0m\u001b]8;id=612289;file:///data/home/cwy/Science/3MLWCDA/Standard/src/./mylib/Myfit.py#348\u001b\\\u001b[2m348\u001b[0m\u001b]8;;\u001b\\\n",
       "\u001b[38;5;46m         \u001b[0m         \u001b[1;38;5;251m \u001b[0m\u001b[1;33mK\u001b[0m\u001b[1;38;5;251m=\u001b[0m\u001b[1;37m1\u001b[0m\u001b[1;37m.64e-16\u001b[0m\u001b[1;38;5;251m \u001b[0m\u001b[1;33mkb\u001b[0m\u001b[1;38;5;251m=\u001b[0m\u001b[1;38;5;251m(\u001b[0m\u001b[1;37m1.64e-18\u001b[0m\u001b[1;38;5;251m, \u001b[0m\u001b[1;37m3.64e-16\u001b[0m\u001b[1;38;5;251m)\u001b[0m\u001b[1;38;5;251m \u001b[0m\u001b[1;33mindex\u001b[0m\u001b[1;38;5;251m=\u001b[0m\u001b[1;37m-2.75\u001b[0m\u001b[1;38;5;251m \u001b[0m\u001b[1;33mindexb\u001b[0m\u001b[1;38;5;251m=\u001b[0m\u001b[1;38;5;251m(\u001b[0m\u001b[1;37m-3.45\u001b[0m\u001b[1;38;5;251m,\u001b[0m\u001b[1;37m-2.05\u001b[0m\u001b[1;38;5;251m)\u001b[0m\u001b[1;38;5;251m                \u001b[0m\u001b[1;38;5;251m \u001b[0m\u001b[2m            \u001b[0m\n"
      ]
     },
     "metadata": {},
     "output_type": "display_data"
    },
    {
     "data": {
      "text/html": [
       "<pre style=\"white-space:pre;overflow-x:auto;line-height:normal;font-family:Menlo,'DejaVu Sans Mono',consolas,'Courier New',monospace\"><span style=\"color: #00ff00; text-decoration-color: #00ff00\">         </span><span style=\"color: #00ffaf; text-decoration-color: #00ffaf\">INFO    </span> <span style=\"color: #c6c6c6; text-decoration-color: #c6c6c6; font-weight: bold\"> Mor: </span><span style=\"color: #808000; text-decoration-color: #808000; font-weight: bold\">fitrange</span><span style=\"color: #c6c6c6; text-decoration-color: #c6c6c6; font-weight: bold\">=</span><span style=\"color: #c0c0c0; text-decoration-color: #c0c0c0; font-weight: bold\">0</span><span style=\"color: #c0c0c0; text-decoration-color: #c0c0c0; font-weight: bold\">.20</span><span style=\"color: #c6c6c6; text-decoration-color: #c6c6c6; font-weight: bold\">                                                                  </span><a href=\"file:///data/home/cwy/Science/3MLWCDA/Standard/src/./mylib/Myfit.py\" target=\"_blank\"><span style=\"color: #7f7f7f; text-decoration-color: #7f7f7f\">Myfit.py</span></a><span style=\"color: #7f7f7f; text-decoration-color: #7f7f7f\">:</span><a href=\"file:///data/home/cwy/Science/3MLWCDA/Standard/src/./mylib/Myfit.py#358\" target=\"_blank\"><span style=\"color: #7f7f7f; text-decoration-color: #7f7f7f\">358</span></a>\n",
       "</pre>\n"
      ],
      "text/plain": [
       "\u001b[38;5;46m        \u001b[0m\u001b[38;5;46m \u001b[0m\u001b[38;5;49mINFO    \u001b[0m \u001b[1;38;5;251m Mor: \u001b[0m\u001b[1;33mfitrange\u001b[0m\u001b[1;38;5;251m=\u001b[0m\u001b[1;37m0\u001b[0m\u001b[1;37m.20\u001b[0m\u001b[1;38;5;251m                                                                 \u001b[0m\u001b[1;38;5;251m \u001b[0m\u001b]8;id=86734;file:///data/home/cwy/Science/3MLWCDA/Standard/src/./mylib/Myfit.py\u001b\\\u001b[2mMyfit.py\u001b[0m\u001b]8;;\u001b\\\u001b[2m:\u001b[0m\u001b]8;id=257521;file:///data/home/cwy/Science/3MLWCDA/Standard/src/./mylib/Myfit.py#358\u001b\\\u001b[2m358\u001b[0m\u001b]8;;\u001b\\\n"
      ]
     },
     "metadata": {},
     "output_type": "display_data"
    },
    {
     "data": {
      "text/html": [
       "<pre style=\"white-space:pre;overflow-x:auto;line-height:normal;font-family:Menlo,'DejaVu Sans Mono',consolas,'Courier New',monospace\"><span style=\"color: #00ff00; text-decoration-color: #00ff00\">         </span><span style=\"color: #00ffaf; text-decoration-color: #00ffaf\">INFO    </span> <span style=\"color: #c6c6c6; text-decoration-color: #c6c6c6; font-weight: bold\"> J1850M0004u in model_radius: </span><span style=\"color: #c0c0c0; text-decoration-color: #c0c0c0; font-weight: bold\">7.5</span><span style=\"color: #c6c6c6; text-decoration-color: #c6c6c6; font-weight: bold\"> sf:</span><span style=\"color: #00ff00; text-decoration-color: #00ff00; font-weight: bold; font-style: italic\">True</span><span style=\"color: #c6c6c6; text-decoration-color: #c6c6c6; font-weight: bold\"> pf:</span><span style=\"color: #00ff00; text-decoration-color: #00ff00; font-weight: bold; font-style: italic\">True</span><span style=\"color: #c6c6c6; text-decoration-color: #c6c6c6; font-weight: bold\"> k</span><span style=\"color: #00ff00; text-decoration-color: #00ff00; font-weight: bold\">f:Fa</span><span style=\"color: #c6c6c6; text-decoration-color: #c6c6c6; font-weight: bold\">lse index</span><span style=\"color: #00ff00; text-decoration-color: #00ff00; font-weight: bold\">f:Fa</span><span style=\"color: #c6c6c6; text-decoration-color: #c6c6c6; font-weight: bold\">lse              </span><a href=\"file:///data/home/cwy/Science/3MLWCDA/Standard/src/./mylib/Myfit.py\" target=\"_blank\"><span style=\"color: #7f7f7f; text-decoration-color: #7f7f7f\">Myfit.py</span></a><span style=\"color: #7f7f7f; text-decoration-color: #7f7f7f\">:</span><a href=\"file:///data/home/cwy/Science/3MLWCDA/Standard/src/./mylib/Myfit.py#327\" target=\"_blank\"><span style=\"color: #7f7f7f; text-decoration-color: #7f7f7f\">327</span></a>\n",
       "</pre>\n"
      ],
      "text/plain": [
       "\u001b[38;5;46m        \u001b[0m\u001b[38;5;46m \u001b[0m\u001b[38;5;49mINFO    \u001b[0m \u001b[1;38;5;251m J1850M0004u in model_radius: \u001b[0m\u001b[1;37m7.5\u001b[0m\u001b[1;38;5;251m sf:\u001b[0m\u001b[1;3;92mTrue\u001b[0m\u001b[1;38;5;251m pf:\u001b[0m\u001b[1;3;92mTrue\u001b[0m\u001b[1;38;5;251m k\u001b[0m\u001b[1;92mf:Fa\u001b[0m\u001b[1;38;5;251mlse index\u001b[0m\u001b[1;92mf:Fa\u001b[0m\u001b[1;38;5;251mlse             \u001b[0m\u001b[1;38;5;251m \u001b[0m\u001b]8;id=759158;file:///data/home/cwy/Science/3MLWCDA/Standard/src/./mylib/Myfit.py\u001b\\\u001b[2mMyfit.py\u001b[0m\u001b]8;;\u001b\\\u001b[2m:\u001b[0m\u001b]8;id=5020;file:///data/home/cwy/Science/3MLWCDA/Standard/src/./mylib/Myfit.py#327\u001b\\\u001b[2m327\u001b[0m\u001b]8;;\u001b\\\n"
      ]
     },
     "metadata": {},
     "output_type": "display_data"
    },
    {
     "data": {
      "text/html": [
       "<pre style=\"white-space:pre;overflow-x:auto;line-height:normal;font-family:Menlo,'DejaVu Sans Mono',consolas,'Courier New',monospace\"><span style=\"color: #00ff00; text-decoration-color: #00ff00\">         </span><span style=\"color: #00ffaf; text-decoration-color: #00ffaf\">INFO    </span> <span style=\"color: #c6c6c6; text-decoration-color: #c6c6c6; font-weight: bold\"> Spec:                                                                               </span><a href=\"file:///data/home/cwy/Science/3MLWCDA/Standard/src/./mylib/Myfit.py\" target=\"_blank\"><span style=\"color: #7f7f7f; text-decoration-color: #7f7f7f\">Myfit.py</span></a><span style=\"color: #7f7f7f; text-decoration-color: #7f7f7f\">:</span><a href=\"file:///data/home/cwy/Science/3MLWCDA/Standard/src/./mylib/Myfit.py#348\" target=\"_blank\"><span style=\"color: #7f7f7f; text-decoration-color: #7f7f7f\">348</span></a>\n",
       "<span style=\"color: #00ff00; text-decoration-color: #00ff00\">         </span>         <span style=\"color: #c6c6c6; text-decoration-color: #c6c6c6; font-weight: bold\"> </span><span style=\"color: #808000; text-decoration-color: #808000; font-weight: bold\">K</span><span style=\"color: #c6c6c6; text-decoration-color: #c6c6c6; font-weight: bold\">=</span><span style=\"color: #c0c0c0; text-decoration-color: #c0c0c0; font-weight: bold\">1</span><span style=\"color: #c0c0c0; text-decoration-color: #c0c0c0; font-weight: bold\">.86e-16</span><span style=\"color: #c6c6c6; text-decoration-color: #c6c6c6; font-weight: bold\"> </span><span style=\"color: #808000; text-decoration-color: #808000; font-weight: bold\">kb</span><span style=\"color: #c6c6c6; text-decoration-color: #c6c6c6; font-weight: bold\">=(</span><span style=\"color: #c0c0c0; text-decoration-color: #c0c0c0; font-weight: bold\">1.86e-18</span><span style=\"color: #c6c6c6; text-decoration-color: #c6c6c6; font-weight: bold\">, </span><span style=\"color: #c0c0c0; text-decoration-color: #c0c0c0; font-weight: bold\">4.26e-16</span><span style=\"color: #c6c6c6; text-decoration-color: #c6c6c6; font-weight: bold\">) </span><span style=\"color: #808000; text-decoration-color: #808000; font-weight: bold\">index</span><span style=\"color: #c6c6c6; text-decoration-color: #c6c6c6; font-weight: bold\">=</span><span style=\"color: #c0c0c0; text-decoration-color: #c0c0c0; font-weight: bold\">-3.15</span><span style=\"color: #c6c6c6; text-decoration-color: #c6c6c6; font-weight: bold\"> </span><span style=\"color: #808000; text-decoration-color: #808000; font-weight: bold\">indexb</span><span style=\"color: #c6c6c6; text-decoration-color: #c6c6c6; font-weight: bold\">=(</span><span style=\"color: #c0c0c0; text-decoration-color: #c0c0c0; font-weight: bold\">-4.05</span><span style=\"color: #c6c6c6; text-decoration-color: #c6c6c6; font-weight: bold\">,</span><span style=\"color: #c0c0c0; text-decoration-color: #c0c0c0; font-weight: bold\">-2.25</span><span style=\"color: #c6c6c6; text-decoration-color: #c6c6c6; font-weight: bold\">)                 </span><span style=\"color: #7f7f7f; text-decoration-color: #7f7f7f\">            </span>\n",
       "</pre>\n"
      ],
      "text/plain": [
       "\u001b[38;5;46m        \u001b[0m\u001b[38;5;46m \u001b[0m\u001b[38;5;49mINFO    \u001b[0m \u001b[1;38;5;251m Spec:                                                                              \u001b[0m\u001b[1;38;5;251m \u001b[0m\u001b]8;id=99318;file:///data/home/cwy/Science/3MLWCDA/Standard/src/./mylib/Myfit.py\u001b\\\u001b[2mMyfit.py\u001b[0m\u001b]8;;\u001b\\\u001b[2m:\u001b[0m\u001b]8;id=709679;file:///data/home/cwy/Science/3MLWCDA/Standard/src/./mylib/Myfit.py#348\u001b\\\u001b[2m348\u001b[0m\u001b]8;;\u001b\\\n",
       "\u001b[38;5;46m         \u001b[0m         \u001b[1;38;5;251m \u001b[0m\u001b[1;33mK\u001b[0m\u001b[1;38;5;251m=\u001b[0m\u001b[1;37m1\u001b[0m\u001b[1;37m.86e-16\u001b[0m\u001b[1;38;5;251m \u001b[0m\u001b[1;33mkb\u001b[0m\u001b[1;38;5;251m=\u001b[0m\u001b[1;38;5;251m(\u001b[0m\u001b[1;37m1.86e-18\u001b[0m\u001b[1;38;5;251m, \u001b[0m\u001b[1;37m4.26e-16\u001b[0m\u001b[1;38;5;251m)\u001b[0m\u001b[1;38;5;251m \u001b[0m\u001b[1;33mindex\u001b[0m\u001b[1;38;5;251m=\u001b[0m\u001b[1;37m-3.15\u001b[0m\u001b[1;38;5;251m \u001b[0m\u001b[1;33mindexb\u001b[0m\u001b[1;38;5;251m=\u001b[0m\u001b[1;38;5;251m(\u001b[0m\u001b[1;37m-4.05\u001b[0m\u001b[1;38;5;251m,\u001b[0m\u001b[1;37m-2.25\u001b[0m\u001b[1;38;5;251m)\u001b[0m\u001b[1;38;5;251m                \u001b[0m\u001b[1;38;5;251m \u001b[0m\u001b[2m            \u001b[0m\n"
      ]
     },
     "metadata": {},
     "output_type": "display_data"
    },
    {
     "data": {
      "text/html": [
       "<pre style=\"white-space:pre;overflow-x:auto;line-height:normal;font-family:Menlo,'DejaVu Sans Mono',consolas,'Courier New',monospace\"><span style=\"color: #00ff00; text-decoration-color: #00ff00\">         </span><span style=\"color: #00ffaf; text-decoration-color: #00ffaf\">INFO    </span> <span style=\"color: #c6c6c6; text-decoration-color: #c6c6c6; font-weight: bold\"> Mor:                                                                                </span><a href=\"file:///data/home/cwy/Science/3MLWCDA/Standard/src/./mylib/Myfit.py\" target=\"_blank\"><span style=\"color: #7f7f7f; text-decoration-color: #7f7f7f\">Myfit.py</span></a><span style=\"color: #7f7f7f; text-decoration-color: #7f7f7f\">:</span><a href=\"file:///data/home/cwy/Science/3MLWCDA/Standard/src/./mylib/Myfit.py#350\" target=\"_blank\"><span style=\"color: #7f7f7f; text-decoration-color: #7f7f7f\">350</span></a>\n",
       "<span style=\"color: #00ff00; text-decoration-color: #00ff00\">         </span>         <span style=\"color: #c6c6c6; text-decoration-color: #c6c6c6; font-weight: bold\"> </span><span style=\"color: #808000; text-decoration-color: #808000; font-weight: bold\">sigma</span><span style=\"color: #c6c6c6; text-decoration-color: #c6c6c6; font-weight: bold\">=</span><span style=\"color: #c0c0c0; text-decoration-color: #c0c0c0; font-weight: bold\">0</span><span style=\"color: #c0c0c0; text-decoration-color: #c0c0c0; font-weight: bold\">.21</span><span style=\"color: #c6c6c6; text-decoration-color: #c6c6c6; font-weight: bold\"> </span><span style=\"color: #808000; text-decoration-color: #808000; font-weight: bold\">sb</span><span style=\"color: #c6c6c6; text-decoration-color: #c6c6c6; font-weight: bold\">=(</span><span style=\"color: #c0c0c0; text-decoration-color: #c0c0c0; font-weight: bold\">0.06</span><span style=\"color: #c6c6c6; text-decoration-color: #c6c6c6; font-weight: bold\">,</span><span style=\"color: #c0c0c0; text-decoration-color: #c0c0c0; font-weight: bold\">0.36</span><span style=\"color: #c6c6c6; text-decoration-color: #c6c6c6; font-weight: bold\">) </span><span style=\"color: #808000; text-decoration-color: #808000; font-weight: bold\">fitrange</span><span style=\"color: #c6c6c6; text-decoration-color: #c6c6c6; font-weight: bold\">=</span><span style=\"color: #c0c0c0; text-decoration-color: #c0c0c0; font-weight: bold\">0</span><span style=\"color: #c0c0c0; text-decoration-color: #c0c0c0; font-weight: bold\">.35</span><span style=\"color: #c6c6c6; text-decoration-color: #c6c6c6; font-weight: bold\">                                             </span><span style=\"color: #7f7f7f; text-decoration-color: #7f7f7f\">            </span>\n",
       "</pre>\n"
      ],
      "text/plain": [
       "\u001b[38;5;46m        \u001b[0m\u001b[38;5;46m \u001b[0m\u001b[38;5;49mINFO    \u001b[0m \u001b[1;38;5;251m Mor:                                                                               \u001b[0m\u001b[1;38;5;251m \u001b[0m\u001b]8;id=431723;file:///data/home/cwy/Science/3MLWCDA/Standard/src/./mylib/Myfit.py\u001b\\\u001b[2mMyfit.py\u001b[0m\u001b]8;;\u001b\\\u001b[2m:\u001b[0m\u001b]8;id=395275;file:///data/home/cwy/Science/3MLWCDA/Standard/src/./mylib/Myfit.py#350\u001b\\\u001b[2m350\u001b[0m\u001b]8;;\u001b\\\n",
       "\u001b[38;5;46m         \u001b[0m         \u001b[1;38;5;251m \u001b[0m\u001b[1;33msigma\u001b[0m\u001b[1;38;5;251m=\u001b[0m\u001b[1;37m0\u001b[0m\u001b[1;37m.21\u001b[0m\u001b[1;38;5;251m \u001b[0m\u001b[1;33msb\u001b[0m\u001b[1;38;5;251m=\u001b[0m\u001b[1;38;5;251m(\u001b[0m\u001b[1;37m0.06\u001b[0m\u001b[1;38;5;251m,\u001b[0m\u001b[1;37m0.36\u001b[0m\u001b[1;38;5;251m)\u001b[0m\u001b[1;38;5;251m \u001b[0m\u001b[1;33mfitrange\u001b[0m\u001b[1;38;5;251m=\u001b[0m\u001b[1;37m0\u001b[0m\u001b[1;37m.35\u001b[0m\u001b[1;38;5;251m                                            \u001b[0m\u001b[1;38;5;251m \u001b[0m\u001b[2m            \u001b[0m\n"
      ]
     },
     "metadata": {},
     "output_type": "display_data"
    },
    {
     "data": {
      "text/html": [
       "<pre style=\"white-space:pre;overflow-x:auto;line-height:normal;font-family:Menlo,'DejaVu Sans Mono',consolas,'Courier New',monospace\"><span style=\"color: #00ff00; text-decoration-color: #00ff00\">         </span><span style=\"color: #00ffaf; text-decoration-color: #00ffaf\">INFO    </span> <span style=\"color: #c6c6c6; text-decoration-color: #c6c6c6; font-weight: bold\"> J1852P0050u in model_radius: </span><span style=\"color: #c0c0c0; text-decoration-color: #c0c0c0; font-weight: bold\">7.5</span><span style=\"color: #c6c6c6; text-decoration-color: #c6c6c6; font-weight: bold\"> sf:</span><span style=\"color: #00ff00; text-decoration-color: #00ff00; font-weight: bold; font-style: italic\">True</span><span style=\"color: #c6c6c6; text-decoration-color: #c6c6c6; font-weight: bold\"> pf:</span><span style=\"color: #00ff00; text-decoration-color: #00ff00; font-weight: bold; font-style: italic\">True</span><span style=\"color: #c6c6c6; text-decoration-color: #c6c6c6; font-weight: bold\"> k</span><span style=\"color: #00ff00; text-decoration-color: #00ff00; font-weight: bold\">f:Fa</span><span style=\"color: #c6c6c6; text-decoration-color: #c6c6c6; font-weight: bold\">lse index</span><span style=\"color: #00ff00; text-decoration-color: #00ff00; font-weight: bold\">f:Fa</span><span style=\"color: #c6c6c6; text-decoration-color: #c6c6c6; font-weight: bold\">lse              </span><a href=\"file:///data/home/cwy/Science/3MLWCDA/Standard/src/./mylib/Myfit.py\" target=\"_blank\"><span style=\"color: #7f7f7f; text-decoration-color: #7f7f7f\">Myfit.py</span></a><span style=\"color: #7f7f7f; text-decoration-color: #7f7f7f\">:</span><a href=\"file:///data/home/cwy/Science/3MLWCDA/Standard/src/./mylib/Myfit.py#327\" target=\"_blank\"><span style=\"color: #7f7f7f; text-decoration-color: #7f7f7f\">327</span></a>\n",
       "</pre>\n"
      ],
      "text/plain": [
       "\u001b[38;5;46m        \u001b[0m\u001b[38;5;46m \u001b[0m\u001b[38;5;49mINFO    \u001b[0m \u001b[1;38;5;251m J1852P0050u in model_radius: \u001b[0m\u001b[1;37m7.5\u001b[0m\u001b[1;38;5;251m sf:\u001b[0m\u001b[1;3;92mTrue\u001b[0m\u001b[1;38;5;251m pf:\u001b[0m\u001b[1;3;92mTrue\u001b[0m\u001b[1;38;5;251m k\u001b[0m\u001b[1;92mf:Fa\u001b[0m\u001b[1;38;5;251mlse index\u001b[0m\u001b[1;92mf:Fa\u001b[0m\u001b[1;38;5;251mlse             \u001b[0m\u001b[1;38;5;251m \u001b[0m\u001b]8;id=767703;file:///data/home/cwy/Science/3MLWCDA/Standard/src/./mylib/Myfit.py\u001b\\\u001b[2mMyfit.py\u001b[0m\u001b]8;;\u001b\\\u001b[2m:\u001b[0m\u001b]8;id=50985;file:///data/home/cwy/Science/3MLWCDA/Standard/src/./mylib/Myfit.py#327\u001b\\\u001b[2m327\u001b[0m\u001b]8;;\u001b\\\n"
      ]
     },
     "metadata": {},
     "output_type": "display_data"
    },
    {
     "data": {
      "text/html": [
       "<pre style=\"white-space:pre;overflow-x:auto;line-height:normal;font-family:Menlo,'DejaVu Sans Mono',consolas,'Courier New',monospace\"><span style=\"color: #00ff00; text-decoration-color: #00ff00\">         </span><span style=\"color: #00ffaf; text-decoration-color: #00ffaf\">INFO    </span> <span style=\"color: #c6c6c6; text-decoration-color: #c6c6c6; font-weight: bold\"> Spec:                                                                               </span><a href=\"file:///data/home/cwy/Science/3MLWCDA/Standard/src/./mylib/Myfit.py\" target=\"_blank\"><span style=\"color: #7f7f7f; text-decoration-color: #7f7f7f\">Myfit.py</span></a><span style=\"color: #7f7f7f; text-decoration-color: #7f7f7f\">:</span><a href=\"file:///data/home/cwy/Science/3MLWCDA/Standard/src/./mylib/Myfit.py#348\" target=\"_blank\"><span style=\"color: #7f7f7f; text-decoration-color: #7f7f7f\">348</span></a>\n",
       "<span style=\"color: #00ff00; text-decoration-color: #00ff00\">         </span>         <span style=\"color: #c6c6c6; text-decoration-color: #c6c6c6; font-weight: bold\"> </span><span style=\"color: #808000; text-decoration-color: #808000; font-weight: bold\">K</span><span style=\"color: #c6c6c6; text-decoration-color: #c6c6c6; font-weight: bold\">=</span><span style=\"color: #c0c0c0; text-decoration-color: #c0c0c0; font-weight: bold\">3</span><span style=\"color: #c0c0c0; text-decoration-color: #c0c0c0; font-weight: bold\">.22e-16</span><span style=\"color: #c6c6c6; text-decoration-color: #c6c6c6; font-weight: bold\"> </span><span style=\"color: #808000; text-decoration-color: #808000; font-weight: bold\">kb</span><span style=\"color: #c6c6c6; text-decoration-color: #c6c6c6; font-weight: bold\">=(</span><span style=\"color: #c0c0c0; text-decoration-color: #c0c0c0; font-weight: bold\">3.22e-18</span><span style=\"color: #c6c6c6; text-decoration-color: #c6c6c6; font-weight: bold\">, </span><span style=\"color: #c0c0c0; text-decoration-color: #c0c0c0; font-weight: bold\">7.62e-16</span><span style=\"color: #c6c6c6; text-decoration-color: #c6c6c6; font-weight: bold\">) </span><span style=\"color: #808000; text-decoration-color: #808000; font-weight: bold\">index</span><span style=\"color: #c6c6c6; text-decoration-color: #c6c6c6; font-weight: bold\">=</span><span style=\"color: #c0c0c0; text-decoration-color: #c0c0c0; font-weight: bold\">-3.64</span><span style=\"color: #c6c6c6; text-decoration-color: #c6c6c6; font-weight: bold\"> </span><span style=\"color: #808000; text-decoration-color: #808000; font-weight: bold\">indexb</span><span style=\"color: #c6c6c6; text-decoration-color: #c6c6c6; font-weight: bold\">=(</span><span style=\"color: #c0c0c0; text-decoration-color: #c0c0c0; font-weight: bold\">-4.84</span><span style=\"color: #c6c6c6; text-decoration-color: #c6c6c6; font-weight: bold\">,</span><span style=\"color: #c0c0c0; text-decoration-color: #c0c0c0; font-weight: bold\">-2.44</span><span style=\"color: #c6c6c6; text-decoration-color: #c6c6c6; font-weight: bold\">)                 </span><span style=\"color: #7f7f7f; text-decoration-color: #7f7f7f\">            </span>\n",
       "</pre>\n"
      ],
      "text/plain": [
       "\u001b[38;5;46m        \u001b[0m\u001b[38;5;46m \u001b[0m\u001b[38;5;49mINFO    \u001b[0m \u001b[1;38;5;251m Spec:                                                                              \u001b[0m\u001b[1;38;5;251m \u001b[0m\u001b]8;id=328969;file:///data/home/cwy/Science/3MLWCDA/Standard/src/./mylib/Myfit.py\u001b\\\u001b[2mMyfit.py\u001b[0m\u001b]8;;\u001b\\\u001b[2m:\u001b[0m\u001b]8;id=957708;file:///data/home/cwy/Science/3MLWCDA/Standard/src/./mylib/Myfit.py#348\u001b\\\u001b[2m348\u001b[0m\u001b]8;;\u001b\\\n",
       "\u001b[38;5;46m         \u001b[0m         \u001b[1;38;5;251m \u001b[0m\u001b[1;33mK\u001b[0m\u001b[1;38;5;251m=\u001b[0m\u001b[1;37m3\u001b[0m\u001b[1;37m.22e-16\u001b[0m\u001b[1;38;5;251m \u001b[0m\u001b[1;33mkb\u001b[0m\u001b[1;38;5;251m=\u001b[0m\u001b[1;38;5;251m(\u001b[0m\u001b[1;37m3.22e-18\u001b[0m\u001b[1;38;5;251m, \u001b[0m\u001b[1;37m7.62e-16\u001b[0m\u001b[1;38;5;251m)\u001b[0m\u001b[1;38;5;251m \u001b[0m\u001b[1;33mindex\u001b[0m\u001b[1;38;5;251m=\u001b[0m\u001b[1;37m-3.64\u001b[0m\u001b[1;38;5;251m \u001b[0m\u001b[1;33mindexb\u001b[0m\u001b[1;38;5;251m=\u001b[0m\u001b[1;38;5;251m(\u001b[0m\u001b[1;37m-4.84\u001b[0m\u001b[1;38;5;251m,\u001b[0m\u001b[1;37m-2.44\u001b[0m\u001b[1;38;5;251m)\u001b[0m\u001b[1;38;5;251m                \u001b[0m\u001b[1;38;5;251m \u001b[0m\u001b[2m            \u001b[0m\n"
      ]
     },
     "metadata": {},
     "output_type": "display_data"
    },
    {
     "data": {
      "text/html": [
       "<pre style=\"white-space:pre;overflow-x:auto;line-height:normal;font-family:Menlo,'DejaVu Sans Mono',consolas,'Courier New',monospace\"><span style=\"color: #00ff00; text-decoration-color: #00ff00\">         </span><span style=\"color: #00ffaf; text-decoration-color: #00ffaf\">INFO    </span> <span style=\"color: #c6c6c6; text-decoration-color: #c6c6c6; font-weight: bold\"> Mor:                                                                                </span><a href=\"file:///data/home/cwy/Science/3MLWCDA/Standard/src/./mylib/Myfit.py\" target=\"_blank\"><span style=\"color: #7f7f7f; text-decoration-color: #7f7f7f\">Myfit.py</span></a><span style=\"color: #7f7f7f; text-decoration-color: #7f7f7f\">:</span><a href=\"file:///data/home/cwy/Science/3MLWCDA/Standard/src/./mylib/Myfit.py#350\" target=\"_blank\"><span style=\"color: #7f7f7f; text-decoration-color: #7f7f7f\">350</span></a>\n",
       "<span style=\"color: #00ff00; text-decoration-color: #00ff00\">         </span>         <span style=\"color: #c6c6c6; text-decoration-color: #c6c6c6; font-weight: bold\"> </span><span style=\"color: #808000; text-decoration-color: #808000; font-weight: bold\">sigma</span><span style=\"color: #c6c6c6; text-decoration-color: #c6c6c6; font-weight: bold\">=</span><span style=\"color: #c0c0c0; text-decoration-color: #c0c0c0; font-weight: bold\">0</span><span style=\"color: #c0c0c0; text-decoration-color: #c0c0c0; font-weight: bold\">.85</span><span style=\"color: #c6c6c6; text-decoration-color: #c6c6c6; font-weight: bold\"> </span><span style=\"color: #808000; text-decoration-color: #808000; font-weight: bold\">sb</span><span style=\"color: #c6c6c6; text-decoration-color: #c6c6c6; font-weight: bold\">=(</span><span style=\"color: #c0c0c0; text-decoration-color: #c0c0c0; font-weight: bold\">0.55</span><span style=\"color: #c6c6c6; text-decoration-color: #c6c6c6; font-weight: bold\">,</span><span style=\"color: #c0c0c0; text-decoration-color: #c0c0c0; font-weight: bold\">1.15</span><span style=\"color: #c6c6c6; text-decoration-color: #c6c6c6; font-weight: bold\">) </span><span style=\"color: #808000; text-decoration-color: #808000; font-weight: bold\">fitrange</span><span style=\"color: #c6c6c6; text-decoration-color: #c6c6c6; font-weight: bold\">=</span><span style=\"color: #c0c0c0; text-decoration-color: #c0c0c0; font-weight: bold\">1</span><span style=\"color: #c0c0c0; text-decoration-color: #c0c0c0; font-weight: bold\">.30</span><span style=\"color: #c6c6c6; text-decoration-color: #c6c6c6; font-weight: bold\">                                             </span><span style=\"color: #7f7f7f; text-decoration-color: #7f7f7f\">            </span>\n",
       "</pre>\n"
      ],
      "text/plain": [
       "\u001b[38;5;46m        \u001b[0m\u001b[38;5;46m \u001b[0m\u001b[38;5;49mINFO    \u001b[0m \u001b[1;38;5;251m Mor:                                                                               \u001b[0m\u001b[1;38;5;251m \u001b[0m\u001b]8;id=580388;file:///data/home/cwy/Science/3MLWCDA/Standard/src/./mylib/Myfit.py\u001b\\\u001b[2mMyfit.py\u001b[0m\u001b]8;;\u001b\\\u001b[2m:\u001b[0m\u001b]8;id=341036;file:///data/home/cwy/Science/3MLWCDA/Standard/src/./mylib/Myfit.py#350\u001b\\\u001b[2m350\u001b[0m\u001b]8;;\u001b\\\n",
       "\u001b[38;5;46m         \u001b[0m         \u001b[1;38;5;251m \u001b[0m\u001b[1;33msigma\u001b[0m\u001b[1;38;5;251m=\u001b[0m\u001b[1;37m0\u001b[0m\u001b[1;37m.85\u001b[0m\u001b[1;38;5;251m \u001b[0m\u001b[1;33msb\u001b[0m\u001b[1;38;5;251m=\u001b[0m\u001b[1;38;5;251m(\u001b[0m\u001b[1;37m0.55\u001b[0m\u001b[1;38;5;251m,\u001b[0m\u001b[1;37m1.15\u001b[0m\u001b[1;38;5;251m)\u001b[0m\u001b[1;38;5;251m \u001b[0m\u001b[1;33mfitrange\u001b[0m\u001b[1;38;5;251m=\u001b[0m\u001b[1;37m1\u001b[0m\u001b[1;37m.30\u001b[0m\u001b[1;38;5;251m                                            \u001b[0m\u001b[1;38;5;251m \u001b[0m\u001b[2m            \u001b[0m\n"
      ]
     },
     "metadata": {},
     "output_type": "display_data"
    },
    {
     "data": {
      "text/html": [
       "<pre style=\"white-space:pre;overflow-x:auto;line-height:normal;font-family:Menlo,'DejaVu Sans Mono',consolas,'Courier New',monospace\"><span style=\"color: #00ff00; text-decoration-color: #00ff00\">         </span><span style=\"color: #00ffaf; text-decoration-color: #00ffaf\">INFO    </span> <span style=\"color: #c6c6c6; text-decoration-color: #c6c6c6; font-weight: bold\"> J1857P0203u in roi: </span><span style=\"color: #c0c0c0; text-decoration-color: #c0c0c0; font-weight: bold\">7.0</span><span style=\"color: #c6c6c6; text-decoration-color: #c6c6c6; font-weight: bold\"> sf:</span><span style=\"color: #00ff00; text-decoration-color: #00ff00; font-weight: bold; font-style: italic\">True</span><span style=\"color: #c6c6c6; text-decoration-color: #c6c6c6; font-weight: bold\"> pf:</span><span style=\"color: #00ff00; text-decoration-color: #00ff00; font-weight: bold; font-style: italic\">True</span><span style=\"color: #c6c6c6; text-decoration-color: #c6c6c6; font-weight: bold\"> k</span><span style=\"color: #00ff00; text-decoration-color: #00ff00; font-weight: bold\">f:Fa</span><span style=\"color: #c6c6c6; text-decoration-color: #c6c6c6; font-weight: bold\">lse index</span><span style=\"color: #00ff00; text-decoration-color: #00ff00; font-weight: bold\">f:Fa</span><span style=\"color: #c6c6c6; text-decoration-color: #c6c6c6; font-weight: bold\">lse                       </span><a href=\"file:///data/home/cwy/Science/3MLWCDA/Standard/src/./mylib/Myfit.py\" target=\"_blank\"><span style=\"color: #7f7f7f; text-decoration-color: #7f7f7f\">Myfit.py</span></a><span style=\"color: #7f7f7f; text-decoration-color: #7f7f7f\">:</span><a href=\"file:///data/home/cwy/Science/3MLWCDA/Standard/src/./mylib/Myfit.py#320\" target=\"_blank\"><span style=\"color: #7f7f7f; text-decoration-color: #7f7f7f\">320</span></a>\n",
       "</pre>\n"
      ],
      "text/plain": [
       "\u001b[38;5;46m        \u001b[0m\u001b[38;5;46m \u001b[0m\u001b[38;5;49mINFO    \u001b[0m \u001b[1;38;5;251m J1857P0203u in roi: \u001b[0m\u001b[1;37m7.0\u001b[0m\u001b[1;38;5;251m sf:\u001b[0m\u001b[1;3;92mTrue\u001b[0m\u001b[1;38;5;251m pf:\u001b[0m\u001b[1;3;92mTrue\u001b[0m\u001b[1;38;5;251m k\u001b[0m\u001b[1;92mf:Fa\u001b[0m\u001b[1;38;5;251mlse index\u001b[0m\u001b[1;92mf:Fa\u001b[0m\u001b[1;38;5;251mlse                      \u001b[0m\u001b[1;38;5;251m \u001b[0m\u001b]8;id=1323;file:///data/home/cwy/Science/3MLWCDA/Standard/src/./mylib/Myfit.py\u001b\\\u001b[2mMyfit.py\u001b[0m\u001b]8;;\u001b\\\u001b[2m:\u001b[0m\u001b]8;id=638902;file:///data/home/cwy/Science/3MLWCDA/Standard/src/./mylib/Myfit.py#320\u001b\\\u001b[2m320\u001b[0m\u001b]8;;\u001b\\\n"
      ]
     },
     "metadata": {},
     "output_type": "display_data"
    },
    {
     "data": {
      "text/html": [
       "<pre style=\"white-space:pre;overflow-x:auto;line-height:normal;font-family:Menlo,'DejaVu Sans Mono',consolas,'Courier New',monospace\"><span style=\"color: #00ff00; text-decoration-color: #00ff00\">         </span><span style=\"color: #00ffaf; text-decoration-color: #00ffaf\">INFO    </span> <span style=\"color: #c6c6c6; text-decoration-color: #c6c6c6; font-weight: bold\"> Spec:                                                                               </span><a href=\"file:///data/home/cwy/Science/3MLWCDA/Standard/src/./mylib/Myfit.py\" target=\"_blank\"><span style=\"color: #7f7f7f; text-decoration-color: #7f7f7f\">Myfit.py</span></a><span style=\"color: #7f7f7f; text-decoration-color: #7f7f7f\">:</span><a href=\"file:///data/home/cwy/Science/3MLWCDA/Standard/src/./mylib/Myfit.py#348\" target=\"_blank\"><span style=\"color: #7f7f7f; text-decoration-color: #7f7f7f\">348</span></a>\n",
       "<span style=\"color: #00ff00; text-decoration-color: #00ff00\">         </span>         <span style=\"color: #c6c6c6; text-decoration-color: #c6c6c6; font-weight: bold\"> </span><span style=\"color: #808000; text-decoration-color: #808000; font-weight: bold\">K</span><span style=\"color: #c6c6c6; text-decoration-color: #c6c6c6; font-weight: bold\">=</span><span style=\"color: #c0c0c0; text-decoration-color: #c0c0c0; font-weight: bold\">1</span><span style=\"color: #c0c0c0; text-decoration-color: #c0c0c0; font-weight: bold\">.78e-16</span><span style=\"color: #c6c6c6; text-decoration-color: #c6c6c6; font-weight: bold\"> </span><span style=\"color: #808000; text-decoration-color: #808000; font-weight: bold\">kb</span><span style=\"color: #c6c6c6; text-decoration-color: #c6c6c6; font-weight: bold\">=(</span><span style=\"color: #c0c0c0; text-decoration-color: #c0c0c0; font-weight: bold\">1.78e-18</span><span style=\"color: #c6c6c6; text-decoration-color: #c6c6c6; font-weight: bold\">, </span><span style=\"color: #c0c0c0; text-decoration-color: #c0c0c0; font-weight: bold\">3.78e-16</span><span style=\"color: #c6c6c6; text-decoration-color: #c6c6c6; font-weight: bold\">) </span><span style=\"color: #808000; text-decoration-color: #808000; font-weight: bold\">index</span><span style=\"color: #c6c6c6; text-decoration-color: #c6c6c6; font-weight: bold\">=</span><span style=\"color: #c0c0c0; text-decoration-color: #c0c0c0; font-weight: bold\">-3.31</span><span style=\"color: #c6c6c6; text-decoration-color: #c6c6c6; font-weight: bold\"> </span><span style=\"color: #808000; text-decoration-color: #808000; font-weight: bold\">indexb</span><span style=\"color: #c6c6c6; text-decoration-color: #c6c6c6; font-weight: bold\">=(</span><span style=\"color: #c0c0c0; text-decoration-color: #c0c0c0; font-weight: bold\">-4.31</span><span style=\"color: #c6c6c6; text-decoration-color: #c6c6c6; font-weight: bold\">,</span><span style=\"color: #c0c0c0; text-decoration-color: #c0c0c0; font-weight: bold\">-2.31</span><span style=\"color: #c6c6c6; text-decoration-color: #c6c6c6; font-weight: bold\">)                 </span><span style=\"color: #7f7f7f; text-decoration-color: #7f7f7f\">            </span>\n",
       "</pre>\n"
      ],
      "text/plain": [
       "\u001b[38;5;46m        \u001b[0m\u001b[38;5;46m \u001b[0m\u001b[38;5;49mINFO    \u001b[0m \u001b[1;38;5;251m Spec:                                                                              \u001b[0m\u001b[1;38;5;251m \u001b[0m\u001b]8;id=429941;file:///data/home/cwy/Science/3MLWCDA/Standard/src/./mylib/Myfit.py\u001b\\\u001b[2mMyfit.py\u001b[0m\u001b]8;;\u001b\\\u001b[2m:\u001b[0m\u001b]8;id=234422;file:///data/home/cwy/Science/3MLWCDA/Standard/src/./mylib/Myfit.py#348\u001b\\\u001b[2m348\u001b[0m\u001b]8;;\u001b\\\n",
       "\u001b[38;5;46m         \u001b[0m         \u001b[1;38;5;251m \u001b[0m\u001b[1;33mK\u001b[0m\u001b[1;38;5;251m=\u001b[0m\u001b[1;37m1\u001b[0m\u001b[1;37m.78e-16\u001b[0m\u001b[1;38;5;251m \u001b[0m\u001b[1;33mkb\u001b[0m\u001b[1;38;5;251m=\u001b[0m\u001b[1;38;5;251m(\u001b[0m\u001b[1;37m1.78e-18\u001b[0m\u001b[1;38;5;251m, \u001b[0m\u001b[1;37m3.78e-16\u001b[0m\u001b[1;38;5;251m)\u001b[0m\u001b[1;38;5;251m \u001b[0m\u001b[1;33mindex\u001b[0m\u001b[1;38;5;251m=\u001b[0m\u001b[1;37m-3.31\u001b[0m\u001b[1;38;5;251m \u001b[0m\u001b[1;33mindexb\u001b[0m\u001b[1;38;5;251m=\u001b[0m\u001b[1;38;5;251m(\u001b[0m\u001b[1;37m-4.31\u001b[0m\u001b[1;38;5;251m,\u001b[0m\u001b[1;37m-2.31\u001b[0m\u001b[1;38;5;251m)\u001b[0m\u001b[1;38;5;251m                \u001b[0m\u001b[1;38;5;251m \u001b[0m\u001b[2m            \u001b[0m\n"
      ]
     },
     "metadata": {},
     "output_type": "display_data"
    },
    {
     "data": {
      "text/html": [
       "<pre style=\"white-space:pre;overflow-x:auto;line-height:normal;font-family:Menlo,'DejaVu Sans Mono',consolas,'Courier New',monospace\"><span style=\"color: #00ff00; text-decoration-color: #00ff00\">         </span><span style=\"color: #00ffaf; text-decoration-color: #00ffaf\">INFO    </span> <span style=\"color: #c6c6c6; text-decoration-color: #c6c6c6; font-weight: bold\"> Mor:                                                                                </span><a href=\"file:///data/home/cwy/Science/3MLWCDA/Standard/src/./mylib/Myfit.py\" target=\"_blank\"><span style=\"color: #7f7f7f; text-decoration-color: #7f7f7f\">Myfit.py</span></a><span style=\"color: #7f7f7f; text-decoration-color: #7f7f7f\">:</span><a href=\"file:///data/home/cwy/Science/3MLWCDA/Standard/src/./mylib/Myfit.py#350\" target=\"_blank\"><span style=\"color: #7f7f7f; text-decoration-color: #7f7f7f\">350</span></a>\n",
       "<span style=\"color: #00ff00; text-decoration-color: #00ff00\">         </span>         <span style=\"color: #c6c6c6; text-decoration-color: #c6c6c6; font-weight: bold\"> </span><span style=\"color: #808000; text-decoration-color: #808000; font-weight: bold\">sigma</span><span style=\"color: #c6c6c6; text-decoration-color: #c6c6c6; font-weight: bold\">=</span><span style=\"color: #c0c0c0; text-decoration-color: #c0c0c0; font-weight: bold\">0</span><span style=\"color: #c0c0c0; text-decoration-color: #c0c0c0; font-weight: bold\">.28</span><span style=\"color: #c6c6c6; text-decoration-color: #c6c6c6; font-weight: bold\"> </span><span style=\"color: #808000; text-decoration-color: #808000; font-weight: bold\">sb</span><span style=\"color: #c6c6c6; text-decoration-color: #c6c6c6; font-weight: bold\">=(</span><span style=\"color: #c0c0c0; text-decoration-color: #c0c0c0; font-weight: bold\">0.13</span><span style=\"color: #c6c6c6; text-decoration-color: #c6c6c6; font-weight: bold\">,</span><span style=\"color: #c0c0c0; text-decoration-color: #c0c0c0; font-weight: bold\">0.43</span><span style=\"color: #c6c6c6; text-decoration-color: #c6c6c6; font-weight: bold\">) </span><span style=\"color: #808000; text-decoration-color: #808000; font-weight: bold\">fitrange</span><span style=\"color: #c6c6c6; text-decoration-color: #c6c6c6; font-weight: bold\">=</span><span style=\"color: #c0c0c0; text-decoration-color: #c0c0c0; font-weight: bold\">0</span><span style=\"color: #c0c0c0; text-decoration-color: #c0c0c0; font-weight: bold\">.35</span><span style=\"color: #c6c6c6; text-decoration-color: #c6c6c6; font-weight: bold\">                                             </span><span style=\"color: #7f7f7f; text-decoration-color: #7f7f7f\">            </span>\n",
       "</pre>\n"
      ],
      "text/plain": [
       "\u001b[38;5;46m        \u001b[0m\u001b[38;5;46m \u001b[0m\u001b[38;5;49mINFO    \u001b[0m \u001b[1;38;5;251m Mor:                                                                               \u001b[0m\u001b[1;38;5;251m \u001b[0m\u001b]8;id=321963;file:///data/home/cwy/Science/3MLWCDA/Standard/src/./mylib/Myfit.py\u001b\\\u001b[2mMyfit.py\u001b[0m\u001b]8;;\u001b\\\u001b[2m:\u001b[0m\u001b]8;id=712902;file:///data/home/cwy/Science/3MLWCDA/Standard/src/./mylib/Myfit.py#350\u001b\\\u001b[2m350\u001b[0m\u001b]8;;\u001b\\\n",
       "\u001b[38;5;46m         \u001b[0m         \u001b[1;38;5;251m \u001b[0m\u001b[1;33msigma\u001b[0m\u001b[1;38;5;251m=\u001b[0m\u001b[1;37m0\u001b[0m\u001b[1;37m.28\u001b[0m\u001b[1;38;5;251m \u001b[0m\u001b[1;33msb\u001b[0m\u001b[1;38;5;251m=\u001b[0m\u001b[1;38;5;251m(\u001b[0m\u001b[1;37m0.13\u001b[0m\u001b[1;38;5;251m,\u001b[0m\u001b[1;37m0.43\u001b[0m\u001b[1;38;5;251m)\u001b[0m\u001b[1;38;5;251m \u001b[0m\u001b[1;33mfitrange\u001b[0m\u001b[1;38;5;251m=\u001b[0m\u001b[1;37m0\u001b[0m\u001b[1;37m.35\u001b[0m\u001b[1;38;5;251m                                            \u001b[0m\u001b[1;38;5;251m \u001b[0m\u001b[2m            \u001b[0m\n"
      ]
     },
     "metadata": {},
     "output_type": "display_data"
    },
    {
     "data": {
      "text/html": [
       "<pre style=\"white-space:pre;overflow-x:auto;line-height:normal;font-family:Menlo,'DejaVu Sans Mono',consolas,'Courier New',monospace\"><span style=\"color: #00ff00; text-decoration-color: #00ff00\">         </span><span style=\"color: #00ffaf; text-decoration-color: #00ffaf\">INFO    </span> <span style=\"color: #c6c6c6; text-decoration-color: #c6c6c6; font-weight: bold\"> J1858P0330 in roi: </span><span style=\"color: #c0c0c0; text-decoration-color: #c0c0c0; font-weight: bold\">7.0</span><span style=\"color: #c6c6c6; text-decoration-color: #c6c6c6; font-weight: bold\"> sf:</span><span style=\"color: #00ff00; text-decoration-color: #00ff00; font-weight: bold; font-style: italic\">True</span><span style=\"color: #c6c6c6; text-decoration-color: #c6c6c6; font-weight: bold\"> pf:</span><span style=\"color: #00ff00; text-decoration-color: #00ff00; font-weight: bold; font-style: italic\">True</span><span style=\"color: #c6c6c6; text-decoration-color: #c6c6c6; font-weight: bold\"> k</span><span style=\"color: #00ff00; text-decoration-color: #00ff00; font-weight: bold\">f:Fa</span><span style=\"color: #c6c6c6; text-decoration-color: #c6c6c6; font-weight: bold\">lse index</span><span style=\"color: #00ff00; text-decoration-color: #00ff00; font-weight: bold\">f:Fa</span><span style=\"color: #c6c6c6; text-decoration-color: #c6c6c6; font-weight: bold\">lse                        </span><a href=\"file:///data/home/cwy/Science/3MLWCDA/Standard/src/./mylib/Myfit.py\" target=\"_blank\"><span style=\"color: #7f7f7f; text-decoration-color: #7f7f7f\">Myfit.py</span></a><span style=\"color: #7f7f7f; text-decoration-color: #7f7f7f\">:</span><a href=\"file:///data/home/cwy/Science/3MLWCDA/Standard/src/./mylib/Myfit.py#320\" target=\"_blank\"><span style=\"color: #7f7f7f; text-decoration-color: #7f7f7f\">320</span></a>\n",
       "</pre>\n"
      ],
      "text/plain": [
       "\u001b[38;5;46m        \u001b[0m\u001b[38;5;46m \u001b[0m\u001b[38;5;49mINFO    \u001b[0m \u001b[1;38;5;251m J1858P0330 in roi: \u001b[0m\u001b[1;37m7.0\u001b[0m\u001b[1;38;5;251m sf:\u001b[0m\u001b[1;3;92mTrue\u001b[0m\u001b[1;38;5;251m pf:\u001b[0m\u001b[1;3;92mTrue\u001b[0m\u001b[1;38;5;251m k\u001b[0m\u001b[1;92mf:Fa\u001b[0m\u001b[1;38;5;251mlse index\u001b[0m\u001b[1;92mf:Fa\u001b[0m\u001b[1;38;5;251mlse                       \u001b[0m\u001b[1;38;5;251m \u001b[0m\u001b]8;id=213420;file:///data/home/cwy/Science/3MLWCDA/Standard/src/./mylib/Myfit.py\u001b\\\u001b[2mMyfit.py\u001b[0m\u001b]8;;\u001b\\\u001b[2m:\u001b[0m\u001b]8;id=672076;file:///data/home/cwy/Science/3MLWCDA/Standard/src/./mylib/Myfit.py#320\u001b\\\u001b[2m320\u001b[0m\u001b]8;;\u001b\\\n"
      ]
     },
     "metadata": {},
     "output_type": "display_data"
    },
    {
     "data": {
      "text/html": [
       "<pre style=\"white-space:pre;overflow-x:auto;line-height:normal;font-family:Menlo,'DejaVu Sans Mono',consolas,'Courier New',monospace\"><span style=\"color: #00ff00; text-decoration-color: #00ff00\">         </span><span style=\"color: #00ffaf; text-decoration-color: #00ffaf\">INFO    </span> <span style=\"color: #c6c6c6; text-decoration-color: #c6c6c6; font-weight: bold\"> Spec:                                                                               </span><a href=\"file:///data/home/cwy/Science/3MLWCDA/Standard/src/./mylib/Myfit.py\" target=\"_blank\"><span style=\"color: #7f7f7f; text-decoration-color: #7f7f7f\">Myfit.py</span></a><span style=\"color: #7f7f7f; text-decoration-color: #7f7f7f\">:</span><a href=\"file:///data/home/cwy/Science/3MLWCDA/Standard/src/./mylib/Myfit.py#348\" target=\"_blank\"><span style=\"color: #7f7f7f; text-decoration-color: #7f7f7f\">348</span></a>\n",
       "<span style=\"color: #00ff00; text-decoration-color: #00ff00\">         </span>         <span style=\"color: #c6c6c6; text-decoration-color: #c6c6c6; font-weight: bold\"> </span><span style=\"color: #808000; text-decoration-color: #808000; font-weight: bold\">K</span><span style=\"color: #c6c6c6; text-decoration-color: #c6c6c6; font-weight: bold\">=</span><span style=\"color: #c0c0c0; text-decoration-color: #c0c0c0; font-weight: bold\">1</span><span style=\"color: #c0c0c0; text-decoration-color: #c0c0c0; font-weight: bold\">.56e-16</span><span style=\"color: #c6c6c6; text-decoration-color: #c6c6c6; font-weight: bold\"> </span><span style=\"color: #808000; text-decoration-color: #808000; font-weight: bold\">kb</span><span style=\"color: #c6c6c6; text-decoration-color: #c6c6c6; font-weight: bold\">=(</span><span style=\"color: #c0c0c0; text-decoration-color: #c0c0c0; font-weight: bold\">1.56e-18</span><span style=\"color: #c6c6c6; text-decoration-color: #c6c6c6; font-weight: bold\">, </span><span style=\"color: #c0c0c0; text-decoration-color: #c0c0c0; font-weight: bold\">3.56e-16</span><span style=\"color: #c6c6c6; text-decoration-color: #c6c6c6; font-weight: bold\">) </span><span style=\"color: #808000; text-decoration-color: #808000; font-weight: bold\">index</span><span style=\"color: #c6c6c6; text-decoration-color: #c6c6c6; font-weight: bold\">=</span><span style=\"color: #c0c0c0; text-decoration-color: #c0c0c0; font-weight: bold\">-3.78</span><span style=\"color: #c6c6c6; text-decoration-color: #c6c6c6; font-weight: bold\"> </span><span style=\"color: #808000; text-decoration-color: #808000; font-weight: bold\">indexb</span><span style=\"color: #c6c6c6; text-decoration-color: #c6c6c6; font-weight: bold\">=(</span><span style=\"color: #c0c0c0; text-decoration-color: #c0c0c0; font-weight: bold\">-5.28</span><span style=\"color: #c6c6c6; text-decoration-color: #c6c6c6; font-weight: bold\">,</span><span style=\"color: #c0c0c0; text-decoration-color: #c0c0c0; font-weight: bold\">-2.28</span><span style=\"color: #c6c6c6; text-decoration-color: #c6c6c6; font-weight: bold\">)                 </span><span style=\"color: #7f7f7f; text-decoration-color: #7f7f7f\">            </span>\n",
       "</pre>\n"
      ],
      "text/plain": [
       "\u001b[38;5;46m        \u001b[0m\u001b[38;5;46m \u001b[0m\u001b[38;5;49mINFO    \u001b[0m \u001b[1;38;5;251m Spec:                                                                              \u001b[0m\u001b[1;38;5;251m \u001b[0m\u001b]8;id=251270;file:///data/home/cwy/Science/3MLWCDA/Standard/src/./mylib/Myfit.py\u001b\\\u001b[2mMyfit.py\u001b[0m\u001b]8;;\u001b\\\u001b[2m:\u001b[0m\u001b]8;id=940492;file:///data/home/cwy/Science/3MLWCDA/Standard/src/./mylib/Myfit.py#348\u001b\\\u001b[2m348\u001b[0m\u001b]8;;\u001b\\\n",
       "\u001b[38;5;46m         \u001b[0m         \u001b[1;38;5;251m \u001b[0m\u001b[1;33mK\u001b[0m\u001b[1;38;5;251m=\u001b[0m\u001b[1;37m1\u001b[0m\u001b[1;37m.56e-16\u001b[0m\u001b[1;38;5;251m \u001b[0m\u001b[1;33mkb\u001b[0m\u001b[1;38;5;251m=\u001b[0m\u001b[1;38;5;251m(\u001b[0m\u001b[1;37m1.56e-18\u001b[0m\u001b[1;38;5;251m, \u001b[0m\u001b[1;37m3.56e-16\u001b[0m\u001b[1;38;5;251m)\u001b[0m\u001b[1;38;5;251m \u001b[0m\u001b[1;33mindex\u001b[0m\u001b[1;38;5;251m=\u001b[0m\u001b[1;37m-3.78\u001b[0m\u001b[1;38;5;251m \u001b[0m\u001b[1;33mindexb\u001b[0m\u001b[1;38;5;251m=\u001b[0m\u001b[1;38;5;251m(\u001b[0m\u001b[1;37m-5.28\u001b[0m\u001b[1;38;5;251m,\u001b[0m\u001b[1;37m-2.28\u001b[0m\u001b[1;38;5;251m)\u001b[0m\u001b[1;38;5;251m                \u001b[0m\u001b[1;38;5;251m \u001b[0m\u001b[2m            \u001b[0m\n"
      ]
     },
     "metadata": {},
     "output_type": "display_data"
    },
    {
     "data": {
      "text/html": [
       "<pre style=\"white-space:pre;overflow-x:auto;line-height:normal;font-family:Menlo,'DejaVu Sans Mono',consolas,'Courier New',monospace\"><span style=\"color: #00ff00; text-decoration-color: #00ff00\">         </span><span style=\"color: #00ffaf; text-decoration-color: #00ffaf\">INFO    </span> <span style=\"color: #c6c6c6; text-decoration-color: #c6c6c6; font-weight: bold\"> Mor:                                                                                </span><a href=\"file:///data/home/cwy/Science/3MLWCDA/Standard/src/./mylib/Myfit.py\" target=\"_blank\"><span style=\"color: #7f7f7f; text-decoration-color: #7f7f7f\">Myfit.py</span></a><span style=\"color: #7f7f7f; text-decoration-color: #7f7f7f\">:</span><a href=\"file:///data/home/cwy/Science/3MLWCDA/Standard/src/./mylib/Myfit.py#350\" target=\"_blank\"><span style=\"color: #7f7f7f; text-decoration-color: #7f7f7f\">350</span></a>\n",
       "<span style=\"color: #00ff00; text-decoration-color: #00ff00\">         </span>         <span style=\"color: #c6c6c6; text-decoration-color: #c6c6c6; font-weight: bold\"> </span><span style=\"color: #808000; text-decoration-color: #808000; font-weight: bold\">sigma</span><span style=\"color: #c6c6c6; text-decoration-color: #c6c6c6; font-weight: bold\">=</span><span style=\"color: #c0c0c0; text-decoration-color: #c0c0c0; font-weight: bold\">0</span><span style=\"color: #c0c0c0; text-decoration-color: #c0c0c0; font-weight: bold\">.43</span><span style=\"color: #c6c6c6; text-decoration-color: #c6c6c6; font-weight: bold\"> </span><span style=\"color: #808000; text-decoration-color: #808000; font-weight: bold\">sb</span><span style=\"color: #c6c6c6; text-decoration-color: #c6c6c6; font-weight: bold\">=(</span><span style=\"color: #c0c0c0; text-decoration-color: #c0c0c0; font-weight: bold\">0.23</span><span style=\"color: #c6c6c6; text-decoration-color: #c6c6c6; font-weight: bold\">,</span><span style=\"color: #c0c0c0; text-decoration-color: #c0c0c0; font-weight: bold\">0.63</span><span style=\"color: #c6c6c6; text-decoration-color: #c6c6c6; font-weight: bold\">) </span><span style=\"color: #808000; text-decoration-color: #808000; font-weight: bold\">fitrange</span><span style=\"color: #c6c6c6; text-decoration-color: #c6c6c6; font-weight: bold\">=</span><span style=\"color: #c0c0c0; text-decoration-color: #c0c0c0; font-weight: bold\">0</span><span style=\"color: #c0c0c0; text-decoration-color: #c0c0c0; font-weight: bold\">.60</span><span style=\"color: #c6c6c6; text-decoration-color: #c6c6c6; font-weight: bold\">                                             </span><span style=\"color: #7f7f7f; text-decoration-color: #7f7f7f\">            </span>\n",
       "</pre>\n"
      ],
      "text/plain": [
       "\u001b[38;5;46m        \u001b[0m\u001b[38;5;46m \u001b[0m\u001b[38;5;49mINFO    \u001b[0m \u001b[1;38;5;251m Mor:                                                                               \u001b[0m\u001b[1;38;5;251m \u001b[0m\u001b]8;id=37187;file:///data/home/cwy/Science/3MLWCDA/Standard/src/./mylib/Myfit.py\u001b\\\u001b[2mMyfit.py\u001b[0m\u001b]8;;\u001b\\\u001b[2m:\u001b[0m\u001b]8;id=22352;file:///data/home/cwy/Science/3MLWCDA/Standard/src/./mylib/Myfit.py#350\u001b\\\u001b[2m350\u001b[0m\u001b]8;;\u001b\\\n",
       "\u001b[38;5;46m         \u001b[0m         \u001b[1;38;5;251m \u001b[0m\u001b[1;33msigma\u001b[0m\u001b[1;38;5;251m=\u001b[0m\u001b[1;37m0\u001b[0m\u001b[1;37m.43\u001b[0m\u001b[1;38;5;251m \u001b[0m\u001b[1;33msb\u001b[0m\u001b[1;38;5;251m=\u001b[0m\u001b[1;38;5;251m(\u001b[0m\u001b[1;37m0.23\u001b[0m\u001b[1;38;5;251m,\u001b[0m\u001b[1;37m0.63\u001b[0m\u001b[1;38;5;251m)\u001b[0m\u001b[1;38;5;251m \u001b[0m\u001b[1;33mfitrange\u001b[0m\u001b[1;38;5;251m=\u001b[0m\u001b[1;37m0\u001b[0m\u001b[1;37m.60\u001b[0m\u001b[1;38;5;251m                                            \u001b[0m\u001b[1;38;5;251m \u001b[0m\u001b[2m            \u001b[0m\n"
      ]
     },
     "metadata": {},
     "output_type": "display_data"
    },
    {
     "data": {
      "text/html": [
       "<pre style=\"white-space:pre;overflow-x:auto;line-height:normal;font-family:Menlo,'DejaVu Sans Mono',consolas,'Courier New',monospace\"><span style=\"color: #00ff00; text-decoration-color: #00ff00\">         </span><span style=\"color: #00ffaf; text-decoration-color: #00ffaf\">INFO    </span> <span style=\"color: #c6c6c6; text-decoration-color: #c6c6c6; font-weight: bold\"> J1908P0615u in roi: </span><span style=\"color: #c0c0c0; text-decoration-color: #c0c0c0; font-weight: bold\">7.0</span><span style=\"color: #c6c6c6; text-decoration-color: #c6c6c6; font-weight: bold\"> sf:</span><span style=\"color: #00ff00; text-decoration-color: #00ff00; font-weight: bold; font-style: italic\">True</span><span style=\"color: #c6c6c6; text-decoration-color: #c6c6c6; font-weight: bold\"> pf:</span><span style=\"color: #00ff00; text-decoration-color: #00ff00; font-weight: bold; font-style: italic\">True</span><span style=\"color: #c6c6c6; text-decoration-color: #c6c6c6; font-weight: bold\"> k</span><span style=\"color: #00ff00; text-decoration-color: #00ff00; font-weight: bold\">f:Fa</span><span style=\"color: #c6c6c6; text-decoration-color: #c6c6c6; font-weight: bold\">lse index</span><span style=\"color: #00ff00; text-decoration-color: #00ff00; font-weight: bold\">f:Fa</span><span style=\"color: #c6c6c6; text-decoration-color: #c6c6c6; font-weight: bold\">lse                       </span><a href=\"file:///data/home/cwy/Science/3MLWCDA/Standard/src/./mylib/Myfit.py\" target=\"_blank\"><span style=\"color: #7f7f7f; text-decoration-color: #7f7f7f\">Myfit.py</span></a><span style=\"color: #7f7f7f; text-decoration-color: #7f7f7f\">:</span><a href=\"file:///data/home/cwy/Science/3MLWCDA/Standard/src/./mylib/Myfit.py#320\" target=\"_blank\"><span style=\"color: #7f7f7f; text-decoration-color: #7f7f7f\">320</span></a>\n",
       "</pre>\n"
      ],
      "text/plain": [
       "\u001b[38;5;46m        \u001b[0m\u001b[38;5;46m \u001b[0m\u001b[38;5;49mINFO    \u001b[0m \u001b[1;38;5;251m J1908P0615u in roi: \u001b[0m\u001b[1;37m7.0\u001b[0m\u001b[1;38;5;251m sf:\u001b[0m\u001b[1;3;92mTrue\u001b[0m\u001b[1;38;5;251m pf:\u001b[0m\u001b[1;3;92mTrue\u001b[0m\u001b[1;38;5;251m k\u001b[0m\u001b[1;92mf:Fa\u001b[0m\u001b[1;38;5;251mlse index\u001b[0m\u001b[1;92mf:Fa\u001b[0m\u001b[1;38;5;251mlse                      \u001b[0m\u001b[1;38;5;251m \u001b[0m\u001b]8;id=287343;file:///data/home/cwy/Science/3MLWCDA/Standard/src/./mylib/Myfit.py\u001b\\\u001b[2mMyfit.py\u001b[0m\u001b]8;;\u001b\\\u001b[2m:\u001b[0m\u001b]8;id=656536;file:///data/home/cwy/Science/3MLWCDA/Standard/src/./mylib/Myfit.py#320\u001b\\\u001b[2m320\u001b[0m\u001b]8;;\u001b\\\n"
      ]
     },
     "metadata": {},
     "output_type": "display_data"
    },
    {
     "data": {
      "text/html": [
       "<pre style=\"white-space:pre;overflow-x:auto;line-height:normal;font-family:Menlo,'DejaVu Sans Mono',consolas,'Courier New',monospace\"><span style=\"color: #00ff00; text-decoration-color: #00ff00\">         </span><span style=\"color: #00ffaf; text-decoration-color: #00ffaf\">INFO    </span> <span style=\"color: #c6c6c6; text-decoration-color: #c6c6c6; font-weight: bold\"> Spec:                                                                               </span><a href=\"file:///data/home/cwy/Science/3MLWCDA/Standard/src/./mylib/Myfit.py\" target=\"_blank\"><span style=\"color: #7f7f7f; text-decoration-color: #7f7f7f\">Myfit.py</span></a><span style=\"color: #7f7f7f; text-decoration-color: #7f7f7f\">:</span><a href=\"file:///data/home/cwy/Science/3MLWCDA/Standard/src/./mylib/Myfit.py#348\" target=\"_blank\"><span style=\"color: #7f7f7f; text-decoration-color: #7f7f7f\">348</span></a>\n",
       "<span style=\"color: #00ff00; text-decoration-color: #00ff00\">         </span>         <span style=\"color: #c6c6c6; text-decoration-color: #c6c6c6; font-weight: bold\"> </span><span style=\"color: #808000; text-decoration-color: #808000; font-weight: bold\">K</span><span style=\"color: #c6c6c6; text-decoration-color: #c6c6c6; font-weight: bold\">=</span><span style=\"color: #c0c0c0; text-decoration-color: #c0c0c0; font-weight: bold\">6</span><span style=\"color: #c0c0c0; text-decoration-color: #c0c0c0; font-weight: bold\">.86e-16</span><span style=\"color: #c6c6c6; text-decoration-color: #c6c6c6; font-weight: bold\"> </span><span style=\"color: #808000; text-decoration-color: #808000; font-weight: bold\">kb</span><span style=\"color: #c6c6c6; text-decoration-color: #c6c6c6; font-weight: bold\">=(</span><span style=\"color: #c0c0c0; text-decoration-color: #c0c0c0; font-weight: bold\">6.86e-18</span><span style=\"color: #c6c6c6; text-decoration-color: #c6c6c6; font-weight: bold\">, </span><span style=\"color: #c0c0c0; text-decoration-color: #c0c0c0; font-weight: bold\">1.01e-15</span><span style=\"color: #c6c6c6; text-decoration-color: #c6c6c6; font-weight: bold\">) </span><span style=\"color: #808000; text-decoration-color: #808000; font-weight: bold\">index</span><span style=\"color: #c6c6c6; text-decoration-color: #c6c6c6; font-weight: bold\">=</span><span style=\"color: #c0c0c0; text-decoration-color: #c0c0c0; font-weight: bold\">-2.82</span><span style=\"color: #c6c6c6; text-decoration-color: #c6c6c6; font-weight: bold\"> </span><span style=\"color: #808000; text-decoration-color: #808000; font-weight: bold\">indexb</span><span style=\"color: #c6c6c6; text-decoration-color: #c6c6c6; font-weight: bold\">=(</span><span style=\"color: #c0c0c0; text-decoration-color: #c0c0c0; font-weight: bold\">-3.12</span><span style=\"color: #c6c6c6; text-decoration-color: #c6c6c6; font-weight: bold\">,</span><span style=\"color: #c0c0c0; text-decoration-color: #c0c0c0; font-weight: bold\">-2.52</span><span style=\"color: #c6c6c6; text-decoration-color: #c6c6c6; font-weight: bold\">)                 </span><span style=\"color: #7f7f7f; text-decoration-color: #7f7f7f\">            </span>\n",
       "</pre>\n"
      ],
      "text/plain": [
       "\u001b[38;5;46m        \u001b[0m\u001b[38;5;46m \u001b[0m\u001b[38;5;49mINFO    \u001b[0m \u001b[1;38;5;251m Spec:                                                                              \u001b[0m\u001b[1;38;5;251m \u001b[0m\u001b]8;id=630483;file:///data/home/cwy/Science/3MLWCDA/Standard/src/./mylib/Myfit.py\u001b\\\u001b[2mMyfit.py\u001b[0m\u001b]8;;\u001b\\\u001b[2m:\u001b[0m\u001b]8;id=414759;file:///data/home/cwy/Science/3MLWCDA/Standard/src/./mylib/Myfit.py#348\u001b\\\u001b[2m348\u001b[0m\u001b]8;;\u001b\\\n",
       "\u001b[38;5;46m         \u001b[0m         \u001b[1;38;5;251m \u001b[0m\u001b[1;33mK\u001b[0m\u001b[1;38;5;251m=\u001b[0m\u001b[1;37m6\u001b[0m\u001b[1;37m.86e-16\u001b[0m\u001b[1;38;5;251m \u001b[0m\u001b[1;33mkb\u001b[0m\u001b[1;38;5;251m=\u001b[0m\u001b[1;38;5;251m(\u001b[0m\u001b[1;37m6.86e-18\u001b[0m\u001b[1;38;5;251m, \u001b[0m\u001b[1;37m1.01e-15\u001b[0m\u001b[1;38;5;251m)\u001b[0m\u001b[1;38;5;251m \u001b[0m\u001b[1;33mindex\u001b[0m\u001b[1;38;5;251m=\u001b[0m\u001b[1;37m-2.82\u001b[0m\u001b[1;38;5;251m \u001b[0m\u001b[1;33mindexb\u001b[0m\u001b[1;38;5;251m=\u001b[0m\u001b[1;38;5;251m(\u001b[0m\u001b[1;37m-3.12\u001b[0m\u001b[1;38;5;251m,\u001b[0m\u001b[1;37m-2.52\u001b[0m\u001b[1;38;5;251m)\u001b[0m\u001b[1;38;5;251m                \u001b[0m\u001b[1;38;5;251m \u001b[0m\u001b[2m            \u001b[0m\n"
      ]
     },
     "metadata": {},
     "output_type": "display_data"
    },
    {
     "data": {
      "text/html": [
       "<pre style=\"white-space:pre;overflow-x:auto;line-height:normal;font-family:Menlo,'DejaVu Sans Mono',consolas,'Courier New',monospace\"><span style=\"color: #00ff00; text-decoration-color: #00ff00\">         </span><span style=\"color: #00ffaf; text-decoration-color: #00ffaf\">INFO    </span> <span style=\"color: #c6c6c6; text-decoration-color: #c6c6c6; font-weight: bold\"> Mor:                                                                                </span><a href=\"file:///data/home/cwy/Science/3MLWCDA/Standard/src/./mylib/Myfit.py\" target=\"_blank\"><span style=\"color: #7f7f7f; text-decoration-color: #7f7f7f\">Myfit.py</span></a><span style=\"color: #7f7f7f; text-decoration-color: #7f7f7f\">:</span><a href=\"file:///data/home/cwy/Science/3MLWCDA/Standard/src/./mylib/Myfit.py#350\" target=\"_blank\"><span style=\"color: #7f7f7f; text-decoration-color: #7f7f7f\">350</span></a>\n",
       "<span style=\"color: #00ff00; text-decoration-color: #00ff00\">         </span>         <span style=\"color: #c6c6c6; text-decoration-color: #c6c6c6; font-weight: bold\"> </span><span style=\"color: #808000; text-decoration-color: #808000; font-weight: bold\">sigma</span><span style=\"color: #c6c6c6; text-decoration-color: #c6c6c6; font-weight: bold\">=</span><span style=\"color: #c0c0c0; text-decoration-color: #c0c0c0; font-weight: bold\">0</span><span style=\"color: #c0c0c0; text-decoration-color: #c0c0c0; font-weight: bold\">.36</span><span style=\"color: #c6c6c6; text-decoration-color: #c6c6c6; font-weight: bold\"> </span><span style=\"color: #808000; text-decoration-color: #808000; font-weight: bold\">sb</span><span style=\"color: #c6c6c6; text-decoration-color: #c6c6c6; font-weight: bold\">=(</span><span style=\"color: #c0c0c0; text-decoration-color: #c0c0c0; font-weight: bold\">0.31</span><span style=\"color: #c6c6c6; text-decoration-color: #c6c6c6; font-weight: bold\">,</span><span style=\"color: #c0c0c0; text-decoration-color: #c0c0c0; font-weight: bold\">0.41</span><span style=\"color: #c6c6c6; text-decoration-color: #c6c6c6; font-weight: bold\">) </span><span style=\"color: #808000; text-decoration-color: #808000; font-weight: bold\">fitrange</span><span style=\"color: #c6c6c6; text-decoration-color: #c6c6c6; font-weight: bold\">=</span><span style=\"color: #c0c0c0; text-decoration-color: #c0c0c0; font-weight: bold\">0</span><span style=\"color: #c0c0c0; text-decoration-color: #c0c0c0; font-weight: bold\">.15</span><span style=\"color: #c6c6c6; text-decoration-color: #c6c6c6; font-weight: bold\">                                             </span><span style=\"color: #7f7f7f; text-decoration-color: #7f7f7f\">            </span>\n",
       "</pre>\n"
      ],
      "text/plain": [
       "\u001b[38;5;46m        \u001b[0m\u001b[38;5;46m \u001b[0m\u001b[38;5;49mINFO    \u001b[0m \u001b[1;38;5;251m Mor:                                                                               \u001b[0m\u001b[1;38;5;251m \u001b[0m\u001b]8;id=319692;file:///data/home/cwy/Science/3MLWCDA/Standard/src/./mylib/Myfit.py\u001b\\\u001b[2mMyfit.py\u001b[0m\u001b]8;;\u001b\\\u001b[2m:\u001b[0m\u001b]8;id=233270;file:///data/home/cwy/Science/3MLWCDA/Standard/src/./mylib/Myfit.py#350\u001b\\\u001b[2m350\u001b[0m\u001b]8;;\u001b\\\n",
       "\u001b[38;5;46m         \u001b[0m         \u001b[1;38;5;251m \u001b[0m\u001b[1;33msigma\u001b[0m\u001b[1;38;5;251m=\u001b[0m\u001b[1;37m0\u001b[0m\u001b[1;37m.36\u001b[0m\u001b[1;38;5;251m \u001b[0m\u001b[1;33msb\u001b[0m\u001b[1;38;5;251m=\u001b[0m\u001b[1;38;5;251m(\u001b[0m\u001b[1;37m0.31\u001b[0m\u001b[1;38;5;251m,\u001b[0m\u001b[1;37m0.41\u001b[0m\u001b[1;38;5;251m)\u001b[0m\u001b[1;38;5;251m \u001b[0m\u001b[1;33mfitrange\u001b[0m\u001b[1;38;5;251m=\u001b[0m\u001b[1;37m0\u001b[0m\u001b[1;37m.15\u001b[0m\u001b[1;38;5;251m                                            \u001b[0m\u001b[1;38;5;251m \u001b[0m\u001b[2m            \u001b[0m\n"
      ]
     },
     "metadata": {},
     "output_type": "display_data"
    },
    {
     "data": {
      "text/html": [
       "<pre style=\"white-space:pre;overflow-x:auto;line-height:normal;font-family:Menlo,'DejaVu Sans Mono',consolas,'Courier New',monospace\"><span style=\"color: #00ff00; text-decoration-color: #00ff00\">         </span><span style=\"color: #00ffaf; text-decoration-color: #00ffaf\">INFO    </span> <span style=\"color: #c6c6c6; text-decoration-color: #c6c6c6; font-weight: bold\"> J1910P0516 in roi: </span><span style=\"color: #c0c0c0; text-decoration-color: #c0c0c0; font-weight: bold\">7.0</span><span style=\"color: #c6c6c6; text-decoration-color: #c6c6c6; font-weight: bold\"> sf:</span><span style=\"color: #00ff00; text-decoration-color: #00ff00; font-weight: bold; font-style: italic\">True</span><span style=\"color: #c6c6c6; text-decoration-color: #c6c6c6; font-weight: bold\"> pf:</span><span style=\"color: #00ff00; text-decoration-color: #00ff00; font-weight: bold; font-style: italic\">True</span><span style=\"color: #c6c6c6; text-decoration-color: #c6c6c6; font-weight: bold\"> k</span><span style=\"color: #00ff00; text-decoration-color: #00ff00; font-weight: bold\">f:Fa</span><span style=\"color: #c6c6c6; text-decoration-color: #c6c6c6; font-weight: bold\">lse index</span><span style=\"color: #00ff00; text-decoration-color: #00ff00; font-weight: bold\">f:Fa</span><span style=\"color: #c6c6c6; text-decoration-color: #c6c6c6; font-weight: bold\">lse                        </span><a href=\"file:///data/home/cwy/Science/3MLWCDA/Standard/src/./mylib/Myfit.py\" target=\"_blank\"><span style=\"color: #7f7f7f; text-decoration-color: #7f7f7f\">Myfit.py</span></a><span style=\"color: #7f7f7f; text-decoration-color: #7f7f7f\">:</span><a href=\"file:///data/home/cwy/Science/3MLWCDA/Standard/src/./mylib/Myfit.py#320\" target=\"_blank\"><span style=\"color: #7f7f7f; text-decoration-color: #7f7f7f\">320</span></a>\n",
       "</pre>\n"
      ],
      "text/plain": [
       "\u001b[38;5;46m        \u001b[0m\u001b[38;5;46m \u001b[0m\u001b[38;5;49mINFO    \u001b[0m \u001b[1;38;5;251m J1910P0516 in roi: \u001b[0m\u001b[1;37m7.0\u001b[0m\u001b[1;38;5;251m sf:\u001b[0m\u001b[1;3;92mTrue\u001b[0m\u001b[1;38;5;251m pf:\u001b[0m\u001b[1;3;92mTrue\u001b[0m\u001b[1;38;5;251m k\u001b[0m\u001b[1;92mf:Fa\u001b[0m\u001b[1;38;5;251mlse index\u001b[0m\u001b[1;92mf:Fa\u001b[0m\u001b[1;38;5;251mlse                       \u001b[0m\u001b[1;38;5;251m \u001b[0m\u001b]8;id=738103;file:///data/home/cwy/Science/3MLWCDA/Standard/src/./mylib/Myfit.py\u001b\\\u001b[2mMyfit.py\u001b[0m\u001b]8;;\u001b\\\u001b[2m:\u001b[0m\u001b]8;id=901237;file:///data/home/cwy/Science/3MLWCDA/Standard/src/./mylib/Myfit.py#320\u001b\\\u001b[2m320\u001b[0m\u001b]8;;\u001b\\\n"
      ]
     },
     "metadata": {},
     "output_type": "display_data"
    },
    {
     "data": {
      "text/html": [
       "<pre style=\"white-space:pre;overflow-x:auto;line-height:normal;font-family:Menlo,'DejaVu Sans Mono',consolas,'Courier New',monospace\"><span style=\"color: #00ff00; text-decoration-color: #00ff00\">         </span><span style=\"color: #00ffaf; text-decoration-color: #00ffaf\">INFO    </span> <span style=\"color: #c6c6c6; text-decoration-color: #c6c6c6; font-weight: bold\"> Spec:                                                                               </span><a href=\"file:///data/home/cwy/Science/3MLWCDA/Standard/src/./mylib/Myfit.py\" target=\"_blank\"><span style=\"color: #7f7f7f; text-decoration-color: #7f7f7f\">Myfit.py</span></a><span style=\"color: #7f7f7f; text-decoration-color: #7f7f7f\">:</span><a href=\"file:///data/home/cwy/Science/3MLWCDA/Standard/src/./mylib/Myfit.py#348\" target=\"_blank\"><span style=\"color: #7f7f7f; text-decoration-color: #7f7f7f\">348</span></a>\n",
       "<span style=\"color: #00ff00; text-decoration-color: #00ff00\">         </span>         <span style=\"color: #c6c6c6; text-decoration-color: #c6c6c6; font-weight: bold\"> </span><span style=\"color: #808000; text-decoration-color: #808000; font-weight: bold\">K</span><span style=\"color: #c6c6c6; text-decoration-color: #c6c6c6; font-weight: bold\">=</span><span style=\"color: #c0c0c0; text-decoration-color: #c0c0c0; font-weight: bold\">5</span><span style=\"color: #c0c0c0; text-decoration-color: #c0c0c0; font-weight: bold\">.70e-17</span><span style=\"color: #c6c6c6; text-decoration-color: #c6c6c6; font-weight: bold\"> </span><span style=\"color: #808000; text-decoration-color: #808000; font-weight: bold\">kb</span><span style=\"color: #c6c6c6; text-decoration-color: #c6c6c6; font-weight: bold\">=(</span><span style=\"color: #c0c0c0; text-decoration-color: #c0c0c0; font-weight: bold\">1.00e-18</span><span style=\"color: #c6c6c6; text-decoration-color: #c6c6c6; font-weight: bold\">, </span><span style=\"color: #c0c0c0; text-decoration-color: #c0c0c0; font-weight: bold\">2.17e-16</span><span style=\"color: #c6c6c6; text-decoration-color: #c6c6c6; font-weight: bold\">) </span><span style=\"color: #808000; text-decoration-color: #808000; font-weight: bold\">index</span><span style=\"color: #c6c6c6; text-decoration-color: #c6c6c6; font-weight: bold\">=</span><span style=\"color: #c0c0c0; text-decoration-color: #c0c0c0; font-weight: bold\">-3.15</span><span style=\"color: #c6c6c6; text-decoration-color: #c6c6c6; font-weight: bold\"> </span><span style=\"color: #808000; text-decoration-color: #808000; font-weight: bold\">indexb</span><span style=\"color: #c6c6c6; text-decoration-color: #c6c6c6; font-weight: bold\">=(</span><span style=\"color: #c0c0c0; text-decoration-color: #c0c0c0; font-weight: bold\">-4.95</span><span style=\"color: #c6c6c6; text-decoration-color: #c6c6c6; font-weight: bold\">,</span><span style=\"color: #c0c0c0; text-decoration-color: #c0c0c0; font-weight: bold\">-1.50</span><span style=\"color: #c6c6c6; text-decoration-color: #c6c6c6; font-weight: bold\">)                 </span><span style=\"color: #7f7f7f; text-decoration-color: #7f7f7f\">            </span>\n",
       "</pre>\n"
      ],
      "text/plain": [
       "\u001b[38;5;46m        \u001b[0m\u001b[38;5;46m \u001b[0m\u001b[38;5;49mINFO    \u001b[0m \u001b[1;38;5;251m Spec:                                                                              \u001b[0m\u001b[1;38;5;251m \u001b[0m\u001b]8;id=803797;file:///data/home/cwy/Science/3MLWCDA/Standard/src/./mylib/Myfit.py\u001b\\\u001b[2mMyfit.py\u001b[0m\u001b]8;;\u001b\\\u001b[2m:\u001b[0m\u001b]8;id=397100;file:///data/home/cwy/Science/3MLWCDA/Standard/src/./mylib/Myfit.py#348\u001b\\\u001b[2m348\u001b[0m\u001b]8;;\u001b\\\n",
       "\u001b[38;5;46m         \u001b[0m         \u001b[1;38;5;251m \u001b[0m\u001b[1;33mK\u001b[0m\u001b[1;38;5;251m=\u001b[0m\u001b[1;37m5\u001b[0m\u001b[1;37m.70e-17\u001b[0m\u001b[1;38;5;251m \u001b[0m\u001b[1;33mkb\u001b[0m\u001b[1;38;5;251m=\u001b[0m\u001b[1;38;5;251m(\u001b[0m\u001b[1;37m1.00e-18\u001b[0m\u001b[1;38;5;251m, \u001b[0m\u001b[1;37m2.17e-16\u001b[0m\u001b[1;38;5;251m)\u001b[0m\u001b[1;38;5;251m \u001b[0m\u001b[1;33mindex\u001b[0m\u001b[1;38;5;251m=\u001b[0m\u001b[1;37m-3.15\u001b[0m\u001b[1;38;5;251m \u001b[0m\u001b[1;33mindexb\u001b[0m\u001b[1;38;5;251m=\u001b[0m\u001b[1;38;5;251m(\u001b[0m\u001b[1;37m-4.95\u001b[0m\u001b[1;38;5;251m,\u001b[0m\u001b[1;37m-1.50\u001b[0m\u001b[1;38;5;251m)\u001b[0m\u001b[1;38;5;251m                \u001b[0m\u001b[1;38;5;251m \u001b[0m\u001b[2m            \u001b[0m\n"
      ]
     },
     "metadata": {},
     "output_type": "display_data"
    },
    {
     "data": {
      "text/html": [
       "<pre style=\"white-space:pre;overflow-x:auto;line-height:normal;font-family:Menlo,'DejaVu Sans Mono',consolas,'Courier New',monospace\"><span style=\"color: #00ff00; text-decoration-color: #00ff00\">         </span><span style=\"color: #00ffaf; text-decoration-color: #00ffaf\">INFO    </span> <span style=\"color: #c6c6c6; text-decoration-color: #c6c6c6; font-weight: bold\"> Mor: </span><span style=\"color: #808000; text-decoration-color: #808000; font-weight: bold\">fitrange</span><span style=\"color: #c6c6c6; text-decoration-color: #c6c6c6; font-weight: bold\">=</span><span style=\"color: #c0c0c0; text-decoration-color: #c0c0c0; font-weight: bold\">0</span><span style=\"color: #c0c0c0; text-decoration-color: #c0c0c0; font-weight: bold\">.75</span><span style=\"color: #c6c6c6; text-decoration-color: #c6c6c6; font-weight: bold\">                                                                  </span><a href=\"file:///data/home/cwy/Science/3MLWCDA/Standard/src/./mylib/Myfit.py\" target=\"_blank\"><span style=\"color: #7f7f7f; text-decoration-color: #7f7f7f\">Myfit.py</span></a><span style=\"color: #7f7f7f; text-decoration-color: #7f7f7f\">:</span><a href=\"file:///data/home/cwy/Science/3MLWCDA/Standard/src/./mylib/Myfit.py#358\" target=\"_blank\"><span style=\"color: #7f7f7f; text-decoration-color: #7f7f7f\">358</span></a>\n",
       "</pre>\n"
      ],
      "text/plain": [
       "\u001b[38;5;46m        \u001b[0m\u001b[38;5;46m \u001b[0m\u001b[38;5;49mINFO    \u001b[0m \u001b[1;38;5;251m Mor: \u001b[0m\u001b[1;33mfitrange\u001b[0m\u001b[1;38;5;251m=\u001b[0m\u001b[1;37m0\u001b[0m\u001b[1;37m.75\u001b[0m\u001b[1;38;5;251m                                                                 \u001b[0m\u001b[1;38;5;251m \u001b[0m\u001b]8;id=221545;file:///data/home/cwy/Science/3MLWCDA/Standard/src/./mylib/Myfit.py\u001b\\\u001b[2mMyfit.py\u001b[0m\u001b]8;;\u001b\\\u001b[2m:\u001b[0m\u001b]8;id=736104;file:///data/home/cwy/Science/3MLWCDA/Standard/src/./mylib/Myfit.py#358\u001b\\\u001b[2m358\u001b[0m\u001b]8;;\u001b\\\n"
      ]
     },
     "metadata": {},
     "output_type": "display_data"
    },
    {
     "data": {
      "text/html": [
       "<pre style=\"white-space:pre;overflow-x:auto;line-height:normal;font-family:Menlo,'DejaVu Sans Mono',consolas,'Courier New',monospace\"><span style=\"color: #00ff00; text-decoration-color: #00ff00\">         </span><span style=\"color: #00ffaf; text-decoration-color: #00ffaf\">INFO    </span> <span style=\"color: #c6c6c6; text-decoration-color: #c6c6c6; font-weight: bold\"> J1912P1014u in roi: </span><span style=\"color: #c0c0c0; text-decoration-color: #c0c0c0; font-weight: bold\">7.0</span><span style=\"color: #c6c6c6; text-decoration-color: #c6c6c6; font-weight: bold\"> sf:</span><span style=\"color: #00ff00; text-decoration-color: #00ff00; font-weight: bold; font-style: italic\">True</span><span style=\"color: #c6c6c6; text-decoration-color: #c6c6c6; font-weight: bold\"> pf:</span><span style=\"color: #00ff00; text-decoration-color: #00ff00; font-weight: bold; font-style: italic\">True</span><span style=\"color: #c6c6c6; text-decoration-color: #c6c6c6; font-weight: bold\"> k</span><span style=\"color: #00ff00; text-decoration-color: #00ff00; font-weight: bold\">f:Fa</span><span style=\"color: #c6c6c6; text-decoration-color: #c6c6c6; font-weight: bold\">lse index</span><span style=\"color: #00ff00; text-decoration-color: #00ff00; font-weight: bold\">f:Fa</span><span style=\"color: #c6c6c6; text-decoration-color: #c6c6c6; font-weight: bold\">lse                       </span><a href=\"file:///data/home/cwy/Science/3MLWCDA/Standard/src/./mylib/Myfit.py\" target=\"_blank\"><span style=\"color: #7f7f7f; text-decoration-color: #7f7f7f\">Myfit.py</span></a><span style=\"color: #7f7f7f; text-decoration-color: #7f7f7f\">:</span><a href=\"file:///data/home/cwy/Science/3MLWCDA/Standard/src/./mylib/Myfit.py#320\" target=\"_blank\"><span style=\"color: #7f7f7f; text-decoration-color: #7f7f7f\">320</span></a>\n",
       "</pre>\n"
      ],
      "text/plain": [
       "\u001b[38;5;46m        \u001b[0m\u001b[38;5;46m \u001b[0m\u001b[38;5;49mINFO    \u001b[0m \u001b[1;38;5;251m J1912P1014u in roi: \u001b[0m\u001b[1;37m7.0\u001b[0m\u001b[1;38;5;251m sf:\u001b[0m\u001b[1;3;92mTrue\u001b[0m\u001b[1;38;5;251m pf:\u001b[0m\u001b[1;3;92mTrue\u001b[0m\u001b[1;38;5;251m k\u001b[0m\u001b[1;92mf:Fa\u001b[0m\u001b[1;38;5;251mlse index\u001b[0m\u001b[1;92mf:Fa\u001b[0m\u001b[1;38;5;251mlse                      \u001b[0m\u001b[1;38;5;251m \u001b[0m\u001b]8;id=45417;file:///data/home/cwy/Science/3MLWCDA/Standard/src/./mylib/Myfit.py\u001b\\\u001b[2mMyfit.py\u001b[0m\u001b]8;;\u001b\\\u001b[2m:\u001b[0m\u001b]8;id=585720;file:///data/home/cwy/Science/3MLWCDA/Standard/src/./mylib/Myfit.py#320\u001b\\\u001b[2m320\u001b[0m\u001b]8;;\u001b\\\n"
      ]
     },
     "metadata": {},
     "output_type": "display_data"
    },
    {
     "data": {
      "text/html": [
       "<pre style=\"white-space:pre;overflow-x:auto;line-height:normal;font-family:Menlo,'DejaVu Sans Mono',consolas,'Courier New',monospace\"><span style=\"color: #00ff00; text-decoration-color: #00ff00\">         </span><span style=\"color: #00ffaf; text-decoration-color: #00ffaf\">INFO    </span> <span style=\"color: #c6c6c6; text-decoration-color: #c6c6c6; font-weight: bold\"> Spec:                                                                               </span><a href=\"file:///data/home/cwy/Science/3MLWCDA/Standard/src/./mylib/Myfit.py\" target=\"_blank\"><span style=\"color: #7f7f7f; text-decoration-color: #7f7f7f\">Myfit.py</span></a><span style=\"color: #7f7f7f; text-decoration-color: #7f7f7f\">:</span><a href=\"file:///data/home/cwy/Science/3MLWCDA/Standard/src/./mylib/Myfit.py#348\" target=\"_blank\"><span style=\"color: #7f7f7f; text-decoration-color: #7f7f7f\">348</span></a>\n",
       "<span style=\"color: #00ff00; text-decoration-color: #00ff00\">         </span>         <span style=\"color: #c6c6c6; text-decoration-color: #c6c6c6; font-weight: bold\"> </span><span style=\"color: #808000; text-decoration-color: #808000; font-weight: bold\">K</span><span style=\"color: #c6c6c6; text-decoration-color: #c6c6c6; font-weight: bold\">=</span><span style=\"color: #c0c0c0; text-decoration-color: #c0c0c0; font-weight: bold\">1</span><span style=\"color: #c0c0c0; text-decoration-color: #c0c0c0; font-weight: bold\">.52e-16</span><span style=\"color: #c6c6c6; text-decoration-color: #c6c6c6; font-weight: bold\"> </span><span style=\"color: #808000; text-decoration-color: #808000; font-weight: bold\">kb</span><span style=\"color: #c6c6c6; text-decoration-color: #c6c6c6; font-weight: bold\">=(</span><span style=\"color: #c0c0c0; text-decoration-color: #c0c0c0; font-weight: bold\">1.52e-18</span><span style=\"color: #c6c6c6; text-decoration-color: #c6c6c6; font-weight: bold\">, </span><span style=\"color: #c0c0c0; text-decoration-color: #c0c0c0; font-weight: bold\">3.52e-16</span><span style=\"color: #c6c6c6; text-decoration-color: #c6c6c6; font-weight: bold\">) </span><span style=\"color: #808000; text-decoration-color: #808000; font-weight: bold\">index</span><span style=\"color: #c6c6c6; text-decoration-color: #c6c6c6; font-weight: bold\">=</span><span style=\"color: #c0c0c0; text-decoration-color: #c0c0c0; font-weight: bold\">-3.26</span><span style=\"color: #c6c6c6; text-decoration-color: #c6c6c6; font-weight: bold\"> </span><span style=\"color: #808000; text-decoration-color: #808000; font-weight: bold\">indexb</span><span style=\"color: #c6c6c6; text-decoration-color: #c6c6c6; font-weight: bold\">=(</span><span style=\"color: #c0c0c0; text-decoration-color: #c0c0c0; font-weight: bold\">-4.36</span><span style=\"color: #c6c6c6; text-decoration-color: #c6c6c6; font-weight: bold\">,</span><span style=\"color: #c0c0c0; text-decoration-color: #c0c0c0; font-weight: bold\">-2.16</span><span style=\"color: #c6c6c6; text-decoration-color: #c6c6c6; font-weight: bold\">)                 </span><span style=\"color: #7f7f7f; text-decoration-color: #7f7f7f\">            </span>\n",
       "</pre>\n"
      ],
      "text/plain": [
       "\u001b[38;5;46m        \u001b[0m\u001b[38;5;46m \u001b[0m\u001b[38;5;49mINFO    \u001b[0m \u001b[1;38;5;251m Spec:                                                                              \u001b[0m\u001b[1;38;5;251m \u001b[0m\u001b]8;id=411486;file:///data/home/cwy/Science/3MLWCDA/Standard/src/./mylib/Myfit.py\u001b\\\u001b[2mMyfit.py\u001b[0m\u001b]8;;\u001b\\\u001b[2m:\u001b[0m\u001b]8;id=839449;file:///data/home/cwy/Science/3MLWCDA/Standard/src/./mylib/Myfit.py#348\u001b\\\u001b[2m348\u001b[0m\u001b]8;;\u001b\\\n",
       "\u001b[38;5;46m         \u001b[0m         \u001b[1;38;5;251m \u001b[0m\u001b[1;33mK\u001b[0m\u001b[1;38;5;251m=\u001b[0m\u001b[1;37m1\u001b[0m\u001b[1;37m.52e-16\u001b[0m\u001b[1;38;5;251m \u001b[0m\u001b[1;33mkb\u001b[0m\u001b[1;38;5;251m=\u001b[0m\u001b[1;38;5;251m(\u001b[0m\u001b[1;37m1.52e-18\u001b[0m\u001b[1;38;5;251m, \u001b[0m\u001b[1;37m3.52e-16\u001b[0m\u001b[1;38;5;251m)\u001b[0m\u001b[1;38;5;251m \u001b[0m\u001b[1;33mindex\u001b[0m\u001b[1;38;5;251m=\u001b[0m\u001b[1;37m-3.26\u001b[0m\u001b[1;38;5;251m \u001b[0m\u001b[1;33mindexb\u001b[0m\u001b[1;38;5;251m=\u001b[0m\u001b[1;38;5;251m(\u001b[0m\u001b[1;37m-4.36\u001b[0m\u001b[1;38;5;251m,\u001b[0m\u001b[1;37m-2.16\u001b[0m\u001b[1;38;5;251m)\u001b[0m\u001b[1;38;5;251m                \u001b[0m\u001b[1;38;5;251m \u001b[0m\u001b[2m            \u001b[0m\n"
      ]
     },
     "metadata": {},
     "output_type": "display_data"
    },
    {
     "data": {
      "text/html": [
       "<pre style=\"white-space:pre;overflow-x:auto;line-height:normal;font-family:Menlo,'DejaVu Sans Mono',consolas,'Courier New',monospace\"><span style=\"color: #00ff00; text-decoration-color: #00ff00\">         </span><span style=\"color: #00ffaf; text-decoration-color: #00ffaf\">INFO    </span> <span style=\"color: #c6c6c6; text-decoration-color: #c6c6c6; font-weight: bold\"> Mor:                                                                                </span><a href=\"file:///data/home/cwy/Science/3MLWCDA/Standard/src/./mylib/Myfit.py\" target=\"_blank\"><span style=\"color: #7f7f7f; text-decoration-color: #7f7f7f\">Myfit.py</span></a><span style=\"color: #7f7f7f; text-decoration-color: #7f7f7f\">:</span><a href=\"file:///data/home/cwy/Science/3MLWCDA/Standard/src/./mylib/Myfit.py#350\" target=\"_blank\"><span style=\"color: #7f7f7f; text-decoration-color: #7f7f7f\">350</span></a>\n",
       "<span style=\"color: #00ff00; text-decoration-color: #00ff00\">         </span>         <span style=\"color: #c6c6c6; text-decoration-color: #c6c6c6; font-weight: bold\"> </span><span style=\"color: #808000; text-decoration-color: #808000; font-weight: bold\">sigma</span><span style=\"color: #c6c6c6; text-decoration-color: #c6c6c6; font-weight: bold\">=</span><span style=\"color: #c0c0c0; text-decoration-color: #c0c0c0; font-weight: bold\">0</span><span style=\"color: #c0c0c0; text-decoration-color: #c0c0c0; font-weight: bold\">.50</span><span style=\"color: #c6c6c6; text-decoration-color: #c6c6c6; font-weight: bold\"> </span><span style=\"color: #808000; text-decoration-color: #808000; font-weight: bold\">sb</span><span style=\"color: #c6c6c6; text-decoration-color: #c6c6c6; font-weight: bold\">=(</span><span style=\"color: #c0c0c0; text-decoration-color: #c0c0c0; font-weight: bold\">0.30</span><span style=\"color: #c6c6c6; text-decoration-color: #c6c6c6; font-weight: bold\">,</span><span style=\"color: #c0c0c0; text-decoration-color: #c0c0c0; font-weight: bold\">0.70</span><span style=\"color: #c6c6c6; text-decoration-color: #c6c6c6; font-weight: bold\">) </span><span style=\"color: #808000; text-decoration-color: #808000; font-weight: bold\">fitrange</span><span style=\"color: #c6c6c6; text-decoration-color: #c6c6c6; font-weight: bold\">=</span><span style=\"color: #c0c0c0; text-decoration-color: #c0c0c0; font-weight: bold\">0</span><span style=\"color: #c0c0c0; text-decoration-color: #c0c0c0; font-weight: bold\">.65</span><span style=\"color: #c6c6c6; text-decoration-color: #c6c6c6; font-weight: bold\">                                             </span><span style=\"color: #7f7f7f; text-decoration-color: #7f7f7f\">            </span>\n",
       "</pre>\n"
      ],
      "text/plain": [
       "\u001b[38;5;46m        \u001b[0m\u001b[38;5;46m \u001b[0m\u001b[38;5;49mINFO    \u001b[0m \u001b[1;38;5;251m Mor:                                                                               \u001b[0m\u001b[1;38;5;251m \u001b[0m\u001b]8;id=672848;file:///data/home/cwy/Science/3MLWCDA/Standard/src/./mylib/Myfit.py\u001b\\\u001b[2mMyfit.py\u001b[0m\u001b]8;;\u001b\\\u001b[2m:\u001b[0m\u001b]8;id=272232;file:///data/home/cwy/Science/3MLWCDA/Standard/src/./mylib/Myfit.py#350\u001b\\\u001b[2m350\u001b[0m\u001b]8;;\u001b\\\n",
       "\u001b[38;5;46m         \u001b[0m         \u001b[1;38;5;251m \u001b[0m\u001b[1;33msigma\u001b[0m\u001b[1;38;5;251m=\u001b[0m\u001b[1;37m0\u001b[0m\u001b[1;37m.50\u001b[0m\u001b[1;38;5;251m \u001b[0m\u001b[1;33msb\u001b[0m\u001b[1;38;5;251m=\u001b[0m\u001b[1;38;5;251m(\u001b[0m\u001b[1;37m0.30\u001b[0m\u001b[1;38;5;251m,\u001b[0m\u001b[1;37m0.70\u001b[0m\u001b[1;38;5;251m)\u001b[0m\u001b[1;38;5;251m \u001b[0m\u001b[1;33mfitrange\u001b[0m\u001b[1;38;5;251m=\u001b[0m\u001b[1;37m0\u001b[0m\u001b[1;37m.65\u001b[0m\u001b[1;38;5;251m                                            \u001b[0m\u001b[1;38;5;251m \u001b[0m\u001b[2m            \u001b[0m\n"
      ]
     },
     "metadata": {},
     "output_type": "display_data"
    },
    {
     "data": {
      "text/html": [
       "<pre style=\"white-space:pre;overflow-x:auto;line-height:normal;font-family:Menlo,'DejaVu Sans Mono',consolas,'Courier New',monospace\"><span style=\"color: #00ff00; text-decoration-color: #00ff00\">         </span><span style=\"color: #00ffaf; text-decoration-color: #00ffaf\">INFO    </span> <span style=\"color: #c6c6c6; text-decoration-color: #c6c6c6; font-weight: bold\"> J1913P0501 in roi: </span><span style=\"color: #c0c0c0; text-decoration-color: #c0c0c0; font-weight: bold\">7.0</span><span style=\"color: #c6c6c6; text-decoration-color: #c6c6c6; font-weight: bold\"> sf:</span><span style=\"color: #00ff00; text-decoration-color: #00ff00; font-weight: bold; font-style: italic\">True</span><span style=\"color: #c6c6c6; text-decoration-color: #c6c6c6; font-weight: bold\"> pf:</span><span style=\"color: #00ff00; text-decoration-color: #00ff00; font-weight: bold; font-style: italic\">True</span><span style=\"color: #c6c6c6; text-decoration-color: #c6c6c6; font-weight: bold\"> k</span><span style=\"color: #00ff00; text-decoration-color: #00ff00; font-weight: bold\">f:Fa</span><span style=\"color: #c6c6c6; text-decoration-color: #c6c6c6; font-weight: bold\">lse index</span><span style=\"color: #00ff00; text-decoration-color: #00ff00; font-weight: bold\">f:Fa</span><span style=\"color: #c6c6c6; text-decoration-color: #c6c6c6; font-weight: bold\">lse                        </span><a href=\"file:///data/home/cwy/Science/3MLWCDA/Standard/src/./mylib/Myfit.py\" target=\"_blank\"><span style=\"color: #7f7f7f; text-decoration-color: #7f7f7f\">Myfit.py</span></a><span style=\"color: #7f7f7f; text-decoration-color: #7f7f7f\">:</span><a href=\"file:///data/home/cwy/Science/3MLWCDA/Standard/src/./mylib/Myfit.py#320\" target=\"_blank\"><span style=\"color: #7f7f7f; text-decoration-color: #7f7f7f\">320</span></a>\n",
       "</pre>\n"
      ],
      "text/plain": [
       "\u001b[38;5;46m        \u001b[0m\u001b[38;5;46m \u001b[0m\u001b[38;5;49mINFO    \u001b[0m \u001b[1;38;5;251m J1913P0501 in roi: \u001b[0m\u001b[1;37m7.0\u001b[0m\u001b[1;38;5;251m sf:\u001b[0m\u001b[1;3;92mTrue\u001b[0m\u001b[1;38;5;251m pf:\u001b[0m\u001b[1;3;92mTrue\u001b[0m\u001b[1;38;5;251m k\u001b[0m\u001b[1;92mf:Fa\u001b[0m\u001b[1;38;5;251mlse index\u001b[0m\u001b[1;92mf:Fa\u001b[0m\u001b[1;38;5;251mlse                       \u001b[0m\u001b[1;38;5;251m \u001b[0m\u001b]8;id=547454;file:///data/home/cwy/Science/3MLWCDA/Standard/src/./mylib/Myfit.py\u001b\\\u001b[2mMyfit.py\u001b[0m\u001b]8;;\u001b\\\u001b[2m:\u001b[0m\u001b]8;id=617259;file:///data/home/cwy/Science/3MLWCDA/Standard/src/./mylib/Myfit.py#320\u001b\\\u001b[2m320\u001b[0m\u001b]8;;\u001b\\\n"
      ]
     },
     "metadata": {},
     "output_type": "display_data"
    },
    {
     "data": {
      "text/html": [
       "<pre style=\"white-space:pre;overflow-x:auto;line-height:normal;font-family:Menlo,'DejaVu Sans Mono',consolas,'Courier New',monospace\"><span style=\"color: #00ff00; text-decoration-color: #00ff00\">         </span><span style=\"color: #00ffaf; text-decoration-color: #00ffaf\">INFO    </span> <span style=\"color: #c6c6c6; text-decoration-color: #c6c6c6; font-weight: bold\"> Spec:                                                                               </span><a href=\"file:///data/home/cwy/Science/3MLWCDA/Standard/src/./mylib/Myfit.py\" target=\"_blank\"><span style=\"color: #7f7f7f; text-decoration-color: #7f7f7f\">Myfit.py</span></a><span style=\"color: #7f7f7f; text-decoration-color: #7f7f7f\">:</span><a href=\"file:///data/home/cwy/Science/3MLWCDA/Standard/src/./mylib/Myfit.py#348\" target=\"_blank\"><span style=\"color: #7f7f7f; text-decoration-color: #7f7f7f\">348</span></a>\n",
       "<span style=\"color: #00ff00; text-decoration-color: #00ff00\">         </span>         <span style=\"color: #c6c6c6; text-decoration-color: #c6c6c6; font-weight: bold\"> </span><span style=\"color: #808000; text-decoration-color: #808000; font-weight: bold\">K</span><span style=\"color: #c6c6c6; text-decoration-color: #c6c6c6; font-weight: bold\">=</span><span style=\"color: #c0c0c0; text-decoration-color: #c0c0c0; font-weight: bold\">4</span><span style=\"color: #c0c0c0; text-decoration-color: #c0c0c0; font-weight: bold\">.50e-17</span><span style=\"color: #c6c6c6; text-decoration-color: #c6c6c6; font-weight: bold\"> </span><span style=\"color: #808000; text-decoration-color: #808000; font-weight: bold\">kb</span><span style=\"color: #c6c6c6; text-decoration-color: #c6c6c6; font-weight: bold\">=(</span><span style=\"color: #c0c0c0; text-decoration-color: #c0c0c0; font-weight: bold\">1.00e-18</span><span style=\"color: #c6c6c6; text-decoration-color: #c6c6c6; font-weight: bold\">, </span><span style=\"color: #c0c0c0; text-decoration-color: #c0c0c0; font-weight: bold\">1.65e-16</span><span style=\"color: #c6c6c6; text-decoration-color: #c6c6c6; font-weight: bold\">) </span><span style=\"color: #808000; text-decoration-color: #808000; font-weight: bold\">index</span><span style=\"color: #c6c6c6; text-decoration-color: #c6c6c6; font-weight: bold\">=</span><span style=\"color: #c0c0c0; text-decoration-color: #c0c0c0; font-weight: bold\">-3.30</span><span style=\"color: #c6c6c6; text-decoration-color: #c6c6c6; font-weight: bold\"> </span><span style=\"color: #808000; text-decoration-color: #808000; font-weight: bold\">indexb</span><span style=\"color: #c6c6c6; text-decoration-color: #c6c6c6; font-weight: bold\">=(</span><span style=\"color: #c0c0c0; text-decoration-color: #c0c0c0; font-weight: bold\">-5.10</span><span style=\"color: #c6c6c6; text-decoration-color: #c6c6c6; font-weight: bold\">,</span><span style=\"color: #c0c0c0; text-decoration-color: #c0c0c0; font-weight: bold\">-1.50</span><span style=\"color: #c6c6c6; text-decoration-color: #c6c6c6; font-weight: bold\">)                 </span><span style=\"color: #7f7f7f; text-decoration-color: #7f7f7f\">            </span>\n",
       "</pre>\n"
      ],
      "text/plain": [
       "\u001b[38;5;46m        \u001b[0m\u001b[38;5;46m \u001b[0m\u001b[38;5;49mINFO    \u001b[0m \u001b[1;38;5;251m Spec:                                                                              \u001b[0m\u001b[1;38;5;251m \u001b[0m\u001b]8;id=899981;file:///data/home/cwy/Science/3MLWCDA/Standard/src/./mylib/Myfit.py\u001b\\\u001b[2mMyfit.py\u001b[0m\u001b]8;;\u001b\\\u001b[2m:\u001b[0m\u001b]8;id=888311;file:///data/home/cwy/Science/3MLWCDA/Standard/src/./mylib/Myfit.py#348\u001b\\\u001b[2m348\u001b[0m\u001b]8;;\u001b\\\n",
       "\u001b[38;5;46m         \u001b[0m         \u001b[1;38;5;251m \u001b[0m\u001b[1;33mK\u001b[0m\u001b[1;38;5;251m=\u001b[0m\u001b[1;37m4\u001b[0m\u001b[1;37m.50e-17\u001b[0m\u001b[1;38;5;251m \u001b[0m\u001b[1;33mkb\u001b[0m\u001b[1;38;5;251m=\u001b[0m\u001b[1;38;5;251m(\u001b[0m\u001b[1;37m1.00e-18\u001b[0m\u001b[1;38;5;251m, \u001b[0m\u001b[1;37m1.65e-16\u001b[0m\u001b[1;38;5;251m)\u001b[0m\u001b[1;38;5;251m \u001b[0m\u001b[1;33mindex\u001b[0m\u001b[1;38;5;251m=\u001b[0m\u001b[1;37m-3.30\u001b[0m\u001b[1;38;5;251m \u001b[0m\u001b[1;33mindexb\u001b[0m\u001b[1;38;5;251m=\u001b[0m\u001b[1;38;5;251m(\u001b[0m\u001b[1;37m-5.10\u001b[0m\u001b[1;38;5;251m,\u001b[0m\u001b[1;37m-1.50\u001b[0m\u001b[1;38;5;251m)\u001b[0m\u001b[1;38;5;251m                \u001b[0m\u001b[1;38;5;251m \u001b[0m\u001b[2m            \u001b[0m\n"
      ]
     },
     "metadata": {},
     "output_type": "display_data"
    },
    {
     "data": {
      "text/html": [
       "<pre style=\"white-space:pre;overflow-x:auto;line-height:normal;font-family:Menlo,'DejaVu Sans Mono',consolas,'Courier New',monospace\"><span style=\"color: #00ff00; text-decoration-color: #00ff00\">         </span><span style=\"color: #00ffaf; text-decoration-color: #00ffaf\">INFO    </span> <span style=\"color: #c6c6c6; text-decoration-color: #c6c6c6; font-weight: bold\"> Mor: </span><span style=\"color: #808000; text-decoration-color: #808000; font-weight: bold\">fitrange</span><span style=\"color: #c6c6c6; text-decoration-color: #c6c6c6; font-weight: bold\">=</span><span style=\"color: #c0c0c0; text-decoration-color: #c0c0c0; font-weight: bold\">0</span><span style=\"color: #c0c0c0; text-decoration-color: #c0c0c0; font-weight: bold\">.55</span><span style=\"color: #c6c6c6; text-decoration-color: #c6c6c6; font-weight: bold\">                                                                  </span><a href=\"file:///data/home/cwy/Science/3MLWCDA/Standard/src/./mylib/Myfit.py\" target=\"_blank\"><span style=\"color: #7f7f7f; text-decoration-color: #7f7f7f\">Myfit.py</span></a><span style=\"color: #7f7f7f; text-decoration-color: #7f7f7f\">:</span><a href=\"file:///data/home/cwy/Science/3MLWCDA/Standard/src/./mylib/Myfit.py#358\" target=\"_blank\"><span style=\"color: #7f7f7f; text-decoration-color: #7f7f7f\">358</span></a>\n",
       "</pre>\n"
      ],
      "text/plain": [
       "\u001b[38;5;46m        \u001b[0m\u001b[38;5;46m \u001b[0m\u001b[38;5;49mINFO    \u001b[0m \u001b[1;38;5;251m Mor: \u001b[0m\u001b[1;33mfitrange\u001b[0m\u001b[1;38;5;251m=\u001b[0m\u001b[1;37m0\u001b[0m\u001b[1;37m.55\u001b[0m\u001b[1;38;5;251m                                                                 \u001b[0m\u001b[1;38;5;251m \u001b[0m\u001b]8;id=913577;file:///data/home/cwy/Science/3MLWCDA/Standard/src/./mylib/Myfit.py\u001b\\\u001b[2mMyfit.py\u001b[0m\u001b]8;;\u001b\\\u001b[2m:\u001b[0m\u001b]8;id=377096;file:///data/home/cwy/Science/3MLWCDA/Standard/src/./mylib/Myfit.py#358\u001b\\\u001b[2m358\u001b[0m\u001b]8;;\u001b\\\n"
      ]
     },
     "metadata": {},
     "output_type": "display_data"
    },
    {
     "data": {
      "text/html": [
       "<pre style=\"white-space:pre;overflow-x:auto;line-height:normal;font-family:Menlo,'DejaVu Sans Mono',consolas,'Courier New',monospace\"><span style=\"color: #00ff00; text-decoration-color: #00ff00\">         </span><span style=\"color: #00ffaf; text-decoration-color: #00ffaf\">INFO    </span> <span style=\"color: #c6c6c6; text-decoration-color: #c6c6c6; font-weight: bold\"> J1914P1150u in model_radius: </span><span style=\"color: #c0c0c0; text-decoration-color: #c0c0c0; font-weight: bold\">7.5</span><span style=\"color: #c6c6c6; text-decoration-color: #c6c6c6; font-weight: bold\"> sf:</span><span style=\"color: #00ff00; text-decoration-color: #00ff00; font-weight: bold; font-style: italic\">True</span><span style=\"color: #c6c6c6; text-decoration-color: #c6c6c6; font-weight: bold\"> pf:</span><span style=\"color: #00ff00; text-decoration-color: #00ff00; font-weight: bold; font-style: italic\">True</span><span style=\"color: #c6c6c6; text-decoration-color: #c6c6c6; font-weight: bold\"> k</span><span style=\"color: #00ff00; text-decoration-color: #00ff00; font-weight: bold\">f:Fa</span><span style=\"color: #c6c6c6; text-decoration-color: #c6c6c6; font-weight: bold\">lse index</span><span style=\"color: #00ff00; text-decoration-color: #00ff00; font-weight: bold\">f:Fa</span><span style=\"color: #c6c6c6; text-decoration-color: #c6c6c6; font-weight: bold\">lse              </span><a href=\"file:///data/home/cwy/Science/3MLWCDA/Standard/src/./mylib/Myfit.py\" target=\"_blank\"><span style=\"color: #7f7f7f; text-decoration-color: #7f7f7f\">Myfit.py</span></a><span style=\"color: #7f7f7f; text-decoration-color: #7f7f7f\">:</span><a href=\"file:///data/home/cwy/Science/3MLWCDA/Standard/src/./mylib/Myfit.py#327\" target=\"_blank\"><span style=\"color: #7f7f7f; text-decoration-color: #7f7f7f\">327</span></a>\n",
       "</pre>\n"
      ],
      "text/plain": [
       "\u001b[38;5;46m        \u001b[0m\u001b[38;5;46m \u001b[0m\u001b[38;5;49mINFO    \u001b[0m \u001b[1;38;5;251m J1914P1150u in model_radius: \u001b[0m\u001b[1;37m7.5\u001b[0m\u001b[1;38;5;251m sf:\u001b[0m\u001b[1;3;92mTrue\u001b[0m\u001b[1;38;5;251m pf:\u001b[0m\u001b[1;3;92mTrue\u001b[0m\u001b[1;38;5;251m k\u001b[0m\u001b[1;92mf:Fa\u001b[0m\u001b[1;38;5;251mlse index\u001b[0m\u001b[1;92mf:Fa\u001b[0m\u001b[1;38;5;251mlse             \u001b[0m\u001b[1;38;5;251m \u001b[0m\u001b]8;id=160240;file:///data/home/cwy/Science/3MLWCDA/Standard/src/./mylib/Myfit.py\u001b\\\u001b[2mMyfit.py\u001b[0m\u001b]8;;\u001b\\\u001b[2m:\u001b[0m\u001b]8;id=521938;file:///data/home/cwy/Science/3MLWCDA/Standard/src/./mylib/Myfit.py#327\u001b\\\u001b[2m327\u001b[0m\u001b]8;;\u001b\\\n"
      ]
     },
     "metadata": {},
     "output_type": "display_data"
    },
    {
     "data": {
      "text/html": [
       "<pre style=\"white-space:pre;overflow-x:auto;line-height:normal;font-family:Menlo,'DejaVu Sans Mono',consolas,'Courier New',monospace\"><span style=\"color: #00ff00; text-decoration-color: #00ff00\">         </span><span style=\"color: #00ffaf; text-decoration-color: #00ffaf\">INFO    </span> <span style=\"color: #c6c6c6; text-decoration-color: #c6c6c6; font-weight: bold\"> Spec:                                                                               </span><a href=\"file:///data/home/cwy/Science/3MLWCDA/Standard/src/./mylib/Myfit.py\" target=\"_blank\"><span style=\"color: #7f7f7f; text-decoration-color: #7f7f7f\">Myfit.py</span></a><span style=\"color: #7f7f7f; text-decoration-color: #7f7f7f\">:</span><a href=\"file:///data/home/cwy/Science/3MLWCDA/Standard/src/./mylib/Myfit.py#348\" target=\"_blank\"><span style=\"color: #7f7f7f; text-decoration-color: #7f7f7f\">348</span></a>\n",
       "<span style=\"color: #00ff00; text-decoration-color: #00ff00\">         </span>         <span style=\"color: #c6c6c6; text-decoration-color: #c6c6c6; font-weight: bold\"> </span><span style=\"color: #808000; text-decoration-color: #808000; font-weight: bold\">K</span><span style=\"color: #c6c6c6; text-decoration-color: #c6c6c6; font-weight: bold\">=</span><span style=\"color: #c0c0c0; text-decoration-color: #c0c0c0; font-weight: bold\">7</span><span style=\"color: #c0c0c0; text-decoration-color: #c0c0c0; font-weight: bold\">.90e-17</span><span style=\"color: #c6c6c6; text-decoration-color: #c6c6c6; font-weight: bold\"> </span><span style=\"color: #808000; text-decoration-color: #808000; font-weight: bold\">kb</span><span style=\"color: #c6c6c6; text-decoration-color: #c6c6c6; font-weight: bold\">=(</span><span style=\"color: #c0c0c0; text-decoration-color: #c0c0c0; font-weight: bold\">1.00e-18</span><span style=\"color: #c6c6c6; text-decoration-color: #c6c6c6; font-weight: bold\">, </span><span style=\"color: #c0c0c0; text-decoration-color: #c0c0c0; font-weight: bold\">1.99e-16</span><span style=\"color: #c6c6c6; text-decoration-color: #c6c6c6; font-weight: bold\">) </span><span style=\"color: #808000; text-decoration-color: #808000; font-weight: bold\">index</span><span style=\"color: #c6c6c6; text-decoration-color: #c6c6c6; font-weight: bold\">=</span><span style=\"color: #c0c0c0; text-decoration-color: #c0c0c0; font-weight: bold\">-3.41</span><span style=\"color: #c6c6c6; text-decoration-color: #c6c6c6; font-weight: bold\"> </span><span style=\"color: #808000; text-decoration-color: #808000; font-weight: bold\">indexb</span><span style=\"color: #c6c6c6; text-decoration-color: #c6c6c6; font-weight: bold\">=(</span><span style=\"color: #c0c0c0; text-decoration-color: #c0c0c0; font-weight: bold\">-4.71</span><span style=\"color: #c6c6c6; text-decoration-color: #c6c6c6; font-weight: bold\">,</span><span style=\"color: #c0c0c0; text-decoration-color: #c0c0c0; font-weight: bold\">-2.11</span><span style=\"color: #c6c6c6; text-decoration-color: #c6c6c6; font-weight: bold\">)                 </span><span style=\"color: #7f7f7f; text-decoration-color: #7f7f7f\">            </span>\n",
       "</pre>\n"
      ],
      "text/plain": [
       "\u001b[38;5;46m        \u001b[0m\u001b[38;5;46m \u001b[0m\u001b[38;5;49mINFO    \u001b[0m \u001b[1;38;5;251m Spec:                                                                              \u001b[0m\u001b[1;38;5;251m \u001b[0m\u001b]8;id=632556;file:///data/home/cwy/Science/3MLWCDA/Standard/src/./mylib/Myfit.py\u001b\\\u001b[2mMyfit.py\u001b[0m\u001b]8;;\u001b\\\u001b[2m:\u001b[0m\u001b]8;id=953421;file:///data/home/cwy/Science/3MLWCDA/Standard/src/./mylib/Myfit.py#348\u001b\\\u001b[2m348\u001b[0m\u001b]8;;\u001b\\\n",
       "\u001b[38;5;46m         \u001b[0m         \u001b[1;38;5;251m \u001b[0m\u001b[1;33mK\u001b[0m\u001b[1;38;5;251m=\u001b[0m\u001b[1;37m7\u001b[0m\u001b[1;37m.90e-17\u001b[0m\u001b[1;38;5;251m \u001b[0m\u001b[1;33mkb\u001b[0m\u001b[1;38;5;251m=\u001b[0m\u001b[1;38;5;251m(\u001b[0m\u001b[1;37m1.00e-18\u001b[0m\u001b[1;38;5;251m, \u001b[0m\u001b[1;37m1.99e-16\u001b[0m\u001b[1;38;5;251m)\u001b[0m\u001b[1;38;5;251m \u001b[0m\u001b[1;33mindex\u001b[0m\u001b[1;38;5;251m=\u001b[0m\u001b[1;37m-3.41\u001b[0m\u001b[1;38;5;251m \u001b[0m\u001b[1;33mindexb\u001b[0m\u001b[1;38;5;251m=\u001b[0m\u001b[1;38;5;251m(\u001b[0m\u001b[1;37m-4.71\u001b[0m\u001b[1;38;5;251m,\u001b[0m\u001b[1;37m-2.11\u001b[0m\u001b[1;38;5;251m)\u001b[0m\u001b[1;38;5;251m                \u001b[0m\u001b[1;38;5;251m \u001b[0m\u001b[2m            \u001b[0m\n"
      ]
     },
     "metadata": {},
     "output_type": "display_data"
    },
    {
     "data": {
      "text/html": [
       "<pre style=\"white-space:pre;overflow-x:auto;line-height:normal;font-family:Menlo,'DejaVu Sans Mono',consolas,'Courier New',monospace\"><span style=\"color: #00ff00; text-decoration-color: #00ff00\">         </span><span style=\"color: #00ffaf; text-decoration-color: #00ffaf\">INFO    </span> <span style=\"color: #c6c6c6; text-decoration-color: #c6c6c6; font-weight: bold\"> Mor:                                                                                </span><a href=\"file:///data/home/cwy/Science/3MLWCDA/Standard/src/./mylib/Myfit.py\" target=\"_blank\"><span style=\"color: #7f7f7f; text-decoration-color: #7f7f7f\">Myfit.py</span></a><span style=\"color: #7f7f7f; text-decoration-color: #7f7f7f\">:</span><a href=\"file:///data/home/cwy/Science/3MLWCDA/Standard/src/./mylib/Myfit.py#350\" target=\"_blank\"><span style=\"color: #7f7f7f; text-decoration-color: #7f7f7f\">350</span></a>\n",
       "<span style=\"color: #00ff00; text-decoration-color: #00ff00\">         </span>         <span style=\"color: #c6c6c6; text-decoration-color: #c6c6c6; font-weight: bold\"> </span><span style=\"color: #808000; text-decoration-color: #808000; font-weight: bold\">sigma</span><span style=\"color: #c6c6c6; text-decoration-color: #c6c6c6; font-weight: bold\">=</span><span style=\"color: #c0c0c0; text-decoration-color: #c0c0c0; font-weight: bold\">0</span><span style=\"color: #c0c0c0; text-decoration-color: #c0c0c0; font-weight: bold\">.21</span><span style=\"color: #c6c6c6; text-decoration-color: #c6c6c6; font-weight: bold\"> </span><span style=\"color: #808000; text-decoration-color: #808000; font-weight: bold\">sb</span><span style=\"color: #c6c6c6; text-decoration-color: #c6c6c6; font-weight: bold\">=(</span><span style=\"color: #c0c0c0; text-decoration-color: #c0c0c0; font-weight: bold\">0.01</span><span style=\"color: #c6c6c6; text-decoration-color: #c6c6c6; font-weight: bold\">,</span><span style=\"color: #c0c0c0; text-decoration-color: #c0c0c0; font-weight: bold\">0.41</span><span style=\"color: #c6c6c6; text-decoration-color: #c6c6c6; font-weight: bold\">) </span><span style=\"color: #808000; text-decoration-color: #808000; font-weight: bold\">fitrange</span><span style=\"color: #c6c6c6; text-decoration-color: #c6c6c6; font-weight: bold\">=</span><span style=\"color: #c0c0c0; text-decoration-color: #c0c0c0; font-weight: bold\">0</span><span style=\"color: #c0c0c0; text-decoration-color: #c0c0c0; font-weight: bold\">.45</span><span style=\"color: #c6c6c6; text-decoration-color: #c6c6c6; font-weight: bold\">                                             </span><span style=\"color: #7f7f7f; text-decoration-color: #7f7f7f\">            </span>\n",
       "</pre>\n"
      ],
      "text/plain": [
       "\u001b[38;5;46m        \u001b[0m\u001b[38;5;46m \u001b[0m\u001b[38;5;49mINFO    \u001b[0m \u001b[1;38;5;251m Mor:                                                                               \u001b[0m\u001b[1;38;5;251m \u001b[0m\u001b]8;id=706609;file:///data/home/cwy/Science/3MLWCDA/Standard/src/./mylib/Myfit.py\u001b\\\u001b[2mMyfit.py\u001b[0m\u001b]8;;\u001b\\\u001b[2m:\u001b[0m\u001b]8;id=74138;file:///data/home/cwy/Science/3MLWCDA/Standard/src/./mylib/Myfit.py#350\u001b\\\u001b[2m350\u001b[0m\u001b]8;;\u001b\\\n",
       "\u001b[38;5;46m         \u001b[0m         \u001b[1;38;5;251m \u001b[0m\u001b[1;33msigma\u001b[0m\u001b[1;38;5;251m=\u001b[0m\u001b[1;37m0\u001b[0m\u001b[1;37m.21\u001b[0m\u001b[1;38;5;251m \u001b[0m\u001b[1;33msb\u001b[0m\u001b[1;38;5;251m=\u001b[0m\u001b[1;38;5;251m(\u001b[0m\u001b[1;37m0.01\u001b[0m\u001b[1;38;5;251m,\u001b[0m\u001b[1;37m0.41\u001b[0m\u001b[1;38;5;251m)\u001b[0m\u001b[1;38;5;251m \u001b[0m\u001b[1;33mfitrange\u001b[0m\u001b[1;38;5;251m=\u001b[0m\u001b[1;37m0\u001b[0m\u001b[1;37m.45\u001b[0m\u001b[1;38;5;251m                                            \u001b[0m\u001b[1;38;5;251m \u001b[0m\u001b[2m            \u001b[0m\n"
      ]
     },
     "metadata": {},
     "output_type": "display_data"
    },
    {
     "data": {
      "text/html": [
       "<pre style=\"white-space:pre;overflow-x:auto;line-height:normal;font-family:Menlo,'DejaVu Sans Mono',consolas,'Courier New',monospace\"><span style=\"color: #00ff00; text-decoration-color: #00ff00\">         </span><span style=\"color: #00ffaf; text-decoration-color: #00ffaf\">INFO    </span> <span style=\"color: #c6c6c6; text-decoration-color: #c6c6c6; font-weight: bold\"> Set diffuse range: [</span><span style=\"color: #c0c0c0; text-decoration-color: #c0c0c0; font-weight: bold\">31</span><span style=\"color: #c6c6c6; text-decoration-color: #c6c6c6; font-weight: bold\">, </span><span style=\"color: #c0c0c0; text-decoration-color: #c0c0c0; font-weight: bold\">47</span><span style=\"color: #c6c6c6; text-decoration-color: #c6c6c6; font-weight: bold\">] [</span><span style=\"color: #c0c0c0; text-decoration-color: #c0c0c0; font-weight: bold\">-8</span><span style=\"color: #c6c6c6; text-decoration-color: #c6c6c6; font-weight: bold\">, </span><span style=\"color: #c0c0c0; text-decoration-color: #c0c0c0; font-weight: bold\">8</span><span style=\"color: #c6c6c6; text-decoration-color: #c6c6c6; font-weight: bold\">]                                                </span><a href=\"file:///data/home/cwy/Science/3MLWCDA/Standard/src/./mylib/Myfit.py\" target=\"_blank\"><span style=\"color: #7f7f7f; text-decoration-color: #7f7f7f\">Myfit.py</span></a><span style=\"color: #7f7f7f; text-decoration-color: #7f7f7f\">:</span><a href=\"file:///data/home/cwy/Science/3MLWCDA/Standard/src/./mylib/Myfit.py#1159\" target=\"_blank\"><span style=\"color: #7f7f7f; text-decoration-color: #7f7f7f\">1159</span></a>\n",
       "</pre>\n"
      ],
      "text/plain": [
       "\u001b[38;5;46m        \u001b[0m\u001b[38;5;46m \u001b[0m\u001b[38;5;49mINFO    \u001b[0m \u001b[1;38;5;251m Set diffuse range: \u001b[0m\u001b[1;38;5;251m[\u001b[0m\u001b[1;37m31\u001b[0m\u001b[1;38;5;251m, \u001b[0m\u001b[1;37m47\u001b[0m\u001b[1;38;5;251m]\u001b[0m\u001b[1;38;5;251m \u001b[0m\u001b[1;38;5;251m[\u001b[0m\u001b[1;37m-8\u001b[0m\u001b[1;38;5;251m, \u001b[0m\u001b[1;37m8\u001b[0m\u001b[1;38;5;251m]\u001b[0m\u001b[1;38;5;251m                                               \u001b[0m\u001b[1;38;5;251m \u001b[0m\u001b]8;id=736627;file:///data/home/cwy/Science/3MLWCDA/Standard/src/./mylib/Myfit.py\u001b\\\u001b[2mMyfit.py\u001b[0m\u001b]8;;\u001b\\\u001b[2m:\u001b[0m\u001b]8;id=682046;file:///data/home/cwy/Science/3MLWCDA/Standard/src/./mylib/Myfit.py#1159\u001b\\\u001b[2m1159\u001b[0m\u001b]8;;\u001b\\\n"
      ]
     },
     "metadata": {},
     "output_type": "display_data"
    },
    {
     "data": {
      "text/html": [
       "<pre style=\"white-space:pre;overflow-x:auto;line-height:normal;font-family:Menlo,'DejaVu Sans Mono',consolas,'Courier New',monospace\"><span style=\"color: #00ff00; text-decoration-color: #00ff00\">         </span><span style=\"color: #00ffaf; text-decoration-color: #00ffaf\">INFO    </span> <span style=\"color: #c6c6c6; text-decoration-color: #c6c6c6; font-weight: bold\"> ra dec coner:                                                                      </span><a href=\"file:///data/home/cwy/Science/3MLWCDA/Standard/src/./mylib/Myfit.py\" target=\"_blank\"><span style=\"color: #7f7f7f; text-decoration-color: #7f7f7f\">Myfit.py</span></a><span style=\"color: #7f7f7f; text-decoration-color: #7f7f7f\">:</span><a href=\"file:///data/home/cwy/Science/3MLWCDA/Standard/src/./mylib/Myfit.py#1160\" target=\"_blank\"><span style=\"color: #7f7f7f; text-decoration-color: #7f7f7f\">1160</span></a>\n",
       "</pre>\n"
      ],
      "text/plain": [
       "\u001b[38;5;46m        \u001b[0m\u001b[38;5;46m \u001b[0m\u001b[38;5;49mINFO    \u001b[0m \u001b[1;38;5;251m ra dec coner:                                                                     \u001b[0m\u001b[1;38;5;251m \u001b[0m\u001b]8;id=283340;file:///data/home/cwy/Science/3MLWCDA/Standard/src/./mylib/Myfit.py\u001b\\\u001b[2mMyfit.py\u001b[0m\u001b]8;;\u001b\\\u001b[2m:\u001b[0m\u001b]8;id=953275;file:///data/home/cwy/Science/3MLWCDA/Standard/src/./mylib/Myfit.py#1160\u001b\\\u001b[2m1160\u001b[0m\u001b]8;;\u001b\\\n"
      ]
     },
     "metadata": {},
     "output_type": "display_data"
    },
    {
     "data": {
      "text/html": [
       "<pre style=\"white-space:pre;overflow-x:auto;line-height:normal;font-family:Menlo,'DejaVu Sans Mono',consolas,'Courier New',monospace\"><span style=\"color: #00ff00; text-decoration-color: #00ff00\">         </span><span style=\"color: #00ffaf; text-decoration-color: #00ffaf\">INFO    </span> <span style=\"color: #c6c6c6; text-decoration-color: #c6c6c6; font-weight: bold\"> (</span><span style=\"color: #c0c0c0; text-decoration-color: #c0c0c0; font-weight: bold\">289.1237501126153</span><span style=\"color: #c6c6c6; text-decoration-color: #c6c6c6; font-weight: bold\">, </span><span style=\"color: #c0c0c0; text-decoration-color: #c0c0c0; font-weight: bold\">-5.346118102161174</span><span style=\"color: #c6c6c6; text-decoration-color: #c6c6c6; font-weight: bold\">)                                            </span><a href=\"file:///data/home/cwy/Science/3MLWCDA/Standard/src/./mylib/Myfit.py\" target=\"_blank\"><span style=\"color: #7f7f7f; text-decoration-color: #7f7f7f\">Myfit.py</span></a><span style=\"color: #7f7f7f; text-decoration-color: #7f7f7f\">:</span><a href=\"file:///data/home/cwy/Science/3MLWCDA/Standard/src/./mylib/Myfit.py#1161\" target=\"_blank\"><span style=\"color: #7f7f7f; text-decoration-color: #7f7f7f\">1161</span></a>\n",
       "</pre>\n"
      ],
      "text/plain": [
       "\u001b[38;5;46m        \u001b[0m\u001b[38;5;46m \u001b[0m\u001b[38;5;49mINFO    \u001b[0m \u001b[1;38;5;251m \u001b[0m\u001b[1;38;5;251m(\u001b[0m\u001b[1;37m289.1237501126153\u001b[0m\u001b[1;38;5;251m, \u001b[0m\u001b[1;37m-5.346118102161174\u001b[0m\u001b[1;38;5;251m)\u001b[0m\u001b[1;38;5;251m                                           \u001b[0m\u001b[1;38;5;251m \u001b[0m\u001b]8;id=675548;file:///data/home/cwy/Science/3MLWCDA/Standard/src/./mylib/Myfit.py\u001b\\\u001b[2mMyfit.py\u001b[0m\u001b]8;;\u001b\\\u001b[2m:\u001b[0m\u001b]8;id=320694;file:///data/home/cwy/Science/3MLWCDA/Standard/src/./mylib/Myfit.py#1161\u001b\\\u001b[2m1161\u001b[0m\u001b]8;;\u001b\\\n"
      ]
     },
     "metadata": {},
     "output_type": "display_data"
    },
    {
     "data": {
      "text/html": [
       "<pre style=\"white-space:pre;overflow-x:auto;line-height:normal;font-family:Menlo,'DejaVu Sans Mono',consolas,'Courier New',monospace\"><span style=\"color: #00ff00; text-decoration-color: #00ff00\">         </span><span style=\"color: #00ffaf; text-decoration-color: #00ffaf\">INFO    </span> <span style=\"color: #c6c6c6; text-decoration-color: #c6c6c6; font-weight: bold\"> (</span><span style=\"color: #c0c0c0; text-decoration-color: #c0c0c0; font-weight: bold\">296.5291083447021</span><span style=\"color: #c6c6c6; text-decoration-color: #c6c6c6; font-weight: bold\">, </span><span style=\"color: #c0c0c0; text-decoration-color: #c0c0c0; font-weight: bold\">8.671403139733373</span><span style=\"color: #c6c6c6; text-decoration-color: #c6c6c6; font-weight: bold\">)                                             </span><a href=\"file:///data/home/cwy/Science/3MLWCDA/Standard/src/./mylib/Myfit.py\" target=\"_blank\"><span style=\"color: #7f7f7f; text-decoration-color: #7f7f7f\">Myfit.py</span></a><span style=\"color: #7f7f7f; text-decoration-color: #7f7f7f\">:</span><a href=\"file:///data/home/cwy/Science/3MLWCDA/Standard/src/./mylib/Myfit.py#1162\" target=\"_blank\"><span style=\"color: #7f7f7f; text-decoration-color: #7f7f7f\">1162</span></a>\n",
       "</pre>\n"
      ],
      "text/plain": [
       "\u001b[38;5;46m        \u001b[0m\u001b[38;5;46m \u001b[0m\u001b[38;5;49mINFO    \u001b[0m \u001b[1;38;5;251m \u001b[0m\u001b[1;38;5;251m(\u001b[0m\u001b[1;37m296.5291083447021\u001b[0m\u001b[1;38;5;251m, \u001b[0m\u001b[1;37m8.671403139733373\u001b[0m\u001b[1;38;5;251m)\u001b[0m\u001b[1;38;5;251m                                            \u001b[0m\u001b[1;38;5;251m \u001b[0m\u001b]8;id=364615;file:///data/home/cwy/Science/3MLWCDA/Standard/src/./mylib/Myfit.py\u001b\\\u001b[2mMyfit.py\u001b[0m\u001b]8;;\u001b\\\u001b[2m:\u001b[0m\u001b]8;id=442162;file:///data/home/cwy/Science/3MLWCDA/Standard/src/./mylib/Myfit.py#1162\u001b\\\u001b[2m1162\u001b[0m\u001b]8;;\u001b\\\n"
      ]
     },
     "metadata": {},
     "output_type": "display_data"
    },
    {
     "data": {
      "text/html": [
       "<pre style=\"white-space:pre;overflow-x:auto;line-height:normal;font-family:Menlo,'DejaVu Sans Mono',consolas,'Courier New',monospace\"><span style=\"color: #00ff00; text-decoration-color: #00ff00\">         </span><span style=\"color: #00ffaf; text-decoration-color: #00ffaf\">INFO    </span> <span style=\"color: #c6c6c6; text-decoration-color: #c6c6c6; font-weight: bold\"> (</span><span style=\"color: #c0c0c0; text-decoration-color: #c0c0c0; font-weight: bold\">282.018324697397</span><span style=\"color: #c6c6c6; text-decoration-color: #c6c6c6; font-weight: bold\">, </span><span style=\"color: #c0c0c0; text-decoration-color: #c0c0c0; font-weight: bold\">16.12231323547236</span><span style=\"color: #c6c6c6; text-decoration-color: #c6c6c6; font-weight: bold\">)                                              </span><a href=\"file:///data/home/cwy/Science/3MLWCDA/Standard/src/./mylib/Myfit.py\" target=\"_blank\"><span style=\"color: #7f7f7f; text-decoration-color: #7f7f7f\">Myfit.py</span></a><span style=\"color: #7f7f7f; text-decoration-color: #7f7f7f\">:</span><a href=\"file:///data/home/cwy/Science/3MLWCDA/Standard/src/./mylib/Myfit.py#1163\" target=\"_blank\"><span style=\"color: #7f7f7f; text-decoration-color: #7f7f7f\">1163</span></a>\n",
       "</pre>\n"
      ],
      "text/plain": [
       "\u001b[38;5;46m        \u001b[0m\u001b[38;5;46m \u001b[0m\u001b[38;5;49mINFO    \u001b[0m \u001b[1;38;5;251m \u001b[0m\u001b[1;38;5;251m(\u001b[0m\u001b[1;37m282.018324697397\u001b[0m\u001b[1;38;5;251m, \u001b[0m\u001b[1;37m16.12231323547236\u001b[0m\u001b[1;38;5;251m)\u001b[0m\u001b[1;38;5;251m                                             \u001b[0m\u001b[1;38;5;251m \u001b[0m\u001b]8;id=779998;file:///data/home/cwy/Science/3MLWCDA/Standard/src/./mylib/Myfit.py\u001b\\\u001b[2mMyfit.py\u001b[0m\u001b]8;;\u001b\\\u001b[2m:\u001b[0m\u001b]8;id=215125;file:///data/home/cwy/Science/3MLWCDA/Standard/src/./mylib/Myfit.py#1163\u001b\\\u001b[2m1163\u001b[0m\u001b]8;;\u001b\\\n"
      ]
     },
     "metadata": {},
     "output_type": "display_data"
    },
    {
     "data": {
      "text/html": [
       "<pre style=\"white-space:pre;overflow-x:auto;line-height:normal;font-family:Menlo,'DejaVu Sans Mono',consolas,'Courier New',monospace\"><span style=\"color: #00ff00; text-decoration-color: #00ff00\">         </span><span style=\"color: #00ffaf; text-decoration-color: #00ffaf\">INFO    </span> <span style=\"color: #c6c6c6; text-decoration-color: #c6c6c6; font-weight: bold\"> (</span><span style=\"color: #c0c0c0; text-decoration-color: #c0c0c0; font-weight: bold\">274.85999095399006</span><span style=\"color: #c6c6c6; text-decoration-color: #c6c6c6; font-weight: bold\">, </span><span style=\"color: #c0c0c0; text-decoration-color: #c0c0c0; font-weight: bold\">1.9340616592345006</span><span style=\"color: #c6c6c6; text-decoration-color: #c6c6c6; font-weight: bold\">)                                           </span><a href=\"file:///data/home/cwy/Science/3MLWCDA/Standard/src/./mylib/Myfit.py\" target=\"_blank\"><span style=\"color: #7f7f7f; text-decoration-color: #7f7f7f\">Myfit.py</span></a><span style=\"color: #7f7f7f; text-decoration-color: #7f7f7f\">:</span><a href=\"file:///data/home/cwy/Science/3MLWCDA/Standard/src/./mylib/Myfit.py#1164\" target=\"_blank\"><span style=\"color: #7f7f7f; text-decoration-color: #7f7f7f\">1164</span></a>\n",
       "</pre>\n"
      ],
      "text/plain": [
       "\u001b[38;5;46m        \u001b[0m\u001b[38;5;46m \u001b[0m\u001b[38;5;49mINFO    \u001b[0m \u001b[1;38;5;251m \u001b[0m\u001b[1;38;5;251m(\u001b[0m\u001b[1;37m274.85999095399006\u001b[0m\u001b[1;38;5;251m, \u001b[0m\u001b[1;37m1.9340616592345006\u001b[0m\u001b[1;38;5;251m)\u001b[0m\u001b[1;38;5;251m                                          \u001b[0m\u001b[1;38;5;251m \u001b[0m\u001b]8;id=5781;file:///data/home/cwy/Science/3MLWCDA/Standard/src/./mylib/Myfit.py\u001b\\\u001b[2mMyfit.py\u001b[0m\u001b]8;;\u001b\\\u001b[2m:\u001b[0m\u001b]8;id=654807;file:///data/home/cwy/Science/3MLWCDA/Standard/src/./mylib/Myfit.py#1164\u001b\\\u001b[2m1164\u001b[0m\u001b]8;;\u001b\\\n"
      ]
     },
     "metadata": {},
     "output_type": "display_data"
    },
    {
     "data": {
      "text/html": [
       "<pre style=\"white-space:pre;overflow-x:auto;line-height:normal;font-family:Menlo,'DejaVu Sans Mono',consolas,'Courier New',monospace\"><span style=\"color: #00ff00; text-decoration-color: #00ff00\">17:35:10 </span><span style=\"color: #00ffaf; text-decoration-color: #00ffaf\">INFO    </span> <span style=\"color: #c6c6c6; text-decoration-color: #c6c6c6; font-weight: bold\"> total sr: </span><span style=\"color: #c0c0c0; text-decoration-color: #c0c0c0; font-weight: bold\">0.07772890321151499</span><span style=\"color: #c6c6c6; text-decoration-color: #c6c6c6; font-weight: bold\">                                                      </span><a href=\"file:///data/home/cwy/Science/3MLWCDA/Standard/src/./mylib/Myfit.py\" target=\"_blank\"><span style=\"color: #7f7f7f; text-decoration-color: #7f7f7f\">Myfit.py</span></a><span style=\"color: #7f7f7f; text-decoration-color: #7f7f7f\">:</span><a href=\"file:///data/home/cwy/Science/3MLWCDA/Standard/src/./mylib/Myfit.py#1203\" target=\"_blank\"><span style=\"color: #7f7f7f; text-decoration-color: #7f7f7f\">1203</span></a>\n",
       "<span style=\"color: #00ff00; text-decoration-color: #00ff00\">         </span>         <span style=\"color: #c6c6c6; text-decoration-color: #c6c6c6; font-weight: bold\">ratio: </span><span style=\"color: #c0c0c0; text-decoration-color: #c0c0c0; font-weight: bold\">0.028307125215400412</span><span style=\"color: #c6c6c6; text-decoration-color: #c6c6c6; font-weight: bold\">                                                         </span><span style=\"color: #7f7f7f; text-decoration-color: #7f7f7f\">             </span>\n",
       "</pre>\n"
      ],
      "text/plain": [
       "\u001b[38;5;46m17:35:10\u001b[0m\u001b[38;5;46m \u001b[0m\u001b[38;5;49mINFO    \u001b[0m \u001b[1;38;5;251m total sr: \u001b[0m\u001b[1;37m0.07772890321151499\u001b[0m\u001b[1;38;5;251m                                                     \u001b[0m\u001b[1;38;5;251m \u001b[0m\u001b]8;id=169189;file:///data/home/cwy/Science/3MLWCDA/Standard/src/./mylib/Myfit.py\u001b\\\u001b[2mMyfit.py\u001b[0m\u001b]8;;\u001b\\\u001b[2m:\u001b[0m\u001b]8;id=638227;file:///data/home/cwy/Science/3MLWCDA/Standard/src/./mylib/Myfit.py#1203\u001b\\\u001b[2m1203\u001b[0m\u001b]8;;\u001b\\\n",
       "\u001b[38;5;46m         \u001b[0m         \u001b[1;38;5;251mratio: \u001b[0m\u001b[1;37m0.028307125215400412\u001b[0m\u001b[1;38;5;251m                                                        \u001b[0m\u001b[1;38;5;251m \u001b[0m\u001b[2m             \u001b[0m\n"
      ]
     },
     "metadata": {},
     "output_type": "display_data"
    },
    {
     "data": {
      "text/html": [
       "<pre style=\"white-space:pre;overflow-x:auto;line-height:normal;font-family:Menlo,'DejaVu Sans Mono',consolas,'Courier New',monospace\"><span style=\"color: #00ff00; text-decoration-color: #00ff00\">         </span><span style=\"color: #00ffaf; text-decoration-color: #00ffaf\">INFO    </span> <span style=\"color: #c6c6c6; text-decoration-color: #c6c6c6; font-weight: bold\"> integration: </span><span style=\"color: #c0c0c0; text-decoration-color: #c0c0c0; font-weight: bold\">1.096060119544788e-05</span><span style=\"color: #c6c6c6; text-decoration-color: #c6c6c6; font-weight: bold\">                                                 </span><a href=\"file:///data/home/cwy/Science/3MLWCDA/Standard/src/./mylib/Myfit.py\" target=\"_blank\"><span style=\"color: #7f7f7f; text-decoration-color: #7f7f7f\">Myfit.py</span></a><span style=\"color: #7f7f7f; text-decoration-color: #7f7f7f\">:</span><a href=\"file:///data/home/cwy/Science/3MLWCDA/Standard/src/./mylib/Myfit.py#1204\" target=\"_blank\"><span style=\"color: #7f7f7f; text-decoration-color: #7f7f7f\">1204</span></a>\n",
       "<span style=\"color: #00ff00; text-decoration-color: #00ff00\">         </span>         <span style=\"color: #c6c6c6; text-decoration-color: #c6c6c6; font-weight: bold\">ratio: </span><span style=\"color: #c0c0c0; text-decoration-color: #c0c0c0; font-weight: bold\">0.0864962107600871</span><span style=\"color: #c6c6c6; text-decoration-color: #c6c6c6; font-weight: bold\">                                                           </span><span style=\"color: #7f7f7f; text-decoration-color: #7f7f7f\">             </span>\n",
       "</pre>\n"
      ],
      "text/plain": [
       "\u001b[38;5;46m        \u001b[0m\u001b[38;5;46m \u001b[0m\u001b[38;5;49mINFO    \u001b[0m \u001b[1;38;5;251m integration: \u001b[0m\u001b[1;37m1.096060119544788e-05\u001b[0m\u001b[1;38;5;251m                                                \u001b[0m\u001b[1;38;5;251m \u001b[0m\u001b]8;id=62507;file:///data/home/cwy/Science/3MLWCDA/Standard/src/./mylib/Myfit.py\u001b\\\u001b[2mMyfit.py\u001b[0m\u001b]8;;\u001b\\\u001b[2m:\u001b[0m\u001b]8;id=70183;file:///data/home/cwy/Science/3MLWCDA/Standard/src/./mylib/Myfit.py#1204\u001b\\\u001b[2m1204\u001b[0m\u001b]8;;\u001b\\\n",
       "\u001b[38;5;46m         \u001b[0m         \u001b[1;38;5;251mratio: \u001b[0m\u001b[1;37m0.0864962107600871\u001b[0m\u001b[1;38;5;251m                                                          \u001b[0m\u001b[1;38;5;251m \u001b[0m\u001b[2m             \u001b[0m\n"
      ]
     },
     "metadata": {},
     "output_type": "display_data"
    },
    {
     "data": {
      "text/html": [
       "<pre style=\"white-space:pre;overflow-x:auto;line-height:normal;font-family:Menlo,'DejaVu Sans Mono',consolas,'Courier New',monospace\"><span style=\"color: #00ff00; text-decoration-color: #00ff00\">         </span><span style=\"color: #00ffaf; text-decoration-color: #00ffaf\">INFO    </span> <span style=\"color: #c6c6c6; text-decoration-color: #c6c6c6; font-weight: bold\"> set K to: </span><span style=\"color: #c0c0c0; text-decoration-color: #c0c0c0; font-weight: bold\">1.5508411453547317e-12</span><span style=\"color: #c6c6c6; text-decoration-color: #c6c6c6; font-weight: bold\">                                                   </span><a href=\"file:///data/home/cwy/Science/3MLWCDA/Standard/src/./mylib/Myfit.py\" target=\"_blank\"><span style=\"color: #7f7f7f; text-decoration-color: #7f7f7f\">Myfit.py</span></a><span style=\"color: #7f7f7f; text-decoration-color: #7f7f7f\">:</span><a href=\"file:///data/home/cwy/Science/3MLWCDA/Standard/src/./mylib/Myfit.py#1205\" target=\"_blank\"><span style=\"color: #7f7f7f; text-decoration-color: #7f7f7f\">1205</span></a>\n",
       "</pre>\n"
      ],
      "text/plain": [
       "\u001b[38;5;46m        \u001b[0m\u001b[38;5;46m \u001b[0m\u001b[38;5;49mINFO    \u001b[0m \u001b[1;38;5;251m set K to: \u001b[0m\u001b[1;37m1.5508411453547317e-12\u001b[0m\u001b[1;38;5;251m                                                  \u001b[0m\u001b[1;38;5;251m \u001b[0m\u001b]8;id=338572;file:///data/home/cwy/Science/3MLWCDA/Standard/src/./mylib/Myfit.py\u001b\\\u001b[2mMyfit.py\u001b[0m\u001b]8;;\u001b\\\u001b[2m:\u001b[0m\u001b]8;id=820769;file:///data/home/cwy/Science/3MLWCDA/Standard/src/./mylib/Myfit.py#1205\u001b\\\u001b[2m1205\u001b[0m\u001b]8;;\u001b\\\n"
      ]
     },
     "metadata": {},
     "output_type": "display_data"
    },
    {
     "data": {
      "text/html": [
       "<pre style=\"white-space:pre;overflow-x:auto;line-height:normal;font-family:Menlo,'DejaVu Sans Mono',consolas,'Courier New',monospace\"><span style=\"color: #00ff00; text-decoration-color: #00ff00\">         </span><span style=\"color: #00ffaf; text-decoration-color: #00ffaf\">INFO    </span> <span style=\"color: #c6c6c6; text-decoration-color: #c6c6c6; font-weight: bold\"> diffuse file path: ..</span><span style=\"color: #5f5f5f; text-decoration-color: #5f5f5f; font-weight: bold\">/../data/</span><span style=\"color: #000080; text-decoration-color: #000080; font-weight: bold\">Diffuse_KM2A_case1_dust_bkg_template.fits</span><span style=\"color: #c6c6c6; text-decoration-color: #c6c6c6; font-weight: bold\">            </span><a href=\"file:///data/home/cwy/Science/3MLWCDA/Standard/src/./mylib/Myfit.py\" target=\"_blank\"><span style=\"color: #7f7f7f; text-decoration-color: #7f7f7f\">Myfit.py</span></a><span style=\"color: #7f7f7f; text-decoration-color: #7f7f7f\">:</span><a href=\"file:///data/home/cwy/Science/3MLWCDA/Standard/src/./mylib/Myfit.py#1232\" target=\"_blank\"><span style=\"color: #7f7f7f; text-decoration-color: #7f7f7f\">1232</span></a>\n",
       "</pre>\n"
      ],
      "text/plain": [
       "\u001b[38;5;46m        \u001b[0m\u001b[38;5;46m \u001b[0m\u001b[38;5;49mINFO    \u001b[0m \u001b[1;38;5;251m diffuse file path: ..\u001b[0m\u001b[1;38;5;59m/../data/\u001b[0m\u001b[1;34mDiffuse_KM2A_case1_dust_bkg_template.fits\u001b[0m\u001b[1;38;5;251m           \u001b[0m\u001b[1;38;5;251m \u001b[0m\u001b]8;id=430743;file:///data/home/cwy/Science/3MLWCDA/Standard/src/./mylib/Myfit.py\u001b\\\u001b[2mMyfit.py\u001b[0m\u001b]8;;\u001b\\\u001b[2m:\u001b[0m\u001b]8;id=960118;file:///data/home/cwy/Science/3MLWCDA/Standard/src/./mylib/Myfit.py#1232\u001b\\\u001b[2m1232\u001b[0m\u001b]8;;\u001b\\\n"
      ]
     },
     "metadata": {},
     "output_type": "display_data"
    },
    {
     "data": {
      "text/html": [
       "Model summary:<br><br><div>\n",
       "<style scoped>\n",
       "    .dataframe tbody tr th:only-of-type {\n",
       "        vertical-align: middle;\n",
       "    }\n",
       "\n",
       "    .dataframe tbody tr th {\n",
       "        vertical-align: top;\n",
       "    }\n",
       "\n",
       "    .dataframe thead th {\n",
       "        text-align: right;\n",
       "    }\n",
       "</style>\n",
       "<table border=\"1\" class=\"dataframe\">\n",
       "  <thead>\n",
       "    <tr style=\"text-align: right;\">\n",
       "      <th></th>\n",
       "      <th>N</th>\n",
       "    </tr>\n",
       "  </thead>\n",
       "  <tbody>\n",
       "    <tr>\n",
       "      <th>Point sources</th>\n",
       "      <td>3</td>\n",
       "    </tr>\n",
       "    <tr>\n",
       "      <th>Extended sources</th>\n",
       "      <td>8</td>\n",
       "    </tr>\n",
       "    <tr>\n",
       "      <th>Particle sources</th>\n",
       "      <td>0</td>\n",
       "    </tr>\n",
       "  </tbody>\n",
       "</table>\n",
       "</div><br><br>Free parameters (22):<br><br><div>\n",
       "<style scoped>\n",
       "    .dataframe tbody tr th:only-of-type {\n",
       "        vertical-align: middle;\n",
       "    }\n",
       "\n",
       "    .dataframe tbody tr th {\n",
       "        vertical-align: top;\n",
       "    }\n",
       "\n",
       "    .dataframe thead th {\n",
       "        text-align: right;\n",
       "    }\n",
       "</style>\n",
       "<table border=\"1\" class=\"dataframe\">\n",
       "  <thead>\n",
       "    <tr style=\"text-align: right;\">\n",
       "      <th></th>\n",
       "      <th>value</th>\n",
       "      <th>min_value</th>\n",
       "      <th>max_value</th>\n",
       "      <th>unit</th>\n",
       "    </tr>\n",
       "  </thead>\n",
       "  <tbody>\n",
       "    <tr>\n",
       "      <th>J1848M0001u.spectrum.main.Powerlaw.K</th>\n",
       "      <td>0.0</td>\n",
       "      <td>0.0</td>\n",
       "      <td>0.0</td>\n",
       "      <td>keV-1 s-1 cm-2</td>\n",
       "    </tr>\n",
       "    <tr>\n",
       "      <th>J1848M0001u.spectrum.main.Powerlaw.index</th>\n",
       "      <td>-2.75</td>\n",
       "      <td>-3.45</td>\n",
       "      <td>-2.05</td>\n",
       "      <td></td>\n",
       "    </tr>\n",
       "    <tr>\n",
       "      <th>J1850M0004u.spectrum.main.Powerlaw.K</th>\n",
       "      <td>0.0</td>\n",
       "      <td>0.0</td>\n",
       "      <td>0.0</td>\n",
       "      <td>keV-1 s-1 cm-2</td>\n",
       "    </tr>\n",
       "    <tr>\n",
       "      <th>J1850M0004u.spectrum.main.Powerlaw.index</th>\n",
       "      <td>-3.15</td>\n",
       "      <td>-4.05</td>\n",
       "      <td>-2.25</td>\n",
       "      <td></td>\n",
       "    </tr>\n",
       "    <tr>\n",
       "      <th>J1852P0050u.spectrum.main.Powerlaw.K</th>\n",
       "      <td>0.0</td>\n",
       "      <td>0.0</td>\n",
       "      <td>0.0</td>\n",
       "      <td>keV-1 s-1 cm-2</td>\n",
       "    </tr>\n",
       "    <tr>\n",
       "      <th>J1852P0050u.spectrum.main.Powerlaw.index</th>\n",
       "      <td>-3.64</td>\n",
       "      <td>-4.84</td>\n",
       "      <td>-2.44</td>\n",
       "      <td></td>\n",
       "    </tr>\n",
       "    <tr>\n",
       "      <th>J1857P0203u.spectrum.main.Powerlaw.K</th>\n",
       "      <td>0.0</td>\n",
       "      <td>0.0</td>\n",
       "      <td>0.0</td>\n",
       "      <td>keV-1 s-1 cm-2</td>\n",
       "    </tr>\n",
       "    <tr>\n",
       "      <th>J1857P0203u.spectrum.main.Powerlaw.index</th>\n",
       "      <td>-3.31</td>\n",
       "      <td>-4.31</td>\n",
       "      <td>-2.31</td>\n",
       "      <td></td>\n",
       "    </tr>\n",
       "    <tr>\n",
       "      <th>J1858P0330.spectrum.main.Powerlaw.K</th>\n",
       "      <td>0.0</td>\n",
       "      <td>0.0</td>\n",
       "      <td>0.0</td>\n",
       "      <td>keV-1 s-1 cm-2</td>\n",
       "    </tr>\n",
       "    <tr>\n",
       "      <th>J1858P0330.spectrum.main.Powerlaw.index</th>\n",
       "      <td>-3.78</td>\n",
       "      <td>-5.28</td>\n",
       "      <td>-2.28</td>\n",
       "      <td></td>\n",
       "    </tr>\n",
       "    <tr>\n",
       "      <th>J1908P0615u.spectrum.main.Powerlaw.K</th>\n",
       "      <td>0.0</td>\n",
       "      <td>0.0</td>\n",
       "      <td>0.0</td>\n",
       "      <td>keV-1 s-1 cm-2</td>\n",
       "    </tr>\n",
       "    <tr>\n",
       "      <th>J1908P0615u.spectrum.main.Powerlaw.index</th>\n",
       "      <td>-2.82</td>\n",
       "      <td>-3.12</td>\n",
       "      <td>-2.52</td>\n",
       "      <td></td>\n",
       "    </tr>\n",
       "    <tr>\n",
       "      <th>J1910P0516.spectrum.main.Powerlaw.K</th>\n",
       "      <td>0.0</td>\n",
       "      <td>0.0</td>\n",
       "      <td>0.0</td>\n",
       "      <td>keV-1 s-1 cm-2</td>\n",
       "    </tr>\n",
       "    <tr>\n",
       "      <th>J1910P0516.spectrum.main.Powerlaw.index</th>\n",
       "      <td>-3.15</td>\n",
       "      <td>-4.95</td>\n",
       "      <td>-1.5</td>\n",
       "      <td></td>\n",
       "    </tr>\n",
       "    <tr>\n",
       "      <th>J1912P1014u.spectrum.main.Powerlaw.K</th>\n",
       "      <td>0.0</td>\n",
       "      <td>0.0</td>\n",
       "      <td>0.0</td>\n",
       "      <td>keV-1 s-1 cm-2</td>\n",
       "    </tr>\n",
       "    <tr>\n",
       "      <th>J1912P1014u.spectrum.main.Powerlaw.index</th>\n",
       "      <td>-3.26</td>\n",
       "      <td>-4.36</td>\n",
       "      <td>-2.16</td>\n",
       "      <td></td>\n",
       "    </tr>\n",
       "    <tr>\n",
       "      <th>J1913P0501.spectrum.main.Powerlaw.K</th>\n",
       "      <td>0.0</td>\n",
       "      <td>0.0</td>\n",
       "      <td>0.0</td>\n",
       "      <td>keV-1 s-1 cm-2</td>\n",
       "    </tr>\n",
       "    <tr>\n",
       "      <th>J1913P0501.spectrum.main.Powerlaw.index</th>\n",
       "      <td>-3.3</td>\n",
       "      <td>-5.1</td>\n",
       "      <td>-1.5</td>\n",
       "      <td></td>\n",
       "    </tr>\n",
       "    <tr>\n",
       "      <th>J1914P1150u.spectrum.main.Powerlaw.K</th>\n",
       "      <td>0.0</td>\n",
       "      <td>0.0</td>\n",
       "      <td>0.0</td>\n",
       "      <td>keV-1 s-1 cm-2</td>\n",
       "    </tr>\n",
       "    <tr>\n",
       "      <th>J1914P1150u.spectrum.main.Powerlaw.index</th>\n",
       "      <td>-3.41</td>\n",
       "      <td>-4.71</td>\n",
       "      <td>-2.11</td>\n",
       "      <td></td>\n",
       "    </tr>\n",
       "    <tr>\n",
       "      <th>Diffuse.spectrum.main.Powerlaw.K</th>\n",
       "      <td>0.0</td>\n",
       "      <td>0.0</td>\n",
       "      <td>0.0</td>\n",
       "      <td>keV-1 s-1 cm-2</td>\n",
       "    </tr>\n",
       "    <tr>\n",
       "      <th>Diffuse.spectrum.main.Powerlaw.index</th>\n",
       "      <td>-3.0</td>\n",
       "      <td>-5.0</td>\n",
       "      <td>-1.0</td>\n",
       "      <td></td>\n",
       "    </tr>\n",
       "  </tbody>\n",
       "</table>\n",
       "</div><br><br>Fixed parameters (41):<br><br><div>\n",
       "<style scoped>\n",
       "    .dataframe tbody tr th:only-of-type {\n",
       "        vertical-align: middle;\n",
       "    }\n",
       "\n",
       "    .dataframe tbody tr th {\n",
       "        vertical-align: top;\n",
       "    }\n",
       "\n",
       "    .dataframe thead th {\n",
       "        text-align: right;\n",
       "    }\n",
       "</style>\n",
       "<table border=\"1\" class=\"dataframe\">\n",
       "  <thead>\n",
       "    <tr style=\"text-align: right;\">\n",
       "      <th></th>\n",
       "      <th>value</th>\n",
       "      <th>min_value</th>\n",
       "      <th>max_value</th>\n",
       "      <th>unit</th>\n",
       "    </tr>\n",
       "  </thead>\n",
       "  <tbody>\n",
       "    <tr>\n",
       "      <th>J1848M0001u.position.ra</th>\n",
       "      <td>282.19</td>\n",
       "      <td>281.99</td>\n",
       "      <td>282.39</td>\n",
       "      <td>deg</td>\n",
       "    </tr>\n",
       "    <tr>\n",
       "      <th>J1848M0001u.position.dec</th>\n",
       "      <td>-0.02</td>\n",
       "      <td>-0.22</td>\n",
       "      <td>0.18</td>\n",
       "      <td>deg</td>\n",
       "    </tr>\n",
       "    <tr>\n",
       "      <th>J1848M0001u.spectrum.main.Powerlaw.piv</th>\n",
       "      <td>50000000000.0</td>\n",
       "      <td>None</td>\n",
       "      <td>None</td>\n",
       "      <td>keV</td>\n",
       "    </tr>\n",
       "    <tr>\n",
       "      <th>J1850M0004u.Gaussian_on_sphere.lon0</th>\n",
       "      <td>282.89</td>\n",
       "      <td>282.54</td>\n",
       "      <td>283.24</td>\n",
       "      <td>deg</td>\n",
       "    </tr>\n",
       "    <tr>\n",
       "      <th>J1850M0004u.Gaussian_on_sphere.lat0</th>\n",
       "      <td>-0.07</td>\n",
       "      <td>-0.42</td>\n",
       "      <td>0.28</td>\n",
       "      <td>deg</td>\n",
       "    </tr>\n",
       "    <tr>\n",
       "      <th>J1850M0004u.Gaussian_on_sphere.sigma</th>\n",
       "      <td>0.21</td>\n",
       "      <td>0.06</td>\n",
       "      <td>0.36</td>\n",
       "      <td>deg</td>\n",
       "    </tr>\n",
       "    <tr>\n",
       "      <th>J1850M0004u.spectrum.main.Powerlaw.piv</th>\n",
       "      <td>50000000000.0</td>\n",
       "      <td>None</td>\n",
       "      <td>None</td>\n",
       "      <td>keV</td>\n",
       "    </tr>\n",
       "    <tr>\n",
       "      <th>J1852P0050u.Gaussian_on_sphere.lon0</th>\n",
       "      <td>283.1</td>\n",
       "      <td>281.8</td>\n",
       "      <td>284.4</td>\n",
       "      <td>deg</td>\n",
       "    </tr>\n",
       "    <tr>\n",
       "      <th>J1852P0050u.Gaussian_on_sphere.lat0</th>\n",
       "      <td>0.84</td>\n",
       "      <td>-0.46</td>\n",
       "      <td>2.14</td>\n",
       "      <td>deg</td>\n",
       "    </tr>\n",
       "    <tr>\n",
       "      <th>J1852P0050u.Gaussian_on_sphere.sigma</th>\n",
       "      <td>0.85</td>\n",
       "      <td>0.55</td>\n",
       "      <td>1.15</td>\n",
       "      <td>deg</td>\n",
       "    </tr>\n",
       "    <tr>\n",
       "      <th>J1852P0050u.spectrum.main.Powerlaw.piv</th>\n",
       "      <td>50000000000.0</td>\n",
       "      <td>None</td>\n",
       "      <td>None</td>\n",
       "      <td>keV</td>\n",
       "    </tr>\n",
       "    <tr>\n",
       "      <th>J1857P0203u.Gaussian_on_sphere.lon0</th>\n",
       "      <td>284.38</td>\n",
       "      <td>284.03</td>\n",
       "      <td>284.73</td>\n",
       "      <td>deg</td>\n",
       "    </tr>\n",
       "    <tr>\n",
       "      <th>J1857P0203u.Gaussian_on_sphere.lat0</th>\n",
       "      <td>2.06</td>\n",
       "      <td>1.71</td>\n",
       "      <td>2.41</td>\n",
       "      <td>deg</td>\n",
       "    </tr>\n",
       "    <tr>\n",
       "      <th>J1857P0203u.Gaussian_on_sphere.sigma</th>\n",
       "      <td>0.28</td>\n",
       "      <td>0.13</td>\n",
       "      <td>0.43</td>\n",
       "      <td>deg</td>\n",
       "    </tr>\n",
       "    <tr>\n",
       "      <th>J1857P0203u.spectrum.main.Powerlaw.piv</th>\n",
       "      <td>50000000000.0</td>\n",
       "      <td>None</td>\n",
       "      <td>None</td>\n",
       "      <td>keV</td>\n",
       "    </tr>\n",
       "    <tr>\n",
       "      <th>J1858P0330.Gaussian_on_sphere.lon0</th>\n",
       "      <td>284.59</td>\n",
       "      <td>283.99</td>\n",
       "      <td>285.19</td>\n",
       "      <td>deg</td>\n",
       "    </tr>\n",
       "    <tr>\n",
       "      <th>J1858P0330.Gaussian_on_sphere.lat0</th>\n",
       "      <td>3.51</td>\n",
       "      <td>2.91</td>\n",
       "      <td>4.11</td>\n",
       "      <td>deg</td>\n",
       "    </tr>\n",
       "    <tr>\n",
       "      <th>J1858P0330.Gaussian_on_sphere.sigma</th>\n",
       "      <td>0.43</td>\n",
       "      <td>0.23</td>\n",
       "      <td>0.63</td>\n",
       "      <td>deg</td>\n",
       "    </tr>\n",
       "    <tr>\n",
       "      <th>J1858P0330.spectrum.main.Powerlaw.piv</th>\n",
       "      <td>50000000000.0</td>\n",
       "      <td>None</td>\n",
       "      <td>None</td>\n",
       "      <td>keV</td>\n",
       "    </tr>\n",
       "    <tr>\n",
       "      <th>J1908P0615u.Gaussian_on_sphere.lon0</th>\n",
       "      <td>287.05</td>\n",
       "      <td>286.9</td>\n",
       "      <td>287.2</td>\n",
       "      <td>deg</td>\n",
       "    </tr>\n",
       "    <tr>\n",
       "      <th>J1908P0615u.Gaussian_on_sphere.lat0</th>\n",
       "      <td>6.26</td>\n",
       "      <td>6.11</td>\n",
       "      <td>6.41</td>\n",
       "      <td>deg</td>\n",
       "    </tr>\n",
       "    <tr>\n",
       "      <th>J1908P0615u.Gaussian_on_sphere.sigma</th>\n",
       "      <td>0.36</td>\n",
       "      <td>0.31</td>\n",
       "      <td>0.41</td>\n",
       "      <td>deg</td>\n",
       "    </tr>\n",
       "    <tr>\n",
       "      <th>J1908P0615u.spectrum.main.Powerlaw.piv</th>\n",
       "      <td>50000000000.0</td>\n",
       "      <td>None</td>\n",
       "      <td>None</td>\n",
       "      <td>keV</td>\n",
       "    </tr>\n",
       "    <tr>\n",
       "      <th>J1910P0516.position.ra</th>\n",
       "      <td>287.55</td>\n",
       "      <td>286.8</td>\n",
       "      <td>288.3</td>\n",
       "      <td>deg</td>\n",
       "    </tr>\n",
       "    <tr>\n",
       "      <th>J1910P0516.position.dec</th>\n",
       "      <td>5.28</td>\n",
       "      <td>4.53</td>\n",
       "      <td>6.03</td>\n",
       "      <td>deg</td>\n",
       "    </tr>\n",
       "    <tr>\n",
       "      <th>J1910P0516.spectrum.main.Powerlaw.piv</th>\n",
       "      <td>50000000000.0</td>\n",
       "      <td>None</td>\n",
       "      <td>None</td>\n",
       "      <td>keV</td>\n",
       "    </tr>\n",
       "    <tr>\n",
       "      <th>J1912P1014u.Gaussian_on_sphere.lon0</th>\n",
       "      <td>288.38</td>\n",
       "      <td>287.73</td>\n",
       "      <td>289.03</td>\n",
       "      <td>deg</td>\n",
       "    </tr>\n",
       "    <tr>\n",
       "      <th>J1912P1014u.Gaussian_on_sphere.lat0</th>\n",
       "      <td>10.5</td>\n",
       "      <td>9.85</td>\n",
       "      <td>11.15</td>\n",
       "      <td>deg</td>\n",
       "    </tr>\n",
       "    <tr>\n",
       "      <th>J1912P1014u.Gaussian_on_sphere.sigma</th>\n",
       "      <td>0.5</td>\n",
       "      <td>0.3</td>\n",
       "      <td>0.7</td>\n",
       "      <td>deg</td>\n",
       "    </tr>\n",
       "    <tr>\n",
       "      <th>J1912P1014u.spectrum.main.Powerlaw.piv</th>\n",
       "      <td>50000000000.0</td>\n",
       "      <td>None</td>\n",
       "      <td>None</td>\n",
       "      <td>keV</td>\n",
       "    </tr>\n",
       "    <tr>\n",
       "      <th>J1913P0501.position.ra</th>\n",
       "      <td>288.28</td>\n",
       "      <td>287.73</td>\n",
       "      <td>288.83</td>\n",
       "      <td>deg</td>\n",
       "    </tr>\n",
       "    <tr>\n",
       "      <th>J1913P0501.position.dec</th>\n",
       "      <td>5.03</td>\n",
       "      <td>4.48</td>\n",
       "      <td>5.58</td>\n",
       "      <td>deg</td>\n",
       "    </tr>\n",
       "    <tr>\n",
       "      <th>J1913P0501.spectrum.main.Powerlaw.piv</th>\n",
       "      <td>50000000000.0</td>\n",
       "      <td>None</td>\n",
       "      <td>None</td>\n",
       "      <td>keV</td>\n",
       "    </tr>\n",
       "    <tr>\n",
       "      <th>J1914P1150u.Gaussian_on_sphere.lon0</th>\n",
       "      <td>288.73</td>\n",
       "      <td>288.28</td>\n",
       "      <td>289.18</td>\n",
       "      <td>deg</td>\n",
       "    </tr>\n",
       "    <tr>\n",
       "      <th>J1914P1150u.Gaussian_on_sphere.lat0</th>\n",
       "      <td>11.84</td>\n",
       "      <td>11.39</td>\n",
       "      <td>12.29</td>\n",
       "      <td>deg</td>\n",
       "    </tr>\n",
       "    <tr>\n",
       "      <th>J1914P1150u.Gaussian_on_sphere.sigma</th>\n",
       "      <td>0.21</td>\n",
       "      <td>0.01</td>\n",
       "      <td>0.41</td>\n",
       "      <td>deg</td>\n",
       "    </tr>\n",
       "    <tr>\n",
       "      <th>J1914P1150u.spectrum.main.Powerlaw.piv</th>\n",
       "      <td>50000000000.0</td>\n",
       "      <td>None</td>\n",
       "      <td>None</td>\n",
       "      <td>keV</td>\n",
       "    </tr>\n",
       "    <tr>\n",
       "      <th>Diffuse.SpatialTemplate_2D.K</th>\n",
       "      <td>1.0</td>\n",
       "      <td>None</td>\n",
       "      <td>None</td>\n",
       "      <td>deg-2</td>\n",
       "    </tr>\n",
       "    <tr>\n",
       "      <th>Diffuse.SpatialTemplate_2D.hash</th>\n",
       "      <td>2521110941889027765455854361299851243649902811...</td>\n",
       "      <td>None</td>\n",
       "      <td>None</td>\n",
       "      <td></td>\n",
       "    </tr>\n",
       "    <tr>\n",
       "      <th>Diffuse.SpatialTemplate_2D.ihdu</th>\n",
       "      <td>0.0</td>\n",
       "      <td>0.0</td>\n",
       "      <td>None</td>\n",
       "      <td></td>\n",
       "    </tr>\n",
       "    <tr>\n",
       "      <th>Diffuse.spectrum.main.Powerlaw.piv</th>\n",
       "      <td>50000000000.0</td>\n",
       "      <td>None</td>\n",
       "      <td>None</td>\n",
       "      <td>keV</td>\n",
       "    </tr>\n",
       "  </tbody>\n",
       "</table>\n",
       "</div><br><br>Properties (2):<br><br><div>\n",
       "<style scoped>\n",
       "    .dataframe tbody tr th:only-of-type {\n",
       "        vertical-align: middle;\n",
       "    }\n",
       "\n",
       "    .dataframe tbody tr th {\n",
       "        vertical-align: top;\n",
       "    }\n",
       "\n",
       "    .dataframe thead th {\n",
       "        text-align: right;\n",
       "    }\n",
       "</style>\n",
       "<table border=\"1\" class=\"dataframe\">\n",
       "  <thead>\n",
       "    <tr style=\"text-align: right;\">\n",
       "      <th></th>\n",
       "      <th>value</th>\n",
       "      <th>allowed values</th>\n",
       "    </tr>\n",
       "  </thead>\n",
       "  <tbody>\n",
       "    <tr>\n",
       "      <th>Diffuse.SpatialTemplate_2D.fits_file</th>\n",
       "      <td>../../data/Diffuse_KM2A_case1_dust_bkg_templat...</td>\n",
       "      <td>None</td>\n",
       "    </tr>\n",
       "    <tr>\n",
       "      <th>Diffuse.SpatialTemplate_2D.frame</th>\n",
       "      <td>icrs</td>\n",
       "      <td>[icrs, galactic, fk5, fk4, fk4_no_e]</td>\n",
       "    </tr>\n",
       "  </tbody>\n",
       "</table>\n",
       "</div><br><br>Linked parameters (0):<br><br>(none)<br><br>Independent variables:<br><br>(none)<br><br>Linked functions (0):<br><br>(none)<br>"
      ],
      "text/plain": [
       "Model summary:\n",
       "==============\n",
       "\n",
       "                  N\n",
       "Point sources     3\n",
       "Extended sources  8\n",
       "Particle sources  0\n",
       "\n",
       "Free parameters (22):\n",
       "--------------------\n",
       "\n",
       "                                         value min_value max_value   \n",
       "J1848M0001u.spectrum.main.Powerlaw.K       0.0       0.0       0.0  \\\n",
       "J1848M0001u.spectrum.main.Powerlaw.index -2.75     -3.45     -2.05   \n",
       "J1850M0004u.spectrum.main.Powerlaw.K       0.0       0.0       0.0   \n",
       "J1850M0004u.spectrum.main.Powerlaw.index -3.15     -4.05     -2.25   \n",
       "J1852P0050u.spectrum.main.Powerlaw.K       0.0       0.0       0.0   \n",
       "J1852P0050u.spectrum.main.Powerlaw.index -3.64     -4.84     -2.44   \n",
       "J1857P0203u.spectrum.main.Powerlaw.K       0.0       0.0       0.0   \n",
       "J1857P0203u.spectrum.main.Powerlaw.index -3.31     -4.31     -2.31   \n",
       "J1858P0330.spectrum.main.Powerlaw.K        0.0       0.0       0.0   \n",
       "J1858P0330.spectrum.main.Powerlaw.index  -3.78     -5.28     -2.28   \n",
       "J1908P0615u.spectrum.main.Powerlaw.K       0.0       0.0       0.0   \n",
       "J1908P0615u.spectrum.main.Powerlaw.index -2.82     -3.12     -2.52   \n",
       "J1910P0516.spectrum.main.Powerlaw.K        0.0       0.0       0.0   \n",
       "J1910P0516.spectrum.main.Powerlaw.index  -3.15     -4.95      -1.5   \n",
       "J1912P1014u.spectrum.main.Powerlaw.K       0.0       0.0       0.0   \n",
       "J1912P1014u.spectrum.main.Powerlaw.index -3.26     -4.36     -2.16   \n",
       "J1913P0501.spectrum.main.Powerlaw.K        0.0       0.0       0.0   \n",
       "J1913P0501.spectrum.main.Powerlaw.index   -3.3      -5.1      -1.5   \n",
       "J1914P1150u.spectrum.main.Powerlaw.K       0.0       0.0       0.0   \n",
       "J1914P1150u.spectrum.main.Powerlaw.index -3.41     -4.71     -2.11   \n",
       "Diffuse.spectrum.main.Powerlaw.K           0.0       0.0       0.0   \n",
       "Diffuse.spectrum.main.Powerlaw.index      -3.0      -5.0      -1.0   \n",
       "\n",
       "                                                    unit  \n",
       "J1848M0001u.spectrum.main.Powerlaw.K      keV-1 s-1 cm-2  \n",
       "J1848M0001u.spectrum.main.Powerlaw.index                  \n",
       "J1850M0004u.spectrum.main.Powerlaw.K      keV-1 s-1 cm-2  \n",
       "J1850M0004u.spectrum.main.Powerlaw.index                  \n",
       "J1852P0050u.spectrum.main.Powerlaw.K      keV-1 s-1 cm-2  \n",
       "J1852P0050u.spectrum.main.Powerlaw.index                  \n",
       "J1857P0203u.spectrum.main.Powerlaw.K      keV-1 s-1 cm-2  \n",
       "J1857P0203u.spectrum.main.Powerlaw.index                  \n",
       "J1858P0330.spectrum.main.Powerlaw.K       keV-1 s-1 cm-2  \n",
       "J1858P0330.spectrum.main.Powerlaw.index                   \n",
       "J1908P0615u.spectrum.main.Powerlaw.K      keV-1 s-1 cm-2  \n",
       "J1908P0615u.spectrum.main.Powerlaw.index                  \n",
       "J1910P0516.spectrum.main.Powerlaw.K       keV-1 s-1 cm-2  \n",
       "J1910P0516.spectrum.main.Powerlaw.index                   \n",
       "J1912P1014u.spectrum.main.Powerlaw.K      keV-1 s-1 cm-2  \n",
       "J1912P1014u.spectrum.main.Powerlaw.index                  \n",
       "J1913P0501.spectrum.main.Powerlaw.K       keV-1 s-1 cm-2  \n",
       "J1913P0501.spectrum.main.Powerlaw.index                   \n",
       "J1914P1150u.spectrum.main.Powerlaw.K      keV-1 s-1 cm-2  \n",
       "J1914P1150u.spectrum.main.Powerlaw.index                  \n",
       "Diffuse.spectrum.main.Powerlaw.K          keV-1 s-1 cm-2  \n",
       "Diffuse.spectrum.main.Powerlaw.index                      \n",
       "\n",
       "Fixed parameters (41):\n",
       "---------------------\n",
       "\n",
       "                                                                                    value   \n",
       "J1848M0001u.position.ra                                                            282.19  \\\n",
       "J1848M0001u.position.dec                                                            -0.02   \n",
       "J1848M0001u.spectrum.main.Powerlaw.piv                                      50000000000.0   \n",
       "J1850M0004u.Gaussian_on_sphere.lon0                                                282.89   \n",
       "J1850M0004u.Gaussian_on_sphere.lat0                                                 -0.07   \n",
       "J1850M0004u.Gaussian_on_sphere.sigma                                                 0.21   \n",
       "J1850M0004u.spectrum.main.Powerlaw.piv                                      50000000000.0   \n",
       "J1852P0050u.Gaussian_on_sphere.lon0                                                 283.1   \n",
       "J1852P0050u.Gaussian_on_sphere.lat0                                                  0.84   \n",
       "J1852P0050u.Gaussian_on_sphere.sigma                                                 0.85   \n",
       "J1852P0050u.spectrum.main.Powerlaw.piv                                      50000000000.0   \n",
       "J1857P0203u.Gaussian_on_sphere.lon0                                                284.38   \n",
       "J1857P0203u.Gaussian_on_sphere.lat0                                                  2.06   \n",
       "J1857P0203u.Gaussian_on_sphere.sigma                                                 0.28   \n",
       "J1857P0203u.spectrum.main.Powerlaw.piv                                      50000000000.0   \n",
       "J1858P0330.Gaussian_on_sphere.lon0                                                 284.59   \n",
       "J1858P0330.Gaussian_on_sphere.lat0                                                   3.51   \n",
       "J1858P0330.Gaussian_on_sphere.sigma                                                  0.43   \n",
       "J1858P0330.spectrum.main.Powerlaw.piv                                       50000000000.0   \n",
       "J1908P0615u.Gaussian_on_sphere.lon0                                                287.05   \n",
       "J1908P0615u.Gaussian_on_sphere.lat0                                                  6.26   \n",
       "J1908P0615u.Gaussian_on_sphere.sigma                                                 0.36   \n",
       "J1908P0615u.spectrum.main.Powerlaw.piv                                      50000000000.0   \n",
       "J1910P0516.position.ra                                                             287.55   \n",
       "J1910P0516.position.dec                                                              5.28   \n",
       "J1910P0516.spectrum.main.Powerlaw.piv                                       50000000000.0   \n",
       "J1912P1014u.Gaussian_on_sphere.lon0                                                288.38   \n",
       "J1912P1014u.Gaussian_on_sphere.lat0                                                  10.5   \n",
       "J1912P1014u.Gaussian_on_sphere.sigma                                                  0.5   \n",
       "J1912P1014u.spectrum.main.Powerlaw.piv                                      50000000000.0   \n",
       "J1913P0501.position.ra                                                             288.28   \n",
       "J1913P0501.position.dec                                                              5.03   \n",
       "J1913P0501.spectrum.main.Powerlaw.piv                                       50000000000.0   \n",
       "J1914P1150u.Gaussian_on_sphere.lon0                                                288.73   \n",
       "J1914P1150u.Gaussian_on_sphere.lat0                                                 11.84   \n",
       "J1914P1150u.Gaussian_on_sphere.sigma                                                 0.21   \n",
       "J1914P1150u.spectrum.main.Powerlaw.piv                                      50000000000.0   \n",
       "Diffuse.SpatialTemplate_2D.K                                                          1.0   \n",
       "Diffuse.SpatialTemplate_2D.hash         2521110941889027765455854361299851243649902811...   \n",
       "Diffuse.SpatialTemplate_2D.ihdu                                                       0.0   \n",
       "Diffuse.spectrum.main.Powerlaw.piv                                          50000000000.0   \n",
       "\n",
       "                                       min_value max_value   unit  \n",
       "J1848M0001u.position.ra                   281.99    282.39    deg  \n",
       "J1848M0001u.position.dec                   -0.22      0.18    deg  \n",
       "J1848M0001u.spectrum.main.Powerlaw.piv      None      None    keV  \n",
       "J1850M0004u.Gaussian_on_sphere.lon0       282.54    283.24    deg  \n",
       "J1850M0004u.Gaussian_on_sphere.lat0        -0.42      0.28    deg  \n",
       "J1850M0004u.Gaussian_on_sphere.sigma        0.06      0.36    deg  \n",
       "J1850M0004u.spectrum.main.Powerlaw.piv      None      None    keV  \n",
       "J1852P0050u.Gaussian_on_sphere.lon0        281.8     284.4    deg  \n",
       "J1852P0050u.Gaussian_on_sphere.lat0        -0.46      2.14    deg  \n",
       "J1852P0050u.Gaussian_on_sphere.sigma        0.55      1.15    deg  \n",
       "J1852P0050u.spectrum.main.Powerlaw.piv      None      None    keV  \n",
       "J1857P0203u.Gaussian_on_sphere.lon0       284.03    284.73    deg  \n",
       "J1857P0203u.Gaussian_on_sphere.lat0         1.71      2.41    deg  \n",
       "J1857P0203u.Gaussian_on_sphere.sigma        0.13      0.43    deg  \n",
       "J1857P0203u.spectrum.main.Powerlaw.piv      None      None    keV  \n",
       "J1858P0330.Gaussian_on_sphere.lon0        283.99    285.19    deg  \n",
       "J1858P0330.Gaussian_on_sphere.lat0          2.91      4.11    deg  \n",
       "J1858P0330.Gaussian_on_sphere.sigma         0.23      0.63    deg  \n",
       "J1858P0330.spectrum.main.Powerlaw.piv       None      None    keV  \n",
       "J1908P0615u.Gaussian_on_sphere.lon0        286.9     287.2    deg  \n",
       "J1908P0615u.Gaussian_on_sphere.lat0         6.11      6.41    deg  \n",
       "J1908P0615u.Gaussian_on_sphere.sigma        0.31      0.41    deg  \n",
       "J1908P0615u.spectrum.main.Powerlaw.piv      None      None    keV  \n",
       "J1910P0516.position.ra                     286.8     288.3    deg  \n",
       "J1910P0516.position.dec                     4.53      6.03    deg  \n",
       "J1910P0516.spectrum.main.Powerlaw.piv       None      None    keV  \n",
       "J1912P1014u.Gaussian_on_sphere.lon0       287.73    289.03    deg  \n",
       "J1912P1014u.Gaussian_on_sphere.lat0         9.85     11.15    deg  \n",
       "J1912P1014u.Gaussian_on_sphere.sigma         0.3       0.7    deg  \n",
       "J1912P1014u.spectrum.main.Powerlaw.piv      None      None    keV  \n",
       "J1913P0501.position.ra                    287.73    288.83    deg  \n",
       "J1913P0501.position.dec                     4.48      5.58    deg  \n",
       "J1913P0501.spectrum.main.Powerlaw.piv       None      None    keV  \n",
       "J1914P1150u.Gaussian_on_sphere.lon0       288.28    289.18    deg  \n",
       "J1914P1150u.Gaussian_on_sphere.lat0        11.39     12.29    deg  \n",
       "J1914P1150u.Gaussian_on_sphere.sigma        0.01      0.41    deg  \n",
       "J1914P1150u.spectrum.main.Powerlaw.piv      None      None    keV  \n",
       "Diffuse.SpatialTemplate_2D.K                None      None  deg-2  \n",
       "Diffuse.SpatialTemplate_2D.hash             None      None         \n",
       "Diffuse.SpatialTemplate_2D.ihdu              0.0      None         \n",
       "Diffuse.spectrum.main.Powerlaw.piv          None      None    keV  \n",
       "\n",
       "Properties (2):\n",
       "--------------------\n",
       "\n",
       "                                                                                  value   \n",
       "Diffuse.SpatialTemplate_2D.fits_file  ../../data/Diffuse_KM2A_case1_dust_bkg_templat...  \\\n",
       "Diffuse.SpatialTemplate_2D.frame                                                   icrs   \n",
       "\n",
       "                                                            allowed values  \n",
       "Diffuse.SpatialTemplate_2D.fits_file                                  None  \n",
       "Diffuse.SpatialTemplate_2D.frame      [icrs, galactic, fk5, fk4, fk4_no_e]  \n",
       "\n",
       "Linked parameters (0):\n",
       "----------------------\n",
       "\n",
       "(none)\n",
       "\n",
       "Independent variables:\n",
       "----------------------\n",
       "\n",
       "(none)\n",
       "\n",
       "Linked functions (0):\n",
       "----------------------\n",
       "\n",
       "(none)"
      ]
     },
     "metadata": {},
     "output_type": "display_data"
    },
    {
     "name": "stdout",
     "output_type": "stream",
     "text": [
      "Failed to generate proper kernel normalization: got _kernel.sum() = 0.968667; expected 1.0+-0.01.\n",
      "Failed to generate proper kernel normalization: got _kernel.sum() = 0.966004; expected 1.0+-0.01.\n",
      "Failed to generate proper kernel normalization: got _kernel.sum() = 0.989000; expected 1.0+-0.01.\n"
     ]
    },
    {
     "data": {
      "text/html": [
       "<pre style=\"white-space:pre;overflow-x:auto;line-height:normal;font-family:Menlo,'DejaVu Sans Mono',consolas,'Courier New',monospace\"><span style=\"color: #00ff00; text-decoration-color: #00ff00\">17:35:10 </span><span style=\"color: #00ffaf; text-decoration-color: #00ffaf\">INFO    </span> <span style=\"color: #c6c6c6; text-decoration-color: #c6c6c6; font-weight: bold\"> Considering </span><span style=\"color: #c0c0c0; text-decoration-color: #c0c0c0; font-weight: bold\">5</span><span style=\"color: #c6c6c6; text-decoration-color: #c6c6c6; font-weight: bold\"> dec bins for extended source J1850M0004u           </span><a href=\"file:///data/home/cwy/.mylib/miniconda3/envs/3MLpure/lib/python3.9/site-packages/WCDA_hal/convolved_source/convolved_extended_source.py\" target=\"_blank\"><span style=\"color: #7f7f7f; text-decoration-color: #7f7f7f\">convolved_extended_source.py</span></a><span style=\"color: #7f7f7f; text-decoration-color: #7f7f7f\">:</span><a href=\"file:///data/home/cwy/.mylib/miniconda3/envs/3MLpure/lib/python3.9/site-packages/WCDA_hal/convolved_source/convolved_extended_source.py#89\" target=\"_blank\"><span style=\"color: #7f7f7f; text-decoration-color: #7f7f7f\">89</span></a>\n",
       "</pre>\n"
      ],
      "text/plain": [
       "\u001b[38;5;46m17:35:10\u001b[0m\u001b[38;5;46m \u001b[0m\u001b[38;5;49mINFO    \u001b[0m \u001b[1;38;5;251m Considering \u001b[0m\u001b[1;37m5\u001b[0m\u001b[1;38;5;251m dec bins for extended source J1850M0004u          \u001b[0m\u001b[1;38;5;251m \u001b[0m\u001b]8;id=619647;file:///data/home/cwy/.mylib/miniconda3/envs/3MLpure/lib/python3.9/site-packages/WCDA_hal/convolved_source/convolved_extended_source.py\u001b\\\u001b[2mconvolved_extended_source.py\u001b[0m\u001b]8;;\u001b\\\u001b[2m:\u001b[0m\u001b]8;id=710348;file:///data/home/cwy/.mylib/miniconda3/envs/3MLpure/lib/python3.9/site-packages/WCDA_hal/convolved_source/convolved_extended_source.py#89\u001b\\\u001b[2m89\u001b[0m\u001b]8;;\u001b\\\n"
      ]
     },
     "metadata": {},
     "output_type": "display_data"
    },
    {
     "data": {
      "text/html": [
       "<pre style=\"white-space:pre;overflow-x:auto;line-height:normal;font-family:Menlo,'DejaVu Sans Mono',consolas,'Courier New',monospace\"><span style=\"color: #00ff00; text-decoration-color: #00ff00\">         </span><span style=\"color: #00ffaf; text-decoration-color: #00ffaf\">INFO    </span> <span style=\"color: #c6c6c6; text-decoration-color: #c6c6c6; font-weight: bold\"> Central bin is bin at Declination = </span><span style=\"color: #c0c0c0; text-decoration-color: #c0c0c0; font-weight: bold\">-0.070</span><span style=\"color: #c6c6c6; text-decoration-color: #c6c6c6; font-weight: bold\">                       </span><a href=\"file:///data/home/cwy/.mylib/miniconda3/envs/3MLpure/lib/python3.9/site-packages/WCDA_hal/convolved_source/convolved_extended_source.py\" target=\"_blank\"><span style=\"color: #7f7f7f; text-decoration-color: #7f7f7f\">convolved_extended_source.py</span></a><span style=\"color: #7f7f7f; text-decoration-color: #7f7f7f\">:</span><a href=\"file:///data/home/cwy/.mylib/miniconda3/envs/3MLpure/lib/python3.9/site-packages/WCDA_hal/convolved_source/convolved_extended_source.py#98\" target=\"_blank\"><span style=\"color: #7f7f7f; text-decoration-color: #7f7f7f\">98</span></a>\n",
       "</pre>\n"
      ],
      "text/plain": [
       "\u001b[38;5;46m        \u001b[0m\u001b[38;5;46m \u001b[0m\u001b[38;5;49mINFO    \u001b[0m \u001b[1;38;5;251m Central bin is bin at Declination = \u001b[0m\u001b[1;37m-0.070\u001b[0m\u001b[1;38;5;251m                      \u001b[0m\u001b[1;38;5;251m \u001b[0m\u001b]8;id=930457;file:///data/home/cwy/.mylib/miniconda3/envs/3MLpure/lib/python3.9/site-packages/WCDA_hal/convolved_source/convolved_extended_source.py\u001b\\\u001b[2mconvolved_extended_source.py\u001b[0m\u001b]8;;\u001b\\\u001b[2m:\u001b[0m\u001b]8;id=851420;file:///data/home/cwy/.mylib/miniconda3/envs/3MLpure/lib/python3.9/site-packages/WCDA_hal/convolved_source/convolved_extended_source.py#98\u001b\\\u001b[2m98\u001b[0m\u001b]8;;\u001b\\\n"
      ]
     },
     "metadata": {},
     "output_type": "display_data"
    },
    {
     "data": {
      "text/html": [
       "<pre style=\"white-space:pre;overflow-x:auto;line-height:normal;font-family:Menlo,'DejaVu Sans Mono',consolas,'Courier New',monospace\"><span style=\"color: #00ff00; text-decoration-color: #00ff00\">         </span><span style=\"color: #00ffaf; text-decoration-color: #00ffaf\">INFO    </span> <span style=\"color: #c6c6c6; text-decoration-color: #c6c6c6; font-weight: bold\"> Considering </span><span style=\"color: #c0c0c0; text-decoration-color: #c0c0c0; font-weight: bold\">7</span><span style=\"color: #c6c6c6; text-decoration-color: #c6c6c6; font-weight: bold\"> dec bins for extended source J1852P0050u           </span><a href=\"file:///data/home/cwy/.mylib/miniconda3/envs/3MLpure/lib/python3.9/site-packages/WCDA_hal/convolved_source/convolved_extended_source.py\" target=\"_blank\"><span style=\"color: #7f7f7f; text-decoration-color: #7f7f7f\">convolved_extended_source.py</span></a><span style=\"color: #7f7f7f; text-decoration-color: #7f7f7f\">:</span><a href=\"file:///data/home/cwy/.mylib/miniconda3/envs/3MLpure/lib/python3.9/site-packages/WCDA_hal/convolved_source/convolved_extended_source.py#89\" target=\"_blank\"><span style=\"color: #7f7f7f; text-decoration-color: #7f7f7f\">89</span></a>\n",
       "</pre>\n"
      ],
      "text/plain": [
       "\u001b[38;5;46m        \u001b[0m\u001b[38;5;46m \u001b[0m\u001b[38;5;49mINFO    \u001b[0m \u001b[1;38;5;251m Considering \u001b[0m\u001b[1;37m7\u001b[0m\u001b[1;38;5;251m dec bins for extended source J1852P0050u          \u001b[0m\u001b[1;38;5;251m \u001b[0m\u001b]8;id=631300;file:///data/home/cwy/.mylib/miniconda3/envs/3MLpure/lib/python3.9/site-packages/WCDA_hal/convolved_source/convolved_extended_source.py\u001b\\\u001b[2mconvolved_extended_source.py\u001b[0m\u001b]8;;\u001b\\\u001b[2m:\u001b[0m\u001b]8;id=184254;file:///data/home/cwy/.mylib/miniconda3/envs/3MLpure/lib/python3.9/site-packages/WCDA_hal/convolved_source/convolved_extended_source.py#89\u001b\\\u001b[2m89\u001b[0m\u001b]8;;\u001b\\\n"
      ]
     },
     "metadata": {},
     "output_type": "display_data"
    },
    {
     "data": {
      "text/html": [
       "<pre style=\"white-space:pre;overflow-x:auto;line-height:normal;font-family:Menlo,'DejaVu Sans Mono',consolas,'Courier New',monospace\"><span style=\"color: #00ff00; text-decoration-color: #00ff00\">         </span><span style=\"color: #00ffaf; text-decoration-color: #00ffaf\">INFO    </span> <span style=\"color: #c6c6c6; text-decoration-color: #c6c6c6; font-weight: bold\"> Central bin is bin at Declination = </span><span style=\"color: #c0c0c0; text-decoration-color: #c0c0c0; font-weight: bold\">0.840</span><span style=\"color: #c6c6c6; text-decoration-color: #c6c6c6; font-weight: bold\">                        </span><a href=\"file:///data/home/cwy/.mylib/miniconda3/envs/3MLpure/lib/python3.9/site-packages/WCDA_hal/convolved_source/convolved_extended_source.py\" target=\"_blank\"><span style=\"color: #7f7f7f; text-decoration-color: #7f7f7f\">convolved_extended_source.py</span></a><span style=\"color: #7f7f7f; text-decoration-color: #7f7f7f\">:</span><a href=\"file:///data/home/cwy/.mylib/miniconda3/envs/3MLpure/lib/python3.9/site-packages/WCDA_hal/convolved_source/convolved_extended_source.py#98\" target=\"_blank\"><span style=\"color: #7f7f7f; text-decoration-color: #7f7f7f\">98</span></a>\n",
       "</pre>\n"
      ],
      "text/plain": [
       "\u001b[38;5;46m        \u001b[0m\u001b[38;5;46m \u001b[0m\u001b[38;5;49mINFO    \u001b[0m \u001b[1;38;5;251m Central bin is bin at Declination = \u001b[0m\u001b[1;37m0.840\u001b[0m\u001b[1;38;5;251m                       \u001b[0m\u001b[1;38;5;251m \u001b[0m\u001b]8;id=585966;file:///data/home/cwy/.mylib/miniconda3/envs/3MLpure/lib/python3.9/site-packages/WCDA_hal/convolved_source/convolved_extended_source.py\u001b\\\u001b[2mconvolved_extended_source.py\u001b[0m\u001b]8;;\u001b\\\u001b[2m:\u001b[0m\u001b]8;id=611355;file:///data/home/cwy/.mylib/miniconda3/envs/3MLpure/lib/python3.9/site-packages/WCDA_hal/convolved_source/convolved_extended_source.py#98\u001b\\\u001b[2m98\u001b[0m\u001b]8;;\u001b\\\n"
      ]
     },
     "metadata": {},
     "output_type": "display_data"
    },
    {
     "data": {
      "text/html": [
       "<pre style=\"white-space:pre;overflow-x:auto;line-height:normal;font-family:Menlo,'DejaVu Sans Mono',consolas,'Courier New',monospace\"><span style=\"color: #00ff00; text-decoration-color: #00ff00\">         </span><span style=\"color: #00ffaf; text-decoration-color: #00ffaf\">INFO    </span> <span style=\"color: #c6c6c6; text-decoration-color: #c6c6c6; font-weight: bold\"> Considering </span><span style=\"color: #c0c0c0; text-decoration-color: #c0c0c0; font-weight: bold\">5</span><span style=\"color: #c6c6c6; text-decoration-color: #c6c6c6; font-weight: bold\"> dec bins for extended source J1857P0203u           </span><a href=\"file:///data/home/cwy/.mylib/miniconda3/envs/3MLpure/lib/python3.9/site-packages/WCDA_hal/convolved_source/convolved_extended_source.py\" target=\"_blank\"><span style=\"color: #7f7f7f; text-decoration-color: #7f7f7f\">convolved_extended_source.py</span></a><span style=\"color: #7f7f7f; text-decoration-color: #7f7f7f\">:</span><a href=\"file:///data/home/cwy/.mylib/miniconda3/envs/3MLpure/lib/python3.9/site-packages/WCDA_hal/convolved_source/convolved_extended_source.py#89\" target=\"_blank\"><span style=\"color: #7f7f7f; text-decoration-color: #7f7f7f\">89</span></a>\n",
       "</pre>\n"
      ],
      "text/plain": [
       "\u001b[38;5;46m        \u001b[0m\u001b[38;5;46m \u001b[0m\u001b[38;5;49mINFO    \u001b[0m \u001b[1;38;5;251m Considering \u001b[0m\u001b[1;37m5\u001b[0m\u001b[1;38;5;251m dec bins for extended source J1857P0203u          \u001b[0m\u001b[1;38;5;251m \u001b[0m\u001b]8;id=337425;file:///data/home/cwy/.mylib/miniconda3/envs/3MLpure/lib/python3.9/site-packages/WCDA_hal/convolved_source/convolved_extended_source.py\u001b\\\u001b[2mconvolved_extended_source.py\u001b[0m\u001b]8;;\u001b\\\u001b[2m:\u001b[0m\u001b]8;id=770861;file:///data/home/cwy/.mylib/miniconda3/envs/3MLpure/lib/python3.9/site-packages/WCDA_hal/convolved_source/convolved_extended_source.py#89\u001b\\\u001b[2m89\u001b[0m\u001b]8;;\u001b\\\n"
      ]
     },
     "metadata": {},
     "output_type": "display_data"
    },
    {
     "data": {
      "text/html": [
       "<pre style=\"white-space:pre;overflow-x:auto;line-height:normal;font-family:Menlo,'DejaVu Sans Mono',consolas,'Courier New',monospace\"><span style=\"color: #00ff00; text-decoration-color: #00ff00\">         </span><span style=\"color: #00ffaf; text-decoration-color: #00ffaf\">INFO    </span> <span style=\"color: #c6c6c6; text-decoration-color: #c6c6c6; font-weight: bold\"> Central bin is bin at Declination = </span><span style=\"color: #c0c0c0; text-decoration-color: #c0c0c0; font-weight: bold\">2.060</span><span style=\"color: #c6c6c6; text-decoration-color: #c6c6c6; font-weight: bold\">                        </span><a href=\"file:///data/home/cwy/.mylib/miniconda3/envs/3MLpure/lib/python3.9/site-packages/WCDA_hal/convolved_source/convolved_extended_source.py\" target=\"_blank\"><span style=\"color: #7f7f7f; text-decoration-color: #7f7f7f\">convolved_extended_source.py</span></a><span style=\"color: #7f7f7f; text-decoration-color: #7f7f7f\">:</span><a href=\"file:///data/home/cwy/.mylib/miniconda3/envs/3MLpure/lib/python3.9/site-packages/WCDA_hal/convolved_source/convolved_extended_source.py#98\" target=\"_blank\"><span style=\"color: #7f7f7f; text-decoration-color: #7f7f7f\">98</span></a>\n",
       "</pre>\n"
      ],
      "text/plain": [
       "\u001b[38;5;46m        \u001b[0m\u001b[38;5;46m \u001b[0m\u001b[38;5;49mINFO    \u001b[0m \u001b[1;38;5;251m Central bin is bin at Declination = \u001b[0m\u001b[1;37m2.060\u001b[0m\u001b[1;38;5;251m                       \u001b[0m\u001b[1;38;5;251m \u001b[0m\u001b]8;id=946590;file:///data/home/cwy/.mylib/miniconda3/envs/3MLpure/lib/python3.9/site-packages/WCDA_hal/convolved_source/convolved_extended_source.py\u001b\\\u001b[2mconvolved_extended_source.py\u001b[0m\u001b]8;;\u001b\\\u001b[2m:\u001b[0m\u001b]8;id=564222;file:///data/home/cwy/.mylib/miniconda3/envs/3MLpure/lib/python3.9/site-packages/WCDA_hal/convolved_source/convolved_extended_source.py#98\u001b\\\u001b[2m98\u001b[0m\u001b]8;;\u001b\\\n"
      ]
     },
     "metadata": {},
     "output_type": "display_data"
    },
    {
     "data": {
      "text/html": [
       "<pre style=\"white-space:pre;overflow-x:auto;line-height:normal;font-family:Menlo,'DejaVu Sans Mono',consolas,'Courier New',monospace\"><span style=\"color: #00ff00; text-decoration-color: #00ff00\">         </span><span style=\"color: #00ffaf; text-decoration-color: #00ffaf\">INFO    </span> <span style=\"color: #c6c6c6; text-decoration-color: #c6c6c6; font-weight: bold\"> Considering </span><span style=\"color: #c0c0c0; text-decoration-color: #c0c0c0; font-weight: bold\">6</span><span style=\"color: #c6c6c6; text-decoration-color: #c6c6c6; font-weight: bold\"> dec bins for extended source J1858P0330            </span><a href=\"file:///data/home/cwy/.mylib/miniconda3/envs/3MLpure/lib/python3.9/site-packages/WCDA_hal/convolved_source/convolved_extended_source.py\" target=\"_blank\"><span style=\"color: #7f7f7f; text-decoration-color: #7f7f7f\">convolved_extended_source.py</span></a><span style=\"color: #7f7f7f; text-decoration-color: #7f7f7f\">:</span><a href=\"file:///data/home/cwy/.mylib/miniconda3/envs/3MLpure/lib/python3.9/site-packages/WCDA_hal/convolved_source/convolved_extended_source.py#89\" target=\"_blank\"><span style=\"color: #7f7f7f; text-decoration-color: #7f7f7f\">89</span></a>\n",
       "</pre>\n"
      ],
      "text/plain": [
       "\u001b[38;5;46m        \u001b[0m\u001b[38;5;46m \u001b[0m\u001b[38;5;49mINFO    \u001b[0m \u001b[1;38;5;251m Considering \u001b[0m\u001b[1;37m6\u001b[0m\u001b[1;38;5;251m dec bins for extended source J1858P0330           \u001b[0m\u001b[1;38;5;251m \u001b[0m\u001b]8;id=182329;file:///data/home/cwy/.mylib/miniconda3/envs/3MLpure/lib/python3.9/site-packages/WCDA_hal/convolved_source/convolved_extended_source.py\u001b\\\u001b[2mconvolved_extended_source.py\u001b[0m\u001b]8;;\u001b\\\u001b[2m:\u001b[0m\u001b]8;id=558872;file:///data/home/cwy/.mylib/miniconda3/envs/3MLpure/lib/python3.9/site-packages/WCDA_hal/convolved_source/convolved_extended_source.py#89\u001b\\\u001b[2m89\u001b[0m\u001b]8;;\u001b\\\n"
      ]
     },
     "metadata": {},
     "output_type": "display_data"
    },
    {
     "data": {
      "text/html": [
       "<pre style=\"white-space:pre;overflow-x:auto;line-height:normal;font-family:Menlo,'DejaVu Sans Mono',consolas,'Courier New',monospace\"><span style=\"color: #00ff00; text-decoration-color: #00ff00\">         </span><span style=\"color: #00ffaf; text-decoration-color: #00ffaf\">INFO    </span> <span style=\"color: #c6c6c6; text-decoration-color: #c6c6c6; font-weight: bold\"> Central bin is bin at Declination = </span><span style=\"color: #c0c0c0; text-decoration-color: #c0c0c0; font-weight: bold\">3.510</span><span style=\"color: #c6c6c6; text-decoration-color: #c6c6c6; font-weight: bold\">                        </span><a href=\"file:///data/home/cwy/.mylib/miniconda3/envs/3MLpure/lib/python3.9/site-packages/WCDA_hal/convolved_source/convolved_extended_source.py\" target=\"_blank\"><span style=\"color: #7f7f7f; text-decoration-color: #7f7f7f\">convolved_extended_source.py</span></a><span style=\"color: #7f7f7f; text-decoration-color: #7f7f7f\">:</span><a href=\"file:///data/home/cwy/.mylib/miniconda3/envs/3MLpure/lib/python3.9/site-packages/WCDA_hal/convolved_source/convolved_extended_source.py#98\" target=\"_blank\"><span style=\"color: #7f7f7f; text-decoration-color: #7f7f7f\">98</span></a>\n",
       "</pre>\n"
      ],
      "text/plain": [
       "\u001b[38;5;46m        \u001b[0m\u001b[38;5;46m \u001b[0m\u001b[38;5;49mINFO    \u001b[0m \u001b[1;38;5;251m Central bin is bin at Declination = \u001b[0m\u001b[1;37m3.510\u001b[0m\u001b[1;38;5;251m                       \u001b[0m\u001b[1;38;5;251m \u001b[0m\u001b]8;id=505425;file:///data/home/cwy/.mylib/miniconda3/envs/3MLpure/lib/python3.9/site-packages/WCDA_hal/convolved_source/convolved_extended_source.py\u001b\\\u001b[2mconvolved_extended_source.py\u001b[0m\u001b]8;;\u001b\\\u001b[2m:\u001b[0m\u001b]8;id=702218;file:///data/home/cwy/.mylib/miniconda3/envs/3MLpure/lib/python3.9/site-packages/WCDA_hal/convolved_source/convolved_extended_source.py#98\u001b\\\u001b[2m98\u001b[0m\u001b]8;;\u001b\\\n"
      ]
     },
     "metadata": {},
     "output_type": "display_data"
    },
    {
     "data": {
      "text/html": [
       "<pre style=\"white-space:pre;overflow-x:auto;line-height:normal;font-family:Menlo,'DejaVu Sans Mono',consolas,'Courier New',monospace\"><span style=\"color: #00ff00; text-decoration-color: #00ff00\">         </span><span style=\"color: #00ffaf; text-decoration-color: #00ffaf\">INFO    </span> <span style=\"color: #c6c6c6; text-decoration-color: #c6c6c6; font-weight: bold\"> Considering </span><span style=\"color: #c0c0c0; text-decoration-color: #c0c0c0; font-weight: bold\">5</span><span style=\"color: #c6c6c6; text-decoration-color: #c6c6c6; font-weight: bold\"> dec bins for extended source J1908P0615u           </span><a href=\"file:///data/home/cwy/.mylib/miniconda3/envs/3MLpure/lib/python3.9/site-packages/WCDA_hal/convolved_source/convolved_extended_source.py\" target=\"_blank\"><span style=\"color: #7f7f7f; text-decoration-color: #7f7f7f\">convolved_extended_source.py</span></a><span style=\"color: #7f7f7f; text-decoration-color: #7f7f7f\">:</span><a href=\"file:///data/home/cwy/.mylib/miniconda3/envs/3MLpure/lib/python3.9/site-packages/WCDA_hal/convolved_source/convolved_extended_source.py#89\" target=\"_blank\"><span style=\"color: #7f7f7f; text-decoration-color: #7f7f7f\">89</span></a>\n",
       "</pre>\n"
      ],
      "text/plain": [
       "\u001b[38;5;46m        \u001b[0m\u001b[38;5;46m \u001b[0m\u001b[38;5;49mINFO    \u001b[0m \u001b[1;38;5;251m Considering \u001b[0m\u001b[1;37m5\u001b[0m\u001b[1;38;5;251m dec bins for extended source J1908P0615u          \u001b[0m\u001b[1;38;5;251m \u001b[0m\u001b]8;id=348525;file:///data/home/cwy/.mylib/miniconda3/envs/3MLpure/lib/python3.9/site-packages/WCDA_hal/convolved_source/convolved_extended_source.py\u001b\\\u001b[2mconvolved_extended_source.py\u001b[0m\u001b]8;;\u001b\\\u001b[2m:\u001b[0m\u001b]8;id=924348;file:///data/home/cwy/.mylib/miniconda3/envs/3MLpure/lib/python3.9/site-packages/WCDA_hal/convolved_source/convolved_extended_source.py#89\u001b\\\u001b[2m89\u001b[0m\u001b]8;;\u001b\\\n"
      ]
     },
     "metadata": {},
     "output_type": "display_data"
    },
    {
     "data": {
      "text/html": [
       "<pre style=\"white-space:pre;overflow-x:auto;line-height:normal;font-family:Menlo,'DejaVu Sans Mono',consolas,'Courier New',monospace\"><span style=\"color: #00ff00; text-decoration-color: #00ff00\">         </span><span style=\"color: #00ffaf; text-decoration-color: #00ffaf\">INFO    </span> <span style=\"color: #c6c6c6; text-decoration-color: #c6c6c6; font-weight: bold\"> Central bin is bin at Declination = </span><span style=\"color: #c0c0c0; text-decoration-color: #c0c0c0; font-weight: bold\">6.260</span><span style=\"color: #c6c6c6; text-decoration-color: #c6c6c6; font-weight: bold\">                        </span><a href=\"file:///data/home/cwy/.mylib/miniconda3/envs/3MLpure/lib/python3.9/site-packages/WCDA_hal/convolved_source/convolved_extended_source.py\" target=\"_blank\"><span style=\"color: #7f7f7f; text-decoration-color: #7f7f7f\">convolved_extended_source.py</span></a><span style=\"color: #7f7f7f; text-decoration-color: #7f7f7f\">:</span><a href=\"file:///data/home/cwy/.mylib/miniconda3/envs/3MLpure/lib/python3.9/site-packages/WCDA_hal/convolved_source/convolved_extended_source.py#98\" target=\"_blank\"><span style=\"color: #7f7f7f; text-decoration-color: #7f7f7f\">98</span></a>\n",
       "</pre>\n"
      ],
      "text/plain": [
       "\u001b[38;5;46m        \u001b[0m\u001b[38;5;46m \u001b[0m\u001b[38;5;49mINFO    \u001b[0m \u001b[1;38;5;251m Central bin is bin at Declination = \u001b[0m\u001b[1;37m6.260\u001b[0m\u001b[1;38;5;251m                       \u001b[0m\u001b[1;38;5;251m \u001b[0m\u001b]8;id=586789;file:///data/home/cwy/.mylib/miniconda3/envs/3MLpure/lib/python3.9/site-packages/WCDA_hal/convolved_source/convolved_extended_source.py\u001b\\\u001b[2mconvolved_extended_source.py\u001b[0m\u001b]8;;\u001b\\\u001b[2m:\u001b[0m\u001b]8;id=618214;file:///data/home/cwy/.mylib/miniconda3/envs/3MLpure/lib/python3.9/site-packages/WCDA_hal/convolved_source/convolved_extended_source.py#98\u001b\\\u001b[2m98\u001b[0m\u001b]8;;\u001b\\\n"
      ]
     },
     "metadata": {},
     "output_type": "display_data"
    },
    {
     "data": {
      "text/html": [
       "<pre style=\"white-space:pre;overflow-x:auto;line-height:normal;font-family:Menlo,'DejaVu Sans Mono',consolas,'Courier New',monospace\"><span style=\"color: #00ff00; text-decoration-color: #00ff00\">         </span><span style=\"color: #00ffaf; text-decoration-color: #00ffaf\">INFO    </span> <span style=\"color: #c6c6c6; text-decoration-color: #c6c6c6; font-weight: bold\"> Considering </span><span style=\"color: #c0c0c0; text-decoration-color: #c0c0c0; font-weight: bold\">6</span><span style=\"color: #c6c6c6; text-decoration-color: #c6c6c6; font-weight: bold\"> dec bins for extended source J1912P1014u           </span><a href=\"file:///data/home/cwy/.mylib/miniconda3/envs/3MLpure/lib/python3.9/site-packages/WCDA_hal/convolved_source/convolved_extended_source.py\" target=\"_blank\"><span style=\"color: #7f7f7f; text-decoration-color: #7f7f7f\">convolved_extended_source.py</span></a><span style=\"color: #7f7f7f; text-decoration-color: #7f7f7f\">:</span><a href=\"file:///data/home/cwy/.mylib/miniconda3/envs/3MLpure/lib/python3.9/site-packages/WCDA_hal/convolved_source/convolved_extended_source.py#89\" target=\"_blank\"><span style=\"color: #7f7f7f; text-decoration-color: #7f7f7f\">89</span></a>\n",
       "</pre>\n"
      ],
      "text/plain": [
       "\u001b[38;5;46m        \u001b[0m\u001b[38;5;46m \u001b[0m\u001b[38;5;49mINFO    \u001b[0m \u001b[1;38;5;251m Considering \u001b[0m\u001b[1;37m6\u001b[0m\u001b[1;38;5;251m dec bins for extended source J1912P1014u          \u001b[0m\u001b[1;38;5;251m \u001b[0m\u001b]8;id=81169;file:///data/home/cwy/.mylib/miniconda3/envs/3MLpure/lib/python3.9/site-packages/WCDA_hal/convolved_source/convolved_extended_source.py\u001b\\\u001b[2mconvolved_extended_source.py\u001b[0m\u001b]8;;\u001b\\\u001b[2m:\u001b[0m\u001b]8;id=351912;file:///data/home/cwy/.mylib/miniconda3/envs/3MLpure/lib/python3.9/site-packages/WCDA_hal/convolved_source/convolved_extended_source.py#89\u001b\\\u001b[2m89\u001b[0m\u001b]8;;\u001b\\\n"
      ]
     },
     "metadata": {},
     "output_type": "display_data"
    },
    {
     "data": {
      "text/html": [
       "<pre style=\"white-space:pre;overflow-x:auto;line-height:normal;font-family:Menlo,'DejaVu Sans Mono',consolas,'Courier New',monospace\"><span style=\"color: #00ff00; text-decoration-color: #00ff00\">         </span><span style=\"color: #00ffaf; text-decoration-color: #00ffaf\">INFO    </span> <span style=\"color: #c6c6c6; text-decoration-color: #c6c6c6; font-weight: bold\"> Central bin is bin at Declination = </span><span style=\"color: #c0c0c0; text-decoration-color: #c0c0c0; font-weight: bold\">10.500</span><span style=\"color: #c6c6c6; text-decoration-color: #c6c6c6; font-weight: bold\">                       </span><a href=\"file:///data/home/cwy/.mylib/miniconda3/envs/3MLpure/lib/python3.9/site-packages/WCDA_hal/convolved_source/convolved_extended_source.py\" target=\"_blank\"><span style=\"color: #7f7f7f; text-decoration-color: #7f7f7f\">convolved_extended_source.py</span></a><span style=\"color: #7f7f7f; text-decoration-color: #7f7f7f\">:</span><a href=\"file:///data/home/cwy/.mylib/miniconda3/envs/3MLpure/lib/python3.9/site-packages/WCDA_hal/convolved_source/convolved_extended_source.py#98\" target=\"_blank\"><span style=\"color: #7f7f7f; text-decoration-color: #7f7f7f\">98</span></a>\n",
       "</pre>\n"
      ],
      "text/plain": [
       "\u001b[38;5;46m        \u001b[0m\u001b[38;5;46m \u001b[0m\u001b[38;5;49mINFO    \u001b[0m \u001b[1;38;5;251m Central bin is bin at Declination = \u001b[0m\u001b[1;37m10.500\u001b[0m\u001b[1;38;5;251m                      \u001b[0m\u001b[1;38;5;251m \u001b[0m\u001b]8;id=998088;file:///data/home/cwy/.mylib/miniconda3/envs/3MLpure/lib/python3.9/site-packages/WCDA_hal/convolved_source/convolved_extended_source.py\u001b\\\u001b[2mconvolved_extended_source.py\u001b[0m\u001b]8;;\u001b\\\u001b[2m:\u001b[0m\u001b]8;id=613128;file:///data/home/cwy/.mylib/miniconda3/envs/3MLpure/lib/python3.9/site-packages/WCDA_hal/convolved_source/convolved_extended_source.py#98\u001b\\\u001b[2m98\u001b[0m\u001b]8;;\u001b\\\n"
      ]
     },
     "metadata": {},
     "output_type": "display_data"
    },
    {
     "data": {
      "text/html": [
       "<pre style=\"white-space:pre;overflow-x:auto;line-height:normal;font-family:Menlo,'DejaVu Sans Mono',consolas,'Courier New',monospace\"><span style=\"color: #00ff00; text-decoration-color: #00ff00\">         </span><span style=\"color: #00ffaf; text-decoration-color: #00ffaf\">INFO    </span> <span style=\"color: #c6c6c6; text-decoration-color: #c6c6c6; font-weight: bold\"> Considering </span><span style=\"color: #c0c0c0; text-decoration-color: #c0c0c0; font-weight: bold\">5</span><span style=\"color: #c6c6c6; text-decoration-color: #c6c6c6; font-weight: bold\"> dec bins for extended source J1914P1150u           </span><a href=\"file:///data/home/cwy/.mylib/miniconda3/envs/3MLpure/lib/python3.9/site-packages/WCDA_hal/convolved_source/convolved_extended_source.py\" target=\"_blank\"><span style=\"color: #7f7f7f; text-decoration-color: #7f7f7f\">convolved_extended_source.py</span></a><span style=\"color: #7f7f7f; text-decoration-color: #7f7f7f\">:</span><a href=\"file:///data/home/cwy/.mylib/miniconda3/envs/3MLpure/lib/python3.9/site-packages/WCDA_hal/convolved_source/convolved_extended_source.py#89\" target=\"_blank\"><span style=\"color: #7f7f7f; text-decoration-color: #7f7f7f\">89</span></a>\n",
       "</pre>\n"
      ],
      "text/plain": [
       "\u001b[38;5;46m        \u001b[0m\u001b[38;5;46m \u001b[0m\u001b[38;5;49mINFO    \u001b[0m \u001b[1;38;5;251m Considering \u001b[0m\u001b[1;37m5\u001b[0m\u001b[1;38;5;251m dec bins for extended source J1914P1150u          \u001b[0m\u001b[1;38;5;251m \u001b[0m\u001b]8;id=7787;file:///data/home/cwy/.mylib/miniconda3/envs/3MLpure/lib/python3.9/site-packages/WCDA_hal/convolved_source/convolved_extended_source.py\u001b\\\u001b[2mconvolved_extended_source.py\u001b[0m\u001b]8;;\u001b\\\u001b[2m:\u001b[0m\u001b]8;id=805230;file:///data/home/cwy/.mylib/miniconda3/envs/3MLpure/lib/python3.9/site-packages/WCDA_hal/convolved_source/convolved_extended_source.py#89\u001b\\\u001b[2m89\u001b[0m\u001b]8;;\u001b\\\n"
      ]
     },
     "metadata": {},
     "output_type": "display_data"
    },
    {
     "data": {
      "text/html": [
       "<pre style=\"white-space:pre;overflow-x:auto;line-height:normal;font-family:Menlo,'DejaVu Sans Mono',consolas,'Courier New',monospace\"><span style=\"color: #00ff00; text-decoration-color: #00ff00\">         </span><span style=\"color: #00ffaf; text-decoration-color: #00ffaf\">INFO    </span> <span style=\"color: #c6c6c6; text-decoration-color: #c6c6c6; font-weight: bold\"> Central bin is bin at Declination = </span><span style=\"color: #c0c0c0; text-decoration-color: #c0c0c0; font-weight: bold\">11.840</span><span style=\"color: #c6c6c6; text-decoration-color: #c6c6c6; font-weight: bold\">                       </span><a href=\"file:///data/home/cwy/.mylib/miniconda3/envs/3MLpure/lib/python3.9/site-packages/WCDA_hal/convolved_source/convolved_extended_source.py\" target=\"_blank\"><span style=\"color: #7f7f7f; text-decoration-color: #7f7f7f\">convolved_extended_source.py</span></a><span style=\"color: #7f7f7f; text-decoration-color: #7f7f7f\">:</span><a href=\"file:///data/home/cwy/.mylib/miniconda3/envs/3MLpure/lib/python3.9/site-packages/WCDA_hal/convolved_source/convolved_extended_source.py#98\" target=\"_blank\"><span style=\"color: #7f7f7f; text-decoration-color: #7f7f7f\">98</span></a>\n",
       "</pre>\n"
      ],
      "text/plain": [
       "\u001b[38;5;46m        \u001b[0m\u001b[38;5;46m \u001b[0m\u001b[38;5;49mINFO    \u001b[0m \u001b[1;38;5;251m Central bin is bin at Declination = \u001b[0m\u001b[1;37m11.840\u001b[0m\u001b[1;38;5;251m                      \u001b[0m\u001b[1;38;5;251m \u001b[0m\u001b]8;id=54686;file:///data/home/cwy/.mylib/miniconda3/envs/3MLpure/lib/python3.9/site-packages/WCDA_hal/convolved_source/convolved_extended_source.py\u001b\\\u001b[2mconvolved_extended_source.py\u001b[0m\u001b]8;;\u001b\\\u001b[2m:\u001b[0m\u001b]8;id=44462;file:///data/home/cwy/.mylib/miniconda3/envs/3MLpure/lib/python3.9/site-packages/WCDA_hal/convolved_source/convolved_extended_source.py#98\u001b\\\u001b[2m98\u001b[0m\u001b]8;;\u001b\\\n"
      ]
     },
     "metadata": {},
     "output_type": "display_data"
    },
    {
     "data": {
      "text/html": [
       "<pre style=\"white-space:pre;overflow-x:auto;line-height:normal;font-family:Menlo,'DejaVu Sans Mono',consolas,'Courier New',monospace\"><span style=\"color: #00ff00; text-decoration-color: #00ff00\">         </span><span style=\"color: #00ffaf; text-decoration-color: #00ffaf\">INFO    </span> <span style=\"color: #c6c6c6; text-decoration-color: #c6c6c6; font-weight: bold\"> Considering </span><span style=\"color: #c0c0c0; text-decoration-color: #c0c0c0; font-weight: bold\">18</span><span style=\"color: #c6c6c6; text-decoration-color: #c6c6c6; font-weight: bold\"> dec bins for extended source Diffuse              </span><a href=\"file:///data/home/cwy/.mylib/miniconda3/envs/3MLpure/lib/python3.9/site-packages/WCDA_hal/convolved_source/convolved_extended_source.py\" target=\"_blank\"><span style=\"color: #7f7f7f; text-decoration-color: #7f7f7f\">convolved_extended_source.py</span></a><span style=\"color: #7f7f7f; text-decoration-color: #7f7f7f\">:</span><a href=\"file:///data/home/cwy/.mylib/miniconda3/envs/3MLpure/lib/python3.9/site-packages/WCDA_hal/convolved_source/convolved_extended_source.py#89\" target=\"_blank\"><span style=\"color: #7f7f7f; text-decoration-color: #7f7f7f\">89</span></a>\n",
       "</pre>\n"
      ],
      "text/plain": [
       "\u001b[38;5;46m        \u001b[0m\u001b[38;5;46m \u001b[0m\u001b[38;5;49mINFO    \u001b[0m \u001b[1;38;5;251m Considering \u001b[0m\u001b[1;37m18\u001b[0m\u001b[1;38;5;251m dec bins for extended source Diffuse             \u001b[0m\u001b[1;38;5;251m \u001b[0m\u001b]8;id=382943;file:///data/home/cwy/.mylib/miniconda3/envs/3MLpure/lib/python3.9/site-packages/WCDA_hal/convolved_source/convolved_extended_source.py\u001b\\\u001b[2mconvolved_extended_source.py\u001b[0m\u001b]8;;\u001b\\\u001b[2m:\u001b[0m\u001b]8;id=72005;file:///data/home/cwy/.mylib/miniconda3/envs/3MLpure/lib/python3.9/site-packages/WCDA_hal/convolved_source/convolved_extended_source.py#89\u001b\\\u001b[2m89\u001b[0m\u001b]8;;\u001b\\\n"
      ]
     },
     "metadata": {},
     "output_type": "display_data"
    },
    {
     "data": {
      "text/html": [
       "<pre style=\"white-space:pre;overflow-x:auto;line-height:normal;font-family:Menlo,'DejaVu Sans Mono',consolas,'Courier New',monospace\"><span style=\"color: #00ff00; text-decoration-color: #00ff00\">         </span><span style=\"color: #00ffaf; text-decoration-color: #00ffaf\">INFO    </span> <span style=\"color: #c6c6c6; text-decoration-color: #c6c6c6; font-weight: bold\"> Central bin is bin at Declination = </span><span style=\"color: #c0c0c0; text-decoration-color: #c0c0c0; font-weight: bold\">5.521</span><span style=\"color: #c6c6c6; text-decoration-color: #c6c6c6; font-weight: bold\">                        </span><a href=\"file:///data/home/cwy/.mylib/miniconda3/envs/3MLpure/lib/python3.9/site-packages/WCDA_hal/convolved_source/convolved_extended_source.py\" target=\"_blank\"><span style=\"color: #7f7f7f; text-decoration-color: #7f7f7f\">convolved_extended_source.py</span></a><span style=\"color: #7f7f7f; text-decoration-color: #7f7f7f\">:</span><a href=\"file:///data/home/cwy/.mylib/miniconda3/envs/3MLpure/lib/python3.9/site-packages/WCDA_hal/convolved_source/convolved_extended_source.py#98\" target=\"_blank\"><span style=\"color: #7f7f7f; text-decoration-color: #7f7f7f\">98</span></a>\n",
       "</pre>\n"
      ],
      "text/plain": [
       "\u001b[38;5;46m        \u001b[0m\u001b[38;5;46m \u001b[0m\u001b[38;5;49mINFO    \u001b[0m \u001b[1;38;5;251m Central bin is bin at Declination = \u001b[0m\u001b[1;37m5.521\u001b[0m\u001b[1;38;5;251m                       \u001b[0m\u001b[1;38;5;251m \u001b[0m\u001b]8;id=325463;file:///data/home/cwy/.mylib/miniconda3/envs/3MLpure/lib/python3.9/site-packages/WCDA_hal/convolved_source/convolved_extended_source.py\u001b\\\u001b[2mconvolved_extended_source.py\u001b[0m\u001b]8;;\u001b\\\u001b[2m:\u001b[0m\u001b]8;id=234471;file:///data/home/cwy/.mylib/miniconda3/envs/3MLpure/lib/python3.9/site-packages/WCDA_hal/convolved_source/convolved_extended_source.py#98\u001b\\\u001b[2m98\u001b[0m\u001b]8;;\u001b\\\n"
      ]
     },
     "metadata": {},
     "output_type": "display_data"
    },
    {
     "data": {
      "text/html": [
       "<pre style=\"white-space:pre;overflow-x:auto;line-height:normal;font-family:Menlo,'DejaVu Sans Mono',consolas,'Courier New',monospace\"><span style=\"color: #00ff00; text-decoration-color: #00ff00\">         </span><span style=\"color: #00ffaf; text-decoration-color: #00ffaf\">INFO    </span> <span style=\"color: #c6c6c6; text-decoration-color: #c6c6c6; font-weight: bold\"> set the minimizer to minuit                                             </span><a href=\"file:///data/home/cwy/.mylib/miniconda3/envs/3MLpure/lib/python3.9/site-packages/threeML/classicMLE/joint_likelihood.py\" target=\"_blank\"><span style=\"color: #7f7f7f; text-decoration-color: #7f7f7f\">joint_likelihood.py</span></a><span style=\"color: #7f7f7f; text-decoration-color: #7f7f7f\">:</span><a href=\"file:///data/home/cwy/.mylib/miniconda3/envs/3MLpure/lib/python3.9/site-packages/threeML/classicMLE/joint_likelihood.py#1042\" target=\"_blank\"><span style=\"color: #7f7f7f; text-decoration-color: #7f7f7f\">1042</span></a>\n",
       "</pre>\n"
      ],
      "text/plain": [
       "\u001b[38;5;46m        \u001b[0m\u001b[38;5;46m \u001b[0m\u001b[38;5;49mINFO    \u001b[0m \u001b[1;38;5;251m set the minimizer to minuit                                            \u001b[0m\u001b[1;38;5;251m \u001b[0m\u001b]8;id=165631;file:///data/home/cwy/.mylib/miniconda3/envs/3MLpure/lib/python3.9/site-packages/threeML/classicMLE/joint_likelihood.py\u001b\\\u001b[2mjoint_likelihood.py\u001b[0m\u001b]8;;\u001b\\\u001b[2m:\u001b[0m\u001b]8;id=129426;file:///data/home/cwy/.mylib/miniconda3/envs/3MLpure/lib/python3.9/site-packages/threeML/classicMLE/joint_likelihood.py#1042\u001b\\\u001b[2m1042\u001b[0m\u001b]8;;\u001b\\\n"
      ]
     },
     "metadata": {},
     "output_type": "display_data"
    },
    {
     "data": {
      "text/html": [
       "<pre style=\"white-space:pre;overflow-x:auto;line-height:normal;font-family:Menlo,'DejaVu Sans Mono',consolas,'Courier New',monospace\"><span style=\"color: #00ff00; text-decoration-color: #00ff00\">         </span><span style=\"color: #00ffaf; text-decoration-color: #00ffaf\">INFO    </span> <span style=\"color: #c6c6c6; text-decoration-color: #c6c6c6; font-weight: bold\"> set the minimizer to ROOT                                               </span><a href=\"file:///data/home/cwy/.mylib/miniconda3/envs/3MLpure/lib/python3.9/site-packages/threeML/classicMLE/joint_likelihood.py\" target=\"_blank\"><span style=\"color: #7f7f7f; text-decoration-color: #7f7f7f\">joint_likelihood.py</span></a><span style=\"color: #7f7f7f; text-decoration-color: #7f7f7f\">:</span><a href=\"file:///data/home/cwy/.mylib/miniconda3/envs/3MLpure/lib/python3.9/site-packages/threeML/classicMLE/joint_likelihood.py#1059\" target=\"_blank\"><span style=\"color: #7f7f7f; text-decoration-color: #7f7f7f\">1059</span></a>\n",
       "</pre>\n"
      ],
      "text/plain": [
       "\u001b[38;5;46m        \u001b[0m\u001b[38;5;46m \u001b[0m\u001b[38;5;49mINFO    \u001b[0m \u001b[1;38;5;251m set the minimizer to ROOT                                              \u001b[0m\u001b[1;38;5;251m \u001b[0m\u001b]8;id=107114;file:///data/home/cwy/.mylib/miniconda3/envs/3MLpure/lib/python3.9/site-packages/threeML/classicMLE/joint_likelihood.py\u001b\\\u001b[2mjoint_likelihood.py\u001b[0m\u001b]8;;\u001b\\\u001b[2m:\u001b[0m\u001b]8;id=866427;file:///data/home/cwy/.mylib/miniconda3/envs/3MLpure/lib/python3.9/site-packages/threeML/classicMLE/joint_likelihood.py#1059\u001b\\\u001b[2m1059\u001b[0m\u001b]8;;\u001b\\\n"
      ]
     },
     "metadata": {},
     "output_type": "display_data"
    }
   ],
   "source": [
    "%matplotlib inline\n",
    "#####   Data Initialize\n",
    "\n",
    "\n",
    "maptree = \"../../data/KM2A1234full_skymap_rcy.root\"\n",
    "# response = \"../../data/KM2A1234full_mcpsf_DRfinal.root\"\n",
    "response = \"../../data/KM2A1234full_mcpsfnewfix13.root\"\n",
    "\n",
    "region_name=\"Diffuse_KM2A_case1\"\n",
    "if not os.path.exists(f'../res/{region_name}/'):\n",
    "    os.system(f'mkdir ../res/{region_name}/')\n",
    "\n",
    "nside=2**10\n",
    "npix=hp.nside2npix(nside)\n",
    "pixarea = 4 * np.pi/npix\n",
    "\n",
    "pixIdx = hp.nside2npix(nside) # number of pixels I can get from this nside\n",
    "pixIdx = np.arange(pixIdx) # pixel index numbers\n",
    "new_lats = hp.pix2ang(nside, pixIdx)[0] # thetas I need to populate with interpolated theta values\n",
    "new_lons = hp.pix2ang(nside, pixIdx)[1] # phis, same\n",
    "c_icrs = SkyCoord(ra=new_lons*180/np.pi*u.degree, dec=90*u.degree-new_lats*180/np.pi*u.degree, frame='icrs')\n",
    "c_l=c_icrs.galactic.l.deg\n",
    "c_b=c_icrs.galactic.b.deg\n",
    "\n",
    "resultsall = []\n",
    "for i,gl in enumerate(tqdm([40])): #15 #range(20,360,10)\n",
    "    c_gal = SkyCoord(l=(gl)*u.degree, b=0*u.degree, frame='galactic')\n",
    "    RA_center=c_gal.icrs.ra.deg\n",
    "    Dec_center=c_gal.icrs.dec.deg\n",
    "    if (Dec_center<-20. or Dec_center>80.): continue\n",
    "    signal=np.zeros(npix,dtype=np.float64)\n",
    "    mask = ( (c_l< gl + 5) & (c_l > gl - 5) & (c_b <5.) & (c_b>-5) & (90-new_lats/np.pi*180>-20) & (90-new_lats/np.pi*180<80)) #&(new_lats<110/180*np.pi )  & (new_lats > 10/180*np.pi )\n",
    "        \n",
    "    signal[mask]=1\n",
    "    ra1,dec1=RA_center, Dec_center\n",
    "\n",
    "    data_radius = 7.0\n",
    "    model_radius = 7.5\n",
    "\n",
    "    roi = HealpixMapROI(ra=ra1,dec=dec1, data_radius=data_radius, model_radius=model_radius, roimap=signal)\n",
    "\n",
    "    KM2A = HAL(\"KM2A\", maptree, response, roi, flat_sky_pixels_size=0.17)\n",
    "\n",
    "    #####   Data Situation\n",
    "    %matplotlib inline\n",
    "    KM2A.set_active_measurements(4, 13)\n",
    "    KM2A.display()\n",
    "    KM2A.psf_integration_method=\"exact\"\n",
    "\n",
    "\n",
    "    Modelname=f\"roi_{gl - 5}-{gl + 5}\"\n",
    "    if not os.path.exists(f'../res/{region_name}/{Modelname}/'):\n",
    "        os.system(f'mkdir ../res/{region_name}/{Modelname}/')\n",
    "    fig = KM2A.display_stacked_image(smoothing_kernel_sigma=0.25)\n",
    "    fig.savefig(f\"../res/{region_name}/{Modelname}_counts_all.png\",dpi=300)\n",
    "\n",
    "    lm = my.getcatModel(ra1, dec1, data_radius, model_radius, rtsigma=5, rtflux=20, rtindex=10, rtp=5,  detector=\"KM2A\", roi=roi, pf=True, sf=True, kf=False, indexf=False, mkf=False, mindexf=False) #, fixall=True,  , Kscale= 1e-25 #, indexb=(-5.5, -1.5)\n",
    "\n",
    "    Diffuse, diffscaleratio = my.set_diffusebkg(\n",
    "                ra1, dec1, 8, 8, Kf=False, indexf=False, piv=50, name=region_name, ifreturnratio=True, indexb=(-5, -1), index=-3, kbratio=100 #, K=5e-16  Kb=(1e-17, 1e-14),\n",
    "                ) # , , Kn=1e-25\n",
    "    \n",
    "    lm.add_source(Diffuse)\n",
    "\n",
    "    lm.save(f\"../res/{region_name}/{Modelname}/Model_init.yml\", overwrite=True)\n",
    "    lm.display(complete=True)\n",
    "\n",
    "    result = my.fit(region_name, Modelname, KM2A, lm, 4, 13, mini=\"ROOT\") #, ifgeterror=True\n",
    "    sources = my.get_sources(lm,result)\n",
    "    resultsall.append([result, sources, diffscaleratio])\n",
    "\n",
    "    resu = my.getressimple(KM2A, lm)\n",
    "    new_source_idx = np.where(resu==np.ma.max(resu))[0][0]\n",
    "    new_source_lon_lat=hp.pix2ang(1024,new_source_idx,lonlat=True)\n",
    "    print(new_source_lon_lat)\n",
    "\n",
    "    plt.figure()\n",
    "    hp.gnomview(resu,norm='',rot=[ra1,dec1],xsize=200,ysize=200,reso=6,title=Modelname)\n",
    "    plt.scatter(new_source_lon_lat[0],new_source_lon_lat[1],marker='x',color='red')\n",
    "    plt.show()\n",
    "    plt.savefig(f\"../res/{region_name}/{Modelname}_res.png\",dpi=300)\n",
    "\n",
    "    map2, skymapHeader = hp.read_map(\"../../data/fullsky_KM2A_llh-3.5_new.fits.gz\",h=True)\n",
    "    map2 = my.maskroi(map2, roi)\n",
    "    sources.pop(\"Diffuse\")\n",
    "    fig = my.drawmap(region_name, Modelname, sources, map2, ra1, dec1, rad=2*data_radius, contours=[10000],save=1, \n",
    "                    color=\"Fermi\",\n",
    "                    colors = my.colorall\n",
    "                    )\n",
    "    \n",
    "    # try:\n",
    "    Flux_WCDA0, jls0  = my.getdatapoint(KM2A, lm, maptree, response, roi, \"Diffuse\", ifpowerlawM=1, piv=50)\n",
    "    import matplotlib as mpl\n",
    "\n",
    "    x_Max=10000.\n",
    "    x_Min=1\n",
    "    y_Min=0.2e-15\n",
    "    y_Max=1e-9\n",
    "    fig,ax = plt.subplots()\n",
    "    plot_spectra(\n",
    "        result[0].results,\n",
    "        sources_to_use=[\"Diffuse\"], #,\"ext1\",\"ext2\",\"ext4\",\"ext5\",\"ext6\",\"ext7\"|\n",
    "        include_extended=True,\n",
    "        ene_min=x_Min,\n",
    "        ene_max=x_Max,\n",
    "        num_ene=30,\n",
    "        energy_unit=\"TeV\",\n",
    "        flux_unit=\"TeV/(s cm2)\",\n",
    "        subplot=ax,\n",
    "        )\n",
    "\n",
    "    my.Draw_sepctrum_points(region_name, Modelname, Flux_WCDA0,\"Diffuse\",\"tab:red\")\n",
    "\n",
    "    ax.set_xlim(x_Min,x_Max)\n",
    "    ax.set_ylim(y_Min,y_Max)\n",
    "    ax.set_xscale('log')\n",
    "    ax.set_yscale('log')\n",
    "    ax.set_ylabel(r\"$E^2\\,dN/dE$ [TeV cm$^{-2}$ s$^{-1}$]\")\n",
    "    ax.set_xlabel(\"Energy [TeV]\")\n",
    "    plt.legend()\n",
    "    plt.savefig(f'../res/{region_name}/{Modelname}/Spectrum.png', dpi=300)\n",
    "    plt.savefig(f'../res/{region_name}/{Modelname}/Spectrum.pdf')\n",
    "    # except:\n",
    "    #     continue\n"
   ]
  },
  {
   "cell_type": "code",
   "execution_count": 46,
   "metadata": {},
   "outputs": [
    {
     "name": "stdout",
     "output_type": "stream",
     "text": [
      "roi_15-25\n"
     ]
    },
    {
     "data": {
      "application/vnd.jupyter.widget-view+json": {
       "model_id": "54bd4d4d72ff4822a89055c418e929fa",
       "version_major": 2,
       "version_minor": 0
      },
      "text/plain": [
       "processing MLE analyses:   0%|          | 0/1 [00:00<?, ?it/s]"
      ]
     },
     "metadata": {},
     "output_type": "display_data"
    },
    {
     "data": {
      "application/vnd.jupyter.widget-view+json": {
       "model_id": "4a164c1a5fd84291b59cf5c874a30b63",
       "version_major": 2,
       "version_minor": 0
      },
      "text/plain": [
       "Propagating errors:   0%|          | 0/30 [00:00<?, ?it/s]"
      ]
     },
     "metadata": {},
     "output_type": "display_data"
    },
    {
     "name": "stderr",
     "output_type": "stream",
     "text": [
      "\n",
      "WARNING UserWarning: color is redundantly defined by the 'color' keyword argument and the fmt string \"go\" (-> color='g'). The keyword argument will take precedence.\n",
      "\n"
     ]
    },
    {
     "name": "stdout",
     "output_type": "stream",
     "text": [
      "roi_25-35\n"
     ]
    },
    {
     "data": {
      "application/vnd.jupyter.widget-view+json": {
       "model_id": "3d15a27582054cb692adfb014d098561",
       "version_major": 2,
       "version_minor": 0
      },
      "text/plain": [
       "processing MLE analyses:   0%|          | 0/1 [00:00<?, ?it/s]"
      ]
     },
     "metadata": {},
     "output_type": "display_data"
    },
    {
     "data": {
      "application/vnd.jupyter.widget-view+json": {
       "model_id": "b4dabaffc6284a4699cee38fc8b6cbbb",
       "version_major": 2,
       "version_minor": 0
      },
      "text/plain": [
       "Propagating errors:   0%|          | 0/30 [00:00<?, ?it/s]"
      ]
     },
     "metadata": {},
     "output_type": "display_data"
    },
    {
     "name": "stderr",
     "output_type": "stream",
     "text": [
      "\n",
      "WARNING UserWarning: color is redundantly defined by the 'color' keyword argument and the fmt string \"go\" (-> color='g'). The keyword argument will take precedence.\n",
      "\n"
     ]
    },
    {
     "name": "stdout",
     "output_type": "stream",
     "text": [
      "roi_35-45\n"
     ]
    },
    {
     "data": {
      "application/vnd.jupyter.widget-view+json": {
       "model_id": "2157a908a1594b7d87f89a1ebce78466",
       "version_major": 2,
       "version_minor": 0
      },
      "text/plain": [
       "processing MLE analyses:   0%|          | 0/1 [00:00<?, ?it/s]"
      ]
     },
     "metadata": {},
     "output_type": "display_data"
    },
    {
     "data": {
      "application/vnd.jupyter.widget-view+json": {
       "model_id": "7457728fd2d04284842e9c87194335a1",
       "version_major": 2,
       "version_minor": 0
      },
      "text/plain": [
       "Propagating errors:   0%|          | 0/30 [00:00<?, ?it/s]"
      ]
     },
     "metadata": {},
     "output_type": "display_data"
    },
    {
     "name": "stderr",
     "output_type": "stream",
     "text": [
      "\n",
      "WARNING UserWarning: color is redundantly defined by the 'color' keyword argument and the fmt string \"go\" (-> color='g'). The keyword argument will take precedence.\n",
      "\n"
     ]
    },
    {
     "name": "stdout",
     "output_type": "stream",
     "text": [
      "roi_45-55\n"
     ]
    },
    {
     "data": {
      "application/vnd.jupyter.widget-view+json": {
       "model_id": "a9a2792c75cf45fbb48c8b4f847440a3",
       "version_major": 2,
       "version_minor": 0
      },
      "text/plain": [
       "processing MLE analyses:   0%|          | 0/1 [00:00<?, ?it/s]"
      ]
     },
     "metadata": {},
     "output_type": "display_data"
    },
    {
     "data": {
      "application/vnd.jupyter.widget-view+json": {
       "model_id": "5f032db33a724a60a68de39dc941b19c",
       "version_major": 2,
       "version_minor": 0
      },
      "text/plain": [
       "Propagating errors:   0%|          | 0/30 [00:00<?, ?it/s]"
      ]
     },
     "metadata": {},
     "output_type": "display_data"
    },
    {
     "name": "stderr",
     "output_type": "stream",
     "text": [
      "\n",
      "WARNING UserWarning: color is redundantly defined by the 'color' keyword argument and the fmt string \"go\" (-> color='g'). The keyword argument will take precedence.\n",
      "\n"
     ]
    },
    {
     "name": "stdout",
     "output_type": "stream",
     "text": [
      "roi_55-65\n"
     ]
    },
    {
     "data": {
      "application/vnd.jupyter.widget-view+json": {
       "model_id": "c70b02d031f9485fb923c604cdd2abb4",
       "version_major": 2,
       "version_minor": 0
      },
      "text/plain": [
       "processing MLE analyses:   0%|          | 0/1 [00:00<?, ?it/s]"
      ]
     },
     "metadata": {},
     "output_type": "display_data"
    },
    {
     "data": {
      "application/vnd.jupyter.widget-view+json": {
       "model_id": "0cf9b4c4b7c344fdaa19110da773fb4f",
       "version_major": 2,
       "version_minor": 0
      },
      "text/plain": [
       "Propagating errors:   0%|          | 0/30 [00:00<?, ?it/s]"
      ]
     },
     "metadata": {},
     "output_type": "display_data"
    },
    {
     "name": "stderr",
     "output_type": "stream",
     "text": [
      "\n",
      "WARNING UserWarning: color is redundantly defined by the 'color' keyword argument and the fmt string \"go\" (-> color='g'). The keyword argument will take precedence.\n",
      "\n"
     ]
    },
    {
     "name": "stdout",
     "output_type": "stream",
     "text": [
      "roi_65-75\n"
     ]
    },
    {
     "data": {
      "application/vnd.jupyter.widget-view+json": {
       "model_id": "20fb8654929e440ebb4ae3b1d1988bb7",
       "version_major": 2,
       "version_minor": 0
      },
      "text/plain": [
       "processing MLE analyses:   0%|          | 0/1 [00:00<?, ?it/s]"
      ]
     },
     "metadata": {},
     "output_type": "display_data"
    },
    {
     "data": {
      "application/vnd.jupyter.widget-view+json": {
       "model_id": "74d7146e175445bbbdbff734417c33ad",
       "version_major": 2,
       "version_minor": 0
      },
      "text/plain": [
       "Propagating errors:   0%|          | 0/30 [00:00<?, ?it/s]"
      ]
     },
     "metadata": {},
     "output_type": "display_data"
    },
    {
     "name": "stderr",
     "output_type": "stream",
     "text": [
      "\n",
      "WARNING UserWarning: color is redundantly defined by the 'color' keyword argument and the fmt string \"go\" (-> color='g'). The keyword argument will take precedence.\n",
      "\n"
     ]
    },
    {
     "name": "stdout",
     "output_type": "stream",
     "text": [
      "roi_75-85\n"
     ]
    },
    {
     "data": {
      "application/vnd.jupyter.widget-view+json": {
       "model_id": "ea1ce259b8cb4f71960384dac27e9b0d",
       "version_major": 2,
       "version_minor": 0
      },
      "text/plain": [
       "processing MLE analyses:   0%|          | 0/1 [00:00<?, ?it/s]"
      ]
     },
     "metadata": {},
     "output_type": "display_data"
    },
    {
     "data": {
      "application/vnd.jupyter.widget-view+json": {
       "model_id": "6ffee9e99f954aa89427b295d49b4f87",
       "version_major": 2,
       "version_minor": 0
      },
      "text/plain": [
       "Propagating errors:   0%|          | 0/30 [00:00<?, ?it/s]"
      ]
     },
     "metadata": {},
     "output_type": "display_data"
    },
    {
     "name": "stderr",
     "output_type": "stream",
     "text": [
      "\n",
      "WARNING UserWarning: color is redundantly defined by the 'color' keyword argument and the fmt string \"go\" (-> color='g'). The keyword argument will take precedence.\n",
      "\n"
     ]
    },
    {
     "name": "stdout",
     "output_type": "stream",
     "text": [
      "roi_85-95\n",
      "roi_95-105\n",
      "roi_105-115\n",
      "roi_115-125\n",
      "roi_125-135\n",
      "roi_135-145\n",
      "roi_145-155\n",
      "roi_155-165\n",
      "roi_165-175\n",
      "roi_175-185\n",
      "roi_185-195\n",
      "roi_195-205\n",
      "roi_205-215\n",
      "roi_215-225\n",
      "roi_225-235\n"
     ]
    },
    {
     "data": {
      "image/png": "[encoded data removed]",
      "text/plain": [
       "<Figure size 640x480 with 1 Axes>"
      ]
     },
     "metadata": {},
     "output_type": "display_data"
    }
   ],
   "source": [
    "%matplotlib inline\n",
    "import glob\n",
    "gc = []\n",
    "dk = []\n",
    "dkf = []\n",
    "de = []\n",
    "di = []\n",
    "die = []\n",
    "den = []\n",
    "dep = []\n",
    "dien = []\n",
    "diep = []\n",
    "ss = []\n",
    "ssr= []\n",
    "x_Max=5000.\n",
    "x_Min=0.5\n",
    "y_Min=0.8e-13\n",
    "y_Max=1e-9\n",
    "fig,ax = plt.subplots()\n",
    "folder_path = f\"/data/home/cwy/Science/3MLWCDA/Standard/res/{region_name}\"\n",
    "subfolders = glob.glob(folder_path + '/**/', recursive=True)\n",
    "sorted_files = sorted(subfolders[1:], key=lambda x: int(x.split('_')[-1].split('-')[-2]))\n",
    "# 打印所有找到的子文件夹路径\n",
    "for i,subfolder in enumerate(sorted_files): #[:7]\n",
    "    name = subfolder.split(\"/\")[-2]\n",
    "    print(name)\n",
    "    specpath = subfolder+\"Results.fits\"\n",
    "    resultsss = load_analysis_results(specpath)\n",
    "    resultdict = resultsss.get_data_frame()\n",
    "    gc.append(range(20,360,10)[i])\n",
    "    dk.append(resultdict.loc[\"Diffuse.spectrum.main.Powerlaw.K\"][\"value\"])\n",
    "    de.append(resultdict.loc[\"Diffuse.spectrum.main.Powerlaw.K\"][\"error\"])\n",
    "    den.append(abs(resultdict.loc[\"Diffuse.spectrum.main.Powerlaw.K\"][\"negative_error\"]))\n",
    "    dep.append(abs(resultdict.loc[\"Diffuse.spectrum.main.Powerlaw.K\"][\"positive_error\"]))\n",
    "    di.append(resultdict.loc[\"Diffuse.spectrum.main.Powerlaw.index\"][\"value\"])\n",
    "    die.append(resultdict.loc[\"Diffuse.spectrum.main.Powerlaw.index\"][\"error\"])\n",
    "    dien.append(abs(resultdict.loc[\"Diffuse.spectrum.main.Powerlaw.index\"][\"negative_error\"]))\n",
    "    diep.append(abs(resultdict.loc[\"Diffuse.spectrum.main.Powerlaw.index\"][\"positive_error\"]))\n",
    "    try:\n",
    "        dkf.append(resultsall[i][2][0])\n",
    "    except:\n",
    "        resultfile = np.load(f\"../res/Diffuse_WCDA_case10/resultsall.npy\")\n",
    "        dkf = resultfile[9]\n",
    "    if i < 7:\n",
    "        # try:\n",
    "        plot_spectra(\n",
    "            resultsss,\n",
    "            sources_to_use=[\"Diffuse\"],\n",
    "            include_extended=True,\n",
    "            ene_min=x_Min,\n",
    "            ene_max=x_Max,\n",
    "            num_ene=30,\n",
    "            energy_unit=\"TeV\",\n",
    "            flux_unit=f\"TeV/(s cm2)\", #*\n",
    "            subplot=ax,\n",
    "            plot_style_kwargs={\"label\":name, \"color\":my.red_palette[-(i+1)], \"scale\":1/dkf[i]} #\n",
    "            )\n",
    "        try:\n",
    "            data = my.Draw_spectrum_fromfile(subfolder+\"Spectrum_Diffuse.txt\", label=name, color=my.red_palette[-(i+1)], subplot=ax, scale=1/dkf[i])\n",
    "        except:\n",
    "            pass\n",
    "        # except Exception as e:\n",
    "        #     print(f\"Error: {e}\")\n",
    "        #     continue\n",
    "results=[gc,dk,de,den,dep,di,die,dien,diep, dkf]\n",
    "np.save(f\"../res/{region_name}/resultsall.npy\",results)\n",
    "from threeML.analysis_results import AnalysisResultsSet\n",
    "resultsall\n",
    "rrr = [it[0][0].results for it in resultsall]\n",
    "analysis_set = AnalysisResultsSet(rrr)\n",
    "\n",
    "ax.set_xlim(x_Min,x_Max)\n",
    "ax.set_ylim(y_Min,y_Max)\n",
    "ax.set_xscale('log')\n",
    "ax.set_yscale('log')\n",
    "ax.set_ylabel(r\"$E^2\\,dN/dE$ [TeV cm$^{-2}$ s$^{-1}$]\")\n",
    "ax.set_xlabel(\"Energy [TeV]\")\n",
    "ax.legend()\n",
    "plt.savefig(f\"../res/{region_name}/spectrum_band10-70.png\",dpi=300)\n",
    "plt.savefig(f\"../res/{region_name}/spectrum_band10-70.pdf\",dpi=300)"
   ]
  },
  {
   "cell_type": "code",
   "execution_count": 47,
   "metadata": {},
   "outputs": [
    {
     "data": {
      "image/png": "[encoded data removed]",
      "text/plain": [
       "<Figure size 1000x400 with 1 Axes>"
      ]
     },
     "metadata": {},
     "output_type": "display_data"
    }
   ],
   "source": [
    "plt.figure(figsize=(10,4)) #\n",
    "plt.plot(gc, np.array(dkf)) #np.array(den)*1e9, np.array(dep)*1e9 , fmt=\"o\"\n",
    "plt.yscale(\"log\")\n",
    "plt.title(\"Intensity of dust\")\n",
    "\n",
    "plt.ylabel(r\"Intensity of dust\")\n",
    "# plt.ylim(1e-7, 1e-4)\n",
    "plt.grid()\n",
    "plt.xlabel(r\"$GLON^{o}$\")\n",
    "plt.savefig(f\"../res/{region_name}/dust.png\",dpi=300)\n",
    "plt.savefig(f\"../res/{region_name}/dust.pdf\",dpi=300)"
   ]
  },
  {
   "cell_type": "code",
   "execution_count": 48,
   "metadata": {},
   "outputs": [
    {
     "data": {
      "image/png": "[encoded data removed]",
      "text/plain": [
       "<Figure size 1000x400 with 1 Axes>"
      ]
     },
     "metadata": {},
     "output_type": "display_data"
    }
   ],
   "source": [
    "plt.figure(figsize=(10,4)) #\n",
    "plt.scatter(gc, (np.array(de)*1e9)/(np.array(dk)*1e9), marker=\"o\") #np.array(den)*1e9, np.array(dep)*1e9\n",
    "# plt.yscale(\"log\")\n",
    "plt.title(\"relative error\")\n",
    "plt.ylim(0, 0.5)\n",
    "plt.ylabel(\"relative error\")\n",
    "plt.grid()\n",
    "plt.xlabel(r\"$GLON^{o}$\")\n",
    "plt.savefig(f\"../res/{region_name}/flux.png\",dpi=300)\n",
    "plt.savefig(f\"../res/{region_name}/flux.pdf\",dpi=300)"
   ]
  },
  {
   "cell_type": "code",
   "execution_count": 52,
   "metadata": {},
   "outputs": [
    {
     "data": {
      "image/png": "[encoded data removed]",
      "text/plain": [
       "<Figure size 1000x400 with 1 Axes>"
      ]
     },
     "metadata": {},
     "output_type": "display_data"
    }
   ],
   "source": [
    "plt.figure(figsize=(10,4)) #\n",
    "plt.errorbar(gc, np.array(dk)*1e9, [np.array(de)*1e9, np.array(de)*1e9], fmt=\"o\", capsize=3) #np.array(den)*1e9, np.array(dep)*1e9\n",
    "plt.yscale(\"log\")\n",
    "plt.title(\"Flux\")\n",
    "plt.ylim(1e-16, 1e-14)\n",
    "plt.ylabel(r\"$1/(TeV cm^{2} s)$\")\n",
    "plt.grid()\n",
    "plt.xlabel(r\"$GLON^{o}$\")\n",
    "plt.savefig(f\"../res/{region_name}/flux.png\",dpi=300)\n",
    "plt.savefig(f\"../res/{region_name}/flux.pdf\",dpi=300)"
   ]
  },
  {
   "cell_type": "code",
   "execution_count": 53,
   "metadata": {},
   "outputs": [
    {
     "data": {
      "image/png": "[encoded data removed]",
      "text/plain": [
       "<Figure size 1000x400 with 1 Axes>"
      ]
     },
     "metadata": {},
     "output_type": "display_data"
    }
   ],
   "source": [
    "plt.figure(figsize=(10,4)) #\n",
    "plt.errorbar(gc, np.array(dk)*1e9/np.array(dkf), [np.array(de)*1e9/np.array(dkf), np.array(de)*1e9/np.array(dkf)], fmt=\"o\", capsize=3) #np.array(den)*1e9, np.array(dep)*1e9\n",
    "plt.yscale(\"log\")\n",
    "plt.title(\"Flux\")\n",
    "plt.ylim(1e-15, 1e-13)\n",
    "plt.ylabel(r\"$1/(TeV cm^{2} s)$\")\n",
    "plt.grid()\n",
    "plt.xlabel(r\"$GLON^{o}$\")\n",
    "plt.savefig(f\"../res/{region_name}/flux_fullsky.png\",dpi=300)\n",
    "plt.savefig(f\"../res/{region_name}/flux_fullsky.pdf\",dpi=300)"
   ]
  },
  {
   "cell_type": "code",
   "execution_count": 51,
   "metadata": {},
   "outputs": [
    {
     "data": {
      "image/png": "[encoded data removed]",
      "text/plain": [
       "<Figure size 1000x400 with 1 Axes>"
      ]
     },
     "metadata": {},
     "output_type": "display_data"
    }
   ],
   "source": [
    "plt.figure(figsize=(10,4)) #\n",
    "plt.errorbar(gc, di, [die, die], fmt=\"o\", capsize=3) #dien, diep\n",
    "plt.ylim(-2,-4)\n",
    "plt.title(\"Index\")\n",
    "plt.ylabel(r\"$index$\")\n",
    "plt.xlabel(r\"$GLON^{o}$\")\n",
    "plt.grid()\n",
    "plt.savefig(f\"../res/{region_name}/index.png\",dpi=300)\n",
    "plt.savefig(f\"../res/{region_name}/index.pdf\",dpi=300)"
   ]
  },
  {
   "cell_type": "code",
   "execution_count": null,
   "metadata": {},
   "outputs": [],
   "source": []
  }
 ],
 "metadata": {
  "kernelspec": {
   "display_name": "3ML",
   "language": "python",
   "name": "python3"
  },
  "language_info": {
   "codemirror_mode": {
    "name": "ipython",
    "version": 3
   },
   "file_extension": ".py",
   "mimetype": "text/x-python",
   "name": "python",
   "nbconvert_exporter": "python",
   "pygments_lexer": "ipython3",
   "version": "3.9.15"
  }
 },
 "nbformat": 4,
 "nbformat_minor": 2
}
